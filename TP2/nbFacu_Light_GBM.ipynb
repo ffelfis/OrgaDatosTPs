{
  "nbformat": 4,
  "nbformat_minor": 0,
  "metadata": {
    "colab": {
      "name": "nbFacu_Light_GBM.ipynb",
      "provenance": [],
      "collapsed_sections": [],
      "authorship_tag": "ABX9TyMGzeT3qNk/H/CScXK+IVnW",
      "include_colab_link": true
    },
    "kernelspec": {
      "name": "python3",
      "display_name": "Python 3"
    },
    "language_info": {
      "name": "python"
    }
  },
  "cells": [
    {
      "cell_type": "markdown",
      "metadata": {
        "id": "view-in-github",
        "colab_type": "text"
      },
      "source": [
        "<a href=\"https://colab.research.google.com/github/ffelfis/OrgaDatosTPs/blob/main/TP2/nbFacu_Light_GBM.ipynb\" target=\"_parent\"><img src=\"https://colab.research.google.com/assets/colab-badge.svg\" alt=\"Open In Colab\"/></a>"
      ]
    },
    {
      "cell_type": "markdown",
      "metadata": {
        "id": "_DrbBu-tiSyC"
      },
      "source": [
        "# Lectura de datos de Google Drive"
      ]
    },
    {
      "cell_type": "code",
      "metadata": {
        "colab": {
          "base_uri": "https://localhost:8080/"
        },
        "id": "1F_f9l63h-ej",
        "outputId": "bf0a0ffb-2b32-4052-f1d8-3a6e4a4001d0"
      },
      "source": [
        "# Lectura de Dataset desde Google Drive\n",
        "from google.colab import drive\n",
        "drive.mount('/content/drive')"
      ],
      "execution_count": 1,
      "outputs": [
        {
          "output_type": "stream",
          "text": [
            "Mounted at /content/drive\n"
          ],
          "name": "stdout"
        }
      ]
    },
    {
      "cell_type": "markdown",
      "metadata": {
        "id": "phUPpKV5ie5n"
      },
      "source": [
        "# Carga de librerías"
      ]
    },
    {
      "cell_type": "code",
      "metadata": {
        "id": "jhFuDtsTifvX"
      },
      "source": [
        "import pandas as pd\n",
        "import numpy as np"
      ],
      "execution_count": 2,
      "outputs": []
    },
    {
      "cell_type": "markdown",
      "metadata": {
        "id": "0sINS71mixTT"
      },
      "source": [
        "# Rutas de los archivos a usar"
      ]
    },
    {
      "cell_type": "code",
      "metadata": {
        "id": "wCBPCSsUisx2"
      },
      "source": [
        "# Ruta train_values.csv\n",
        "dir_values = '/content/drive/My Drive/75.06 - Organización de Datos/TP1/Data/train_values.csv'\n",
        "\n",
        "# Ruta train_labels.csv\n",
        "dir_labels = '/content/drive/My Drive/75.06 - Organización de Datos/TP1/Data/train_labels.csv'\n",
        "\n",
        "# Ruta test_values.csv\n",
        "dir_test = '/content/drive/My Drive/75.06 - Organización de Datos/TP1/Data/test_values.csv'\n",
        "\n",
        "# Ruta submission_format.csv\n",
        "dir_sub_format = '/content/drive/My Drive/75.06 - Organización de Datos/TP1/Data/submission_format.csv'\n",
        "\n",
        "# Ruta de Binary Encodings para train_values.csv\n",
        "dir_Binary = '/content/drive/My Drive/75.06 - Organización de Datos/TP2/Binary Encodings'"
      ],
      "execution_count": 30,
      "outputs": []
    },
    {
      "cell_type": "markdown",
      "metadata": {
        "id": "U10d9Z3cjmEn"
      },
      "source": [
        "---\n",
        "#Entrenamiento\n",
        "---\n",
        "### Carga de train"
      ]
    },
    {
      "cell_type": "code",
      "metadata": {
        "id": "_GU7d7LENLcs"
      },
      "source": [
        "columnas = ['building_id',\n",
        " 'geo_level_1_id',\n",
        " 'geo_level_2_id',\n",
        " 'geo_level_3_id',\n",
        " 'count_floors_pre_eq',\n",
        " 'age',\n",
        " 'area_percentage',\n",
        " 'height_percentage',\n",
        " 'has_superstructure_adobe_mud',\n",
        " 'has_superstructure_mud_mortar_stone',\n",
        " 'has_superstructure_stone_flag',\n",
        " 'has_superstructure_cement_mortar_stone',\n",
        " 'has_superstructure_mud_mortar_brick',\n",
        " 'has_superstructure_cement_mortar_brick',\n",
        " 'has_superstructure_timber',\n",
        " 'has_superstructure_bamboo',\n",
        " 'has_superstructure_rc_non_engineered',\n",
        " 'has_superstructure_rc_engineered',\n",
        " 'has_superstructure_other',\n",
        " 'count_families',\n",
        " 'has_secondary_use',\n",
        " 'has_secondary_use_agriculture',\n",
        " 'has_secondary_use_hotel',\n",
        " 'has_secondary_use_rental',\n",
        " 'has_secondary_use_institution',\n",
        " 'has_secondary_use_school',\n",
        " 'has_secondary_use_industry',\n",
        " 'has_secondary_use_health_post',\n",
        " 'has_secondary_use_gov_office',\n",
        " 'has_secondary_use_use_police',\n",
        " 'has_secondary_use_other']"
      ],
      "execution_count": 4,
      "outputs": []
    },
    {
      "cell_type": "code",
      "metadata": {
        "id": "LqdaZmKvjqoc"
      },
      "source": [
        "# Carga de train_values.csv\n",
        "train = pd.read_csv(dir_values, usecols=columnas)\n",
        "# Carga de train_labels.csv\n",
        "labels = pd.read_csv(dir_labels)"
      ],
      "execution_count": 5,
      "outputs": []
    },
    {
      "cell_type": "markdown",
      "metadata": {
        "id": "Gllv83PimADJ"
      },
      "source": [
        "### Cambio de tipos de datos"
      ]
    },
    {
      "cell_type": "code",
      "metadata": {
        "colab": {
          "base_uri": "https://localhost:8080/"
        },
        "id": "BPu-AH1em2d7",
        "outputId": "9232a5c5-6547-4839-88cc-4e8a01dd2065"
      },
      "source": [
        "memoria = train.memory_usage(deep=True).sum()/(2**20)\n",
        "print('Se usan', np.round(memoria, 2), 'MiB')"
      ],
      "execution_count": 6,
      "outputs": [
        {
          "output_type": "stream",
          "text": [
            "Se usan 61.64 MiB\n"
          ],
          "name": "stdout"
        }
      ]
    },
    {
      "cell_type": "code",
      "metadata": {
        "id": "HrZAEMGAj-tJ"
      },
      "source": [
        "# Columnas numéricas\n",
        "train['building_id'] = train['building_id'].astype('int32')\n",
        "train['geo_level_1_id'] = train['geo_level_1_id'].astype('int8')\n",
        "train['geo_level_2_id'] = train['geo_level_2_id'].astype('int16')\n",
        "train['geo_level_3_id'] = train['geo_level_3_id'].astype('int16')\n",
        "train['count_floors_pre_eq'] = train['count_floors_pre_eq'].astype('int8')\n",
        "train['age'] = train['age'].astype('int16')\n",
        "train['area_percentage'] = train['area_percentage'].astype('int8')\n",
        "train['height_percentage'] = train['height_percentage'].astype('int8')\n",
        "train['count_families'] = train['count_families'].astype('int8')\n",
        "\n",
        "# Columnas Booleanas\n",
        "train['has_superstructure_adobe_mud'] = train['has_superstructure_adobe_mud'].astype('bool')\n",
        "train['has_superstructure_mud_mortar_stone'] = train['has_superstructure_mud_mortar_stone'].astype('bool')\n",
        "train['has_superstructure_stone_flag'] = train['has_superstructure_stone_flag'].astype('bool')\n",
        "train['has_superstructure_cement_mortar_stone'] = train['has_superstructure_cement_mortar_stone'].astype('bool')\n",
        "train['has_superstructure_mud_mortar_brick'] = train['has_superstructure_mud_mortar_brick'].astype('bool')\n",
        "train['has_superstructure_cement_mortar_brick'] = train['has_superstructure_cement_mortar_brick'].astype('bool')\n",
        "train['has_superstructure_timber'] = train['has_superstructure_timber'].astype('bool')\n",
        "train['has_superstructure_bamboo'] = train['has_superstructure_bamboo'].astype('bool')\n",
        "train['has_superstructure_rc_non_engineered'] = train['has_superstructure_rc_non_engineered'].astype('bool')\n",
        "train['has_superstructure_rc_engineered'] = train['has_superstructure_rc_engineered'].astype('bool')\n",
        "train['has_superstructure_other'] = train['has_superstructure_other'].astype('bool')\n",
        "train['has_secondary_use'] = train['has_secondary_use'].astype('bool')\n",
        "train['has_secondary_use_agriculture'] = train['has_secondary_use_agriculture'].astype('bool')\n",
        "train['has_secondary_use_hotel'] = train['has_secondary_use_hotel'].astype('bool')\n",
        "train['has_secondary_use_rental'] = train['has_secondary_use_rental'].astype('bool')\n",
        "train['has_secondary_use_institution'] = train['has_secondary_use_institution'].astype('bool')\n",
        "train['has_secondary_use_school'] = train['has_secondary_use_school'].astype('bool')\n",
        "train['has_secondary_use_industry'] = train['has_secondary_use_industry'].astype('bool')\n",
        "train['has_secondary_use_health_post'] = train['has_secondary_use_health_post'].astype('bool')\n",
        "train['has_secondary_use_gov_office'] = train['has_secondary_use_gov_office'].astype('bool')\n",
        "train['has_secondary_use_use_police'] = train['has_secondary_use_use_police'].astype('bool')\n",
        "train['has_secondary_use_other'] = train['has_secondary_use_other'].astype('bool')"
      ],
      "execution_count": 7,
      "outputs": []
    },
    {
      "cell_type": "code",
      "metadata": {
        "colab": {
          "base_uri": "https://localhost:8080/"
        },
        "id": "MrEzYw_qm6-x",
        "outputId": "7d42fea0-6a48-4fca-9d9b-4aa897966dcb"
      },
      "source": [
        "memoria = train.memory_usage(deep=True).sum()/(2**20)\n",
        "print('Se usan', np.round(memoria, 2), 'MiB')"
      ],
      "execution_count": 8,
      "outputs": [
        {
          "output_type": "stream",
          "text": [
            "Se usan 9.2 MiB\n"
          ],
          "name": "stdout"
        }
      ]
    },
    {
      "cell_type": "markdown",
      "metadata": {
        "id": "cEOYhxbpbfaN"
      },
      "source": [
        "### Carga de columnas codificadas: Binary Encoding"
      ]
    },
    {
      "cell_type": "code",
      "metadata": {
        "id": "-i_00Z0Cbmyb"
      },
      "source": [
        "# 28 columnas\n",
        "encodings = pd.read_csv(dir_Binary+f'/BE_train.csv', dtype='uint8')\n",
        "train = train.join(encodings)"
      ],
      "execution_count": 9,
      "outputs": []
    },
    {
      "cell_type": "code",
      "metadata": {
        "colab": {
          "base_uri": "https://localhost:8080/"
        },
        "id": "flrG_DfUk9ps",
        "outputId": "b0108c96-a93d-4269-c78e-a2624769dc87"
      },
      "source": [
        "memoria = train.memory_usage(deep=True).sum()/(2**20)\n",
        "print('Se usan', np.round(memoria, 2), 'MiB')"
      ],
      "execution_count": 10,
      "outputs": [
        {
          "output_type": "stream",
          "text": [
            "Se usan 16.15 MiB\n"
          ],
          "name": "stdout"
        }
      ]
    },
    {
      "cell_type": "markdown",
      "metadata": {
        "id": "uYCZwTE_nGLY"
      },
      "source": [
        "### Labels"
      ]
    },
    {
      "cell_type": "code",
      "metadata": {
        "colab": {
          "base_uri": "https://localhost:8080/"
        },
        "id": "Qf0_Ph8MnHhO",
        "outputId": "2dd046c3-c05d-4f6b-85bb-dcd882dd3250"
      },
      "source": [
        "memoria = labels.memory_usage(deep=True).sum()/(2**20)\n",
        "print('Se usan', np.round(memoria, 2), 'MiB')"
      ],
      "execution_count": 11,
      "outputs": [
        {
          "output_type": "stream",
          "text": [
            "Se usan 3.98 MiB\n"
          ],
          "name": "stdout"
        }
      ]
    },
    {
      "cell_type": "code",
      "metadata": {
        "id": "Z_Wi74GwnLei"
      },
      "source": [
        "labels['building_id'] = labels['building_id'].astype('int32')\n",
        "labels['damage_grade'] = labels['damage_grade'].astype('int8')"
      ],
      "execution_count": 12,
      "outputs": []
    },
    {
      "cell_type": "code",
      "metadata": {
        "colab": {
          "base_uri": "https://localhost:8080/"
        },
        "id": "CPaCq75Tnx7c",
        "outputId": "fba9234f-192a-45c4-e042-6927328a5277"
      },
      "source": [
        "memoria = labels.memory_usage(deep=True).sum()/(2**20)\n",
        "print('Se usan', np.round(memoria, 2), 'MiB')"
      ],
      "execution_count": 13,
      "outputs": [
        {
          "output_type": "stream",
          "text": [
            "Se usan 1.24 MiB\n"
          ],
          "name": "stdout"
        }
      ]
    },
    {
      "cell_type": "markdown",
      "metadata": {
        "id": "Q32c1zegTVR2"
      },
      "source": [
        "Así el set de datos es `train` y los labels están en `labels`.\n",
        "\n"
      ]
    },
    {
      "cell_type": "markdown",
      "metadata": {
        "id": "n-joq2vtvpBR"
      },
      "source": [
        "# Modelo Light GBM"
      ]
    },
    {
      "cell_type": "code",
      "metadata": {
        "id": "1vMXTsfVvxPS"
      },
      "source": [
        "# Modelo\n",
        "import lightgbm\n",
        "# Para dividir el set de entrenamiento\n",
        "from sklearn.model_selection import train_test_split"
      ],
      "execution_count": 14,
      "outputs": []
    },
    {
      "cell_type": "markdown",
      "metadata": {
        "id": "wBbkxewYv_ol"
      },
      "source": [
        "### División de datos para entrenamiento y objetivo"
      ]
    },
    {
      "cell_type": "code",
      "metadata": {
        "colab": {
          "base_uri": "https://localhost:8080/"
        },
        "id": "BJdn1wRawFUs",
        "outputId": "68f9942e-2df2-48e4-a498-99917c4156f8"
      },
      "source": [
        "# Set de entrenamiento\n",
        "X = train\n",
        "# Labels -- solo la columna de labels\n",
        "y = labels['damage_grade']\n",
        "\n",
        "X_train, X_test, y_train, y_test = train_test_split(X, y, random_state=42)\n",
        "print('X_train.shape\\t', X_train.shape, '\\ty_train.shape\\t', y_train.shape)\n",
        "print('X_test.shape\\t', X_test.shape, '\\ty_test.shape\\t', y_test.shape)"
      ],
      "execution_count": 15,
      "outputs": [
        {
          "output_type": "stream",
          "text": [
            "X_train.shape\t (195450, 59) \ty_train.shape\t (195450,)\n",
            "X_test.shape\t (65151, 59) \ty_test.shape\t (65151,)\n"
          ],
          "name": "stdout"
        }
      ]
    },
    {
      "cell_type": "markdown",
      "metadata": {
        "id": "gRN5HBg5wwI5"
      },
      "source": [
        "### Preparación de Datasets\n",
        "LightGBM necesita leer los datos desde un obejo Dataset especial. Esto se proporciona mediante la función `Dataset()`."
      ]
    },
    {
      "cell_type": "code",
      "metadata": {
        "id": "zIRxcTqswyAu"
      },
      "source": [
        "'''train_data = lightgbm.Dataset(X_train, label=y_train)\n",
        "test_data = lightgbm.Dataset(X_test, label=y_test)'''"
      ],
      "execution_count": null,
      "outputs": []
    },
    {
      "cell_type": "markdown",
      "metadata": {
        "id": "bVqCe9FkPWIe"
      },
      "source": [
        "Párametros de Light GBM"
      ]
    },
    {
      "cell_type": "code",
      "metadata": {
        "id": "PLYaPXRET6Ua"
      },
      "source": [
        "'''parameters = {\n",
        "    'learning_rate' : 0.05\n",
        "}'''"
      ],
      "execution_count": null,
      "outputs": []
    },
    {
      "cell_type": "markdown",
      "metadata": {
        "id": "k40kdW6iVJhb"
      },
      "source": [
        "### Instancia de modelo"
      ]
    },
    {
      "cell_type": "code",
      "metadata": {
        "id": "Lar1C4sbVIe5"
      },
      "source": [
        "lgbm = lightgbm.LGBMClassifier(learning_rate=0.3, n_estimators=600)"
      ],
      "execution_count": 16,
      "outputs": []
    },
    {
      "cell_type": "markdown",
      "metadata": {
        "id": "yILLqd378lcY"
      },
      "source": [
        "### Entrenamiento"
      ]
    },
    {
      "cell_type": "code",
      "metadata": {
        "colab": {
          "base_uri": "https://localhost:8080/"
        },
        "id": "kOyfwgXNOQRE",
        "outputId": "0ec4f183-4c54-466a-e100-09d0055d5b7c"
      },
      "source": [
        "lgbm.fit(X_train, y_train)"
      ],
      "execution_count": 17,
      "outputs": [
        {
          "output_type": "execute_result",
          "data": {
            "text/plain": [
              "LGBMClassifier(boosting_type='gbdt', class_weight=None, colsample_bytree=1.0,\n",
              "               importance_type='split', learning_rate=0.3, max_depth=-1,\n",
              "               min_child_samples=20, min_child_weight=0.001, min_split_gain=0.0,\n",
              "               n_estimators=600, n_jobs=-1, num_leaves=31, objective=None,\n",
              "               random_state=None, reg_alpha=0.0, reg_lambda=0.0, silent=True,\n",
              "               subsample=1.0, subsample_for_bin=200000, subsample_freq=0)"
            ]
          },
          "metadata": {
            "tags": []
          },
          "execution_count": 17
        }
      ]
    },
    {
      "cell_type": "markdown",
      "metadata": {
        "id": "0SiT5bR5aCfg"
      },
      "source": [
        "### Train validation & Test validation"
      ]
    },
    {
      "cell_type": "code",
      "metadata": {
        "id": "FifDm5qjR4sz"
      },
      "source": [
        "# Métrica de evaluación del modelo\n",
        "from sklearn.metrics import accuracy_score"
      ],
      "execution_count": 18,
      "outputs": []
    },
    {
      "cell_type": "code",
      "metadata": {
        "id": "YbIeVUr7Zurr"
      },
      "source": [
        "train_val = lgbm.predict(X_train)\n",
        "test_val = lgbm.predict(X_test)"
      ],
      "execution_count": 19,
      "outputs": []
    },
    {
      "cell_type": "code",
      "metadata": {
        "colab": {
          "base_uri": "https://localhost:8080/"
        },
        "id": "oB-cmheYRev3",
        "outputId": "ac6142c5-581d-4c1e-dffe-1f4c200b6a2d"
      },
      "source": [
        "print('Train validation, predicción', np.round(accuracy_score(y_train, train_val),4))\n",
        "print('Test validation, predicción', np.round(accuracy_score(y_test, test_val),4))"
      ],
      "execution_count": 20,
      "outputs": [
        {
          "output_type": "stream",
          "text": [
            "Train validation, predicción 0.8169\n",
            "Test validation, predicción 0.736\n"
          ],
          "name": "stdout"
        }
      ]
    },
    {
      "cell_type": "markdown",
      "metadata": {
        "id": "ynCh7VhdSfRf"
      },
      "source": [
        "# Evaluación del predictor"
      ]
    },
    {
      "cell_type": "code",
      "metadata": {
        "id": "EFqJIe6hSxEN"
      },
      "source": [
        "# Para validar\n",
        "from sklearn.model_selection import KFold\n",
        "# Para ver progreso inline: limpia la celda en cada iteración\n",
        "from IPython.display import clear_output"
      ],
      "execution_count": 21,
      "outputs": []
    },
    {
      "cell_type": "markdown",
      "metadata": {
        "id": "9mcrcOAbFfu0"
      },
      "source": [
        "## Instancias\n",
        "`train` está dividido en `X_train`, `y_train`, `X_test` y `y_test`, con `random_state = 42`."
      ]
    },
    {
      "cell_type": "code",
      "metadata": {
        "id": "TsSQscfaTC3i"
      },
      "source": [
        "# n_splits\n",
        "splits = 10\n",
        "# Instancia para KFold\n",
        "kf = KFold(n_splits=splits)\n",
        "\n",
        "# Listas para guardar los puntajes y errores de la evaluación\n",
        "train_score = []\n",
        "test_score = []"
      ],
      "execution_count": 22,
      "outputs": []
    },
    {
      "cell_type": "code",
      "metadata": {
        "id": "lVoU_h5iTJJP",
        "colab": {
          "base_uri": "https://localhost:8080/"
        },
        "outputId": "5f57c801-cfe2-47d9-b373-f0bd2997e277"
      },
      "source": [
        "%%time\n",
        "i = 1\n",
        "\n",
        "for train_index, test_index in kf.split(train) :\n",
        "    clear_output(wait=True)\n",
        "    X_train, X_test = X.iloc[train_index], X.iloc[test_index]\n",
        "    y_train, y_test = y.iloc[train_index], y.iloc[test_index]\n",
        "    \n",
        "    print('Entrenando fold', i)\n",
        "    lgbm.fit(X_train, y_train)\n",
        "\n",
        "    prediction_train = lgbm.predict(X_train)\n",
        "    prediction_test = lgbm.predict(X_test)\n",
        "\n",
        "    train_score.append(accuracy_score(y_train, prediction_train))\n",
        "    test_score.append(accuracy_score(y_test, prediction_test))\n",
        "\n",
        "    i = i + 1"
      ],
      "execution_count": 23,
      "outputs": [
        {
          "output_type": "stream",
          "text": [
            "Entrenando fold 10\n",
            "CPU times: user 22min 15s, sys: 5.2 s, total: 22min 20s\n",
            "Wall time: 11min 28s\n"
          ],
          "name": "stdout"
        }
      ]
    },
    {
      "cell_type": "code",
      "metadata": {
        "id": "oyd84d5ZTdbG",
        "colab": {
          "base_uri": "https://localhost:8080/"
        },
        "outputId": "60c6b755-d851-4da0-cdfa-ad8c365f882b"
      },
      "source": [
        "array_train_score = np.array(train_score)\n",
        "array_test_score = np.array(test_score)\n",
        "\n",
        "print('Promedio precision', array_train_score.mean().round(4), \\\n",
        "      '\\tcon desvío estándar de', array_train_score.std().round(4))\n",
        "print('Promedio precision', array_test_score.mean().round(4), \\\n",
        "      '\\tcon desvío estándar de', array_test_score.std().round(4))"
      ],
      "execution_count": 24,
      "outputs": [
        {
          "output_type": "stream",
          "text": [
            "Promedio precision 0.8076 \tcon desvío estándar de 0.0005\n",
            "Promedio precision 0.7392 \tcon desvío estándar de 0.003\n"
          ],
          "name": "stdout"
        }
      ]
    },
    {
      "cell_type": "markdown",
      "metadata": {
        "id": "rxpmaYhOIGvu"
      },
      "source": [
        "---\n",
        "# Predicción del Test\n",
        "---\n",
        "### Carga Test set"
      ]
    },
    {
      "cell_type": "code",
      "metadata": {
        "id": "IVoObSV5ILg0"
      },
      "source": [
        "test = pd.read_csv(dir_test, usecols=columnas)"
      ],
      "execution_count": 25,
      "outputs": []
    },
    {
      "cell_type": "markdown",
      "metadata": {
        "id": "4g3Zm7Nu2B-Z"
      },
      "source": [
        "### Cambio de tipos de datos"
      ]
    },
    {
      "cell_type": "code",
      "metadata": {
        "id": "zNMAor8H2B-c",
        "colab": {
          "base_uri": "https://localhost:8080/"
        },
        "outputId": "6f09487b-f6dd-49c3-e2a5-d6cc0e102ead"
      },
      "source": [
        "memoria = test.memory_usage(deep=True).sum()/(2**20)\n",
        "print('Se usan', np.round(memoria, 2), 'MiB')"
      ],
      "execution_count": 26,
      "outputs": [
        {
          "output_type": "stream",
          "text": [
            "Se usan 20.55 MiB\n"
          ],
          "name": "stdout"
        }
      ]
    },
    {
      "cell_type": "code",
      "metadata": {
        "id": "0og4Qk9S2B-f"
      },
      "source": [
        "# Columnas numéricas\n",
        "test['building_id'] = test['building_id'].astype('int32')\n",
        "test['geo_level_1_id'] = test['geo_level_1_id'].astype('int8')\n",
        "test['geo_level_2_id'] = test['geo_level_2_id'].astype('int16')\n",
        "test['geo_level_3_id'] = test['geo_level_3_id'].astype('int16')\n",
        "test['count_floors_pre_eq'] = test['count_floors_pre_eq'].astype('int8')\n",
        "test['age'] = test['age'].astype('int16')\n",
        "test['area_percentage'] = test['area_percentage'].astype('int8')\n",
        "test['height_percentage'] = test['height_percentage'].astype('int8')\n",
        "test['count_families'] = test['count_families'].astype('int8')\n",
        "\n",
        "# Columnas Booleanas\n",
        "test['has_superstructure_adobe_mud'] = test['has_superstructure_adobe_mud'].astype('bool')\n",
        "test['has_superstructure_mud_mortar_stone'] = test['has_superstructure_mud_mortar_stone'].astype('bool')\n",
        "test['has_superstructure_stone_flag'] = test['has_superstructure_stone_flag'].astype('bool')\n",
        "test['has_superstructure_cement_mortar_stone'] = test['has_superstructure_cement_mortar_stone'].astype('bool')\n",
        "test['has_superstructure_mud_mortar_brick'] = test['has_superstructure_mud_mortar_brick'].astype('bool')\n",
        "test['has_superstructure_cement_mortar_brick'] = test['has_superstructure_cement_mortar_brick'].astype('bool')\n",
        "test['has_superstructure_timber'] = test['has_superstructure_timber'].astype('bool')\n",
        "test['has_superstructure_bamboo'] = test['has_superstructure_bamboo'].astype('bool')\n",
        "test['has_superstructure_rc_non_engineered'] = test['has_superstructure_rc_non_engineered'].astype('bool')\n",
        "test['has_superstructure_rc_engineered'] = test['has_superstructure_rc_engineered'].astype('bool')\n",
        "test['has_superstructure_other'] = test['has_superstructure_other'].astype('bool')\n",
        "test['has_secondary_use'] = test['has_secondary_use'].astype('bool')\n",
        "test['has_secondary_use_agriculture'] = test['has_secondary_use_agriculture'].astype('bool')\n",
        "test['has_secondary_use_hotel'] = test['has_secondary_use_hotel'].astype('bool')\n",
        "test['has_secondary_use_rental'] = test['has_secondary_use_rental'].astype('bool')\n",
        "test['has_secondary_use_institution'] = test['has_secondary_use_institution'].astype('bool')\n",
        "test['has_secondary_use_school'] = test['has_secondary_use_school'].astype('bool')\n",
        "test['has_secondary_use_industry'] = test['has_secondary_use_industry'].astype('bool')\n",
        "test['has_secondary_use_health_post'] = test['has_secondary_use_health_post'].astype('bool')\n",
        "test['has_secondary_use_gov_office'] = test['has_secondary_use_gov_office'].astype('bool')\n",
        "test['has_secondary_use_use_police'] = test['has_secondary_use_use_police'].astype('bool')\n",
        "test['has_secondary_use_other'] = test['has_secondary_use_other'].astype('bool')"
      ],
      "execution_count": 27,
      "outputs": []
    },
    {
      "cell_type": "code",
      "metadata": {
        "id": "KX8eQTzM2B-j",
        "colab": {
          "base_uri": "https://localhost:8080/"
        },
        "outputId": "35f3ae16-733f-48f7-80bf-8e90a618453c"
      },
      "source": [
        "memoria = test.memory_usage(deep=True).sum()/(2**20)\n",
        "print('Se usan', np.round(memoria, 2), 'MiB')"
      ],
      "execution_count": 28,
      "outputs": [
        {
          "output_type": "stream",
          "text": [
            "Se usan 3.07 MiB\n"
          ],
          "name": "stdout"
        }
      ]
    },
    {
      "cell_type": "markdown",
      "metadata": {
        "id": "vecBAW5n2B-k"
      },
      "source": [
        "### Carga de columnas codificadas: Binary Encoding"
      ]
    },
    {
      "cell_type": "code",
      "metadata": {
        "id": "CoH8N1Vh2B-l"
      },
      "source": [
        "# 28 columnas\n",
        "encodings = pd.read_csv(dir_Binary+f'/BE_test.csv', dtype='uint8')\n",
        "test = test.join(encodings)"
      ],
      "execution_count": 31,
      "outputs": []
    },
    {
      "cell_type": "code",
      "metadata": {
        "id": "2sE5o6af2B-t",
        "colab": {
          "base_uri": "https://localhost:8080/"
        },
        "outputId": "fcc20633-8dfd-4ffb-ad2b-86eb0a1096f2"
      },
      "source": [
        "memoria = test.memory_usage(deep=True).sum()/(2**20)\n",
        "print('Se usan', np.round(memoria, 2), 'MiB')"
      ],
      "execution_count": 32,
      "outputs": [
        {
          "output_type": "stream",
          "text": [
            "Se usan 5.38 MiB\n"
          ],
          "name": "stdout"
        }
      ]
    },
    {
      "cell_type": "markdown",
      "metadata": {
        "id": "MFzbAwZq6adA"
      },
      "source": [
        "## Preparación de la predicción"
      ]
    },
    {
      "cell_type": "code",
      "metadata": {
        "id": "5CC183zh6NPz"
      },
      "source": [
        "# Instancia para predictor de Random Forest\n",
        "lgbm = lightgbm.LGBMClassifier(learning_rate=0.3, n_estimators=600)"
      ],
      "execution_count": 33,
      "outputs": []
    },
    {
      "cell_type": "code",
      "metadata": {
        "id": "yQpqWac76hLt",
        "colab": {
          "base_uri": "https://localhost:8080/"
        },
        "outputId": "56657553-1e00-4d23-9dbd-b1b220b88d97"
      },
      "source": [
        "%%time\n",
        "lgbm.fit(X, y)"
      ],
      "execution_count": null,
      "outputs": [
        {
          "output_type": "stream",
          "text": [
            "CPU times: user 2min 1s, sys: 533 ms, total: 2min 2s\n",
            "Wall time: 1min 2s\n"
          ],
          "name": "stdout"
        },
        {
          "output_type": "execute_result",
          "data": {
            "text/plain": [
              "LGBMClassifier(boosting_type='gbdt', class_weight=None, colsample_bytree=1.0,\n",
              "               importance_type='split', learning_rate=0.2, max_depth=-1,\n",
              "               min_child_samples=20, min_child_weight=0.001, min_split_gain=0.0,\n",
              "               n_estimators=600, n_jobs=-1, num_leaves=31, objective=None,\n",
              "               random_state=None, reg_alpha=0.0, reg_lambda=0.0, silent=True,\n",
              "               subsample=1.0, subsample_for_bin=200000, subsample_freq=0)"
            ]
          },
          "metadata": {
            "tags": []
          },
          "execution_count": 71
        }
      ]
    },
    {
      "cell_type": "markdown",
      "metadata": {
        "id": "mBPRO-9m7wTU"
      },
      "source": [
        "### Predicción"
      ]
    },
    {
      "cell_type": "code",
      "metadata": {
        "id": "z7-m-Jo17yS6"
      },
      "source": [
        "prediction = lgbm.predict(test)"
      ],
      "execution_count": null,
      "outputs": []
    },
    {
      "cell_type": "code",
      "metadata": {
        "id": "ZV_6NAxH780y",
        "colab": {
          "base_uri": "https://localhost:8080/"
        },
        "outputId": "8ba5871a-e023-45c4-db1a-05e7c3f2ada9"
      },
      "source": [
        "prediction"
      ],
      "execution_count": null,
      "outputs": [
        {
          "output_type": "execute_result",
          "data": {
            "text/plain": [
              "array([3, 2, 2, ..., 2, 2, 2], dtype=int8)"
            ]
          },
          "metadata": {
            "tags": []
          },
          "execution_count": 73
        }
      ]
    },
    {
      "cell_type": "markdown",
      "metadata": {
        "id": "V2HlbG3f9AQS"
      },
      "source": [
        "### Submission"
      ]
    },
    {
      "cell_type": "markdown",
      "metadata": {
        "id": "rOHcHp1ngjR2"
      },
      "source": [
        "El ejemplo dado tiene los mismos `id_buildings` en el orden del Test set. Solo resta reemplazar la columna `damage_grade` con las predicciones nuevas."
      ]
    },
    {
      "cell_type": "code",
      "metadata": {
        "id": "M9pBdOc39B8z"
      },
      "source": [
        "sub_example = pd.read_csv(dir_sub_format)"
      ],
      "execution_count": null,
      "outputs": []
    },
    {
      "cell_type": "code",
      "metadata": {
        "colab": {
          "base_uri": "https://localhost:8080/",
          "height": 424
        },
        "id": "LFgibSpEhDz6",
        "outputId": "102638e9-cedb-41ae-bb8f-e8ab07e94afd"
      },
      "source": [
        "sub_example"
      ],
      "execution_count": null,
      "outputs": [
        {
          "output_type": "execute_result",
          "data": {
            "text/html": [
              "<div>\n",
              "<style scoped>\n",
              "    .dataframe tbody tr th:only-of-type {\n",
              "        vertical-align: middle;\n",
              "    }\n",
              "\n",
              "    .dataframe tbody tr th {\n",
              "        vertical-align: top;\n",
              "    }\n",
              "\n",
              "    .dataframe thead th {\n",
              "        text-align: right;\n",
              "    }\n",
              "</style>\n",
              "<table border=\"1\" class=\"dataframe\">\n",
              "  <thead>\n",
              "    <tr style=\"text-align: right;\">\n",
              "      <th></th>\n",
              "      <th>building_id</th>\n",
              "      <th>damage_grade</th>\n",
              "    </tr>\n",
              "  </thead>\n",
              "  <tbody>\n",
              "    <tr>\n",
              "      <th>0</th>\n",
              "      <td>300051</td>\n",
              "      <td>1</td>\n",
              "    </tr>\n",
              "    <tr>\n",
              "      <th>1</th>\n",
              "      <td>99355</td>\n",
              "      <td>1</td>\n",
              "    </tr>\n",
              "    <tr>\n",
              "      <th>2</th>\n",
              "      <td>890251</td>\n",
              "      <td>1</td>\n",
              "    </tr>\n",
              "    <tr>\n",
              "      <th>3</th>\n",
              "      <td>745817</td>\n",
              "      <td>1</td>\n",
              "    </tr>\n",
              "    <tr>\n",
              "      <th>4</th>\n",
              "      <td>421793</td>\n",
              "      <td>1</td>\n",
              "    </tr>\n",
              "    <tr>\n",
              "      <th>...</th>\n",
              "      <td>...</td>\n",
              "      <td>...</td>\n",
              "    </tr>\n",
              "    <tr>\n",
              "      <th>86863</th>\n",
              "      <td>310028</td>\n",
              "      <td>1</td>\n",
              "    </tr>\n",
              "    <tr>\n",
              "      <th>86864</th>\n",
              "      <td>663567</td>\n",
              "      <td>1</td>\n",
              "    </tr>\n",
              "    <tr>\n",
              "      <th>86865</th>\n",
              "      <td>1049160</td>\n",
              "      <td>1</td>\n",
              "    </tr>\n",
              "    <tr>\n",
              "      <th>86866</th>\n",
              "      <td>442785</td>\n",
              "      <td>1</td>\n",
              "    </tr>\n",
              "    <tr>\n",
              "      <th>86867</th>\n",
              "      <td>501372</td>\n",
              "      <td>1</td>\n",
              "    </tr>\n",
              "  </tbody>\n",
              "</table>\n",
              "<p>86868 rows × 2 columns</p>\n",
              "</div>"
            ],
            "text/plain": [
              "       building_id  damage_grade\n",
              "0           300051             1\n",
              "1            99355             1\n",
              "2           890251             1\n",
              "3           745817             1\n",
              "4           421793             1\n",
              "...            ...           ...\n",
              "86863       310028             1\n",
              "86864       663567             1\n",
              "86865      1049160             1\n",
              "86866       442785             1\n",
              "86867       501372             1\n",
              "\n",
              "[86868 rows x 2 columns]"
            ]
          },
          "metadata": {
            "tags": []
          },
          "execution_count": 75
        }
      ]
    },
    {
      "cell_type": "code",
      "metadata": {
        "id": "XqcJhyZ38RYr"
      },
      "source": [
        "sub_example['damage_grade'] = prediction"
      ],
      "execution_count": null,
      "outputs": []
    },
    {
      "cell_type": "code",
      "metadata": {
        "id": "8JOYRZcATFdk"
      },
      "source": [
        "# Nombre de submission\n",
        "file_name = 'submission02.csv'"
      ],
      "execution_count": null,
      "outputs": []
    },
    {
      "cell_type": "code",
      "metadata": {
        "id": "VRuTbcA7-V1t"
      },
      "source": [
        "sub_example.to_csv(file_name, index=False)"
      ],
      "execution_count": null,
      "outputs": []
    },
    {
      "cell_type": "code",
      "metadata": {
        "id": "A3hK1S3M-9QX"
      },
      "source": [
        "aux = pd.read_csv('submission02.csv')"
      ],
      "execution_count": null,
      "outputs": []
    },
    {
      "cell_type": "code",
      "metadata": {
        "id": "nd76WysQ_Cgb",
        "colab": {
          "base_uri": "https://localhost:8080/",
          "height": 424
        },
        "outputId": "fcbce483-eb85-4ff5-81cc-fa2a46245176"
      },
      "source": [
        "aux"
      ],
      "execution_count": null,
      "outputs": [
        {
          "output_type": "execute_result",
          "data": {
            "text/html": [
              "<div>\n",
              "<style scoped>\n",
              "    .dataframe tbody tr th:only-of-type {\n",
              "        vertical-align: middle;\n",
              "    }\n",
              "\n",
              "    .dataframe tbody tr th {\n",
              "        vertical-align: top;\n",
              "    }\n",
              "\n",
              "    .dataframe thead th {\n",
              "        text-align: right;\n",
              "    }\n",
              "</style>\n",
              "<table border=\"1\" class=\"dataframe\">\n",
              "  <thead>\n",
              "    <tr style=\"text-align: right;\">\n",
              "      <th></th>\n",
              "      <th>building_id</th>\n",
              "      <th>damage_grade</th>\n",
              "    </tr>\n",
              "  </thead>\n",
              "  <tbody>\n",
              "    <tr>\n",
              "      <th>0</th>\n",
              "      <td>300051</td>\n",
              "      <td>3</td>\n",
              "    </tr>\n",
              "    <tr>\n",
              "      <th>1</th>\n",
              "      <td>99355</td>\n",
              "      <td>2</td>\n",
              "    </tr>\n",
              "    <tr>\n",
              "      <th>2</th>\n",
              "      <td>890251</td>\n",
              "      <td>2</td>\n",
              "    </tr>\n",
              "    <tr>\n",
              "      <th>3</th>\n",
              "      <td>745817</td>\n",
              "      <td>1</td>\n",
              "    </tr>\n",
              "    <tr>\n",
              "      <th>4</th>\n",
              "      <td>421793</td>\n",
              "      <td>3</td>\n",
              "    </tr>\n",
              "    <tr>\n",
              "      <th>...</th>\n",
              "      <td>...</td>\n",
              "      <td>...</td>\n",
              "    </tr>\n",
              "    <tr>\n",
              "      <th>86863</th>\n",
              "      <td>310028</td>\n",
              "      <td>2</td>\n",
              "    </tr>\n",
              "    <tr>\n",
              "      <th>86864</th>\n",
              "      <td>663567</td>\n",
              "      <td>2</td>\n",
              "    </tr>\n",
              "    <tr>\n",
              "      <th>86865</th>\n",
              "      <td>1049160</td>\n",
              "      <td>2</td>\n",
              "    </tr>\n",
              "    <tr>\n",
              "      <th>86866</th>\n",
              "      <td>442785</td>\n",
              "      <td>2</td>\n",
              "    </tr>\n",
              "    <tr>\n",
              "      <th>86867</th>\n",
              "      <td>501372</td>\n",
              "      <td>2</td>\n",
              "    </tr>\n",
              "  </tbody>\n",
              "</table>\n",
              "<p>86868 rows × 2 columns</p>\n",
              "</div>"
            ],
            "text/plain": [
              "       building_id  damage_grade\n",
              "0           300051             3\n",
              "1            99355             2\n",
              "2           890251             2\n",
              "3           745817             1\n",
              "4           421793             3\n",
              "...            ...           ...\n",
              "86863       310028             2\n",
              "86864       663567             2\n",
              "86865      1049160             2\n",
              "86866       442785             2\n",
              "86867       501372             2\n",
              "\n",
              "[86868 rows x 2 columns]"
            ]
          },
          "metadata": {
            "tags": []
          },
          "execution_count": 86
        }
      ]
    },
    {
      "cell_type": "markdown",
      "metadata": {
        "id": "eeJtwXi2Vg2c"
      },
      "source": [
        "# Predicciones durante entrenamiento\n",
        "Se usa la etapa de folding para extraer predicciones."
      ]
    },
    {
      "cell_type": "code",
      "metadata": {
        "id": "SdHboX6tCmQf"
      },
      "source": [
        "import pickle"
      ],
      "execution_count": 35,
      "outputs": []
    },
    {
      "cell_type": "markdown",
      "metadata": {
        "id": "3p123sbEMm8v"
      },
      "source": [
        "### 10-Fold"
      ]
    },
    {
      "cell_type": "code",
      "metadata": {
        "id": "jFyhl11tVtcw"
      },
      "source": [
        "# n_splits\n",
        "splits = 10\n",
        "# Instancia para KFold\n",
        "kf = KFold(n_splits=splits)\n",
        "\n",
        "# Listas para guardar los puntajes y errores de la evaluación\n",
        "train_score_a = []\n",
        "test_score_a = []\n",
        "\n",
        "# Dataframe con predicciones\n",
        "predictions_train = pd.DataFrame()\n",
        "predictions_test = pd.DataFrame()\n",
        "\n",
        "# Instancia para predictor de Random Forest\n",
        "lgbm = lightgbm.LGBMClassifier(learning_rate=0.3, n_estimators=600)"
      ],
      "execution_count": 56,
      "outputs": []
    },
    {
      "cell_type": "code",
      "metadata": {
        "colab": {
          "base_uri": "https://localhost:8080/"
        },
        "id": "07OZuFs7VkqE",
        "outputId": "fb3a7ef6-f2fc-42d3-9dc7-2f01f60a288f"
      },
      "source": [
        "%%time\n",
        "i = 1\n",
        "\n",
        "for train_index, test_index in kf.split(train) :\n",
        "    clear_output(wait=True)\n",
        "    X_train, X_test = X.iloc[train_index], X.iloc[test_index]\n",
        "    y_train, y_test = y.iloc[train_index], y.iloc[test_index]\n",
        "    \n",
        "    print('Entrenando fold', i)\n",
        "    lgbm.fit(X_train, y_train)\n",
        "\n",
        "    # Se guardan los modelos intervienen.\n",
        "    lgbm_file_name = 'models/LighGBM_Classifier03_10Kfld_'+str(i)+'.pkl'\n",
        "    model_pickle = open(lgbm_file_name, 'wb')\n",
        "    pickle.dump(lgbm, model_pickle)\n",
        "    model_pickle.close()\n",
        "\n",
        "    # Valores de predicciones\n",
        "    prediction_train = lgbm.predict(X_train)\n",
        "    prediction_test = lgbm.predict(X_test)\n",
        "\n",
        "    # Dataframes: para completar los Dataframes hay que predecir con los mismos \n",
        "    # datos. Hay que armar un set de train y otro de test por fuera del for.\n",
        "    predictions_train['10k_pred_'+str(i)] = lgbm.predict(train)\n",
        "    predictions_test['10k_pred_'+str(i)] = lgbm.predict(test)\n",
        "    # Si da una falla por diferencia de dimensiones, es probable que sea\n",
        "    # necesario reiciar los Daaframes (vacíos). La cantidad de datos del \n",
        "    # set para predecir determina el tamaño final del Dataset.\n",
        "\n",
        "    # Scores de predicciones\n",
        "    train_score_a.append(accuracy_score(y_train, prediction_train))\n",
        "    test_score_a.append(accuracy_score(y_test, prediction_test))\n",
        "\n",
        "    i = i + 1\n",
        "\n",
        "print('~~~~~~~~~~~~~~~~')\n",
        "print('|| Finalizado ||')\n",
        "print('~~~~~~~~~~~~~~~~')"
      ],
      "execution_count": 57,
      "outputs": [
        {
          "output_type": "stream",
          "text": [
            "Entrenando fold 10\n",
            "~~~~~~~~~~~~~~~~\n",
            "|| Finalizado ||\n",
            "~~~~~~~~~~~~~~~~\n",
            "CPU times: user 30min 55s, sys: 5.53 s, total: 31min 1s\n",
            "Wall time: 15min 57s\n"
          ],
          "name": "stdout"
        }
      ]
    },
    {
      "cell_type": "code",
      "metadata": {
        "colab": {
          "base_uri": "https://localhost:8080/"
        },
        "id": "xI-r5anfXfxr",
        "outputId": "1d353987-7894-434e-9048-f8f0a133fa57"
      },
      "source": [
        "array_train_score = np.array(train_score)\n",
        "array_test_score = np.array(test_score)\n",
        "\n",
        "print('Promedio precision', array_train_score.mean().round(4), \\\n",
        "      '\\tcon desvío estándar de', array_train_score.std().round(4))\n",
        "print('Promedio precision', array_test_score.mean().round(4), \\\n",
        "      '\\tcon desvío estándar de', array_test_score.std().round(4))"
      ],
      "execution_count": 58,
      "outputs": [
        {
          "output_type": "stream",
          "text": [
            "Promedio precision 0.8076 \tcon desvío estándar de 0.0005\n",
            "Promedio precision 0.7392 \tcon desvío estándar de 0.003\n"
          ],
          "name": "stdout"
        }
      ]
    },
    {
      "cell_type": "markdown",
      "metadata": {
        "id": "xf7uWlvrMqs-"
      },
      "source": [
        "### 5-Fold"
      ]
    },
    {
      "cell_type": "code",
      "metadata": {
        "id": "ufM2VIU5HxWR"
      },
      "source": [
        "# n_splits\n",
        "splits = 5\n",
        "# Instancia para KFold\n",
        "kf = KFold(n_splits=splits)\n",
        "\n",
        "# Listas para guardar los puntajes y errores de la evaluación\n",
        "train_score_b = []\n",
        "test_score_b = []"
      ],
      "execution_count": 59,
      "outputs": []
    },
    {
      "cell_type": "code",
      "metadata": {
        "colab": {
          "base_uri": "https://localhost:8080/"
        },
        "id": "dFuMbwD8IA19",
        "outputId": "e3a3936e-1e14-4179-d5f9-2fde32e132ec"
      },
      "source": [
        "%%time\n",
        "i = 1\n",
        "\n",
        "for train_index, test_index in kf.split(train) :\n",
        "    clear_output(wait=True)\n",
        "    X_train, X_test = X.iloc[train_index], X.iloc[test_index]\n",
        "    y_train, y_test = y.iloc[train_index], y.iloc[test_index]\n",
        "    \n",
        "    print('Entrenando fold', i)\n",
        "    lgbm.fit(X_train, y_train)\n",
        "\n",
        "    # Se guardan los modelos intervienen.\n",
        "    lgbm_file_name = 'models/LighGBM_Classifier03_5Kfld_'+str(i)+'.pkl'\n",
        "    model_pickle = open(lgbm_file_name, 'wb')\n",
        "    pickle.dump(lgbm, model_pickle)\n",
        "    model_pickle.close()\n",
        "\n",
        "    # Valores de predicciones\n",
        "    prediction_train = lgbm.predict(X_train)\n",
        "    prediction_test = lgbm.predict(X_test)\n",
        "\n",
        "    # Dataframes\n",
        "    predictions_train['5k_pred_'+str(i)] = lgbm.predict(train)\n",
        "    predictions_test['5k_pred_'+str(i)] = lgbm.predict(test)\n",
        "\n",
        "    # Scores de predicciones\n",
        "    train_score_b.append(accuracy_score(y_train, prediction_train))\n",
        "    test_score_b.append(accuracy_score(y_test, prediction_test))\n",
        "\n",
        "    i = i + 1\n",
        "    \n",
        "print('~~~~~~~~~~~~~~~~')\n",
        "print('|| Finalizado ||')\n",
        "print('~~~~~~~~~~~~~~~~')"
      ],
      "execution_count": 60,
      "outputs": [
        {
          "output_type": "stream",
          "text": [
            "Entrenando fold 5\n",
            "~~~~~~~~~~~~~~~~\n",
            "|| Finalizado ||\n",
            "~~~~~~~~~~~~~~~~\n",
            "CPU times: user 14min 56s, sys: 2.66 s, total: 14min 59s\n",
            "Wall time: 7min 43s\n"
          ],
          "name": "stdout"
        }
      ]
    },
    {
      "cell_type": "code",
      "metadata": {
        "colab": {
          "base_uri": "https://localhost:8080/"
        },
        "id": "_VgittglJsdR",
        "outputId": "5bbfdde8-6702-43fc-dd40-6da792534ca6"
      },
      "source": [
        "array_train_score = np.array(train_score_b)\n",
        "array_test_score = np.array(test_score_b)\n",
        "\n",
        "print('Promedio precision', array_train_score.mean().round(4), \\\n",
        "      '\\tcon desvío estándar de', array_train_score.std().round(4))\n",
        "print('Promedio precision', array_test_score.mean().round(4), \\\n",
        "      '\\tcon desvío estándar de', array_test_score.std().round(4))"
      ],
      "execution_count": 61,
      "outputs": [
        {
          "output_type": "stream",
          "text": [
            "Promedio precision 0.8131 \tcon desvío estándar de 0.0006\n",
            "Promedio precision 0.7383 \tcon desvío estándar de 0.0021\n"
          ],
          "name": "stdout"
        }
      ]
    },
    {
      "cell_type": "markdown",
      "metadata": {
        "id": "w1SCcqzyMuP3"
      },
      "source": [
        "### 4-Fold"
      ]
    },
    {
      "cell_type": "code",
      "metadata": {
        "id": "d1uJaXY_KdAw"
      },
      "source": [
        "# n_splits\n",
        "splits = 4\n",
        "# Instancia para KFold\n",
        "kf = KFold(n_splits=splits)\n",
        "\n",
        "# Listas para guardar los puntajes y errores de la evaluación\n",
        "train_score_c = []\n",
        "test_score_c = []"
      ],
      "execution_count": 62,
      "outputs": []
    },
    {
      "cell_type": "code",
      "metadata": {
        "colab": {
          "base_uri": "https://localhost:8080/"
        },
        "id": "u-_5lbn5KimV",
        "outputId": "571d8589-ce0f-40e5-8cbf-3d878bd9b6e9"
      },
      "source": [
        "%%time\n",
        "i = 1\n",
        "\n",
        "for train_index, test_index in kf.split(train) :\n",
        "    clear_output(wait=True)\n",
        "    X_train, X_test = X.iloc[train_index], X.iloc[test_index]\n",
        "    y_train, y_test = y.iloc[train_index], y.iloc[test_index]\n",
        "    \n",
        "    print('Entrenando fold', i)\n",
        "    lgbm.fit(X_train, y_train)\n",
        "\n",
        "    # Se guardan los modelos intervienen.\n",
        "    lgbm_file_name = 'models/LighGBM_Classifier03_4Kfld_'+str(i)+'.pkl'\n",
        "    model_pickle = open(lgbm_file_name, 'wb')\n",
        "    pickle.dump(lgbm, model_pickle)\n",
        "    model_pickle.close()\n",
        "\n",
        "    # Valores de predicciones\n",
        "    prediction_train = lgbm.predict(X_train)\n",
        "    prediction_test = lgbm.predict(X_test)\n",
        "\n",
        "    # Dataframes\n",
        "    predictions_train['4k_pred_'+str(i)] = lgbm.predict(train)\n",
        "    predictions_test['4k_pred_'+str(i)] = lgbm.predict(test)\n",
        "\n",
        "    # Scores de predicciones\n",
        "    train_score_c.append(accuracy_score(y_train, prediction_train))\n",
        "    test_score_c.append(accuracy_score(y_test, prediction_test))\n",
        "\n",
        "    i = i + 1\n",
        "    \n",
        "print('~~~~~~~~~~~~~~~~')\n",
        "print('|| Finalizado ||')\n",
        "print('~~~~~~~~~~~~~~~~')"
      ],
      "execution_count": 63,
      "outputs": [
        {
          "output_type": "stream",
          "text": [
            "Entrenando fold 4\n",
            "~~~~~~~~~~~~~~~~\n",
            "|| Finalizado ||\n",
            "~~~~~~~~~~~~~~~~\n",
            "CPU times: user 11min 43s, sys: 2.14 s, total: 11min 45s\n",
            "Wall time: 6min 3s\n"
          ],
          "name": "stdout"
        }
      ]
    },
    {
      "cell_type": "code",
      "metadata": {
        "colab": {
          "base_uri": "https://localhost:8080/"
        },
        "id": "ny6VdcImKwSH",
        "outputId": "1d7e157d-92c7-4018-8841-6e6a38a765bb"
      },
      "source": [
        "array_train_score = np.array(train_score_c)\n",
        "array_test_score = np.array(test_score_c)\n",
        "\n",
        "print('Promedio precision', array_train_score.mean().round(4), \\\n",
        "      '\\tcon desvío estándar de', array_train_score.std().round(4))\n",
        "print('Promedio precision', array_test_score.mean().round(4), \\\n",
        "      '\\tcon desvío estándar de', array_test_score.std().round(4))"
      ],
      "execution_count": 64,
      "outputs": [
        {
          "output_type": "stream",
          "text": [
            "Promedio precision 0.8172 \tcon desvío estándar de 0.0006\n",
            "Promedio precision 0.7378 \tcon desvío estándar de 0.0005\n"
          ],
          "name": "stdout"
        }
      ]
    },
    {
      "cell_type": "code",
      "metadata": {
        "colab": {
          "base_uri": "https://localhost:8080/",
          "height": 163
        },
        "id": "N_CrkxP5MPwD",
        "outputId": "72ed67a8-a88f-4352-cf0e-71aa94bda849"
      },
      "source": [
        "predictions_train.head(3)"
      ],
      "execution_count": 83,
      "outputs": [
        {
          "output_type": "execute_result",
          "data": {
            "text/html": [
              "<div>\n",
              "<style scoped>\n",
              "    .dataframe tbody tr th:only-of-type {\n",
              "        vertical-align: middle;\n",
              "    }\n",
              "\n",
              "    .dataframe tbody tr th {\n",
              "        vertical-align: top;\n",
              "    }\n",
              "\n",
              "    .dataframe thead th {\n",
              "        text-align: right;\n",
              "    }\n",
              "</style>\n",
              "<table border=\"1\" class=\"dataframe\">\n",
              "  <thead>\n",
              "    <tr style=\"text-align: right;\">\n",
              "      <th></th>\n",
              "      <th>10k_pred_1</th>\n",
              "      <th>10k_pred_2</th>\n",
              "      <th>10k_pred_3</th>\n",
              "      <th>10k_pred_4</th>\n",
              "      <th>10k_pred_5</th>\n",
              "      <th>10k_pred_6</th>\n",
              "      <th>10k_pred_7</th>\n",
              "      <th>10k_pred_8</th>\n",
              "      <th>10k_pred_9</th>\n",
              "      <th>10k_pred_10</th>\n",
              "      <th>5k_pred_1</th>\n",
              "      <th>5k_pred_2</th>\n",
              "      <th>5k_pred_3</th>\n",
              "      <th>5k_pred_4</th>\n",
              "      <th>5k_pred_5</th>\n",
              "      <th>4k_pred_1</th>\n",
              "      <th>4k_pred_2</th>\n",
              "      <th>4k_pred_3</th>\n",
              "      <th>4k_pred_4</th>\n",
              "    </tr>\n",
              "  </thead>\n",
              "  <tbody>\n",
              "    <tr>\n",
              "      <th>0</th>\n",
              "      <td>2</td>\n",
              "      <td>3</td>\n",
              "      <td>3</td>\n",
              "      <td>3</td>\n",
              "      <td>3</td>\n",
              "      <td>3</td>\n",
              "      <td>3</td>\n",
              "      <td>3</td>\n",
              "      <td>3</td>\n",
              "      <td>3</td>\n",
              "      <td>3</td>\n",
              "      <td>3</td>\n",
              "      <td>3</td>\n",
              "      <td>3</td>\n",
              "      <td>3</td>\n",
              "      <td>3</td>\n",
              "      <td>3</td>\n",
              "      <td>2</td>\n",
              "      <td>3</td>\n",
              "    </tr>\n",
              "    <tr>\n",
              "      <th>1</th>\n",
              "      <td>2</td>\n",
              "      <td>2</td>\n",
              "      <td>2</td>\n",
              "      <td>2</td>\n",
              "      <td>2</td>\n",
              "      <td>2</td>\n",
              "      <td>2</td>\n",
              "      <td>2</td>\n",
              "      <td>2</td>\n",
              "      <td>2</td>\n",
              "      <td>2</td>\n",
              "      <td>2</td>\n",
              "      <td>2</td>\n",
              "      <td>2</td>\n",
              "      <td>2</td>\n",
              "      <td>2</td>\n",
              "      <td>2</td>\n",
              "      <td>2</td>\n",
              "      <td>2</td>\n",
              "    </tr>\n",
              "    <tr>\n",
              "      <th>2</th>\n",
              "      <td>3</td>\n",
              "      <td>3</td>\n",
              "      <td>3</td>\n",
              "      <td>3</td>\n",
              "      <td>3</td>\n",
              "      <td>3</td>\n",
              "      <td>3</td>\n",
              "      <td>3</td>\n",
              "      <td>3</td>\n",
              "      <td>3</td>\n",
              "      <td>3</td>\n",
              "      <td>3</td>\n",
              "      <td>3</td>\n",
              "      <td>3</td>\n",
              "      <td>3</td>\n",
              "      <td>3</td>\n",
              "      <td>3</td>\n",
              "      <td>3</td>\n",
              "      <td>3</td>\n",
              "    </tr>\n",
              "  </tbody>\n",
              "</table>\n",
              "</div>"
            ],
            "text/plain": [
              "   10k_pred_1  10k_pred_2  10k_pred_3  ...  4k_pred_2  4k_pred_3  4k_pred_4\n",
              "0           2           3           3  ...          3          2          3\n",
              "1           2           2           2  ...          2          2          2\n",
              "2           3           3           3  ...          3          3          3\n",
              "\n",
              "[3 rows x 19 columns]"
            ]
          },
          "metadata": {
            "tags": []
          },
          "execution_count": 83
        }
      ]
    },
    {
      "cell_type": "code",
      "metadata": {
        "id": "KGn9oqF0Xxw9",
        "colab": {
          "base_uri": "https://localhost:8080/"
        },
        "outputId": "ff14816b-3367-4e77-94a2-13abba75d805"
      },
      "source": [
        "%%time\n",
        "moda = predictions_train.mode(axis=1)[0]"
      ],
      "execution_count": 68,
      "outputs": [
        {
          "output_type": "stream",
          "text": [
            "CPU times: user 2min 13s, sys: 5.71 s, total: 2min 19s\n",
            "Wall time: 2min 9s\n"
          ],
          "name": "stdout"
        }
      ]
    },
    {
      "cell_type": "code",
      "metadata": {
        "colab": {
          "base_uri": "https://localhost:8080/"
        },
        "id": "-uuGAZ56IbGU",
        "outputId": "22bae92a-db55-4f3f-ea39-8502d578798e"
      },
      "source": [
        "moda"
      ],
      "execution_count": 72,
      "outputs": [
        {
          "output_type": "execute_result",
          "data": {
            "text/plain": [
              "0         3.0\n",
              "1         2.0\n",
              "2         3.0\n",
              "3         2.0\n",
              "4         3.0\n",
              "         ... \n",
              "260596    2.0\n",
              "260597    3.0\n",
              "260598    3.0\n",
              "260599    2.0\n",
              "260600    3.0\n",
              "Name: 0, Length: 260601, dtype: float64"
            ]
          },
          "metadata": {
            "tags": []
          },
          "execution_count": 72
        }
      ]
    },
    {
      "cell_type": "code",
      "metadata": {
        "colab": {
          "base_uri": "https://localhost:8080/"
        },
        "id": "5yJxQvjJIeuQ",
        "outputId": "b64f4d46-c29c-4c89-a384-331672b8c088"
      },
      "source": [
        "# Hay que tomar la columna de filas (índice).\n",
        "moda.value_counts()"
      ],
      "execution_count": 73,
      "outputs": [
        {
          "output_type": "execute_result",
          "data": {
            "text/plain": [
              "2.0    168783\n",
              "3.0     72468\n",
              "1.0     19350\n",
              "Name: 0, dtype: int64"
            ]
          },
          "metadata": {
            "tags": []
          },
          "execution_count": 73
        }
      ]
    },
    {
      "cell_type": "code",
      "metadata": {
        "colab": {
          "base_uri": "https://localhost:8080/"
        },
        "id": "IuVH9b4uHVPl",
        "outputId": "7c9f426e-758a-47fa-827f-8a6b53816ad0"
      },
      "source": [
        "accuracy_score(labels['damage_grade'], moda)"
      ],
      "execution_count": 75,
      "outputs": [
        {
          "output_type": "execute_result",
          "data": {
            "text/plain": [
              "0.8066124074734939"
            ]
          },
          "metadata": {
            "tags": []
          },
          "execution_count": 75
        }
      ]
    },
    {
      "cell_type": "markdown",
      "metadata": {
        "id": "I_vv3TAIKyJi"
      },
      "source": [
        "Para el test set:"
      ]
    },
    {
      "cell_type": "code",
      "metadata": {
        "id": "LMWXUiiGK2GJ",
        "colab": {
          "base_uri": "https://localhost:8080/"
        },
        "outputId": "8611e958-3e33-42b2-b127-ba2502d1aaf1"
      },
      "source": [
        "%%time\n",
        "moda_test = predictions_test.mode(axis=1)[0]"
      ],
      "execution_count": 76,
      "outputs": [
        {
          "output_type": "stream",
          "text": [
            "CPU times: user 44.9 s, sys: 1.93 s, total: 46.9 s\n",
            "Wall time: 43.2 s\n"
          ],
          "name": "stdout"
        }
      ]
    },
    {
      "cell_type": "code",
      "metadata": {
        "id": "mR7cDyRtLRCr"
      },
      "source": [
        "sub_example = pd.read_csv(dir_sub_format)"
      ],
      "execution_count": 77,
      "outputs": []
    },
    {
      "cell_type": "code",
      "metadata": {
        "id": "pJOQHXgcLjwy"
      },
      "source": [
        "sub_example['damage_grade'] = moda_test.astype('uint8')"
      ],
      "execution_count": 78,
      "outputs": []
    },
    {
      "cell_type": "code",
      "metadata": {
        "id": "Xhmx-etzLtnK"
      },
      "source": [
        "# Nombre de submission\n",
        "file_name = 'submission03.csv'"
      ],
      "execution_count": 81,
      "outputs": []
    },
    {
      "cell_type": "code",
      "metadata": {
        "id": "f3WCtRMKL8wQ"
      },
      "source": [
        "sub_example.to_csv(file_name, index=False)"
      ],
      "execution_count": 82,
      "outputs": []
    },
    {
      "cell_type": "markdown",
      "metadata": {
        "id": "v5JAmWX0hQzH"
      },
      "source": [
        "---\n",
        "# Pickle\n",
        "---"
      ]
    },
    {
      "cell_type": "markdown",
      "metadata": {
        "id": "BLnvWveKmavl"
      },
      "source": [
        "## Guardado del modelo"
      ]
    },
    {
      "cell_type": "code",
      "metadata": {
        "id": "57PRE5YqhT6I"
      },
      "source": [
        "# Librería para guardar modelo.\n",
        "import pickle"
      ],
      "execution_count": null,
      "outputs": []
    },
    {
      "cell_type": "code",
      "metadata": {
        "id": "3vw8fnNDh0Sb"
      },
      "source": [
        "# String con dirección de almacenamiento y nombre del archivo .pkl.\n",
        "lgbm_file_name = 'LighGBM_Classifier02.pkl'"
      ],
      "execution_count": null,
      "outputs": []
    },
    {
      "cell_type": "code",
      "metadata": {
        "id": "Ea_LfFb3iM7d"
      },
      "source": [
        "# Se crea una variable pickle y se abre en modo de escritura.\n",
        "# [También se crea el archivo en el directorio especificado por lgbm_file_name]\n",
        "model_pickle = open(lgbm_file_name, 'wb')"
      ],
      "execution_count": null,
      "outputs": []
    },
    {
      "cell_type": "code",
      "metadata": {
        "id": "KxwqyFP2jU_R"
      },
      "source": [
        "# Se usa el método dump con el modelo y el archivo creado en modo de esritura\n",
        "# para crear el pickle.\n",
        "pickle.dump(lgbm, model_pickle)"
      ],
      "execution_count": null,
      "outputs": []
    },
    {
      "cell_type": "code",
      "metadata": {
        "id": "AjJiBSjlktxH"
      },
      "source": [
        "# Finalmente hay que cerrar la instancia del pickle.\n",
        "model_pickle.close()"
      ],
      "execution_count": null,
      "outputs": []
    },
    {
      "cell_type": "markdown",
      "metadata": {
        "id": "oPFxSQgplCnS"
      },
      "source": [
        "En el caso particular usado, el modelo de Light GBM solo tiene modificados `n_estimators=400` y `learning_rate=0.05`. Así, el pickle del modelo pesa 3 MiB."
      ]
    },
    {
      "cell_type": "markdown",
      "metadata": {
        "id": "Ftgv2QNAmn6S"
      },
      "source": [
        "## Lectura del modelo"
      ]
    },
    {
      "cell_type": "code",
      "metadata": {
        "id": "y8Jt0LZEnXzw"
      },
      "source": [
        "# Se crea una variable para el archivo pickle y se abre con la dirección del\n",
        "# archivo en modo lectura. \n",
        "model_predictor_pkl = open(lgbm_file_name, 'rb')"
      ],
      "execution_count": null,
      "outputs": []
    },
    {
      "cell_type": "code",
      "metadata": {
        "colab": {
          "base_uri": "https://localhost:8080/"
        },
        "id": "YCmV44H7n0PV",
        "outputId": "4bb57263-8a9b-4ceb-d971-8819c211fffd"
      },
      "source": [
        "# Se carga el modelo pasando la variable creada, en la misma se encuentra\n",
        "# la dirección del archivo pickle.\n",
        "model_predictor = pickle.load(model_predictor_pkl)\n",
        "print('Modelo cargado')\n",
        "model_predictor.get_params"
      ],
      "execution_count": null,
      "outputs": [
        {
          "output_type": "stream",
          "text": [
            "Modelo cargado\n"
          ],
          "name": "stdout"
        },
        {
          "output_type": "execute_result",
          "data": {
            "text/plain": [
              "<bound method LGBMModel.get_params of LGBMClassifier(boosting_type='gbdt', class_weight=None, colsample_bytree=1.0,\n",
              "               importance_type='split', learning_rate=0.05, max_depth=-1,\n",
              "               min_child_samples=20, min_child_weight=0.001, min_split_gain=0.0,\n",
              "               n_estimators=400, n_jobs=-1, num_leaves=31, objective=None,\n",
              "               random_state=None, reg_alpha=0.0, reg_lambda=0.0, silent=True,\n",
              "               subsample=1.0, subsample_for_bin=200000, subsample_freq=0)>"
            ]
          },
          "metadata": {
            "tags": []
          },
          "execution_count": 119
        }
      ]
    },
    {
      "cell_type": "code",
      "metadata": {
        "id": "bzIc6-LHpOyl"
      },
      "source": [
        "predict_A = lgbm.predict(test)\n",
        "predict_B = model_predictor.predict(test)"
      ],
      "execution_count": null,
      "outputs": []
    },
    {
      "cell_type": "code",
      "metadata": {
        "id": "Kstz69BEp-Lh"
      },
      "source": [
        "# Para contar elementos en ndarrays.\n",
        "import collections"
      ],
      "execution_count": null,
      "outputs": []
    },
    {
      "cell_type": "code",
      "metadata": {
        "colab": {
          "base_uri": "https://localhost:8080/"
        },
        "id": "CbKDgE1QpgKn",
        "outputId": "578d6813-82aa-4c37-f067-c63babd5db49"
      },
      "source": [
        "collections.Counter(predict_A == predict_B)"
      ],
      "execution_count": null,
      "outputs": [
        {
          "output_type": "execute_result",
          "data": {
            "text/plain": [
              "Counter({True: 86868})"
            ]
          },
          "metadata": {
            "tags": []
          },
          "execution_count": 127
        }
      ]
    },
    {
      "cell_type": "markdown",
      "metadata": {
        "id": "CDsBQTOZqQBv"
      },
      "source": [
        "Las dos instancias tienen el mismo modelo, con las mismas predicciones."
      ]
    }
  ]
}