{
 "cells": [
  {
   "cell_type": "code",
   "execution_count": 1,
   "id": "a963cdd3",
   "metadata": {},
   "outputs": [],
   "source": [
    "import pandas as pd\n",
    "import numpy as np"
   ]
  },
  {
   "cell_type": "code",
   "execution_count": 2,
   "id": "a45e92e6",
   "metadata": {},
   "outputs": [],
   "source": [
    "df = pd.read_csv('Data/train_values.csv')"
   ]
  },
  {
   "cell_type": "code",
   "execution_count": 3,
   "id": "2fbfb68f",
   "metadata": {},
   "outputs": [
    {
     "name": "stdout",
     "output_type": "stream",
     "text": [
      "columns: 39\n",
      "rows: 260601\n"
     ]
    }
   ],
   "source": [
    "print('columns:', df.shape[1])\n",
    "print('rows:', df.shape[0])"
   ]
  },
  {
   "cell_type": "code",
   "execution_count": 4,
   "id": "d98b6d15",
   "metadata": {},
   "outputs": [
    {
     "name": "stdout",
     "output_type": "stream",
     "text": [
      "<class 'pandas.core.frame.DataFrame'>\n",
      "RangeIndex: 260601 entries, 0 to 260600\n",
      "Data columns (total 39 columns):\n",
      " #   Column                                  Non-Null Count   Dtype \n",
      "---  ------                                  --------------   ----- \n",
      " 0   building_id                             260601 non-null  int64 \n",
      " 1   geo_level_1_id                          260601 non-null  int64 \n",
      " 2   geo_level_2_id                          260601 non-null  int64 \n",
      " 3   geo_level_3_id                          260601 non-null  int64 \n",
      " 4   count_floors_pre_eq                     260601 non-null  int64 \n",
      " 5   age                                     260601 non-null  int64 \n",
      " 6   area_percentage                         260601 non-null  int64 \n",
      " 7   height_percentage                       260601 non-null  int64 \n",
      " 8   land_surface_condition                  260601 non-null  object\n",
      " 9   foundation_type                         260601 non-null  object\n",
      " 10  roof_type                               260601 non-null  object\n",
      " 11  ground_floor_type                       260601 non-null  object\n",
      " 12  other_floor_type                        260601 non-null  object\n",
      " 13  position                                260601 non-null  object\n",
      " 14  plan_configuration                      260601 non-null  object\n",
      " 15  has_superstructure_adobe_mud            260601 non-null  int64 \n",
      " 16  has_superstructure_mud_mortar_stone     260601 non-null  int64 \n",
      " 17  has_superstructure_stone_flag           260601 non-null  int64 \n",
      " 18  has_superstructure_cement_mortar_stone  260601 non-null  int64 \n",
      " 19  has_superstructure_mud_mortar_brick     260601 non-null  int64 \n",
      " 20  has_superstructure_cement_mortar_brick  260601 non-null  int64 \n",
      " 21  has_superstructure_timber               260601 non-null  int64 \n",
      " 22  has_superstructure_bamboo               260601 non-null  int64 \n",
      " 23  has_superstructure_rc_non_engineered    260601 non-null  int64 \n",
      " 24  has_superstructure_rc_engineered        260601 non-null  int64 \n",
      " 25  has_superstructure_other                260601 non-null  int64 \n",
      " 26  legal_ownership_status                  260601 non-null  object\n",
      " 27  count_families                          260601 non-null  int64 \n",
      " 28  has_secondary_use                       260601 non-null  int64 \n",
      " 29  has_secondary_use_agriculture           260601 non-null  int64 \n",
      " 30  has_secondary_use_hotel                 260601 non-null  int64 \n",
      " 31  has_secondary_use_rental                260601 non-null  int64 \n",
      " 32  has_secondary_use_institution           260601 non-null  int64 \n",
      " 33  has_secondary_use_school                260601 non-null  int64 \n",
      " 34  has_secondary_use_industry              260601 non-null  int64 \n",
      " 35  has_secondary_use_health_post           260601 non-null  int64 \n",
      " 36  has_secondary_use_gov_office            260601 non-null  int64 \n",
      " 37  has_secondary_use_use_police            260601 non-null  int64 \n",
      " 38  has_secondary_use_other                 260601 non-null  int64 \n",
      "dtypes: int64(31), object(8)\n",
      "memory usage: 77.5+ MB\n"
     ]
    }
   ],
   "source": [
    "df.info()"
   ]
  },
  {
   "cell_type": "code",
   "execution_count": 17,
   "id": "05ae5eb5",
   "metadata": {},
   "outputs": [
    {
     "data": {
      "text/plain": [
       "176.95"
      ]
     },
     "execution_count": 17,
     "metadata": {},
     "output_type": "execute_result"
    }
   ],
   "source": [
    "np.round(df.memory_usage(deep=True).sum()/1024/1024, 2)"
   ]
  },
  {
   "cell_type": "markdown",
   "id": "d8a60b7e",
   "metadata": {},
   "source": [
    "Se usan 176.95 MiB de memoria."
   ]
  },
  {
   "cell_type": "code",
   "execution_count": 8,
   "id": "7da398a9",
   "metadata": {},
   "outputs": [],
   "source": [
    "desc = df.describe(include='all')"
   ]
  },
  {
   "cell_type": "code",
   "execution_count": 13,
   "id": "c97d1f6b",
   "metadata": {},
   "outputs": [
    {
     "data": {
      "text/plain": [
       "count     260601\n",
       "unique         4\n",
       "top            v\n",
       "freq      250939\n",
       "mean         NaN\n",
       "std          NaN\n",
       "min          NaN\n",
       "25%          NaN\n",
       "50%          NaN\n",
       "75%          NaN\n",
       "max          NaN\n",
       "Name: legal_ownership_status, dtype: object"
      ]
     },
     "execution_count": 13,
     "metadata": {},
     "output_type": "execute_result"
    }
   ],
   "source": [
    "# ['min', 'max'], columns\n",
    "#desc.iloc[[3,7], 0:8]\n",
    "desc.iloc[:, 26]"
   ]
  },
  {
   "cell_type": "markdown",
   "id": "4a2eb3c7",
   "metadata": {},
   "source": [
    "Se puede reallizar un cambio de tipo a las columnas para ajustar el uso de memoria."
   ]
  },
  {
   "cell_type": "markdown",
   "id": "710f4c89",
   "metadata": {},
   "source": [
    "### Columnas numéricas\n",
    "\n",
    "`building_id`: \\[4, 1052934\\] $\\rightarrow$ int32\n",
    "\n",
    "`geo_level_1_id`: \\[0, 30\\] $\\rightarrow$ int8\n",
    "\n",
    "`geo_level_2_id`: \\[0, 1427\\] $\\rightarrow$ int16\n",
    "\n",
    "`geo_level_3_id`: \\[0, 12567\\] $\\rightarrow$ int16\n",
    "\n",
    "`count_floors_pre_eq`: \\[0, 9\\] $\\rightarrow$ int8\n",
    "\n",
    "`age`: \\[0, 995\\] $\\rightarrow$ int16\n",
    "\n",
    "`area_percentage`: \\[0, 100\\] $\\rightarrow$ int8\n",
    "\n",
    "`height_percentage \t`: \\[2, 32\\] $\\rightarrow$ int8"
   ]
  },
  {
   "cell_type": "markdown",
   "id": "cb5fd323",
   "metadata": {},
   "source": [
    "### Columnas booleanas\n",
    "\n",
    "`has_superstructure_adobe_mud`, `has_superstructure_mud_mortar_stone`, `has_superstructure_stone_flag`, \n",
    "`has_superstructure_cement_mortar_stone`, `has_superstructure_mud_mortar_brick`, `has_superstructure_cement_mortar_brick`, `has_superstructure_timber`, `has_superstructure_bamboo`, `has_superstructure_rc_non_engineered`, `has_superstructure_rc_engineered`, `has_superstructure_other`, `count_families`, `has_secondary_use`, `has_secondary_use_agriculture`, `has_secondary_use_hotel`, `has_secondary_use_rental`, `has_secondary_use_institution`, `has_secondary_use_school`, `has_secondary_use_industry`, `has_secondary_use_health_post`, `has_secondary_use_gov_office`, `has_secondary_use_use_police`, `has_secondary_use_other`\n",
    "\n",
    "Todas tienen valores \\[0, 1\\] $\\Longrightarrow$ bool"
   ]
  },
  {
   "cell_type": "markdown",
   "id": "1b150a75",
   "metadata": {},
   "source": [
    "### Columnas Categóricas\n",
    "\n",
    "`land_surface_condition`, `foundation_type`, `roof_type`, `ground_floor_type`, `other_floor_type`, `position`, `plan_configuration`, `legal_ownership_status`"
   ]
  },
  {
   "cell_type": "code",
   "execution_count": 44,
   "id": "5f3be065",
   "metadata": {},
   "outputs": [],
   "source": [
    "col_ori = df['has_superstructure_adobe_mud'].copy()\n",
    "col_new = df['has_superstructure_adobe_mud'].astype('bool')"
   ]
  },
  {
   "cell_type": "code",
   "execution_count": 45,
   "id": "0e54f112",
   "metadata": {},
   "outputs": [
    {
     "name": "stdout",
     "output_type": "stream",
     "text": [
      "ori 1.99 MiB\n",
      "new 0.25 MiB\n"
     ]
    }
   ],
   "source": [
    "print('ori', np.round(col_ori.memory_usage(deep=True)/(1024**2), 2), 'MiB')\n",
    "print('new', np.round(col_new.memory_usage(deep=True)/(1024**2), 2), 'MiB')"
   ]
  },
  {
   "cell_type": "code",
   "execution_count": 46,
   "id": "832ad164",
   "metadata": {},
   "outputs": [
    {
     "data": {
      "text/plain": [
       "0     1\n",
       "1     0\n",
       "2     0\n",
       "3     0\n",
       "4     1\n",
       "5     0\n",
       "6     0\n",
       "7     0\n",
       "8     0\n",
       "9     0\n",
       "10    0\n",
       "Name: has_superstructure_adobe_mud, dtype: int64"
      ]
     },
     "execution_count": 46,
     "metadata": {},
     "output_type": "execute_result"
    }
   ],
   "source": [
    "col_ori[0:11]"
   ]
  },
  {
   "cell_type": "code",
   "execution_count": 47,
   "id": "e2c1550d",
   "metadata": {},
   "outputs": [
    {
     "data": {
      "text/plain": [
       "0      True\n",
       "1     False\n",
       "2     False\n",
       "3     False\n",
       "4      True\n",
       "5     False\n",
       "6     False\n",
       "7     False\n",
       "8     False\n",
       "9     False\n",
       "10    False\n",
       "Name: has_superstructure_adobe_mud, dtype: bool"
      ]
     },
     "execution_count": 47,
     "metadata": {},
     "output_type": "execute_result"
    }
   ],
   "source": [
    "col_new[0:11]"
   ]
  }
 ],
 "metadata": {
  "kernelspec": {
   "display_name": "Python 3",
   "language": "python",
   "name": "python3"
  },
  "language_info": {
   "codemirror_mode": {
    "name": "ipython",
    "version": 3
   },
   "file_extension": ".py",
   "mimetype": "text/x-python",
   "name": "python",
   "nbconvert_exporter": "python",
   "pygments_lexer": "ipython3",
   "version": "3.8.5"
  }
 },
 "nbformat": 4,
 "nbformat_minor": 5
}
