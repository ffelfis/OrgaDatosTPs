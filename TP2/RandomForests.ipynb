{
  "nbformat": 4,
  "nbformat_minor": 0,
  "metadata": {
    "colab": {
      "name": "RandomForests",
      "provenance": []
    },
    "kernelspec": {
      "name": "python3",
      "display_name": "Python 3"
    },
    "language_info": {
      "name": "python"
    }
  },
  "cells": [
    {
      "cell_type": "code",
      "metadata": {
        "id": "y9ekB-XUfd7f"
      },
      "source": [
        "import pandas as pd\n",
        "import numpy as np\n",
        "import matplotlib.pyplot as plt\n",
        "from sklearn.ensemble import RandomForestClassifier\n",
        "from sklearn.metrics import f1_score\n",
        "from sklearn.model_selection import train_test_split"
      ],
      "execution_count": 15,
      "outputs": []
    },
    {
      "cell_type": "code",
      "metadata": {
        "colab": {
          "base_uri": "https://localhost:8080/"
        },
        "id": "lrbFwXuVfCL3",
        "outputId": "95dcacc1-e8e2-43f5-db90-248a3b98e776"
      },
      "source": [
        "from google.colab import drive\n",
        "drive.mount('/content/drive')"
      ],
      "execution_count": 2,
      "outputs": [
        {
          "output_type": "stream",
          "text": [
            "Mounted at /content/drive\n"
          ],
          "name": "stdout"
        }
      ]
    },
    {
      "cell_type": "code",
      "metadata": {
        "id": "V8euLckGbwcQ"
      },
      "source": [
        "train_values = pd.read_csv('/content/drive/MyDrive/train_values.csv')\n",
        "\n",
        "train_labels = pd.read_csv('/content/drive/MyDrive/train_labels.csv')"
      ],
      "execution_count": 3,
      "outputs": []
    },
    {
      "cell_type": "code",
      "metadata": {
        "id": "l-k7qeKEOxh-"
      },
      "source": [
        "data = train_values.merge(train_labels)"
      ],
      "execution_count": 8,
      "outputs": []
    },
    {
      "cell_type": "markdown",
      "metadata": {
        "id": "xC3UWfUDQj91"
      },
      "source": [
        "Seleccionamos características para el modelo"
      ]
    },
    {
      "cell_type": "code",
      "metadata": {
        "id": "QzvdWg8GhC3T"
      },
      "source": [
        "features_elegidos = ['ground_floor_type', \n",
        "                     'area_percentage', \n",
        "                     'height_percentage',\n",
        "                     'count_families',\n",
        "                     'has_superstructure_stone_flag',\n",
        "                     'has_superstructure_adobe_mud',\n",
        "                     'damage_grade']\n",
        "\n",
        "train_values_short = data[features_elegidos]"
      ],
      "execution_count": 11,
      "outputs": []
    },
    {
      "cell_type": "code",
      "metadata": {
        "id": "glzoc1noRS0R"
      },
      "source": [
        "train_values_short = pd.get_dummies(train_values_short)"
      ],
      "execution_count": 13,
      "outputs": []
    },
    {
      "cell_type": "code",
      "metadata": {
        "colab": {
          "base_uri": "https://localhost:8080/"
        },
        "id": "cYgiVY8yRv6e",
        "outputId": "92479745-0f1a-4e1a-96f8-d1dfdcfc687c"
      },
      "source": [
        "train_values_short.info()"
      ],
      "execution_count": 32,
      "outputs": [
        {
          "output_type": "stream",
          "text": [
            "<class 'pandas.core.frame.DataFrame'>\n",
            "Int64Index: 260601 entries, 0 to 260600\n",
            "Data columns (total 11 columns):\n",
            " #   Column                         Non-Null Count   Dtype\n",
            "---  ------                         --------------   -----\n",
            " 0   area_percentage                260601 non-null  int64\n",
            " 1   height_percentage              260601 non-null  int64\n",
            " 2   count_families                 260601 non-null  int64\n",
            " 3   has_superstructure_stone_flag  260601 non-null  int64\n",
            " 4   has_superstructure_adobe_mud   260601 non-null  int64\n",
            " 5   damage_grade                   260601 non-null  int64\n",
            " 6   ground_floor_type_f            260601 non-null  uint8\n",
            " 7   ground_floor_type_m            260601 non-null  uint8\n",
            " 8   ground_floor_type_v            260601 non-null  uint8\n",
            " 9   ground_floor_type_x            260601 non-null  uint8\n",
            " 10  ground_floor_type_z            260601 non-null  uint8\n",
            "dtypes: int64(6), uint8(5)\n",
            "memory usage: 25.2 MB\n"
          ],
          "name": "stdout"
        }
      ]
    },
    {
      "cell_type": "code",
      "metadata": {
        "id": "QFePvWbESFwE"
      },
      "source": [
        "# Dividimos los datos en entrenamiento y prueba\n",
        "\n",
        "# x contiene los features independientes\n",
        "x = train_values_short.drop(['damage_grade'], axis = 1)\n",
        "\n",
        "# y contiene la variable dependiente damage_grade\n",
        "y = train_values_short['damage_grade']\n",
        "\n",
        "x_train, x_test, y_train, y_test = train_test_split(x, y, random_state = 0)"
      ],
      "execution_count": 17,
      "outputs": []
    },
    {
      "cell_type": "markdown",
      "metadata": {
        "id": "1KMjCyCn4u-R"
      },
      "source": [
        "**Random Forest**"
      ]
    },
    {
      "cell_type": "code",
      "metadata": {
        "id": "SEew2NYo4WiE"
      },
      "source": [
        "# Creamos el modelo de Random Forest\n",
        "\n",
        "rf_model = RandomForestClassifier(n_estimators = 20, random_state = 2018)"
      ],
      "execution_count": 20,
      "outputs": []
    },
    {
      "cell_type": "code",
      "metadata": {
        "colab": {
          "base_uri": "https://localhost:8080/"
        },
        "id": "mlemT_DGWL9D",
        "outputId": "83f50500-4298-4d59-9436-127d522a3add"
      },
      "source": [
        "# Entrenamos los datos\n",
        "\n",
        "rf_model.fit(x_train, y_train)"
      ],
      "execution_count": 21,
      "outputs": [
        {
          "output_type": "execute_result",
          "data": {
            "text/plain": [
              "RandomForestClassifier(bootstrap=True, ccp_alpha=0.0, class_weight=None,\n",
              "                       criterion='gini', max_depth=None, max_features='auto',\n",
              "                       max_leaf_nodes=None, max_samples=None,\n",
              "                       min_impurity_decrease=0.0, min_impurity_split=None,\n",
              "                       min_samples_leaf=1, min_samples_split=2,\n",
              "                       min_weight_fraction_leaf=0.0, n_estimators=20,\n",
              "                       n_jobs=None, oob_score=False, random_state=2018,\n",
              "                       verbose=0, warm_start=False)"
            ]
          },
          "metadata": {
            "tags": []
          },
          "execution_count": 21
        }
      ]
    },
    {
      "cell_type": "code",
      "metadata": {
        "colab": {
          "base_uri": "https://localhost:8080/"
        },
        "id": "boxmcR5ZWPBj",
        "outputId": "d149e45d-dacf-49f6-91b8-8c759864d107"
      },
      "source": [
        "# Evaluamos los resultados\n",
        "\n",
        "preds = rf_model.predict(x_test)\n",
        "f1_score(y_test, preds, average = 'micro')"
      ],
      "execution_count": 22,
      "outputs": [
        {
          "output_type": "execute_result",
          "data": {
            "text/plain": [
              "0.5708277693358506"
            ]
          },
          "metadata": {
            "tags": []
          },
          "execution_count": 22
        }
      ]
    },
    {
      "cell_type": "markdown",
      "metadata": {
        "id": "qwPZbb2pll5A"
      },
      "source": [
        "Importancia de los Features"
      ]
    },
    {
      "cell_type": "code",
      "metadata": {
        "colab": {
          "base_uri": "https://localhost:8080/"
        },
        "id": "6EvqJuSicHLu",
        "outputId": "3a40e071-0f73-4f10-85c6-ff77f53a346c"
      },
      "source": [
        "# Gini importance\n",
        "rf_model.feature_importances_"
      ],
      "execution_count": 23,
      "outputs": [
        {
          "output_type": "execute_result",
          "data": {
            "text/plain": [
              "array([0.30114889, 0.20915629, 0.06844356, 0.0280171 , 0.02579172,\n",
              "       0.07060347, 0.00268557, 0.26074159, 0.02868597, 0.00472584])"
            ]
          },
          "metadata": {
            "tags": []
          },
          "execution_count": 23
        }
      ]
    },
    {
      "cell_type": "code",
      "metadata": {
        "colab": {
          "base_uri": "https://localhost:8080/",
          "height": 295
        },
        "id": "71VYnIBAcUDQ",
        "outputId": "47eddad9-8a30-442a-bc3e-68483f9cc823"
      },
      "source": [
        "fig, ax = plt.subplots()\n",
        "\n",
        "ax.barh(x_train.columns, rf_model.feature_importances_, color = 'darkorange')\n",
        "ax.set_xlabel('Importancia')\n",
        "ax.set_title('Importancia de Features con Random Forest')\n",
        "plt.show()"
      ],
      "execution_count": 28,
      "outputs": [
        {
          "output_type": "display_data",
          "data": {
            "image/png": "[encoded data removed]",
            "text/plain": [
              "<Figure size 432x288 with 1 Axes>"
            ]
          },
          "metadata": {
            "tags": [],
            "needs_background": "light"
          }
        }
      ]
    },
    {
      "cell_type": "markdown",
      "metadata": {
        "id": "x4AwCw8-gLFA"
      },
      "source": [
        "Variando los hiperparámetros"
      ]
    },
    {
      "cell_type": "code",
      "metadata": {
        "colab": {
          "base_uri": "https://localhost:8080/"
        },
        "id": "FymCic5FfsYI",
        "outputId": "24151a53-d175-4cf0-90ed-598547d97702"
      },
      "source": [
        "rf_model1 = RandomForestClassifier(n_estimators = 5, random_state = 2018)\n",
        "\n",
        "rf_model1.fit(x_train, y_train)\n",
        "\n",
        "preds = rf_model1.predict(x_test)\n",
        "f1_score(y_test, preds, average = 'micro')"
      ],
      "execution_count": 29,
      "outputs": [
        {
          "output_type": "execute_result",
          "data": {
            "text/plain": [
              "0.5698147380700219"
            ]
          },
          "metadata": {
            "tags": []
          },
          "execution_count": 29
        }
      ]
    },
    {
      "cell_type": "code",
      "metadata": {
        "colab": {
          "base_uri": "https://localhost:8080/"
        },
        "id": "DsiF_-YjhYfb",
        "outputId": "0e65c38e-d49d-47f4-b346-b65d3f674d61"
      },
      "source": [
        "rf_model2 = RandomForestClassifier(n_estimators = 20, random_state = 2018, min_samples_leaf = 5)\n",
        "\n",
        "rf_model2.fit(x_train, y_train)\n",
        "\n",
        "preds = rf_model2.predict(x_test)\n",
        "f1_score(y_test, preds, average = 'micro')"
      ],
      "execution_count": 30,
      "outputs": [
        {
          "output_type": "execute_result",
          "data": {
            "text/plain": [
              "0.5729305766603736"
            ]
          },
          "metadata": {
            "tags": []
          },
          "execution_count": 30
        }
      ]
    },
    {
      "cell_type": "code",
      "metadata": {
        "colab": {
          "base_uri": "https://localhost:8080/"
        },
        "id": "qLLzbmJcifMs",
        "outputId": "5b26b607-98a6-49c1-a66d-dc802413e493"
      },
      "source": [
        "rf_model3 = RandomForestClassifier(n_estimators = 50, random_state = 2018, min_samples_leaf = 5)\n",
        "\n",
        "rf_model3.fit(x_train, y_train)\n",
        "\n",
        "preds = rf_model3.predict(x_test)\n",
        "f1_score(y_test, preds, average = 'micro')"
      ],
      "execution_count": 31,
      "outputs": [
        {
          "output_type": "execute_result",
          "data": {
            "text/plain": [
              "0.5740050037604949"
            ]
          },
          "metadata": {
            "tags": []
          },
          "execution_count": 31
        }
      ]
    },
    {
      "cell_type": "code",
      "metadata": {
        "colab": {
          "base_uri": "https://localhost:8080/"
        },
        "id": "aX8j67xZHlgL",
        "outputId": "d714e2c4-d9f8-487e-ddd7-4d44eb02dfe2"
      },
      "source": [
        "rf_model4 = RandomForestClassifier(n_estimators = 80, random_state = 2018, min_samples_leaf = 5)\n",
        "\n",
        "rf_model4.fit(x_train, y_train)\n",
        "\n",
        "preds = rf_model4.predict(x_test)\n",
        "f1_score(y_test, preds, average = 'micro')"
      ],
      "execution_count": 83,
      "outputs": [
        {
          "output_type": "execute_result",
          "data": {
            "text/plain": [
              "0.5740817485533607"
            ]
          },
          "metadata": {
            "tags": []
          },
          "execution_count": 83
        }
      ]
    },
    {
      "cell_type": "markdown",
      "metadata": {
        "id": "VCIb9e6dePUH"
      },
      "source": [
        "Agregando más Features"
      ]
    },
    {
      "cell_type": "code",
      "metadata": {
        "id": "VySqN-xIfDil"
      },
      "source": [
        "nuevos_features = ['foundation_type',\n",
        "                     'ground_floor_type', \n",
        "                     'area_percentage', \n",
        "                     'height_percentage',\n",
        "                     'count_families',\n",
        "                     'count_floors_pre_eq',\n",
        "                     'plan_configuration',\n",
        "                     'roof_type',\n",
        "                     'has_superstructure_stone_flag',\n",
        "                     'has_superstructure_adobe_mud',\n",
        "                     'has_superstructure_mud_mortar_stone',\n",
        "                     'has_superstructure_cement_mortar_stone',\n",
        "                     'has_superstructure_cement_mortar_brick',\n",
        "                     'has_superstructure_bamboo',\n",
        "                     'has_superstructure_rc_non_engineered',\n",
        "                     'has_superstructure_rc_engineered',\n",
        "                     'land_surface_condition',\n",
        "                     'has_secondary_use_agriculture',\n",
        "                     'has_secondary_use_hotel',\n",
        "                     'has_secondary_use_rental',\n",
        "                     'has_secondary_use_other',\n",
        "                     'damage_grade']\n",
        "\n",
        "train_values_short1 = data[nuevos_features]"
      ],
      "execution_count": 92,
      "outputs": []
    },
    {
      "cell_type": "code",
      "metadata": {
        "id": "6q5YEBOXflvd"
      },
      "source": [
        "train_values_short1 = pd.get_dummies(train_values_short1)"
      ],
      "execution_count": 93,
      "outputs": []
    },
    {
      "cell_type": "code",
      "metadata": {
        "id": "n_USOVU3fuhk"
      },
      "source": [
        "# Dividimos los datos en entrenamiento y prueba\n",
        "\n",
        "# x contiene los features independientes\n",
        "x = train_values_short1.drop(['damage_grade'], axis = 1)\n",
        "\n",
        "# y contiene la variable dependiente damage_grade\n",
        "y = train_values_short1['damage_grade']\n",
        "\n",
        "x_train, x_test, y_train, y_test = train_test_split(x, y, random_state = 0)"
      ],
      "execution_count": 94,
      "outputs": []
    },
    {
      "cell_type": "code",
      "metadata": {
        "colab": {
          "base_uri": "https://localhost:8080/"
        },
        "id": "ilAFxoMHcBmk",
        "outputId": "d6072040-be6a-4262-fd7e-eadd15d29d9d"
      },
      "source": [
        "rf_model = RandomForestClassifier(n_estimators = 80, random_state = 2018, min_samples_leaf = 5)\n",
        "\n",
        "rf_model.fit(x_train, y_train)\n",
        "\n",
        "preds = rf_model.predict(x_test)\n",
        "f1_score(y_test, preds, average = 'micro')"
      ],
      "execution_count": 95,
      "outputs": [
        {
          "output_type": "execute_result",
          "data": {
            "text/plain": [
              "0.6038894261024389"
            ]
          },
          "metadata": {
            "tags": []
          },
          "execution_count": 95
        }
      ]
    },
    {
      "cell_type": "markdown",
      "metadata": {
        "id": "Tin2guJBpVY_"
      },
      "source": [
        "Preparamos la Submission"
      ]
    },
    {
      "cell_type": "code",
      "metadata": {
        "id": "Ci6le_PSped5"
      },
      "source": [
        "test_values = pd.read_csv('/content/drive/MyDrive/test_values.csv')"
      ],
      "execution_count": 96,
      "outputs": []
    },
    {
      "cell_type": "code",
      "metadata": {
        "colab": {
          "base_uri": "https://localhost:8080/"
        },
        "id": "3rjiSXnyqJdX",
        "outputId": "d89fd83f-44d1-4da3-844f-f91d24981f86"
      },
      "source": [
        "test_values.info()"
      ],
      "execution_count": 97,
      "outputs": [
        {
          "output_type": "stream",
          "text": [
            "<class 'pandas.core.frame.DataFrame'>\n",
            "RangeIndex: 86868 entries, 0 to 86867\n",
            "Data columns (total 39 columns):\n",
            " #   Column                                  Non-Null Count  Dtype \n",
            "---  ------                                  --------------  ----- \n",
            " 0   building_id                             86868 non-null  int64 \n",
            " 1   geo_level_1_id                          86868 non-null  int64 \n",
            " 2   geo_level_2_id                          86868 non-null  int64 \n",
            " 3   geo_level_3_id                          86868 non-null  int64 \n",
            " 4   count_floors_pre_eq                     86868 non-null  int64 \n",
            " 5   age                                     86868 non-null  int64 \n",
            " 6   area_percentage                         86868 non-null  int64 \n",
            " 7   height_percentage                       86868 non-null  int64 \n",
            " 8   land_surface_condition                  86868 non-null  object\n",
            " 9   foundation_type                         86868 non-null  object\n",
            " 10  roof_type                               86868 non-null  object\n",
            " 11  ground_floor_type                       86868 non-null  object\n",
            " 12  other_floor_type                        86868 non-null  object\n",
            " 13  position                                86868 non-null  object\n",
            " 14  plan_configuration                      86868 non-null  object\n",
            " 15  has_superstructure_adobe_mud            86868 non-null  int64 \n",
            " 16  has_superstructure_mud_mortar_stone     86868 non-null  int64 \n",
            " 17  has_superstructure_stone_flag           86868 non-null  int64 \n",
            " 18  has_superstructure_cement_mortar_stone  86868 non-null  int64 \n",
            " 19  has_superstructure_mud_mortar_brick     86868 non-null  int64 \n",
            " 20  has_superstructure_cement_mortar_brick  86868 non-null  int64 \n",
            " 21  has_superstructure_timber               86868 non-null  int64 \n",
            " 22  has_superstructure_bamboo               86868 non-null  int64 \n",
            " 23  has_superstructure_rc_non_engineered    86868 non-null  int64 \n",
            " 24  has_superstructure_rc_engineered        86868 non-null  int64 \n",
            " 25  has_superstructure_other                86868 non-null  int64 \n",
            " 26  legal_ownership_status                  86868 non-null  object\n",
            " 27  count_families                          86868 non-null  int64 \n",
            " 28  has_secondary_use                       86868 non-null  int64 \n",
            " 29  has_secondary_use_agriculture           86868 non-null  int64 \n",
            " 30  has_secondary_use_hotel                 86868 non-null  int64 \n",
            " 31  has_secondary_use_rental                86868 non-null  int64 \n",
            " 32  has_secondary_use_institution           86868 non-null  int64 \n",
            " 33  has_secondary_use_school                86868 non-null  int64 \n",
            " 34  has_secondary_use_industry              86868 non-null  int64 \n",
            " 35  has_secondary_use_health_post           86868 non-null  int64 \n",
            " 36  has_secondary_use_gov_office            86868 non-null  int64 \n",
            " 37  has_secondary_use_use_police            86868 non-null  int64 \n",
            " 38  has_secondary_use_other                 86868 non-null  int64 \n",
            "dtypes: int64(31), object(8)\n",
            "memory usage: 25.8+ MB\n"
          ],
          "name": "stdout"
        }
      ]
    },
    {
      "cell_type": "code",
      "metadata": {
        "id": "Lj-pPKkmppQC"
      },
      "source": [
        "selected_features = ['foundation_type',\n",
        "                     'ground_floor_type', \n",
        "                     'area_percentage', \n",
        "                     'height_percentage',\n",
        "                     'count_families',\n",
        "                     'count_floors_pre_eq',\n",
        "                     'plan_configuration',\n",
        "                     'roof_type',\n",
        "                     'has_superstructure_stone_flag',\n",
        "                     'has_superstructure_adobe_mud',\n",
        "                     'has_superstructure_mud_mortar_stone',\n",
        "                     'has_superstructure_cement_mortar_stone',\n",
        "                     'has_superstructure_cement_mortar_brick',\n",
        "                     'has_superstructure_bamboo',\n",
        "                     'has_superstructure_rc_non_engineered',\n",
        "                     'has_superstructure_rc_engineered',\n",
        "                     'land_surface_condition',\n",
        "                     'has_secondary_use_agriculture',\n",
        "                     'has_secondary_use_hotel',\n",
        "                     'has_secondary_use_rental',\n",
        "                     'has_secondary_use_other']\n",
        "\n",
        "test_values_subset = test_values[selected_features]\n",
        "test_values_subset = pd.get_dummies(test_values_subset)"
      ],
      "execution_count": 99,
      "outputs": []
    },
    {
      "cell_type": "code",
      "metadata": {
        "colab": {
          "base_uri": "https://localhost:8080/"
        },
        "id": "FqCpq6rHq3yd",
        "outputId": "ad66fddc-049b-44f8-bac7-8f3326ad9bb4"
      },
      "source": [
        "test_values_subset.info()"
      ],
      "execution_count": 100,
      "outputs": [
        {
          "output_type": "stream",
          "text": [
            "<class 'pandas.core.frame.DataFrame'>\n",
            "RangeIndex: 86868 entries, 0 to 86867\n",
            "Data columns (total 42 columns):\n",
            " #   Column                                  Non-Null Count  Dtype\n",
            "---  ------                                  --------------  -----\n",
            " 0   area_percentage                         86868 non-null  int64\n",
            " 1   height_percentage                       86868 non-null  int64\n",
            " 2   count_families                          86868 non-null  int64\n",
            " 3   count_floors_pre_eq                     86868 non-null  int64\n",
            " 4   has_superstructure_stone_flag           86868 non-null  int64\n",
            " 5   has_superstructure_adobe_mud            86868 non-null  int64\n",
            " 6   has_superstructure_mud_mortar_stone     86868 non-null  int64\n",
            " 7   has_superstructure_cement_mortar_stone  86868 non-null  int64\n",
            " 8   has_superstructure_cement_mortar_brick  86868 non-null  int64\n",
            " 9   has_superstructure_bamboo               86868 non-null  int64\n",
            " 10  has_superstructure_rc_non_engineered    86868 non-null  int64\n",
            " 11  has_superstructure_rc_engineered        86868 non-null  int64\n",
            " 12  has_secondary_use_agriculture           86868 non-null  int64\n",
            " 13  has_secondary_use_hotel                 86868 non-null  int64\n",
            " 14  has_secondary_use_rental                86868 non-null  int64\n",
            " 15  has_secondary_use_other                 86868 non-null  int64\n",
            " 16  foundation_type_h                       86868 non-null  uint8\n",
            " 17  foundation_type_i                       86868 non-null  uint8\n",
            " 18  foundation_type_r                       86868 non-null  uint8\n",
            " 19  foundation_type_u                       86868 non-null  uint8\n",
            " 20  foundation_type_w                       86868 non-null  uint8\n",
            " 21  ground_floor_type_f                     86868 non-null  uint8\n",
            " 22  ground_floor_type_m                     86868 non-null  uint8\n",
            " 23  ground_floor_type_v                     86868 non-null  uint8\n",
            " 24  ground_floor_type_x                     86868 non-null  uint8\n",
            " 25  ground_floor_type_z                     86868 non-null  uint8\n",
            " 26  plan_configuration_a                    86868 non-null  uint8\n",
            " 27  plan_configuration_c                    86868 non-null  uint8\n",
            " 28  plan_configuration_d                    86868 non-null  uint8\n",
            " 29  plan_configuration_f                    86868 non-null  uint8\n",
            " 30  plan_configuration_m                    86868 non-null  uint8\n",
            " 31  plan_configuration_n                    86868 non-null  uint8\n",
            " 32  plan_configuration_o                    86868 non-null  uint8\n",
            " 33  plan_configuration_q                    86868 non-null  uint8\n",
            " 34  plan_configuration_s                    86868 non-null  uint8\n",
            " 35  plan_configuration_u                    86868 non-null  uint8\n",
            " 36  roof_type_n                             86868 non-null  uint8\n",
            " 37  roof_type_q                             86868 non-null  uint8\n",
            " 38  roof_type_x                             86868 non-null  uint8\n",
            " 39  land_surface_condition_n                86868 non-null  uint8\n",
            " 40  land_surface_condition_o                86868 non-null  uint8\n",
            " 41  land_surface_condition_t                86868 non-null  uint8\n",
            "dtypes: int64(16), uint8(26)\n",
            "memory usage: 12.8 MB\n"
          ],
          "name": "stdout"
        }
      ]
    },
    {
      "cell_type": "code",
      "metadata": {
        "id": "1VSsNFc_q8d-"
      },
      "source": [
        "predictions = rf_model.predict(test_values_subset)"
      ],
      "execution_count": 101,
      "outputs": []
    },
    {
      "cell_type": "code",
      "metadata": {
        "id": "ucV1WAcAsJWD"
      },
      "source": [
        "submission_format = pd.read_csv('/content/drive/MyDrive/submission_format.csv', index_col = 'building_id')"
      ],
      "execution_count": 102,
      "outputs": []
    },
    {
      "cell_type": "code",
      "metadata": {
        "colab": {
          "base_uri": "https://localhost:8080/",
          "height": 235
        },
        "id": "6hDdgocusccL",
        "outputId": "9cddcb67-72b0-4f59-dbb2-6d03cefbe74f"
      },
      "source": [
        "submission_format.head()"
      ],
      "execution_count": 103,
      "outputs": [
        {
          "output_type": "execute_result",
          "data": {
            "text/html": [
              "<div>\n",
              "<style scoped>\n",
              "    .dataframe tbody tr th:only-of-type {\n",
              "        vertical-align: middle;\n",
              "    }\n",
              "\n",
              "    .dataframe tbody tr th {\n",
              "        vertical-align: top;\n",
              "    }\n",
              "\n",
              "    .dataframe thead th {\n",
              "        text-align: right;\n",
              "    }\n",
              "</style>\n",
              "<table border=\"1\" class=\"dataframe\">\n",
              "  <thead>\n",
              "    <tr style=\"text-align: right;\">\n",
              "      <th></th>\n",
              "      <th>damage_grade</th>\n",
              "    </tr>\n",
              "    <tr>\n",
              "      <th>building_id</th>\n",
              "      <th></th>\n",
              "    </tr>\n",
              "  </thead>\n",
              "  <tbody>\n",
              "    <tr>\n",
              "      <th>300051</th>\n",
              "      <td>1</td>\n",
              "    </tr>\n",
              "    <tr>\n",
              "      <th>99355</th>\n",
              "      <td>1</td>\n",
              "    </tr>\n",
              "    <tr>\n",
              "      <th>890251</th>\n",
              "      <td>1</td>\n",
              "    </tr>\n",
              "    <tr>\n",
              "      <th>745817</th>\n",
              "      <td>1</td>\n",
              "    </tr>\n",
              "    <tr>\n",
              "      <th>421793</th>\n",
              "      <td>1</td>\n",
              "    </tr>\n",
              "  </tbody>\n",
              "</table>\n",
              "</div>"
            ],
            "text/plain": [
              "             damage_grade\n",
              "building_id              \n",
              "300051                  1\n",
              "99355                   1\n",
              "890251                  1\n",
              "745817                  1\n",
              "421793                  1"
            ]
          },
          "metadata": {
            "tags": []
          },
          "execution_count": 103
        }
      ]
    },
    {
      "cell_type": "code",
      "metadata": {
        "id": "Bttdte9csiDM"
      },
      "source": [
        "my_submission = pd.DataFrame(data = predictions,\n",
        "                             columns = submission_format.columns,\n",
        "                             index = submission_format.index)"
      ],
      "execution_count": 104,
      "outputs": []
    },
    {
      "cell_type": "code",
      "metadata": {
        "colab": {
          "base_uri": "https://localhost:8080/"
        },
        "id": "Aoa-igHD1WYO",
        "outputId": "07370d03-b4bf-4b95-facc-4e7367697a5b"
      },
      "source": [
        "my_submission.value_counts()"
      ],
      "execution_count": 105,
      "outputs": [
        {
          "output_type": "execute_result",
          "data": {
            "text/plain": [
              "damage_grade\n",
              "2               72557\n",
              "3               10310\n",
              "1                4001\n",
              "dtype: int64"
            ]
          },
          "metadata": {
            "tags": []
          },
          "execution_count": 105
        }
      ]
    },
    {
      "cell_type": "code",
      "metadata": {
        "id": "vZv_V9pc3_i1"
      },
      "source": [
        "my_submission.to_csv('/content/drive/MyDrive/submission.csv')"
      ],
      "execution_count": 108,
      "outputs": []
    },
    {
      "cell_type": "code",
      "metadata": {
        "colab": {
          "base_uri": "https://localhost:8080/"
        },
        "id": "z1SQBfLj4LD7",
        "outputId": "f53f87af-fe34-4c25-f2aa-e2108a494f2e"
      },
      "source": [
        "!head submission.csv"
      ],
      "execution_count": 109,
      "outputs": [
        {
          "output_type": "stream",
          "text": [
            "building_id,damage_grade\n",
            "300051,3\n",
            "99355,2\n",
            "890251,2\n",
            "745817,2\n",
            "421793,3\n",
            "871976,3\n",
            "691228,2\n",
            "896100,2\n",
            "343471,2\n"
          ],
          "name": "stdout"
        }
      ]
    }
  ]
}