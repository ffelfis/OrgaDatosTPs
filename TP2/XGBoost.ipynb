{
  "nbformat": 4,
  "nbformat_minor": 0,
  "metadata": {
    "colab": {
      "name": "XGBoost.ipynb",
      "provenance": []
    },
    "kernelspec": {
      "name": "python3",
      "display_name": "Python 3"
    },
    "language_info": {
      "name": "python"
    }
  },
  "cells": [
    {
      "cell_type": "code",
      "metadata": {
        "id": "ZWqUH9OwIkIf"
      },
      "source": [
        "import pandas as pd\n",
        "import numpy as np\n",
        "from xgboost import XGBClassifier\n",
        "from sklearn.metrics import f1_score\n",
        "from sklearn.model_selection import train_test_split"
      ],
      "execution_count": 1,
      "outputs": []
    },
    {
      "cell_type": "code",
      "metadata": {
        "colab": {
          "base_uri": "https://localhost:8080/"
        },
        "id": "t3o8DLczRf-n",
        "outputId": "a178f92d-9188-48a6-a2ea-c53d802ddcb5"
      },
      "source": [
        "from google.colab import drive\n",
        "drive.mount('/content/drive')"
      ],
      "execution_count": 2,
      "outputs": [
        {
          "output_type": "stream",
          "text": [
            "Mounted at /content/drive\n"
          ],
          "name": "stdout"
        }
      ]
    },
    {
      "cell_type": "code",
      "metadata": {
        "id": "V8euLckGbwcQ"
      },
      "source": [
        "train_values = pd.read_csv('/content/drive/MyDrive/train_values.csv')\n",
        "\n",
        "train_labels = pd.read_csv('/content/drive/MyDrive/train_labels.csv')"
      ],
      "execution_count": 3,
      "outputs": []
    },
    {
      "cell_type": "code",
      "metadata": {
        "id": "7pBSY2InR54x"
      },
      "source": [
        "data = train_values.merge(train_labels)"
      ],
      "execution_count": 4,
      "outputs": []
    },
    {
      "cell_type": "code",
      "metadata": {
        "id": "QzvdWg8GhC3T"
      },
      "source": [
        "features_elegidos = ['area_percentage', \n",
        "                     'height_percentage',\n",
        "                     'count_families',\n",
        "                     'count_floors_pre_eq',\n",
        "                     'foundation_type',\n",
        "                     'ground_floor_type',\n",
        "                     'plan_configuration',\n",
        "                     'roof_type',\n",
        "                     'land_surface_condition',\n",
        "                     'has_superstructure_stone_flag',\n",
        "                     'has_superstructure_adobe_mud',\n",
        "                     'has_superstructure_mud_mortar_stone',\n",
        "                     'has_superstructure_cement_mortar_stone',\n",
        "                     'has_superstructure_cement_mortar_brick',\n",
        "                     'has_superstructure_bamboo',\n",
        "                     'has_superstructure_rc_non_engineered',\n",
        "                     'has_superstructure_rc_engineered',\n",
        "                     'has_secondary_use_agriculture',\n",
        "                     'has_secondary_use_hotel',\n",
        "                     'has_secondary_use_rental',\n",
        "                     'has_secondary_use_other',\n",
        "                     'damage_grade']\n",
        "\n",
        "train_values_short = data[features_elegidos]"
      ],
      "execution_count": null,
      "outputs": []
    },
    {
      "cell_type": "code",
      "metadata": {
        "id": "glzoc1noRS0R"
      },
      "source": [
        "train_values_short = pd.get_dummies(train_values_short)"
      ],
      "execution_count": null,
      "outputs": []
    },
    {
      "cell_type": "code",
      "metadata": {
        "id": "QFePvWbESFwE"
      },
      "source": [
        "# Dividimos los datos en entrenamiento y prueba\n",
        "\n",
        "# x contiene los features independientes\n",
        "x = train_values_short.drop(['damage_grade'], axis = 1)\n",
        "\n",
        "# y contiene la variable target damage_grade\n",
        "y = train_values_short['damage_grade']\n",
        "\n",
        "x_train, x_test, y_train, y_test = train_test_split(x, y, random_state = 123)"
      ],
      "execution_count": null,
      "outputs": []
    },
    {
      "cell_type": "markdown",
      "metadata": {
        "id": "4zBxlUDiXf0T"
      },
      "source": [
        "**XGBoost**"
      ]
    },
    {
      "cell_type": "code",
      "metadata": {
        "id": "XqDmAeMTXrdv"
      },
      "source": [
        "# Creamos el modelo de XGBoost\n",
        "\n",
        "xgboost_model = XGBClassifier(objetive = 'binary:logistic', n_estimators = 10)"
      ],
      "execution_count": null,
      "outputs": []
    },
    {
      "cell_type": "code",
      "metadata": {
        "colab": {
          "base_uri": "https://localhost:8080/"
        },
        "id": "BP7Qqh7kY3dN",
        "outputId": "de7e52d0-459f-4f62-dae2-37871f45af7d"
      },
      "source": [
        "# Entrenamos el modelo\n",
        "\n",
        "xgboost_model.fit(x_train, y_train)"
      ],
      "execution_count": null,
      "outputs": [
        {
          "output_type": "execute_result",
          "data": {
            "text/plain": [
              "XGBClassifier(base_score=0.5, booster='gbtree', colsample_bylevel=1,\n",
              "              colsample_bynode=1, colsample_bytree=1, gamma=0,\n",
              "              learning_rate=0.1, max_delta_step=0, max_depth=3,\n",
              "              min_child_weight=1, missing=None, n_estimators=10, n_jobs=1,\n",
              "              nthread=None, objective='multi:softprob',\n",
              "              objetive='binary:logistic', random_state=0, reg_alpha=0,\n",
              "              reg_lambda=1, scale_pos_weight=1, seed=None, silent=None,\n",
              "              subsample=1, verbosity=1)"
            ]
          },
          "metadata": {
            "tags": []
          },
          "execution_count": 13
        }
      ]
    },
    {
      "cell_type": "code",
      "metadata": {
        "colab": {
          "base_uri": "https://localhost:8080/"
        },
        "id": "v21in6G8ZlrB",
        "outputId": "bedf8e4c-ea2a-4d8b-baaa-94e12a9b4983"
      },
      "source": [
        "# Evaluamos los resultados\n",
        "\n",
        "preds = xgboost_model.predict(x_test)\n",
        "f1_score(y_test, preds, average = 'micro')"
      ],
      "execution_count": null,
      "outputs": [
        {
          "output_type": "execute_result",
          "data": {
            "text/plain": [
              "0.5740050037604949"
            ]
          },
          "metadata": {
            "tags": []
          },
          "execution_count": 14
        }
      ]
    },
    {
      "cell_type": "markdown",
      "metadata": {
        "id": "LwXtiXYaaZ4t"
      },
      "source": [
        "Variamos los hiperparámetros"
      ]
    },
    {
      "cell_type": "code",
      "metadata": {
        "colab": {
          "base_uri": "https://localhost:8080/"
        },
        "id": "2gY69wlxaeD_",
        "outputId": "70dfc8d5-9c90-426b-b049-0e461b4f1458"
      },
      "source": [
        "xgboost_model = XGBClassifier(objetive = 'binary:logistic', n_estimators = 100)\n",
        "\n",
        "xgboost_model.fit(x_train, y_train)\n",
        "\n",
        "preds = xgboost_model.predict(x_test)\n",
        "f1_score(y_test, preds, average = 'micro')"
      ],
      "execution_count": null,
      "outputs": [
        {
          "output_type": "execute_result",
          "data": {
            "text/plain": [
              "0.5894460560850946"
            ]
          },
          "metadata": {
            "tags": []
          },
          "execution_count": 15
        }
      ]
    },
    {
      "cell_type": "code",
      "metadata": {
        "colab": {
          "base_uri": "https://localhost:8080/"
        },
        "id": "cEe-0fFHcYpq",
        "outputId": "d4b1ea62-964d-407e-9fd1-a4c4229b4334"
      },
      "source": [
        "xgboost_model = XGBClassifier(objetive = 'binary:logistic', n_estimators = 100,\n",
        "                              colsample_bytree = 0.3, learning_rate = 0.1,\n",
        "                              max_depth = 5, alpha = 10)\n",
        "\n",
        "xgboost_model.fit(x_train, y_train)\n",
        "\n",
        "preds = xgboost_model.predict(x_test)\n",
        "f1_score(y_test, preds, average = 'micro')"
      ],
      "execution_count": null,
      "outputs": [
        {
          "output_type": "execute_result",
          "data": {
            "text/plain": [
              "0.5938972540713112"
            ]
          },
          "metadata": {
            "tags": []
          },
          "execution_count": 16
        }
      ]
    },
    {
      "cell_type": "code",
      "metadata": {
        "colab": {
          "base_uri": "https://localhost:8080/"
        },
        "id": "OiSfef3ed70E",
        "outputId": "36c7ee0e-5aa7-4bf0-c1bc-6df80bb0eb17"
      },
      "source": [
        "xgboost_model = XGBClassifier(objetive = 'binary:logistic', n_estimators = 80,\n",
        "                              colsample_bytree = 0.3, learning_rate = 0.1,\n",
        "                              max_depth = 5, alpha = 10)\n",
        "\n",
        "xgboost_model.fit(x_train, y_train)\n",
        "\n",
        "preds = xgboost_model.predict(x_test)\n",
        "f1_score(y_test, preds, average = 'micro')"
      ],
      "execution_count": null,
      "outputs": [
        {
          "output_type": "execute_result",
          "data": {
            "text/plain": [
              "0.5933600405212507"
            ]
          },
          "metadata": {
            "tags": []
          },
          "execution_count": 17
        }
      ]
    },
    {
      "cell_type": "code",
      "metadata": {
        "colab": {
          "base_uri": "https://localhost:8080/"
        },
        "id": "TkQGMo9Pedfo",
        "outputId": "82ed9e09-7b7c-4d3f-a48d-b02708a8fd5a"
      },
      "source": [
        "xgboost_model = XGBClassifier(objetive = 'binary:logistic', n_estimators = 90,\n",
        "                              colsample_bytree = 0.3, learning_rate = 0.1,\n",
        "                              max_depth = 5, alpha = 10)\n",
        "\n",
        "xgboost_model.fit(x_train, y_train)\n",
        "\n",
        "preds = xgboost_model.predict(x_test)\n",
        "f1_score(y_test, preds, average = 'micro')"
      ],
      "execution_count": null,
      "outputs": [
        {
          "output_type": "execute_result",
          "data": {
            "text/plain": [
              "0.5936977176098601"
            ]
          },
          "metadata": {
            "tags": []
          },
          "execution_count": 18
        }
      ]
    },
    {
      "cell_type": "code",
      "metadata": {
        "colab": {
          "base_uri": "https://localhost:8080/"
        },
        "id": "FekPQnFdey_7",
        "outputId": "dc43b27a-4cf0-4f9f-e2e5-9c94a42f6299"
      },
      "source": [
        "xgboost_model = XGBClassifier(objetive = 'binary:logistic', n_estimators = 100,\n",
        "                              colsample_bytree = 0.3, learning_rate = 0.1,\n",
        "                              max_depth = 4, alpha = 10)\n",
        "\n",
        "xgboost_model.fit(x_train, y_train)\n",
        "\n",
        "preds = xgboost_model.predict(x_test)\n",
        "f1_score(y_test, preds, average = 'micro')"
      ],
      "execution_count": null,
      "outputs": [
        {
          "output_type": "execute_result",
          "data": {
            "text/plain": [
              "0.5913186290310203"
            ]
          },
          "metadata": {
            "tags": []
          },
          "execution_count": 19
        }
      ]
    },
    {
      "cell_type": "code",
      "metadata": {
        "colab": {
          "base_uri": "https://localhost:8080/"
        },
        "id": "U56UrsTAfRka",
        "outputId": "5007229c-2f0e-405a-cc85-3ce2ae01a4c1"
      },
      "source": [
        "xgboost_model = XGBClassifier(objetive = 'binary:logistic', n_estimators = 100,\n",
        "                              colsample_bytree = 0.2, learning_rate = 0.1,\n",
        "                              max_depth = 5, alpha = 10)\n",
        "\n",
        "xgboost_model.fit(x_train, y_train)\n",
        "\n",
        "preds = xgboost_model.predict(x_test)\n",
        "f1_score(y_test, preds, average = 'micro')"
      ],
      "execution_count": null,
      "outputs": [
        {
          "output_type": "execute_result",
          "data": {
            "text/plain": [
              "0.5910423477767034"
            ]
          },
          "metadata": {
            "tags": []
          },
          "execution_count": 20
        }
      ]
    },
    {
      "cell_type": "code",
      "metadata": {
        "colab": {
          "base_uri": "https://localhost:8080/"
        },
        "id": "KKjA6Kwfha6B",
        "outputId": "d2aba6fe-3e00-43cd-aa19-16dbb437980b"
      },
      "source": [
        "xgboost_model = XGBClassifier(objetive = 'binary:logistic', n_estimators = 100,\n",
        "                              colsample_bytree = 0.4, learning_rate = 0.1,\n",
        "                              max_depth = 5, alpha = 10)\n",
        "\n",
        "xgboost_model.fit(x_train, y_train)\n",
        "\n",
        "preds = xgboost_model.predict(x_test)\n",
        "f1_score(y_test, preds, average = 'micro')"
      ],
      "execution_count": null,
      "outputs": [
        {
          "output_type": "execute_result",
          "data": {
            "text/plain": [
              "0.5951558686743105"
            ]
          },
          "metadata": {
            "tags": []
          },
          "execution_count": 21
        }
      ]
    },
    {
      "cell_type": "markdown",
      "metadata": {
        "id": "nJY_P-BbiqCe"
      },
      "source": [
        "Probando con la función objetivo reg:logistic se obtienen los mismos scores"
      ]
    },
    {
      "cell_type": "code",
      "metadata": {
        "colab": {
          "base_uri": "https://localhost:8080/"
        },
        "id": "d5OVRPh7i0TH",
        "outputId": "2dbfcd54-655b-4555-ded7-118ccdf26009"
      },
      "source": [
        "xgboost_model = XGBClassifier(objetive = 'reg:logistic', n_estimators = 100,\n",
        "                              colsample_bytree = 0.3, learning_rate = 0.1,\n",
        "                              max_depth = 5, alpha = 10)\n",
        "\n",
        "xgboost_model.fit(x_train, y_train)\n",
        "\n",
        "preds = xgboost_model.predict(x_test)\n",
        "f1_score(y_test, preds, average = 'micro')"
      ],
      "execution_count": null,
      "outputs": [
        {
          "output_type": "execute_result",
          "data": {
            "text/plain": [
              "0.5938972540713112"
            ]
          },
          "metadata": {
            "tags": []
          },
          "execution_count": 22
        }
      ]
    },
    {
      "cell_type": "code",
      "metadata": {
        "colab": {
          "base_uri": "https://localhost:8080/"
        },
        "id": "zi-ZIwRvjQw6",
        "outputId": "01d24e88-9618-48d5-f8e2-9d71f36690a7"
      },
      "source": [
        "xgboost_model = XGBClassifier(objetive = 'reg:logistic', n_estimators = 100,\n",
        "                              colsample_bytree = 0.4, learning_rate = 0.1,\n",
        "                              max_depth = 5, alpha = 10)\n",
        "\n",
        "xgboost_model.fit(x_train, y_train)\n",
        "\n",
        "preds = xgboost_model.predict(x_test)\n",
        "f1_score(y_test, preds, average = 'micro')"
      ],
      "execution_count": null,
      "outputs": [
        {
          "output_type": "execute_result",
          "data": {
            "text/plain": [
              "0.5951558686743105"
            ]
          },
          "metadata": {
            "tags": []
          },
          "execution_count": 23
        }
      ]
    },
    {
      "cell_type": "markdown",
      "metadata": {
        "id": "T3AFgMH-jnEY"
      },
      "source": [
        "Variando el learning rate"
      ]
    },
    {
      "cell_type": "code",
      "metadata": {
        "colab": {
          "base_uri": "https://localhost:8080/"
        },
        "id": "DdLs99RskLxi",
        "outputId": "8afd3486-7ecf-4bcf-b42b-76a165ed9b95"
      },
      "source": [
        "xgboost_model = XGBClassifier(objetive = 'binary:logistic', n_estimators = 100,\n",
        "                              colsample_bytree = 0.4, learning_rate = 0.1,\n",
        "                              max_depth = 5, alpha = 10, seed = 123)\n",
        "\n",
        "xgboost_model.fit(x_train, y_train)\n",
        "\n",
        "preds = xgboost_model.predict(x_test)\n",
        "f1_score(y_test, preds, average = 'micro')"
      ],
      "execution_count": null,
      "outputs": [
        {
          "output_type": "execute_result",
          "data": {
            "text/plain": [
              "0.5957544780586638"
            ]
          },
          "metadata": {
            "tags": []
          },
          "execution_count": 25
        }
      ]
    },
    {
      "cell_type": "code",
      "metadata": {
        "colab": {
          "base_uri": "https://localhost:8080/"
        },
        "id": "tjNvBsC2l3Ib",
        "outputId": "615f5c34-faeb-47d5-afd9-f11386c6fc7a"
      },
      "source": [
        "xgboost_model = XGBClassifier(objetive = 'binary:logistic', n_estimators = 100,\n",
        "                              colsample_bytree = 0.4, learning_rate = 0.2,\n",
        "                              max_depth = 5, alpha = 10, seed = 123)\n",
        "\n",
        "xgboost_model.fit(x_train, y_train)\n",
        "\n",
        "preds = xgboost_model.predict(x_test)\n",
        "f1_score(y_test, preds, average = 'micro')"
      ],
      "execution_count": null,
      "outputs": [
        {
          "output_type": "execute_result",
          "data": {
            "text/plain": [
              "0.5969823947445165"
            ]
          },
          "metadata": {
            "tags": []
          },
          "execution_count": 26
        }
      ]
    },
    {
      "cell_type": "markdown",
      "metadata": {
        "id": "xE4cUNbXTqz2"
      },
      "source": [
        "Agregamos más Features"
      ]
    },
    {
      "cell_type": "code",
      "metadata": {
        "id": "E7vgQMvbVXfZ"
      },
      "source": [
        "features_elegidos = ['area_percentage', \n",
        "                     'height_percentage',\n",
        "                     'count_families',\n",
        "                     'count_floors_pre_eq',\n",
        "\n",
        "                     'foundation_type',\n",
        "                     'ground_floor_type',\n",
        "                     'plan_configuration',\n",
        "                     'roof_type',\n",
        "                     'land_surface_condition',\n",
        "                     'position',\n",
        "                     'other_floor_type',\n",
        "\n",
        "                     'has_superstructure_stone_flag',\n",
        "                     'has_superstructure_adobe_mud',\n",
        "                     'has_superstructure_mud_mortar_stone',\n",
        "                     'has_superstructure_mud_mortar_brick',\n",
        "                     'has_superstructure_cement_mortar_stone',\n",
        "                     'has_superstructure_cement_mortar_brick',\n",
        "                     'has_superstructure_bamboo',\n",
        "                     'has_superstructure_rc_non_engineered',\n",
        "                     'has_superstructure_rc_engineered',\n",
        "                     'has_superstructure_timber',\n",
        "                     'has_superstructure_other',\n",
        "\n",
        "                     'has_secondary_use',\n",
        "                     'has_secondary_use_agriculture',\n",
        "                     'has_secondary_use_hotel',\n",
        "                     'has_secondary_use_rental',\n",
        "                     'has_secondary_use_institution',\n",
        "                     'has_secondary_use_school',\n",
        "                     'has_secondary_use_industry',\n",
        "                     'has_secondary_use_health_post',\n",
        "                     'has_secondary_use_gov_office',\n",
        "                     'has_secondary_use_use_police',\n",
        "                     'has_secondary_use_other',\n",
        "                     'damage_grade']\n",
        "\n",
        "train_values_short = data[features_elegidos]"
      ],
      "execution_count": null,
      "outputs": []
    },
    {
      "cell_type": "code",
      "metadata": {
        "id": "0iQK0YPkWmUn"
      },
      "source": [
        "train_values_short = pd.get_dummies(train_values_short)"
      ],
      "execution_count": null,
      "outputs": []
    },
    {
      "cell_type": "code",
      "metadata": {
        "id": "EMaueVxOWoGf"
      },
      "source": [
        "# Dividimos los datos en entrenamiento y prueba\n",
        "\n",
        "# x contiene los features independientes\n",
        "x = train_values_short.drop(['damage_grade'], axis = 1)\n",
        "\n",
        "# y contiene la variable dependiente damage_grade\n",
        "y = train_values_short['damage_grade']\n",
        "\n",
        "x_train, x_test, y_train, y_test = train_test_split(x, y, random_state = 0)"
      ],
      "execution_count": null,
      "outputs": []
    },
    {
      "cell_type": "code",
      "metadata": {
        "colab": {
          "base_uri": "https://localhost:8080/"
        },
        "id": "U5PuapdDOPrg",
        "outputId": "9c509569-e598-4d7d-ed17-836c45eda5a7"
      },
      "source": [
        "xgboost_model = XGBClassifier(objetive = 'binary:logistic', n_estimators = 100,\n",
        "                              colsample_bytree = 0.4, learning_rate = 0.2,\n",
        "                              max_depth = 5, alpha = 10, seed = 123)\n",
        "\n",
        "xgboost_model.fit(x_train, y_train)\n",
        "\n",
        "preds = xgboost_model.predict(x_test)\n",
        "f1_score(y_test, preds, average = 'micro')"
      ],
      "execution_count": null,
      "outputs": [
        {
          "output_type": "execute_result",
          "data": {
            "text/plain": [
              "0.6037205875581342"
            ]
          },
          "metadata": {
            "tags": []
          },
          "execution_count": 43
        }
      ]
    },
    {
      "cell_type": "markdown",
      "metadata": {
        "id": "4eiYsZAQZH4-"
      },
      "source": [
        "Algunos features de uso secundario se encuentran en pocos registros del dataset de entrenamiento, por lo que no tendrían demasiada importancia en el modelo y podrían causar overfitting."
      ]
    },
    {
      "cell_type": "code",
      "metadata": {
        "id": "bpv1abSwaS7i"
      },
      "source": [
        "features_elegidos = ['area_percentage', \n",
        "                     'height_percentage',\n",
        "                     'count_families',\n",
        "                     'count_floors_pre_eq',\n",
        "\n",
        "                     'foundation_type',\n",
        "                     'ground_floor_type',\n",
        "                     'plan_configuration',\n",
        "                     'roof_type',\n",
        "                     'land_surface_condition',\n",
        "                     'position',\n",
        "                     'other_floor_type',\n",
        "\n",
        "                     'has_superstructure_stone_flag',\n",
        "                     'has_superstructure_adobe_mud',\n",
        "                     'has_superstructure_mud_mortar_stone',\n",
        "                     'has_superstructure_mud_mortar_brick',\n",
        "                     'has_superstructure_cement_mortar_stone',\n",
        "                     'has_superstructure_cement_mortar_brick',\n",
        "                     'has_superstructure_bamboo',\n",
        "                     'has_superstructure_rc_non_engineered',\n",
        "                     'has_superstructure_rc_engineered',\n",
        "                     'has_superstructure_timber',\n",
        "                     'has_superstructure_other',\n",
        "\n",
        "                     'has_secondary_use_agriculture',\n",
        "                     'has_secondary_use_hotel',\n",
        "                     'has_secondary_use_rental',\n",
        "                     'has_secondary_use_other',\n",
        "                     'damage_grade']\n",
        "\n",
        "train_values_short = data[features_elegidos]"
      ],
      "execution_count": 25,
      "outputs": []
    },
    {
      "cell_type": "code",
      "metadata": {
        "id": "Huy2BPd-aesH"
      },
      "source": [
        "train_values_short = pd.get_dummies(train_values_short)"
      ],
      "execution_count": 26,
      "outputs": []
    },
    {
      "cell_type": "code",
      "metadata": {
        "id": "L5wx7CfoahP7"
      },
      "source": [
        "# Dividimos los datos en entrenamiento y prueba\n",
        "\n",
        "# x contiene los features independientes\n",
        "x = train_values_short.drop(['damage_grade'], axis = 1)\n",
        "\n",
        "# y contiene la variable dependiente damage_grade\n",
        "y = train_values_short['damage_grade']\n",
        "\n",
        "x_train, x_test, y_train, y_test = train_test_split(x, y, random_state = 0)"
      ],
      "execution_count": 27,
      "outputs": []
    },
    {
      "cell_type": "code",
      "metadata": {
        "colab": {
          "base_uri": "https://localhost:8080/"
        },
        "id": "egTsZgt4aj8e",
        "outputId": "f1886d70-9dec-4c9d-f722-575c56f806f5"
      },
      "source": [
        "xgboost_model = XGBClassifier(objetive = 'binary:logistic', n_estimators = 100,\n",
        "                              colsample_bytree = 0.4, learning_rate = 0.2,\n",
        "                              max_depth = 5, alpha = 10, seed = 123)\n",
        "\n",
        "xgboost_model.fit(x_train, y_train)\n",
        "\n",
        "preds = xgboost_model.predict(x_test)\n",
        "f1_score(y_test, preds, average = 'micro')"
      ],
      "execution_count": null,
      "outputs": [
        {
          "output_type": "execute_result",
          "data": {
            "text/plain": [
              "0.6042117542324753"
            ]
          },
          "metadata": {
            "tags": []
          },
          "execution_count": 48
        }
      ]
    },
    {
      "cell_type": "markdown",
      "metadata": {
        "id": "E5xPH16GViyc"
      },
      "source": [
        "Agregamos geo_level_1_id"
      ]
    },
    {
      "cell_type": "code",
      "metadata": {
        "colab": {
          "base_uri": "https://localhost:8080/"
        },
        "id": "plNsjzInV1Ih",
        "outputId": "502b20d5-3071-4eea-c242-845bff071297"
      },
      "source": [
        "xgboost_model = XGBClassifier(objetive = 'binary:logistic', n_estimators = 100,\n",
        "                              colsample_bytree = 0.4, learning_rate = 0.2,\n",
        "                              max_depth = 5, alpha = 10, seed = 123)\n",
        "\n",
        "xgboost_model.fit(x_train, y_train)\n",
        "\n",
        "preds = xgboost_model.predict(x_test)\n",
        "f1_score(y_test, preds, average = 'micro')"
      ],
      "execution_count": 24,
      "outputs": [
        {
          "output_type": "execute_result",
          "data": {
            "text/plain": [
              "0.6846249481972648"
            ]
          },
          "metadata": {
            "tags": []
          },
          "execution_count": 24
        }
      ]
    },
    {
      "cell_type": "markdown",
      "metadata": {
        "id": "xVGYMDqsVo2b"
      },
      "source": [
        "Agregamos geo_level_2_id"
      ]
    },
    {
      "cell_type": "code",
      "metadata": {
        "colab": {
          "base_uri": "https://localhost:8080/"
        },
        "id": "GlSA6LwvWiSZ",
        "outputId": "41bec7e7-1ffc-4d5b-fd2a-cbc2594c705b"
      },
      "source": [
        "xgboost_model = XGBClassifier(objetive = 'binary:logistic', n_estimators = 100,\n",
        "                              colsample_bytree = 0.4, learning_rate = 0.2,\n",
        "                              max_depth = 5, alpha = 10, seed = 123)\n",
        "\n",
        "xgboost_model.fit(x_train, y_train)\n",
        "\n",
        "preds = xgboost_model.predict(x_test)\n",
        "f1_score(y_test, preds, average = 'micro')"
      ],
      "execution_count": 28,
      "outputs": [
        {
          "output_type": "execute_result",
          "data": {
            "text/plain": [
              "0.7012325213734248"
            ]
          },
          "metadata": {
            "tags": []
          },
          "execution_count": 28
        }
      ]
    },
    {
      "cell_type": "markdown",
      "metadata": {
        "id": "IgGIMEsjn9Ur"
      },
      "source": [
        "Agregamos features restantes y aumentamos n_estimators a 200"
      ]
    },
    {
      "cell_type": "code",
      "metadata": {
        "id": "QTlHiwt4oMkF"
      },
      "source": [
        "features_elegidos = ['area_percentage', \n",
        "                     'height_percentage',\n",
        "                     'count_families',\n",
        "                     'count_floors_pre_eq',\n",
        "                     'age',\n",
        "                     'geo_level_1_id',\n",
        "                     'geo_level_2_id',\n",
        "                     'geo_level_3_id',\n",
        "\n",
        "                     'foundation_type',\n",
        "                     'ground_floor_type',\n",
        "                     'plan_configuration',\n",
        "                     'roof_type',\n",
        "                     'land_surface_condition',\n",
        "                     'position',\n",
        "                     'other_floor_type',\n",
        "                     'legal_ownership_status',\n",
        "\n",
        "                     'has_superstructure_stone_flag',\n",
        "                     'has_superstructure_adobe_mud',\n",
        "                     'has_superstructure_mud_mortar_stone',\n",
        "                     'has_superstructure_mud_mortar_brick',\n",
        "                     'has_superstructure_cement_mortar_stone',\n",
        "                     'has_superstructure_cement_mortar_brick',\n",
        "                     'has_superstructure_bamboo',\n",
        "                     'has_superstructure_rc_non_engineered',\n",
        "                     'has_superstructure_rc_engineered',\n",
        "                     'has_superstructure_timber',\n",
        "                     'has_superstructure_other',\n",
        "\n",
        "                     'has_secondary_use_agriculture',\n",
        "                     'has_secondary_use_hotel',\n",
        "                     'has_secondary_use_rental',\n",
        "                     'has_secondary_use_institution',\n",
        "                     'has_secondary_use_school',\n",
        "                     'has_secondary_use_industry',\n",
        "                     'has_secondary_use_health_post',\n",
        "                     'has_secondary_use_gov_office',\n",
        "                     'has_secondary_use_use_police',\n",
        "                     'has_secondary_use_other',\n",
        "                     'damage_grade']\n",
        "\n",
        "train_values_short = data[features_elegidos]"
      ],
      "execution_count": 9,
      "outputs": []
    },
    {
      "cell_type": "code",
      "metadata": {
        "id": "M_-aB5QbotEH"
      },
      "source": [
        "train_values_short = pd.get_dummies(train_values_short)"
      ],
      "execution_count": 10,
      "outputs": []
    },
    {
      "cell_type": "code",
      "metadata": {
        "id": "TD-to_smovJ3"
      },
      "source": [
        "# Dividimos los datos en entrenamiento y prueba\n",
        "\n",
        "# x contiene los features independientes\n",
        "x = train_values_short.drop(['damage_grade'], axis = 1)\n",
        "\n",
        "# y contiene la variable dependiente damage_grade\n",
        "y = train_values_short['damage_grade']\n",
        "\n",
        "x_train, x_test, y_train, y_test = train_test_split(x, y, random_state = 0)"
      ],
      "execution_count": 11,
      "outputs": []
    },
    {
      "cell_type": "code",
      "metadata": {
        "colab": {
          "base_uri": "https://localhost:8080/"
        },
        "id": "Y2OomQGkqtBG",
        "outputId": "265b0f8f-4936-44cc-e3b2-e9526b9b8c16"
      },
      "source": [
        "xgboost_model = XGBClassifier(objetive = 'binary:logistic', n_estimators = 200,\n",
        "                              colsample_bytree = 0.4, learning_rate = 0.2,\n",
        "                              max_depth = 5, alpha = 10, seed = 123)\n",
        "\n",
        "xgboost_model.fit(x_train, y_train)\n",
        "\n",
        "preds = xgboost_model.predict(x_test)\n",
        "f1_score(y_test, preds, average = 'micro')"
      ],
      "execution_count": 12,
      "outputs": [
        {
          "output_type": "execute_result",
          "data": {
            "text/plain": [
              "0.7214164018971313"
            ]
          },
          "metadata": {
            "tags": []
          },
          "execution_count": 12
        }
      ]
    },
    {
      "cell_type": "markdown",
      "metadata": {
        "id": "Ki-KmV-RpQyr"
      },
      "source": [
        "Preparamos la Submission"
      ]
    },
    {
      "cell_type": "code",
      "metadata": {
        "id": "Ci6le_PSped5"
      },
      "source": [
        "test_values = pd.read_csv('/content/drive/MyDrive/test_values.csv')"
      ],
      "execution_count": 13,
      "outputs": []
    },
    {
      "cell_type": "code",
      "metadata": {
        "id": "Lj-pPKkmppQC"
      },
      "source": [
        "selected_features = ['area_percentage', \n",
        "                     'height_percentage',\n",
        "                     'count_families',\n",
        "                     'count_floors_pre_eq',\n",
        "                     'age',\n",
        "                     'geo_level_1_id',\n",
        "                     'geo_level_2_id',\n",
        "                     'geo_level_3_id',\n",
        "\n",
        "                     'foundation_type',\n",
        "                     'ground_floor_type',\n",
        "                     'plan_configuration',\n",
        "                     'roof_type',\n",
        "                     'land_surface_condition',\n",
        "                     'position',\n",
        "                     'other_floor_type',\n",
        "                     'legal_ownership_status',\n",
        "\n",
        "                     'has_superstructure_stone_flag',\n",
        "                     'has_superstructure_adobe_mud',\n",
        "                     'has_superstructure_mud_mortar_stone',\n",
        "                     'has_superstructure_mud_mortar_brick',\n",
        "                     'has_superstructure_cement_mortar_stone',\n",
        "                     'has_superstructure_cement_mortar_brick',\n",
        "                     'has_superstructure_bamboo',\n",
        "                     'has_superstructure_rc_non_engineered',\n",
        "                     'has_superstructure_rc_engineered',\n",
        "                     'has_superstructure_timber',\n",
        "                     'has_superstructure_other',\n",
        "\n",
        "                     'has_secondary_use_agriculture',\n",
        "                     'has_secondary_use_hotel',\n",
        "                     'has_secondary_use_rental',\n",
        "                     'has_secondary_use_institution',\n",
        "                     'has_secondary_use_school',\n",
        "                     'has_secondary_use_industry',\n",
        "                     'has_secondary_use_health_post',\n",
        "                     'has_secondary_use_gov_office',\n",
        "                     'has_secondary_use_use_police',\n",
        "                     'has_secondary_use_other']\n",
        "\n",
        "test_values_subset = test_values[selected_features]\n",
        "test_values_subset = pd.get_dummies(test_values_subset)"
      ],
      "execution_count": 14,
      "outputs": []
    },
    {
      "cell_type": "code",
      "metadata": {
        "id": "1VSsNFc_q8d-"
      },
      "source": [
        "predictions = xgboost_model.predict(test_values_subset)"
      ],
      "execution_count": 15,
      "outputs": []
    },
    {
      "cell_type": "code",
      "metadata": {
        "id": "ucV1WAcAsJWD"
      },
      "source": [
        "submission_format = pd.read_csv('/content/drive/MyDrive/submission_format.csv', index_col = 'building_id')"
      ],
      "execution_count": 16,
      "outputs": []
    },
    {
      "cell_type": "code",
      "metadata": {
        "id": "Bttdte9csiDM"
      },
      "source": [
        "my_submission = pd.DataFrame(data = predictions,\n",
        "                             columns = submission_format.columns,\n",
        "                             index = submission_format.index)"
      ],
      "execution_count": 17,
      "outputs": []
    },
    {
      "cell_type": "code",
      "metadata": {
        "colab": {
          "base_uri": "https://localhost:8080/"
        },
        "id": "Aoa-igHD1WYO",
        "outputId": "711aa8ec-75be-4020-9d1a-500989fd4264"
      },
      "source": [
        "my_submission.value_counts()"
      ],
      "execution_count": 18,
      "outputs": [
        {
          "output_type": "execute_result",
          "data": {
            "text/plain": [
              "damage_grade\n",
              "2               58880\n",
              "3               22603\n",
              "1                5385\n",
              "dtype: int64"
            ]
          },
          "metadata": {
            "tags": []
          },
          "execution_count": 18
        }
      ]
    },
    {
      "cell_type": "code",
      "metadata": {
        "id": "vZv_V9pc3_i1"
      },
      "source": [
        "my_submission.to_csv('/content/drive/MyDrive/submission5.csv')"
      ],
      "execution_count": 19,
      "outputs": []
    },
    {
      "cell_type": "code",
      "metadata": {
        "colab": {
          "base_uri": "https://localhost:8080/"
        },
        "id": "z1SQBfLj4LD7",
        "outputId": "d7844a29-2f6d-4845-cf79-8c602228aefb"
      },
      "source": [
        "!head /content/drive/MyDrive/submission5.csv"
      ],
      "execution_count": 20,
      "outputs": [
        {
          "output_type": "stream",
          "text": [
            "building_id,damage_grade\n",
            "300051,3\n",
            "99355,2\n",
            "890251,2\n",
            "745817,1\n",
            "421793,3\n",
            "871976,2\n",
            "691228,1\n",
            "896100,3\n",
            "343471,2\n"
          ],
          "name": "stdout"
        }
      ]
    }
  ]
}