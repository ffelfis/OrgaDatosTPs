{
  "nbformat": 4,
  "nbformat_minor": 0,
  "metadata": {
    "colab": {
      "name": "nb_facundo.ipynb",
      "provenance": [],
      "collapsed_sections": [
        "xQdZmWB7snD6"
      ],
      "authorship_tag": "ABX9TyOTbZvl2JMhSVZZlZmW45pe",
      "include_colab_link": true
    },
    "kernelspec": {
      "name": "python3",
      "display_name": "Python 3"
    },
    "language_info": {
      "name": "python"
    }
  },
  "cells": [
    {
      "cell_type": "markdown",
      "metadata": {
        "id": "view-in-github",
        "colab_type": "text"
      },
      "source": [
        "<a href=\"https://colab.research.google.com/github/ffelfis/OrgaDatosTPs/blob/main/TP1/nb_facundo.ipynb\" target=\"_parent\"><img src=\"https://colab.research.google.com/assets/colab-badge.svg\" alt=\"Open In Colab\"/></a>"
      ]
    },
    {
      "cell_type": "markdown",
      "metadata": {
        "id": "1zyQU5Qs1-MZ"
      },
      "source": [
        "# Carga de librerías y directorios"
      ]
    },
    {
      "cell_type": "code",
      "metadata": {
        "id": "D453xuM9RRaJ"
      },
      "source": [
        "import pandas as pd\n",
        "import numpy as np\n",
        "import matplotlib.pyplot as plt\n",
        "from matplotlib.ticker import FuncFormatter\n",
        "%matplotlib inline\n",
        "import seaborn as sns"
      ],
      "execution_count": 1,
      "outputs": []
    },
    {
      "cell_type": "code",
      "metadata": {
        "colab": {
          "base_uri": "https://localhost:8080/"
        },
        "id": "twG1ocJDSg_5",
        "outputId": "6cd9149d-69b1-407b-cfb5-2eaad69fe41a"
      },
      "source": [
        "# Lectura de Dataset desde Google Drive\n",
        "from google.colab import drive\n",
        "drive.mount('/content/gdrive')"
      ],
      "execution_count": 2,
      "outputs": [
        {
          "output_type": "stream",
          "text": [
            "Mounted at /content/gdrive\n"
          ],
          "name": "stdout"
        }
      ]
    },
    {
      "cell_type": "code",
      "metadata": {
        "id": "PVPEHuQBS7ML"
      },
      "source": [
        "# Ruta train_values.csv\n",
        "dir_values = '/content/gdrive/My Drive/75.06 - Organización de Datos/TP1/Data/train_values.csv'\n",
        "\n",
        "# Ruta train_labels.csv\n",
        "dir_labels = '/content/gdrive/My Drive/75.06 - Organización de Datos/TP1/Data/train_labels.csv'"
      ],
      "execution_count": 3,
      "outputs": []
    },
    {
      "cell_type": "markdown",
      "metadata": {
        "id": "w725QZTCuGCH"
      },
      "source": [
        "# Análisis de train_values.csv"
      ]
    },
    {
      "cell_type": "code",
      "metadata": {
        "id": "rHP1qWSiYpse"
      },
      "source": [
        "df = pd.read_csv(dir_values)"
      ],
      "execution_count": 4,
      "outputs": []
    },
    {
      "cell_type": "code",
      "metadata": {
        "colab": {
          "base_uri": "https://localhost:8080/"
        },
        "id": "qkoUExA6adnb",
        "outputId": "8d4da27d-7f30-4f5b-8d3d-8724b2a64ffe"
      },
      "source": [
        "df.info()"
      ],
      "execution_count": 5,
      "outputs": [
        {
          "output_type": "stream",
          "text": [
            "<class 'pandas.core.frame.DataFrame'>\n",
            "RangeIndex: 260601 entries, 0 to 260600\n",
            "Data columns (total 39 columns):\n",
            " #   Column                                  Non-Null Count   Dtype \n",
            "---  ------                                  --------------   ----- \n",
            " 0   building_id                             260601 non-null  int64 \n",
            " 1   geo_level_1_id                          260601 non-null  int64 \n",
            " 2   geo_level_2_id                          260601 non-null  int64 \n",
            " 3   geo_level_3_id                          260601 non-null  int64 \n",
            " 4   count_floors_pre_eq                     260601 non-null  int64 \n",
            " 5   age                                     260601 non-null  int64 \n",
            " 6   area_percentage                         260601 non-null  int64 \n",
            " 7   height_percentage                       260601 non-null  int64 \n",
            " 8   land_surface_condition                  260601 non-null  object\n",
            " 9   foundation_type                         260601 non-null  object\n",
            " 10  roof_type                               260601 non-null  object\n",
            " 11  ground_floor_type                       260601 non-null  object\n",
            " 12  other_floor_type                        260601 non-null  object\n",
            " 13  position                                260601 non-null  object\n",
            " 14  plan_configuration                      260601 non-null  object\n",
            " 15  has_superstructure_adobe_mud            260601 non-null  int64 \n",
            " 16  has_superstructure_mud_mortar_stone     260601 non-null  int64 \n",
            " 17  has_superstructure_stone_flag           260601 non-null  int64 \n",
            " 18  has_superstructure_cement_mortar_stone  260601 non-null  int64 \n",
            " 19  has_superstructure_mud_mortar_brick     260601 non-null  int64 \n",
            " 20  has_superstructure_cement_mortar_brick  260601 non-null  int64 \n",
            " 21  has_superstructure_timber               260601 non-null  int64 \n",
            " 22  has_superstructure_bamboo               260601 non-null  int64 \n",
            " 23  has_superstructure_rc_non_engineered    260601 non-null  int64 \n",
            " 24  has_superstructure_rc_engineered        260601 non-null  int64 \n",
            " 25  has_superstructure_other                260601 non-null  int64 \n",
            " 26  legal_ownership_status                  260601 non-null  object\n",
            " 27  count_families                          260601 non-null  int64 \n",
            " 28  has_secondary_use                       260601 non-null  int64 \n",
            " 29  has_secondary_use_agriculture           260601 non-null  int64 \n",
            " 30  has_secondary_use_hotel                 260601 non-null  int64 \n",
            " 31  has_secondary_use_rental                260601 non-null  int64 \n",
            " 32  has_secondary_use_institution           260601 non-null  int64 \n",
            " 33  has_secondary_use_school                260601 non-null  int64 \n",
            " 34  has_secondary_use_industry              260601 non-null  int64 \n",
            " 35  has_secondary_use_health_post           260601 non-null  int64 \n",
            " 36  has_secondary_use_gov_office            260601 non-null  int64 \n",
            " 37  has_secondary_use_use_police            260601 non-null  int64 \n",
            " 38  has_secondary_use_other                 260601 non-null  int64 \n",
            "dtypes: int64(31), object(8)\n",
            "memory usage: 77.5+ MB\n"
          ],
          "name": "stdout"
        }
      ]
    },
    {
      "cell_type": "code",
      "metadata": {
        "colab": {
          "base_uri": "https://localhost:8080/"
        },
        "id": "Uy-QKqVslQuY",
        "outputId": "8b95aa91-ef57-45bc-ad12-2e6804073bb3"
      },
      "source": [
        "memoria = df.memory_usage(deep=True).sum()/(2**20)\n",
        "print('Se usan', np.round(memoria, 2), 'MiB')"
      ],
      "execution_count": 6,
      "outputs": [
        {
          "output_type": "stream",
          "text": [
            "Se usan 176.95 MiB\n"
          ],
          "name": "stdout"
        }
      ]
    },
    {
      "cell_type": "markdown",
      "metadata": {
        "id": "o4xmNmYNkiVJ"
      },
      "source": [
        "No hay columnas con datos nulos.\n",
        "\n",
        "Se puede reallizar un cambio de tipo a las columnas para ajustar el uso de memoria."
      ]
    },
    {
      "cell_type": "markdown",
      "metadata": {
        "id": "6YW-yaXYkuT_"
      },
      "source": [
        "### Columnas numéricas\n",
        "\n",
        "`building_id`: \\[4, 1052934\\] $\\rightarrow$ int32\n",
        "\n",
        "`geo_level_1_id`: \\[0, 30\\] $\\rightarrow$ int8\n",
        "\n",
        "`geo_level_2_id`: \\[0, 1427\\] $\\rightarrow$ int16\n",
        "\n",
        "`geo_level_3_id`: \\[0, 12567\\] $\\rightarrow$ int16\n",
        "\n",
        "`count_floors_pre_eq`: \\[0, 9\\] $\\rightarrow$ int8\n",
        "\n",
        "`age`: \\[0, 995\\] $\\rightarrow$ int16\n",
        "\n",
        "`area_percentage`: \\[0, 100\\] $\\rightarrow$ int8\n",
        "\n",
        "`height_percentage`: \\[2, 32\\] $\\rightarrow$ int8\n",
        "\n",
        "`count_families`: \\[0, 9\\] $\\rightarrow$ int8"
      ]
    },
    {
      "cell_type": "code",
      "metadata": {
        "colab": {
          "base_uri": "https://localhost:8080/",
          "height": 112
        },
        "id": "YPvawtN9nq3L",
        "outputId": "0489acdc-f8da-4367-c16f-c3441d2c038b"
      },
      "source": [
        "df.loc[:, 'building_id':'height_percentage'].describe().astype('int64').loc[['max', 'min'], :]"
      ],
      "execution_count": 7,
      "outputs": [
        {
          "output_type": "execute_result",
          "data": {
            "text/html": [
              "<div>\n",
              "<style scoped>\n",
              "    .dataframe tbody tr th:only-of-type {\n",
              "        vertical-align: middle;\n",
              "    }\n",
              "\n",
              "    .dataframe tbody tr th {\n",
              "        vertical-align: top;\n",
              "    }\n",
              "\n",
              "    .dataframe thead th {\n",
              "        text-align: right;\n",
              "    }\n",
              "</style>\n",
              "<table border=\"1\" class=\"dataframe\">\n",
              "  <thead>\n",
              "    <tr style=\"text-align: right;\">\n",
              "      <th></th>\n",
              "      <th>building_id</th>\n",
              "      <th>geo_level_1_id</th>\n",
              "      <th>geo_level_2_id</th>\n",
              "      <th>geo_level_3_id</th>\n",
              "      <th>count_floors_pre_eq</th>\n",
              "      <th>age</th>\n",
              "      <th>area_percentage</th>\n",
              "      <th>height_percentage</th>\n",
              "    </tr>\n",
              "  </thead>\n",
              "  <tbody>\n",
              "    <tr>\n",
              "      <th>max</th>\n",
              "      <td>1052934</td>\n",
              "      <td>30</td>\n",
              "      <td>1427</td>\n",
              "      <td>12567</td>\n",
              "      <td>9</td>\n",
              "      <td>995</td>\n",
              "      <td>100</td>\n",
              "      <td>32</td>\n",
              "    </tr>\n",
              "    <tr>\n",
              "      <th>min</th>\n",
              "      <td>4</td>\n",
              "      <td>0</td>\n",
              "      <td>0</td>\n",
              "      <td>0</td>\n",
              "      <td>1</td>\n",
              "      <td>0</td>\n",
              "      <td>1</td>\n",
              "      <td>2</td>\n",
              "    </tr>\n",
              "  </tbody>\n",
              "</table>\n",
              "</div>"
            ],
            "text/plain": [
              "     building_id  geo_level_1_id  ...  area_percentage  height_percentage\n",
              "max      1052934              30  ...              100                 32\n",
              "min            4               0  ...                1                  2\n",
              "\n",
              "[2 rows x 8 columns]"
            ]
          },
          "metadata": {
            "tags": []
          },
          "execution_count": 7
        }
      ]
    },
    {
      "cell_type": "code",
      "metadata": {
        "id": "AmU6cFm7mo9b"
      },
      "source": [
        "df['building_id'] = df['building_id'].astype('int32')\n",
        "df['geo_level_1_id'] = df['geo_level_1_id'].astype('int8')\n",
        "df['geo_level_2_id'] = df['geo_level_2_id'].astype('int16')\n",
        "df['geo_level_3_id'] = df['geo_level_3_id'].astype('int16')\n",
        "df['count_floors_pre_eq'] = df['count_floors_pre_eq'].astype('int8')\n",
        "df['age'] = df['age'].astype('int16')\n",
        "df['area_percentage'] = df['area_percentage'].astype('int8')\n",
        "df['height_percentage'] = df['height_percentage'].astype('int8')\n",
        "df['count_families'] = df['count_families'].astype('int8')"
      ],
      "execution_count": 8,
      "outputs": []
    },
    {
      "cell_type": "code",
      "metadata": {
        "colab": {
          "base_uri": "https://localhost:8080/"
        },
        "id": "IfYd86OyoOpv",
        "outputId": "c086cd78-192b-4585-d3af-390ac51472cd"
      },
      "source": [
        "memoria = df.memory_usage(deep=True).sum()/(2**20)\n",
        "print('Se usan', np.round(memoria, 2), 'MiB')"
      ],
      "execution_count": 9,
      "outputs": [
        {
          "output_type": "stream",
          "text": [
            "Se usan 162.79 MiB\n"
          ],
          "name": "stdout"
        }
      ]
    },
    {
      "cell_type": "markdown",
      "metadata": {
        "id": "jZyN6JjekzUy"
      },
      "source": [
        "### Columnas booleanas\n",
        "\n",
        "`has_superstructure_adobe_mud`, `has_superstructure_mud_mortar_stone`, `has_superstructure_stone_flag`, \n",
        "`has_superstructure_cement_mortar_stone`, `has_superstructure_mud_mortar_brick`, `has_superstructure_cement_mortar_brick`, `has_superstructure_timber`, `has_superstructure_bamboo`, `has_superstructure_rc_non_engineered`, `has_superstructure_rc_engineered`, `has_superstructure_other`, `has_secondary_use`, `has_secondary_use_agriculture`, `has_secondary_use_hotel`, `has_secondary_use_rental`, `has_secondary_use_institution`, `has_secondary_use_school`, `has_secondary_use_industry`, `has_secondary_use_health_post`, `has_secondary_use_gov_office`, `has_secondary_use_use_police`, `has_secondary_use_other`\n",
        "\n",
        "Todas tienen valores \\[0, 1\\] $\\Longrightarrow$ bool"
      ]
    },
    {
      "cell_type": "code",
      "metadata": {
        "id": "6UQ__Uh1qXGl"
      },
      "source": [
        "df['has_superstructure_adobe_mud'] = df['has_superstructure_adobe_mud'].astype('bool')\n",
        "df['has_superstructure_mud_mortar_stone'] = df['has_superstructure_mud_mortar_stone'].astype('bool')\n",
        "df['has_superstructure_stone_flag'] = df['has_superstructure_stone_flag'].astype('bool')\n",
        "df['has_superstructure_cement_mortar_stone'] = df['has_superstructure_cement_mortar_stone'].astype('bool')\n",
        "df['has_superstructure_mud_mortar_brick'] = df['has_superstructure_mud_mortar_brick'].astype('bool')\n",
        "df['has_superstructure_cement_mortar_brick'] = df['has_superstructure_cement_mortar_brick'].astype('bool')\n",
        "df['has_superstructure_timber'] = df['has_superstructure_timber'].astype('bool')\n",
        "df['has_superstructure_bamboo'] = df['has_superstructure_bamboo'].astype('bool')\n",
        "df['has_superstructure_rc_non_engineered'] = df['has_superstructure_rc_non_engineered'].astype('bool')\n",
        "df['has_superstructure_rc_engineered'] = df['has_superstructure_rc_engineered'].astype('bool')\n",
        "df['has_superstructure_other'] = df['has_superstructure_other'].astype('bool')\n",
        "df['has_secondary_use'] = df['has_secondary_use'].astype('bool')\n",
        "df['has_secondary_use_agriculture'] = df['has_secondary_use_agriculture'].astype('bool')\n",
        "df['has_secondary_use_hotel'] = df['has_secondary_use_hotel'].astype('bool')\n",
        "df['has_secondary_use_rental'] = df['has_secondary_use_rental'].astype('bool')\n",
        "df['has_secondary_use_institution'] = df['has_secondary_use_institution'].astype('bool')\n",
        "df['has_secondary_use_school'] = df['has_secondary_use_school'].astype('bool')\n",
        "df['has_secondary_use_industry'] = df['has_secondary_use_industry'].astype('bool')\n",
        "df['has_secondary_use_health_post'] = df['has_secondary_use_health_post'].astype('bool')\n",
        "df['has_secondary_use_gov_office'] = df['has_secondary_use_gov_office'].astype('bool')\n",
        "df['has_secondary_use_use_police'] = df['has_secondary_use_use_police'].astype('bool')\n",
        "df['has_secondary_use_other'] = df['has_secondary_use_other'].astype('bool')"
      ],
      "execution_count": 10,
      "outputs": []
    },
    {
      "cell_type": "code",
      "metadata": {
        "colab": {
          "base_uri": "https://localhost:8080/"
        },
        "id": "HxJoVd5xqo-o",
        "outputId": "914a8203-a27a-449a-b86e-b16b8f27374a"
      },
      "source": [
        "memoria = df.memory_usage(deep=True).sum()/(2**20)\n",
        "print('Se usan', np.round(memoria, 2), 'MiB')"
      ],
      "execution_count": 11,
      "outputs": [
        {
          "output_type": "stream",
          "text": [
            "Se usan 124.51 MiB\n"
          ],
          "name": "stdout"
        }
      ]
    },
    {
      "cell_type": "markdown",
      "metadata": {
        "id": "-6tBWY3Lk5aq"
      },
      "source": [
        "### Columnas Categóricas\n",
        "\n",
        "`land_surface_condition`, `foundation_type`, `roof_type`, `ground_floor_type`, `other_floor_type`, `position`, `plan_configuration`, `legal_ownership_status`"
      ]
    },
    {
      "cell_type": "code",
      "metadata": {
        "id": "7T2SSgPYkh4h"
      },
      "source": [
        "df['land_surface_condition'] = df['land_surface_condition'].astype('category')\n",
        "df['foundation_type'] = df['foundation_type'].astype('category')\n",
        "df['roof_type'] = df['roof_type'].astype('category')\n",
        "df['ground_floor_type'] = df['ground_floor_type'].astype('category')\n",
        "df['other_floor_type'] = df['other_floor_type'].astype('category')\n",
        "df['position'] = df['position'].astype('category')\n",
        "df['plan_configuration'] = df['plan_configuration'].astype('category')\n",
        "df['legal_ownership_status'] = df['legal_ownership_status'].astype('category')"
      ],
      "execution_count": 12,
      "outputs": []
    },
    {
      "cell_type": "code",
      "metadata": {
        "colab": {
          "base_uri": "https://localhost:8080/"
        },
        "id": "pGdhfST5sTSE",
        "outputId": "9a97ac22-a296-4a4b-b334-e2c6a095f34a"
      },
      "source": [
        "memoria = df.memory_usage(deep=True).sum()/(2**20)\n",
        "print('Se usan', np.round(memoria, 2), 'MiB')"
      ],
      "execution_count": 13,
      "outputs": [
        {
          "output_type": "stream",
          "text": [
            "Se usan 11.19 MiB\n"
          ],
          "name": "stdout"
        }
      ]
    },
    {
      "cell_type": "markdown",
      "metadata": {
        "id": "xQdZmWB7snD6"
      },
      "source": [
        "# **[NO NECESARIO]** (Mapa)"
      ]
    },
    {
      "cell_type": "code",
      "metadata": {
        "id": "jnU-kuMSRkB2"
      },
      "source": [
        "# Paquete para manejo de mapas\n",
        "!pip install geopandas\n",
        "# Para leer shape files con el paque 'shapefile' (contienen geometría de mapas)\n",
        "!pip install pyshp"
      ],
      "execution_count": null,
      "outputs": []
    },
    {
      "cell_type": "code",
      "metadata": {
        "id": "NqTSaJ1IZ0Ct"
      },
      "source": [
        "import geopandas as gpd\n",
        "import shapefile as shp"
      ],
      "execution_count": null,
      "outputs": []
    },
    {
      "cell_type": "markdown",
      "metadata": {
        "id": "ZYmHDr_avvZQ"
      },
      "source": [
        "## Mapa de Nepal"
      ]
    },
    {
      "cell_type": "markdown",
      "metadata": {
        "id": "nFtKpcbyxG6k"
      },
      "source": [
        "Se lee el archivo .shp con `shapefile`. Se requieren los archivos que acompañan al .shp."
      ]
    },
    {
      "cell_type": "code",
      "metadata": {
        "id": "dQMy-lgXvRR-"
      },
      "source": [
        "sf_Nepal = shp.Reader('/content/gdrive/My Drive/75.06 - Organización de Datos/TP1/map_Nepal/np.shp')"
      ],
      "execution_count": null,
      "outputs": []
    },
    {
      "cell_type": "code",
      "metadata": {
        "id": "No788gC4xfvD"
      },
      "source": [
        "# Identificación de campos (~ futuro índice de columnas)\n",
        "sf_Nepal.fields"
      ],
      "execution_count": null,
      "outputs": []
    },
    {
      "cell_type": "code",
      "metadata": {
        "id": "fd-CHrULx00n"
      },
      "source": [
        "# Datos de los campos anteriores\n",
        "sf_Nepal.records()"
      ],
      "execution_count": null,
      "outputs": []
    },
    {
      "cell_type": "code",
      "metadata": {
        "id": "yT_6gl03x-O2"
      },
      "source": [
        "# Puntos de coordenadas para los bordes de los estados.\n",
        "sf_Nepal.shape(1).points"
      ],
      "execution_count": null,
      "outputs": []
    },
    {
      "cell_type": "markdown",
      "metadata": {
        "id": "KcsEuGxMzTpw"
      },
      "source": [
        "Se lee el archivo .shp con geopandas."
      ]
    },
    {
      "cell_type": "code",
      "metadata": {
        "id": "koujNEESzZ_8"
      },
      "source": [
        "map_df = gpd.read_file('/content/gdrive/My Drive/75.06 - Organización de Datos/TP1/map_Nepal/np.shp')"
      ],
      "execution_count": null,
      "outputs": []
    },
    {
      "cell_type": "code",
      "metadata": {
        "id": "shat8znKzzbA"
      },
      "source": [
        "type(map_df)"
      ],
      "execution_count": null,
      "outputs": []
    },
    {
      "cell_type": "code",
      "metadata": {
        "id": "u0au-LiyzmFo"
      },
      "source": [
        "map_df.sample(2, random_state=42)"
      ],
      "execution_count": null,
      "outputs": []
    },
    {
      "cell_type": "code",
      "metadata": {
        "id": "3_vcyA000Df0"
      },
      "source": [
        "map_df.plot(figsize=(5,5), color='green')\n",
        "\n",
        "plt.show()"
      ],
      "execution_count": null,
      "outputs": []
    },
    {
      "cell_type": "markdown",
      "metadata": {
        "id": "FJ-vQbsCtzAL"
      },
      "source": [
        "# Análisis train_labels.csv"
      ]
    },
    {
      "cell_type": "code",
      "metadata": {
        "id": "CJVDKTyet3Xz"
      },
      "source": [
        "df_labels = pd.read_csv(dir_labels)"
      ],
      "execution_count": 14,
      "outputs": []
    },
    {
      "cell_type": "code",
      "metadata": {
        "colab": {
          "base_uri": "https://localhost:8080/",
          "height": 112
        },
        "id": "eMzE7G3nvlwS",
        "outputId": "56541138-6e80-4b63-9214-77a3aa1a7d32"
      },
      "source": [
        "df_labels.describe().loc[['min', 'max'], 'damage_grade'].to_frame()"
      ],
      "execution_count": 15,
      "outputs": [
        {
          "output_type": "execute_result",
          "data": {
            "text/html": [
              "<div>\n",
              "<style scoped>\n",
              "    .dataframe tbody tr th:only-of-type {\n",
              "        vertical-align: middle;\n",
              "    }\n",
              "\n",
              "    .dataframe tbody tr th {\n",
              "        vertical-align: top;\n",
              "    }\n",
              "\n",
              "    .dataframe thead th {\n",
              "        text-align: right;\n",
              "    }\n",
              "</style>\n",
              "<table border=\"1\" class=\"dataframe\">\n",
              "  <thead>\n",
              "    <tr style=\"text-align: right;\">\n",
              "      <th></th>\n",
              "      <th>damage_grade</th>\n",
              "    </tr>\n",
              "  </thead>\n",
              "  <tbody>\n",
              "    <tr>\n",
              "      <th>min</th>\n",
              "      <td>1.0</td>\n",
              "    </tr>\n",
              "    <tr>\n",
              "      <th>max</th>\n",
              "      <td>3.0</td>\n",
              "    </tr>\n",
              "  </tbody>\n",
              "</table>\n",
              "</div>"
            ],
            "text/plain": [
              "     damage_grade\n",
              "min           1.0\n",
              "max           3.0"
            ]
          },
          "metadata": {
            "tags": []
          },
          "execution_count": 15
        }
      ]
    },
    {
      "cell_type": "code",
      "metadata": {
        "colab": {
          "base_uri": "https://localhost:8080/"
        },
        "id": "maiYj6iZvJHO",
        "outputId": "b272d8bc-205d-4247-8102-2ef5365bea0c"
      },
      "source": [
        "memoria = df_labels.memory_usage(deep=True).sum()/(2**20)\n",
        "print('Se usan', np.round(memoria, 2), 'MiB')"
      ],
      "execution_count": 16,
      "outputs": [
        {
          "output_type": "stream",
          "text": [
            "Se usan 3.98 MiB\n"
          ],
          "name": "stdout"
        }
      ]
    },
    {
      "cell_type": "code",
      "metadata": {
        "id": "naqK0Nn5wVqY"
      },
      "source": [
        "df_labels['damage_grade'] = df_labels['damage_grade'].astype('int8')"
      ],
      "execution_count": 17,
      "outputs": []
    },
    {
      "cell_type": "code",
      "metadata": {
        "colab": {
          "base_uri": "https://localhost:8080/"
        },
        "id": "ZfzRdCJkwloo",
        "outputId": "533eef03-f155-4921-f5d5-5d85b9196812"
      },
      "source": [
        "memoria = df_labels.memory_usage(deep=True).sum()/(2**20)\n",
        "print('Se usan', np.round(memoria, 2), 'MiB')"
      ],
      "execution_count": 18,
      "outputs": [
        {
          "output_type": "stream",
          "text": [
            "Se usan 2.24 MiB\n"
          ],
          "name": "stdout"
        }
      ]
    },
    {
      "cell_type": "code",
      "metadata": {
        "id": "lcq0LVPjvWMI"
      },
      "source": [
        "df = df.merge(df_labels, on='building_id', how='inner')"
      ],
      "execution_count": 19,
      "outputs": []
    },
    {
      "cell_type": "code",
      "metadata": {
        "colab": {
          "base_uri": "https://localhost:8080/"
        },
        "id": "rKKBFapxxEzr",
        "outputId": "4d70041f-cb01-487c-c10a-06204fe59fbe"
      },
      "source": [
        "df.info()"
      ],
      "execution_count": 20,
      "outputs": [
        {
          "output_type": "stream",
          "text": [
            "<class 'pandas.core.frame.DataFrame'>\n",
            "Int64Index: 260601 entries, 0 to 260600\n",
            "Data columns (total 40 columns):\n",
            " #   Column                                  Non-Null Count   Dtype   \n",
            "---  ------                                  --------------   -----   \n",
            " 0   building_id                             260601 non-null  int32   \n",
            " 1   geo_level_1_id                          260601 non-null  int8    \n",
            " 2   geo_level_2_id                          260601 non-null  int16   \n",
            " 3   geo_level_3_id                          260601 non-null  int16   \n",
            " 4   count_floors_pre_eq                     260601 non-null  int8    \n",
            " 5   age                                     260601 non-null  int16   \n",
            " 6   area_percentage                         260601 non-null  int8    \n",
            " 7   height_percentage                       260601 non-null  int8    \n",
            " 8   land_surface_condition                  260601 non-null  category\n",
            " 9   foundation_type                         260601 non-null  category\n",
            " 10  roof_type                               260601 non-null  category\n",
            " 11  ground_floor_type                       260601 non-null  category\n",
            " 12  other_floor_type                        260601 non-null  category\n",
            " 13  position                                260601 non-null  category\n",
            " 14  plan_configuration                      260601 non-null  category\n",
            " 15  has_superstructure_adobe_mud            260601 non-null  bool    \n",
            " 16  has_superstructure_mud_mortar_stone     260601 non-null  bool    \n",
            " 17  has_superstructure_stone_flag           260601 non-null  bool    \n",
            " 18  has_superstructure_cement_mortar_stone  260601 non-null  bool    \n",
            " 19  has_superstructure_mud_mortar_brick     260601 non-null  bool    \n",
            " 20  has_superstructure_cement_mortar_brick  260601 non-null  bool    \n",
            " 21  has_superstructure_timber               260601 non-null  bool    \n",
            " 22  has_superstructure_bamboo               260601 non-null  bool    \n",
            " 23  has_superstructure_rc_non_engineered    260601 non-null  bool    \n",
            " 24  has_superstructure_rc_engineered        260601 non-null  bool    \n",
            " 25  has_superstructure_other                260601 non-null  bool    \n",
            " 26  legal_ownership_status                  260601 non-null  category\n",
            " 27  count_families                          260601 non-null  int8    \n",
            " 28  has_secondary_use                       260601 non-null  bool    \n",
            " 29  has_secondary_use_agriculture           260601 non-null  bool    \n",
            " 30  has_secondary_use_hotel                 260601 non-null  bool    \n",
            " 31  has_secondary_use_rental                260601 non-null  bool    \n",
            " 32  has_secondary_use_institution           260601 non-null  bool    \n",
            " 33  has_secondary_use_school                260601 non-null  bool    \n",
            " 34  has_secondary_use_industry              260601 non-null  bool    \n",
            " 35  has_secondary_use_health_post           260601 non-null  bool    \n",
            " 36  has_secondary_use_gov_office            260601 non-null  bool    \n",
            " 37  has_secondary_use_use_police            260601 non-null  bool    \n",
            " 38  has_secondary_use_other                 260601 non-null  bool    \n",
            " 39  damage_grade                            260601 non-null  int8    \n",
            "dtypes: bool(22), category(8), int16(3), int32(1), int8(6)\n",
            "memory usage: 13.4 MB\n"
          ],
          "name": "stdout"
        }
      ]
    },
    {
      "cell_type": "markdown",
      "metadata": {
        "id": "MNi9maBFwrya"
      },
      "source": [
        "Las filas mantienen el mismo número, 260601, por lo que los `building_id` tenían su correpondiente fila de labels."
      ]
    },
    {
      "cell_type": "markdown",
      "metadata": {
        "id": "W3EiMwGU2WWB"
      },
      "source": [
        "# Análisis de grado de daños por cantidad de pisos"
      ]
    },
    {
      "cell_type": "code",
      "metadata": {
        "colab": {
          "base_uri": "https://localhost:8080/",
          "height": 540
        },
        "id": "sVrw-FFLzZ-8",
        "outputId": "349a5673-c825-4db8-c738-92f4fbdc2351"
      },
      "source": [
        "fig,ax = plt.subplots(figsize=(15,8))\n",
        "pisos = df\\\n",
        "  .groupby('count_floors_pre_eq').agg({'damage_grade':'count'}).reset_index()\\\n",
        "  .rename(columns={'damage_grade':'quantity'})['count_floors_pre_eq']\n",
        "cantidad = df\\\n",
        "  .groupby('count_floors_pre_eq').agg({'damage_grade':'count'}).reset_index()\\\n",
        "  .rename(columns={'damage_grade':'quantity'})['quantity']\n",
        "\n",
        "plot = ax.barh(y=pisos, width=cantidad, color='coral')\n",
        "\n",
        "title='''Cantidad de edificaciones dañadas según número de pisos'''\n",
        "plt.title(label=title, fontsize=25)\n",
        "plt.xlabel('Cantidad de edificaciones dañadas [miles]', fontsize=20)\n",
        "plt.ylabel('Número de pisos', fontsize=20)\n",
        "plt.xticks(np.arange(0, 160001, step=10000), fontsize=17)\n",
        "plt.yticks(np.arange(1, 10, step=1), fontsize=17)\n",
        "\n",
        "# Función para elegir unidades de miles millón\n",
        "def mil(x, pos):\n",
        "  return '{:,.0f}'.format(x*1e-3)\n",
        "\n",
        "plt.gca().xaxis.set_major_formatter(FuncFormatter(mil))\n",
        "plt.grid(axis='x', linewidth=2, color='lightgray')\n",
        "ax.set_axisbelow(True)\n",
        "\n",
        "#plt.show()"
      ],
      "execution_count": 21,
      "outputs": [
        {
          "output_type": "display_data",
          "data": {
            "image/png": "[encoded data removed]",
            "text/plain": [
              "<Figure size 1080x576 with 1 Axes>"
            ]
          },
          "metadata": {
            "tags": [],
            "needs_background": "light"
          }
        }
      ]
    },
    {
      "cell_type": "markdown",
      "metadata": {
        "id": "DBo95Hq78Cd7"
      },
      "source": [
        "# Mapas de calor: Cantidad de edificaciones con daños (low, medium, high) para los distintos geo_level_x_id"
      ]
    },
    {
      "cell_type": "code",
      "metadata": {
        "id": "PQiL6-fCThdB"
      },
      "source": [
        "# Se hace una copia al crear el nuevo DataFrame\n",
        "columnas = ['geo_level_1_id', 'geo_level_2_id', 'geo_level_3_id', 'damage_grade'] \n",
        "df_geo_levels_damage = df\\\n",
        "  .loc[:, columnas]\\\n",
        "  .set_index('damage_grade').copy()"
      ],
      "execution_count": 51,
      "outputs": []
    },
    {
      "cell_type": "code",
      "metadata": {
        "id": "AcQGGjCLp27B"
      },
      "source": [
        "# Creación de Dataframe para bins por geo_level_x_id\n",
        "\n",
        "df_geo_levels_damage = pd.DataFrame()\n",
        "\n",
        "bins = np.arange(0, 31, step=2)\n",
        "df_geo_levels_damage['geo_level_1_id_binned'] = pd.cut(df['geo_level_1_id'], bins)\n",
        "\n",
        "bins = np.arange(0, 1441, step=96)\n",
        "df_geo_levels_damage['geo_level_2_id_binned'] = pd.cut(df['geo_level_2_id'], bins)\n",
        "\n",
        "bins = np.arange(0, 12571, step=838)\n",
        "df_geo_levels_damage['geo_level_3_id_binned'] = pd.cut(df['geo_level_3_id'], bins)\n",
        "\n",
        "df_geo_levels_damage['damage_grade'] = df['damage_grade']"
      ],
      "execution_count": 108,
      "outputs": []
    },
    {
      "cell_type": "code",
      "metadata": {
        "colab": {
          "base_uri": "https://localhost:8080/",
          "height": 143
        },
        "id": "LczCqrmUeL3N",
        "outputId": "c8a78049-2ea2-40bb-8820-1cf3aef2ffc0"
      },
      "source": [
        "df_geo_levels_damage.head(3)"
      ],
      "execution_count": 109,
      "outputs": [
        {
          "output_type": "execute_result",
          "data": {
            "text/html": [
              "<div>\n",
              "<style scoped>\n",
              "    .dataframe tbody tr th:only-of-type {\n",
              "        vertical-align: middle;\n",
              "    }\n",
              "\n",
              "    .dataframe tbody tr th {\n",
              "        vertical-align: top;\n",
              "    }\n",
              "\n",
              "    .dataframe thead th {\n",
              "        text-align: right;\n",
              "    }\n",
              "</style>\n",
              "<table border=\"1\" class=\"dataframe\">\n",
              "  <thead>\n",
              "    <tr style=\"text-align: right;\">\n",
              "      <th></th>\n",
              "      <th>geo_level_1_id_binned</th>\n",
              "      <th>geo_level_2_id_binned</th>\n",
              "      <th>geo_level_3_id_binned</th>\n",
              "      <th>damage_grade</th>\n",
              "    </tr>\n",
              "  </thead>\n",
              "  <tbody>\n",
              "    <tr>\n",
              "      <th>0</th>\n",
              "      <td>(4, 6]</td>\n",
              "      <td>(480, 576]</td>\n",
              "      <td>(11732, 12570]</td>\n",
              "      <td>3</td>\n",
              "    </tr>\n",
              "    <tr>\n",
              "      <th>1</th>\n",
              "      <td>(6, 8]</td>\n",
              "      <td>(864, 960]</td>\n",
              "      <td>(2514, 3352]</td>\n",
              "      <td>2</td>\n",
              "    </tr>\n",
              "    <tr>\n",
              "      <th>2</th>\n",
              "      <td>(20, 22]</td>\n",
              "      <td>(288, 384]</td>\n",
              "      <td>(8380, 9218]</td>\n",
              "      <td>3</td>\n",
              "    </tr>\n",
              "  </tbody>\n",
              "</table>\n",
              "</div>"
            ],
            "text/plain": [
              "  geo_level_1_id_binned  ... damage_grade\n",
              "0                (4, 6]  ...            3\n",
              "1                (6, 8]  ...            2\n",
              "2              (20, 22]  ...            3\n",
              "\n",
              "[3 rows x 4 columns]"
            ]
          },
          "metadata": {
            "tags": []
          },
          "execution_count": 109
        }
      ]
    },
    {
      "cell_type": "markdown",
      "metadata": {
        "id": "D0kiZBFBoa5a"
      },
      "source": [
        "Con este nuevo DataFrame se va a calcular las cantidades necesarias."
      ]
    },
    {
      "cell_type": "code",
      "metadata": {
        "colab": {
          "base_uri": "https://localhost:8080/"
        },
        "id": "WGuL_-7gnaVF",
        "outputId": "b0842395-3ac2-4b7d-ece2-4259d6be4960"
      },
      "source": [
        "df_geo_levels_damage['damage_grade'].value_counts()"
      ],
      "execution_count": 110,
      "outputs": [
        {
          "output_type": "execute_result",
          "data": {
            "text/plain": [
              "2    148259\n",
              "3     87218\n",
              "1     25124\n",
              "Name: damage_grade, dtype: int64"
            ]
          },
          "metadata": {
            "tags": []
          },
          "execution_count": 110
        }
      ]
    },
    {
      "cell_type": "markdown",
      "metadata": {
        "id": "POON_qvbniqU"
      },
      "source": [
        "Según el registro de daños, por cantidad, primero se tienen edificaciones con daños medios, luego con daños graves y finalmente con daños leves."
      ]
    },
    {
      "cell_type": "markdown",
      "metadata": {
        "id": "d8N2swiK8Vbb"
      },
      "source": [
        "## Cantidad de edificaciones con daños (low, medium, high) para `geo_level_1_id`"
      ]
    },
    {
      "cell_type": "code",
      "metadata": {
        "id": "f4VFxSlRnG8t"
      },
      "source": [
        "# Cantidad de edificaciones dañadas para geo_level_id_1 contadas por nivel de daño\n",
        "df_geo_damage_geo_1 = df_geo_levels_damage\\\n",
        "  .loc[df_geo_levels_damage['damage_grade'] == 1, 'geo_level_1_id_binned']\\\n",
        "  .value_counts().to_frame()\\\n",
        "  .reset_index()\\\n",
        "  .rename(columns={'index':'geo_level_1_id', 'geo_level_1_id_binned':'cant_low_dmg'})\\\n",
        "  .sort_values(by='geo_level_1_id', ascending=False)\n",
        "\n",
        "df_aux = df_geo_levels_damage\\\n",
        "  .loc[df_geo_levels_damage['damage_grade'] == 2, 'geo_level_1_id_binned']\\\n",
        "  .value_counts().to_frame()\\\n",
        "  .reset_index()\\\n",
        "  .rename(columns={'index':'geo_level_1_id', 'geo_level_1_id_binned':'cant_med_dmg'})\\\n",
        "  .sort_values(by='geo_level_1_id', ascending=False)\n",
        "\n",
        "df_geo_damage_geo_1 = df_geo_damage_geo_1.merge(df_aux, on='geo_level_1_id', how='outer')\n",
        "\n",
        "df_aux = df_geo_levels_damage\\\n",
        "  .loc[df_geo_levels_damage['damage_grade'] == 3, 'geo_level_1_id_binned']\\\n",
        "  .value_counts().to_frame()\\\n",
        "  .reset_index()\\\n",
        "  .rename(columns={'index':'geo_level_1_id', 'geo_level_1_id_binned':'cant_hig_dmg'})\\\n",
        "  .sort_values(by='geo_level_1_id', ascending=False)\n",
        "\n",
        "df_geo_damage_geo_1 = df_geo_damage_geo_1.merge(df_aux, on='geo_level_1_id', how='outer')\n",
        "df_geo_damage_geo_1.set_index('geo_level_1_id', inplace=True)"
      ],
      "execution_count": 112,
      "outputs": []
    },
    {
      "cell_type": "code",
      "metadata": {
        "colab": {
          "base_uri": "https://localhost:8080/"
        },
        "id": "FWyHTn2OB5n2",
        "outputId": "a2dd1e82-8cea-450d-ac46-59c59c0d5c97"
      },
      "source": [
        "# Cantidad total de edificaciones de geo_level_1_id que registran algún daño \n",
        "df_geo_damage_geo_1.sum()"
      ],
      "execution_count": 113,
      "outputs": [
        {
          "output_type": "execute_result",
          "data": {
            "text/plain": [
              "cant_low_dmg     24787\n",
              "cant_med_dmg    145184\n",
              "cant_hig_dmg     86619\n",
              "dtype: int64"
            ]
          },
          "metadata": {
            "tags": []
          },
          "execution_count": 113
        }
      ]
    },
    {
      "cell_type": "code",
      "metadata": {
        "id": "Y2pZW1P6Vidr",
        "colab": {
          "base_uri": "https://localhost:8080/",
          "height": 540
        },
        "outputId": "a6a28df3-be9c-4339-b972-30cb6b9de855"
      },
      "source": [
        "plt.figure(figsize=(15,8))\n",
        "plot = sns.heatmap(df_geo_damage_geo_1, cmap='Reds', \\\n",
        "                   cbar_kws={'label': 'Cantidad'}, \\\n",
        "                   xticklabels=['Bajo', 'Medio', 'Alto'])\n",
        "\n",
        "title='''ID Geográfico de Nivel 1: Edificaciones con daños'''\n",
        "plt.title(label=title, fontsize=25)\n",
        "plt.xlabel('Nivel de daño', fontsize=20)\n",
        "plt.ylabel('Rango de identificador', fontsize=20)\n",
        "plt.yticks(fontsize=17)\n",
        "plt.xticks(fontsize=17)\n",
        "# Tamaño de fuente del rótulo de la barra de colores\n",
        "plot.figure.axes[-1].yaxis.label.set_size(20)\n",
        "plt.show()"
      ],
      "execution_count": 114,
      "outputs": [
        {
          "output_type": "display_data",
          "data": {
            "image/png": "[encoded data removed]",
            "text/plain": [
              "<Figure size 1080x576 with 2 Axes>"
            ]
          },
          "metadata": {
            "tags": [],
            "needs_background": "light"
          }
        }
      ]
    },
    {
      "cell_type": "markdown",
      "metadata": {
        "id": "uBKT5ZzH8iKj"
      },
      "source": [
        "### Notables"
      ]
    },
    {
      "cell_type": "code",
      "metadata": {
        "colab": {
          "base_uri": "https://localhost:8080/"
        },
        "id": "lcOwcbN78rHl",
        "outputId": "f88b94a8-b24c-4b28-94e8-3b79bc28202b"
      },
      "source": [
        "df_geo_damage_geo_1['cant_low_dmg'].nlargest(1)"
      ],
      "execution_count": 103,
      "outputs": [
        {
          "output_type": "execute_result",
          "data": {
            "text/plain": [
              "geo_level_1_id\n",
              "(24, 26]    8496\n",
              "Name: cant_low_dmg, dtype: int64"
            ]
          },
          "metadata": {
            "tags": []
          },
          "execution_count": 103
        }
      ]
    },
    {
      "cell_type": "code",
      "metadata": {
        "colab": {
          "base_uri": "https://localhost:8080/"
        },
        "id": "gkVpb1jY-9jY",
        "outputId": "19e70bf3-5b41-4c43-cf32-1878ac4797bd"
      },
      "source": [
        "df_geo_damage_geo_1['cant_med_dmg'].nlargest(5)"
      ],
      "execution_count": 105,
      "outputs": [
        {
          "output_type": "execute_result",
          "data": {
            "text/plain": [
              "geo_level_1_id\n",
              "(6, 8]      19786\n",
              "(4, 6]      18236\n",
              "(24, 26]    17029\n",
              "(2, 4]      15714\n",
              "(8, 10]     14840\n",
              "Name: cant_med_dmg, dtype: int64"
            ]
          },
          "metadata": {
            "tags": []
          },
          "execution_count": 105
        }
      ]
    },
    {
      "cell_type": "code",
      "metadata": {
        "colab": {
          "base_uri": "https://localhost:8080/"
        },
        "id": "sUBenzNt_w8o",
        "outputId": "ce4c8293-1489-4945-b2ad-c5899f0c7029"
      },
      "source": [
        "df_geo_damage_geo_1['cant_hig_dmg'].nlargest(2)"
      ],
      "execution_count": 107,
      "outputs": [
        {
          "output_type": "execute_result",
          "data": {
            "text/plain": [
              "geo_level_1_id\n",
              "(16, 18]    19946\n",
              "(6, 8]      16601\n",
              "Name: cant_hig_dmg, dtype: int64"
            ]
          },
          "metadata": {
            "tags": []
          },
          "execution_count": 107
        }
      ]
    },
    {
      "cell_type": "markdown",
      "metadata": {
        "id": "MZc5YqsE_PWY"
      },
      "source": [
        "## Cantidad de edificaciones con daños (low, medium, high) para `geo_level_2_id`"
      ]
    },
    {
      "cell_type": "code",
      "metadata": {
        "id": "pKuikiCj88K1"
      },
      "source": [
        "# Cantidad de edificaciones dañadas para geolevel_id_2 contadas por nivel de daño\n",
        "df_geo_damage_geo_2 = df_geo_levels_damage\\\n",
        "  .loc[df_geo_levels_damage['damage_grade'] == 1, 'geo_level_2_id_binned']\\\n",
        "  .value_counts().to_frame()\\\n",
        "  .reset_index()\\\n",
        "  .rename(columns={'index':'geo_level_2_id', 'geo_level_2_id_binned':'cant_low_dmg'})\\\n",
        "  .sort_values(by='geo_level_2_id', ascending=False)\n",
        "\n",
        "df_aux = df_geo_levels_damage\\\n",
        "  .loc[df_geo_levels_damage['damage_grade'] == 2, 'geo_level_2_id_binned']\\\n",
        "  .value_counts().to_frame()\\\n",
        "  .reset_index()\\\n",
        "  .rename(columns={'index':'geo_level_2_id', 'geo_level_2_id_binned':'cant_med_dmg'})\\\n",
        "  .sort_values(by='geo_level_2_id', ascending=False)\n",
        "\n",
        "df_geo_damage_geo_2 = df_geo_damage_geo_2.merge(df_aux, on='geo_level_2_id', how='outer')\n",
        "\n",
        "df_aux = df_geo_levels_damage\\\n",
        "  .loc[df_geo_levels_damage['damage_grade'] == 3, 'geo_level_2_id_binned']\\\n",
        "  .value_counts().to_frame()\\\n",
        "  .reset_index()\\\n",
        "  .rename(columns={'index':'geo_level_2_id', 'geo_level_2_id_binned':'cant_hig_dmg'})\\\n",
        "  .sort_values(by='geo_level_2_id', ascending=False)\n",
        "\n",
        "df_geo_damage_geo_2 = df_geo_damage_geo_2.merge(df_aux, on='geo_level_2_id', how='outer')\n",
        "df_geo_damage_geo_2.set_index('geo_level_2_id', inplace=True)"
      ],
      "execution_count": 115,
      "outputs": []
    },
    {
      "cell_type": "code",
      "metadata": {
        "colab": {
          "base_uri": "https://localhost:8080/"
        },
        "id": "U4eUkqLsCXFg",
        "outputId": "25dcf5fd-805f-4648-9f5b-6eb4624fe929"
      },
      "source": [
        "# Cantidad total de edificaciones de geo_level_2_id que registran algún daño \n",
        "df_geo_damage_geo_2.sum()"
      ],
      "execution_count": 116,
      "outputs": [
        {
          "output_type": "execute_result",
          "data": {
            "text/plain": [
              "cant_low_dmg     25124\n",
              "cant_med_dmg    148250\n",
              "cant_hig_dmg     87189\n",
              "dtype: int64"
            ]
          },
          "metadata": {
            "tags": []
          },
          "execution_count": 116
        }
      ]
    },
    {
      "cell_type": "code",
      "metadata": {
        "colab": {
          "base_uri": "https://localhost:8080/",
          "height": 540
        },
        "id": "rGcoHPiS9_dn",
        "outputId": "5ceb199b-cb05-42e8-b67f-ea3f5f48c955"
      },
      "source": [
        "plt.figure(figsize=(15,8))\n",
        "plot = sns.heatmap(df_geo_damage_geo_2, cmap='Reds', \\\n",
        "                   cbar_kws={'label': 'Cantidad'}, \\\n",
        "                   xticklabels=['Bajo', 'Medio', 'Alto'])\n",
        "\n",
        "title='''ID Geográfico de Nivel 2: Edificaciones con daños'''\n",
        "plt.title(label=title, fontsize=25)\n",
        "plt.xlabel('Nivel de daño', fontsize=20)\n",
        "plt.ylabel('Rango de identificador', fontsize=20)\n",
        "plt.yticks(fontsize=17)\n",
        "plt.xticks(fontsize=17)\n",
        "# Tamaño de fuente del rótulo de la barra de colores\n",
        "plot.figure.axes[-1].yaxis.label.set_size(20)\n",
        "plt.show()"
      ],
      "execution_count": 117,
      "outputs": [
        {
          "output_type": "display_data",
          "data": {
            "image/png": "[encoded data removed]",
            "text/plain": [
              "<Figure size 1080x576 with 2 Axes>"
            ]
          },
          "metadata": {
            "tags": [],
            "needs_background": "light"
          }
        }
      ]
    },
    {
      "cell_type": "code",
      "metadata": {
        "colab": {
          "base_uri": "https://localhost:8080/"
        },
        "id": "3ZBLUPPdGOfg",
        "outputId": "96008b13-ae9a-41b0-e201-015cdc33d21f"
      },
      "source": [
        "df_geo_damage_geo_2['cant_low_dmg'].nsmallest(3)"
      ],
      "execution_count": 127,
      "outputs": [
        {
          "output_type": "execute_result",
          "data": {
            "text/plain": [
              "geo_level_2_id\n",
              "(768, 864]       952\n",
              "(1152, 1248]     965\n",
              "(576, 672]      1123\n",
              "Name: cant_low_dmg, dtype: int64"
            ]
          },
          "metadata": {
            "tags": []
          },
          "execution_count": 127
        }
      ]
    },
    {
      "cell_type": "code",
      "metadata": {
        "colab": {
          "base_uri": "https://localhost:8080/"
        },
        "id": "90duQgyhGjLY",
        "outputId": "6a3a7462-bb64-4881-e82e-fe63b975c24d"
      },
      "source": [
        "df_geo_damage_geo_2.sum(axis=1).sort_values()"
      ],
      "execution_count": 130,
      "outputs": [
        {
          "output_type": "execute_result",
          "data": {
            "text/plain": [
              "geo_level_2_id\n",
              "(1248, 1344]    12502\n",
              "(768, 864]      14381\n",
              "(288, 384]      15263\n",
              "(576, 672]      15598\n",
              "(192, 288]      16186\n",
              "(1152, 1248]    16755\n",
              "(1056, 1152]    16935\n",
              "(1344, 1440]    16969\n",
              "(480, 576]      18045\n",
              "(0, 96]         18209\n",
              "(384, 480]      18386\n",
              "(864, 960]      18866\n",
              "(960, 1056]     19485\n",
              "(672, 768]      20236\n",
              "(96, 192]       22747\n",
              "dtype: int64"
            ]
          },
          "metadata": {
            "tags": []
          },
          "execution_count": 130
        }
      ]
    },
    {
      "cell_type": "markdown",
      "metadata": {
        "id": "yLYp2YRg_SSf"
      },
      "source": [
        "## Cantidad de edificaciones con daños (low, medium, high) para `geo_level_3_id`"
      ]
    },
    {
      "cell_type": "code",
      "metadata": {
        "id": "3YU02uMc-uhj"
      },
      "source": [
        "# Cantidad de edificaciones dañadas para geolevel_id_3 contadas por nivel de daño\n",
        "df_geo_damage_geo_3 = df_geo_levels_damage\\\n",
        "  .loc[df_geo_levels_damage['damage_grade'] == 1, 'geo_level_3_id_binned']\\\n",
        "  .value_counts().to_frame()\\\n",
        "  .reset_index()\\\n",
        "  .rename(columns={'index':'geo_level_3_id', 'geo_level_3_id_binned':'cant_low_dmg'})\\\n",
        "  .sort_values(by='geo_level_3_id', ascending=False)\n",
        "\n",
        "df_aux = df_geo_levels_damage\\\n",
        "  .loc[df_geo_levels_damage['damage_grade'] == 2, 'geo_level_3_id_binned']\\\n",
        "  .value_counts().to_frame()\\\n",
        "  .reset_index()\\\n",
        "  .rename(columns={'index':'geo_level_3_id', 'geo_level_3_id_binned':'cant_med_dmg'})\\\n",
        "  .sort_values(by='geo_level_3_id', ascending=False)\n",
        "\n",
        "df_geo_damage_geo_3 = df_geo_damage_geo_3.merge(df_aux, on='geo_level_3_id', how='outer')\n",
        "\n",
        "df_aux = df_geo_levels_damage\\\n",
        "  .loc[df_geo_levels_damage['damage_grade'] == 3, 'geo_level_3_id_binned']\\\n",
        "  .value_counts().to_frame()\\\n",
        "  .reset_index()\\\n",
        "  .rename(columns={'index':'geo_level_3_id', 'geo_level_3_id_binned':'cant_hig_dmg'})\\\n",
        "  .sort_values(by='geo_level_3_id', ascending=False)\n",
        "\n",
        "df_geo_damage_geo_3 = df_geo_damage_geo_3.merge(df_aux, on='geo_level_3_id', how='outer')\n",
        "df_geo_damage_geo_3.set_index('geo_level_3_id', inplace=True)"
      ],
      "execution_count": 118,
      "outputs": []
    },
    {
      "cell_type": "code",
      "metadata": {
        "colab": {
          "base_uri": "https://localhost:8080/"
        },
        "id": "6kqyXpZpCdws",
        "outputId": "9c82a7bb-69ad-44b5-eb58-ad983d4ecfbd"
      },
      "source": [
        "# Cantidad total de edificaciones de geo_level_3_id que registran algún daño \n",
        "df_geo_damage_geo_3.sum()"
      ],
      "execution_count": 119,
      "outputs": [
        {
          "output_type": "execute_result",
          "data": {
            "text/plain": [
              "cant_low_dmg     25124\n",
              "cant_med_dmg    148259\n",
              "cant_hig_dmg     87216\n",
              "dtype: int64"
            ]
          },
          "metadata": {
            "tags": []
          },
          "execution_count": 119
        }
      ]
    },
    {
      "cell_type": "code",
      "metadata": {
        "colab": {
          "base_uri": "https://localhost:8080/",
          "height": 540
        },
        "id": "WGpN-sBK_Arp",
        "outputId": "68a7c115-0bba-451b-cd61-1be035c1a0f5"
      },
      "source": [
        "plt.figure(figsize=(15,8))\n",
        "plot = sns.heatmap(df_geo_damage_geo_3, cmap='Reds', \\\n",
        "                   cbar_kws={'label': 'Cantidad'}, \\\n",
        "                   xticklabels=['Bajo', 'Medio', 'Alto'])\n",
        "\n",
        "title='''ID Geográfico de Nivel 3: Edificaciones con daños'''\n",
        "plt.title(label=title, fontsize=25)\n",
        "plt.xlabel('Nivel de daño', fontsize=20)\n",
        "plt.ylabel('Rango de identificador', fontsize=20)\n",
        "plt.yticks(fontsize=17)\n",
        "plt.xticks(fontsize=17)\n",
        "# Tamaño de fuente del rótulo de la barra de colores\n",
        "plot.figure.axes[-1].yaxis.label.set_size(20)\n",
        "plt.show()"
      ],
      "execution_count": 120,
      "outputs": [
        {
          "output_type": "display_data",
          "data": {
            "image/png": "[encoded data removed]",
            "text/plain": [
              "<Figure size 1080x576 with 2 Axes>"
            ]
          },
          "metadata": {
            "tags": [],
            "needs_background": "light"
          }
        }
      ]
    },
    {
      "cell_type": "code",
      "metadata": {
        "colab": {
          "base_uri": "https://localhost:8080/"
        },
        "id": "BQ6ndD8kFsyS",
        "outputId": "a1438e23-64ac-41d7-eb6d-5fe98b2229cc"
      },
      "source": [
        "df_geo_damage_geo_3['cant_med_dmg'].nlargest(5)"
      ],
      "execution_count": 123,
      "outputs": [
        {
          "output_type": "execute_result",
          "data": {
            "text/plain": [
              "geo_level_3_id\n",
              "(0, 838]          10518\n",
              "(838, 1676]       10499\n",
              "(10056, 10894]    10392\n",
              "(7542, 8380]      10118\n",
              "(2514, 3352]       9983\n",
              "Name: cant_med_dmg, dtype: int64"
            ]
          },
          "metadata": {
            "tags": []
          },
          "execution_count": 123
        }
      ]
    },
    {
      "cell_type": "markdown",
      "metadata": {
        "id": "wT5o8R1eL7VP"
      },
      "source": [
        "Ya que la distribución de casos parece tener cierta uniformidad tiene sentido analizar algunos estadísticos."
      ]
    },
    {
      "cell_type": "code",
      "metadata": {
        "colab": {
          "base_uri": "https://localhost:8080/"
        },
        "id": "WvJiKxVbHZwT",
        "outputId": "1b3f5e07-73cd-4785-fc21-09d0e01a513a"
      },
      "source": [
        "i=1\n",
        "for col in df_geo_damage_geo_3.columns:\n",
        "  print('Nivel Geográfico', i, ':')\n",
        "  print('\\tcant\\t', df_geo_damage_geo_3[col].sum())\n",
        "  print('\\tmedia\\t', np.round(df_geo_damage_geo_3[col].mean(), 0))\n",
        "  print('\\tmediana\\t', df_geo_damage_geo_3[col].median())\n",
        "  print('\\tdesvío\\t', np.round(df_geo_damage_geo_3[col].std(), 0))\n",
        "  i = i+1"
      ],
      "execution_count": 152,
      "outputs": [
        {
          "output_type": "stream",
          "text": [
            "Nivel Geográfico 1 :\n",
            "\tcant\t 25124\n",
            "\tmedia\t 1675.0\n",
            "\tmediana\t 1665.0\n",
            "\tdesvío\t 220.0\n",
            "Nivel Geográfico 2 :\n",
            "\tcant\t 148259\n",
            "\tmedia\t 9884.0\n",
            "\tmediana\t 9799.0\n",
            "\tdesvío\t 371.0\n",
            "Nivel Geográfico 3 :\n",
            "\tcant\t 87216\n",
            "\tmedia\t 5814.0\n",
            "\tmediana\t 5802.0\n",
            "\tdesvío\t 301.0\n"
          ],
          "name": "stdout"
        }
      ]
    },
    {
      "cell_type": "markdown",
      "metadata": {
        "id": "J3EFJK9LBKxy"
      },
      "source": [
        "### Conclusión\n",
        "\n",
        "En las tres regiones geográficas se ve que la ocurrencia de poco daño es mínima comparada con los otros tipos de daño. Las edificaciones con daño medio dominan en todas las regiones, especialmente en la región geográfica de nivel 3."
      ]
    }
  ]
}