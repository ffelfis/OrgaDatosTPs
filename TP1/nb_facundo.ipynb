{
  "nbformat": 4,
  "nbformat_minor": 0,
  "metadata": {
    "colab": {
      "name": "nb_facundo.ipynb",
      "provenance": [],
      "collapsed_sections": [],
      "authorship_tag": "ABX9TyNi+R2X5PSmacgQV/oCSBDL",
      "include_colab_link": true
    },
    "kernelspec": {
      "name": "python3",
      "display_name": "Python 3"
    },
    "language_info": {
      "name": "python"
    }
  },
  "cells": [
    {
      "cell_type": "markdown",
      "metadata": {
        "id": "view-in-github",
        "colab_type": "text"
      },
      "source": [
        "<a href=\"https://colab.research.google.com/github/ffelfis/OrgaDatosTPs/blob/main/TP1/nb_facundo.ipynb\" target=\"_parent\"><img src=\"https://colab.research.google.com/assets/colab-badge.svg\" alt=\"Open In Colab\"/></a>"
      ]
    },
    {
      "cell_type": "code",
      "metadata": {
        "id": "jnU-kuMSRkB2",
        "colab": {
          "base_uri": "https://localhost:8080/"
        },
        "outputId": "19a2cfe9-2ae3-4109-f95e-6bbced36a4da"
      },
      "source": [
        "# Paquete para manejo de mapas\n",
        "!pip install geopandas\n",
        "# Para leer shape files con el paque 'shapefile' (contienen geometría de mapas)\n",
        "!pip install pyshp"
      ],
      "execution_count": 3,
      "outputs": [
        {
          "output_type": "stream",
          "text": [
            "Collecting geopandas\n",
            "\u001b[?25l  Downloading https://files.pythonhosted.org/packages/d7/bf/e9cefb69d39155d122b6ddca53893b61535fa6ffdad70bf5ef708977f53f/geopandas-0.9.0-py2.py3-none-any.whl (994kB)\n",
            "\u001b[K     |████████████████████████████████| 1.0MB 29.3MB/s \n",
            "\u001b[?25hRequirement already satisfied: pandas>=0.24.0 in /usr/local/lib/python3.7/dist-packages (from geopandas) (1.1.5)\n",
            "Collecting pyproj>=2.2.0\n",
            "\u001b[?25l  Downloading https://files.pythonhosted.org/packages/b1/72/d52e9ca81caef056062d71991b0e9b1d16af042245627c5d0e4916a36c4f/pyproj-3.0.1-cp37-cp37m-manylinux2010_x86_64.whl (6.5MB)\n",
            "\u001b[K     |████████████████████████████████| 6.5MB 30.0MB/s \n",
            "\u001b[?25hRequirement already satisfied: shapely>=1.6 in /usr/local/lib/python3.7/dist-packages (from geopandas) (1.7.1)\n",
            "Collecting fiona>=1.8\n",
            "\u001b[?25l  Downloading https://files.pythonhosted.org/packages/ea/2a/404b22883298a3efe9c6ef8d67acbf2c38443fa366ee9cd4cd34e17626ea/Fiona-1.8.19-cp37-cp37m-manylinux1_x86_64.whl (15.3MB)\n",
            "\u001b[K     |████████████████████████████████| 15.3MB 221kB/s \n",
            "\u001b[?25hRequirement already satisfied: python-dateutil>=2.7.3 in /usr/local/lib/python3.7/dist-packages (from pandas>=0.24.0->geopandas) (2.8.1)\n",
            "Requirement already satisfied: pytz>=2017.2 in /usr/local/lib/python3.7/dist-packages (from pandas>=0.24.0->geopandas) (2018.9)\n",
            "Requirement already satisfied: numpy>=1.15.4 in /usr/local/lib/python3.7/dist-packages (from pandas>=0.24.0->geopandas) (1.19.5)\n",
            "Requirement already satisfied: certifi in /usr/local/lib/python3.7/dist-packages (from pyproj>=2.2.0->geopandas) (2020.12.5)\n",
            "Collecting click-plugins>=1.0\n",
            "  Downloading https://files.pythonhosted.org/packages/e9/da/824b92d9942f4e472702488857914bdd50f73021efea15b4cad9aca8ecef/click_plugins-1.1.1-py2.py3-none-any.whl\n",
            "Requirement already satisfied: six>=1.7 in /usr/local/lib/python3.7/dist-packages (from fiona>=1.8->geopandas) (1.15.0)\n",
            "Requirement already satisfied: click<8,>=4.0 in /usr/local/lib/python3.7/dist-packages (from fiona>=1.8->geopandas) (7.1.2)\n",
            "Collecting cligj>=0.5\n",
            "  Downloading https://files.pythonhosted.org/packages/42/1e/947eadf10d6804bf276eb8a038bd5307996dceaaa41cfd21b7a15ec62f5d/cligj-0.7.1-py3-none-any.whl\n",
            "Collecting munch\n",
            "  Downloading https://files.pythonhosted.org/packages/cc/ab/85d8da5c9a45e072301beb37ad7f833cd344e04c817d97e0cc75681d248f/munch-2.5.0-py2.py3-none-any.whl\n",
            "Requirement already satisfied: attrs>=17 in /usr/local/lib/python3.7/dist-packages (from fiona>=1.8->geopandas) (21.2.0)\n",
            "Installing collected packages: pyproj, click-plugins, cligj, munch, fiona, geopandas\n",
            "Successfully installed click-plugins-1.1.1 cligj-0.7.1 fiona-1.8.19 geopandas-0.9.0 munch-2.5.0 pyproj-3.0.1\n",
            "Collecting pyshp\n",
            "\u001b[?25l  Downloading https://files.pythonhosted.org/packages/38/85/fbf87e7aa55103e0d06af756bdbc15cf821fa580414c23142d60a35d4f85/pyshp-2.1.3.tar.gz (219kB)\n",
            "\u001b[K     |████████████████████████████████| 225kB 28.9MB/s \n",
            "\u001b[?25hBuilding wheels for collected packages: pyshp\n",
            "  Building wheel for pyshp (setup.py) ... \u001b[?25l\u001b[?25hdone\n",
            "  Created wheel for pyshp: filename=pyshp-2.1.3-cp37-none-any.whl size=37264 sha256=af71a8be3d502059121309a76f5c052846c20af54ab6f1539d55814748d899f1\n",
            "  Stored in directory: /root/.cache/pip/wheels/76/2b/d4/53e6b9a0fb0a9f9f29664cf82605af8bc81d5ab44d987896dd\n",
            "Successfully built pyshp\n",
            "Installing collected packages: pyshp\n",
            "Successfully installed pyshp-2.1.3\n"
          ],
          "name": "stdout"
        }
      ]
    },
    {
      "cell_type": "code",
      "metadata": {
        "id": "D453xuM9RRaJ"
      },
      "source": [
        "import pandas as pd\n",
        "import numpy as np\n",
        "import geopandas as gpd\n",
        "import shapefile as shp\n",
        "import matplotlib.pyplot as plt\n",
        "import seaborn as sns"
      ],
      "execution_count": 4,
      "outputs": []
    },
    {
      "cell_type": "code",
      "metadata": {
        "colab": {
          "base_uri": "https://localhost:8080/"
        },
        "id": "twG1ocJDSg_5",
        "outputId": "d9aef2e1-7015-4108-837f-cb7b0525ec74"
      },
      "source": [
        "# Lectura de Dataset desde Google Drive\n",
        "from google.colab import drive\n",
        "drive.mount('/content/gdrive')"
      ],
      "execution_count": 5,
      "outputs": [
        {
          "output_type": "stream",
          "text": [
            "Mounted at /content/gdrive\n"
          ],
          "name": "stdout"
        }
      ]
    },
    {
      "cell_type": "markdown",
      "metadata": {
        "id": "w725QZTCuGCH"
      },
      "source": [
        "# Análisis de train_values.csv"
      ]
    },
    {
      "cell_type": "code",
      "metadata": {
        "id": "rHP1qWSiYpse"
      },
      "source": [
        "df = pd.read_csv('/content/gdrive/My Drive/75.06 - Organización de Datos/TP1/Data/train_values.csv')"
      ],
      "execution_count": 31,
      "outputs": []
    },
    {
      "cell_type": "code",
      "metadata": {
        "colab": {
          "base_uri": "https://localhost:8080/"
        },
        "id": "qkoUExA6adnb",
        "outputId": "9e6efb37-24ac-4bf6-ca32-839fe3e86029"
      },
      "source": [
        "df.info()"
      ],
      "execution_count": 32,
      "outputs": [
        {
          "output_type": "stream",
          "text": [
            "<class 'pandas.core.frame.DataFrame'>\n",
            "RangeIndex: 260601 entries, 0 to 260600\n",
            "Data columns (total 39 columns):\n",
            " #   Column                                  Non-Null Count   Dtype \n",
            "---  ------                                  --------------   ----- \n",
            " 0   building_id                             260601 non-null  int64 \n",
            " 1   geo_level_1_id                          260601 non-null  int64 \n",
            " 2   geo_level_2_id                          260601 non-null  int64 \n",
            " 3   geo_level_3_id                          260601 non-null  int64 \n",
            " 4   count_floors_pre_eq                     260601 non-null  int64 \n",
            " 5   age                                     260601 non-null  int64 \n",
            " 6   area_percentage                         260601 non-null  int64 \n",
            " 7   height_percentage                       260601 non-null  int64 \n",
            " 8   land_surface_condition                  260601 non-null  object\n",
            " 9   foundation_type                         260601 non-null  object\n",
            " 10  roof_type                               260601 non-null  object\n",
            " 11  ground_floor_type                       260601 non-null  object\n",
            " 12  other_floor_type                        260601 non-null  object\n",
            " 13  position                                260601 non-null  object\n",
            " 14  plan_configuration                      260601 non-null  object\n",
            " 15  has_superstructure_adobe_mud            260601 non-null  int64 \n",
            " 16  has_superstructure_mud_mortar_stone     260601 non-null  int64 \n",
            " 17  has_superstructure_stone_flag           260601 non-null  int64 \n",
            " 18  has_superstructure_cement_mortar_stone  260601 non-null  int64 \n",
            " 19  has_superstructure_mud_mortar_brick     260601 non-null  int64 \n",
            " 20  has_superstructure_cement_mortar_brick  260601 non-null  int64 \n",
            " 21  has_superstructure_timber               260601 non-null  int64 \n",
            " 22  has_superstructure_bamboo               260601 non-null  int64 \n",
            " 23  has_superstructure_rc_non_engineered    260601 non-null  int64 \n",
            " 24  has_superstructure_rc_engineered        260601 non-null  int64 \n",
            " 25  has_superstructure_other                260601 non-null  int64 \n",
            " 26  legal_ownership_status                  260601 non-null  object\n",
            " 27  count_families                          260601 non-null  int64 \n",
            " 28  has_secondary_use                       260601 non-null  int64 \n",
            " 29  has_secondary_use_agriculture           260601 non-null  int64 \n",
            " 30  has_secondary_use_hotel                 260601 non-null  int64 \n",
            " 31  has_secondary_use_rental                260601 non-null  int64 \n",
            " 32  has_secondary_use_institution           260601 non-null  int64 \n",
            " 33  has_secondary_use_school                260601 non-null  int64 \n",
            " 34  has_secondary_use_industry              260601 non-null  int64 \n",
            " 35  has_secondary_use_health_post           260601 non-null  int64 \n",
            " 36  has_secondary_use_gov_office            260601 non-null  int64 \n",
            " 37  has_secondary_use_use_police            260601 non-null  int64 \n",
            " 38  has_secondary_use_other                 260601 non-null  int64 \n",
            "dtypes: int64(31), object(8)\n",
            "memory usage: 77.5+ MB\n"
          ],
          "name": "stdout"
        }
      ]
    },
    {
      "cell_type": "code",
      "metadata": {
        "colab": {
          "base_uri": "https://localhost:8080/"
        },
        "id": "Uy-QKqVslQuY",
        "outputId": "3bd65e91-95a3-424e-d1d5-8afec84682b9"
      },
      "source": [
        "memoria = df.memory_usage(deep=True).sum()/(2**20)\n",
        "print('Se usan', np.round(memoria, 2), 'MiB')"
      ],
      "execution_count": 8,
      "outputs": [
        {
          "output_type": "stream",
          "text": [
            "Se usan 176.95 MiB\n"
          ],
          "name": "stdout"
        }
      ]
    },
    {
      "cell_type": "markdown",
      "metadata": {
        "id": "o4xmNmYNkiVJ"
      },
      "source": [
        "No hay columnas con datos nulos.\n",
        "\n",
        "Se puede reallizar un cambio de tipo a las columnas para ajustar el uso de memoria."
      ]
    },
    {
      "cell_type": "markdown",
      "metadata": {
        "id": "6YW-yaXYkuT_"
      },
      "source": [
        "### Columnas numéricas\n",
        "\n",
        "`building_id`: \\[4, 1052934\\] $\\rightarrow$ int32\n",
        "\n",
        "`geo_level_1_id`: \\[0, 30\\] $\\rightarrow$ int8\n",
        "\n",
        "`geo_level_2_id`: \\[0, 1427\\] $\\rightarrow$ int16\n",
        "\n",
        "`geo_level_3_id`: \\[0, 12567\\] $\\rightarrow$ int16\n",
        "\n",
        "`count_floors_pre_eq`: \\[0, 9\\] $\\rightarrow$ int8\n",
        "\n",
        "`age`: \\[0, 995\\] $\\rightarrow$ int16\n",
        "\n",
        "`area_percentage`: \\[0, 100\\] $\\rightarrow$ int8\n",
        "\n",
        "`height_percentage`: \\[2, 32\\] $\\rightarrow$ int8\n",
        "\n",
        "`count_families`: \\[0, 9\\] $\\rightarrow$ int8"
      ]
    },
    {
      "cell_type": "code",
      "metadata": {
        "colab": {
          "base_uri": "https://localhost:8080/",
          "height": 112
        },
        "id": "YPvawtN9nq3L",
        "outputId": "d791ad02-d0bb-424c-e5e5-8a9b29f4c213"
      },
      "source": [
        "df.loc[:, 'building_id':'height_percentage'].describe().astype('int64').loc[['max', 'min'], :]"
      ],
      "execution_count": 9,
      "outputs": [
        {
          "output_type": "execute_result",
          "data": {
            "text/html": [
              "<div>\n",
              "<style scoped>\n",
              "    .dataframe tbody tr th:only-of-type {\n",
              "        vertical-align: middle;\n",
              "    }\n",
              "\n",
              "    .dataframe tbody tr th {\n",
              "        vertical-align: top;\n",
              "    }\n",
              "\n",
              "    .dataframe thead th {\n",
              "        text-align: right;\n",
              "    }\n",
              "</style>\n",
              "<table border=\"1\" class=\"dataframe\">\n",
              "  <thead>\n",
              "    <tr style=\"text-align: right;\">\n",
              "      <th></th>\n",
              "      <th>building_id</th>\n",
              "      <th>geo_level_1_id</th>\n",
              "      <th>geo_level_2_id</th>\n",
              "      <th>geo_level_3_id</th>\n",
              "      <th>count_floors_pre_eq</th>\n",
              "      <th>age</th>\n",
              "      <th>area_percentage</th>\n",
              "      <th>height_percentage</th>\n",
              "    </tr>\n",
              "  </thead>\n",
              "  <tbody>\n",
              "    <tr>\n",
              "      <th>max</th>\n",
              "      <td>1052934</td>\n",
              "      <td>30</td>\n",
              "      <td>1427</td>\n",
              "      <td>12567</td>\n",
              "      <td>9</td>\n",
              "      <td>995</td>\n",
              "      <td>100</td>\n",
              "      <td>32</td>\n",
              "    </tr>\n",
              "    <tr>\n",
              "      <th>min</th>\n",
              "      <td>4</td>\n",
              "      <td>0</td>\n",
              "      <td>0</td>\n",
              "      <td>0</td>\n",
              "      <td>1</td>\n",
              "      <td>0</td>\n",
              "      <td>1</td>\n",
              "      <td>2</td>\n",
              "    </tr>\n",
              "  </tbody>\n",
              "</table>\n",
              "</div>"
            ],
            "text/plain": [
              "     building_id  geo_level_1_id  ...  area_percentage  height_percentage\n",
              "max      1052934              30  ...              100                 32\n",
              "min            4               0  ...                1                  2\n",
              "\n",
              "[2 rows x 8 columns]"
            ]
          },
          "metadata": {
            "tags": []
          },
          "execution_count": 9
        }
      ]
    },
    {
      "cell_type": "code",
      "metadata": {
        "id": "AmU6cFm7mo9b"
      },
      "source": [
        "df['building_id'] = df['building_id'].astype('int32')\n",
        "df['geo_level_1_id'] = df['geo_level_1_id'].astype('int8')\n",
        "df['geo_level_2_id'] = df['geo_level_2_id'].astype('int16')\n",
        "df['geo_level_3_id'] = df['geo_level_3_id'].astype('int16')\n",
        "df['count_floors_pre_eq'] = df['count_floors_pre_eq'].astype('int8')\n",
        "df['age'] = df['age'].astype('int16')\n",
        "df['area_percentage'] = df['area_percentage'].astype('int8')\n",
        "df['height_percentage'] = df['height_percentage'].astype('int8')\n",
        "df['count_families'] = df['count_families'].astype('int8')"
      ],
      "execution_count": 33,
      "outputs": []
    },
    {
      "cell_type": "code",
      "metadata": {
        "colab": {
          "base_uri": "https://localhost:8080/"
        },
        "id": "IfYd86OyoOpv",
        "outputId": "a2741d3b-a6fe-4777-926d-fd820067c01c"
      },
      "source": [
        "memoria = df.memory_usage(deep=True).sum()/(2**20)\n",
        "print('Se usan', np.round(memoria, 2), 'MiB')"
      ],
      "execution_count": 11,
      "outputs": [
        {
          "output_type": "stream",
          "text": [
            "Se usan 162.79 MiB\n"
          ],
          "name": "stdout"
        }
      ]
    },
    {
      "cell_type": "markdown",
      "metadata": {
        "id": "jZyN6JjekzUy"
      },
      "source": [
        "### Columnas booleanas\n",
        "\n",
        "`has_superstructure_adobe_mud`, `has_superstructure_mud_mortar_stone`, `has_superstructure_stone_flag`, \n",
        "`has_superstructure_cement_mortar_stone`, `has_superstructure_mud_mortar_brick`, `has_superstructure_cement_mortar_brick`, `has_superstructure_timber`, `has_superstructure_bamboo`, `has_superstructure_rc_non_engineered`, `has_superstructure_rc_engineered`, `has_superstructure_other`, `has_secondary_use`, `has_secondary_use_agriculture`, `has_secondary_use_hotel`, `has_secondary_use_rental`, `has_secondary_use_institution`, `has_secondary_use_school`, `has_secondary_use_industry`, `has_secondary_use_health_post`, `has_secondary_use_gov_office`, `has_secondary_use_use_police`, `has_secondary_use_other`\n",
        "\n",
        "Todas tienen valores \\[0, 1\\] $\\Longrightarrow$ bool"
      ]
    },
    {
      "cell_type": "code",
      "metadata": {
        "id": "6UQ__Uh1qXGl"
      },
      "source": [
        "df['has_superstructure_adobe_mud'] = df['has_superstructure_adobe_mud'].astype('bool')\n",
        "df['has_superstructure_mud_mortar_stone'] = df['has_superstructure_mud_mortar_stone'].astype('bool')\n",
        "df['has_superstructure_stone_flag'] = df['has_superstructure_stone_flag'].astype('bool')\n",
        "df['has_superstructure_cement_mortar_stone'] = df['has_superstructure_cement_mortar_stone'].astype('bool')\n",
        "df['has_superstructure_mud_mortar_brick'] = df['has_superstructure_mud_mortar_brick'].astype('bool')\n",
        "df['has_superstructure_cement_mortar_brick'] = df['has_superstructure_cement_mortar_brick'].astype('bool')\n",
        "df['has_superstructure_timber'] = df['has_superstructure_timber'].astype('bool')\n",
        "df['has_superstructure_bamboo'] = df['has_superstructure_bamboo'].astype('bool')\n",
        "df['has_superstructure_rc_non_engineered'] = df['has_superstructure_rc_non_engineered'].astype('bool')\n",
        "df['has_superstructure_rc_engineered'] = df['has_superstructure_rc_engineered'].astype('bool')\n",
        "df['has_superstructure_other'] = df['has_superstructure_other'].astype('bool')\n",
        "df['has_secondary_use'] = df['has_secondary_use'].astype('bool')\n",
        "df['has_secondary_use_agriculture'] = df['has_secondary_use_agriculture'].astype('bool')\n",
        "df['has_secondary_use_hotel'] = df['has_secondary_use_hotel'].astype('bool')\n",
        "df['has_secondary_use_rental'] = df['has_secondary_use_rental'].astype('bool')\n",
        "df['has_secondary_use_institution'] = df['has_secondary_use_institution'].astype('bool')\n",
        "df['has_secondary_use_school'] = df['has_secondary_use_school'].astype('bool')\n",
        "df['has_secondary_use_industry'] = df['has_secondary_use_industry'].astype('bool')\n",
        "df['has_secondary_use_health_post'] = df['has_secondary_use_health_post'].astype('bool')\n",
        "df['has_secondary_use_gov_office'] = df['has_secondary_use_gov_office'].astype('bool')\n",
        "df['has_secondary_use_use_police'] = df['has_secondary_use_use_police'].astype('bool')\n",
        "df['has_secondary_use_other'] = df['has_secondary_use_other'].astype('bool')"
      ],
      "execution_count": 34,
      "outputs": []
    },
    {
      "cell_type": "code",
      "metadata": {
        "colab": {
          "base_uri": "https://localhost:8080/"
        },
        "id": "HxJoVd5xqo-o",
        "outputId": "1625d083-c367-4d96-dc77-6f1ffbabe0b9"
      },
      "source": [
        "memoria = df.memory_usage(deep=True).sum()/(2**20)\n",
        "print('Se usan', np.round(memoria, 2), 'MiB')"
      ],
      "execution_count": 13,
      "outputs": [
        {
          "output_type": "stream",
          "text": [
            "Se usan 124.51 MiB\n"
          ],
          "name": "stdout"
        }
      ]
    },
    {
      "cell_type": "markdown",
      "metadata": {
        "id": "-6tBWY3Lk5aq"
      },
      "source": [
        "### Columnas Categóricas\n",
        "\n",
        "`land_surface_condition`, `foundation_type`, `roof_type`, `ground_floor_type`, `other_floor_type`, `position`, `plan_configuration`, `legal_ownership_status`"
      ]
    },
    {
      "cell_type": "code",
      "metadata": {
        "id": "7T2SSgPYkh4h"
      },
      "source": [
        "df['land_surface_condition'] = df['land_surface_condition'].astype('category')\n",
        "df['foundation_type'] = df['foundation_type'].astype('category')\n",
        "df['roof_type'] = df['roof_type'].astype('category')\n",
        "df['ground_floor_type'] = df['ground_floor_type'].astype('category')\n",
        "df['other_floor_type'] = df['other_floor_type'].astype('category')\n",
        "df['position'] = df['position'].astype('category')\n",
        "df['plan_configuration'] = df['plan_configuration'].astype('category')\n",
        "df['legal_ownership_status'] = df['legal_ownership_status'].astype('category')"
      ],
      "execution_count": 35,
      "outputs": []
    },
    {
      "cell_type": "code",
      "metadata": {
        "colab": {
          "base_uri": "https://localhost:8080/"
        },
        "id": "pGdhfST5sTSE",
        "outputId": "23651a40-7586-43af-b294-4a76e93c42f3"
      },
      "source": [
        "memoria = df.memory_usage(deep=True).sum()/(2**20)\n",
        "print('Se usan', np.round(memoria, 2), 'MiB')"
      ],
      "execution_count": 15,
      "outputs": [
        {
          "output_type": "stream",
          "text": [
            "Se usan 11.19 MiB\n"
          ],
          "name": "stdout"
        }
      ]
    },
    {
      "cell_type": "code",
      "metadata": {
        "colab": {
          "base_uri": "https://localhost:8080/",
          "height": 163
        },
        "id": "R3oimY0ruvuc",
        "outputId": "d583e0a0-b3ae-4fb8-87bd-4c3bedd5e5d2"
      },
      "source": [
        "df.sample(3, random_state=42)"
      ],
      "execution_count": 36,
      "outputs": [
        {
          "output_type": "execute_result",
          "data": {
            "text/html": [
              "<div>\n",
              "<style scoped>\n",
              "    .dataframe tbody tr th:only-of-type {\n",
              "        vertical-align: middle;\n",
              "    }\n",
              "\n",
              "    .dataframe tbody tr th {\n",
              "        vertical-align: top;\n",
              "    }\n",
              "\n",
              "    .dataframe thead th {\n",
              "        text-align: right;\n",
              "    }\n",
              "</style>\n",
              "<table border=\"1\" class=\"dataframe\">\n",
              "  <thead>\n",
              "    <tr style=\"text-align: right;\">\n",
              "      <th></th>\n",
              "      <th>building_id</th>\n",
              "      <th>geo_level_1_id</th>\n",
              "      <th>geo_level_2_id</th>\n",
              "      <th>geo_level_3_id</th>\n",
              "      <th>count_floors_pre_eq</th>\n",
              "      <th>age</th>\n",
              "      <th>area_percentage</th>\n",
              "      <th>height_percentage</th>\n",
              "      <th>land_surface_condition</th>\n",
              "      <th>foundation_type</th>\n",
              "      <th>roof_type</th>\n",
              "      <th>ground_floor_type</th>\n",
              "      <th>other_floor_type</th>\n",
              "      <th>position</th>\n",
              "      <th>plan_configuration</th>\n",
              "      <th>has_superstructure_adobe_mud</th>\n",
              "      <th>has_superstructure_mud_mortar_stone</th>\n",
              "      <th>has_superstructure_stone_flag</th>\n",
              "      <th>has_superstructure_cement_mortar_stone</th>\n",
              "      <th>has_superstructure_mud_mortar_brick</th>\n",
              "      <th>has_superstructure_cement_mortar_brick</th>\n",
              "      <th>has_superstructure_timber</th>\n",
              "      <th>has_superstructure_bamboo</th>\n",
              "      <th>has_superstructure_rc_non_engineered</th>\n",
              "      <th>has_superstructure_rc_engineered</th>\n",
              "      <th>has_superstructure_other</th>\n",
              "      <th>legal_ownership_status</th>\n",
              "      <th>count_families</th>\n",
              "      <th>has_secondary_use</th>\n",
              "      <th>has_secondary_use_agriculture</th>\n",
              "      <th>has_secondary_use_hotel</th>\n",
              "      <th>has_secondary_use_rental</th>\n",
              "      <th>has_secondary_use_institution</th>\n",
              "      <th>has_secondary_use_school</th>\n",
              "      <th>has_secondary_use_industry</th>\n",
              "      <th>has_secondary_use_health_post</th>\n",
              "      <th>has_secondary_use_gov_office</th>\n",
              "      <th>has_secondary_use_use_police</th>\n",
              "      <th>has_secondary_use_other</th>\n",
              "    </tr>\n",
              "  </thead>\n",
              "  <tbody>\n",
              "    <tr>\n",
              "      <th>111801</th>\n",
              "      <td>1023112</td>\n",
              "      <td>10</td>\n",
              "      <td>1224</td>\n",
              "      <td>11128</td>\n",
              "      <td>1</td>\n",
              "      <td>20</td>\n",
              "      <td>7</td>\n",
              "      <td>3</td>\n",
              "      <td>t</td>\n",
              "      <td>r</td>\n",
              "      <td>n</td>\n",
              "      <td>f</td>\n",
              "      <td>j</td>\n",
              "      <td>s</td>\n",
              "      <td>d</td>\n",
              "      <td>False</td>\n",
              "      <td>True</td>\n",
              "      <td>False</td>\n",
              "      <td>False</td>\n",
              "      <td>False</td>\n",
              "      <td>False</td>\n",
              "      <td>False</td>\n",
              "      <td>False</td>\n",
              "      <td>False</td>\n",
              "      <td>False</td>\n",
              "      <td>False</td>\n",
              "      <td>v</td>\n",
              "      <td>1</td>\n",
              "      <td>False</td>\n",
              "      <td>False</td>\n",
              "      <td>False</td>\n",
              "      <td>False</td>\n",
              "      <td>False</td>\n",
              "      <td>False</td>\n",
              "      <td>False</td>\n",
              "      <td>False</td>\n",
              "      <td>False</td>\n",
              "      <td>False</td>\n",
              "      <td>False</td>\n",
              "    </tr>\n",
              "    <tr>\n",
              "      <th>91817</th>\n",
              "      <td>64407</td>\n",
              "      <td>22</td>\n",
              "      <td>1101</td>\n",
              "      <td>12483</td>\n",
              "      <td>2</td>\n",
              "      <td>60</td>\n",
              "      <td>7</td>\n",
              "      <td>6</td>\n",
              "      <td>t</td>\n",
              "      <td>r</td>\n",
              "      <td>n</td>\n",
              "      <td>f</td>\n",
              "      <td>q</td>\n",
              "      <td>s</td>\n",
              "      <td>d</td>\n",
              "      <td>False</td>\n",
              "      <td>True</td>\n",
              "      <td>False</td>\n",
              "      <td>False</td>\n",
              "      <td>False</td>\n",
              "      <td>False</td>\n",
              "      <td>False</td>\n",
              "      <td>False</td>\n",
              "      <td>False</td>\n",
              "      <td>False</td>\n",
              "      <td>False</td>\n",
              "      <td>v</td>\n",
              "      <td>1</td>\n",
              "      <td>False</td>\n",
              "      <td>False</td>\n",
              "      <td>False</td>\n",
              "      <td>False</td>\n",
              "      <td>False</td>\n",
              "      <td>False</td>\n",
              "      <td>False</td>\n",
              "      <td>False</td>\n",
              "      <td>False</td>\n",
              "      <td>False</td>\n",
              "      <td>False</td>\n",
              "    </tr>\n",
              "    <tr>\n",
              "      <th>251661</th>\n",
              "      <td>967834</td>\n",
              "      <td>26</td>\n",
              "      <td>39</td>\n",
              "      <td>11440</td>\n",
              "      <td>2</td>\n",
              "      <td>50</td>\n",
              "      <td>6</td>\n",
              "      <td>5</td>\n",
              "      <td>t</td>\n",
              "      <td>r</td>\n",
              "      <td>n</td>\n",
              "      <td>v</td>\n",
              "      <td>q</td>\n",
              "      <td>s</td>\n",
              "      <td>d</td>\n",
              "      <td>False</td>\n",
              "      <td>False</td>\n",
              "      <td>False</td>\n",
              "      <td>False</td>\n",
              "      <td>True</td>\n",
              "      <td>False</td>\n",
              "      <td>False</td>\n",
              "      <td>False</td>\n",
              "      <td>False</td>\n",
              "      <td>False</td>\n",
              "      <td>False</td>\n",
              "      <td>v</td>\n",
              "      <td>1</td>\n",
              "      <td>False</td>\n",
              "      <td>False</td>\n",
              "      <td>False</td>\n",
              "      <td>False</td>\n",
              "      <td>False</td>\n",
              "      <td>False</td>\n",
              "      <td>False</td>\n",
              "      <td>False</td>\n",
              "      <td>False</td>\n",
              "      <td>False</td>\n",
              "      <td>False</td>\n",
              "    </tr>\n",
              "  </tbody>\n",
              "</table>\n",
              "</div>"
            ],
            "text/plain": [
              "        building_id  ...  has_secondary_use_other\n",
              "111801      1023112  ...                    False\n",
              "91817         64407  ...                    False\n",
              "251661       967834  ...                    False\n",
              "\n",
              "[3 rows x 39 columns]"
            ]
          },
          "metadata": {
            "tags": []
          },
          "execution_count": 36
        }
      ]
    },
    {
      "cell_type": "markdown",
      "metadata": {
        "id": "xQdZmWB7snD6"
      },
      "source": [
        "# **[NO NECESARIO]** (Mapa)"
      ]
    },
    {
      "cell_type": "markdown",
      "metadata": {
        "id": "ZYmHDr_avvZQ"
      },
      "source": [
        "## Mapa de Nepal"
      ]
    },
    {
      "cell_type": "markdown",
      "metadata": {
        "id": "nFtKpcbyxG6k"
      },
      "source": [
        "Se lee el archivo .shp con `shapefile`. Se requieren los archivos que acompañan al .shp."
      ]
    },
    {
      "cell_type": "code",
      "metadata": {
        "id": "dQMy-lgXvRR-"
      },
      "source": [
        "sf_Nepal = shp.Reader('/content/gdrive/My Drive/75.06 - Organización de Datos/TP1/map_Nepal/np.shp')"
      ],
      "execution_count": 17,
      "outputs": []
    },
    {
      "cell_type": "code",
      "metadata": {
        "colab": {
          "base_uri": "https://localhost:8080/"
        },
        "id": "No788gC4xfvD",
        "outputId": "557d0d1f-3cde-43b4-c9d6-d482e30d47bd"
      },
      "source": [
        "# Identificación de campos (~ futuro índice de columnas)\n",
        "sf_Nepal.fields"
      ],
      "execution_count": 18,
      "outputs": [
        {
          "output_type": "execute_result",
          "data": {
            "text/plain": [
              "[('DeletionFlag', 'C', 1, 0),\n",
              " ['FIPS_ADMIN', 'C', 4, 0],\n",
              " ['GMI_ADMIN', 'C', 7, 0],\n",
              " ['ADMIN_NAME', 'C', 42, 0],\n",
              " ['FIPS_CNTRY', 'C', 2, 0],\n",
              " ['GMI_CNTRY', 'C', 3, 0],\n",
              " ['CNTRY_NAME', 'C', 40, 0],\n",
              " ['REGION', 'C', 21, 0],\n",
              " ['CONTINENT', 'C', 13, 0],\n",
              " ['POP_ADMIN', 'N', 9, 0],\n",
              " ['SQKM_ADMIN', 'N', 12, 3],\n",
              " ['SQMI_ADMIN', 'N', 12, 3],\n",
              " ['TYPE_ENG', 'C', 26, 0],\n",
              " ['TYPE_LOC', 'C', 50, 0],\n",
              " ['COLOR_MAP', 'C', 2, 0]]"
            ]
          },
          "metadata": {
            "tags": []
          },
          "execution_count": 18
        }
      ]
    },
    {
      "cell_type": "code",
      "metadata": {
        "colab": {
          "base_uri": "https://localhost:8080/"
        },
        "id": "fd-CHrULx00n",
        "outputId": "bb5fe986-cb12-4b49-93c0-f290319f342f"
      },
      "source": [
        "# Datos de los campos anteriores\n",
        "sf_Nepal.records()"
      ],
      "execution_count": 19,
      "outputs": [
        {
          "output_type": "execute_result",
          "data": {
            "text/plain": [
              "[Record #0: ['NP01', 'NPL-BGM', 'Bagmati', 'NP', 'NPL', 'Nepal', 'Southern Asia', 'Asia', 2425622, 10119.83, 3907.266, 'Zone', 'Anchal', '11'],\n",
              " Record #1: ['NP02', 'NPL-BHE', 'Bheri', 'NP', 'NPL', 'Nepal', 'Southern Asia', 'Asia', 1188714, 9935.7, 3836.174, 'Zone', 'Anchal', '2'],\n",
              " Record #2: ['NP03', 'NPL-DHW', 'Dhawalagiri', 'NP', 'NPL', 'Nepal', 'Southern Asia', 'Asia', 529003, 8298.877, 3204.196, 'Zone', 'Anchal', '12'],\n",
              " Record #3: ['NP04', 'NPL-GND', 'Gandaki', 'NP', 'NPL', 'Nepal', 'Southern Asia', 'Asia', 1364467, 12719.73, 4911.088, 'Zone', 'Anchal', '2'],\n",
              " Record #4: ['NP05', 'NPL-JNK', 'Janakpur', 'NP', 'NPL', 'Nepal', 'Southern Asia', 'Asia', 2221955, 9708.168, 3748.324, 'Zone', 'Anchal', '1'],\n",
              " Record #5: ['NP06', 'NPL-KRN', 'Karnali', 'NP', 'NPL', 'Nepal', 'Southern Asia', 'Asia', 280763, 21710.609, 8382.467, 'Zone', 'Anchal', '10'],\n",
              " Record #6: ['NP07', 'NPL-KOS', 'Kosi', 'NP', 'NPL', 'Nepal', 'Southern Asia', 'Asia', 1862478, 9721.242, 3753.372, 'Zone', 'Anchal', '4'],\n",
              " Record #7: ['NP08', 'NPL-LMB', 'Lumbini', 'NP', 'NPL', 'Nepal', 'Southern Asia', 'Asia', 2170072, 8609.16, 3323.997, 'Zone', 'Anchal', '1'],\n",
              " Record #8: ['NP09', 'NPL-MHK', 'Mahakali', 'NP', 'NPL', 'Nepal', 'Southern Asia', 'Asia', 716598, 7243.899, 2796.869, 'Zone', 'Anchal', '3'],\n",
              " Record #9: ['NP10', 'NPL-MEC', 'Mechi', 'NP', 'NPL', 'Nepal', 'Southern Asia', 'Asia', 1205060, 8278.24, 3196.229, 'Zone', 'Anchal', '6'],\n",
              " Record #10: ['NP11', 'NPL-NRY', 'Narayani', 'NP', 'NPL', 'Nepal', 'Southern Asia', 'Asia', 2016677, 7744.044, 2989.975, 'Zone', 'Anchal', '8'],\n",
              " Record #11: ['NP12', 'NPL-RAP', 'Rapti', 'NP', 'NPL', 'Nepal', 'Southern Asia', 'Asia', 1128149, 10663.41, 4117.143, 'Zone', 'Anchal', '8'],\n",
              " Record #12: ['NP13', 'NPL-SGR', 'Sagarmatha', 'NP', 'NPL', 'Nepal', 'Southern Asia', 'Asia', 1724585, 10007.26, 3863.803, 'Zone', 'Anchal', '2'],\n",
              " Record #13: ['NP14', 'NPL-SET', 'Seti', 'NP', 'NPL', 'Nepal', 'Southern Asia', 'Asia', 1093132, 12532.47, 4838.787, 'Zone', 'Anchal', '5']]"
            ]
          },
          "metadata": {
            "tags": []
          },
          "execution_count": 19
        }
      ]
    },
    {
      "cell_type": "code",
      "metadata": {
        "colab": {
          "base_uri": "https://localhost:8080/"
        },
        "id": "yT_6gl03x-O2",
        "outputId": "18ac91b4-8448-4af5-ee73-5a777e27d0e0"
      },
      "source": [
        "# Puntos de coordenadas para los bordes de los estados.\n",
        "sf_Nepal.shape(1).points"
      ],
      "execution_count": 20,
      "outputs": [
        {
          "output_type": "execute_result",
          "data": {
            "text/plain": [
              "[(82.06639862060547, 27.914154052734375),\n",
              " (82.04331970214844, 27.91860580444336),\n",
              " (81.99971008300781, 27.922218322753906),\n",
              " (81.97776794433594, 27.917217254638672),\n",
              " (81.96609497070312, 27.911941528320312),\n",
              " (81.95637512207031, 27.90583038330078),\n",
              " (81.93692016601562, 27.887496948242188),\n",
              " (81.91053771972656, 27.855274200439453),\n",
              " (81.90386962890625, 27.853328704833984),\n",
              " (81.89665222167969, 27.852497100830078),\n",
              " (81.88554382324219, 27.855274200439453),\n",
              " (81.88026428222656, 27.857219696044922),\n",
              " (81.78526306152344, 27.907772064208984),\n",
              " (81.78054809570312, 27.910552978515625),\n",
              " (81.772216796875, 27.917217254638672),\n",
              " (81.7269287109375, 27.955829620361328),\n",
              " (81.60748291015625, 28.01888656616211),\n",
              " (81.48970031738281, 28.074718475341797),\n",
              " (81.48027038574219, 28.079998016357422),\n",
              " (81.47608947753906, 28.083332061767578),\n",
              " (81.47248840332031, 28.08749771118164),\n",
              " (81.4708251953125, 28.094440460205078),\n",
              " (81.4708251953125, 28.10027313232422),\n",
              " (81.37442016601562, 28.166107177734375),\n",
              " (81.29803466796875, 28.163883209228516),\n",
              " (81.22248840332031, 28.324718475341797),\n",
              " (81.19358825683594, 28.366662979125977),\n",
              " (81.21415710449219, 28.392770767211914),\n",
              " (81.2583236694336, 28.548320770263672),\n",
              " (81.28193664550781, 28.668609619140625),\n",
              " (81.2791519165039, 28.687219619750977),\n",
              " (81.22802734375, 28.788330078125),\n",
              " (81.20720672607422, 28.8174991607666),\n",
              " (81.20165252685547, 28.811389923095703),\n",
              " (81.10357666015625, 28.849159240722656),\n",
              " (81.05692291259766, 28.86750030517578),\n",
              " (80.98774719238281, 28.928329467773438),\n",
              " (80.98636627197266, 28.93943977355957),\n",
              " (81.0563735961914, 28.9708309173584),\n",
              " (81.12275695800781, 28.95166015625),\n",
              " (81.18221282958984, 28.914430618286133),\n",
              " (81.21499633789062, 28.90471076965332),\n",
              " (81.34414672851562, 28.88888931274414),\n",
              " (81.46082305908203, 28.85388946533203),\n",
              " (81.51361083984375, 28.749719619750977),\n",
              " (81.5624771118164, 28.755279541015625),\n",
              " (81.57525634765625, 28.76555061340332),\n",
              " (81.57303619384766, 28.783050537109375),\n",
              " (81.52554321289062, 28.85555076599121),\n",
              " (81.45054626464844, 28.92694091796875),\n",
              " (81.40693664550781, 28.993600845336914),\n",
              " (81.41219329833984, 29.019710540771484),\n",
              " (81.45860290527344, 29.0705509185791),\n",
              " (81.53721618652344, 29.121469497680664),\n",
              " (81.56053161621094, 29.05023956298828),\n",
              " (81.62406158447266, 29.0256404876709),\n",
              " (81.72808837890625, 29.01750946044922),\n",
              " (81.83670043945312, 28.995590209960938),\n",
              " (81.8792724609375, 28.994699478149414),\n",
              " (81.92582702636719, 28.99393081665039),\n",
              " (81.99688720703125, 28.948680877685547),\n",
              " (82.05017852783203, 28.945819854736328),\n",
              " (82.0867919921875, 28.959829330444336),\n",
              " (82.11163330078125, 29.03152084350586),\n",
              " (82.12886047363281, 29.063459396362305),\n",
              " (82.1659164428711, 29.06702995300293),\n",
              " (82.22708129882812, 29.066749572753906),\n",
              " (82.33830261230469, 29.107650756835938),\n",
              " (82.36485290527344, 29.108539581298828),\n",
              " (82.38678741455078, 29.09300994873047),\n",
              " (82.38617706298828, 29.045360565185547),\n",
              " (82.385986328125, 29.018640518188477),\n",
              " (82.42237854003906, 29.007080078125),\n",
              " (82.4729232788086, 29.006450653076172),\n",
              " (82.53614807128906, 28.988819122314453),\n",
              " (82.51406860351562, 28.91489028930664),\n",
              " (82.48872375488281, 28.886159896850586),\n",
              " (82.42031860351562, 28.83856964111328),\n",
              " (82.33370208740234, 28.7508602142334),\n",
              " (82.2721176147461, 28.730220794677734),\n",
              " (82.24127960205078, 28.674579620361328),\n",
              " (82.21414947509766, 28.65625),\n",
              " (82.12869262695312, 28.603439331054688),\n",
              " (82.07810974121094, 28.6052303314209),\n",
              " (82.03140258789062, 28.60947036743164),\n",
              " (81.99867248535156, 28.597919464111328),\n",
              " (81.97843170166016, 28.574010848999023),\n",
              " (81.97572326660156, 28.51350975036621),\n",
              " (81.96428680419922, 28.470149993896484),\n",
              " (81.93659973144531, 28.40300941467285),\n",
              " (81.93598937988281, 28.35536003112793),\n",
              " (81.97106170654297, 28.312389373779297),\n",
              " (82.01825714111328, 28.234970092773438),\n",
              " (81.96605682373047, 28.21232032775879),\n",
              " (81.94194030761719, 28.185949325561523),\n",
              " (81.95111846923828, 28.127010345458984),\n",
              " (81.98609161376953, 28.08637046813965),\n",
              " (82.04914855957031, 28.042009353637695),\n",
              " (82.12870025634766, 28.0156307220459),\n",
              " (82.16490173339844, 27.97735023498535),\n",
              " (82.16954040527344, 27.962400436401367),\n",
              " (82.14389038085938, 27.94063949584961),\n",
              " (82.06639862060547, 27.914154052734375)]"
            ]
          },
          "metadata": {
            "tags": []
          },
          "execution_count": 20
        }
      ]
    },
    {
      "cell_type": "markdown",
      "metadata": {
        "id": "KcsEuGxMzTpw"
      },
      "source": [
        "Se lee el archivo .shp con geopandas."
      ]
    },
    {
      "cell_type": "code",
      "metadata": {
        "id": "koujNEESzZ_8"
      },
      "source": [
        "map_df = gpd.read_file('/content/gdrive/My Drive/75.06 - Organización de Datos/TP1/map_Nepal/np.shp')"
      ],
      "execution_count": 21,
      "outputs": []
    },
    {
      "cell_type": "code",
      "metadata": {
        "colab": {
          "base_uri": "https://localhost:8080/"
        },
        "id": "shat8znKzzbA",
        "outputId": "9c702f67-5930-460b-8d05-258f3d63e164"
      },
      "source": [
        "type(map_df)"
      ],
      "execution_count": 22,
      "outputs": [
        {
          "output_type": "execute_result",
          "data": {
            "text/plain": [
              "geopandas.geodataframe.GeoDataFrame"
            ]
          },
          "metadata": {
            "tags": []
          },
          "execution_count": 22
        }
      ]
    },
    {
      "cell_type": "code",
      "metadata": {
        "colab": {
          "base_uri": "https://localhost:8080/",
          "height": 271
        },
        "id": "u0au-LiyzmFo",
        "outputId": "74c689bc-c920-4180-be2f-35c44fc7b4d7"
      },
      "source": [
        "map_df.sample(2, random_state=42)"
      ],
      "execution_count": 25,
      "outputs": [
        {
          "output_type": "execute_result",
          "data": {
            "text/html": [
              "<div>\n",
              "<style scoped>\n",
              "    .dataframe tbody tr th:only-of-type {\n",
              "        vertical-align: middle;\n",
              "    }\n",
              "\n",
              "    .dataframe tbody tr th {\n",
              "        vertical-align: top;\n",
              "    }\n",
              "\n",
              "    .dataframe thead th {\n",
              "        text-align: right;\n",
              "    }\n",
              "</style>\n",
              "<table border=\"1\" class=\"dataframe\">\n",
              "  <thead>\n",
              "    <tr style=\"text-align: right;\">\n",
              "      <th></th>\n",
              "      <th>FIPS_ADMIN</th>\n",
              "      <th>GMI_ADMIN</th>\n",
              "      <th>ADMIN_NAME</th>\n",
              "      <th>FIPS_CNTRY</th>\n",
              "      <th>GMI_CNTRY</th>\n",
              "      <th>CNTRY_NAME</th>\n",
              "      <th>REGION</th>\n",
              "      <th>CONTINENT</th>\n",
              "      <th>POP_ADMIN</th>\n",
              "      <th>SQKM_ADMIN</th>\n",
              "      <th>SQMI_ADMIN</th>\n",
              "      <th>TYPE_ENG</th>\n",
              "      <th>TYPE_LOC</th>\n",
              "      <th>COLOR_MAP</th>\n",
              "      <th>geometry</th>\n",
              "    </tr>\n",
              "  </thead>\n",
              "  <tbody>\n",
              "    <tr>\n",
              "      <th>9</th>\n",
              "      <td>NP10</td>\n",
              "      <td>NPL-MEC</td>\n",
              "      <td>Mechi</td>\n",
              "      <td>NP</td>\n",
              "      <td>NPL</td>\n",
              "      <td>Nepal</td>\n",
              "      <td>Southern Asia</td>\n",
              "      <td>Asia</td>\n",
              "      <td>1205060</td>\n",
              "      <td>8278.24</td>\n",
              "      <td>3196.229</td>\n",
              "      <td>Zone</td>\n",
              "      <td>Anchal</td>\n",
              "      <td>6</td>\n",
              "      <td>POLYGON ((87.64304 26.39249, 87.66019 26.53019...</td>\n",
              "    </tr>\n",
              "    <tr>\n",
              "      <th>11</th>\n",
              "      <td>NP12</td>\n",
              "      <td>NPL-RAP</td>\n",
              "      <td>Rapti</td>\n",
              "      <td>NP</td>\n",
              "      <td>NPL</td>\n",
              "      <td>Nepal</td>\n",
              "      <td>Southern Asia</td>\n",
              "      <td>Asia</td>\n",
              "      <td>1128149</td>\n",
              "      <td>10663.41</td>\n",
              "      <td>4117.143</td>\n",
              "      <td>Zone</td>\n",
              "      <td>Anchal</td>\n",
              "      <td>8</td>\n",
              "      <td>POLYGON ((83.06585 28.23057, 83.01842 28.22085...</td>\n",
              "    </tr>\n",
              "  </tbody>\n",
              "</table>\n",
              "</div>"
            ],
            "text/plain": [
              "   FIPS_ADMIN  ...                                           geometry\n",
              "9        NP10  ...  POLYGON ((87.64304 26.39249, 87.66019 26.53019...\n",
              "11       NP12  ...  POLYGON ((83.06585 28.23057, 83.01842 28.22085...\n",
              "\n",
              "[2 rows x 15 columns]"
            ]
          },
          "metadata": {
            "tags": []
          },
          "execution_count": 25
        }
      ]
    },
    {
      "cell_type": "code",
      "metadata": {
        "colab": {
          "base_uri": "https://localhost:8080/",
          "height": 187
        },
        "id": "3_vcyA000Df0",
        "outputId": "4ba2072a-aa8a-4062-8e48-cd403db84e2e"
      },
      "source": [
        "map_df.plot(figsize=(5,5), color='green')\n",
        "\n",
        "plt.show()"
      ],
      "execution_count": 28,
      "outputs": [
        {
          "output_type": "display_data",
          "data": {
            "image/png": "[encoded data removed]",
            "text/plain": [
              "<Figure size 360x360 with 1 Axes>"
            ]
          },
          "metadata": {
            "tags": [],
            "needs_background": "light"
          }
        }
      ]
    },
    {
      "cell_type": "markdown",
      "metadata": {
        "id": "FJ-vQbsCtzAL"
      },
      "source": [
        "# Análisis train_labels.csv"
      ]
    },
    {
      "cell_type": "code",
      "metadata": {
        "id": "CJVDKTyet3Xz"
      },
      "source": [
        "# Ruta train_labels.csv\n",
        "dir_labels = '/content/gdrive/My Drive/75.06 - Organización de Datos/TP1/Data/train_labels.csv'\n",
        "\n",
        "df_labels = pd.read_csv(dir_labels)"
      ],
      "execution_count": 38,
      "outputs": []
    },
    {
      "cell_type": "code",
      "metadata": {
        "colab": {
          "base_uri": "https://localhost:8080/",
          "height": 112
        },
        "id": "eMzE7G3nvlwS",
        "outputId": "91b02cf7-6989-4c4b-fb53-b7c275ef1a6e"
      },
      "source": [
        "df_labels.describe().loc[['min', 'max'], 'damage_grade'].to_frame()"
      ],
      "execution_count": 49,
      "outputs": [
        {
          "output_type": "execute_result",
          "data": {
            "text/html": [
              "<div>\n",
              "<style scoped>\n",
              "    .dataframe tbody tr th:only-of-type {\n",
              "        vertical-align: middle;\n",
              "    }\n",
              "\n",
              "    .dataframe tbody tr th {\n",
              "        vertical-align: top;\n",
              "    }\n",
              "\n",
              "    .dataframe thead th {\n",
              "        text-align: right;\n",
              "    }\n",
              "</style>\n",
              "<table border=\"1\" class=\"dataframe\">\n",
              "  <thead>\n",
              "    <tr style=\"text-align: right;\">\n",
              "      <th></th>\n",
              "      <th>damage_grade</th>\n",
              "    </tr>\n",
              "  </thead>\n",
              "  <tbody>\n",
              "    <tr>\n",
              "      <th>min</th>\n",
              "      <td>1.0</td>\n",
              "    </tr>\n",
              "    <tr>\n",
              "      <th>max</th>\n",
              "      <td>3.0</td>\n",
              "    </tr>\n",
              "  </tbody>\n",
              "</table>\n",
              "</div>"
            ],
            "text/plain": [
              "     damage_grade\n",
              "min           1.0\n",
              "max           3.0"
            ]
          },
          "metadata": {
            "tags": []
          },
          "execution_count": 49
        }
      ]
    },
    {
      "cell_type": "code",
      "metadata": {
        "colab": {
          "base_uri": "https://localhost:8080/"
        },
        "id": "maiYj6iZvJHO",
        "outputId": "990dfd14-fce6-4cbc-9315-f4c2f3b40e30"
      },
      "source": [
        "memoria = df_labels.memory_usage(deep=True).sum()/(2**20)\n",
        "print('Se usan', np.round(memoria, 2), 'MiB')"
      ],
      "execution_count": 50,
      "outputs": [
        {
          "output_type": "stream",
          "text": [
            "Se usan 3.98 MiB\n"
          ],
          "name": "stdout"
        }
      ]
    },
    {
      "cell_type": "code",
      "metadata": {
        "id": "naqK0Nn5wVqY"
      },
      "source": [
        "df_labels['damage_grade'] = df_labels['damage_grade'].astype('int8')"
      ],
      "execution_count": 51,
      "outputs": []
    },
    {
      "cell_type": "code",
      "metadata": {
        "colab": {
          "base_uri": "https://localhost:8080/"
        },
        "id": "ZfzRdCJkwloo",
        "outputId": "341a23cd-fbaa-47df-83b4-d0597df6af4c"
      },
      "source": [
        "memoria = df_labels.memory_usage(deep=True).sum()/(2**20)\n",
        "print('Se usan', np.round(memoria, 2), 'MiB')"
      ],
      "execution_count": 52,
      "outputs": [
        {
          "output_type": "stream",
          "text": [
            "Se usan 2.24 MiB\n"
          ],
          "name": "stdout"
        }
      ]
    },
    {
      "cell_type": "code",
      "metadata": {
        "id": "lcq0LVPjvWMI"
      },
      "source": [
        "df = df.merge(df_labels, on='building_id', how='inner')"
      ],
      "execution_count": 54,
      "outputs": []
    },
    {
      "cell_type": "code",
      "metadata": {
        "colab": {
          "base_uri": "https://localhost:8080/"
        },
        "id": "rKKBFapxxEzr",
        "outputId": "d441467d-eb8b-4cd4-f7d4-fa9320d13f85"
      },
      "source": [
        "df.info()"
      ],
      "execution_count": 55,
      "outputs": [
        {
          "output_type": "stream",
          "text": [
            "<class 'pandas.core.frame.DataFrame'>\n",
            "Int64Index: 260601 entries, 0 to 260600\n",
            "Data columns (total 40 columns):\n",
            " #   Column                                  Non-Null Count   Dtype   \n",
            "---  ------                                  --------------   -----   \n",
            " 0   building_id                             260601 non-null  int32   \n",
            " 1   geo_level_1_id                          260601 non-null  int8    \n",
            " 2   geo_level_2_id                          260601 non-null  int16   \n",
            " 3   geo_level_3_id                          260601 non-null  int16   \n",
            " 4   count_floors_pre_eq                     260601 non-null  int8    \n",
            " 5   age                                     260601 non-null  int16   \n",
            " 6   area_percentage                         260601 non-null  int8    \n",
            " 7   height_percentage                       260601 non-null  int8    \n",
            " 8   land_surface_condition                  260601 non-null  category\n",
            " 9   foundation_type                         260601 non-null  category\n",
            " 10  roof_type                               260601 non-null  category\n",
            " 11  ground_floor_type                       260601 non-null  category\n",
            " 12  other_floor_type                        260601 non-null  category\n",
            " 13  position                                260601 non-null  category\n",
            " 14  plan_configuration                      260601 non-null  category\n",
            " 15  has_superstructure_adobe_mud            260601 non-null  bool    \n",
            " 16  has_superstructure_mud_mortar_stone     260601 non-null  bool    \n",
            " 17  has_superstructure_stone_flag           260601 non-null  bool    \n",
            " 18  has_superstructure_cement_mortar_stone  260601 non-null  bool    \n",
            " 19  has_superstructure_mud_mortar_brick     260601 non-null  bool    \n",
            " 20  has_superstructure_cement_mortar_brick  260601 non-null  bool    \n",
            " 21  has_superstructure_timber               260601 non-null  bool    \n",
            " 22  has_superstructure_bamboo               260601 non-null  bool    \n",
            " 23  has_superstructure_rc_non_engineered    260601 non-null  bool    \n",
            " 24  has_superstructure_rc_engineered        260601 non-null  bool    \n",
            " 25  has_superstructure_other                260601 non-null  bool    \n",
            " 26  legal_ownership_status                  260601 non-null  category\n",
            " 27  count_families                          260601 non-null  int8    \n",
            " 28  has_secondary_use                       260601 non-null  bool    \n",
            " 29  has_secondary_use_agriculture           260601 non-null  bool    \n",
            " 30  has_secondary_use_hotel                 260601 non-null  bool    \n",
            " 31  has_secondary_use_rental                260601 non-null  bool    \n",
            " 32  has_secondary_use_institution           260601 non-null  bool    \n",
            " 33  has_secondary_use_school                260601 non-null  bool    \n",
            " 34  has_secondary_use_industry              260601 non-null  bool    \n",
            " 35  has_secondary_use_health_post           260601 non-null  bool    \n",
            " 36  has_secondary_use_gov_office            260601 non-null  bool    \n",
            " 37  has_secondary_use_use_police            260601 non-null  bool    \n",
            " 38  has_secondary_use_other                 260601 non-null  bool    \n",
            " 39  damage_grade                            260601 non-null  int8    \n",
            "dtypes: bool(22), category(8), int16(3), int32(1), int8(6)\n",
            "memory usage: 13.4 MB\n"
          ],
          "name": "stdout"
        }
      ]
    },
    {
      "cell_type": "markdown",
      "metadata": {
        "id": "MNi9maBFwrya"
      },
      "source": [
        "Las filas mantienen el mismo número, 260601, por lo que los `building_id` tenían su correpondiente fila de labels."
      ]
    },
    {
      "cell_type": "code",
      "metadata": {
        "id": "QQ6yU7anw6xD"
      },
      "source": [
        "df"
      ],
      "execution_count": null,
      "outputs": []
    }
  ]
}