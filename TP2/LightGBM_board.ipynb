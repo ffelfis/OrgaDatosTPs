{
 "cells": [
  {
   "cell_type": "markdown",
   "id": "c3a76c44",
   "metadata": {},
   "source": [
    "# Carga de librerías y directorios"
   ]
  },
  {
   "cell_type": "code",
   "execution_count": 1,
   "id": "20ac8c45",
   "metadata": {},
   "outputs": [],
   "source": [
    "import pandas as pd\n",
    "import numpy as np\n",
    "\n",
    "# Métrica de evaluación\n",
    "from sklearn.metrics import f1_score\n",
    "# fold_score = f1_score(y_test, prediction, average='micro')\n",
    "# Se especifica average por tener un target multiclase\n",
    "\n",
    "# Clasificador LightGBM\n",
    "from lightgbm import LGBMClassifier\n",
    "\n",
    "# Para la división en k-folds\n",
    "from sklearn.model_selection import KFold\n",
    "# Para ver \"progreso\" inline: limpia la celda en cada iteración\n",
    "from IPython.display import clear_output\n",
    "\n",
    "# Librería para guardar los Trials.\n",
    "import pickle\n",
    "\n",
    "# Función para cambiar tipos de datos\n",
    "from resources.utilidades import cambio_tipos"
   ]
  },
  {
   "cell_type": "markdown",
   "id": "580e85dc",
   "metadata": {},
   "source": [
    "# Rutas de los archivos a usar"
   ]
  },
  {
   "cell_type": "code",
   "execution_count": 2,
   "id": "c64e2f68",
   "metadata": {},
   "outputs": [],
   "source": [
    "# Ruta train_values.csv\n",
    "dir_values = 'data/train_values.csv'\n",
    "# Ruta train_labels.csv\n",
    "dir_labels = 'data/train_labels.csv'\n",
    "# Ruta test_values.csv\n",
    "dir_test = 'data/test_values.csv'\n",
    "# Ruta submission_format.csv\n",
    "dir_sub_format = 'data/submission_format.csv'\n",
    "# Ruta de Binary Encodings para train_values.csv\n",
    "dir_resources = 'resources'"
   ]
  },
  {
   "cell_type": "markdown",
   "id": "2aaef43a",
   "metadata": {},
   "source": [
    "# Entrenamiento"
   ]
  },
  {
   "cell_type": "markdown",
   "id": "6740547f",
   "metadata": {},
   "source": [
    "### Train Set"
   ]
  },
  {
   "cell_type": "code",
   "execution_count": 3,
   "id": "dda13c2f",
   "metadata": {},
   "outputs": [],
   "source": [
    "columnas = ['building_id',\n",
    " 'geo_level_1_id',\n",
    " 'geo_level_2_id',\n",
    " 'geo_level_3_id',\n",
    " 'count_floors_pre_eq',\n",
    " 'age',\n",
    " 'area_percentage',\n",
    " 'height_percentage',\n",
    " 'has_superstructure_adobe_mud',\n",
    " 'has_superstructure_mud_mortar_stone',\n",
    " 'has_superstructure_stone_flag',\n",
    " 'has_superstructure_cement_mortar_stone',\n",
    " 'has_superstructure_mud_mortar_brick',\n",
    " 'has_superstructure_cement_mortar_brick',\n",
    " 'has_superstructure_timber',\n",
    " 'has_superstructure_bamboo',\n",
    " 'has_superstructure_rc_non_engineered',\n",
    " 'has_superstructure_rc_engineered',\n",
    " 'has_superstructure_other',\n",
    " 'count_families',\n",
    " 'has_secondary_use',\n",
    " 'has_secondary_use_agriculture',\n",
    " 'has_secondary_use_hotel',\n",
    " 'has_secondary_use_rental',\n",
    " 'has_secondary_use_institution',\n",
    " 'has_secondary_use_school',\n",
    " 'has_secondary_use_industry',\n",
    " 'has_secondary_use_health_post',\n",
    " 'has_secondary_use_gov_office',\n",
    " 'has_secondary_use_use_police',\n",
    " 'has_secondary_use_other']\n",
    "\n",
    "# Carga de train_values.csv\n",
    "train = pd.read_csv(dir_values, usecols=columnas)"
   ]
  },
  {
   "cell_type": "markdown",
   "id": "a1d3001f",
   "metadata": {},
   "source": [
    "### Cambio de tipos de datos"
   ]
  },
  {
   "cell_type": "code",
   "execution_count": 4,
   "id": "7de09034",
   "metadata": {},
   "outputs": [],
   "source": [
    "# Se cambian los tipos de datos para reducir uso de memoria\n",
    "train = cambio_tipos(train)"
   ]
  },
  {
   "cell_type": "markdown",
   "id": "135bdb28",
   "metadata": {},
   "source": [
    "### Carga de columnas codificadas: One Hot Encoding"
   ]
  },
  {
   "cell_type": "code",
   "execution_count": 5,
   "id": "5b736db3",
   "metadata": {},
   "outputs": [],
   "source": [
    "# 38 columnas más\n",
    "train = train.join(pd.read_csv(dir_resources+f'/OHE_train.csv', dtype='uint8'))"
   ]
  },
  {
   "cell_type": "code",
   "execution_count": 6,
   "id": "3910e2e1",
   "metadata": {},
   "outputs": [],
   "source": [
    "# Se le quitan columnas\n",
    "to_drop = ['building_id', 'has_secondary_use_school', 'has_secondary_use_health_post', \\\n",
    "           'has_secondary_use_gov_office',  'has_secondary_use_use_police', \\\n",
    "           'C_a', 'C_f', 'C_m', 'C_n', 'C_o']\n",
    "train = train.drop(columns=to_drop)\n",
    "\n",
    "# GridSearchCV, RandomizedSerach, Bayesian Search y LightGBMClassifier necesitan, o funcionan mejor con, los valores en una dimensión.\n",
    "# Valores del data set\n",
    "X = train.values"
   ]
  },
  {
   "cell_type": "markdown",
   "id": "4184cb0a",
   "metadata": {},
   "source": [
    "### Carga de labels"
   ]
  },
  {
   "cell_type": "code",
   "execution_count": 7,
   "id": "102db553",
   "metadata": {},
   "outputs": [],
   "source": [
    "# Carga de train_labels.csv\n",
    "labels = pd.read_csv(dir_labels, usecols=['damage_grade'], dtype='uint8')\n",
    "\n",
    "# GridSearchCV, RandomizedSerach, Bayesian Search y LightGBMClassifier necesitan, o funcionan mejor con, los valores en una dimensión.\n",
    "# Valores del data set\n",
    "y = labels.damage_grade.values"
   ]
  },
  {
   "cell_type": "markdown",
   "id": "ea30c855",
   "metadata": {},
   "source": [
    "### Test Set"
   ]
  },
  {
   "cell_type": "code",
   "execution_count": 8,
   "id": "10d79d0e",
   "metadata": {},
   "outputs": [],
   "source": [
    "# Carga de test_values.csv\n",
    "test = pd.read_csv(dir_test, usecols=columnas)"
   ]
  },
  {
   "cell_type": "markdown",
   "id": "ba43709f",
   "metadata": {},
   "source": [
    "### Cambio de tipos de datos"
   ]
  },
  {
   "cell_type": "code",
   "execution_count": 9,
   "id": "3b734bae",
   "metadata": {},
   "outputs": [],
   "source": [
    "test = cambio_tipos(test)"
   ]
  },
  {
   "cell_type": "markdown",
   "id": "109f2bef",
   "metadata": {},
   "source": [
    "### Carga de columnas codificadas: One Hot Encoding"
   ]
  },
  {
   "cell_type": "code",
   "execution_count": 10,
   "id": "b2829b25",
   "metadata": {},
   "outputs": [],
   "source": [
    "# 28 columnas más\n",
    "test = test.join(pd.read_csv(dir_resources+f'/OHE_test.csv', dtype='uint8'))\n",
    "\n",
    "# Se le quitan columnas\n",
    "to_drop = ['building_id', 'has_secondary_use_school', 'has_secondary_use_health_post', \\\n",
    "           'has_secondary_use_gov_office',  'has_secondary_use_use_police', \\\n",
    "           'C_a', 'C_f', 'C_m', 'C_n', 'C_o']\n",
    "test = test.drop(columns=to_drop)\n",
    "\n",
    "# Valores del data set\n",
    "test = test.values"
   ]
  },
  {
   "cell_type": "markdown",
   "id": "375784d1",
   "metadata": {},
   "source": [
    "### Instancia con parámetros optimizados"
   ]
  },
  {
   "cell_type": "code",
   "execution_count": 11,
   "id": "ea20e1c1",
   "metadata": {},
   "outputs": [
    {
     "data": {
      "text/plain": [
       "{'boosting_type': 'gbdt',\n",
       " 'class_weight': None,\n",
       " 'colsample_bytree': 1.0,\n",
       " 'importance_type': 'split',\n",
       " 'learning_rate': 0.0691427312603393,\n",
       " 'max_depth': 61,\n",
       " 'min_child_samples': 20,\n",
       " 'min_child_weight': 0.001,\n",
       " 'min_split_gain': 0.0,\n",
       " 'n_estimators': 880,\n",
       " 'n_jobs': -1,\n",
       " 'num_leaves': 112,\n",
       " 'objective': None,\n",
       " 'random_state': None,\n",
       " 'reg_alpha': 0.0,\n",
       " 'reg_lambda': 0.0,\n",
       " 'silent': True,\n",
       " 'subsample': 1.0,\n",
       " 'subsample_for_bin': 200000,\n",
       " 'subsample_freq': 0}"
      ]
     },
     "execution_count": 11,
     "metadata": {},
     "output_type": "execute_result"
    }
   ],
   "source": [
    "params = {\n",
    "    'learning_rate' : 0.0691427312603393,\n",
    "    'num_leaves' : 112,\n",
    "    'max_depth' : 61,\n",
    "    'n_estimators' : 880,\n",
    "    'importance_type' : 'split'\n",
    "}\n",
    "\n",
    "lgbm = LGBMClassifier()\n",
    "# Se setean los parámetros desde el diccionario\n",
    "lgbm.set_params(**params)\n",
    "lgbm.get_params()"
   ]
  },
  {
   "cell_type": "markdown",
   "id": "a234e0b5",
   "metadata": {},
   "source": [
    "```\n",
    "# n_splits\n",
    "splits = 9\n",
    "\n",
    "# Dataframe con predicciones\n",
    "predictions_train = pd.DataFrame()\n",
    "predictions_test = pd.DataFrame()\n",
    "```"
   ]
  },
  {
   "cell_type": "markdown",
   "id": "e0050e23",
   "metadata": {},
   "source": [
    "### Carga de Dataframe con predicciones anteriores"
   ]
  },
  {
   "cell_type": "code",
   "execution_count": 15,
   "id": "6dfd05ed",
   "metadata": {},
   "outputs": [],
   "source": [
    "predictions_train = pd.read_csv('pred_train_dataframe.csv')\n",
    "predictions_test = pd.read_csv('pred_test_dataframe.csv')"
   ]
  },
  {
   "cell_type": "code",
   "execution_count": 17,
   "id": "c4fa4a20",
   "metadata": {},
   "outputs": [
    {
     "name": "stdout",
     "output_type": "stream",
     "text": [
      "(260601, 45)\n",
      "(86868, 45)\n"
     ]
    }
   ],
   "source": [
    "print(predictions_train.shape)\n",
    "print(predictions_test.shape)"
   ]
  },
  {
   "cell_type": "markdown",
   "id": "248bb123",
   "metadata": {},
   "source": [
    "### Acá se entrenan los modelos con los hiper parámetros optimizados"
   ]
  },
  {
   "cell_type": "code",
   "execution_count": 24,
   "id": "850e2476",
   "metadata": {},
   "outputs": [],
   "source": [
    "## Creación de DataFrames que guardan las predicciones.\n",
    "# predictions_train = pd.DataFrame(index=train.index)\n",
    "## Recordar cargar el test para tener el índice.\n",
    "# predictions_test = pd.DataFrame(index=test.index)"
   ]
  },
  {
   "cell_type": "code",
   "execution_count": 18,
   "id": "15c4b07c",
   "metadata": {},
   "outputs": [
    {
     "name": "stdout",
     "output_type": "stream",
     "text": [
      "Entrenando fold 5/5\n",
      "Wall time: 3min 43s\n"
     ]
    }
   ],
   "source": [
    "%%time\n",
    "##########\n",
    "# SPLITS #\n",
    "\n",
    "splits=5\n",
    "\n",
    "#########\n",
    "\n",
    "kf = KFold(n_splits=splits)\n",
    "\n",
    "# Listas para guardar los puntajes y errores de la evaluación\n",
    "train_score = []\n",
    "test_score = []\n",
    "i = 1\n",
    "\n",
    "# K-Validations\n",
    "for train_index, test_index in kf.split(X, y) :\n",
    "    clear_output(wait=True)\n",
    "\n",
    "    # Se dividen los datos con los índice del split de Kfold\n",
    "    X_train, X_test = X[train_index], X[test_index]\n",
    "    y_train, y_test = y[train_index], y[test_index]\n",
    "\n",
    "    print('Entrenando fold '+str(i)+'/'+str(splits))\n",
    "    # Entrenamiento del k-fold y predicción\n",
    "    lgbm.fit(X_train, y_train)\n",
    "    prediction_train = lgbm.predict(X_train)\n",
    "    prediction_test = lgbm.predict(X_test)\n",
    "\n",
    "    # Se guardan los modelos que intervienen\n",
    "    file_name = 'models/LighGBM_Classifier_'+str(splits)+'KFold_'+str(i)+'.pkl'\n",
    "    model_pickle = open(file_name, 'wb')\n",
    "    pickle.dump(lgbm, model_pickle)\n",
    "    model_pickle.close()\n",
    "\n",
    "    # Dataframes: agregado de columnas de predicciones para train evaluation y submission\n",
    "    predictions_train[str(splits)+'KFold_'+str(i)] = lgbm.predict(train)\n",
    "    predictions_test[str(splits)+'KFold_'+str(i)] = lgbm.predict(test)\n",
    "\n",
    "    # Se agregan los scores a las listas\n",
    "    train_score.append(f1_score(y_train, prediction_train, average='micro'))\n",
    "    test_score.append(f1_score(y_test, prediction_test, average='micro'))\n",
    "\n",
    "    i = i + 1"
   ]
  },
  {
   "cell_type": "code",
   "execution_count": 19,
   "id": "dfe8ae61",
   "metadata": {},
   "outputs": [
    {
     "name": "stdout",
     "output_type": "stream",
     "text": [
      "(260601, 45)\n",
      "(86868, 45)\n"
     ]
    }
   ],
   "source": [
    "print(predictions_train.shape)\n",
    "print(predictions_test.shape)"
   ]
  },
  {
   "cell_type": "code",
   "execution_count": 20,
   "id": "3a6f7ab7",
   "metadata": {},
   "outputs": [
    {
     "name": "stdout",
     "output_type": "stream",
     "text": [
      "Train validation mean: 0.8407 std: 0.0007\n",
      "Test validation  mean: 0.7454 std: 0.0016\n"
     ]
    }
   ],
   "source": [
    "print('Train validation mean:', np.mean(train_score).round(4), \\\n",
    "      'std:', np.std(train_score).round(4))\n",
    "print('Test validation  mean:', np.mean(test_score).round(4), \\\n",
    "      'std:', np.std(test_score).round(4))"
   ]
  },
  {
   "cell_type": "markdown",
   "id": "309554af",
   "metadata": {},
   "source": [
    "### Test Validation\n",
    "```\n",
    " 5Fold mean: 0.7454 std: 0.0016\n",
    " 6Fold mean: 0.7458 std: 0.0014\n",
    " 7Fold mean: 0.7460 std: 0.0015\n",
    " 8Fold mean: 0.7459 std: 0.0023\n",
    " 9Fold mean: 0.7462 std: 0.0027\n",
    "10Fold mean: 0.7463 std: 0.0032\n",
    "```\n",
    "### Train Validation\n",
    "```\n",
    " 5Fold mean: 0.8407 std: 0.0007\n",
    " 6Fold mean: 0.8414 std: 0.0005\n",
    " 7Fold mean: 0.8441 std: 0.0011\n",
    " 8Fold mean: 0.8295 std: 0.0006\n",
    " 9Fold mean: 0.8333 std: 0.0007\n",
    "10Fold mean: 0.8743 std: 0.0005\n",
    "```"
   ]
  },
  {
   "cell_type": "markdown",
   "id": "c363c208",
   "metadata": {},
   "source": [
    "Ahora busco modas en el DataFrame"
   ]
  },
  {
   "cell_type": "code",
   "execution_count": 37,
   "id": "ce2d69ff",
   "metadata": {},
   "outputs": [
    {
     "name": "stdout",
     "output_type": "stream",
     "text": [
      "Wall time: 1min 18s\n"
     ]
    }
   ],
   "source": [
    "%%time\n",
    "moda_train = predictions_train.mode(axis=1)[0]"
   ]
  },
  {
   "cell_type": "code",
   "execution_count": 38,
   "id": "48c60bd5",
   "metadata": {},
   "outputs": [
    {
     "data": {
      "text/plain": [
       "2.0    164533\n",
       "3.0     74841\n",
       "1.0     21227\n",
       "Name: 0, dtype: int64"
      ]
     },
     "execution_count": 38,
     "metadata": {},
     "output_type": "execute_result"
    }
   ],
   "source": [
    "# Distribución de predicciones\n",
    "moda_train.value_counts()"
   ]
  },
  {
   "cell_type": "markdown",
   "id": "295ed1bd",
   "metadata": {},
   "source": [
    "### Distribuciones de resultados para distintos K-Folds\n",
    "```\n",
    "5Fold\n",
    "2.0    164533\n",
    "3.0     74841\n",
    "1.0     21227\n",
    "\n",
    "6Fold\n",
    "2.0    164565\n",
    "3.0     74640\n",
    "1.0     21396\n",
    "\n",
    "7Fold\n",
    "2.0    164119\n",
    "3.0     75153\n",
    "1.0     21329\n",
    "\n",
    "8Fold\n",
    "2.0    164119\n",
    "3.0     75153\n",
    "1.0     21329\n",
    "\n",
    "9Fold\n",
    "2.0    162850\n",
    "3.0     75964\n",
    "1.0     21787\n",
    "\n",
    "10fold\n",
    "2.0    161359\n",
    "3.0     76312\n",
    "1.0     22930\n",
    "```"
   ]
  },
  {
   "cell_type": "code",
   "execution_count": 39,
   "id": "d106ebb8",
   "metadata": {
    "scrolled": false
   },
   "outputs": [
    {
     "data": {
      "text/plain": [
       "0.8414741309511476"
      ]
     },
     "execution_count": 39,
     "metadata": {},
     "output_type": "execute_result"
    }
   ],
   "source": [
    "# Score\n",
    "f1_score(y, moda_train, average='micro')"
   ]
  },
  {
   "cell_type": "markdown",
   "id": "16e6e08a",
   "metadata": {},
   "source": [
    "### F1 Score: Train Validation\n",
    "```\n",
    " 5Fold: 0.8414741309511476\n",
    " 6Fold: 0.842379729931965\n",
    " 7Fold: 0.8446398901001915\n",
    " 8Fold: 0.8446398901001915\n",
    " 9Fold: 0.8540796082900679\n",
    "10Fold: 0.8723297301238292\n",
    "```"
   ]
  },
  {
   "cell_type": "markdown",
   "id": "b973ba99",
   "metadata": {},
   "source": [
    "# Persistencia"
   ]
  },
  {
   "cell_type": "code",
   "execution_count": 40,
   "id": "944f452d",
   "metadata": {},
   "outputs": [],
   "source": [
    "predictions_train.to_csv('pred_train_dataframe.csv', index=False)\n",
    "predictions_test.to_csv('pred_test_dataframe.csv', index=False)"
   ]
  },
  {
   "cell_type": "code",
   "execution_count": 41,
   "id": "26bf55a1",
   "metadata": {},
   "outputs": [
    {
     "data": {
      "text/plain": [
       "Index(['10KFold_1', '10KFold_2', '10KFold_3', '10KFold_4', '10KFold_5',\n",
       "       '10KFold_6', '10KFold_7', '10KFold_8', '10KFold_9', '10KFold_10',\n",
       "       '9KFold_1', '9KFold_2', '9KFold_3', '9KFold_4', '9KFold_5', '9KFold_6',\n",
       "       '9KFold_7', '9KFold_8', '9KFold_9', '8KFold_1', '8KFold_2', '8KFold_3',\n",
       "       '8KFold_4', '8KFold_5', '8KFold_6', '8KFold_7', '8KFold_8', '7KFold_1',\n",
       "       '7KFold_2', '7KFold_3', '7KFold_4', '7KFold_5', '7KFold_6', '7KFold_7',\n",
       "       '6KFold_1', '6KFold_2', '6KFold_3', '6KFold_4', '6KFold_5', '6KFold_6',\n",
       "       '5KFold_1', '5KFold_2', '5KFold_3', '5KFold_4', '5KFold_5'],\n",
       "      dtype='object')"
      ]
     },
     "execution_count": 41,
     "metadata": {},
     "output_type": "execute_result"
    }
   ],
   "source": [
    "predictions_train.columns"
   ]
  },
  {
   "cell_type": "markdown",
   "id": "af436da0",
   "metadata": {},
   "source": [
    "# Para predicción del Test\n",
    "Se pueden elegir las columnas que tiene las distintas predicciones de los modelos entrenados."
   ]
  },
  {
   "cell_type": "code",
   "execution_count": 29,
   "id": "5c956bc8",
   "metadata": {},
   "outputs": [
    {
     "name": "stdout",
     "output_type": "stream",
     "text": [
      "Wall time: 25.4 s\n"
     ]
    }
   ],
   "source": [
    "%%time\n",
    "moda_test = predictions_test.mode(axis=1)[0]"
   ]
  },
  {
   "cell_type": "code",
   "execution_count": 7,
   "id": "0571efa8",
   "metadata": {},
   "outputs": [],
   "source": [
    "sub_example = pd.read_csv(dir_sub_format)\n",
    "\n",
    "sub_example['damage_grade'] = moda_test.astype('uint8')"
   ]
  },
  {
   "cell_type": "code",
   "execution_count": 8,
   "id": "981ee141",
   "metadata": {},
   "outputs": [],
   "source": [
    "# Nombre de submission\n",
    "file_name = 'submission11.csv'"
   ]
  },
  {
   "cell_type": "code",
   "execution_count": 9,
   "id": "cbac3c70",
   "metadata": {},
   "outputs": [],
   "source": [
    "sub_example.to_csv(file_name, index=False)"
   ]
  },
  {
   "cell_type": "code",
   "execution_count": 10,
   "id": "43048da5",
   "metadata": {},
   "outputs": [
    {
     "data": {
      "text/html": [
       "<div>\n",
       "<style scoped>\n",
       "    .dataframe tbody tr th:only-of-type {\n",
       "        vertical-align: middle;\n",
       "    }\n",
       "\n",
       "    .dataframe tbody tr th {\n",
       "        vertical-align: top;\n",
       "    }\n",
       "\n",
       "    .dataframe thead th {\n",
       "        text-align: right;\n",
       "    }\n",
       "</style>\n",
       "<table border=\"1\" class=\"dataframe\">\n",
       "  <thead>\n",
       "    <tr style=\"text-align: right;\">\n",
       "      <th></th>\n",
       "      <th>building_id</th>\n",
       "      <th>damage_grade</th>\n",
       "    </tr>\n",
       "  </thead>\n",
       "  <tbody>\n",
       "    <tr>\n",
       "      <th>0</th>\n",
       "      <td>300051</td>\n",
       "      <td>3</td>\n",
       "    </tr>\n",
       "    <tr>\n",
       "      <th>1</th>\n",
       "      <td>99355</td>\n",
       "      <td>2</td>\n",
       "    </tr>\n",
       "    <tr>\n",
       "      <th>2</th>\n",
       "      <td>890251</td>\n",
       "      <td>2</td>\n",
       "    </tr>\n",
       "    <tr>\n",
       "      <th>3</th>\n",
       "      <td>745817</td>\n",
       "      <td>1</td>\n",
       "    </tr>\n",
       "    <tr>\n",
       "      <th>4</th>\n",
       "      <td>421793</td>\n",
       "      <td>3</td>\n",
       "    </tr>\n",
       "    <tr>\n",
       "      <th>...</th>\n",
       "      <td>...</td>\n",
       "      <td>...</td>\n",
       "    </tr>\n",
       "    <tr>\n",
       "      <th>86863</th>\n",
       "      <td>310028</td>\n",
       "      <td>2</td>\n",
       "    </tr>\n",
       "    <tr>\n",
       "      <th>86864</th>\n",
       "      <td>663567</td>\n",
       "      <td>2</td>\n",
       "    </tr>\n",
       "    <tr>\n",
       "      <th>86865</th>\n",
       "      <td>1049160</td>\n",
       "      <td>2</td>\n",
       "    </tr>\n",
       "    <tr>\n",
       "      <th>86866</th>\n",
       "      <td>442785</td>\n",
       "      <td>2</td>\n",
       "    </tr>\n",
       "    <tr>\n",
       "      <th>86867</th>\n",
       "      <td>501372</td>\n",
       "      <td>1</td>\n",
       "    </tr>\n",
       "  </tbody>\n",
       "</table>\n",
       "<p>86868 rows × 2 columns</p>\n",
       "</div>"
      ],
      "text/plain": [
       "       building_id  damage_grade\n",
       "0           300051             3\n",
       "1            99355             2\n",
       "2           890251             2\n",
       "3           745817             1\n",
       "4           421793             3\n",
       "...            ...           ...\n",
       "86863       310028             2\n",
       "86864       663567             2\n",
       "86865      1049160             2\n",
       "86866       442785             2\n",
       "86867       501372             1\n",
       "\n",
       "[86868 rows x 2 columns]"
      ]
     },
     "execution_count": 10,
     "metadata": {},
     "output_type": "execute_result"
    }
   ],
   "source": [
    "sub_example"
   ]
  },
  {
   "cell_type": "code",
   "execution_count": 11,
   "id": "260e5c1e",
   "metadata": {},
   "outputs": [
    {
     "data": {
      "text/html": [
       "<div>\n",
       "<style scoped>\n",
       "    .dataframe tbody tr th:only-of-type {\n",
       "        vertical-align: middle;\n",
       "    }\n",
       "\n",
       "    .dataframe tbody tr th {\n",
       "        vertical-align: top;\n",
       "    }\n",
       "\n",
       "    .dataframe thead th {\n",
       "        text-align: right;\n",
       "    }\n",
       "</style>\n",
       "<table border=\"1\" class=\"dataframe\">\n",
       "  <thead>\n",
       "    <tr style=\"text-align: right;\">\n",
       "      <th></th>\n",
       "      <th>building_id</th>\n",
       "      <th>damage_grade</th>\n",
       "    </tr>\n",
       "  </thead>\n",
       "  <tbody>\n",
       "    <tr>\n",
       "      <th>0</th>\n",
       "      <td>300051</td>\n",
       "      <td>3</td>\n",
       "    </tr>\n",
       "    <tr>\n",
       "      <th>1</th>\n",
       "      <td>99355</td>\n",
       "      <td>2</td>\n",
       "    </tr>\n",
       "    <tr>\n",
       "      <th>2</th>\n",
       "      <td>890251</td>\n",
       "      <td>2</td>\n",
       "    </tr>\n",
       "    <tr>\n",
       "      <th>3</th>\n",
       "      <td>745817</td>\n",
       "      <td>1</td>\n",
       "    </tr>\n",
       "    <tr>\n",
       "      <th>4</th>\n",
       "      <td>421793</td>\n",
       "      <td>3</td>\n",
       "    </tr>\n",
       "    <tr>\n",
       "      <th>...</th>\n",
       "      <td>...</td>\n",
       "      <td>...</td>\n",
       "    </tr>\n",
       "    <tr>\n",
       "      <th>86863</th>\n",
       "      <td>310028</td>\n",
       "      <td>2</td>\n",
       "    </tr>\n",
       "    <tr>\n",
       "      <th>86864</th>\n",
       "      <td>663567</td>\n",
       "      <td>2</td>\n",
       "    </tr>\n",
       "    <tr>\n",
       "      <th>86865</th>\n",
       "      <td>1049160</td>\n",
       "      <td>2</td>\n",
       "    </tr>\n",
       "    <tr>\n",
       "      <th>86866</th>\n",
       "      <td>442785</td>\n",
       "      <td>2</td>\n",
       "    </tr>\n",
       "    <tr>\n",
       "      <th>86867</th>\n",
       "      <td>501372</td>\n",
       "      <td>1</td>\n",
       "    </tr>\n",
       "  </tbody>\n",
       "</table>\n",
       "<p>86868 rows × 2 columns</p>\n",
       "</div>"
      ],
      "text/plain": [
       "       building_id  damage_grade\n",
       "0           300051             3\n",
       "1            99355             2\n",
       "2           890251             2\n",
       "3           745817             1\n",
       "4           421793             3\n",
       "...            ...           ...\n",
       "86863       310028             2\n",
       "86864       663567             2\n",
       "86865      1049160             2\n",
       "86866       442785             2\n",
       "86867       501372             1\n",
       "\n",
       "[86868 rows x 2 columns]"
      ]
     },
     "execution_count": 11,
     "metadata": {},
     "output_type": "execute_result"
    }
   ],
   "source": [
    "# Verificación de archivo para submit\n",
    "aux = pd.read_csv(file_name)\n",
    "\n",
    "aux"
   ]
  },
  {
   "cell_type": "markdown",
   "id": "2be77cb8",
   "metadata": {},
   "source": [
    "# Pickle"
   ]
  },
  {
   "cell_type": "code",
   "execution_count": 23,
   "id": "fe7d3d90",
   "metadata": {},
   "outputs": [],
   "source": [
    "# String con dirección de almacenamiento y nombre del archivo .pkl.\n",
    "lgbm_file_name = 'LightGBM_Classifier07.pkl'\n",
    "\n",
    "# Se crea una variable pickle y se abre en modo de escritura.\n",
    "# [También se crea el archivo en el directorio especificado por lgbm_file_name]\n",
    "model_pickle = open(lgbm_file_name, 'wb')\n",
    "\n",
    "# Se usa el método dump con el modelo y el archivo creado en modo de esritura\n",
    "# para crear el pickle.\n",
    "pickle.dump(lgbm, model_pickle)\n",
    "\n",
    "# Finalmente hay que cerrar la instancia del pickle.\n",
    "model_pickle.close()"
   ]
  },
  {
   "cell_type": "markdown",
   "id": "b1aef55b",
   "metadata": {},
   "source": [
    "# Lectura de Pickle"
   ]
  },
  {
   "cell_type": "code",
   "execution_count": null,
   "id": "dcfdd281",
   "metadata": {},
   "outputs": [],
   "source": [
    "# String con dirección de almacenamiento y nombre del archivo .pkl.\n",
    "file_name = 'LightGBM_Classifier06.pkl'\n",
    "\n",
    "# Se crea una variable para el archivo pickle y se abre con la dirección del\n",
    "# archivo en modo lectura. \n",
    "model_predictor_pkl = open(file_name, 'rb')\n",
    "\n",
    "# Se carga el modelo pasando la variable creada, en la misma se encuentra\n",
    "# la dirección del archivo pickle.\n",
    "model_predictor = pickle.load(model_predictor_pkl)\n",
    "print('Modelo cargado')\n",
    "model_predictor.get_params"
   ]
  }
 ],
 "metadata": {
  "kernelspec": {
   "display_name": "Python 3 (ipykernel)",
   "language": "python",
   "name": "python3"
  },
  "language_info": {
   "codemirror_mode": {
    "name": "ipython",
    "version": 3
   },
   "file_extension": ".py",
   "mimetype": "text/x-python",
   "name": "python",
   "nbconvert_exporter": "python",
   "pygments_lexer": "ipython3",
   "version": "3.9.6"
  }
 },
 "nbformat": 4,
 "nbformat_minor": 5
}
