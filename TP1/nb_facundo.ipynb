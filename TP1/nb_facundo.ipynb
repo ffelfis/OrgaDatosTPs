{
  "nbformat": 4,
  "nbformat_minor": 0,
  "metadata": {
    "colab": {
      "name": "nb_facundo.ipynb",
      "provenance": [],
      "collapsed_sections": [],
      "authorship_tag": "ABX9TyPmW5haFAtudbhQRka3ZSm7",
      "include_colab_link": true
    },
    "kernelspec": {
      "name": "python3",
      "display_name": "Python 3"
    },
    "language_info": {
      "name": "python"
    }
  },
  "cells": [
    {
      "cell_type": "markdown",
      "metadata": {
        "id": "view-in-github",
        "colab_type": "text"
      },
      "source": [
        "<a href=\"https://colab.research.google.com/github/ffelfis/OrgaDatosTPs/blob/main/TP1/nb_facundo.ipynb\" target=\"_parent\"><img src=\"https://colab.research.google.com/assets/colab-badge.svg\" alt=\"Open In Colab\"/></a>"
      ]
    },
    {
      "cell_type": "code",
      "metadata": {
        "id": "jnU-kuMSRkB2"
      },
      "source": [
        "# Paquete para manejo de mapas\n",
        "!pip install geopandas\n",
        "# Para leer shape files con el paque 'shapefile' (contienen geometría de mapas)\n",
        "!pip install pyshp"
      ],
      "execution_count": null,
      "outputs": []
    },
    {
      "cell_type": "code",
      "metadata": {
        "id": "D453xuM9RRaJ"
      },
      "source": [
        "import pandas as pd\n",
        "import numpy as np\n",
        "import geopandas as gpd\n",
        "import shapefile as shp\n",
        "import matplotlib.pyplot as plt"
      ],
      "execution_count": null,
      "outputs": []
    },
    {
      "cell_type": "code",
      "metadata": {
        "colab": {
          "base_uri": "https://localhost:8080/"
        },
        "id": "twG1ocJDSg_5",
        "outputId": "2d6434f6-7749-4d4d-de46-bfdd5e777b1d"
      },
      "source": [
        "# Lectura de Dataset desde Google Drive\n",
        "from google.colab import drive\n",
        "drive.mount('/content/gdrive')"
      ],
      "execution_count": null,
      "outputs": [
        {
          "output_type": "stream",
          "text": [
            "Mounted at /content/gdrive\n"
          ],
          "name": "stdout"
        }
      ]
    },
    {
      "cell_type": "code",
      "metadata": {
        "id": "rHP1qWSiYpse"
      },
      "source": [
        "df = pd.read_csv('/content/gdrive/My Drive/75.06 - Organización de Datos/TP1/Data/train_values.csv')"
      ],
      "execution_count": null,
      "outputs": []
    },
    {
      "cell_type": "code",
      "metadata": {
        "colab": {
          "base_uri": "https://localhost:8080/"
        },
        "id": "qkoUExA6adnb",
        "outputId": "0ca9b1ce-f155-454d-9ef8-44cb70b78857"
      },
      "source": [
        "df.info()"
      ],
      "execution_count": 14,
      "outputs": [
        {
          "output_type": "stream",
          "text": [
            "<class 'pandas.core.frame.DataFrame'>\n",
            "RangeIndex: 260601 entries, 0 to 260600\n",
            "Data columns (total 39 columns):\n",
            " #   Column                                  Non-Null Count   Dtype \n",
            "---  ------                                  --------------   ----- \n",
            " 0   building_id                             260601 non-null  int64 \n",
            " 1   geo_level_1_id                          260601 non-null  int64 \n",
            " 2   geo_level_2_id                          260601 non-null  int64 \n",
            " 3   geo_level_3_id                          260601 non-null  int64 \n",
            " 4   count_floors_pre_eq                     260601 non-null  int64 \n",
            " 5   age                                     260601 non-null  int64 \n",
            " 6   area_percentage                         260601 non-null  int64 \n",
            " 7   height_percentage                       260601 non-null  int64 \n",
            " 8   land_surface_condition                  260601 non-null  object\n",
            " 9   foundation_type                         260601 non-null  object\n",
            " 10  roof_type                               260601 non-null  object\n",
            " 11  ground_floor_type                       260601 non-null  object\n",
            " 12  other_floor_type                        260601 non-null  object\n",
            " 13  position                                260601 non-null  object\n",
            " 14  plan_configuration                      260601 non-null  object\n",
            " 15  has_superstructure_adobe_mud            260601 non-null  int64 \n",
            " 16  has_superstructure_mud_mortar_stone     260601 non-null  int64 \n",
            " 17  has_superstructure_stone_flag           260601 non-null  int64 \n",
            " 18  has_superstructure_cement_mortar_stone  260601 non-null  int64 \n",
            " 19  has_superstructure_mud_mortar_brick     260601 non-null  int64 \n",
            " 20  has_superstructure_cement_mortar_brick  260601 non-null  int64 \n",
            " 21  has_superstructure_timber               260601 non-null  int64 \n",
            " 22  has_superstructure_bamboo               260601 non-null  int64 \n",
            " 23  has_superstructure_rc_non_engineered    260601 non-null  int64 \n",
            " 24  has_superstructure_rc_engineered        260601 non-null  int64 \n",
            " 25  has_superstructure_other                260601 non-null  int64 \n",
            " 26  legal_ownership_status                  260601 non-null  object\n",
            " 27  count_families                          260601 non-null  int64 \n",
            " 28  has_secondary_use                       260601 non-null  int64 \n",
            " 29  has_secondary_use_agriculture           260601 non-null  int64 \n",
            " 30  has_secondary_use_hotel                 260601 non-null  int64 \n",
            " 31  has_secondary_use_rental                260601 non-null  int64 \n",
            " 32  has_secondary_use_institution           260601 non-null  int64 \n",
            " 33  has_secondary_use_school                260601 non-null  int64 \n",
            " 34  has_secondary_use_industry              260601 non-null  int64 \n",
            " 35  has_secondary_use_health_post           260601 non-null  int64 \n",
            " 36  has_secondary_use_gov_office            260601 non-null  int64 \n",
            " 37  has_secondary_use_use_police            260601 non-null  int64 \n",
            " 38  has_secondary_use_other                 260601 non-null  int64 \n",
            "dtypes: int64(31), object(8)\n",
            "memory usage: 77.5+ MB\n"
          ],
          "name": "stdout"
        }
      ]
    },
    {
      "cell_type": "code",
      "metadata": {
        "colab": {
          "base_uri": "https://localhost:8080/"
        },
        "id": "Uy-QKqVslQuY",
        "outputId": "e521cdd6-f181-4f2e-e89e-12fe0302afd1"
      },
      "source": [
        "memoria = df.memory_usage(deep=True).sum()/(2**20)\n",
        "print('Se usan', np.round(memoria, 2), 'MiB')"
      ],
      "execution_count": 22,
      "outputs": [
        {
          "output_type": "stream",
          "text": [
            "Se usan 176.95 MiB\n"
          ],
          "name": "stdout"
        }
      ]
    },
    {
      "cell_type": "markdown",
      "metadata": {
        "id": "o4xmNmYNkiVJ"
      },
      "source": [
        "No hay columnas con datos nulos.\n",
        "\n",
        "Se puede reallizar un cambio de tipo a las columnas para ajustar el uso de memoria."
      ]
    },
    {
      "cell_type": "markdown",
      "metadata": {
        "id": "6YW-yaXYkuT_"
      },
      "source": [
        "### Columnas numéricas\n",
        "\n",
        "`building_id`: \\[4, 1052934\\] $\\rightarrow$ int32\n",
        "\n",
        "`geo_level_1_id`: \\[0, 30\\] $\\rightarrow$ int8\n",
        "\n",
        "`geo_level_2_id`: \\[0, 1427\\] $\\rightarrow$ int16\n",
        "\n",
        "`geo_level_3_id`: \\[0, 12567\\] $\\rightarrow$ int16\n",
        "\n",
        "`count_floors_pre_eq`: \\[0, 9\\] $\\rightarrow$ int8\n",
        "\n",
        "`age`: \\[0, 995\\] $\\rightarrow$ int16\n",
        "\n",
        "`area_percentage`: \\[0, 100\\] $\\rightarrow$ int8\n",
        "\n",
        "`height_percentage`: \\[2, 32\\] $\\rightarrow$ int8\n",
        "\n",
        "`count_families`: \\[0, 9\\] $\\rightarrow$ int8"
      ]
    },
    {
      "cell_type": "code",
      "metadata": {
        "colab": {
          "base_uri": "https://localhost:8080/",
          "height": 112
        },
        "id": "YPvawtN9nq3L",
        "outputId": "1b53ffa2-06e3-4a37-9f5e-2bbfa3c1b778"
      },
      "source": [
        "df.loc[:, 'building_id':'height_percentage'].describe().astype('int64').loc[['max', 'min'], :]"
      ],
      "execution_count": 59,
      "outputs": [
        {
          "output_type": "execute_result",
          "data": {
            "text/html": [
              "<div>\n",
              "<style scoped>\n",
              "    .dataframe tbody tr th:only-of-type {\n",
              "        vertical-align: middle;\n",
              "    }\n",
              "\n",
              "    .dataframe tbody tr th {\n",
              "        vertical-align: top;\n",
              "    }\n",
              "\n",
              "    .dataframe thead th {\n",
              "        text-align: right;\n",
              "    }\n",
              "</style>\n",
              "<table border=\"1\" class=\"dataframe\">\n",
              "  <thead>\n",
              "    <tr style=\"text-align: right;\">\n",
              "      <th></th>\n",
              "      <th>building_id</th>\n",
              "      <th>geo_level_1_id</th>\n",
              "      <th>geo_level_2_id</th>\n",
              "      <th>geo_level_3_id</th>\n",
              "      <th>count_floors_pre_eq</th>\n",
              "      <th>age</th>\n",
              "      <th>area_percentage</th>\n",
              "      <th>height_percentage</th>\n",
              "    </tr>\n",
              "  </thead>\n",
              "  <tbody>\n",
              "    <tr>\n",
              "      <th>max</th>\n",
              "      <td>1052934</td>\n",
              "      <td>30</td>\n",
              "      <td>1427</td>\n",
              "      <td>12567</td>\n",
              "      <td>9</td>\n",
              "      <td>995</td>\n",
              "      <td>100</td>\n",
              "      <td>32</td>\n",
              "    </tr>\n",
              "    <tr>\n",
              "      <th>min</th>\n",
              "      <td>4</td>\n",
              "      <td>0</td>\n",
              "      <td>0</td>\n",
              "      <td>0</td>\n",
              "      <td>1</td>\n",
              "      <td>0</td>\n",
              "      <td>1</td>\n",
              "      <td>2</td>\n",
              "    </tr>\n",
              "  </tbody>\n",
              "</table>\n",
              "</div>"
            ],
            "text/plain": [
              "     building_id  geo_level_1_id  ...  area_percentage  height_percentage\n",
              "max      1052934              30  ...              100                 32\n",
              "min            4               0  ...                1                  2\n",
              "\n",
              "[2 rows x 8 columns]"
            ]
          },
          "metadata": {
            "tags": []
          },
          "execution_count": 59
        }
      ]
    },
    {
      "cell_type": "code",
      "metadata": {
        "colab": {
          "base_uri": "https://localhost:8080/"
        },
        "id": "Pm8snODWn8HY",
        "outputId": "633f00bc-b137-467a-acf4-99973560182e"
      },
      "source": [
        "2**16"
      ],
      "execution_count": 37,
      "outputs": [
        {
          "output_type": "execute_result",
          "data": {
            "text/plain": [
              "65536"
            ]
          },
          "metadata": {
            "tags": []
          },
          "execution_count": 37
        }
      ]
    },
    {
      "cell_type": "code",
      "metadata": {
        "id": "AmU6cFm7mo9b"
      },
      "source": [
        "df['building_id'] = df['building_id'].astype('int32')\n",
        "df['geo_level_1_id'] = df['geo_level_1_id'].astype('int8')\n",
        "df['geo_level_2_id'] = df['geo_level_2_id'].astype('int16')\n",
        "df['geo_level_3_id'] = df['geo_level_3_id'].astype('int16')\n",
        "df['count_floors_pre_eq'] = df['count_floors_pre_eq'].astype('int8')\n",
        "df['age'] = df['age'].astype('int16')\n",
        "df['area_percentage'] = df['area_percentage'].astype('int8')\n",
        "df['height_percentage'] = df['height_percentage'].astype('int8')\n",
        "df['count_families'] = df['count_families'].astype('int8')"
      ],
      "execution_count": 47,
      "outputs": []
    },
    {
      "cell_type": "code",
      "metadata": {
        "colab": {
          "base_uri": "https://localhost:8080/"
        },
        "id": "IfYd86OyoOpv",
        "outputId": "5712f24e-c531-49ae-f71b-9a07aeaa65d9"
      },
      "source": [
        "memoria = df.memory_usage(deep=True).sum()/(2**20)\n",
        "print('Se usan', np.round(memoria, 2), 'MiB')"
      ],
      "execution_count": 48,
      "outputs": [
        {
          "output_type": "stream",
          "text": [
            "Se usan 162.79 MiB\n"
          ],
          "name": "stdout"
        }
      ]
    },
    {
      "cell_type": "markdown",
      "metadata": {
        "id": "jZyN6JjekzUy"
      },
      "source": [
        "### Columnas booleanas\n",
        "\n",
        "`has_superstructure_adobe_mud`, `has_superstructure_mud_mortar_stone`, `has_superstructure_stone_flag`, \n",
        "`has_superstructure_cement_mortar_stone`, `has_superstructure_mud_mortar_brick`, `has_superstructure_cement_mortar_brick`, `has_superstructure_timber`, `has_superstructure_bamboo`, `has_superstructure_rc_non_engineered`, `has_superstructure_rc_engineered`, `has_superstructure_other`, `has_secondary_use`, `has_secondary_use_agriculture`, `has_secondary_use_hotel`, `has_secondary_use_rental`, `has_secondary_use_institution`, `has_secondary_use_school`, `has_secondary_use_industry`, `has_secondary_use_health_post`, `has_secondary_use_gov_office`, `has_secondary_use_use_police`, `has_secondary_use_other`\n",
        "\n",
        "Todas tienen valores \\[0, 1\\] $\\Longrightarrow$ bool"
      ]
    },
    {
      "cell_type": "code",
      "metadata": {
        "id": "6UQ__Uh1qXGl"
      },
      "source": [
        "df['has_superstructure_adobe_mud'] = df['has_superstructure_adobe_mud'].astype('bool')\n",
        "df['has_superstructure_mud_mortar_stone'] = df['has_superstructure_mud_mortar_stone'].astype('bool')\n",
        "df['has_superstructure_stone_flag'] = df['has_superstructure_stone_flag'].astype('bool')\n",
        "df['has_superstructure_cement_mortar_stone'] = df['has_superstructure_cement_mortar_stone'].astype('bool')\n",
        "df['has_superstructure_mud_mortar_brick'] = df['has_superstructure_mud_mortar_brick'].astype('bool')\n",
        "df['has_superstructure_cement_mortar_brick'] = df['has_superstructure_cement_mortar_brick'].astype('bool')\n",
        "df['has_superstructure_timber'] = df['has_superstructure_timber'].astype('bool')\n",
        "df['has_superstructure_bamboo'] = df['has_superstructure_bamboo'].astype('bool')\n",
        "df['has_superstructure_rc_non_engineered'] = df['has_superstructure_rc_non_engineered'].astype('bool')\n",
        "df['has_superstructure_rc_engineered'] = df['has_superstructure_rc_engineered'].astype('bool')\n",
        "df['has_superstructure_other'] = df['has_superstructure_other'].astype('bool')\n",
        "df['has_secondary_use'] = df['has_secondary_use'].astype('bool')\n",
        "df['has_secondary_use_agriculture'] = df['has_secondary_use_agriculture'].astype('bool')\n",
        "df['has_secondary_use_hotel'] = df['has_secondary_use_hotel'].astype('bool')\n",
        "df['has_secondary_use_rental'] = df['has_secondary_use_rental'].astype('bool')\n",
        "df['has_secondary_use_institution'] = df['has_secondary_use_institution'].astype('bool')\n",
        "df['has_secondary_use_school'] = df['has_secondary_use_school'].astype('bool')\n",
        "df['has_secondary_use_industry'] = df['has_secondary_use_industry'].astype('bool')\n",
        "df['has_secondary_use_health_post'] = df['has_secondary_use_health_post'].astype('bool')\n",
        "df['has_secondary_use_gov_office'] = df['has_secondary_use_gov_office'].astype('bool')\n",
        "df['has_secondary_use_use_police'] = df['has_secondary_use_use_police'].astype('bool')\n",
        "df['has_secondary_use_other'] = df['has_secondary_use_other'].astype('bool')"
      ],
      "execution_count": 62,
      "outputs": []
    },
    {
      "cell_type": "code",
      "metadata": {
        "colab": {
          "base_uri": "https://localhost:8080/"
        },
        "id": "HxJoVd5xqo-o",
        "outputId": "e119808c-7650-4045-9549-dd048b995e77"
      },
      "source": [
        "memoria = df.memory_usage(deep=True).sum()/(2**20)\n",
        "print('Se usan', np.round(memoria, 2), 'MiB')"
      ],
      "execution_count": 63,
      "outputs": [
        {
          "output_type": "stream",
          "text": [
            "Se usan 124.51 MiB\n"
          ],
          "name": "stdout"
        }
      ]
    },
    {
      "cell_type": "markdown",
      "metadata": {
        "id": "-6tBWY3Lk5aq"
      },
      "source": [
        "### Columnas Categóricas\n",
        "\n",
        "`land_surface_condition`, `foundation_type`, `roof_type`, `ground_floor_type`, `other_floor_type`, `position`, `plan_configuration`, `legal_ownership_status`"
      ]
    },
    {
      "cell_type": "code",
      "metadata": {
        "id": "7T2SSgPYkh4h"
      },
      "source": [
        "df['land_surface_condition'] = df['land_surface_condition'].astype('category')\n",
        "df['foundation_type'] = df['foundation_type'].astype('category')\n",
        "df['roof_type'] = df['roof_type'].astype('category')\n",
        "df['ground_floor_type'] = df['ground_floor_type'].astype('category')\n",
        "df['other_floor_type'] = df['other_floor_type'].astype('category')\n",
        "df['position'] = df['position'].astype('category')\n",
        "df['plan_configuration'] = df['plan_configuration'].astype('category')\n",
        "df['legal_ownership_status'] = df['legal_ownership_status'].astype('category')"
      ],
      "execution_count": 69,
      "outputs": []
    },
    {
      "cell_type": "code",
      "metadata": {
        "colab": {
          "base_uri": "https://localhost:8080/"
        },
        "id": "pGdhfST5sTSE",
        "outputId": "c35cbb60-5af5-4504-b982-53a59c03027c"
      },
      "source": [
        "memoria = df.memory_usage(deep=True).sum()/(2**20)\n",
        "print('Se usan', np.round(memoria, 2), 'MiB')"
      ],
      "execution_count": 71,
      "outputs": [
        {
          "output_type": "stream",
          "text": [
            "Se usan 11.19 MiB\n"
          ],
          "name": "stdout"
        }
      ]
    }
  ]
}