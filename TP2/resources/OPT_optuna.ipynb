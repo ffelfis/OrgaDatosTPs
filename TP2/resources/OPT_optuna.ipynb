{
  "nbformat": 4,
  "nbformat_minor": 0,
  "metadata": {
    "colab": {
      "name": "OPT_optuna.ipynb",
      "provenance": [],
      "collapsed_sections": [],
      "authorship_tag": "ABX9TyMwb9sh8HfpAi+iv1T13ioh",
      "include_colab_link": true
    },
    "kernelspec": {
      "name": "python3",
      "display_name": "Python 3"
    },
    "language_info": {
      "name": "python"
    }
  },
  "cells": [
    {
      "cell_type": "markdown",
      "metadata": {
        "id": "view-in-github",
        "colab_type": "text"
      },
      "source": [
        "<a href=\"https://colab.research.google.com/github/ffelfis/OrgaDatosTPs/blob/main/TP2/resources/OPT_optuna.ipynb\" target=\"_parent\"><img src=\"https://colab.research.google.com/assets/colab-badge.svg\" alt=\"Open In Colab\"/></a>"
      ]
    },
    {
      "cell_type": "markdown",
      "metadata": {
        "id": "mKKIB2Kvt3XH"
      },
      "source": [
        "# Instalación de optuna"
      ]
    },
    {
      "cell_type": "code",
      "metadata": {
        "colab": {
          "base_uri": "https://localhost:8080/"
        },
        "id": "pb2LnZQwt94x",
        "outputId": "20acbefc-acd2-4f7c-cdd2-f9f8ad149a9d"
      },
      "source": [
        "!pip install optuna"
      ],
      "execution_count": null,
      "outputs": [
        {
          "output_type": "stream",
          "text": [
            "Collecting optuna\n",
            "  Downloading optuna-2.8.0-py3-none-any.whl (301 kB)\n",
            "\u001b[?25l\r\u001b[K     |█                               | 10 kB 20.5 MB/s eta 0:00:01\r\u001b[K     |██▏                             | 20 kB 23.5 MB/s eta 0:00:01\r\u001b[K     |███▎                            | 30 kB 16.7 MB/s eta 0:00:01\r\u001b[K     |████▍                           | 40 kB 12.6 MB/s eta 0:00:01\r\u001b[K     |█████▍                          | 51 kB 5.7 MB/s eta 0:00:01\r\u001b[K     |██████▌                         | 61 kB 5.7 MB/s eta 0:00:01\r\u001b[K     |███████▋                        | 71 kB 6.3 MB/s eta 0:00:01\r\u001b[K     |████████▊                       | 81 kB 6.2 MB/s eta 0:00:01\r\u001b[K     |█████████▊                      | 92 kB 6.3 MB/s eta 0:00:01\r\u001b[K     |██████████▉                     | 102 kB 5.4 MB/s eta 0:00:01\r\u001b[K     |████████████                    | 112 kB 5.4 MB/s eta 0:00:01\r\u001b[K     |█████████████                   | 122 kB 5.4 MB/s eta 0:00:01\r\u001b[K     |██████████████                  | 133 kB 5.4 MB/s eta 0:00:01\r\u001b[K     |███████████████▏                | 143 kB 5.4 MB/s eta 0:00:01\r\u001b[K     |████████████████▎               | 153 kB 5.4 MB/s eta 0:00:01\r\u001b[K     |█████████████████▍              | 163 kB 5.4 MB/s eta 0:00:01\r\u001b[K     |██████████████████▌             | 174 kB 5.4 MB/s eta 0:00:01\r\u001b[K     |███████████████████▌            | 184 kB 5.4 MB/s eta 0:00:01\r\u001b[K     |████████████████████▋           | 194 kB 5.4 MB/s eta 0:00:01\r\u001b[K     |█████████████████████▊          | 204 kB 5.4 MB/s eta 0:00:01\r\u001b[K     |██████████████████████▉         | 215 kB 5.4 MB/s eta 0:00:01\r\u001b[K     |███████████████████████▉        | 225 kB 5.4 MB/s eta 0:00:01\r\u001b[K     |█████████████████████████       | 235 kB 5.4 MB/s eta 0:00:01\r\u001b[K     |██████████████████████████      | 245 kB 5.4 MB/s eta 0:00:01\r\u001b[K     |███████████████████████████▏    | 256 kB 5.4 MB/s eta 0:00:01\r\u001b[K     |████████████████████████████▏   | 266 kB 5.4 MB/s eta 0:00:01\r\u001b[K     |█████████████████████████████▎  | 276 kB 5.4 MB/s eta 0:00:01\r\u001b[K     |██████████████████████████████▍ | 286 kB 5.4 MB/s eta 0:00:01\r\u001b[K     |███████████████████████████████▌| 296 kB 5.4 MB/s eta 0:00:01\r\u001b[K     |████████████████████████████████| 301 kB 5.4 MB/s \n",
            "\u001b[?25hRequirement already satisfied: sqlalchemy>=1.1.0 in /usr/local/lib/python3.7/dist-packages (from optuna) (1.4.20)\n",
            "Requirement already satisfied: numpy in /usr/local/lib/python3.7/dist-packages (from optuna) (1.19.5)\n",
            "Collecting colorlog\n",
            "  Downloading colorlog-5.0.1-py2.py3-none-any.whl (10 kB)\n",
            "Requirement already satisfied: packaging>=20.0 in /usr/local/lib/python3.7/dist-packages (from optuna) (21.0)\n",
            "Requirement already satisfied: scipy!=1.4.0 in /usr/local/lib/python3.7/dist-packages (from optuna) (1.4.1)\n",
            "Collecting cmaes>=0.8.2\n",
            "  Downloading cmaes-0.8.2-py3-none-any.whl (15 kB)\n",
            "Requirement already satisfied: tqdm in /usr/local/lib/python3.7/dist-packages (from optuna) (4.41.1)\n",
            "Collecting cliff\n",
            "  Downloading cliff-3.8.0-py3-none-any.whl (80 kB)\n",
            "\u001b[K     |████████████████████████████████| 80 kB 6.7 MB/s \n",
            "\u001b[?25hCollecting alembic\n",
            "  Downloading alembic-1.6.5-py2.py3-none-any.whl (164 kB)\n",
            "\u001b[K     |████████████████████████████████| 164 kB 28.6 MB/s \n",
            "\u001b[?25hRequirement already satisfied: pyparsing>=2.0.2 in /usr/local/lib/python3.7/dist-packages (from packaging>=20.0->optuna) (2.4.7)\n",
            "Requirement already satisfied: importlib-metadata in /usr/local/lib/python3.7/dist-packages (from sqlalchemy>=1.1.0->optuna) (4.6.1)\n",
            "Requirement already satisfied: greenlet!=0.4.17 in /usr/local/lib/python3.7/dist-packages (from sqlalchemy>=1.1.0->optuna) (1.1.0)\n",
            "Collecting Mako\n",
            "  Downloading Mako-1.1.4-py2.py3-none-any.whl (75 kB)\n",
            "\u001b[K     |████████████████████████████████| 75 kB 3.9 MB/s \n",
            "\u001b[?25hCollecting python-editor>=0.3\n",
            "  Downloading python_editor-1.0.4-py3-none-any.whl (4.9 kB)\n",
            "Requirement already satisfied: python-dateutil in /usr/local/lib/python3.7/dist-packages (from alembic->optuna) (2.8.1)\n",
            "Requirement already satisfied: PrettyTable>=0.7.2 in /usr/local/lib/python3.7/dist-packages (from cliff->optuna) (2.1.0)\n",
            "Requirement already satisfied: PyYAML>=3.12 in /usr/local/lib/python3.7/dist-packages (from cliff->optuna) (3.13)\n",
            "Collecting stevedore>=2.0.1\n",
            "  Downloading stevedore-3.3.0-py3-none-any.whl (49 kB)\n",
            "\u001b[K     |████████████████████████████████| 49 kB 5.3 MB/s \n",
            "\u001b[?25hCollecting cmd2>=1.0.0\n",
            "  Downloading cmd2-2.1.2-py3-none-any.whl (141 kB)\n",
            "\u001b[K     |████████████████████████████████| 141 kB 50.5 MB/s \n",
            "\u001b[?25hCollecting pbr!=2.1.0,>=2.0.0\n",
            "  Downloading pbr-5.6.0-py2.py3-none-any.whl (111 kB)\n",
            "\u001b[K     |████████████████████████████████| 111 kB 58.0 MB/s \n",
            "\u001b[?25hRequirement already satisfied: attrs>=16.3.0 in /usr/local/lib/python3.7/dist-packages (from cmd2>=1.0.0->cliff->optuna) (21.2.0)\n",
            "Collecting pyperclip>=1.6\n",
            "  Downloading pyperclip-1.8.2.tar.gz (20 kB)\n",
            "Collecting colorama>=0.3.7\n",
            "  Downloading colorama-0.4.4-py2.py3-none-any.whl (16 kB)\n",
            "Requirement already satisfied: typing-extensions in /usr/local/lib/python3.7/dist-packages (from cmd2>=1.0.0->cliff->optuna) (3.7.4.3)\n",
            "Requirement already satisfied: wcwidth>=0.1.7 in /usr/local/lib/python3.7/dist-packages (from cmd2>=1.0.0->cliff->optuna) (0.2.5)\n",
            "Requirement already satisfied: zipp>=0.5 in /usr/local/lib/python3.7/dist-packages (from importlib-metadata->sqlalchemy>=1.1.0->optuna) (3.5.0)\n",
            "Requirement already satisfied: MarkupSafe>=0.9.2 in /usr/local/lib/python3.7/dist-packages (from Mako->alembic->optuna) (2.0.1)\n",
            "Requirement already satisfied: six>=1.5 in /usr/local/lib/python3.7/dist-packages (from python-dateutil->alembic->optuna) (1.15.0)\n",
            "Building wheels for collected packages: pyperclip\n",
            "  Building wheel for pyperclip (setup.py) ... \u001b[?25l\u001b[?25hdone\n",
            "  Created wheel for pyperclip: filename=pyperclip-1.8.2-py3-none-any.whl size=11137 sha256=d17ae4ed024d1f44aa14e2a3835f46a26c79fec1c1071a8449c9b3ddb5e571fc\n",
            "  Stored in directory: /root/.cache/pip/wheels/9f/18/84/8f69f8b08169c7bae2dde6bd7daf0c19fca8c8e500ee620a28\n",
            "Successfully built pyperclip\n",
            "Installing collected packages: pyperclip, pbr, colorama, stevedore, python-editor, Mako, cmd2, colorlog, cmaes, cliff, alembic, optuna\n",
            "Successfully installed Mako-1.1.4 alembic-1.6.5 cliff-3.8.0 cmaes-0.8.2 cmd2-2.1.2 colorama-0.4.4 colorlog-5.0.1 optuna-2.8.0 pbr-5.6.0 pyperclip-1.8.2 python-editor-1.0.4 stevedore-3.3.0\n"
          ],
          "name": "stdout"
        }
      ]
    },
    {
      "cell_type": "markdown",
      "metadata": {
        "id": "_DrbBu-tiSyC"
      },
      "source": [
        "# Lectura de datos de Google Drive"
      ]
    },
    {
      "cell_type": "code",
      "metadata": {
        "colab": {
          "base_uri": "https://localhost:8080/"
        },
        "id": "1F_f9l63h-ej",
        "outputId": "ff765b1e-d2ba-4b50-fbd7-b2f66ed703bc"
      },
      "source": [
        "# Lectura de Dataset desde Google Drive\n",
        "from google.colab import drive\n",
        "drive.mount('/content/drive')"
      ],
      "execution_count": null,
      "outputs": [
        {
          "output_type": "stream",
          "text": [
            "Mounted at /content/drive\n"
          ],
          "name": "stdout"
        }
      ]
    },
    {
      "cell_type": "markdown",
      "metadata": {
        "id": "EpNLc4kPyAbf"
      },
      "source": [
        "# Para importar funciones customizadas\n",
        "\n",
        "Hay que especificar la ruta de donde se encuentra el módulo (archivo `.py`) para buscar las funciones.\n",
        "\n",
        "La lectura puede ser muy celosa: las indentaciones son de 4 espacios no tabulaciones.\n",
        "\n",
        "https://colab.research.google.com/drive/1uvHuizCBqFgvbCwEhK7FvU8JW0AfxgJw"
      ]
    },
    {
      "cell_type": "code",
      "metadata": {
        "id": "TeM6NwOeyKur"
      },
      "source": [
        "import sys\n",
        "sys.path.append('/content/drive/My Drive/75.06 - Organización de Datos/TP2/resources')"
      ],
      "execution_count": null,
      "outputs": []
    },
    {
      "cell_type": "markdown",
      "metadata": {
        "id": "phUPpKV5ie5n"
      },
      "source": [
        "# Carga de librerías y directorios"
      ]
    },
    {
      "cell_type": "code",
      "metadata": {
        "id": "jhFuDtsTifvX"
      },
      "source": [
        "import pandas as pd\n",
        "import numpy as np\n",
        "\n",
        "# Métrica de evaluación\n",
        "from sklearn.metrics import f1_score\n",
        "# fold_score = f1_score(y_test, prediction, average='micro')\n",
        "# Se especifica average por tener un target multiclase\n",
        "\n",
        "# Clasificador\n",
        "from sklearn.ensemble import RandomForestClassifier\n",
        "\n",
        "# Para la división en k-folds\n",
        "from sklearn.model_selection import StratifiedKFold\n",
        "\n",
        "# Para pasar parámetros varias veces a una función\n",
        "from functools import partial\n",
        "\n",
        "# Librería de optimización\n",
        "import optuna\n",
        "\n",
        "# Librería para guardar los módulos de estudio: study\n",
        "import joblib\n",
        "\n",
        "# Función para cambiar tipos de datos\n",
        "from utilidades import cambio_tipos"
      ],
      "execution_count": null,
      "outputs": []
    },
    {
      "cell_type": "markdown",
      "metadata": {
        "id": "0sINS71mixTT"
      },
      "source": [
        "# Rutas de los archivos a usar"
      ]
    },
    {
      "cell_type": "code",
      "metadata": {
        "id": "wCBPCSsUisx2"
      },
      "source": [
        "# Ruta train_values.csv\n",
        "dir_values = '/content/drive/My Drive/75.06 - Organización de Datos/TP1/Data/train_values.csv'\n",
        "# Ruta train_labels.csv\n",
        "dir_labels = '/content/drive/My Drive/75.06 - Organización de Datos/TP1/Data/train_labels.csv'\n",
        "# Ruta de Binary Encodings para train_values.csv\n",
        "dir_resources = '/content/drive/My Drive/75.06 - Organización de Datos/TP2/resources'"
      ],
      "execution_count": null,
      "outputs": []
    },
    {
      "cell_type": "markdown",
      "metadata": {
        "id": "U10d9Z3cjmEn"
      },
      "source": [
        "---\n",
        "#Entrenamiento\n",
        "---\n",
        "### Carga de train"
      ]
    },
    {
      "cell_type": "code",
      "metadata": {
        "id": "_GU7d7LENLcs"
      },
      "source": [
        "columnas = ['building_id',\n",
        " 'geo_level_1_id',\n",
        " 'geo_level_2_id',\n",
        " 'geo_level_3_id',\n",
        " 'count_floors_pre_eq',\n",
        " 'age',\n",
        " 'area_percentage',\n",
        " 'height_percentage',\n",
        " 'has_superstructure_adobe_mud',\n",
        " 'has_superstructure_mud_mortar_stone',\n",
        " 'has_superstructure_stone_flag',\n",
        " 'has_superstructure_cement_mortar_stone',\n",
        " 'has_superstructure_mud_mortar_brick',\n",
        " 'has_superstructure_cement_mortar_brick',\n",
        " 'has_superstructure_timber',\n",
        " 'has_superstructure_bamboo',\n",
        " 'has_superstructure_rc_non_engineered',\n",
        " 'has_superstructure_rc_engineered',\n",
        " 'has_superstructure_other',\n",
        " 'count_families',\n",
        " 'has_secondary_use',\n",
        " 'has_secondary_use_agriculture',\n",
        " 'has_secondary_use_hotel',\n",
        " 'has_secondary_use_rental',\n",
        " 'has_secondary_use_institution',\n",
        " 'has_secondary_use_school',\n",
        " 'has_secondary_use_industry',\n",
        " 'has_secondary_use_health_post',\n",
        " 'has_secondary_use_gov_office',\n",
        " 'has_secondary_use_use_police',\n",
        " 'has_secondary_use_other']\n",
        " \n",
        "# Carga de train_values.csv\n",
        "train = pd.read_csv(dir_values, usecols=columnas)"
      ],
      "execution_count": null,
      "outputs": []
    },
    {
      "cell_type": "markdown",
      "metadata": {
        "id": "Gllv83PimADJ"
      },
      "source": [
        "### Cambio de tipos de datos"
      ]
    },
    {
      "cell_type": "code",
      "metadata": {
        "id": "HrZAEMGAj-tJ"
      },
      "source": [
        "train = cambio_tipos(train)"
      ],
      "execution_count": null,
      "outputs": []
    },
    {
      "cell_type": "markdown",
      "metadata": {
        "id": "cEOYhxbpbfaN"
      },
      "source": [
        "### Carga de columnas codificadas: Binary Encoding"
      ]
    },
    {
      "cell_type": "code",
      "metadata": {
        "id": "-i_00Z0Cbmyb"
      },
      "source": [
        "# 28 columnas más.\n",
        "train = train.join(pd.read_csv(dir_resources+f'/BE_train.csv', dtype='uint8'))\n",
        "\n",
        "X = train.values"
      ],
      "execution_count": null,
      "outputs": []
    },
    {
      "cell_type": "markdown",
      "metadata": {
        "id": "dBiOdGmvWsIP"
      },
      "source": [
        "### Carga de labels"
      ]
    },
    {
      "cell_type": "code",
      "metadata": {
        "id": "Q4DACqZZWrLe"
      },
      "source": [
        "# Carga de train_labels.csv\n",
        "labels = pd.read_csv(dir_labels, usecols=['damage_grade'], dtype='uint8')\n",
        "\n",
        "y = labels.damage_grade.values"
      ],
      "execution_count": null,
      "outputs": []
    },
    {
      "cell_type": "markdown",
      "metadata": {
        "id": "opi8RRWhxM8d"
      },
      "source": [
        "# Optuna"
      ]
    },
    {
      "cell_type": "markdown",
      "metadata": {
        "id": "ixfftQMb1ngU"
      },
      "source": [
        "- API Optuna: https://optuna.readthedocs.io/en/stable/reference/index.html"
      ]
    },
    {
      "cell_type": "markdown",
      "metadata": {
        "id": "eKONJ0Je1mNR"
      },
      "source": [
        "El espacio de parámetros hay que definirlo dentro de la función que opera para devolver el resultado a optimizar."
      ]
    },
    {
      "cell_type": "code",
      "metadata": {
        "id": "PR-0RsJVx9TV"
      },
      "source": [
        "# trial:\n",
        "# x: features\n",
        "# y: target\n",
        "\n",
        "def optimize(trial, x, y):\n",
        "  # Se define el espacio de parámetros\n",
        "  criterion = trial.suggest_categorical('criterion', ['gini', 'entropy'])\n",
        "  n_estimators = trial.suggest_int('n_estimators', 10, 50, 1)\n",
        "  max_depth = trial.suggest_int('max_depth', 40, 60, 1)\n",
        "  max_features = trial.suggest_uniform('max_features', 0.05, 1.0)\n",
        "  #~~~~~~~~~~~~~~~~~~~~~~~~~~~~~~~~~~~~~~~~~~~~~~~~~~~~~~~~~~~~~~~~~~~~\n",
        "  # Se instancia el modelo\n",
        "  model = RandomForestClassifier(\n",
        "      n_estimators = n_estimators,\n",
        "      max_depth = max_depth,\n",
        "      criterion = criterion,\n",
        "      max_features = max_features\n",
        "  )\n",
        "  # Hay que realizar el k-folding\n",
        "  kf = StratifiedKFold(n_splits=5)\n",
        "  # Lista de scores\n",
        "  scores = []\n",
        "  # Se dividen los datos\n",
        "  for index in kf.split(X=x, y=y):\n",
        "    train_index, test_index = index[0], index[1]\n",
        "    X_train = x[train_index]\n",
        "    y_train = y[train_index]\n",
        "    X_test = x[test_index]\n",
        "    y_test = y[test_index]\n",
        "    # Entrenamiento del k-fold\n",
        "    model.fit(X_train, y_train)\n",
        "    prediction = model.predict(X_test)\n",
        "    fold_score = f1_score(y_test, prediction, average='micro')\n",
        "    # Se agrega el score a la lista\n",
        "    scores.append(fold_score)\n",
        "  # Ahora hay que devolver la función para minimizar\n",
        "  return -1.0 * np.mean(scores)"
      ],
      "execution_count": null,
      "outputs": []
    },
    {
      "cell_type": "markdown",
      "metadata": {
        "id": "KNNk3G75yptl"
      },
      "source": [
        "Función a optimizar"
      ]
    },
    {
      "cell_type": "code",
      "metadata": {
        "id": "NrmXt7b4yOJA"
      },
      "source": [
        "optimization_function = partial(optimize, x=X, y=y)"
      ],
      "execution_count": null,
      "outputs": []
    },
    {
      "cell_type": "markdown",
      "metadata": {
        "id": "fx84YA4GCEAi"
      },
      "source": [
        "Instancia de `study`."
      ]
    },
    {
      "cell_type": "code",
      "metadata": {
        "colab": {
          "base_uri": "https://localhost:8080/"
        },
        "id": "aUZKA-xfxaaY",
        "outputId": "2720a0e1-b724-4bf6-997e-ec89f95f2cd6"
      },
      "source": [
        "study = optuna.create_study(direction='minimize')"
      ],
      "execution_count": null,
      "outputs": [
        {
          "output_type": "stream",
          "text": [
            "\u001b[32m[I 2021-07-25 03:47:46,940]\u001b[0m A new study created in memory with name: no-name-459a21ed-9c02-4056-b4b7-af4499bdbd00\u001b[0m\n"
          ],
          "name": "stderr"
        }
      ]
    },
    {
      "cell_type": "markdown",
      "metadata": {
        "id": "d4Gg8RreCMCR"
      },
      "source": [
        "### Optimiación"
      ]
    },
    {
      "cell_type": "code",
      "metadata": {
        "colab": {
          "base_uri": "https://localhost:8080/"
        },
        "id": "VhH7e_j2xnv0",
        "outputId": "42cad285-2bf2-46b0-b1a4-5459633a7828"
      },
      "source": [
        "study.optimize(optimization_function, n_trials=10)"
      ],
      "execution_count": null,
      "outputs": [
        {
          "output_type": "stream",
          "text": [
            "\u001b[32m[I 2021-07-25 04:13:44,830]\u001b[0m Trial 1 finished with value: -0.714889817458381 and parameters: {'criterion': 'entropy', 'n_estimators': 31, 'max_depth': 57, 'max_features': 0.19835971978850486}. Best is trial 1 with value: -0.714889817458381.\u001b[0m\n",
            "\u001b[32m[I 2021-07-25 04:22:40,483]\u001b[0m Trial 2 finished with value: -0.7279826169146554 and parameters: {'criterion': 'entropy', 'n_estimators': 39, 'max_depth': 53, 'max_features': 0.7616559529753357}. Best is trial 2 with value: -0.7279826169146554.\u001b[0m\n",
            "\u001b[32m[I 2021-07-25 04:30:19,866]\u001b[0m Trial 3 finished with value: -0.724521383274526 and parameters: {'criterion': 'gini', 'n_estimators': 35, 'max_depth': 51, 'max_features': 0.9775923556993334}. Best is trial 2 with value: -0.7279826169146554.\u001b[0m\n",
            "\u001b[32m[I 2021-07-25 04:32:06,351]\u001b[0m Trial 4 finished with value: -0.7116818534732842 and parameters: {'criterion': 'entropy', 'n_estimators': 10, 'max_depth': 43, 'max_features': 0.5521929718993152}. Best is trial 2 with value: -0.7279826169146554.\u001b[0m\n",
            "\u001b[32m[I 2021-07-25 04:33:07,629]\u001b[0m Trial 5 finished with value: -0.7068200022578667 and parameters: {'criterion': 'gini', 'n_estimators': 13, 'max_depth': 49, 'max_features': 0.22229765674370122}. Best is trial 2 with value: -0.7279826169146554.\u001b[0m\n",
            "\u001b[32m[I 2021-07-25 04:39:21,053]\u001b[0m Trial 6 finished with value: -0.7286886748399951 and parameters: {'criterion': 'gini', 'n_estimators': 41, 'max_depth': 45, 'max_features': 0.6208355802503962}. Best is trial 6 with value: -0.7286886748399951.\u001b[0m\n",
            "\u001b[32m[I 2021-07-25 04:44:43,579]\u001b[0m Trial 7 finished with value: -0.7273226028170502 and parameters: {'criterion': 'gini', 'n_estimators': 36, 'max_depth': 60, 'max_features': 0.5781843858457814}. Best is trial 6 with value: -0.7286886748399951.\u001b[0m\n",
            "\u001b[32m[I 2021-07-25 04:46:18,634]\u001b[0m Trial 8 finished with value: -0.6988422887011705 and parameters: {'criterion': 'entropy', 'n_estimators': 30, 'max_depth': 42, 'max_features': 0.07499994080242323}. Best is trial 6 with value: -0.7286886748399951.\u001b[0m\n",
            "\u001b[32m[I 2021-07-25 04:48:13,828]\u001b[0m Trial 9 finished with value: -0.71744160096327 and parameters: {'criterion': 'gini', 'n_estimators': 20, 'max_depth': 55, 'max_features': 0.31060371343679266}. Best is trial 6 with value: -0.7286886748399951.\u001b[0m\n",
            "\u001b[32m[I 2021-07-25 04:50:11,298]\u001b[0m Trial 10 finished with value: -0.7153579518306942 and parameters: {'criterion': 'gini', 'n_estimators': 13, 'max_depth': 59, 'max_features': 0.5520440998203621}. Best is trial 6 with value: -0.7286886748399951.\u001b[0m\n"
          ],
          "name": "stderr"
        }
      ]
    },
    {
      "cell_type": "code",
      "metadata": {
        "colab": {
          "base_uri": "https://localhost:8080/"
        },
        "id": "7H9SDzM6EJ1o",
        "outputId": "46ef3005-36c3-40ef-a727-26e7f8a63a29"
      },
      "source": [
        "study.best_params"
      ],
      "execution_count": null,
      "outputs": [
        {
          "output_type": "execute_result",
          "data": {
            "text/plain": [
              "{'criterion': 'gini',\n",
              " 'max_depth': 45,\n",
              " 'max_features': 0.6208355802503962,\n",
              " 'n_estimators': 41}"
            ]
          },
          "metadata": {
            "tags": []
          },
          "execution_count": 29
        }
      ]
    },
    {
      "cell_type": "code",
      "metadata": {
        "colab": {
          "base_uri": "https://localhost:8080/"
        },
        "id": "Xj369zWWEJw6",
        "outputId": "333bb0b0-f00d-4b68-ae68-37b58ad54a9e"
      },
      "source": [
        "study.get_trials()"
      ],
      "execution_count": null,
      "outputs": [
        {
          "output_type": "execute_result",
          "data": {
            "text/plain": [
              "[FrozenTrial(number=0, values=None, datetime_start=datetime.datetime(2021, 7, 25, 4, 10, 16, 462661), datetime_complete=datetime.datetime(2021, 7, 25, 4, 10, 24, 217569), params={'criterion': 'gini', 'n_estimators': 16, 'max_depth': 48, 'max_features': 0.055478285192109865}, distributions={'criterion': CategoricalDistribution(choices=('gini', 'entropy')), 'n_estimators': IntUniformDistribution(high=50, low=10, step=1), 'max_depth': IntUniformDistribution(high=60, low=40, step=1), 'max_features': UniformDistribution(high=1.0, low=0.05)}, user_attrs={}, system_attrs={}, intermediate_values={}, trial_id=0, state=TrialState.FAIL, value=None),\n",
              " FrozenTrial(number=1, values=[-0.714889817458381], datetime_start=datetime.datetime(2021, 7, 25, 4, 11, 6, 398279), datetime_complete=datetime.datetime(2021, 7, 25, 4, 13, 44, 830279), params={'criterion': 'entropy', 'n_estimators': 31, 'max_depth': 57, 'max_features': 0.19835971978850486}, distributions={'criterion': CategoricalDistribution(choices=('gini', 'entropy')), 'n_estimators': IntUniformDistribution(high=50, low=10, step=1), 'max_depth': IntUniformDistribution(high=60, low=40, step=1), 'max_features': UniformDistribution(high=1.0, low=0.05)}, user_attrs={}, system_attrs={}, intermediate_values={}, trial_id=1, state=TrialState.COMPLETE, value=None),\n",
              " FrozenTrial(number=2, values=[-0.7279826169146554], datetime_start=datetime.datetime(2021, 7, 25, 4, 13, 44, 833162), datetime_complete=datetime.datetime(2021, 7, 25, 4, 22, 40, 483086), params={'criterion': 'entropy', 'n_estimators': 39, 'max_depth': 53, 'max_features': 0.7616559529753357}, distributions={'criterion': CategoricalDistribution(choices=('gini', 'entropy')), 'n_estimators': IntUniformDistribution(high=50, low=10, step=1), 'max_depth': IntUniformDistribution(high=60, low=40, step=1), 'max_features': UniformDistribution(high=1.0, low=0.05)}, user_attrs={}, system_attrs={}, intermediate_values={}, trial_id=2, state=TrialState.COMPLETE, value=None),\n",
              " FrozenTrial(number=3, values=[-0.724521383274526], datetime_start=datetime.datetime(2021, 7, 25, 4, 22, 40, 485715), datetime_complete=datetime.datetime(2021, 7, 25, 4, 30, 19, 866180), params={'criterion': 'gini', 'n_estimators': 35, 'max_depth': 51, 'max_features': 0.9775923556993334}, distributions={'criterion': CategoricalDistribution(choices=('gini', 'entropy')), 'n_estimators': IntUniformDistribution(high=50, low=10, step=1), 'max_depth': IntUniformDistribution(high=60, low=40, step=1), 'max_features': UniformDistribution(high=1.0, low=0.05)}, user_attrs={}, system_attrs={}, intermediate_values={}, trial_id=3, state=TrialState.COMPLETE, value=None),\n",
              " FrozenTrial(number=4, values=[-0.7116818534732842], datetime_start=datetime.datetime(2021, 7, 25, 4, 30, 19, 868516), datetime_complete=datetime.datetime(2021, 7, 25, 4, 32, 6, 351561), params={'criterion': 'entropy', 'n_estimators': 10, 'max_depth': 43, 'max_features': 0.5521929718993152}, distributions={'criterion': CategoricalDistribution(choices=('gini', 'entropy')), 'n_estimators': IntUniformDistribution(high=50, low=10, step=1), 'max_depth': IntUniformDistribution(high=60, low=40, step=1), 'max_features': UniformDistribution(high=1.0, low=0.05)}, user_attrs={}, system_attrs={}, intermediate_values={}, trial_id=4, state=TrialState.COMPLETE, value=None),\n",
              " FrozenTrial(number=5, values=[-0.7068200022578667], datetime_start=datetime.datetime(2021, 7, 25, 4, 32, 6, 353753), datetime_complete=datetime.datetime(2021, 7, 25, 4, 33, 7, 628972), params={'criterion': 'gini', 'n_estimators': 13, 'max_depth': 49, 'max_features': 0.22229765674370122}, distributions={'criterion': CategoricalDistribution(choices=('gini', 'entropy')), 'n_estimators': IntUniformDistribution(high=50, low=10, step=1), 'max_depth': IntUniformDistribution(high=60, low=40, step=1), 'max_features': UniformDistribution(high=1.0, low=0.05)}, user_attrs={}, system_attrs={}, intermediate_values={}, trial_id=5, state=TrialState.COMPLETE, value=None),\n",
              " FrozenTrial(number=6, values=[-0.7286886748399951], datetime_start=datetime.datetime(2021, 7, 25, 4, 33, 7, 633429), datetime_complete=datetime.datetime(2021, 7, 25, 4, 39, 21, 52863), params={'criterion': 'gini', 'n_estimators': 41, 'max_depth': 45, 'max_features': 0.6208355802503962}, distributions={'criterion': CategoricalDistribution(choices=('gini', 'entropy')), 'n_estimators': IntUniformDistribution(high=50, low=10, step=1), 'max_depth': IntUniformDistribution(high=60, low=40, step=1), 'max_features': UniformDistribution(high=1.0, low=0.05)}, user_attrs={}, system_attrs={}, intermediate_values={}, trial_id=6, state=TrialState.COMPLETE, value=None),\n",
              " FrozenTrial(number=7, values=[-0.7273226028170502], datetime_start=datetime.datetime(2021, 7, 25, 4, 39, 21, 55109), datetime_complete=datetime.datetime(2021, 7, 25, 4, 44, 43, 579539), params={'criterion': 'gini', 'n_estimators': 36, 'max_depth': 60, 'max_features': 0.5781843858457814}, distributions={'criterion': CategoricalDistribution(choices=('gini', 'entropy')), 'n_estimators': IntUniformDistribution(high=50, low=10, step=1), 'max_depth': IntUniformDistribution(high=60, low=40, step=1), 'max_features': UniformDistribution(high=1.0, low=0.05)}, user_attrs={}, system_attrs={}, intermediate_values={}, trial_id=7, state=TrialState.COMPLETE, value=None),\n",
              " FrozenTrial(number=8, values=[-0.6988422887011705], datetime_start=datetime.datetime(2021, 7, 25, 4, 44, 43, 582199), datetime_complete=datetime.datetime(2021, 7, 25, 4, 46, 18, 633657), params={'criterion': 'entropy', 'n_estimators': 30, 'max_depth': 42, 'max_features': 0.07499994080242323}, distributions={'criterion': CategoricalDistribution(choices=('gini', 'entropy')), 'n_estimators': IntUniformDistribution(high=50, low=10, step=1), 'max_depth': IntUniformDistribution(high=60, low=40, step=1), 'max_features': UniformDistribution(high=1.0, low=0.05)}, user_attrs={}, system_attrs={}, intermediate_values={}, trial_id=8, state=TrialState.COMPLETE, value=None),\n",
              " FrozenTrial(number=9, values=[-0.71744160096327], datetime_start=datetime.datetime(2021, 7, 25, 4, 46, 18, 636282), datetime_complete=datetime.datetime(2021, 7, 25, 4, 48, 13, 827404), params={'criterion': 'gini', 'n_estimators': 20, 'max_depth': 55, 'max_features': 0.31060371343679266}, distributions={'criterion': CategoricalDistribution(choices=('gini', 'entropy')), 'n_estimators': IntUniformDistribution(high=50, low=10, step=1), 'max_depth': IntUniformDistribution(high=60, low=40, step=1), 'max_features': UniformDistribution(high=1.0, low=0.05)}, user_attrs={}, system_attrs={}, intermediate_values={}, trial_id=9, state=TrialState.COMPLETE, value=None),\n",
              " FrozenTrial(number=10, values=[-0.7153579518306942], datetime_start=datetime.datetime(2021, 7, 25, 4, 48, 13, 829730), datetime_complete=datetime.datetime(2021, 7, 25, 4, 50, 11, 298338), params={'criterion': 'gini', 'n_estimators': 13, 'max_depth': 59, 'max_features': 0.5520440998203621}, distributions={'criterion': CategoricalDistribution(choices=('gini', 'entropy')), 'n_estimators': IntUniformDistribution(high=50, low=10, step=1), 'max_depth': IntUniformDistribution(high=60, low=40, step=1), 'max_features': UniformDistribution(high=1.0, low=0.05)}, user_attrs={}, system_attrs={}, intermediate_values={}, trial_id=10, state=TrialState.COMPLETE, value=None)]"
            ]
          },
          "metadata": {
            "tags": []
          },
          "execution_count": 30
        }
      ]
    },
    {
      "cell_type": "markdown",
      "metadata": {
        "id": "Ifoekygg9cLV"
      },
      "source": [
        "# Guardar progreso de búsquedas"
      ]
    },
    {
      "cell_type": "code",
      "metadata": {
        "colab": {
          "base_uri": "https://localhost:8080/"
        },
        "id": "LZSDHk6u9qWk",
        "outputId": "4120c96c-057b-4d24-c36a-9ff5cbdb35bf"
      },
      "source": [
        "joblib.dump(study, 'study.pkl')"
      ],
      "execution_count": null,
      "outputs": [
        {
          "output_type": "execute_result",
          "data": {
            "text/plain": [
              "['study.pkl']"
            ]
          },
          "metadata": {
            "tags": []
          },
          "execution_count": 25
        }
      ]
    },
    {
      "cell_type": "markdown",
      "metadata": {
        "id": "6eqqhMa99q6b"
      },
      "source": [
        "# Cargar avances anteriores"
      ]
    },
    {
      "cell_type": "code",
      "metadata": {
        "id": "O4mfKk3s9g-I"
      },
      "source": [
        "study_loaded = joblib.load('study.pkl')"
      ],
      "execution_count": null,
      "outputs": []
    },
    {
      "cell_type": "markdown",
      "metadata": {
        "id": "TV7wR9c9Ao1S"
      },
      "source": [
        "Se realizan tantas iteraciones más de búsqueda según indique `n_trials`."
      ]
    },
    {
      "cell_type": "code",
      "metadata": {
        "colab": {
          "base_uri": "https://localhost:8080/"
        },
        "id": "AAAnwOe4-Nqr",
        "outputId": "8fcac41c-0845-4f6f-e332-8dc3c2ac9539"
      },
      "source": [
        "study_loaded.optimize(optimization_function, n_trials=1)"
      ],
      "execution_count": null,
      "outputs": [
        {
          "output_type": "stream",
          "text": [
            "\u001b[32m[I 2021-07-25 05:05:18,940]\u001b[0m Trial 11 finished with value: -0.7283893662163387 and parameters: {'criterion': 'gini', 'n_estimators': 49, 'max_depth': 46, 'max_features': 0.8217330839743342}. Best is trial 6 with value: -0.7286886748399951.\u001b[0m\n"
          ],
          "name": "stderr"
        }
      ]
    },
    {
      "cell_type": "code",
      "metadata": {
        "colab": {
          "base_uri": "https://localhost:8080/"
        },
        "id": "tkUIBafeEEUP",
        "outputId": "6b6a6fb9-3d0d-4f49-c8b0-f5758b9bbfc0"
      },
      "source": [
        "study_loaded.best_params"
      ],
      "execution_count": null,
      "outputs": [
        {
          "output_type": "execute_result",
          "data": {
            "text/plain": [
              "{'criterion': 'gini',\n",
              " 'max_depth': 45,\n",
              " 'max_features': 0.6208355802503962,\n",
              " 'n_estimators': 41}"
            ]
          },
          "metadata": {
            "tags": []
          },
          "execution_count": 28
        }
      ]
    }
  ]
}