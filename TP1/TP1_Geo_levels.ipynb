{
  "nbformat": 4,
  "nbformat_minor": 0,
  "metadata": {
    "colab": {
      "name": "TP1_Geo_levels.ipynb",
      "provenance": [],
      "collapsed_sections": []
    },
    "kernelspec": {
      "name": "python3",
      "display_name": "Python 3"
    },
    "language_info": {
      "name": "python"
    }
  },
  "cells": [
    {
      "cell_type": "code",
      "metadata": {
        "id": "ev505pROafuk"
      },
      "source": [
        "import pandas as pd\n",
        "import numpy as np\n",
        "import matplotlib.pyplot as plt\n",
        "from matplotlib.ticker import FuncFormatter\n",
        "%matplotlib inline\n",
        "import seaborn as sns"
      ],
      "execution_count": 27,
      "outputs": []
    },
    {
      "cell_type": "code",
      "metadata": {
        "colab": {
          "base_uri": "https://localhost:8080/"
        },
        "id": "qrKnN3Tyx3xJ",
        "outputId": "606e30a2-aa7f-41bd-e7ca-ebee86dd4584"
      },
      "source": [
        "from google.colab import drive\n",
        "drive.mount('/content/drive')"
      ],
      "execution_count": 2,
      "outputs": [
        {
          "output_type": "stream",
          "text": [
            "Mounted at /content/drive\n"
          ],
          "name": "stdout"
        }
      ]
    },
    {
      "cell_type": "code",
      "metadata": {
        "id": "OGnE0C1fyLoz"
      },
      "source": [
        "values = pd.read_csv('/content/drive/MyDrive/train_values.csv')\n",
        "\n",
        "labelsdf = pd.read_csv('/content/drive/MyDrive/train_labels.csv')"
      ],
      "execution_count": 71,
      "outputs": []
    },
    {
      "cell_type": "code",
      "metadata": {
        "id": "OfmJKR7OFdJt"
      },
      "source": [
        "columns = ['land_surface_condition', 'foundation_type', 'roof_type', \\\n",
        "           'ground_floor_type', 'other_floor_type', 'position', 'plan_configuration', 'legal_ownership_status']"
      ],
      "execution_count": 4,
      "outputs": []
    },
    {
      "cell_type": "code",
      "metadata": {
        "id": "ys0mCNTzHtVa"
      },
      "source": [
        "for column in columns:\n",
        "  values[column] = values[column].astype('category')"
      ],
      "execution_count": 5,
      "outputs": []
    },
    {
      "cell_type": "code",
      "metadata": {
        "colab": {
          "base_uri": "https://localhost:8080/",
          "height": 282
        },
        "id": "4wJApS3i6bUD",
        "outputId": "21731f43-f462-4e7d-9534-a3d4522e0bd1"
      },
      "source": [
        "data_frame = labels.groupby('damage_grade').count().rename(columns = {'building_id' : 'cantidad_hogares'}).reset_index()\n",
        "plt.bar(data_frame['damage_grade'], data_frame['cantidad_hogares'], color = ['lawngreen', 'dodgerblue', 'orangered'])"
      ],
      "execution_count": null,
      "outputs": [
        {
          "output_type": "execute_result",
          "data": {
            "text/plain": [
              "<BarContainer object of 3 artists>"
            ]
          },
          "metadata": {
            "tags": []
          },
          "execution_count": 81
        },
        {
          "output_type": "display_data",
          "data": {
            "image/png": "[encoded data removed]",
            "text/plain": [
              "<Figure size 432x288 with 1 Axes>"
            ]
          },
          "metadata": {
            "tags": [],
            "needs_background": "light"
          }
        }
      ]
    },
    {
      "cell_type": "markdown",
      "metadata": {
        "id": "qK9mrsylu5It"
      },
      "source": [
        "**Región general con más viviendas**"
      ]
    },
    {
      "cell_type": "code",
      "metadata": {
        "colab": {
          "base_uri": "https://localhost:8080/",
          "height": 235
        },
        "id": "rhddmwZbskvA",
        "outputId": "1023f2c9-6abb-4594-d5b5-eebac07655a9"
      },
      "source": [
        "geo1_damage.groupby('geo_level_1_id').agg({'building_id' : 'count'}).rename(columns = {'building_id' : 'cantidad_hogares'})\\\n",
        "      .nlargest(5, 'cantidad_hogares')"
      ],
      "execution_count": null,
      "outputs": [
        {
          "output_type": "execute_result",
          "data": {
            "text/html": [
              "<div>\n",
              "<style scoped>\n",
              "    .dataframe tbody tr th:only-of-type {\n",
              "        vertical-align: middle;\n",
              "    }\n",
              "\n",
              "    .dataframe tbody tr th {\n",
              "        vertical-align: top;\n",
              "    }\n",
              "\n",
              "    .dataframe thead th {\n",
              "        text-align: right;\n",
              "    }\n",
              "</style>\n",
              "<table border=\"1\" class=\"dataframe\">\n",
              "  <thead>\n",
              "    <tr style=\"text-align: right;\">\n",
              "      <th></th>\n",
              "      <th>cantidad_hogares</th>\n",
              "    </tr>\n",
              "    <tr>\n",
              "      <th>geo_level_1_id</th>\n",
              "      <th></th>\n",
              "    </tr>\n",
              "  </thead>\n",
              "  <tbody>\n",
              "    <tr>\n",
              "      <th>6</th>\n",
              "      <td>24381</td>\n",
              "    </tr>\n",
              "    <tr>\n",
              "      <th>26</th>\n",
              "      <td>22615</td>\n",
              "    </tr>\n",
              "    <tr>\n",
              "      <th>10</th>\n",
              "      <td>22079</td>\n",
              "    </tr>\n",
              "    <tr>\n",
              "      <th>17</th>\n",
              "      <td>21813</td>\n",
              "    </tr>\n",
              "    <tr>\n",
              "      <th>8</th>\n",
              "      <td>19080</td>\n",
              "    </tr>\n",
              "  </tbody>\n",
              "</table>\n",
              "</div>"
            ],
            "text/plain": [
              "                cantidad_hogares\n",
              "geo_level_1_id                  \n",
              "6                          24381\n",
              "26                         22615\n",
              "10                         22079\n",
              "17                         21813\n",
              "8                          19080"
            ]
          },
          "metadata": {
            "tags": []
          },
          "execution_count": 37
        }
      ]
    },
    {
      "cell_type": "code",
      "metadata": {
        "colab": {
          "base_uri": "https://localhost:8080/",
          "height": 173
        },
        "id": "yGkZ6ATfulKp",
        "outputId": "477c1120-709f-44ef-e985-8c59f13f760c"
      },
      "source": [
        "geo1 = values.loc[:, ['building_id', 'geo_level_1_id']]\n",
        "geo1_damage = geo1.merge(labels)\n",
        "\n",
        "df = geo1_damage.groupby(['geo_level_1_id', 'damage_grade']).agg({'building_id' : 'count'}).rename(columns = {'building_id' : 'cantidad_hogares'})\n",
        "df.iloc[[18,19,20], :]"
      ],
      "execution_count": null,
      "outputs": [
        {
          "output_type": "execute_result",
          "data": {
            "text/html": [
              "<div>\n",
              "<style scoped>\n",
              "    .dataframe tbody tr th:only-of-type {\n",
              "        vertical-align: middle;\n",
              "    }\n",
              "\n",
              "    .dataframe tbody tr th {\n",
              "        vertical-align: top;\n",
              "    }\n",
              "\n",
              "    .dataframe thead th {\n",
              "        text-align: right;\n",
              "    }\n",
              "</style>\n",
              "<table border=\"1\" class=\"dataframe\">\n",
              "  <thead>\n",
              "    <tr style=\"text-align: right;\">\n",
              "      <th></th>\n",
              "      <th></th>\n",
              "      <th>cantidad_hogares</th>\n",
              "    </tr>\n",
              "    <tr>\n",
              "      <th>geo_level_1_id</th>\n",
              "      <th>damage_grade</th>\n",
              "      <th></th>\n",
              "    </tr>\n",
              "  </thead>\n",
              "  <tbody>\n",
              "    <tr>\n",
              "      <th rowspan=\"3\" valign=\"top\">6</th>\n",
              "      <th>1</th>\n",
              "      <td>2108</td>\n",
              "    </tr>\n",
              "    <tr>\n",
              "      <th>2</th>\n",
              "      <td>16222</td>\n",
              "    </tr>\n",
              "    <tr>\n",
              "      <th>3</th>\n",
              "      <td>6051</td>\n",
              "    </tr>\n",
              "  </tbody>\n",
              "</table>\n",
              "</div>"
            ],
            "text/plain": [
              "                             cantidad_hogares\n",
              "geo_level_1_id damage_grade                  \n",
              "6              1                         2108\n",
              "               2                        16222\n",
              "               3                         6051"
            ]
          },
          "metadata": {
            "tags": []
          },
          "execution_count": 16
        }
      ]
    },
    {
      "cell_type": "markdown",
      "metadata": {
        "id": "Z1gXuQHkvIDU"
      },
      "source": [
        "De las 31 regiones generales según el geo_level_1_id, la que más viviendas posee es la región número 6 con 24381 viviendas. En dicha región, el 66.5 % de éstas sufrieron daños de nivel 2."
      ]
    },
    {
      "cell_type": "markdown",
      "metadata": {
        "id": "Yd7Pdtx74Owr"
      },
      "source": [
        "**Regiones generales con mayor cantidad de viviendas que sufrieron daños serios**"
      ]
    },
    {
      "cell_type": "code",
      "metadata": {
        "colab": {
          "base_uri": "https://localhost:8080/",
          "height": 370
        },
        "id": "1uMmS6XewgLF",
        "outputId": "3bf7e0dd-8f45-4b34-8fd1-bd7764dc6803"
      },
      "source": [
        "df.unstack().plot(kind = 'bar', figsize = (15,5), color = ['lawngreen', 'dodgerblue', 'orangered'], \\\n",
        "                   title = 'Cantidad de hogares afectados según su región geográfica general y su daño')\n",
        "plt.ylabel('cantidad de hogares')"
      ],
      "execution_count": null,
      "outputs": [
        {
          "output_type": "execute_result",
          "data": {
            "text/plain": [
              "Text(0, 0.5, 'cantidad de hogares')"
            ]
          },
          "metadata": {
            "tags": []
          },
          "execution_count": 17
        },
        {
          "output_type": "display_data",
          "data": {
            "image/png": "[encoded data removed]",
            "text/plain": [
              "<Figure size 1080x360 with 1 Axes>"
            ]
          },
          "metadata": {
            "tags": [],
            "needs_background": "light"
          }
        }
      ]
    },
    {
      "cell_type": "code",
      "metadata": {
        "colab": {
          "base_uri": "https://localhost:8080/",
          "height": 545
        },
        "id": "_byVqVioCVMQ",
        "outputId": "19f382c5-4ffa-409c-efae-9e1f25486dd2"
      },
      "source": [
        "df_short = df3.iloc[[24,25,26,51,52,53,54,55,56,63,64,65,81,82,83], :]\n",
        "df_short"
      ],
      "execution_count": null,
      "outputs": [
        {
          "output_type": "execute_result",
          "data": {
            "text/html": [
              "<div>\n",
              "<style scoped>\n",
              "    .dataframe tbody tr th:only-of-type {\n",
              "        vertical-align: middle;\n",
              "    }\n",
              "\n",
              "    .dataframe tbody tr th {\n",
              "        vertical-align: top;\n",
              "    }\n",
              "\n",
              "    .dataframe thead th {\n",
              "        text-align: right;\n",
              "    }\n",
              "</style>\n",
              "<table border=\"1\" class=\"dataframe\">\n",
              "  <thead>\n",
              "    <tr style=\"text-align: right;\">\n",
              "      <th></th>\n",
              "      <th></th>\n",
              "      <th>cantidad_hogares</th>\n",
              "    </tr>\n",
              "    <tr>\n",
              "      <th>geo_level_1_id</th>\n",
              "      <th>damage_grade</th>\n",
              "      <th></th>\n",
              "    </tr>\n",
              "  </thead>\n",
              "  <tbody>\n",
              "    <tr>\n",
              "      <th rowspan=\"3\" valign=\"top\">8</th>\n",
              "      <th>1</th>\n",
              "      <td>654</td>\n",
              "    </tr>\n",
              "    <tr>\n",
              "      <th>2</th>\n",
              "      <td>8513</td>\n",
              "    </tr>\n",
              "    <tr>\n",
              "      <th>3</th>\n",
              "      <td>9913</td>\n",
              "    </tr>\n",
              "    <tr>\n",
              "      <th rowspan=\"3\" valign=\"top\">17</th>\n",
              "      <th>1</th>\n",
              "      <td>285</td>\n",
              "    </tr>\n",
              "    <tr>\n",
              "      <th>2</th>\n",
              "      <td>3913</td>\n",
              "    </tr>\n",
              "    <tr>\n",
              "      <th>3</th>\n",
              "      <td>17615</td>\n",
              "    </tr>\n",
              "    <tr>\n",
              "      <th rowspan=\"3\" valign=\"top\">18</th>\n",
              "      <th>1</th>\n",
              "      <td>72</td>\n",
              "    </tr>\n",
              "    <tr>\n",
              "      <th>2</th>\n",
              "      <td>786</td>\n",
              "    </tr>\n",
              "    <tr>\n",
              "      <th>3</th>\n",
              "      <td>2331</td>\n",
              "    </tr>\n",
              "    <tr>\n",
              "      <th rowspan=\"3\" valign=\"top\">21</th>\n",
              "      <th>1</th>\n",
              "      <td>322</td>\n",
              "    </tr>\n",
              "    <tr>\n",
              "      <th>2</th>\n",
              "      <td>5857</td>\n",
              "    </tr>\n",
              "    <tr>\n",
              "      <th>3</th>\n",
              "      <td>8710</td>\n",
              "    </tr>\n",
              "    <tr>\n",
              "      <th rowspan=\"3\" valign=\"top\">27</th>\n",
              "      <th>1</th>\n",
              "      <td>465</td>\n",
              "    </tr>\n",
              "    <tr>\n",
              "      <th>2</th>\n",
              "      <td>6007</td>\n",
              "    </tr>\n",
              "    <tr>\n",
              "      <th>3</th>\n",
              "      <td>6060</td>\n",
              "    </tr>\n",
              "  </tbody>\n",
              "</table>\n",
              "</div>"
            ],
            "text/plain": [
              "                             cantidad_hogares\n",
              "geo_level_1_id damage_grade                  \n",
              "8              1                          654\n",
              "               2                         8513\n",
              "               3                         9913\n",
              "17             1                          285\n",
              "               2                         3913\n",
              "               3                        17615\n",
              "18             1                           72\n",
              "               2                          786\n",
              "               3                         2331\n",
              "21             1                          322\n",
              "               2                         5857\n",
              "               3                         8710\n",
              "27             1                          465\n",
              "               2                         6007\n",
              "               3                         6060"
            ]
          },
          "metadata": {
            "tags": []
          },
          "execution_count": 18
        }
      ]
    },
    {
      "cell_type": "code",
      "metadata": {
        "colab": {
          "base_uri": "https://localhost:8080/",
          "height": 264
        },
        "id": "5N_vSizocAWp",
        "outputId": "45b4c088-38c5-4f79-f0a1-3790a32361cd"
      },
      "source": [
        "array = [(17615*100)/21813, (3913*100)/21813, (285*100)/21813]\n",
        "names = ['daño serio 80.8 %', 'daño medio 17.9 % medio', 'daño bajo 1.3 %']\n",
        "plt.pie(array, labels = names, colors = ['orangered', 'dodgerblue', 'lawngreen'])\n",
        "plt.title('Porcentaje de viviendas de la región general 17 con su respectivo daño')\n",
        "plt.show()"
      ],
      "execution_count": null,
      "outputs": [
        {
          "output_type": "display_data",
          "data": {
            "image/png": "[encoded data removed]",
            "text/plain": [
              "<Figure size 432x288 with 1 Axes>"
            ]
          },
          "metadata": {
            "tags": []
          }
        }
      ]
    },
    {
      "cell_type": "markdown",
      "metadata": {
        "id": "PTkz-Vi-j9cT"
      },
      "source": [
        "En las regiones generales 8, 17, 18, 21 y 27 la mayoría de las viviendas sufrieron daños serios. La región 17 fue la más afectada por el terremoto con más del 80% de sus propiedades recibiendo daños de nivel 3."
      ]
    },
    {
      "cell_type": "markdown",
      "metadata": {
        "id": "X96hDXcnemIA"
      },
      "source": [
        "**Analizando las subregiones correspondientes a la región principal 17**"
      ]
    },
    {
      "cell_type": "code",
      "metadata": {
        "id": "p4tf2vMMj-iq"
      },
      "source": [
        "geo2_17 = values.loc[values['geo_level_1_id'] == 17, ['building_id', 'geo_level_2_id']]"
      ],
      "execution_count": null,
      "outputs": []
    },
    {
      "cell_type": "code",
      "metadata": {
        "id": "d2N8PHrNgqHY"
      },
      "source": [
        "geo2_17_damage = geo2_17.merge(labels)"
      ],
      "execution_count": null,
      "outputs": []
    },
    {
      "cell_type": "code",
      "metadata": {
        "colab": {
          "base_uri": "https://localhost:8080/",
          "height": 390
        },
        "id": "agYN63rcmMfo",
        "outputId": "524bc69b-62e0-4d16-facb-e94f342296c5"
      },
      "source": [
        "geo2_17_damage.groupby('geo_level_2_id').agg({'building_id' : 'count'}).rename(columns = {'building_id' : 'cantidad_hogares'})\\\n",
        "      .nlargest(10, 'cantidad_hogares')"
      ],
      "execution_count": null,
      "outputs": [
        {
          "output_type": "execute_result",
          "data": {
            "text/html": [
              "<div>\n",
              "<style scoped>\n",
              "    .dataframe tbody tr th:only-of-type {\n",
              "        vertical-align: middle;\n",
              "    }\n",
              "\n",
              "    .dataframe tbody tr th {\n",
              "        vertical-align: top;\n",
              "    }\n",
              "\n",
              "    .dataframe thead th {\n",
              "        text-align: right;\n",
              "    }\n",
              "</style>\n",
              "<table border=\"1\" class=\"dataframe\">\n",
              "  <thead>\n",
              "    <tr style=\"text-align: right;\">\n",
              "      <th></th>\n",
              "      <th>cantidad_hogares</th>\n",
              "    </tr>\n",
              "    <tr>\n",
              "      <th>geo_level_2_id</th>\n",
              "      <th></th>\n",
              "    </tr>\n",
              "  </thead>\n",
              "  <tbody>\n",
              "    <tr>\n",
              "      <th>1080</th>\n",
              "      <td>725</td>\n",
              "    </tr>\n",
              "    <tr>\n",
              "      <th>421</th>\n",
              "      <td>601</td>\n",
              "    </tr>\n",
              "    <tr>\n",
              "      <th>566</th>\n",
              "      <td>522</td>\n",
              "    </tr>\n",
              "    <tr>\n",
              "      <th>1149</th>\n",
              "      <td>499</td>\n",
              "    </tr>\n",
              "    <tr>\n",
              "      <th>233</th>\n",
              "      <td>490</td>\n",
              "    </tr>\n",
              "    <tr>\n",
              "      <th>399</th>\n",
              "      <td>422</td>\n",
              "    </tr>\n",
              "    <tr>\n",
              "      <th>1308</th>\n",
              "      <td>404</td>\n",
              "    </tr>\n",
              "    <tr>\n",
              "      <th>930</th>\n",
              "      <td>390</td>\n",
              "    </tr>\n",
              "    <tr>\n",
              "      <th>303</th>\n",
              "      <td>388</td>\n",
              "    </tr>\n",
              "    <tr>\n",
              "      <th>229</th>\n",
              "      <td>380</td>\n",
              "    </tr>\n",
              "  </tbody>\n",
              "</table>\n",
              "</div>"
            ],
            "text/plain": [
              "                cantidad_hogares\n",
              "geo_level_2_id                  \n",
              "1080                         725\n",
              "421                          601\n",
              "566                          522\n",
              "1149                         499\n",
              "233                          490\n",
              "399                          422\n",
              "1308                         404\n",
              "930                          390\n",
              "303                          388\n",
              "229                          380"
            ]
          },
          "metadata": {
            "tags": []
          },
          "execution_count": 44
        }
      ]
    },
    {
      "cell_type": "code",
      "metadata": {
        "colab": {
          "base_uri": "https://localhost:8080/",
          "height": 266
        },
        "id": "zGY1cfACtjsj",
        "outputId": "68733ac8-8293-4d92-9302-4871695eaf1d"
      },
      "source": [
        "geo2_17_damage.loc[(geo2_17_damage['geo_level_2_id'] == 1080) | (geo2_17_damage['geo_level_2_id'] == 1149), :]\\\n",
        "      .groupby(['geo_level_2_id', 'damage_grade']).agg({'building_id' : 'count'}).rename(columns = {'building_id' : 'cantidad_hogares'})"
      ],
      "execution_count": null,
      "outputs": [
        {
          "output_type": "execute_result",
          "data": {
            "text/html": [
              "<div>\n",
              "<style scoped>\n",
              "    .dataframe tbody tr th:only-of-type {\n",
              "        vertical-align: middle;\n",
              "    }\n",
              "\n",
              "    .dataframe tbody tr th {\n",
              "        vertical-align: top;\n",
              "    }\n",
              "\n",
              "    .dataframe thead th {\n",
              "        text-align: right;\n",
              "    }\n",
              "</style>\n",
              "<table border=\"1\" class=\"dataframe\">\n",
              "  <thead>\n",
              "    <tr style=\"text-align: right;\">\n",
              "      <th></th>\n",
              "      <th></th>\n",
              "      <th>cantidad_hogares</th>\n",
              "    </tr>\n",
              "    <tr>\n",
              "      <th>geo_level_2_id</th>\n",
              "      <th>damage_grade</th>\n",
              "      <th></th>\n",
              "    </tr>\n",
              "  </thead>\n",
              "  <tbody>\n",
              "    <tr>\n",
              "      <th rowspan=\"3\" valign=\"top\">1080</th>\n",
              "      <th>1</th>\n",
              "      <td>8</td>\n",
              "    </tr>\n",
              "    <tr>\n",
              "      <th>2</th>\n",
              "      <td>185</td>\n",
              "    </tr>\n",
              "    <tr>\n",
              "      <th>3</th>\n",
              "      <td>532</td>\n",
              "    </tr>\n",
              "    <tr>\n",
              "      <th rowspan=\"3\" valign=\"top\">1149</th>\n",
              "      <th>1</th>\n",
              "      <td>1</td>\n",
              "    </tr>\n",
              "    <tr>\n",
              "      <th>2</th>\n",
              "      <td>21</td>\n",
              "    </tr>\n",
              "    <tr>\n",
              "      <th>3</th>\n",
              "      <td>477</td>\n",
              "    </tr>\n",
              "  </tbody>\n",
              "</table>\n",
              "</div>"
            ],
            "text/plain": [
              "                             cantidad_hogares\n",
              "geo_level_2_id damage_grade                  \n",
              "1080           1                            8\n",
              "               2                          185\n",
              "               3                          532\n",
              "1149           1                            1\n",
              "               2                           21\n",
              "               3                          477"
            ]
          },
          "metadata": {
            "tags": []
          },
          "execution_count": 63
        }
      ]
    },
    {
      "cell_type": "markdown",
      "metadata": {
        "id": "xkLk2SoyqXTZ"
      },
      "source": [
        "Dentro de la región general con geo_level_1_id 17 se encuentran 79 subregiones identificadas por el geo_level_2_id. Entre éstas, la identificada por el número 1080 es la que más viviendas posee con 725. El 73.4 % de sus viviendas sufrieron daños de nivel 3. Por otro lado, el 95.6 % de los hogares pertenecientes a la subregión 1149 sufrieron daños serios. "
      ]
    },
    {
      "cell_type": "code",
      "metadata": {
        "colab": {
          "base_uri": "https://localhost:8080/",
          "height": 383
        },
        "id": "_9QdsWR4iyDu",
        "outputId": "21fad550-e683-49ad-b30f-4bce1c6636b4"
      },
      "source": [
        "df2 = geo2_17_damage.loc[(geo2_17_damage['geo_level_2_id'] == 1080) | (geo2_17_damage['geo_level_2_id'] == 566) \\\n",
        "                   | (geo2_17_damage['geo_level_2_id'] == 1149) | (geo2_17_damage['geo_level_2_id'] == 233) | (geo2_17_damage['geo_level_2_id'] == 399) \\\n",
        "                   | (geo2_17_damage['geo_level_2_id'] == 1308) | (geo2_17_damage['geo_level_2_id'] == 930) | (geo2_17_damage['geo_level_2_id'] == 303) \\\n",
        "                   | (geo2_17_damage['geo_level_2_id'] == 229), :]\n",
        "\n",
        "df2.groupby(['geo_level_2_id', 'damage_grade']).agg({'building_id' : 'count'}).rename(columns = {'building_id' : 'cantidad_hogares'})\\\n",
        "      .unstack().plot(kind = 'bar', figsize = (15,5), color = ['lawngreen', 'dodgerblue', 'orangered'], \\\n",
        "                   title = '10 subregiones con mayor número de hogares dentro la región general 17 y su daño')\n",
        "plt.ylabel('cantidad de hogares')"
      ],
      "execution_count": null,
      "outputs": [
        {
          "output_type": "execute_result",
          "data": {
            "text/plain": [
              "Text(0, 0.5, 'cantidad de hogares')"
            ]
          },
          "metadata": {
            "tags": []
          },
          "execution_count": 60
        },
        {
          "output_type": "display_data",
          "data": {
            "image/png": "[encoded data removed]",
            "text/plain": [
              "<Figure size 1080x360 with 1 Axes>"
            ]
          },
          "metadata": {
            "tags": [],
            "needs_background": "light"
          }
        }
      ]
    },
    {
      "cell_type": "markdown",
      "metadata": {
        "id": "ZaofRUDg5vM2"
      },
      "source": [
        "Ya que más del 80 % de las viviendas en la región geográfica con geo_level_1_id 17 sufrieron daños serios, no es inesperado que en sus 10 subregiones (geo_level_2_id) con mayor número de hogares, la mayoría de estos recibieran daños de nivel 3."
      ]
    },
    {
      "cell_type": "markdown",
      "metadata": {
        "id": "Wa8zMiC0_NEi"
      },
      "source": [
        "**Análisis de la Cantidad de familias que habitaban las viviendas**"
      ]
    },
    {
      "cell_type": "markdown",
      "metadata": {
        "id": "OyYIOGiHiPL_"
      },
      "source": [
        "Cantidad de familias que habitaban las viviendas"
      ]
    },
    {
      "cell_type": "code",
      "metadata": {
        "id": "cllnfNM-_TL4",
        "colab": {
          "base_uri": "https://localhost:8080/",
          "height": 390
        },
        "outputId": "5487bd8e-c6a6-41f1-a4d2-8ce4987758b7"
      },
      "source": [
        "familias = values.loc[:, ['building_id', 'count_families']].rename(columns = {'count_families' : 'cantidad_familias'})\n",
        "familias_cantidad = familias.groupby('cantidad_familias').count()\\\n",
        "      .rename(columns = {'building_id' : 'cantidad_viviendas'})\n",
        "\n",
        "familias_cantidad"
      ],
      "execution_count": 66,
      "outputs": [
        {
          "output_type": "execute_result",
          "data": {
            "text/html": [
              "<div>\n",
              "<style scoped>\n",
              "    .dataframe tbody tr th:only-of-type {\n",
              "        vertical-align: middle;\n",
              "    }\n",
              "\n",
              "    .dataframe tbody tr th {\n",
              "        vertical-align: top;\n",
              "    }\n",
              "\n",
              "    .dataframe thead th {\n",
              "        text-align: right;\n",
              "    }\n",
              "</style>\n",
              "<table border=\"1\" class=\"dataframe\">\n",
              "  <thead>\n",
              "    <tr style=\"text-align: right;\">\n",
              "      <th></th>\n",
              "      <th>cantidad_viviendas</th>\n",
              "    </tr>\n",
              "    <tr>\n",
              "      <th>cantidad_familias</th>\n",
              "      <th></th>\n",
              "    </tr>\n",
              "  </thead>\n",
              "  <tbody>\n",
              "    <tr>\n",
              "      <th>0</th>\n",
              "      <td>20862</td>\n",
              "    </tr>\n",
              "    <tr>\n",
              "      <th>1</th>\n",
              "      <td>226115</td>\n",
              "    </tr>\n",
              "    <tr>\n",
              "      <th>2</th>\n",
              "      <td>11294</td>\n",
              "    </tr>\n",
              "    <tr>\n",
              "      <th>3</th>\n",
              "      <td>1802</td>\n",
              "    </tr>\n",
              "    <tr>\n",
              "      <th>4</th>\n",
              "      <td>389</td>\n",
              "    </tr>\n",
              "    <tr>\n",
              "      <th>5</th>\n",
              "      <td>104</td>\n",
              "    </tr>\n",
              "    <tr>\n",
              "      <th>6</th>\n",
              "      <td>22</td>\n",
              "    </tr>\n",
              "    <tr>\n",
              "      <th>7</th>\n",
              "      <td>7</td>\n",
              "    </tr>\n",
              "    <tr>\n",
              "      <th>8</th>\n",
              "      <td>2</td>\n",
              "    </tr>\n",
              "    <tr>\n",
              "      <th>9</th>\n",
              "      <td>4</td>\n",
              "    </tr>\n",
              "  </tbody>\n",
              "</table>\n",
              "</div>"
            ],
            "text/plain": [
              "                   cantidad_viviendas\n",
              "cantidad_familias                    \n",
              "0                               20862\n",
              "1                              226115\n",
              "2                               11294\n",
              "3                                1802\n",
              "4                                 389\n",
              "5                                 104\n",
              "6                                  22\n",
              "7                                   7\n",
              "8                                   2\n",
              "9                                   4"
            ]
          },
          "metadata": {
            "tags": []
          },
          "execution_count": 66
        }
      ]
    },
    {
      "cell_type": "markdown",
      "metadata": {
        "id": "rmptVAP9lVyZ"
      },
      "source": [
        "**Plot**"
      ]
    },
    {
      "cell_type": "code",
      "metadata": {
        "colab": {
          "base_uri": "https://localhost:8080/",
          "height": 540
        },
        "id": "yqzxt_mXlXmG",
        "outputId": "6c49b343-659f-4d05-a1bf-bc1b3fa39471"
      },
      "source": [
        "fig, ax = plt.subplots(figsize = (15,8))\n",
        "\n",
        "x = np.arange(len(familias_cantidad))\n",
        "width = 0.8\n",
        "\n",
        "plot = ax.barh(x, familias_cantidad['cantidad_viviendas'], width, color = 'brown', edgecolor = 'maroon')\n",
        "\n",
        "ax.set_title('Número de familias que habitaban las viviendas', fontsize = 25)\n",
        "ax.set_xlabel('Cantidad de viviendas', fontsize = 20)\n",
        "ax.set_ylabel('Número de familias', fontsize = 20)\n",
        "ax.set_yticks(x)\n",
        "ax.set_yticklabels(familias_cantidad.index)\n",
        "\n",
        "plt.xticks(fontsize = 17)\n",
        "plt.yticks(fontsize = 17)\n",
        "\n",
        "plt.grid(axis = 'x', linewidth = 2, color = 'lightgray')\n",
        "\n",
        "'''plt.bar_label(plot, labels = familias_cantidad['cantidad_viviendas'], padding = 1, \\\n",
        "             label_type = 'edge', color = 'black', fontsize = 14, \\\n",
        "             fontweight = 'bold', rotation = 0, alpha = 0.7)'''\n",
        "\n",
        "plt.show()"
      ],
      "execution_count": 35,
      "outputs": [
        {
          "output_type": "display_data",
          "data": {
            "image/png": "[encoded data removed]",
            "text/plain": [
              "<Figure size 1080x576 with 1 Axes>"
            ]
          },
          "metadata": {
            "tags": [],
            "needs_background": "light"
          }
        }
      ]
    },
    {
      "cell_type": "code",
      "metadata": {
        "colab": {
          "base_uri": "https://localhost:8080/",
          "height": 213
        },
        "id": "myUtwftvxai8",
        "outputId": "b3f66f84-9c86-44da-e337-47e30c152655"
      },
      "source": [
        "# viviendas con dos o más familias viviendo allí\n",
        "familias2Mas = familias.loc[familias['cantidad_familias'] > 1, :]\n",
        "familias2Mas['cantidad_familias'] = '2 o mas'\n",
        "familias2Mas.groupby('cantidad_familias').count().rename(columns = {'building_id' : 'viviendas'})"
      ],
      "execution_count": 59,
      "outputs": [
        {
          "output_type": "stream",
          "text": [
            "/usr/local/lib/python3.7/dist-packages/ipykernel_launcher.py:3: SettingWithCopyWarning: \n",
            "A value is trying to be set on a copy of a slice from a DataFrame.\n",
            "Try using .loc[row_indexer,col_indexer] = value instead\n",
            "\n",
            "See the caveats in the documentation: https://pandas.pydata.org/pandas-docs/stable/user_guide/indexing.html#returning-a-view-versus-a-copy\n",
            "  This is separate from the ipykernel package so we can avoid doing imports until\n"
          ],
          "name": "stderr"
        },
        {
          "output_type": "execute_result",
          "data": {
            "text/html": [
              "<div>\n",
              "<style scoped>\n",
              "    .dataframe tbody tr th:only-of-type {\n",
              "        vertical-align: middle;\n",
              "    }\n",
              "\n",
              "    .dataframe tbody tr th {\n",
              "        vertical-align: top;\n",
              "    }\n",
              "\n",
              "    .dataframe thead th {\n",
              "        text-align: right;\n",
              "    }\n",
              "</style>\n",
              "<table border=\"1\" class=\"dataframe\">\n",
              "  <thead>\n",
              "    <tr style=\"text-align: right;\">\n",
              "      <th></th>\n",
              "      <th>viviendas</th>\n",
              "    </tr>\n",
              "    <tr>\n",
              "      <th>cantidad_familias</th>\n",
              "      <th></th>\n",
              "    </tr>\n",
              "  </thead>\n",
              "  <tbody>\n",
              "    <tr>\n",
              "      <th>2 o mas</th>\n",
              "      <td>13624</td>\n",
              "    </tr>\n",
              "  </tbody>\n",
              "</table>\n",
              "</div>"
            ],
            "text/plain": [
              "                   viviendas\n",
              "cantidad_familias           \n",
              "2 o mas                13624"
            ]
          },
          "metadata": {
            "tags": []
          },
          "execution_count": 59
        }
      ]
    },
    {
      "cell_type": "code",
      "metadata": {
        "colab": {
          "base_uri": "https://localhost:8080/",
          "height": 142
        },
        "id": "b7ojmKDs2z77",
        "outputId": "c4de79bf-2326-443c-e2c8-6d861e953cfe"
      },
      "source": [
        "# viviendas con 0 o 1 familia viviendo allí\n",
        "familias01 = familias.loc[familias['cantidad_familias'] <= 1, :]\n",
        "familias01.groupby('cantidad_familias').count().rename(columns = {'building_id' : 'viviendas'})"
      ],
      "execution_count": 60,
      "outputs": [
        {
          "output_type": "execute_result",
          "data": {
            "text/html": [
              "<div>\n",
              "<style scoped>\n",
              "    .dataframe tbody tr th:only-of-type {\n",
              "        vertical-align: middle;\n",
              "    }\n",
              "\n",
              "    .dataframe tbody tr th {\n",
              "        vertical-align: top;\n",
              "    }\n",
              "\n",
              "    .dataframe thead th {\n",
              "        text-align: right;\n",
              "    }\n",
              "</style>\n",
              "<table border=\"1\" class=\"dataframe\">\n",
              "  <thead>\n",
              "    <tr style=\"text-align: right;\">\n",
              "      <th></th>\n",
              "      <th>viviendas</th>\n",
              "    </tr>\n",
              "    <tr>\n",
              "      <th>cantidad_familias</th>\n",
              "      <th></th>\n",
              "    </tr>\n",
              "  </thead>\n",
              "  <tbody>\n",
              "    <tr>\n",
              "      <th>0</th>\n",
              "      <td>20862</td>\n",
              "    </tr>\n",
              "    <tr>\n",
              "      <th>1</th>\n",
              "      <td>226115</td>\n",
              "    </tr>\n",
              "  </tbody>\n",
              "</table>\n",
              "</div>"
            ],
            "text/plain": [
              "                   viviendas\n",
              "cantidad_familias           \n",
              "0                      20862\n",
              "1                     226115"
            ]
          },
          "metadata": {
            "tags": []
          },
          "execution_count": 60
        }
      ]
    },
    {
      "cell_type": "markdown",
      "metadata": {
        "id": "o5u5E7jl5mAq"
      },
      "source": [
        "En el 86.8 % de las viviendas vivía una sola familia. El 8.0 % de las viviendas estaba habitada por gente viviendo sola, y el 5.2 % tenían que ser compartidas por dos o más familias."
      ]
    },
    {
      "cell_type": "markdown",
      "metadata": {
        "id": "mNaRJOsi70J6"
      },
      "source": [
        "**Relación entre el número de familias que habitaban una vivienda y el daño que sufrió ésta**"
      ]
    },
    {
      "cell_type": "code",
      "metadata": {
        "id": "p-9tBRJJBY6Z"
      },
      "source": [
        "familias_damage = familias.merge(labelsdf)"
      ],
      "execution_count": 73,
      "outputs": []
    },
    {
      "cell_type": "code",
      "metadata": {
        "colab": {
          "base_uri": "https://localhost:8080/",
          "height": 348
        },
        "id": "PzXJRGPuBhQe",
        "outputId": "fbd603c5-8203-4ae3-8819-ec02275ba72d"
      },
      "source": [
        "familias_damage.groupby(['cantidad_familias', 'damage_grade']).agg({'building_id' : 'count'}).rename(columns = {'building_id' : 'cantidad_hogares'})\\\n",
        "      .unstack().plot(kind = 'bar', color = ['lawngreen', 'dodgerblue', 'orangered'], figsize = (15,5))"
      ],
      "execution_count": 74,
      "outputs": [
        {
          "output_type": "execute_result",
          "data": {
            "text/plain": [
              "<matplotlib.axes._subplots.AxesSubplot at 0x7f2ac2d7c550>"
            ]
          },
          "metadata": {
            "tags": []
          },
          "execution_count": 74
        },
        {
          "output_type": "display_data",
          "data": {
            "image/png": "[encoded data removed]",
            "text/plain": [
              "<Figure size 1080x360 with 1 Axes>"
            ]
          },
          "metadata": {
            "tags": [],
            "needs_background": "light"
          }
        }
      ]
    }
  ]
}