{
 "cells": [
  {
   "cell_type": "markdown",
   "id": "71ab4851",
   "metadata": {},
   "source": [
    "# Carga de librerías y directorios"
   ]
  },
  {
   "cell_type": "code",
   "execution_count": 2,
   "id": "8b740855",
   "metadata": {},
   "outputs": [],
   "source": [
    "import pandas as pd\n",
    "import numpy as np\n",
    "\n",
    "# Métrica de evaluación\n",
    "from sklearn.metrics import f1_score\n",
    "# fold_score = f1_score(y_test, prediction, average='micro')\n",
    "# Se especifica average por tener un target multiclase\n",
    "\n",
    "# Clasificador LightGBM\n",
    "from lightgbm import LGBMClassifier\n",
    "\n",
    "# Para la división en k-folds\n",
    "from sklearn.model_selection import KFold\n",
    "\n",
    "# Para pasar parámetros varias veces a una función\n",
    "from functools import partial\n",
    "\n",
    "# Optuna\n",
    "import optuna\n",
    "\n",
    "# Librería para guardar los Trials.\n",
    "import joblib\n",
    "\n",
    "# Función para cambiar tipos de datos\n",
    "from resources.utilidades import cambio_tipos"
   ]
  },
  {
   "cell_type": "markdown",
   "id": "2bc25f4f",
   "metadata": {},
   "source": [
    "# Rutas de los archivos a usar"
   ]
  },
  {
   "cell_type": "code",
   "execution_count": 3,
   "id": "0dfb73bd",
   "metadata": {},
   "outputs": [],
   "source": [
    "# Ruta train_values.csv\n",
    "dir_values = 'data/train_values.csv'\n",
    "# Ruta train_labels.csv\n",
    "dir_labels = 'data/train_labels.csv'\n",
    "# Ruta de Binary Encodings para train_values.csv\n",
    "dir_resources = 'resources'"
   ]
  },
  {
   "cell_type": "markdown",
   "id": "2aaa842b",
   "metadata": {},
   "source": [
    "# Train set"
   ]
  },
  {
   "cell_type": "code",
   "execution_count": 4,
   "id": "c77f5c7a",
   "metadata": {},
   "outputs": [],
   "source": [
    "columnas = ['building_id',\n",
    " 'geo_level_1_id',\n",
    " 'geo_level_2_id',\n",
    " 'geo_level_3_id',\n",
    " 'count_floors_pre_eq',\n",
    " 'age',\n",
    " 'area_percentage',\n",
    " 'height_percentage',\n",
    " 'has_superstructure_adobe_mud',\n",
    " 'has_superstructure_mud_mortar_stone',\n",
    " 'has_superstructure_stone_flag',\n",
    " 'has_superstructure_cement_mortar_stone',\n",
    " 'has_superstructure_mud_mortar_brick',\n",
    " 'has_superstructure_cement_mortar_brick',\n",
    " 'has_superstructure_timber',\n",
    " 'has_superstructure_bamboo',\n",
    " 'has_superstructure_rc_non_engineered',\n",
    " 'has_superstructure_rc_engineered',\n",
    " 'has_superstructure_other',\n",
    " 'count_families',\n",
    " 'has_secondary_use',\n",
    " 'has_secondary_use_agriculture',\n",
    " 'has_secondary_use_hotel',\n",
    " 'has_secondary_use_rental',\n",
    " 'has_secondary_use_institution',\n",
    " 'has_secondary_use_school',\n",
    " 'has_secondary_use_industry',\n",
    " 'has_secondary_use_health_post',\n",
    " 'has_secondary_use_gov_office',\n",
    " 'has_secondary_use_use_police',\n",
    " 'has_secondary_use_other']\n",
    "\n",
    "# Carga de train_values.csv\n",
    "train = pd.read_csv(dir_values, usecols=columnas)"
   ]
  },
  {
   "cell_type": "markdown",
   "id": "88fc38e4",
   "metadata": {},
   "source": [
    "### Cambio de tipos de datos"
   ]
  },
  {
   "cell_type": "code",
   "execution_count": 5,
   "id": "c9976af7",
   "metadata": {},
   "outputs": [],
   "source": [
    "train = cambio_tipos(train)"
   ]
  },
  {
   "cell_type": "markdown",
   "id": "4d6c60b7",
   "metadata": {},
   "source": [
    "### Carga de columnas codificadas: One Hot Encoding"
   ]
  },
  {
   "cell_type": "code",
   "execution_count": 6,
   "id": "69ae2c1b",
   "metadata": {},
   "outputs": [],
   "source": [
    "# 38 columnas más\n",
    "train = train.join(pd.read_csv(dir_resources+f'/OHE_train.csv', dtype='uint8'))"
   ]
  },
  {
   "cell_type": "markdown",
   "id": "959ac632",
   "metadata": {},
   "source": [
    "### Se quitan columnas"
   ]
  },
  {
   "cell_type": "code",
   "execution_count": 7,
   "id": "4b02da14",
   "metadata": {},
   "outputs": [],
   "source": [
    "# Se le quitan columnas\n",
    "to_drop = ['building_id', 'has_secondary_use_school', 'has_secondary_use_health_post',  \\\n",
    "           'has_secondary_use_gov_office',  'has_secondary_use_use_police',  \\\n",
    "           'C_a', 'C_f', 'C_m', 'C_n', 'C_o']\n",
    "train = train.drop(columns=to_drop)\n",
    "\n",
    "# Valores del data set\n",
    "X = train.values"
   ]
  },
  {
   "cell_type": "markdown",
   "id": "1e1728cb",
   "metadata": {},
   "source": [
    "### Carga de labels"
   ]
  },
  {
   "cell_type": "code",
   "execution_count": 10,
   "id": "4b9bae29",
   "metadata": {},
   "outputs": [],
   "source": [
    "# Carga de train_labels.csv\n",
    "labels = pd.read_csv(dir_labels, usecols=['damage_grade'], dtype='uint8')\n",
    "\n",
    "# Valores del data set\n",
    "y = labels.damage_grade.values"
   ]
  },
  {
   "cell_type": "markdown",
   "id": "adfc3724",
   "metadata": {},
   "source": [
    "Parámetros iniciales\n",
    "```\n",
    "    num_leaves = trial.suggest_int('num_leaves', 30, 200, 10)\n",
    "    n_estimators = trial.suggest_int('n_estimators', 400, 1300, 50)\n",
    "    max_depth = trial.suggest_int('max_depth', 20, 100, 5)\n",
    "    learning_rate = trial.suggest_uniform('learning_rate', 0.05, 0.5)\n",
    "```\n",
    "Para nuevos `studio`, recordar revisar el número de splits por si se quiere cambiar.\n",
    "```\n",
    "    kf = KFold(n_splits=  números de splits  )\n",
    "```"
   ]
  },
  {
   "cell_type": "code",
   "execution_count": 11,
   "id": "0db5b138",
   "metadata": {},
   "outputs": [],
   "source": [
    "# trial: \n",
    "# x: features\n",
    "# y: target\n",
    "\n",
    "def optimize(trial, x, y):\n",
    "    # Se define el espacio de parámetros\n",
    "    num_leaves = trial.suggest_int('num_leaves', 30, 200, 10)\n",
    "    n_estimators = trial.suggest_int('n_estimators', 400, 1300, 50)\n",
    "    max_depth = trial.suggest_int('max_depth', 20, 100, 5)\n",
    "    learning_rate = trial.suggest_uniform('learning_rate', 0.05, 0.5)\n",
    "    #~~~~~~~~~~~~~~~~~~~~~~~~~~~~~~~~~~~~~~~~~~~~~~~~~~~~~~~~~~~~~~~~~~~~\n",
    "    # Se instancia el modelo\n",
    "    model = LGBMClassifier(\n",
    "        num_leaves = num_leaves,\n",
    "        n_estimators = n_estimators,\n",
    "        max_depth = max_depth,\n",
    "        learning_rate = learning_rate)\n",
    "    # Hay que realizar el k-folding\n",
    "    kf = KFold(n_splits=8)\n",
    "    # Lista de scores\n",
    "    scores = []\n",
    "    # Se dividen los datos\n",
    "    for index in kf.split(X=x, y=y):\n",
    "        train_index, test_index = index[0], index[1]\n",
    "        X_train = x[train_index]\n",
    "        y_train = y[train_index]\n",
    "        X_test = x[test_index]\n",
    "        y_test = y[test_index]\n",
    "        # Entrenamiento del k-fold y predicción\n",
    "        model.fit(X_train, y_train)\n",
    "        prediction = model.predict(X_test)\n",
    "        fold_score = f1_score(y_test, prediction, average='micro')\n",
    "        # Se agrega el score a la lista\n",
    "        scores.append(fold_score)\n",
    "    # Ahora hay que devolver la función para minimizar\n",
    "    return -1.0 * np.mean(scores)\n",
    "\n",
    "# ===========================================================================\n",
    "# Función de optimización con función partial\n",
    "# Cada vez que se cambia el espacio de parámetros hay que ejecutar esta orden\n",
    "optimization_function = partial(optimize, x=X, y=y)"
   ]
  },
  {
   "cell_type": "markdown",
   "id": "6269ff3b",
   "metadata": {},
   "source": [
    " Si `nuevo_studio = True` se crea una nueva instancia de Study.\n",
    "\n",
    "### Si se quiere continuar con otro hay que cargar el archivo pickle guardado y usar ese Study."
   ]
  },
  {
   "cell_type": "code",
   "execution_count": 12,
   "id": "17fb479e",
   "metadata": {},
   "outputs": [
    {
     "name": "stderr",
     "output_type": "stream",
     "text": [
      "\u001b[32m[I 2021-07-27 17:09:19,355]\u001b[0m A new study created in memory with name: no-name-944e5519-8685-4b72-b5b9-00c28a98d79c\u001b[0m\n"
     ]
    }
   ],
   "source": [
    "#=====================\n",
    "######################\n",
    "nuevo_studio = False\n",
    "######################\n",
    "#=====================\n",
    "\n",
    "if nuevo_studio:\n",
    "    study = optuna.create_study(direction='minimize')\n",
    "else: print('Cargar otro')"
   ]
  },
  {
   "cell_type": "markdown",
   "id": "67d7f11e",
   "metadata": {},
   "source": [
    "### Optimización\n",
    "Se realizan tantas operaciones como indique `n_trials`. Si es un study cargado, las evaluaciones se acumulan con las ya realizadas.\n",
    "\n",
    "### Solo es necesario ejecutar la siguiente celda para agregar `n_trials` evaluaciones al study.\n",
    "\n",
    "---\n",
    "---"
   ]
  },
  {
   "cell_type": "code",
   "execution_count": 13,
   "id": "3740604b",
   "metadata": {
    "scrolled": true
   },
   "outputs": [
    {
     "name": "stderr",
     "output_type": "stream",
     "text": [
      "\u001b[32m[I 2021-07-27 17:11:19,157]\u001b[0m Trial 0 finished with value: -0.8569310083500823 and parameters: {'num_leaves': 88, 'n_estimators': 580, 'max_depth': 48, 'learning_rate': 0.1026384813254633}. Best is trial 0 with value: -0.8569310083500823.\u001b[0m\n",
      "\u001b[32m[I 2021-07-27 17:13:02,673]\u001b[0m Trial 1 finished with value: -0.856247966971527 and parameters: {'num_leaves': 78, 'n_estimators': 580, 'max_depth': 42, 'learning_rate': 0.13712964128093}. Best is trial 0 with value: -0.8569310083500823.\u001b[0m\n",
      "\u001b[32m[I 2021-07-27 17:15:08,885]\u001b[0m Trial 2 finished with value: -0.8580284757330446 and parameters: {'num_leaves': 86, 'n_estimators': 640, 'max_depth': 52, 'learning_rate': 0.06552767007213364}. Best is trial 2 with value: -0.8580284757330446.\u001b[0m\n",
      "\u001b[32m[I 2021-07-27 17:16:58,228]\u001b[0m Trial 3 finished with value: -0.858254877524965 and parameters: {'num_leaves': 82, 'n_estimators': 560, 'max_depth': 48, 'learning_rate': 0.07097183280046414}. Best is trial 3 with value: -0.858254877524965.\u001b[0m\n",
      "\u001b[32m[I 2021-07-27 17:18:42,117]\u001b[0m Trial 4 finished with value: -0.8571267084554006 and parameters: {'num_leaves': 76, 'n_estimators': 580, 'max_depth': 60, 'learning_rate': 0.11195142034580416}. Best is trial 3 with value: -0.858254877524965.\u001b[0m\n",
      "\u001b[32m[I 2021-07-27 17:20:38,742]\u001b[0m Trial 5 finished with value: -0.8574759010913684 and parameters: {'num_leaves': 90, 'n_estimators': 590, 'max_depth': 58, 'learning_rate': 0.09214644514386303}. Best is trial 3 with value: -0.858254877524965.\u001b[0m\n",
      "\u001b[32m[I 2021-07-27 17:22:24,829]\u001b[0m Trial 6 finished with value: -0.8570576376706242 and parameters: {'num_leaves': 82, 'n_estimators': 570, 'max_depth': 56, 'learning_rate': 0.11125646151345334}. Best is trial 3 with value: -0.858254877524965.\u001b[0m\n",
      "\u001b[32m[I 2021-07-27 17:24:11,481]\u001b[0m Trial 7 finished with value: -0.8578327725650494 and parameters: {'num_leaves': 82, 'n_estimators': 560, 'max_depth': 52, 'learning_rate': 0.08562098640147948}. Best is trial 3 with value: -0.858254877524965.\u001b[0m\n",
      "\u001b[32m[I 2021-07-27 17:25:50,969]\u001b[0m Trial 8 finished with value: -0.8579901033366026 and parameters: {'num_leaves': 70, 'n_estimators': 570, 'max_depth': 54, 'learning_rate': 0.08811976551226339}. Best is trial 3 with value: -0.858254877524965.\u001b[0m\n",
      "\u001b[32m[I 2021-07-27 17:27:39,407]\u001b[0m Trial 9 finished with value: -0.8560637762881336 and parameters: {'num_leaves': 76, 'n_estimators': 620, 'max_depth': 40, 'learning_rate': 0.1313874729677048}. Best is trial 3 with value: -0.858254877524965.\u001b[0m\n",
      "\u001b[32m[I 2021-07-27 17:29:19,632]\u001b[0m Trial 10 finished with value: -0.8586654702358695 and parameters: {'num_leaves': 70, 'n_estimators': 550, 'max_depth': 46, 'learning_rate': 0.061055129341703256}. Best is trial 10 with value: -0.8586654702358695.\u001b[0m\n",
      "\u001b[32m[I 2021-07-27 17:30:58,670]\u001b[0m Trial 11 finished with value: -0.8585503539889058 and parameters: {'num_leaves': 70, 'n_estimators': 550, 'max_depth': 46, 'learning_rate': 0.061820759820762065}. Best is trial 10 with value: -0.8586654702358695.\u001b[0m\n",
      "\u001b[32m[I 2021-07-27 17:32:37,922]\u001b[0m Trial 12 finished with value: -0.8585887241472377 and parameters: {'num_leaves': 70, 'n_estimators': 550, 'max_depth': 44, 'learning_rate': 0.06276313175171168}. Best is trial 10 with value: -0.8586654702358695.\u001b[0m\n",
      "\u001b[32m[I 2021-07-27 17:34:17,778]\u001b[0m Trial 13 finished with value: -0.8583508103418965 and parameters: {'num_leaves': 72, 'n_estimators': 550, 'max_depth': 44, 'learning_rate': 0.07581517490357939}. Best is trial 10 with value: -0.8586654702358695.\u001b[0m\n"
     ]
    },
    {
     "ename": "KeyboardInterrupt",
     "evalue": "",
     "output_type": "error",
     "traceback": [
      "\u001b[1;31m---------------------------------------------------------------------------\u001b[0m",
      "\u001b[1;31mKeyboardInterrupt\u001b[0m                         Traceback (most recent call last)",
      "\u001b[1;32m~\\AppData\\Local\\Temp/ipykernel_10368/1442163845.py\u001b[0m in \u001b[0;36m<module>\u001b[1;34m\u001b[0m\n\u001b[1;32m----> 1\u001b[1;33m \u001b[0mstudy\u001b[0m\u001b[1;33m.\u001b[0m\u001b[0moptimize\u001b[0m\u001b[1;33m(\u001b[0m\u001b[0moptimization_function\u001b[0m\u001b[1;33m,\u001b[0m \u001b[0mn_trials\u001b[0m\u001b[1;33m=\u001b[0m\u001b[1;36m20\u001b[0m\u001b[1;33m)\u001b[0m\u001b[1;33m\u001b[0m\u001b[1;33m\u001b[0m\u001b[0m\n\u001b[0m",
      "\u001b[1;32m~\\AppData\\Roaming\\Python\\Python39\\site-packages\\optuna\\study.py\u001b[0m in \u001b[0;36moptimize\u001b[1;34m(self, func, n_trials, timeout, n_jobs, catch, callbacks, gc_after_trial, show_progress_bar)\u001b[0m\n\u001b[0;32m    399\u001b[0m             )\n\u001b[0;32m    400\u001b[0m \u001b[1;33m\u001b[0m\u001b[0m\n\u001b[1;32m--> 401\u001b[1;33m         _optimize(\n\u001b[0m\u001b[0;32m    402\u001b[0m             \u001b[0mstudy\u001b[0m\u001b[1;33m=\u001b[0m\u001b[0mself\u001b[0m\u001b[1;33m,\u001b[0m\u001b[1;33m\u001b[0m\u001b[1;33m\u001b[0m\u001b[0m\n\u001b[0;32m    403\u001b[0m             \u001b[0mfunc\u001b[0m\u001b[1;33m=\u001b[0m\u001b[0mfunc\u001b[0m\u001b[1;33m,\u001b[0m\u001b[1;33m\u001b[0m\u001b[1;33m\u001b[0m\u001b[0m\n",
      "\u001b[1;32m~\\AppData\\Roaming\\Python\\Python39\\site-packages\\optuna\\_optimize.py\u001b[0m in \u001b[0;36m_optimize\u001b[1;34m(study, func, n_trials, timeout, n_jobs, catch, callbacks, gc_after_trial, show_progress_bar)\u001b[0m\n\u001b[0;32m     63\u001b[0m     \u001b[1;32mtry\u001b[0m\u001b[1;33m:\u001b[0m\u001b[1;33m\u001b[0m\u001b[1;33m\u001b[0m\u001b[0m\n\u001b[0;32m     64\u001b[0m         \u001b[1;32mif\u001b[0m \u001b[0mn_jobs\u001b[0m \u001b[1;33m==\u001b[0m \u001b[1;36m1\u001b[0m\u001b[1;33m:\u001b[0m\u001b[1;33m\u001b[0m\u001b[1;33m\u001b[0m\u001b[0m\n\u001b[1;32m---> 65\u001b[1;33m             _optimize_sequential(\n\u001b[0m\u001b[0;32m     66\u001b[0m                 \u001b[0mstudy\u001b[0m\u001b[1;33m,\u001b[0m\u001b[1;33m\u001b[0m\u001b[1;33m\u001b[0m\u001b[0m\n\u001b[0;32m     67\u001b[0m                 \u001b[0mfunc\u001b[0m\u001b[1;33m,\u001b[0m\u001b[1;33m\u001b[0m\u001b[1;33m\u001b[0m\u001b[0m\n",
      "\u001b[1;32m~\\AppData\\Roaming\\Python\\Python39\\site-packages\\optuna\\_optimize.py\u001b[0m in \u001b[0;36m_optimize_sequential\u001b[1;34m(study, func, n_trials, timeout, catch, callbacks, gc_after_trial, reseed_sampler_rng, time_start, progress_bar)\u001b[0m\n\u001b[0;32m    160\u001b[0m \u001b[1;33m\u001b[0m\u001b[0m\n\u001b[0;32m    161\u001b[0m         \u001b[1;32mtry\u001b[0m\u001b[1;33m:\u001b[0m\u001b[1;33m\u001b[0m\u001b[1;33m\u001b[0m\u001b[0m\n\u001b[1;32m--> 162\u001b[1;33m             \u001b[0mtrial\u001b[0m \u001b[1;33m=\u001b[0m \u001b[0m_run_trial\u001b[0m\u001b[1;33m(\u001b[0m\u001b[0mstudy\u001b[0m\u001b[1;33m,\u001b[0m \u001b[0mfunc\u001b[0m\u001b[1;33m,\u001b[0m \u001b[0mcatch\u001b[0m\u001b[1;33m)\u001b[0m\u001b[1;33m\u001b[0m\u001b[1;33m\u001b[0m\u001b[0m\n\u001b[0m\u001b[0;32m    163\u001b[0m         \u001b[1;32mexcept\u001b[0m \u001b[0mException\u001b[0m\u001b[1;33m:\u001b[0m\u001b[1;33m\u001b[0m\u001b[1;33m\u001b[0m\u001b[0m\n\u001b[0;32m    164\u001b[0m             \u001b[1;32mraise\u001b[0m\u001b[1;33m\u001b[0m\u001b[1;33m\u001b[0m\u001b[0m\n",
      "\u001b[1;32m~\\AppData\\Roaming\\Python\\Python39\\site-packages\\optuna\\_optimize.py\u001b[0m in \u001b[0;36m_run_trial\u001b[1;34m(study, func, catch)\u001b[0m\n\u001b[0;32m    214\u001b[0m \u001b[1;33m\u001b[0m\u001b[0m\n\u001b[0;32m    215\u001b[0m     \u001b[1;32mtry\u001b[0m\u001b[1;33m:\u001b[0m\u001b[1;33m\u001b[0m\u001b[1;33m\u001b[0m\u001b[0m\n\u001b[1;32m--> 216\u001b[1;33m         \u001b[0mvalue_or_values\u001b[0m \u001b[1;33m=\u001b[0m \u001b[0mfunc\u001b[0m\u001b[1;33m(\u001b[0m\u001b[0mtrial\u001b[0m\u001b[1;33m)\u001b[0m\u001b[1;33m\u001b[0m\u001b[1;33m\u001b[0m\u001b[0m\n\u001b[0m\u001b[0;32m    217\u001b[0m     \u001b[1;32mexcept\u001b[0m \u001b[0mexceptions\u001b[0m\u001b[1;33m.\u001b[0m\u001b[0mTrialPruned\u001b[0m \u001b[1;32mas\u001b[0m \u001b[0me\u001b[0m\u001b[1;33m:\u001b[0m\u001b[1;33m\u001b[0m\u001b[1;33m\u001b[0m\u001b[0m\n\u001b[0;32m    218\u001b[0m         \u001b[1;31m# TODO(mamu): Handle multi-objective cases.\u001b[0m\u001b[1;33m\u001b[0m\u001b[1;33m\u001b[0m\u001b[1;33m\u001b[0m\u001b[0m\n",
      "\u001b[1;32m~\\AppData\\Local\\Temp/ipykernel_10368/854739432.py\u001b[0m in \u001b[0;36moptimize\u001b[1;34m(trial, x, y)\u001b[0m\n\u001b[0;32m     28\u001b[0m         \u001b[0my_test\u001b[0m \u001b[1;33m=\u001b[0m \u001b[0my\u001b[0m\u001b[1;33m[\u001b[0m\u001b[0mtest_index\u001b[0m\u001b[1;33m]\u001b[0m\u001b[1;33m\u001b[0m\u001b[1;33m\u001b[0m\u001b[0m\n\u001b[0;32m     29\u001b[0m         \u001b[1;31m# Entrenamiento del k-fold y predicción\u001b[0m\u001b[1;33m\u001b[0m\u001b[1;33m\u001b[0m\u001b[1;33m\u001b[0m\u001b[0m\n\u001b[1;32m---> 30\u001b[1;33m         \u001b[0mmodel\u001b[0m\u001b[1;33m.\u001b[0m\u001b[0mfit\u001b[0m\u001b[1;33m(\u001b[0m\u001b[0mX_train\u001b[0m\u001b[1;33m,\u001b[0m \u001b[0my_train\u001b[0m\u001b[1;33m)\u001b[0m\u001b[1;33m\u001b[0m\u001b[1;33m\u001b[0m\u001b[0m\n\u001b[0m\u001b[0;32m     31\u001b[0m         \u001b[0mprediction\u001b[0m \u001b[1;33m=\u001b[0m \u001b[0mmodel\u001b[0m\u001b[1;33m.\u001b[0m\u001b[0mpredict\u001b[0m\u001b[1;33m(\u001b[0m\u001b[0mX_test\u001b[0m\u001b[1;33m)\u001b[0m\u001b[1;33m\u001b[0m\u001b[1;33m\u001b[0m\u001b[0m\n\u001b[0;32m     32\u001b[0m         \u001b[0mfold_score\u001b[0m \u001b[1;33m=\u001b[0m \u001b[0mf1_score\u001b[0m\u001b[1;33m(\u001b[0m\u001b[0my_test\u001b[0m\u001b[1;33m,\u001b[0m \u001b[0mprediction\u001b[0m\u001b[1;33m,\u001b[0m \u001b[0maverage\u001b[0m\u001b[1;33m=\u001b[0m\u001b[1;34m'micro'\u001b[0m\u001b[1;33m)\u001b[0m\u001b[1;33m\u001b[0m\u001b[1;33m\u001b[0m\u001b[0m\n",
      "\u001b[1;32m~\\AppData\\Roaming\\Python\\Python39\\site-packages\\lightgbm\\sklearn.py\u001b[0m in \u001b[0;36mfit\u001b[1;34m(self, X, y, sample_weight, init_score, eval_set, eval_names, eval_sample_weight, eval_class_weight, eval_init_score, eval_metric, early_stopping_rounds, verbose, feature_name, categorical_feature, callbacks, init_model)\u001b[0m\n\u001b[0;32m    888\u001b[0m                     \u001b[0mvalid_sets\u001b[0m\u001b[1;33m[\u001b[0m\u001b[0mi\u001b[0m\u001b[1;33m]\u001b[0m \u001b[1;33m=\u001b[0m \u001b[1;33m(\u001b[0m\u001b[0mvalid_x\u001b[0m\u001b[1;33m,\u001b[0m \u001b[0mself\u001b[0m\u001b[1;33m.\u001b[0m\u001b[0m_le\u001b[0m\u001b[1;33m.\u001b[0m\u001b[0mtransform\u001b[0m\u001b[1;33m(\u001b[0m\u001b[0mvalid_y\u001b[0m\u001b[1;33m)\u001b[0m\u001b[1;33m)\u001b[0m\u001b[1;33m\u001b[0m\u001b[1;33m\u001b[0m\u001b[0m\n\u001b[0;32m    889\u001b[0m \u001b[1;33m\u001b[0m\u001b[0m\n\u001b[1;32m--> 890\u001b[1;33m         super().fit(X, _y, sample_weight=sample_weight, init_score=init_score, eval_set=valid_sets,\n\u001b[0m\u001b[0;32m    891\u001b[0m                     \u001b[0meval_names\u001b[0m\u001b[1;33m=\u001b[0m\u001b[0meval_names\u001b[0m\u001b[1;33m,\u001b[0m \u001b[0meval_sample_weight\u001b[0m\u001b[1;33m=\u001b[0m\u001b[0meval_sample_weight\u001b[0m\u001b[1;33m,\u001b[0m\u001b[1;33m\u001b[0m\u001b[1;33m\u001b[0m\u001b[0m\n\u001b[0;32m    892\u001b[0m                     \u001b[0meval_class_weight\u001b[0m\u001b[1;33m=\u001b[0m\u001b[0meval_class_weight\u001b[0m\u001b[1;33m,\u001b[0m \u001b[0meval_init_score\u001b[0m\u001b[1;33m=\u001b[0m\u001b[0meval_init_score\u001b[0m\u001b[1;33m,\u001b[0m\u001b[1;33m\u001b[0m\u001b[1;33m\u001b[0m\u001b[0m\n",
      "\u001b[1;32m~\\AppData\\Roaming\\Python\\Python39\\site-packages\\lightgbm\\sklearn.py\u001b[0m in \u001b[0;36mfit\u001b[1;34m(self, X, y, sample_weight, init_score, group, eval_set, eval_names, eval_sample_weight, eval_class_weight, eval_init_score, eval_group, eval_metric, early_stopping_rounds, verbose, feature_name, categorical_feature, callbacks, init_model)\u001b[0m\n\u001b[0;32m    681\u001b[0m             \u001b[0minit_model\u001b[0m \u001b[1;33m=\u001b[0m \u001b[0minit_model\u001b[0m\u001b[1;33m.\u001b[0m\u001b[0mbooster_\u001b[0m\u001b[1;33m\u001b[0m\u001b[1;33m\u001b[0m\u001b[0m\n\u001b[0;32m    682\u001b[0m \u001b[1;33m\u001b[0m\u001b[0m\n\u001b[1;32m--> 683\u001b[1;33m         self._Booster = train(params, train_set,\n\u001b[0m\u001b[0;32m    684\u001b[0m                               \u001b[0mself\u001b[0m\u001b[1;33m.\u001b[0m\u001b[0mn_estimators\u001b[0m\u001b[1;33m,\u001b[0m \u001b[0mvalid_sets\u001b[0m\u001b[1;33m=\u001b[0m\u001b[0mvalid_sets\u001b[0m\u001b[1;33m,\u001b[0m \u001b[0mvalid_names\u001b[0m\u001b[1;33m=\u001b[0m\u001b[0meval_names\u001b[0m\u001b[1;33m,\u001b[0m\u001b[1;33m\u001b[0m\u001b[1;33m\u001b[0m\u001b[0m\n\u001b[0;32m    685\u001b[0m                               \u001b[0mearly_stopping_rounds\u001b[0m\u001b[1;33m=\u001b[0m\u001b[0mearly_stopping_rounds\u001b[0m\u001b[1;33m,\u001b[0m\u001b[1;33m\u001b[0m\u001b[1;33m\u001b[0m\u001b[0m\n",
      "\u001b[1;32m~\\AppData\\Roaming\\Python\\Python39\\site-packages\\lightgbm\\engine.py\u001b[0m in \u001b[0;36mtrain\u001b[1;34m(params, train_set, num_boost_round, valid_sets, valid_names, fobj, feval, init_model, feature_name, categorical_feature, early_stopping_rounds, evals_result, verbose_eval, learning_rates, keep_training_booster, callbacks)\u001b[0m\n\u001b[0;32m    247\u001b[0m                                     evaluation_result_list=None))\n\u001b[0;32m    248\u001b[0m \u001b[1;33m\u001b[0m\u001b[0m\n\u001b[1;32m--> 249\u001b[1;33m         \u001b[0mbooster\u001b[0m\u001b[1;33m.\u001b[0m\u001b[0mupdate\u001b[0m\u001b[1;33m(\u001b[0m\u001b[0mfobj\u001b[0m\u001b[1;33m=\u001b[0m\u001b[0mfobj\u001b[0m\u001b[1;33m)\u001b[0m\u001b[1;33m\u001b[0m\u001b[1;33m\u001b[0m\u001b[0m\n\u001b[0m\u001b[0;32m    250\u001b[0m \u001b[1;33m\u001b[0m\u001b[0m\n\u001b[0;32m    251\u001b[0m         \u001b[0mevaluation_result_list\u001b[0m \u001b[1;33m=\u001b[0m \u001b[1;33m[\u001b[0m\u001b[1;33m]\u001b[0m\u001b[1;33m\u001b[0m\u001b[1;33m\u001b[0m\u001b[0m\n",
      "\u001b[1;32m~\\AppData\\Roaming\\Python\\Python39\\site-packages\\lightgbm\\basic.py\u001b[0m in \u001b[0;36mupdate\u001b[1;34m(self, train_set, fobj)\u001b[0m\n\u001b[0;32m   2641\u001b[0m             \u001b[1;32mif\u001b[0m \u001b[0mself\u001b[0m\u001b[1;33m.\u001b[0m\u001b[0m__set_objective_to_none\u001b[0m\u001b[1;33m:\u001b[0m\u001b[1;33m\u001b[0m\u001b[1;33m\u001b[0m\u001b[0m\n\u001b[0;32m   2642\u001b[0m                 \u001b[1;32mraise\u001b[0m \u001b[0mLightGBMError\u001b[0m\u001b[1;33m(\u001b[0m\u001b[1;34m'Cannot update due to null objective function.'\u001b[0m\u001b[1;33m)\u001b[0m\u001b[1;33m\u001b[0m\u001b[1;33m\u001b[0m\u001b[0m\n\u001b[1;32m-> 2643\u001b[1;33m             _safe_call(_LIB.LGBM_BoosterUpdateOneIter(\n\u001b[0m\u001b[0;32m   2644\u001b[0m                 \u001b[0mself\u001b[0m\u001b[1;33m.\u001b[0m\u001b[0mhandle\u001b[0m\u001b[1;33m,\u001b[0m\u001b[1;33m\u001b[0m\u001b[1;33m\u001b[0m\u001b[0m\n\u001b[0;32m   2645\u001b[0m                 ctypes.byref(is_finished)))\n",
      "\u001b[1;31mKeyboardInterrupt\u001b[0m: "
     ]
    }
   ],
   "source": [
    "study.optimize(optimization_function, n_trials=20)"
   ]
  },
  {
   "cell_type": "code",
   "execution_count": 143,
   "id": "07838436",
   "metadata": {},
   "outputs": [
    {
     "name": "stdout",
     "output_type": "stream",
     "text": [
      "Cantidad de evaluaciones: 140\n",
      "Mejor evaluación: -0.74535784286882 en trial 122\n",
      "Mejores parámetros: {'num_leaves': 112, 'n_estimators': 880, 'max_depth': 61, 'learning_rate': 0.0691427312603393}\n"
     ]
    },
    {
     "data": {
      "text/html": [
       "<div>\n",
       "<style scoped>\n",
       "    .dataframe tbody tr th:only-of-type {\n",
       "        vertical-align: middle;\n",
       "    }\n",
       "\n",
       "    .dataframe tbody tr th {\n",
       "        vertical-align: top;\n",
       "    }\n",
       "\n",
       "    .dataframe thead th {\n",
       "        text-align: right;\n",
       "    }\n",
       "</style>\n",
       "<table border=\"1\" class=\"dataframe\">\n",
       "  <thead>\n",
       "    <tr style=\"text-align: right;\">\n",
       "      <th></th>\n",
       "      <th>value</th>\n",
       "      <th>duration</th>\n",
       "      <th>params_learning_rate</th>\n",
       "      <th>params_max_depth</th>\n",
       "      <th>params_n_estimators</th>\n",
       "      <th>params_num_leaves</th>\n",
       "    </tr>\n",
       "  </thead>\n",
       "  <tbody>\n",
       "    <tr>\n",
       "      <th>122</th>\n",
       "      <td>-0.745358</td>\n",
       "      <td>113</td>\n",
       "      <td>0.069143</td>\n",
       "      <td>61</td>\n",
       "      <td>880</td>\n",
       "      <td>112</td>\n",
       "    </tr>\n",
       "    <tr>\n",
       "      <th>124</th>\n",
       "      <td>-0.745277</td>\n",
       "      <td>113</td>\n",
       "      <td>0.070696</td>\n",
       "      <td>61</td>\n",
       "      <td>870</td>\n",
       "      <td>112</td>\n",
       "    </tr>\n",
       "    <tr>\n",
       "      <th>134</th>\n",
       "      <td>-0.745212</td>\n",
       "      <td>131</td>\n",
       "      <td>0.069161</td>\n",
       "      <td>61</td>\n",
       "      <td>870</td>\n",
       "      <td>138</td>\n",
       "    </tr>\n",
       "    <tr>\n",
       "      <th>110</th>\n",
       "      <td>-0.745201</td>\n",
       "      <td>119</td>\n",
       "      <td>0.070074</td>\n",
       "      <td>63</td>\n",
       "      <td>860</td>\n",
       "      <td>122</td>\n",
       "    </tr>\n",
       "    <tr>\n",
       "      <th>109</th>\n",
       "      <td>-0.745185</td>\n",
       "      <td>121</td>\n",
       "      <td>0.071428</td>\n",
       "      <td>59</td>\n",
       "      <td>870</td>\n",
       "      <td>122</td>\n",
       "    </tr>\n",
       "    <tr>\n",
       "      <th>32</th>\n",
       "      <td>-0.745143</td>\n",
       "      <td>108</td>\n",
       "      <td>0.083838</td>\n",
       "      <td>75</td>\n",
       "      <td>850</td>\n",
       "      <td>110</td>\n",
       "    </tr>\n",
       "    <tr>\n",
       "      <th>11</th>\n",
       "      <td>-0.745024</td>\n",
       "      <td>113</td>\n",
       "      <td>0.070147</td>\n",
       "      <td>50</td>\n",
       "      <td>1050</td>\n",
       "      <td>80</td>\n",
       "    </tr>\n",
       "    <tr>\n",
       "      <th>91</th>\n",
       "      <td>-0.745024</td>\n",
       "      <td>122</td>\n",
       "      <td>0.066258</td>\n",
       "      <td>64</td>\n",
       "      <td>925</td>\n",
       "      <td>115</td>\n",
       "    </tr>\n",
       "    <tr>\n",
       "      <th>74</th>\n",
       "      <td>-0.745009</td>\n",
       "      <td>106</td>\n",
       "      <td>0.071106</td>\n",
       "      <td>62</td>\n",
       "      <td>800</td>\n",
       "      <td>115</td>\n",
       "    </tr>\n",
       "    <tr>\n",
       "      <th>43</th>\n",
       "      <td>-0.744997</td>\n",
       "      <td>116</td>\n",
       "      <td>0.060453</td>\n",
       "      <td>60</td>\n",
       "      <td>750</td>\n",
       "      <td>140</td>\n",
       "    </tr>\n",
       "  </tbody>\n",
       "</table>\n",
       "</div>"
      ],
      "text/plain": [
       "        value  duration  params_learning_rate  params_max_depth  \\\n",
       "122 -0.745358       113              0.069143                61   \n",
       "124 -0.745277       113              0.070696                61   \n",
       "134 -0.745212       131              0.069161                61   \n",
       "110 -0.745201       119              0.070074                63   \n",
       "109 -0.745185       121              0.071428                59   \n",
       "32  -0.745143       108              0.083838                75   \n",
       "11  -0.745024       113              0.070147                50   \n",
       "91  -0.745024       122              0.066258                64   \n",
       "74  -0.745009       106              0.071106                62   \n",
       "43  -0.744997       116              0.060453                60   \n",
       "\n",
       "     params_n_estimators  params_num_leaves  \n",
       "122                  880                112  \n",
       "124                  870                112  \n",
       "134                  870                138  \n",
       "110                  860                122  \n",
       "109                  870                122  \n",
       "32                   850                110  \n",
       "11                  1050                 80  \n",
       "91                   925                115  \n",
       "74                   800                115  \n",
       "43                   750                140  "
      ]
     },
     "execution_count": 143,
     "metadata": {},
     "output_type": "execute_result"
    }
   ],
   "source": [
    "print('Cantidad de evaluaciones:', len(study.trials))\n",
    "print('Mejor evaluación:', study.best_value, 'en trial', study.best_trial.number)\n",
    "print('Mejores parámetros:', study.best_params)\n",
    "df = study.trials_dataframe().nsmallest(10, 'value')[['value', 'duration', 'params_learning_rate', 'params_max_depth', 'params_n_estimators', 'params_num_leaves']]\n",
    "df['duration'] = df['duration'].dt.seconds\n",
    "df"
   ]
  },
  {
   "cell_type": "markdown",
   "id": "5690e784",
   "metadata": {},
   "source": [
    "### Rangos de parámetros de las 10 mejores evaluaciones acumuladas"
   ]
  },
  {
   "cell_type": "code",
   "execution_count": 145,
   "id": "6bd86227",
   "metadata": {},
   "outputs": [
    {
     "name": "stdout",
     "output_type": "stream",
     "text": [
      "learning_rate \tmim: 0.0605 \tmax: 0.0838 \tmean: 0.0702 \tmedian: 0.0701 \tstd: 0.0058\n",
      "num_leaves \tmim: 80 \tmax: 140 \tmean: 116.6 \tmedian: 115.0 \tstd: 16.648\n",
      "n_estimators \tmim: 750 \tmax: 1050 \tmean: 872.5 \tmedian: 870.0 \tstd: 78.3599\n",
      "max_depth \tmim: 50 \tmax: 75 \tmean: 61.6 \tmedian: 61.0 \tstd: 6.0773\n"
     ]
    }
   ],
   "source": [
    "top_10 = study.trials_dataframe().nsmallest(10, 'value')\n",
    "parametro = ['learning_rate', 'num_leaves', 'n_estimators', 'max_depth']\n",
    "for i in np.arange(len(parametro)):\n",
    "    print(parametro[i], \\\n",
    "          '\\tmim:', top_10['params_'+parametro[i]].min().round(4), \\\n",
    "          '\\tmax:', top_10['params_'+parametro[i]].max().round(4), \\\n",
    "          '\\tmean:', top_10['params_'+parametro[i]].mean().round(4), \\\n",
    "          '\\tmedian:', top_10['params_'+parametro[i]].median().round(4), \\\n",
    "          '\\tstd:', top_10['params_'+parametro[i]].std().round(4))"
   ]
  },
  {
   "cell_type": "code",
   "execution_count": null,
   "id": "b0a6df99",
   "metadata": {},
   "outputs": [],
   "source": []
  },
  {
   "cell_type": "markdown",
   "id": "d9b24416",
   "metadata": {},
   "source": [
    "### Para 5 KFold, One_Hot_Encoding\n",
    "```\n",
    "- `study_LightGBM_clean_5Fold.pkl`\n",
    "```\n",
    "Tendencias:\n",
    "- `'learning_rate'` $\\in$ `(0.0605, 0.0838)`\n",
    "- `'num_leaves'` $\\in$ `(110, 140)`\n",
    "- `'n_estimators'` $\\in$ `(800, 900)` $\\longleftarrow$ Probar con `(850, 950)`\n",
    "- `'max_depth'` $\\in$ `(55, 65)`\n",
    "- `dropped_columns: 'building_id', 'has_secondary_use_school', 'has_secondary_use_health_post', 'has_secondary_use_gov_office', 'has_secondary_use_use_police', 'C_a', 'C_f', 'C_m', 'C_n', 'C_o'`\n",
    "```\n",
    "Cantidad de evaluaciones: 140\n",
    "Mejor evaluación: -0.74535784286882 en trial 122\n",
    "Mejores parámetros: {'num_leaves': 112, 'n_estimators': 880, 'max_depth': 61, 'learning_rate': 0.0691427312603393}\n",
    "```"
   ]
  },
  {
   "cell_type": "markdown",
   "id": "9f91429b",
   "metadata": {},
   "source": [
    "### Para 6 KFold, One_Hot_Encoding\n",
    "```\n",
    "- `study_LightGBM_clean_6Fold.pkl`\n",
    "```\n",
    "Tendencias:\n",
    "- `'learning_rate'` $\\in$ `(0.0606, 0.0773)`\n",
    "- `'num_leaves'` $\\in$ `(167, 172)`\n",
    "- `'n_estimators'` $\\in$ `(600, 640)`\n",
    "- `'max_depth'` $\\in$ `(50, 68)`\n",
    "- `dropped_columns: 'building_id', 'has_secondary_use_school', 'has_secondary_use_health_post', 'has_secondary_use_gov_office', 'has_secondary_use_use_police', 'C_a', 'C_f', 'C_m', 'C_n', 'C_o'`\n",
    "```\n",
    "Cantidad de evaluaciones: 80\n",
    "Mejor evaluación: -0.7458375076268551 en trial 41\n",
    "Mejores parámetros: {'num_leaves': 168, 'n_estimators': 620, 'max_depth': 60, 'learning_rate': 0.06716342852245775}\n",
    "```"
   ]
  },
  {
   "cell_type": "markdown",
   "id": "ff807f89",
   "metadata": {},
   "source": [
    "### Para 7 KFold, One_Hot_Encoding\n",
    "```\n",
    "- `study_LightGBM_clean_7Fold.pkl`\n",
    "```\n",
    "Tendencias:\n",
    "- `'learning_rate'` $\\in$ `(0.0771, 0.1000)`\n",
    "- `'num_leaves'` $\\in$ `(105, 113)`\n",
    "- `'n_estimators'` $\\in$ `(830, 940)`\n",
    "- `'max_depth'` $\\in$ `(70, 92)`\n",
    "- `dropped_columns: 'building_id', 'has_secondary_use_school', 'has_secondary_use_health_post', 'has_secondary_use_gov_office', 'has_secondary_use_use_police', 'C_a', 'C_f', 'C_m', 'C_n', 'C_o'`\n",
    "```\n",
    "Cantidad de evaluaciones: 100\n",
    "Mejor evaluación: -0.7460869325437617 en trial 53\n",
    "Mejores parámetros: {'num_leaves': 106, 'n_estimators': 830, 'max_depth': 85, 'learning_rate': 0.07781085417266771}\n",
    "```"
   ]
  },
  {
   "cell_type": "markdown",
   "id": "2bb8673f",
   "metadata": {},
   "source": [
    "### Para 8 KFold, One_Hot_Encoding\n",
    "```\n",
    "- `study_LightGBM_clean_8Fold.pkl`\n",
    "```\n",
    "Tendencias:\n",
    "- `'learning_rate'` $\\in$ `(0.1242, 0.1393)`\n",
    "- `'num_leaves'` $\\in$ `(79, 93)`\n",
    "- `'n_estimators'` $\\in$ `(600, 625)`\n",
    "- `'max_depth'` $\\in$ `(51, 60)`\n",
    "- `dropped_columns: 'building_id', 'has_secondary_use_school', 'has_secondary_use_health_post', 'has_secondary_use_gov_office', 'has_secondary_use_use_police', 'C_a', 'C_f', 'C_m', 'C_n', 'C_o'`\n",
    "```\n",
    "Cantidad de evaluaciones: 90\n",
    "Mejor evaluación: -0.7458528540897384 en trial 63\n",
    "Mejores parámetros: {'num_leaves': 82, 'n_estimators': 620, 'max_depth': 52, 'learning_rate': 0.12450509333352734}\n",
    "```"
   ]
  },
  {
   "cell_type": "markdown",
   "id": "91784c6c",
   "metadata": {},
   "source": [
    "### Para 9 KFold, One_Hot_Encoding\n",
    "```\n",
    "- `study_LightGBM_clean_9Fold.pkl`\n",
    "```\n",
    "Tendencias:\n",
    "- `'learning_rate'` $\\in$ `(0.12, 0.2)`\n",
    "- `'num_leaves'` $\\in$ `(58, 76)`\n",
    "- `'n_estimators'` $\\in$ `(580, 690)`\n",
    "- `'max_depth'` $\\in$ `(40, 50)`\n",
    "- `dropped_columns: 'building_id', 'has_secondary_use_school', 'has_secondary_use_health_post', 'has_secondary_use_gov_office', 'has_secondary_use_use_police', 'C_a', 'C_f', 'C_m', 'C_n', 'C_o'`\n",
    "```\n",
    "Cantidad de evaluaciones: 60\n",
    "Mejor evaluación: -0.7461675108209561 en trial 48\n",
    "Mejores parámetros: {'num_leaves': 59, 'n_estimators': 755, 'max_depth': 59, 'learning_rate': 0.15673237668876525}\n",
    "```"
   ]
  },
  {
   "cell_type": "markdown",
   "id": "cba834ce",
   "metadata": {},
   "source": [
    "### Para 10 KFold, One_Hot_Encoding\n",
    "```\n",
    "- `study_LightGBM_clean_10Fold.pkl`\n",
    "```\n",
    "Tendencias:\n",
    "- `'learning_rate'` $\\in$ `(0.09, 0.1)`\n",
    "- `'num_leaves'` $\\in$ `(110, 130)`\n",
    "- `'n_estimators'` $\\in$ `(1045, 1200)`\n",
    "- `'max_depth'` $\\in$ `(33, 39)`\n",
    "- `dropped_columns: 'building_id', 'has_secondary_use_school', 'has_secondary_use_health_post', 'has_secondary_use_gov_office', 'has_secondary_use_use_police', 'C_a', 'C_f', 'C_m', 'C_n', 'C_o'`\n",
    "```\n",
    "Cantidad de evaluaciones: 100\n",
    "Mejor evaluación: -0.7462826329030334 en trial 87\n",
    "Mejores parámetros: {'num_leaves': 123, 'n_estimators': 1065, 'max_depth': 36, 'learning_rate': 0.09406462135767253}\n",
    "```"
   ]
  },
  {
   "cell_type": "markdown",
   "id": "e7499e2b",
   "metadata": {},
   "source": [
    "### Para 4 KFold, One_Hot_Encoding\n",
    "`dropped_columns: 'building_id'`\n",
    "- `study_LightGBM_4Fold.pkl`\n",
    "```\n",
    "Cantidad de evaluaciones: 25\n",
    "Mejores parámetros: {'num_leaves': 72, 'n_estimators': 831, 'max_depth': 72, 'learning_rate': 0.10069045291345259}\n",
    "```"
   ]
  },
  {
   "cell_type": "markdown",
   "id": "9937ff18",
   "metadata": {},
   "source": [
    "# Guardar progreso de búsquedas\n",
    "### Verificar el nombre del archivo"
   ]
  },
  {
   "cell_type": "code",
   "execution_count": 147,
   "id": "235a9da3",
   "metadata": {},
   "outputs": [
    {
     "data": {
      "text/plain": [
       "['pickle/study_LightGBM_clean_5Fold.pkl']"
      ]
     },
     "execution_count": 147,
     "metadata": {},
     "output_type": "execute_result"
    }
   ],
   "source": [
    "joblib.dump(study, 'pickle/study_LightGBM_stacked.pkl')"
   ]
  },
  {
   "cell_type": "markdown",
   "id": "e7e7ec59",
   "metadata": {},
   "source": [
    "# Cargar avances anteriores\n",
    "### Verificar el nombre del archivo"
   ]
  },
  {
   "cell_type": "code",
   "execution_count": 148,
   "id": "3286d0c2",
   "metadata": {},
   "outputs": [
    {
     "name": "stdout",
     "output_type": "stream",
     "text": [
      "Cantidad de evaluaciones: 140\n",
      "Mejor evaluación: -0.74535784286882 en trial 122\n",
      "Mejores parámetros: {'num_leaves': 112, 'n_estimators': 880, 'max_depth': 61, 'learning_rate': 0.0691427312603393}\n",
      "Evaluaciones:\n"
     ]
    },
    {
     "data": {
      "text/html": [
       "<div>\n",
       "<style scoped>\n",
       "    .dataframe tbody tr th:only-of-type {\n",
       "        vertical-align: middle;\n",
       "    }\n",
       "\n",
       "    .dataframe tbody tr th {\n",
       "        vertical-align: top;\n",
       "    }\n",
       "\n",
       "    .dataframe thead th {\n",
       "        text-align: right;\n",
       "    }\n",
       "</style>\n",
       "<table border=\"1\" class=\"dataframe\">\n",
       "  <thead>\n",
       "    <tr style=\"text-align: right;\">\n",
       "      <th></th>\n",
       "      <th>value</th>\n",
       "      <th>duration</th>\n",
       "      <th>params_learning_rate</th>\n",
       "      <th>params_max_depth</th>\n",
       "      <th>params_n_estimators</th>\n",
       "      <th>params_num_leaves</th>\n",
       "    </tr>\n",
       "  </thead>\n",
       "  <tbody>\n",
       "    <tr>\n",
       "      <th>122</th>\n",
       "      <td>-0.745358</td>\n",
       "      <td>0 days 00:01:53.997304</td>\n",
       "      <td>0.069143</td>\n",
       "      <td>61</td>\n",
       "      <td>880</td>\n",
       "      <td>112</td>\n",
       "    </tr>\n",
       "    <tr>\n",
       "      <th>124</th>\n",
       "      <td>-0.745277</td>\n",
       "      <td>0 days 00:01:53.912116</td>\n",
       "      <td>0.070696</td>\n",
       "      <td>61</td>\n",
       "      <td>870</td>\n",
       "      <td>112</td>\n",
       "    </tr>\n",
       "    <tr>\n",
       "      <th>134</th>\n",
       "      <td>-0.745212</td>\n",
       "      <td>0 days 00:02:11.776983</td>\n",
       "      <td>0.069161</td>\n",
       "      <td>61</td>\n",
       "      <td>870</td>\n",
       "      <td>138</td>\n",
       "    </tr>\n",
       "    <tr>\n",
       "      <th>110</th>\n",
       "      <td>-0.745201</td>\n",
       "      <td>0 days 00:01:59.218402</td>\n",
       "      <td>0.070074</td>\n",
       "      <td>63</td>\n",
       "      <td>860</td>\n",
       "      <td>122</td>\n",
       "    </tr>\n",
       "    <tr>\n",
       "      <th>109</th>\n",
       "      <td>-0.745185</td>\n",
       "      <td>0 days 00:02:01.608046</td>\n",
       "      <td>0.071428</td>\n",
       "      <td>59</td>\n",
       "      <td>870</td>\n",
       "      <td>122</td>\n",
       "    </tr>\n",
       "    <tr>\n",
       "      <th>32</th>\n",
       "      <td>-0.745143</td>\n",
       "      <td>0 days 00:01:48.595696</td>\n",
       "      <td>0.083838</td>\n",
       "      <td>75</td>\n",
       "      <td>850</td>\n",
       "      <td>110</td>\n",
       "    </tr>\n",
       "    <tr>\n",
       "      <th>11</th>\n",
       "      <td>-0.745024</td>\n",
       "      <td>0 days 00:01:53.607727</td>\n",
       "      <td>0.070147</td>\n",
       "      <td>50</td>\n",
       "      <td>1050</td>\n",
       "      <td>80</td>\n",
       "    </tr>\n",
       "    <tr>\n",
       "      <th>91</th>\n",
       "      <td>-0.745024</td>\n",
       "      <td>0 days 00:02:02.570888</td>\n",
       "      <td>0.066258</td>\n",
       "      <td>64</td>\n",
       "      <td>925</td>\n",
       "      <td>115</td>\n",
       "    </tr>\n",
       "    <tr>\n",
       "      <th>74</th>\n",
       "      <td>-0.745009</td>\n",
       "      <td>0 days 00:01:46.633308</td>\n",
       "      <td>0.071106</td>\n",
       "      <td>62</td>\n",
       "      <td>800</td>\n",
       "      <td>115</td>\n",
       "    </tr>\n",
       "    <tr>\n",
       "      <th>43</th>\n",
       "      <td>-0.744997</td>\n",
       "      <td>0 days 00:01:56.912877</td>\n",
       "      <td>0.060453</td>\n",
       "      <td>60</td>\n",
       "      <td>750</td>\n",
       "      <td>140</td>\n",
       "    </tr>\n",
       "  </tbody>\n",
       "</table>\n",
       "</div>"
      ],
      "text/plain": [
       "        value               duration  params_learning_rate  params_max_depth  \\\n",
       "122 -0.745358 0 days 00:01:53.997304              0.069143                61   \n",
       "124 -0.745277 0 days 00:01:53.912116              0.070696                61   \n",
       "134 -0.745212 0 days 00:02:11.776983              0.069161                61   \n",
       "110 -0.745201 0 days 00:01:59.218402              0.070074                63   \n",
       "109 -0.745185 0 days 00:02:01.608046              0.071428                59   \n",
       "32  -0.745143 0 days 00:01:48.595696              0.083838                75   \n",
       "11  -0.745024 0 days 00:01:53.607727              0.070147                50   \n",
       "91  -0.745024 0 days 00:02:02.570888              0.066258                64   \n",
       "74  -0.745009 0 days 00:01:46.633308              0.071106                62   \n",
       "43  -0.744997 0 days 00:01:56.912877              0.060453                60   \n",
       "\n",
       "     params_n_estimators  params_num_leaves  \n",
       "122                  880                112  \n",
       "124                  870                112  \n",
       "134                  870                138  \n",
       "110                  860                122  \n",
       "109                  870                122  \n",
       "32                   850                110  \n",
       "11                  1050                 80  \n",
       "91                   925                115  \n",
       "74                   800                115  \n",
       "43                   750                140  "
      ]
     },
     "execution_count": 148,
     "metadata": {},
     "output_type": "execute_result"
    }
   ],
   "source": [
    "study = joblib.load('pickle/study_LightGBM_stacked.pkl')\n",
    "\n",
    "print('Cantidad de evaluaciones:',len(study.trials))\n",
    "print('Mejor evaluación:', study.best_value, 'en trial', study.best_trial.number)\n",
    "print('Mejores parámetros:', study.best_params)\n",
    "print('Evaluaciones:')\n",
    "study.trials_dataframe().nsmallest(10, 'value')[['value', 'duration', 'params_learning_rate', 'params_max_depth', 'params_n_estimators', 'params_num_leaves']]"
   ]
  }
 ],
 "metadata": {
  "kernelspec": {
   "display_name": "Python 3 (ipykernel)",
   "language": "python",
   "name": "python3"
  },
  "language_info": {
   "codemirror_mode": {
    "name": "ipython",
    "version": 3
   },
   "file_extension": ".py",
   "mimetype": "text/x-python",
   "name": "python",
   "nbconvert_exporter": "python",
   "pygments_lexer": "ipython3",
   "version": "3.9.6"
  }
 },
 "nbformat": 4,
 "nbformat_minor": 5
}
