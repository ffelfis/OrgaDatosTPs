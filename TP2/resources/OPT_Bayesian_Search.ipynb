{
  "nbformat": 4,
  "nbformat_minor": 0,
  "metadata": {
    "colab": {
      "name": "OPT_Bayesian_Search.ipynb",
      "provenance": [],
      "collapsed_sections": [],
      "authorship_tag": "ABX9TyPvfnQ9U5r6R22JteEmR4KL",
      "include_colab_link": true
    },
    "kernelspec": {
      "name": "python3",
      "display_name": "Python 3"
    },
    "language_info": {
      "name": "python"
    }
  },
  "cells": [
    {
      "cell_type": "markdown",
      "metadata": {
        "id": "view-in-github",
        "colab_type": "text"
      },
      "source": [
        "<a href=\"https://colab.research.google.com/github/ffelfis/OrgaDatosTPs/blob/main/TP2/resources/OPT_Bayesian_Search.ipynb\" target=\"_parent\"><img src=\"https://colab.research.google.com/assets/colab-badge.svg\" alt=\"Open In Colab\"/></a>"
      ]
    },
    {
      "cell_type": "markdown",
      "metadata": {
        "id": "_DrbBu-tiSyC"
      },
      "source": [
        "# Lectura de datos de Google Drive"
      ]
    },
    {
      "cell_type": "code",
      "metadata": {
        "colab": {
          "base_uri": "https://localhost:8080/"
        },
        "id": "1F_f9l63h-ej",
        "outputId": "aefd818e-a8cd-4f17-a617-50b8afaa0534"
      },
      "source": [
        "# Lectura de Dataset desde Google Drive\n",
        "from google.colab import drive\n",
        "drive.mount('/content/drive')"
      ],
      "execution_count": null,
      "outputs": [
        {
          "output_type": "stream",
          "text": [
            "Mounted at /content/drive\n"
          ],
          "name": "stdout"
        }
      ]
    },
    {
      "cell_type": "markdown",
      "metadata": {
        "id": "EpNLc4kPyAbf"
      },
      "source": [
        "# Para importar funciones customizadas\n",
        "\n",
        "Hay que especificar la ruta de donde se encuentra el módulo (archivo `.py`) para buscar las funciones.\n",
        "\n",
        "La lectura puede ser muy celosa: las indentaciones son de 4 espacios no tabulaciones.\n",
        "\n",
        "https://colab.research.google.com/drive/1uvHuizCBqFgvbCwEhK7FvU8JW0AfxgJw"
      ]
    },
    {
      "cell_type": "code",
      "metadata": {
        "id": "TeM6NwOeyKur"
      },
      "source": [
        "import sys\n",
        "sys.path.append('/content/drive/My Drive/75.06 - Organización de Datos/TP2/resources')"
      ],
      "execution_count": null,
      "outputs": []
    },
    {
      "cell_type": "markdown",
      "metadata": {
        "id": "IPn2qfW5o-OV"
      },
      "source": [
        "# Instalación de librerías\n",
        "\n",
        "Hay que instalar `scikit-optimize`."
      ]
    },
    {
      "cell_type": "code",
      "metadata": {
        "colab": {
          "base_uri": "https://localhost:8080/"
        },
        "id": "iimH0iClo9Cs",
        "outputId": "c3560312-58d7-411a-89bf-52fc2d2ba8f0"
      },
      "source": [
        "!pip install scikit-optimize"
      ],
      "execution_count": null,
      "outputs": [
        {
          "output_type": "stream",
          "text": [
            "Collecting scikit-optimize\n",
            "  Downloading scikit_optimize-0.8.1-py2.py3-none-any.whl (101 kB)\n",
            "\u001b[?25l\r\u001b[K     |███▎                            | 10 kB 26.9 MB/s eta 0:00:01\r\u001b[K     |██████▌                         | 20 kB 31.5 MB/s eta 0:00:01\r\u001b[K     |█████████▊                      | 30 kB 23.0 MB/s eta 0:00:01\r\u001b[K     |█████████████                   | 40 kB 18.8 MB/s eta 0:00:01\r\u001b[K     |████████████████▏               | 51 kB 9.4 MB/s eta 0:00:01\r\u001b[K     |███████████████████▍            | 61 kB 9.7 MB/s eta 0:00:01\r\u001b[K     |██████████████████████▊         | 71 kB 10.3 MB/s eta 0:00:01\r\u001b[K     |██████████████████████████      | 81 kB 9.4 MB/s eta 0:00:01\r\u001b[K     |█████████████████████████████▏  | 92 kB 9.7 MB/s eta 0:00:01\r\u001b[K     |████████████████████████████████| 101 kB 5.6 MB/s \n",
            "\u001b[?25hCollecting pyaml>=16.9\n",
            "  Downloading pyaml-20.4.0-py2.py3-none-any.whl (17 kB)\n",
            "Requirement already satisfied: scipy>=0.19.1 in /usr/local/lib/python3.7/dist-packages (from scikit-optimize) (1.4.1)\n",
            "Requirement already satisfied: numpy>=1.13.3 in /usr/local/lib/python3.7/dist-packages (from scikit-optimize) (1.19.5)\n",
            "Requirement already satisfied: scikit-learn>=0.20.0 in /usr/local/lib/python3.7/dist-packages (from scikit-optimize) (0.22.2.post1)\n",
            "Requirement already satisfied: joblib>=0.11 in /usr/local/lib/python3.7/dist-packages (from scikit-optimize) (1.0.1)\n",
            "Requirement already satisfied: PyYAML in /usr/local/lib/python3.7/dist-packages (from pyaml>=16.9->scikit-optimize) (3.13)\n",
            "Installing collected packages: pyaml, scikit-optimize\n",
            "Successfully installed pyaml-20.4.0 scikit-optimize-0.8.1\n"
          ],
          "name": "stdout"
        }
      ]
    },
    {
      "cell_type": "markdown",
      "metadata": {
        "id": "phUPpKV5ie5n"
      },
      "source": [
        "# Carga de librerías y directorios"
      ]
    },
    {
      "cell_type": "code",
      "metadata": {
        "id": "jhFuDtsTifvX"
      },
      "source": [
        "import pandas as pd\n",
        "import numpy as np\n",
        "\n",
        "# Métrica\n",
        "from sklearn.metrics import f1_score\n",
        "\n",
        "# Clasificador\n",
        "from sklearn.ensemble import RandomForestClassifier\n",
        "\n",
        "# Paquete de Grid Search Cross Validation\n",
        "from sklearn.model_selection import GridSearchCV\n",
        "\n",
        "# Para el cambio de tipo de datos: para reducir el uso de memoria\n",
        "from utilidades import cambio_tipos\n",
        "\n",
        "# Para la división en k-folds\n",
        "from sklearn.model_selection import StratifiedKFold\n",
        "\n",
        "# Para búsqueda Bayesiana\n",
        "from functools import partial\n",
        "# Para función a minimizar\n",
        "from skopt import space\n",
        "from skopt import gp_minimize"
      ],
      "execution_count": null,
      "outputs": []
    },
    {
      "cell_type": "markdown",
      "metadata": {
        "id": "0sINS71mixTT"
      },
      "source": [
        "# Rutas de los archivos a usar"
      ]
    },
    {
      "cell_type": "code",
      "metadata": {
        "id": "wCBPCSsUisx2"
      },
      "source": [
        "# Ruta train_values.csv\n",
        "dir_values = '/content/drive/My Drive/75.06 - Organización de Datos/TP1/Data/train_values.csv'\n",
        "# Ruta train_labels.csv\n",
        "dir_labels = '/content/drive/My Drive/75.06 - Organización de Datos/TP1/Data/train_labels.csv'\n",
        "# Ruta de Binary Encodings para train_values.csv\n",
        "dir_Binary = '/content/drive/My Drive/75.06 - Organización de Datos/TP2/resources'"
      ],
      "execution_count": null,
      "outputs": []
    },
    {
      "cell_type": "markdown",
      "metadata": {
        "id": "U10d9Z3cjmEn"
      },
      "source": [
        "---\n",
        "#Entrenamiento\n",
        "---\n",
        "### Carga de train"
      ]
    },
    {
      "cell_type": "code",
      "metadata": {
        "id": "_GU7d7LENLcs"
      },
      "source": [
        "columnas = ['building_id',\n",
        " 'geo_level_1_id',\n",
        " 'geo_level_2_id',\n",
        " 'geo_level_3_id',\n",
        " 'count_floors_pre_eq',\n",
        " 'age',\n",
        " 'area_percentage',\n",
        " 'height_percentage',\n",
        " 'has_superstructure_adobe_mud',\n",
        " 'has_superstructure_mud_mortar_stone',\n",
        " 'has_superstructure_stone_flag',\n",
        " 'has_superstructure_cement_mortar_stone',\n",
        " 'has_superstructure_mud_mortar_brick',\n",
        " 'has_superstructure_cement_mortar_brick',\n",
        " 'has_superstructure_timber',\n",
        " 'has_superstructure_bamboo',\n",
        " 'has_superstructure_rc_non_engineered',\n",
        " 'has_superstructure_rc_engineered',\n",
        " 'has_superstructure_other',\n",
        " 'count_families',\n",
        " 'has_secondary_use',\n",
        " 'has_secondary_use_agriculture',\n",
        " 'has_secondary_use_hotel',\n",
        " 'has_secondary_use_rental',\n",
        " 'has_secondary_use_institution',\n",
        " 'has_secondary_use_school',\n",
        " 'has_secondary_use_industry',\n",
        " 'has_secondary_use_health_post',\n",
        " 'has_secondary_use_gov_office',\n",
        " 'has_secondary_use_use_police',\n",
        " 'has_secondary_use_other']\n",
        "\n",
        "# Carga de train_values.csv\n",
        "train = pd.read_csv(dir_values, usecols=columnas)"
      ],
      "execution_count": null,
      "outputs": []
    },
    {
      "cell_type": "markdown",
      "metadata": {
        "id": "Gllv83PimADJ"
      },
      "source": [
        "### Cambio de tipos de datos"
      ]
    },
    {
      "cell_type": "code",
      "metadata": {
        "id": "HrZAEMGAj-tJ"
      },
      "source": [
        "train = cambio_tipos(train)"
      ],
      "execution_count": null,
      "outputs": []
    },
    {
      "cell_type": "markdown",
      "metadata": {
        "id": "cEOYhxbpbfaN"
      },
      "source": [
        "### Carga de columnas codificadas: Binary Encoding"
      ]
    },
    {
      "cell_type": "code",
      "metadata": {
        "id": "-i_00Z0Cbmyb"
      },
      "source": [
        "# 28 columnas más.\n",
        "train = train.join(pd.read_csv(dir_Binary+f'/BE_train.csv', dtype='uint8'))\n",
        "\n",
        "X = train.values"
      ],
      "execution_count": null,
      "outputs": []
    },
    {
      "cell_type": "markdown",
      "metadata": {
        "id": "dBiOdGmvWsIP"
      },
      "source": [
        "### Carga de labels"
      ]
    },
    {
      "cell_type": "code",
      "metadata": {
        "id": "Q4DACqZZWrLe"
      },
      "source": [
        "# Carga de train_labels.csv\n",
        "labels = pd.read_csv(dir_labels, usecols=['damage_grade'], dtype='uint8')\n",
        "\n",
        "y = labels.damage_grade.values"
      ],
      "execution_count": null,
      "outputs": []
    },
    {
      "cell_type": "markdown",
      "metadata": {
        "id": "jW5f1gQ3bUO0"
      },
      "source": [
        "### Instancia del clasificador."
      ]
    },
    {
      "cell_type": "code",
      "metadata": {
        "id": "bvkbg2K4bQ06"
      },
      "source": [
        "rfc = RandomForestClassifier()"
      ],
      "execution_count": null,
      "outputs": []
    },
    {
      "cell_type": "markdown",
      "metadata": {
        "id": "1NaLWh8FgKbH"
      },
      "source": [
        "# Bayesian Search"
      ]
    },
    {
      "cell_type": "markdown",
      "metadata": {
        "id": "p-_z7wrBxFT5"
      },
      "source": [
        "Hay que crear una función de optimización.\n",
        "\n",
        "https://stackoverflow.com/questions/55667169/key-error-none-of-int64index-dtype-int64-are-in-the-columns "
      ]
    },
    {
      "cell_type": "code",
      "metadata": {
        "id": "oxencogjgUUY"
      },
      "source": [
        "# params: lista de valores de parámetros (value)\n",
        "# param_names: lista de nombres de los parámetros (key)\n",
        "# x: features\n",
        "# y: target\n",
        "\n",
        "def optimize(params, param_names, x, y):\n",
        "  # Se crea un diccionario con los parámetros y sus nombres\n",
        "  params = dict(zip(param_names, params))\n",
        "  # Se instancia el modelo con el diccionario de parámetros\n",
        "  model = RandomForestClassifier(**params)\n",
        "  # Hay que realizar el k-folding\n",
        "  kf = StratifiedKFold(n_splits=5)\n",
        "  # Lista de scores\n",
        "  scores = []\n",
        "  # Se dividen los datos\n",
        "  for index in kf.split(X=x, y=y):\n",
        "    train_index, test_index = index[0], index[1]\n",
        "    X_train = x[train_index]\n",
        "    y_train = y[train_index]\n",
        "    X_test = x[test_index]\n",
        "    y_test = y[test_index]\n",
        "    # Entrenamiento del k-fold\n",
        "    model.fit(X_train, y_train)\n",
        "    prediction = model.predict(X_test)\n",
        "    fold_score = f1_score(y_test, prediction, average='micro')\n",
        "    # Se agrega el score a la lista\n",
        "    scores.append(fold_score)\n",
        "  # Ahora hay que devolver la función para minimizar\n",
        "  return -1.0 * np.mean(scores)"
      ],
      "execution_count": null,
      "outputs": []
    },
    {
      "cell_type": "markdown",
      "metadata": {
        "id": "ClUE22nWmSeY"
      },
      "source": [
        "### Espacio de parámetros para realizar la búsqueda"
      ]
    },
    {
      "cell_type": "code",
      "metadata": {
        "id": "0C8R1Y_DmbAn"
      },
      "source": [
        "param_space = [\n",
        "  space.Integer(30, 50, name='max_depth'),\n",
        "  space.Integer(20, 50, name='n_estimators'),\n",
        "  space.Categorical(['gini', 'entropy'], name='criterion'),\n",
        "  space.Real(0.05, 1, prior='uniform', name='max_features')\n",
        "]"
      ],
      "execution_count": null,
      "outputs": []
    },
    {
      "cell_type": "markdown",
      "metadata": {
        "id": "chE6N_5oqMf4"
      },
      "source": [
        "Se definen los nombres de los parámetros."
      ]
    },
    {
      "cell_type": "code",
      "metadata": {
        "id": "a7SyEdRVqQj6"
      },
      "source": [
        "param_names = [\n",
        "  'max_depth',\n",
        "  'n_estimators', \n",
        "  'criterion',\n",
        "  'max_features'\n",
        "]"
      ],
      "execution_count": null,
      "outputs": []
    },
    {
      "cell_type": "markdown",
      "metadata": {
        "id": "A7uSjmDDngbf"
      },
      "source": [
        "Función para optimizar (partial: se pasan algunos parámetros y algunos de ellos se pasan muchas veces)."
      ]
    },
    {
      "cell_type": "code",
      "metadata": {
        "id": "m3Vgggsom3jN"
      },
      "source": [
        "optimization_function = partial(optimize, \n",
        "                                param_names = param_names, \n",
        "                                x=X, \n",
        "                                y=y)"
      ],
      "execution_count": null,
      "outputs": []
    },
    {
      "cell_type": "markdown",
      "metadata": {
        "id": "a3ePQsysrAtA"
      },
      "source": [
        "Hay que ejecutar la función `gp_minimize`."
      ]
    },
    {
      "cell_type": "code",
      "metadata": {
        "colab": {
          "base_uri": "https://localhost:8080/"
        },
        "id": "NERgXlanrU8Y",
        "outputId": "303fd46c-8821-4f04-faba-b084a24a74b9"
      },
      "source": [
        "result = gp_minimize(optimization_function, \n",
        "                     dimensions=param_space, \n",
        "                     n_calls=15, \n",
        "                     n_random_starts=10, \n",
        "                     verbose=10)"
      ],
      "execution_count": null,
      "outputs": [
        {
          "output_type": "stream",
          "text": [
            "Iteration No: 1 started. Evaluating function at random point.\n",
            "Iteration No: 1 ended. Evaluation done at random point.\n",
            "Time taken: 324.9155\n",
            "Function value obtained: -0.7268\n",
            "Current minimum: -0.7268\n",
            "Iteration No: 2 started. Evaluating function at random point.\n",
            "Iteration No: 2 ended. Evaluation done at random point.\n",
            "Time taken: 488.2390\n",
            "Function value obtained: -0.7281\n",
            "Current minimum: -0.7281\n",
            "Iteration No: 3 started. Evaluating function at random point.\n",
            "Iteration No: 3 ended. Evaluation done at random point.\n",
            "Time taken: 224.8897\n",
            "Function value obtained: -0.7205\n",
            "Current minimum: -0.7281\n",
            "Iteration No: 4 started. Evaluating function at random point.\n",
            "Iteration No: 4 ended. Evaluation done at random point.\n",
            "Time taken: 277.5184\n",
            "Function value obtained: -0.7239\n",
            "Current minimum: -0.7281\n",
            "Iteration No: 5 started. Evaluating function at random point.\n",
            "Iteration No: 5 ended. Evaluation done at random point.\n",
            "Time taken: 291.5619\n",
            "Function value obtained: -0.7257\n",
            "Current minimum: -0.7281\n",
            "Iteration No: 6 started. Evaluating function at random point.\n",
            "Iteration No: 6 ended. Evaluation done at random point.\n",
            "Time taken: 219.1280\n",
            "Function value obtained: -0.7231\n",
            "Current minimum: -0.7281\n",
            "Iteration No: 7 started. Evaluating function at random point.\n",
            "Iteration No: 7 ended. Evaluation done at random point.\n",
            "Time taken: 341.8991\n",
            "Function value obtained: -0.7286\n",
            "Current minimum: -0.7286\n",
            "Iteration No: 8 started. Evaluating function at random point.\n",
            "Iteration No: 8 ended. Evaluation done at random point.\n",
            "Time taken: 280.9706\n",
            "Function value obtained: -0.7242\n",
            "Current minimum: -0.7286\n",
            "Iteration No: 9 started. Evaluating function at random point.\n",
            "Iteration No: 9 ended. Evaluation done at random point.\n",
            "Time taken: 272.4373\n",
            "Function value obtained: -0.7273\n",
            "Current minimum: -0.7286\n",
            "Iteration No: 10 started. Evaluating function at random point.\n",
            "Iteration No: 10 ended. Evaluation done at random point.\n",
            "Time taken: 468.1933\n",
            "Function value obtained: -0.7260\n",
            "Current minimum: -0.7286\n",
            "Iteration No: 11 started. Searching for the next optimal point.\n",
            "Iteration No: 11 ended. Search finished for the next optimal point.\n",
            "Time taken: 42.6732\n",
            "Function value obtained: -0.6897\n",
            "Current minimum: -0.7286\n",
            "Iteration No: 12 started. Searching for the next optimal point.\n",
            "Iteration No: 12 ended. Search finished for the next optimal point.\n",
            "Time taken: 761.4040\n",
            "Function value obtained: -0.7298\n",
            "Current minimum: -0.7298\n",
            "Iteration No: 13 started. Searching for the next optimal point.\n",
            "Iteration No: 13 ended. Search finished for the next optimal point.\n",
            "Time taken: 571.1350\n",
            "Function value obtained: -0.7296\n",
            "Current minimum: -0.7298\n",
            "Iteration No: 14 started. Searching for the next optimal point.\n",
            "Iteration No: 14 ended. Search finished for the next optimal point.\n",
            "Time taken: 583.8767\n",
            "Function value obtained: -0.7272\n",
            "Current minimum: -0.7298\n",
            "Iteration No: 15 started. Searching for the next optimal point.\n",
            "Iteration No: 15 ended. Search finished for the next optimal point.\n",
            "Time taken: 502.9080\n",
            "Function value obtained: -0.7288\n",
            "Current minimum: -0.7298\n"
          ],
          "name": "stdout"
        }
      ]
    },
    {
      "cell_type": "markdown",
      "metadata": {
        "id": "Sk6OtBrrr1il"
      },
      "source": [
        "Se muestra los parámetros."
      ]
    },
    {
      "cell_type": "code",
      "metadata": {
        "colab": {
          "base_uri": "https://localhost:8080/"
        },
        "id": "7X3h5mpzE_qT",
        "outputId": "a9ec20de-7a4a-4a7b-c484-fe66886a103e"
      },
      "source": [
        "type(result)"
      ],
      "execution_count": null,
      "outputs": [
        {
          "output_type": "execute_result",
          "data": {
            "text/plain": [
              "scipy.optimize.optimize.OptimizeResult"
            ]
          },
          "metadata": {
            "tags": []
          },
          "execution_count": 31
        }
      ]
    },
    {
      "cell_type": "code",
      "metadata": {
        "id": "6x_1bULor4XG",
        "colab": {
          "base_uri": "https://localhost:8080/"
        },
        "outputId": "c16dfd4c-43b5-41a1-b8f6-83f304c82b20"
      },
      "source": [
        "print('Mejores parámetros del espacio de búsqueda:')\n",
        "print(dict(zip(param_names,result.x)))"
      ],
      "execution_count": null,
      "outputs": [
        {
          "output_type": "stream",
          "text": [
            "Mejores parámetros del espacio de búsqueda:\n",
            "{'max_depth': 30, 'n_estimators': 50, 'criterion': 'entropy', 'max_features': 1.0}\n"
          ],
          "name": "stdout"
        }
      ]
    }
  ]
}