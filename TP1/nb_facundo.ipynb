{
  "nbformat": 4,
  "nbformat_minor": 0,
  "metadata": {
    "colab": {
      "name": "nb_facundo.ipynb",
      "provenance": [],
      "collapsed_sections": [],
      "authorship_tag": "ABX9TyPKVBXCOTGRi9gecqHCkm8b",
      "include_colab_link": true
    },
    "kernelspec": {
      "name": "python3",
      "display_name": "Python 3"
    },
    "language_info": {
      "name": "python"
    }
  },
  "cells": [
    {
      "cell_type": "markdown",
      "metadata": {
        "id": "view-in-github",
        "colab_type": "text"
      },
      "source": [
        "<a href=\"https://colab.research.google.com/github/ffelfis/OrgaDatosTPs/blob/main/TP1/nb_facundo.ipynb\" target=\"_parent\"><img src=\"https://colab.research.google.com/assets/colab-badge.svg\" alt=\"Open In Colab\"/></a>"
      ]
    },
    {
      "cell_type": "code",
      "metadata": {
        "id": "D453xuM9RRaJ"
      },
      "source": [
        "import pandas as pd\n",
        "import numpy as np\n",
        "import matplotlib.pyplot as plt\n",
        "from matplotlib.ticker import FuncFormatter\n",
        "#import seaborn as sns"
      ],
      "execution_count": 1,
      "outputs": []
    },
    {
      "cell_type": "code",
      "metadata": {
        "colab": {
          "base_uri": "https://localhost:8080/"
        },
        "id": "twG1ocJDSg_5",
        "outputId": "b10ce025-90e6-4c03-ac7a-44d831310427"
      },
      "source": [
        "# Lectura de Dataset desde Google Drive\n",
        "from google.colab import drive\n",
        "drive.mount('/content/gdrive')"
      ],
      "execution_count": 2,
      "outputs": [
        {
          "output_type": "stream",
          "text": [
            "Mounted at /content/gdrive\n"
          ],
          "name": "stdout"
        }
      ]
    },
    {
      "cell_type": "markdown",
      "metadata": {
        "id": "w725QZTCuGCH"
      },
      "source": [
        "# Análisis de train_values.csv"
      ]
    },
    {
      "cell_type": "code",
      "metadata": {
        "id": "rHP1qWSiYpse"
      },
      "source": [
        "# Ruta train_values.csv\n",
        "dir_values = '/content/gdrive/My Drive/75.06 - Organización de Datos/TP1/Data/train_values.csv'\n",
        "\n",
        "df = pd.read_csv(dir_values)"
      ],
      "execution_count": 3,
      "outputs": []
    },
    {
      "cell_type": "code",
      "metadata": {
        "colab": {
          "base_uri": "https://localhost:8080/"
        },
        "id": "qkoUExA6adnb",
        "outputId": "d8a3c19d-d758-44ff-e53d-b8f864fe61fd"
      },
      "source": [
        "df.info()"
      ],
      "execution_count": 4,
      "outputs": [
        {
          "output_type": "stream",
          "text": [
            "<class 'pandas.core.frame.DataFrame'>\n",
            "RangeIndex: 260601 entries, 0 to 260600\n",
            "Data columns (total 39 columns):\n",
            " #   Column                                  Non-Null Count   Dtype \n",
            "---  ------                                  --------------   ----- \n",
            " 0   building_id                             260601 non-null  int64 \n",
            " 1   geo_level_1_id                          260601 non-null  int64 \n",
            " 2   geo_level_2_id                          260601 non-null  int64 \n",
            " 3   geo_level_3_id                          260601 non-null  int64 \n",
            " 4   count_floors_pre_eq                     260601 non-null  int64 \n",
            " 5   age                                     260601 non-null  int64 \n",
            " 6   area_percentage                         260601 non-null  int64 \n",
            " 7   height_percentage                       260601 non-null  int64 \n",
            " 8   land_surface_condition                  260601 non-null  object\n",
            " 9   foundation_type                         260601 non-null  object\n",
            " 10  roof_type                               260601 non-null  object\n",
            " 11  ground_floor_type                       260601 non-null  object\n",
            " 12  other_floor_type                        260601 non-null  object\n",
            " 13  position                                260601 non-null  object\n",
            " 14  plan_configuration                      260601 non-null  object\n",
            " 15  has_superstructure_adobe_mud            260601 non-null  int64 \n",
            " 16  has_superstructure_mud_mortar_stone     260601 non-null  int64 \n",
            " 17  has_superstructure_stone_flag           260601 non-null  int64 \n",
            " 18  has_superstructure_cement_mortar_stone  260601 non-null  int64 \n",
            " 19  has_superstructure_mud_mortar_brick     260601 non-null  int64 \n",
            " 20  has_superstructure_cement_mortar_brick  260601 non-null  int64 \n",
            " 21  has_superstructure_timber               260601 non-null  int64 \n",
            " 22  has_superstructure_bamboo               260601 non-null  int64 \n",
            " 23  has_superstructure_rc_non_engineered    260601 non-null  int64 \n",
            " 24  has_superstructure_rc_engineered        260601 non-null  int64 \n",
            " 25  has_superstructure_other                260601 non-null  int64 \n",
            " 26  legal_ownership_status                  260601 non-null  object\n",
            " 27  count_families                          260601 non-null  int64 \n",
            " 28  has_secondary_use                       260601 non-null  int64 \n",
            " 29  has_secondary_use_agriculture           260601 non-null  int64 \n",
            " 30  has_secondary_use_hotel                 260601 non-null  int64 \n",
            " 31  has_secondary_use_rental                260601 non-null  int64 \n",
            " 32  has_secondary_use_institution           260601 non-null  int64 \n",
            " 33  has_secondary_use_school                260601 non-null  int64 \n",
            " 34  has_secondary_use_industry              260601 non-null  int64 \n",
            " 35  has_secondary_use_health_post           260601 non-null  int64 \n",
            " 36  has_secondary_use_gov_office            260601 non-null  int64 \n",
            " 37  has_secondary_use_use_police            260601 non-null  int64 \n",
            " 38  has_secondary_use_other                 260601 non-null  int64 \n",
            "dtypes: int64(31), object(8)\n",
            "memory usage: 77.5+ MB\n"
          ],
          "name": "stdout"
        }
      ]
    },
    {
      "cell_type": "code",
      "metadata": {
        "colab": {
          "base_uri": "https://localhost:8080/"
        },
        "id": "Uy-QKqVslQuY",
        "outputId": "cb3f666f-1349-4e03-c024-fa74a74d6078"
      },
      "source": [
        "memoria = df.memory_usage(deep=True).sum()/(2**20)\n",
        "print('Se usan', np.round(memoria, 2), 'MiB')"
      ],
      "execution_count": 5,
      "outputs": [
        {
          "output_type": "stream",
          "text": [
            "Se usan 176.95 MiB\n"
          ],
          "name": "stdout"
        }
      ]
    },
    {
      "cell_type": "markdown",
      "metadata": {
        "id": "o4xmNmYNkiVJ"
      },
      "source": [
        "No hay columnas con datos nulos.\n",
        "\n",
        "Se puede reallizar un cambio de tipo a las columnas para ajustar el uso de memoria."
      ]
    },
    {
      "cell_type": "markdown",
      "metadata": {
        "id": "6YW-yaXYkuT_"
      },
      "source": [
        "### Columnas numéricas\n",
        "\n",
        "`building_id`: \\[4, 1052934\\] $\\rightarrow$ int32\n",
        "\n",
        "`geo_level_1_id`: \\[0, 30\\] $\\rightarrow$ int8\n",
        "\n",
        "`geo_level_2_id`: \\[0, 1427\\] $\\rightarrow$ int16\n",
        "\n",
        "`geo_level_3_id`: \\[0, 12567\\] $\\rightarrow$ int16\n",
        "\n",
        "`count_floors_pre_eq`: \\[0, 9\\] $\\rightarrow$ int8\n",
        "\n",
        "`age`: \\[0, 995\\] $\\rightarrow$ int16\n",
        "\n",
        "`area_percentage`: \\[0, 100\\] $\\rightarrow$ int8\n",
        "\n",
        "`height_percentage`: \\[2, 32\\] $\\rightarrow$ int8\n",
        "\n",
        "`count_families`: \\[0, 9\\] $\\rightarrow$ int8"
      ]
    },
    {
      "cell_type": "code",
      "metadata": {
        "colab": {
          "base_uri": "https://localhost:8080/",
          "height": 112
        },
        "id": "YPvawtN9nq3L",
        "outputId": "b1daf9fc-0620-4d81-c16f-e31f247e67cf"
      },
      "source": [
        "df.loc[:, 'building_id':'height_percentage'].describe().astype('int64').loc[['max', 'min'], :]"
      ],
      "execution_count": 6,
      "outputs": [
        {
          "output_type": "execute_result",
          "data": {
            "text/html": [
              "<div>\n",
              "<style scoped>\n",
              "    .dataframe tbody tr th:only-of-type {\n",
              "        vertical-align: middle;\n",
              "    }\n",
              "\n",
              "    .dataframe tbody tr th {\n",
              "        vertical-align: top;\n",
              "    }\n",
              "\n",
              "    .dataframe thead th {\n",
              "        text-align: right;\n",
              "    }\n",
              "</style>\n",
              "<table border=\"1\" class=\"dataframe\">\n",
              "  <thead>\n",
              "    <tr style=\"text-align: right;\">\n",
              "      <th></th>\n",
              "      <th>building_id</th>\n",
              "      <th>geo_level_1_id</th>\n",
              "      <th>geo_level_2_id</th>\n",
              "      <th>geo_level_3_id</th>\n",
              "      <th>count_floors_pre_eq</th>\n",
              "      <th>age</th>\n",
              "      <th>area_percentage</th>\n",
              "      <th>height_percentage</th>\n",
              "    </tr>\n",
              "  </thead>\n",
              "  <tbody>\n",
              "    <tr>\n",
              "      <th>max</th>\n",
              "      <td>1052934</td>\n",
              "      <td>30</td>\n",
              "      <td>1427</td>\n",
              "      <td>12567</td>\n",
              "      <td>9</td>\n",
              "      <td>995</td>\n",
              "      <td>100</td>\n",
              "      <td>32</td>\n",
              "    </tr>\n",
              "    <tr>\n",
              "      <th>min</th>\n",
              "      <td>4</td>\n",
              "      <td>0</td>\n",
              "      <td>0</td>\n",
              "      <td>0</td>\n",
              "      <td>1</td>\n",
              "      <td>0</td>\n",
              "      <td>1</td>\n",
              "      <td>2</td>\n",
              "    </tr>\n",
              "  </tbody>\n",
              "</table>\n",
              "</div>"
            ],
            "text/plain": [
              "     building_id  geo_level_1_id  ...  area_percentage  height_percentage\n",
              "max      1052934              30  ...              100                 32\n",
              "min            4               0  ...                1                  2\n",
              "\n",
              "[2 rows x 8 columns]"
            ]
          },
          "metadata": {
            "tags": []
          },
          "execution_count": 6
        }
      ]
    },
    {
      "cell_type": "code",
      "metadata": {
        "id": "AmU6cFm7mo9b"
      },
      "source": [
        "df['building_id'] = df['building_id'].astype('int32')\n",
        "df['geo_level_1_id'] = df['geo_level_1_id'].astype('int8')\n",
        "df['geo_level_2_id'] = df['geo_level_2_id'].astype('int16')\n",
        "df['geo_level_3_id'] = df['geo_level_3_id'].astype('int16')\n",
        "df['count_floors_pre_eq'] = df['count_floors_pre_eq'].astype('int8')\n",
        "df['age'] = df['age'].astype('int16')\n",
        "df['area_percentage'] = df['area_percentage'].astype('int8')\n",
        "df['height_percentage'] = df['height_percentage'].astype('int8')\n",
        "df['count_families'] = df['count_families'].astype('int8')"
      ],
      "execution_count": 7,
      "outputs": []
    },
    {
      "cell_type": "code",
      "metadata": {
        "colab": {
          "base_uri": "https://localhost:8080/"
        },
        "id": "IfYd86OyoOpv",
        "outputId": "4a01c044-2926-4568-9bd4-08d0c3b3fa83"
      },
      "source": [
        "memoria = df.memory_usage(deep=True).sum()/(2**20)\n",
        "print('Se usan', np.round(memoria, 2), 'MiB')"
      ],
      "execution_count": 8,
      "outputs": [
        {
          "output_type": "stream",
          "text": [
            "Se usan 162.79 MiB\n"
          ],
          "name": "stdout"
        }
      ]
    },
    {
      "cell_type": "markdown",
      "metadata": {
        "id": "jZyN6JjekzUy"
      },
      "source": [
        "### Columnas booleanas\n",
        "\n",
        "`has_superstructure_adobe_mud`, `has_superstructure_mud_mortar_stone`, `has_superstructure_stone_flag`, \n",
        "`has_superstructure_cement_mortar_stone`, `has_superstructure_mud_mortar_brick`, `has_superstructure_cement_mortar_brick`, `has_superstructure_timber`, `has_superstructure_bamboo`, `has_superstructure_rc_non_engineered`, `has_superstructure_rc_engineered`, `has_superstructure_other`, `has_secondary_use`, `has_secondary_use_agriculture`, `has_secondary_use_hotel`, `has_secondary_use_rental`, `has_secondary_use_institution`, `has_secondary_use_school`, `has_secondary_use_industry`, `has_secondary_use_health_post`, `has_secondary_use_gov_office`, `has_secondary_use_use_police`, `has_secondary_use_other`\n",
        "\n",
        "Todas tienen valores \\[0, 1\\] $\\Longrightarrow$ bool"
      ]
    },
    {
      "cell_type": "code",
      "metadata": {
        "id": "6UQ__Uh1qXGl"
      },
      "source": [
        "df['has_superstructure_adobe_mud'] = df['has_superstructure_adobe_mud'].astype('bool')\n",
        "df['has_superstructure_mud_mortar_stone'] = df['has_superstructure_mud_mortar_stone'].astype('bool')\n",
        "df['has_superstructure_stone_flag'] = df['has_superstructure_stone_flag'].astype('bool')\n",
        "df['has_superstructure_cement_mortar_stone'] = df['has_superstructure_cement_mortar_stone'].astype('bool')\n",
        "df['has_superstructure_mud_mortar_brick'] = df['has_superstructure_mud_mortar_brick'].astype('bool')\n",
        "df['has_superstructure_cement_mortar_brick'] = df['has_superstructure_cement_mortar_brick'].astype('bool')\n",
        "df['has_superstructure_timber'] = df['has_superstructure_timber'].astype('bool')\n",
        "df['has_superstructure_bamboo'] = df['has_superstructure_bamboo'].astype('bool')\n",
        "df['has_superstructure_rc_non_engineered'] = df['has_superstructure_rc_non_engineered'].astype('bool')\n",
        "df['has_superstructure_rc_engineered'] = df['has_superstructure_rc_engineered'].astype('bool')\n",
        "df['has_superstructure_other'] = df['has_superstructure_other'].astype('bool')\n",
        "df['has_secondary_use'] = df['has_secondary_use'].astype('bool')\n",
        "df['has_secondary_use_agriculture'] = df['has_secondary_use_agriculture'].astype('bool')\n",
        "df['has_secondary_use_hotel'] = df['has_secondary_use_hotel'].astype('bool')\n",
        "df['has_secondary_use_rental'] = df['has_secondary_use_rental'].astype('bool')\n",
        "df['has_secondary_use_institution'] = df['has_secondary_use_institution'].astype('bool')\n",
        "df['has_secondary_use_school'] = df['has_secondary_use_school'].astype('bool')\n",
        "df['has_secondary_use_industry'] = df['has_secondary_use_industry'].astype('bool')\n",
        "df['has_secondary_use_health_post'] = df['has_secondary_use_health_post'].astype('bool')\n",
        "df['has_secondary_use_gov_office'] = df['has_secondary_use_gov_office'].astype('bool')\n",
        "df['has_secondary_use_use_police'] = df['has_secondary_use_use_police'].astype('bool')\n",
        "df['has_secondary_use_other'] = df['has_secondary_use_other'].astype('bool')"
      ],
      "execution_count": 9,
      "outputs": []
    },
    {
      "cell_type": "code",
      "metadata": {
        "colab": {
          "base_uri": "https://localhost:8080/"
        },
        "id": "HxJoVd5xqo-o",
        "outputId": "d02b3bcf-e14a-4273-91f9-dfa9e09e2870"
      },
      "source": [
        "memoria = df.memory_usage(deep=True).sum()/(2**20)\n",
        "print('Se usan', np.round(memoria, 2), 'MiB')"
      ],
      "execution_count": 10,
      "outputs": [
        {
          "output_type": "stream",
          "text": [
            "Se usan 124.51 MiB\n"
          ],
          "name": "stdout"
        }
      ]
    },
    {
      "cell_type": "markdown",
      "metadata": {
        "id": "-6tBWY3Lk5aq"
      },
      "source": [
        "### Columnas Categóricas\n",
        "\n",
        "`land_surface_condition`, `foundation_type`, `roof_type`, `ground_floor_type`, `other_floor_type`, `position`, `plan_configuration`, `legal_ownership_status`"
      ]
    },
    {
      "cell_type": "code",
      "metadata": {
        "id": "7T2SSgPYkh4h"
      },
      "source": [
        "df['land_surface_condition'] = df['land_surface_condition'].astype('category')\n",
        "df['foundation_type'] = df['foundation_type'].astype('category')\n",
        "df['roof_type'] = df['roof_type'].astype('category')\n",
        "df['ground_floor_type'] = df['ground_floor_type'].astype('category')\n",
        "df['other_floor_type'] = df['other_floor_type'].astype('category')\n",
        "df['position'] = df['position'].astype('category')\n",
        "df['plan_configuration'] = df['plan_configuration'].astype('category')\n",
        "df['legal_ownership_status'] = df['legal_ownership_status'].astype('category')"
      ],
      "execution_count": 11,
      "outputs": []
    },
    {
      "cell_type": "code",
      "metadata": {
        "colab": {
          "base_uri": "https://localhost:8080/"
        },
        "id": "pGdhfST5sTSE",
        "outputId": "4ce69250-8e13-4bb1-eec6-87785529f36d"
      },
      "source": [
        "memoria = df.memory_usage(deep=True).sum()/(2**20)\n",
        "print('Se usan', np.round(memoria, 2), 'MiB')"
      ],
      "execution_count": 12,
      "outputs": [
        {
          "output_type": "stream",
          "text": [
            "Se usan 11.19 MiB\n"
          ],
          "name": "stdout"
        }
      ]
    },
    {
      "cell_type": "code",
      "metadata": {
        "colab": {
          "base_uri": "https://localhost:8080/",
          "height": 163
        },
        "id": "R3oimY0ruvuc",
        "outputId": "23ebc7b6-5336-4911-a7a6-7753a2423182"
      },
      "source": [
        "df.sample(3, random_state=42)"
      ],
      "execution_count": 13,
      "outputs": [
        {
          "output_type": "execute_result",
          "data": {
            "text/html": [
              "<div>\n",
              "<style scoped>\n",
              "    .dataframe tbody tr th:only-of-type {\n",
              "        vertical-align: middle;\n",
              "    }\n",
              "\n",
              "    .dataframe tbody tr th {\n",
              "        vertical-align: top;\n",
              "    }\n",
              "\n",
              "    .dataframe thead th {\n",
              "        text-align: right;\n",
              "    }\n",
              "</style>\n",
              "<table border=\"1\" class=\"dataframe\">\n",
              "  <thead>\n",
              "    <tr style=\"text-align: right;\">\n",
              "      <th></th>\n",
              "      <th>building_id</th>\n",
              "      <th>geo_level_1_id</th>\n",
              "      <th>geo_level_2_id</th>\n",
              "      <th>geo_level_3_id</th>\n",
              "      <th>count_floors_pre_eq</th>\n",
              "      <th>age</th>\n",
              "      <th>area_percentage</th>\n",
              "      <th>height_percentage</th>\n",
              "      <th>land_surface_condition</th>\n",
              "      <th>foundation_type</th>\n",
              "      <th>roof_type</th>\n",
              "      <th>ground_floor_type</th>\n",
              "      <th>other_floor_type</th>\n",
              "      <th>position</th>\n",
              "      <th>plan_configuration</th>\n",
              "      <th>has_superstructure_adobe_mud</th>\n",
              "      <th>has_superstructure_mud_mortar_stone</th>\n",
              "      <th>has_superstructure_stone_flag</th>\n",
              "      <th>has_superstructure_cement_mortar_stone</th>\n",
              "      <th>has_superstructure_mud_mortar_brick</th>\n",
              "      <th>has_superstructure_cement_mortar_brick</th>\n",
              "      <th>has_superstructure_timber</th>\n",
              "      <th>has_superstructure_bamboo</th>\n",
              "      <th>has_superstructure_rc_non_engineered</th>\n",
              "      <th>has_superstructure_rc_engineered</th>\n",
              "      <th>has_superstructure_other</th>\n",
              "      <th>legal_ownership_status</th>\n",
              "      <th>count_families</th>\n",
              "      <th>has_secondary_use</th>\n",
              "      <th>has_secondary_use_agriculture</th>\n",
              "      <th>has_secondary_use_hotel</th>\n",
              "      <th>has_secondary_use_rental</th>\n",
              "      <th>has_secondary_use_institution</th>\n",
              "      <th>has_secondary_use_school</th>\n",
              "      <th>has_secondary_use_industry</th>\n",
              "      <th>has_secondary_use_health_post</th>\n",
              "      <th>has_secondary_use_gov_office</th>\n",
              "      <th>has_secondary_use_use_police</th>\n",
              "      <th>has_secondary_use_other</th>\n",
              "    </tr>\n",
              "  </thead>\n",
              "  <tbody>\n",
              "    <tr>\n",
              "      <th>111801</th>\n",
              "      <td>1023112</td>\n",
              "      <td>10</td>\n",
              "      <td>1224</td>\n",
              "      <td>11128</td>\n",
              "      <td>1</td>\n",
              "      <td>20</td>\n",
              "      <td>7</td>\n",
              "      <td>3</td>\n",
              "      <td>t</td>\n",
              "      <td>r</td>\n",
              "      <td>n</td>\n",
              "      <td>f</td>\n",
              "      <td>j</td>\n",
              "      <td>s</td>\n",
              "      <td>d</td>\n",
              "      <td>False</td>\n",
              "      <td>True</td>\n",
              "      <td>False</td>\n",
              "      <td>False</td>\n",
              "      <td>False</td>\n",
              "      <td>False</td>\n",
              "      <td>False</td>\n",
              "      <td>False</td>\n",
              "      <td>False</td>\n",
              "      <td>False</td>\n",
              "      <td>False</td>\n",
              "      <td>v</td>\n",
              "      <td>1</td>\n",
              "      <td>False</td>\n",
              "      <td>False</td>\n",
              "      <td>False</td>\n",
              "      <td>False</td>\n",
              "      <td>False</td>\n",
              "      <td>False</td>\n",
              "      <td>False</td>\n",
              "      <td>False</td>\n",
              "      <td>False</td>\n",
              "      <td>False</td>\n",
              "      <td>False</td>\n",
              "    </tr>\n",
              "    <tr>\n",
              "      <th>91817</th>\n",
              "      <td>64407</td>\n",
              "      <td>22</td>\n",
              "      <td>1101</td>\n",
              "      <td>12483</td>\n",
              "      <td>2</td>\n",
              "      <td>60</td>\n",
              "      <td>7</td>\n",
              "      <td>6</td>\n",
              "      <td>t</td>\n",
              "      <td>r</td>\n",
              "      <td>n</td>\n",
              "      <td>f</td>\n",
              "      <td>q</td>\n",
              "      <td>s</td>\n",
              "      <td>d</td>\n",
              "      <td>False</td>\n",
              "      <td>True</td>\n",
              "      <td>False</td>\n",
              "      <td>False</td>\n",
              "      <td>False</td>\n",
              "      <td>False</td>\n",
              "      <td>False</td>\n",
              "      <td>False</td>\n",
              "      <td>False</td>\n",
              "      <td>False</td>\n",
              "      <td>False</td>\n",
              "      <td>v</td>\n",
              "      <td>1</td>\n",
              "      <td>False</td>\n",
              "      <td>False</td>\n",
              "      <td>False</td>\n",
              "      <td>False</td>\n",
              "      <td>False</td>\n",
              "      <td>False</td>\n",
              "      <td>False</td>\n",
              "      <td>False</td>\n",
              "      <td>False</td>\n",
              "      <td>False</td>\n",
              "      <td>False</td>\n",
              "    </tr>\n",
              "    <tr>\n",
              "      <th>251661</th>\n",
              "      <td>967834</td>\n",
              "      <td>26</td>\n",
              "      <td>39</td>\n",
              "      <td>11440</td>\n",
              "      <td>2</td>\n",
              "      <td>50</td>\n",
              "      <td>6</td>\n",
              "      <td>5</td>\n",
              "      <td>t</td>\n",
              "      <td>r</td>\n",
              "      <td>n</td>\n",
              "      <td>v</td>\n",
              "      <td>q</td>\n",
              "      <td>s</td>\n",
              "      <td>d</td>\n",
              "      <td>False</td>\n",
              "      <td>False</td>\n",
              "      <td>False</td>\n",
              "      <td>False</td>\n",
              "      <td>True</td>\n",
              "      <td>False</td>\n",
              "      <td>False</td>\n",
              "      <td>False</td>\n",
              "      <td>False</td>\n",
              "      <td>False</td>\n",
              "      <td>False</td>\n",
              "      <td>v</td>\n",
              "      <td>1</td>\n",
              "      <td>False</td>\n",
              "      <td>False</td>\n",
              "      <td>False</td>\n",
              "      <td>False</td>\n",
              "      <td>False</td>\n",
              "      <td>False</td>\n",
              "      <td>False</td>\n",
              "      <td>False</td>\n",
              "      <td>False</td>\n",
              "      <td>False</td>\n",
              "      <td>False</td>\n",
              "    </tr>\n",
              "  </tbody>\n",
              "</table>\n",
              "</div>"
            ],
            "text/plain": [
              "        building_id  ...  has_secondary_use_other\n",
              "111801      1023112  ...                    False\n",
              "91817         64407  ...                    False\n",
              "251661       967834  ...                    False\n",
              "\n",
              "[3 rows x 39 columns]"
            ]
          },
          "metadata": {
            "tags": []
          },
          "execution_count": 13
        }
      ]
    },
    {
      "cell_type": "markdown",
      "metadata": {
        "id": "xQdZmWB7snD6"
      },
      "source": [
        "# **[NO NECESARIO]** (Mapa)"
      ]
    },
    {
      "cell_type": "code",
      "metadata": {
        "id": "jnU-kuMSRkB2"
      },
      "source": [
        "# Paquete para manejo de mapas\n",
        "!pip install geopandas\n",
        "# Para leer shape files con el paque 'shapefile' (contienen geometría de mapas)\n",
        "!pip install pyshp"
      ],
      "execution_count": null,
      "outputs": []
    },
    {
      "cell_type": "code",
      "metadata": {
        "id": "NqTSaJ1IZ0Ct"
      },
      "source": [
        "import geopandas as gpd\n",
        "import shapefile as shp"
      ],
      "execution_count": null,
      "outputs": []
    },
    {
      "cell_type": "markdown",
      "metadata": {
        "id": "ZYmHDr_avvZQ"
      },
      "source": [
        "## Mapa de Nepal"
      ]
    },
    {
      "cell_type": "markdown",
      "metadata": {
        "id": "nFtKpcbyxG6k"
      },
      "source": [
        "Se lee el archivo .shp con `shapefile`. Se requieren los archivos que acompañan al .shp."
      ]
    },
    {
      "cell_type": "code",
      "metadata": {
        "id": "dQMy-lgXvRR-"
      },
      "source": [
        "sf_Nepal = shp.Reader('/content/gdrive/My Drive/75.06 - Organización de Datos/TP1/map_Nepal/np.shp')"
      ],
      "execution_count": null,
      "outputs": []
    },
    {
      "cell_type": "code",
      "metadata": {
        "id": "No788gC4xfvD"
      },
      "source": [
        "# Identificación de campos (~ futuro índice de columnas)\n",
        "sf_Nepal.fields"
      ],
      "execution_count": null,
      "outputs": []
    },
    {
      "cell_type": "code",
      "metadata": {
        "id": "fd-CHrULx00n"
      },
      "source": [
        "# Datos de los campos anteriores\n",
        "sf_Nepal.records()"
      ],
      "execution_count": null,
      "outputs": []
    },
    {
      "cell_type": "code",
      "metadata": {
        "id": "yT_6gl03x-O2"
      },
      "source": [
        "# Puntos de coordenadas para los bordes de los estados.\n",
        "sf_Nepal.shape(1).points"
      ],
      "execution_count": null,
      "outputs": []
    },
    {
      "cell_type": "markdown",
      "metadata": {
        "id": "KcsEuGxMzTpw"
      },
      "source": [
        "Se lee el archivo .shp con geopandas."
      ]
    },
    {
      "cell_type": "code",
      "metadata": {
        "id": "koujNEESzZ_8"
      },
      "source": [
        "map_df = gpd.read_file('/content/gdrive/My Drive/75.06 - Organización de Datos/TP1/map_Nepal/np.shp')"
      ],
      "execution_count": null,
      "outputs": []
    },
    {
      "cell_type": "code",
      "metadata": {
        "id": "shat8znKzzbA"
      },
      "source": [
        "type(map_df)"
      ],
      "execution_count": null,
      "outputs": []
    },
    {
      "cell_type": "code",
      "metadata": {
        "id": "u0au-LiyzmFo"
      },
      "source": [
        "map_df.sample(2, random_state=42)"
      ],
      "execution_count": null,
      "outputs": []
    },
    {
      "cell_type": "code",
      "metadata": {
        "id": "3_vcyA000Df0"
      },
      "source": [
        "map_df.plot(figsize=(5,5), color='green')\n",
        "\n",
        "plt.show()"
      ],
      "execution_count": null,
      "outputs": []
    },
    {
      "cell_type": "markdown",
      "metadata": {
        "id": "FJ-vQbsCtzAL"
      },
      "source": [
        "# Análisis train_labels.csv"
      ]
    },
    {
      "cell_type": "code",
      "metadata": {
        "id": "CJVDKTyet3Xz"
      },
      "source": [
        "# Ruta train_labels.csv\n",
        "dir_labels = '/content/gdrive/My Drive/75.06 - Organización de Datos/TP1/Data/train_labels.csv'\n",
        "\n",
        "df_labels = pd.read_csv(dir_labels)"
      ],
      "execution_count": 14,
      "outputs": []
    },
    {
      "cell_type": "code",
      "metadata": {
        "colab": {
          "base_uri": "https://localhost:8080/",
          "height": 112
        },
        "id": "eMzE7G3nvlwS",
        "outputId": "fbf635d3-1a55-4b5e-8cec-c42de305e63d"
      },
      "source": [
        "df_labels.describe().loc[['min', 'max'], 'damage_grade'].to_frame()"
      ],
      "execution_count": 15,
      "outputs": [
        {
          "output_type": "execute_result",
          "data": {
            "text/html": [
              "<div>\n",
              "<style scoped>\n",
              "    .dataframe tbody tr th:only-of-type {\n",
              "        vertical-align: middle;\n",
              "    }\n",
              "\n",
              "    .dataframe tbody tr th {\n",
              "        vertical-align: top;\n",
              "    }\n",
              "\n",
              "    .dataframe thead th {\n",
              "        text-align: right;\n",
              "    }\n",
              "</style>\n",
              "<table border=\"1\" class=\"dataframe\">\n",
              "  <thead>\n",
              "    <tr style=\"text-align: right;\">\n",
              "      <th></th>\n",
              "      <th>damage_grade</th>\n",
              "    </tr>\n",
              "  </thead>\n",
              "  <tbody>\n",
              "    <tr>\n",
              "      <th>min</th>\n",
              "      <td>1.0</td>\n",
              "    </tr>\n",
              "    <tr>\n",
              "      <th>max</th>\n",
              "      <td>3.0</td>\n",
              "    </tr>\n",
              "  </tbody>\n",
              "</table>\n",
              "</div>"
            ],
            "text/plain": [
              "     damage_grade\n",
              "min           1.0\n",
              "max           3.0"
            ]
          },
          "metadata": {
            "tags": []
          },
          "execution_count": 15
        }
      ]
    },
    {
      "cell_type": "code",
      "metadata": {
        "colab": {
          "base_uri": "https://localhost:8080/"
        },
        "id": "maiYj6iZvJHO",
        "outputId": "bc447011-a12d-4472-9191-33c6447d3741"
      },
      "source": [
        "memoria = df_labels.memory_usage(deep=True).sum()/(2**20)\n",
        "print('Se usan', np.round(memoria, 2), 'MiB')"
      ],
      "execution_count": 16,
      "outputs": [
        {
          "output_type": "stream",
          "text": [
            "Se usan 3.98 MiB\n"
          ],
          "name": "stdout"
        }
      ]
    },
    {
      "cell_type": "code",
      "metadata": {
        "id": "naqK0Nn5wVqY"
      },
      "source": [
        "df_labels['damage_grade'] = df_labels['damage_grade'].astype('int8')"
      ],
      "execution_count": 17,
      "outputs": []
    },
    {
      "cell_type": "code",
      "metadata": {
        "colab": {
          "base_uri": "https://localhost:8080/"
        },
        "id": "ZfzRdCJkwloo",
        "outputId": "a1fe2545-b8be-43fe-d65f-4e58553b5c2c"
      },
      "source": [
        "memoria = df_labels.memory_usage(deep=True).sum()/(2**20)\n",
        "print('Se usan', np.round(memoria, 2), 'MiB')"
      ],
      "execution_count": 18,
      "outputs": [
        {
          "output_type": "stream",
          "text": [
            "Se usan 2.24 MiB\n"
          ],
          "name": "stdout"
        }
      ]
    },
    {
      "cell_type": "code",
      "metadata": {
        "id": "lcq0LVPjvWMI"
      },
      "source": [
        "df = df.merge(df_labels, on='building_id', how='inner')"
      ],
      "execution_count": 19,
      "outputs": []
    },
    {
      "cell_type": "code",
      "metadata": {
        "colab": {
          "base_uri": "https://localhost:8080/"
        },
        "id": "rKKBFapxxEzr",
        "outputId": "3dda6c45-a9c0-49e3-cb3e-58a23a645176"
      },
      "source": [
        "df.info()"
      ],
      "execution_count": 20,
      "outputs": [
        {
          "output_type": "stream",
          "text": [
            "<class 'pandas.core.frame.DataFrame'>\n",
            "Int64Index: 260601 entries, 0 to 260600\n",
            "Data columns (total 40 columns):\n",
            " #   Column                                  Non-Null Count   Dtype   \n",
            "---  ------                                  --------------   -----   \n",
            " 0   building_id                             260601 non-null  int32   \n",
            " 1   geo_level_1_id                          260601 non-null  int8    \n",
            " 2   geo_level_2_id                          260601 non-null  int16   \n",
            " 3   geo_level_3_id                          260601 non-null  int16   \n",
            " 4   count_floors_pre_eq                     260601 non-null  int8    \n",
            " 5   age                                     260601 non-null  int16   \n",
            " 6   area_percentage                         260601 non-null  int8    \n",
            " 7   height_percentage                       260601 non-null  int8    \n",
            " 8   land_surface_condition                  260601 non-null  category\n",
            " 9   foundation_type                         260601 non-null  category\n",
            " 10  roof_type                               260601 non-null  category\n",
            " 11  ground_floor_type                       260601 non-null  category\n",
            " 12  other_floor_type                        260601 non-null  category\n",
            " 13  position                                260601 non-null  category\n",
            " 14  plan_configuration                      260601 non-null  category\n",
            " 15  has_superstructure_adobe_mud            260601 non-null  bool    \n",
            " 16  has_superstructure_mud_mortar_stone     260601 non-null  bool    \n",
            " 17  has_superstructure_stone_flag           260601 non-null  bool    \n",
            " 18  has_superstructure_cement_mortar_stone  260601 non-null  bool    \n",
            " 19  has_superstructure_mud_mortar_brick     260601 non-null  bool    \n",
            " 20  has_superstructure_cement_mortar_brick  260601 non-null  bool    \n",
            " 21  has_superstructure_timber               260601 non-null  bool    \n",
            " 22  has_superstructure_bamboo               260601 non-null  bool    \n",
            " 23  has_superstructure_rc_non_engineered    260601 non-null  bool    \n",
            " 24  has_superstructure_rc_engineered        260601 non-null  bool    \n",
            " 25  has_superstructure_other                260601 non-null  bool    \n",
            " 26  legal_ownership_status                  260601 non-null  category\n",
            " 27  count_families                          260601 non-null  int8    \n",
            " 28  has_secondary_use                       260601 non-null  bool    \n",
            " 29  has_secondary_use_agriculture           260601 non-null  bool    \n",
            " 30  has_secondary_use_hotel                 260601 non-null  bool    \n",
            " 31  has_secondary_use_rental                260601 non-null  bool    \n",
            " 32  has_secondary_use_institution           260601 non-null  bool    \n",
            " 33  has_secondary_use_school                260601 non-null  bool    \n",
            " 34  has_secondary_use_industry              260601 non-null  bool    \n",
            " 35  has_secondary_use_health_post           260601 non-null  bool    \n",
            " 36  has_secondary_use_gov_office            260601 non-null  bool    \n",
            " 37  has_secondary_use_use_police            260601 non-null  bool    \n",
            " 38  has_secondary_use_other                 260601 non-null  bool    \n",
            " 39  damage_grade                            260601 non-null  int8    \n",
            "dtypes: bool(22), category(8), int16(3), int32(1), int8(6)\n",
            "memory usage: 13.4 MB\n"
          ],
          "name": "stdout"
        }
      ]
    },
    {
      "cell_type": "markdown",
      "metadata": {
        "id": "MNi9maBFwrya"
      },
      "source": [
        "Las filas mantienen el mismo número, 260601, por lo que los `building_id` tenían su correpondiente fila de labels."
      ]
    },
    {
      "cell_type": "code",
      "metadata": {
        "colab": {
          "base_uri": "https://localhost:8080/",
          "height": 540
        },
        "id": "sVrw-FFLzZ-8",
        "outputId": "6a9349ba-f666-4987-97a6-84e31a4a4aef"
      },
      "source": [
        "fig,ax = plt.subplots(figsize=(15,8))\n",
        "pisos = df\\\n",
        "  .groupby('count_floors_pre_eq').agg({'damage_grade':'count'}).reset_index()\\\n",
        "  .rename(columns={'damage_grade':'quantity'})['count_floors_pre_eq']\n",
        "cantidad = df\\\n",
        "  .groupby('count_floors_pre_eq').agg({'damage_grade':'count'}).reset_index()\\\n",
        "  .rename(columns={'damage_grade':'quantity'})['quantity']\n",
        "\n",
        "plot = ax.barh(y=pisos, width=cantidad, color='coral')\n",
        "\n",
        "title='''Cantidad de edificaciones dañadas según número de pisos'''\n",
        "plt.title(label=title, fontsize=25)\n",
        "plt.xlabel('Cantidad de edificaciones dañadas [miles]', fontsize=20)\n",
        "plt.ylabel('Número de pisos', fontsize=20)\n",
        "plt.xticks(np.arange(0, 160001, step=10000), fontsize=17)\n",
        "plt.yticks(np.arange(1, 10, step=1), fontsize=17)\n",
        "\n",
        "# Función para elegir unidades de miles millón\n",
        "def mil(x, pos):\n",
        "  return '{:,.0f}'.format(x*1e-3)\n",
        "\n",
        "plt.gca().xaxis.set_major_formatter(FuncFormatter(mil))\n",
        "plt.grid(axis='x', linewidth=2, color='lightgray')\n",
        "ax.set_axisbelow(True)\n",
        "\n",
        "plt.show()"
      ],
      "execution_count": 24,
      "outputs": [
        {
          "output_type": "display_data",
          "data": {
            "image/png": "[encoded data removed]",
            "text/plain": [
              "<Figure size 1080x576 with 1 Axes>"
            ]
          },
          "metadata": {
            "tags": [],
            "needs_background": "light"
          }
        }
      ]
    },
    {
      "cell_type": "code",
      "metadata": {
        "colab": {
          "base_uri": "https://localhost:8080/",
          "height": 282
        },
        "id": "QQ6yU7anw6xD",
        "outputId": "b08d733d-36b7-4b45-a81c-250961b01aa7"
      },
      "source": [
        "df.loc[df['damage_grade'] == 1].loc[:, ['count_floors_pre_eq', 'damage_grade']].plot()"
      ],
      "execution_count": null,
      "outputs": [
        {
          "output_type": "execute_result",
          "data": {
            "text/plain": [
              "<matplotlib.axes._subplots.AxesSubplot at 0x7ff051f867d0>"
            ]
          },
          "metadata": {
            "tags": []
          },
          "execution_count": 62
        },
        {
          "output_type": "display_data",
          "data": {
            "image/png": "[encoded data removed]",
            "text/plain": [
              "<Figure size 432x288 with 1 Axes>"
            ]
          },
          "metadata": {
            "tags": [],
            "needs_background": "light"
          }
        }
      ]
    },
    {
      "cell_type": "code",
      "metadata": {
        "colab": {
          "base_uri": "https://localhost:8080/",
          "height": 282
        },
        "id": "2_SerOq0zA4e",
        "outputId": "3636c374-6865-47db-bb76-8f86e79b4773"
      },
      "source": [
        "df.loc[df['damage_grade'] == 2].loc[:, ['count_floors_pre_eq', 'damage_grade']].plot()"
      ],
      "execution_count": null,
      "outputs": [
        {
          "output_type": "execute_result",
          "data": {
            "text/plain": [
              "<matplotlib.axes._subplots.AxesSubplot at 0x7ff051ff8950>"
            ]
          },
          "metadata": {
            "tags": []
          },
          "execution_count": 63
        },
        {
          "output_type": "display_data",
          "data": {
            "image/png": "[encoded data removed]",
            "text/plain": [
              "<Figure size 432x288 with 1 Axes>"
            ]
          },
          "metadata": {
            "tags": [],
            "needs_background": "light"
          }
        }
      ]
    },
    {
      "cell_type": "code",
      "metadata": {
        "colab": {
          "base_uri": "https://localhost:8080/",
          "height": 282
        },
        "id": "uoOZVem6zEo0",
        "outputId": "5ecbed91-3c2e-4c5e-bca8-63d29edd0433"
      },
      "source": [
        "df.loc[df['damage_grade'] == 3].loc[:, ['count_floors_pre_eq', 'damage_grade']].plot()"
      ],
      "execution_count": null,
      "outputs": [
        {
          "output_type": "execute_result",
          "data": {
            "text/plain": [
              "<matplotlib.axes._subplots.AxesSubplot at 0x7ff050c76f90>"
            ]
          },
          "metadata": {
            "tags": []
          },
          "execution_count": 64
        },
        {
          "output_type": "display_data",
          "data": {
            "image/png": "[encoded data removed]",
            "text/plain": [
              "<Figure size 432x288 with 1 Axes>"
            ]
          },
          "metadata": {
            "tags": [],
            "needs_background": "light"
          }
        }
      ]
    }
  ]
}