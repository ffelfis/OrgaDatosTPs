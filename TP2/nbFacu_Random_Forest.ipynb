{
  "nbformat": 4,
  "nbformat_minor": 0,
  "metadata": {
    "colab": {
      "name": "nbFacu_Random_Forest.ipynb",
      "provenance": [],
      "collapsed_sections": [],
      "authorship_tag": "ABX9TyOTc6q9kCow3Hrcejw0nrx9",
      "include_colab_link": true
    },
    "kernelspec": {
      "name": "python3",
      "display_name": "Python 3"
    },
    "language_info": {
      "name": "python"
    }
  },
  "cells": [
    {
      "cell_type": "markdown",
      "metadata": {
        "id": "view-in-github",
        "colab_type": "text"
      },
      "source": [
        "<a href=\"https://colab.research.google.com/github/ffelfis/OrgaDatosTPs/blob/main/TP2/nbFacu_Random_Forest.ipynb\" target=\"_parent\"><img src=\"https://colab.research.google.com/assets/colab-badge.svg\" alt=\"Open In Colab\"/></a>"
      ]
    },
    {
      "cell_type": "markdown",
      "metadata": {
        "id": "_DrbBu-tiSyC"
      },
      "source": [
        "# Lectura de datos de Google Drive"
      ]
    },
    {
      "cell_type": "code",
      "metadata": {
        "colab": {
          "base_uri": "https://localhost:8080/"
        },
        "id": "1F_f9l63h-ej",
        "outputId": "4707696a-e126-433f-a478-01539f78cdc2"
      },
      "source": [
        "# Lectura de Dataset desde Google Drive\n",
        "from google.colab import drive\n",
        "drive.mount('/content/drive')"
      ],
      "execution_count": 1,
      "outputs": [
        {
          "output_type": "stream",
          "text": [
            "Drive already mounted at /content/drive; to attempt to forcibly remount, call drive.mount(\"/content/drive\", force_remount=True).\n"
          ],
          "name": "stdout"
        }
      ]
    },
    {
      "cell_type": "markdown",
      "metadata": {
        "id": "phUPpKV5ie5n"
      },
      "source": [
        "# Carga de librerías y directorios"
      ]
    },
    {
      "cell_type": "code",
      "metadata": {
        "id": "jhFuDtsTifvX"
      },
      "source": [
        "import pandas as pd\n",
        "import numpy as np"
      ],
      "execution_count": 2,
      "outputs": []
    },
    {
      "cell_type": "markdown",
      "metadata": {
        "id": "0sINS71mixTT"
      },
      "source": [
        "# Rutas de los archivos a usar"
      ]
    },
    {
      "cell_type": "code",
      "metadata": {
        "id": "wCBPCSsUisx2"
      },
      "source": [
        "# Ruta train_values.csv\n",
        "dir_values = '/content/drive/My Drive/75.06 - Organización de Datos/TP1/Data/train_values.csv'\n",
        "\n",
        "# Ruta train_labels.csv\n",
        "dir_labels = '/content/drive/My Drive/75.06 - Organización de Datos/TP1/Data/train_labels.csv'\n",
        "\n",
        "# Ruta test_values.csv\n",
        "dir_test = '/content/drive/My Drive/75.06 - Organización de Datos/TP1/Data/test_values.csv'\n",
        "\n",
        "# Ruta submission_format.csv\n",
        "dir_sub_format = '/content/drive/My Drive/75.06 - Organización de Datos/TP1/Data/submission_format.csv'\n",
        "\n",
        "# Ruta de Binary Encodings para train_values.csv\n",
        "dir_Binary_train = '/content/drive/My Drive/75.06 - Organización de Datos/TP2/Binary Encodings/train'\n",
        "\n",
        "# Ruta de Binary Encodings para test_values.csv\n",
        "dir_Binary_test = '/content/drive/My Drive/75.06 - Organización de Datos/TP2/Binary Encodings/test'"
      ],
      "execution_count": 3,
      "outputs": []
    },
    {
      "cell_type": "markdown",
      "metadata": {
        "id": "U10d9Z3cjmEn"
      },
      "source": [
        "---\n",
        "#Entrenamiento\n",
        "---\n",
        "### Carga de train"
      ]
    },
    {
      "cell_type": "code",
      "metadata": {
        "id": "_GU7d7LENLcs"
      },
      "source": [
        "columnas = ['building_id',\n",
        " 'geo_level_1_id',\n",
        " 'geo_level_2_id',\n",
        " 'geo_level_3_id',\n",
        " 'count_floors_pre_eq',\n",
        " 'age',\n",
        " 'area_percentage',\n",
        " 'height_percentage',\n",
        " 'has_superstructure_adobe_mud',\n",
        " 'has_superstructure_mud_mortar_stone',\n",
        " 'has_superstructure_stone_flag',\n",
        " 'has_superstructure_cement_mortar_stone',\n",
        " 'has_superstructure_mud_mortar_brick',\n",
        " 'has_superstructure_cement_mortar_brick',\n",
        " 'has_superstructure_timber',\n",
        " 'has_superstructure_bamboo',\n",
        " 'has_superstructure_rc_non_engineered',\n",
        " 'has_superstructure_rc_engineered',\n",
        " 'has_superstructure_other',\n",
        " 'count_families',\n",
        " 'has_secondary_use',\n",
        " 'has_secondary_use_agriculture',\n",
        " 'has_secondary_use_hotel',\n",
        " 'has_secondary_use_rental',\n",
        " 'has_secondary_use_institution',\n",
        " 'has_secondary_use_school',\n",
        " 'has_secondary_use_industry',\n",
        " 'has_secondary_use_health_post',\n",
        " 'has_secondary_use_gov_office',\n",
        " 'has_secondary_use_use_police',\n",
        " 'has_secondary_use_other']"
      ],
      "execution_count": 4,
      "outputs": []
    },
    {
      "cell_type": "code",
      "metadata": {
        "id": "LqdaZmKvjqoc"
      },
      "source": [
        "# Carga de train_values.csv\n",
        "train = pd.read_csv(dir_values, usecols=columnas)\n",
        "# Carga de train_labels.csv\n",
        "labels = pd.read_csv(dir_labels)"
      ],
      "execution_count": 5,
      "outputs": []
    },
    {
      "cell_type": "markdown",
      "metadata": {
        "id": "Gllv83PimADJ"
      },
      "source": [
        "### Cambio de tipos de datos"
      ]
    },
    {
      "cell_type": "code",
      "metadata": {
        "colab": {
          "base_uri": "https://localhost:8080/"
        },
        "id": "BPu-AH1em2d7",
        "outputId": "e73b25e4-e48d-4a9a-a2f4-35a280462277"
      },
      "source": [
        "memoria = train.memory_usage(deep=True).sum()/(2**20)\n",
        "print('Se usan', np.round(memoria, 2), 'MiB')"
      ],
      "execution_count": 6,
      "outputs": [
        {
          "output_type": "stream",
          "text": [
            "Se usan 61.64 MiB\n"
          ],
          "name": "stdout"
        }
      ]
    },
    {
      "cell_type": "code",
      "metadata": {
        "id": "HrZAEMGAj-tJ"
      },
      "source": [
        "# Columnas numéricas\n",
        "train['building_id'] = train['building_id'].astype('int32')\n",
        "train['geo_level_1_id'] = train['geo_level_1_id'].astype('int8')\n",
        "train['geo_level_2_id'] = train['geo_level_2_id'].astype('int16')\n",
        "train['geo_level_3_id'] = train['geo_level_3_id'].astype('int16')\n",
        "train['count_floors_pre_eq'] = train['count_floors_pre_eq'].astype('int8')\n",
        "train['age'] = train['age'].astype('int16')\n",
        "train['area_percentage'] = train['area_percentage'].astype('int8')\n",
        "train['height_percentage'] = train['height_percentage'].astype('int8')\n",
        "train['count_families'] = train['count_families'].astype('int8')\n",
        "\n",
        "# Columnas Booleanas\n",
        "train['has_superstructure_adobe_mud'] = train['has_superstructure_adobe_mud'].astype('bool')\n",
        "train['has_superstructure_mud_mortar_stone'] = train['has_superstructure_mud_mortar_stone'].astype('bool')\n",
        "train['has_superstructure_stone_flag'] = train['has_superstructure_stone_flag'].astype('bool')\n",
        "train['has_superstructure_cement_mortar_stone'] = train['has_superstructure_cement_mortar_stone'].astype('bool')\n",
        "train['has_superstructure_mud_mortar_brick'] = train['has_superstructure_mud_mortar_brick'].astype('bool')\n",
        "train['has_superstructure_cement_mortar_brick'] = train['has_superstructure_cement_mortar_brick'].astype('bool')\n",
        "train['has_superstructure_timber'] = train['has_superstructure_timber'].astype('bool')\n",
        "train['has_superstructure_bamboo'] = train['has_superstructure_bamboo'].astype('bool')\n",
        "train['has_superstructure_rc_non_engineered'] = train['has_superstructure_rc_non_engineered'].astype('bool')\n",
        "train['has_superstructure_rc_engineered'] = train['has_superstructure_rc_engineered'].astype('bool')\n",
        "train['has_superstructure_other'] = train['has_superstructure_other'].astype('bool')\n",
        "train['has_secondary_use'] = train['has_secondary_use'].astype('bool')\n",
        "train['has_secondary_use_agriculture'] = train['has_secondary_use_agriculture'].astype('bool')\n",
        "train['has_secondary_use_hotel'] = train['has_secondary_use_hotel'].astype('bool')\n",
        "train['has_secondary_use_rental'] = train['has_secondary_use_rental'].astype('bool')\n",
        "train['has_secondary_use_institution'] = train['has_secondary_use_institution'].astype('bool')\n",
        "train['has_secondary_use_school'] = train['has_secondary_use_school'].astype('bool')\n",
        "train['has_secondary_use_industry'] = train['has_secondary_use_industry'].astype('bool')\n",
        "train['has_secondary_use_health_post'] = train['has_secondary_use_health_post'].astype('bool')\n",
        "train['has_secondary_use_gov_office'] = train['has_secondary_use_gov_office'].astype('bool')\n",
        "train['has_secondary_use_use_police'] = train['has_secondary_use_use_police'].astype('bool')\n",
        "train['has_secondary_use_other'] = train['has_secondary_use_other'].astype('bool')"
      ],
      "execution_count": 7,
      "outputs": []
    },
    {
      "cell_type": "code",
      "metadata": {
        "colab": {
          "base_uri": "https://localhost:8080/"
        },
        "id": "MrEzYw_qm6-x",
        "outputId": "6d54aabe-5d4c-4b78-c9d7-2449cf9a2107"
      },
      "source": [
        "memoria = train.memory_usage(deep=True).sum()/(2**20)\n",
        "print('Se usan', np.round(memoria, 2), 'MiB')"
      ],
      "execution_count": 8,
      "outputs": [
        {
          "output_type": "stream",
          "text": [
            "Se usan 9.2 MiB\n"
          ],
          "name": "stdout"
        }
      ]
    },
    {
      "cell_type": "markdown",
      "metadata": {
        "id": "cEOYhxbpbfaN"
      },
      "source": [
        "### Carga de columnas codificadas: Binary Encoding"
      ]
    },
    {
      "cell_type": "code",
      "metadata": {
        "id": "-i_00Z0Cbmyb"
      },
      "source": [
        "# 4 columnas\n",
        "foundation_type = pd.read_csv(dir_Binary_train+f'/BE_foundation_type.csv', dtype='uint8')\n",
        "train = train.join(foundation_type)"
      ],
      "execution_count": 9,
      "outputs": []
    },
    {
      "cell_type": "code",
      "metadata": {
        "id": "ADGCRFyCgnZX"
      },
      "source": [
        "# 4 columnas\n",
        "ground_floor_type = pd.read_csv(dir_Binary_train+f'/BE_ground_floor_type.csv', dtype=('uint8'))\n",
        "train = train.join(ground_floor_type)"
      ],
      "execution_count": 10,
      "outputs": []
    },
    {
      "cell_type": "code",
      "metadata": {
        "id": "erkD_I47hUlB"
      },
      "source": [
        "# 3 columnas\n",
        "land_surface_condition = pd.read_csv(dir_Binary_train+f'/BE_land_surface_condition.csv', dtype='uint8')\n",
        "train = train.join(land_surface_condition)"
      ],
      "execution_count": 11,
      "outputs": []
    },
    {
      "cell_type": "code",
      "metadata": {
        "id": "WEp3ywUAjrxb"
      },
      "source": [
        "# 3 columnas\n",
        "legal_ownership_status = pd.read_csv(dir_Binary_train+f'/BE_legal_ownership_status.csv', dtype='uint8')\n",
        "train = train.join(legal_ownership_status)"
      ],
      "execution_count": 12,
      "outputs": []
    },
    {
      "cell_type": "code",
      "metadata": {
        "id": "N02yDT-bj4J6"
      },
      "source": [
        "# 3 columnas\n",
        "other_floor_type = pd.read_csv(dir_Binary_train+f'/BE_other_floor_type.csv', dtype='uint8')\n",
        "train = train.join(other_floor_type)"
      ],
      "execution_count": 13,
      "outputs": []
    },
    {
      "cell_type": "code",
      "metadata": {
        "id": "XP-zHUL3kJOn"
      },
      "source": [
        "# 5 columnas\n",
        "plan_configuration = pd.read_csv(dir_Binary_train+f'/BE_plan_configuration.csv', dtype='uint8')\n",
        "train = train.join(plan_configuration)"
      ],
      "execution_count": 14,
      "outputs": []
    },
    {
      "cell_type": "code",
      "metadata": {
        "id": "rO83mMuDkbVs"
      },
      "source": [
        "# 3 columnas\n",
        "position = pd.read_csv(dir_Binary_train+f'/BE_position.csv', dtype='uint8')\n",
        "train = train.join(position)"
      ],
      "execution_count": 15,
      "outputs": []
    },
    {
      "cell_type": "code",
      "metadata": {
        "id": "k8D5k-ZwkvHp"
      },
      "source": [
        "# 3 columnas\n",
        "roof_type = pd.read_csv(dir_Binary_train+f'/BE_roof_type.csv', dtype='uint8')\n",
        "train = train.join(roof_type)"
      ],
      "execution_count": 16,
      "outputs": []
    },
    {
      "cell_type": "code",
      "metadata": {
        "colab": {
          "base_uri": "https://localhost:8080/"
        },
        "id": "flrG_DfUk9ps",
        "outputId": "61e3c26b-aaed-422c-f3d9-de18722b74ef"
      },
      "source": [
        "memoria = train.memory_usage(deep=True).sum()/(2**20)\n",
        "print('Se usan', np.round(memoria, 2), 'MiB')"
      ],
      "execution_count": 17,
      "outputs": [
        {
          "output_type": "stream",
          "text": [
            "Se usan 16.15 MiB\n"
          ],
          "name": "stdout"
        }
      ]
    },
    {
      "cell_type": "markdown",
      "metadata": {
        "id": "uYCZwTE_nGLY"
      },
      "source": [
        "### Labels"
      ]
    },
    {
      "cell_type": "code",
      "metadata": {
        "colab": {
          "base_uri": "https://localhost:8080/"
        },
        "id": "Qf0_Ph8MnHhO",
        "outputId": "88f17597-3cb1-47cf-f5e1-1ddae3525bb2"
      },
      "source": [
        "memoria = labels.memory_usage(deep=True).sum()/(2**20)\n",
        "print('Se usan', np.round(memoria, 2), 'MiB')"
      ],
      "execution_count": 18,
      "outputs": [
        {
          "output_type": "stream",
          "text": [
            "Se usan 3.98 MiB\n"
          ],
          "name": "stdout"
        }
      ]
    },
    {
      "cell_type": "code",
      "metadata": {
        "id": "Z_Wi74GwnLei"
      },
      "source": [
        "labels['building_id'] = labels['building_id'].astype('int32')\n",
        "labels['damage_grade'] = labels['damage_grade'].astype('int8')"
      ],
      "execution_count": 19,
      "outputs": []
    },
    {
      "cell_type": "code",
      "metadata": {
        "colab": {
          "base_uri": "https://localhost:8080/"
        },
        "id": "CPaCq75Tnx7c",
        "outputId": "84a54dd6-479f-466e-a774-3d56b4947130"
      },
      "source": [
        "memoria = labels.memory_usage(deep=True).sum()/(2**20)\n",
        "print('Se usan', np.round(memoria, 2), 'MiB')"
      ],
      "execution_count": 20,
      "outputs": [
        {
          "output_type": "stream",
          "text": [
            "Se usan 1.24 MiB\n"
          ],
          "name": "stdout"
        }
      ]
    },
    {
      "cell_type": "markdown",
      "metadata": {
        "id": "n-joq2vtvpBR"
      },
      "source": [
        "# Modelo Random Forest Classifier"
      ]
    },
    {
      "cell_type": "code",
      "metadata": {
        "id": "1vMXTsfVvxPS"
      },
      "source": [
        "# Modelo\n",
        "from sklearn.ensemble import RandomForestClassifier\n",
        "# Para dividir el set de entrenamiento\n",
        "from sklearn.model_selection import train_test_split"
      ],
      "execution_count": 21,
      "outputs": []
    },
    {
      "cell_type": "markdown",
      "metadata": {
        "id": "wBbkxewYv_ol"
      },
      "source": [
        "### División de datos para entrenamiento y objetivo"
      ]
    },
    {
      "cell_type": "code",
      "metadata": {
        "colab": {
          "base_uri": "https://localhost:8080/"
        },
        "id": "BJdn1wRawFUs",
        "outputId": "cc253a4e-f93b-45d2-caff-f99c764af7d1"
      },
      "source": [
        "# Set de entrenamiento\n",
        "X = train\n",
        "# Labels -- solo la columna de labels\n",
        "y = labels['damage_grade']\n",
        "\n",
        "X_train, X_test, y_train, y_test = train_test_split(X, y, random_state=42)\n",
        "print('X_train.shape\\t', X_train.shape, '\\ty_train.shape\\t', y_train.shape)\n",
        "print('X_test.shape\\t', X_test.shape, '\\ty_test.shape\\t', y_test.shape)"
      ],
      "execution_count": 22,
      "outputs": [
        {
          "output_type": "stream",
          "text": [
            "X_train.shape\t (195450, 59) \ty_train.shape\t (195450,)\n",
            "X_test.shape\t (65151, 59) \ty_test.shape\t (65151,)\n"
          ],
          "name": "stdout"
        }
      ]
    },
    {
      "cell_type": "markdown",
      "metadata": {
        "id": "gRN5HBg5wwI5"
      },
      "source": [
        "### Instanciación de predictor (random_state=42)"
      ]
    },
    {
      "cell_type": "code",
      "metadata": {
        "id": "zIRxcTqswyAu"
      },
      "source": [
        "# n_estimators\n",
        "num_estimadores = 40\n",
        "# n_jobs\n",
        "workers = -1\n",
        "# Instancia para predictor de Random Forest\n",
        "rfc = RandomForestClassifier(n_estimators=num_estimadores, n_jobs=workers, random_state=42)"
      ],
      "execution_count": 23,
      "outputs": []
    },
    {
      "cell_type": "markdown",
      "metadata": {
        "id": "1QKnyxd0Ejqv"
      },
      "source": [
        "### Entrenamiento único"
      ]
    },
    {
      "cell_type": "code",
      "metadata": {
        "id": "Xqn6YUKjw_cn",
        "colab": {
          "base_uri": "https://localhost:8080/"
        },
        "outputId": "450b2161-b5e2-42f6-8e85-74cd97efbe8a"
      },
      "source": [
        "%%time\n",
        "rfc.fit(X_train, y_train)"
      ],
      "execution_count": 24,
      "outputs": [
        {
          "output_type": "stream",
          "text": [
            "CPU times: user 35.3 s, sys: 488 ms, total: 35.8 s\n",
            "Wall time: 18.9 s\n"
          ],
          "name": "stdout"
        },
        {
          "output_type": "execute_result",
          "data": {
            "text/plain": [
              "RandomForestClassifier(bootstrap=True, ccp_alpha=0.0, class_weight=None,\n",
              "                       criterion='gini', max_depth=None, max_features='auto',\n",
              "                       max_leaf_nodes=None, max_samples=None,\n",
              "                       min_impurity_decrease=0.0, min_impurity_split=None,\n",
              "                       min_samples_leaf=1, min_samples_split=2,\n",
              "                       min_weight_fraction_leaf=0.0, n_estimators=40, n_jobs=-1,\n",
              "                       oob_score=False, random_state=42, verbose=0,\n",
              "                       warm_start=False)"
            ]
          },
          "metadata": {
            "tags": []
          },
          "execution_count": 24
        }
      ]
    },
    {
      "cell_type": "code",
      "metadata": {
        "id": "FifDm5qjR4sz"
      },
      "source": [
        "# Métrica de evaluación del modelo\n",
        "from sklearn.metrics import accuracy_score"
      ],
      "execution_count": 25,
      "outputs": []
    },
    {
      "cell_type": "code",
      "metadata": {
        "colab": {
          "base_uri": "https://localhost:8080/"
        },
        "id": "oB-cmheYRev3",
        "outputId": "e1ca77fb-bae1-498e-b5e5-0b04929664fc"
      },
      "source": [
        "# Ahora se usa la división que faltba del train: X_test\n",
        "prediction_t = rfc.predict(X_test)\n",
        "print('Predicción', np.round(accuracy_score(y_test, prediction_t),4))"
      ],
      "execution_count": 26,
      "outputs": [
        {
          "output_type": "stream",
          "text": [
            "Predicción 0.7116\n"
          ],
          "name": "stdout"
        }
      ]
    },
    {
      "cell_type": "markdown",
      "metadata": {
        "id": "ynCh7VhdSfRf"
      },
      "source": [
        "# Evaluación del predictor"
      ]
    },
    {
      "cell_type": "code",
      "metadata": {
        "id": "EFqJIe6hSxEN"
      },
      "source": [
        "# Para validar\n",
        "from sklearn.model_selection import KFold\n",
        "# Para ver progreso inline: limpia la celda en cada iteración\n",
        "from IPython.display import clear_output"
      ],
      "execution_count": 27,
      "outputs": []
    },
    {
      "cell_type": "markdown",
      "metadata": {
        "id": "Ydn0ZjwXShnu"
      },
      "source": [
        "## División de datos para entrenamiento y objetivo"
      ]
    },
    {
      "cell_type": "code",
      "metadata": {
        "colab": {
          "base_uri": "https://localhost:8080/"
        },
        "id": "pwnUTaKTSmiq",
        "outputId": "fd8e0888-a80e-4e67-9c32-9ebb694b51bf"
      },
      "source": [
        "# Set de entrenamiento\n",
        "X = train\n",
        "# Labels -- solo la columna de labels\n",
        "y = labels['damage_grade']\n",
        "\n",
        "X_train, X_test, y_train, y_test = train_test_split(X, y, random_state=42)\n",
        "print('X_train.shape\\t', X_train.shape, '\\ty_train.shape\\t', y_train.shape)\n",
        "print('X_test.shape\\t', X_test.shape, '\\ty_test.shape\\t', y_test.shape)"
      ],
      "execution_count": 28,
      "outputs": [
        {
          "output_type": "stream",
          "text": [
            "X_train.shape\t (195450, 59) \ty_train.shape\t (195450,)\n",
            "X_test.shape\t (65151, 59) \ty_test.shape\t (65151,)\n"
          ],
          "name": "stdout"
        }
      ]
    },
    {
      "cell_type": "markdown",
      "metadata": {
        "id": "9mcrcOAbFfu0"
      },
      "source": [
        "## Instancias"
      ]
    },
    {
      "cell_type": "code",
      "metadata": {
        "id": "TsSQscfaTC3i"
      },
      "source": [
        "# n_estimators\n",
        "num_estimadores = 40\n",
        "# n_jobs\n",
        "workers = -1\n",
        "# Instancia para predictor de Random Forest\n",
        "rfc = RandomForestClassifier(n_estimators=num_estimadores, n_jobs=workers)\n",
        "\n",
        "# n_splits\n",
        "splits = 10\n",
        "# Instancia para KFold\n",
        "kf = KFold(n_splits=splits)\n",
        "\n",
        "# Listas para guardar los puntajes y errores de la evaluación\n",
        "accuracy = []"
      ],
      "execution_count": 29,
      "outputs": []
    },
    {
      "cell_type": "code",
      "metadata": {
        "colab": {
          "base_uri": "https://localhost:8080/"
        },
        "id": "lVoU_h5iTJJP",
        "outputId": "23411e6d-8b40-4916-dbd6-15708453f371"
      },
      "source": [
        "%%time\n",
        "i = 1\n",
        "\n",
        "for train_index, test_index in kf.split(train) :\n",
        "    clear_output(wait=True)\n",
        "    X_train, X_test = X.iloc[train_index], X.iloc[test_index]\n",
        "    y_train, y_test = y.iloc[train_index], y.iloc[test_index]\n",
        "    \n",
        "    print('Entrenando fold', i)\n",
        "    rfc.fit(X_train, y_train)\n",
        "    prediction_t = rfc.predict(X_test)\n",
        "\n",
        "    accuracy.append(accuracy_score(y_test, prediction_t))\n",
        "    i = i + 1"
      ],
      "execution_count": 30,
      "outputs": [
        {
          "output_type": "stream",
          "text": [
            "Entrenando fold 10\n",
            "CPU times: user 8min 3s, sys: 3.73 s, total: 8min 7s\n",
            "Wall time: 4min 16s\n"
          ],
          "name": "stdout"
        }
      ]
    },
    {
      "cell_type": "code",
      "metadata": {
        "colab": {
          "base_uri": "https://localhost:8080/"
        },
        "id": "oyd84d5ZTdbG",
        "outputId": "aeed0f26-cae3-4548-9bc0-bccd99b118a5"
      },
      "source": [
        "precision = np.array(accuracy)\n",
        "\n",
        "print('Promedio precision', precision.mean().round(4), \\\n",
        "      '\\tcon desvío estándar de', precision.std().round(4))"
      ],
      "execution_count": 31,
      "outputs": [
        {
          "output_type": "stream",
          "text": [
            "Promedio precision 0.7149 \tcon desvío estándar de 0.0023\n",
            "Promedio scores\t 0.7149 \t\tcon desvío estándar de 0.0023\n"
          ],
          "name": "stdout"
        }
      ]
    },
    {
      "cell_type": "markdown",
      "metadata": {
        "id": "rxpmaYhOIGvu"
      },
      "source": [
        "---\n",
        "# Predicción del Test\n",
        "---\n",
        "### Carga Test set"
      ]
    },
    {
      "cell_type": "code",
      "metadata": {
        "id": "IVoObSV5ILg0"
      },
      "source": [
        "test = pd.read_csv(dir_test, usecols=columnas)"
      ],
      "execution_count": 32,
      "outputs": []
    },
    {
      "cell_type": "markdown",
      "metadata": {
        "id": "4g3Zm7Nu2B-Z"
      },
      "source": [
        "### Cambio de tipos de datos"
      ]
    },
    {
      "cell_type": "code",
      "metadata": {
        "colab": {
          "base_uri": "https://localhost:8080/"
        },
        "id": "zNMAor8H2B-c",
        "outputId": "c58da2d2-9947-420e-8946-e910082e6d12"
      },
      "source": [
        "memoria = test.memory_usage(deep=True).sum()/(2**20)\n",
        "print('Se usan', np.round(memoria, 2), 'MiB')"
      ],
      "execution_count": 35,
      "outputs": [
        {
          "output_type": "stream",
          "text": [
            "Se usan 20.55 MiB\n"
          ],
          "name": "stdout"
        }
      ]
    },
    {
      "cell_type": "code",
      "metadata": {
        "id": "0og4Qk9S2B-f"
      },
      "source": [
        "# Columnas numéricas\n",
        "test['building_id'] = test['building_id'].astype('int32')\n",
        "test['geo_level_1_id'] = test['geo_level_1_id'].astype('int8')\n",
        "test['geo_level_2_id'] = test['geo_level_2_id'].astype('int16')\n",
        "test['geo_level_3_id'] = test['geo_level_3_id'].astype('int16')\n",
        "test['count_floors_pre_eq'] = test['count_floors_pre_eq'].astype('int8')\n",
        "test['age'] = test['age'].astype('int16')\n",
        "test['area_percentage'] = test['area_percentage'].astype('int8')\n",
        "test['height_percentage'] = test['height_percentage'].astype('int8')\n",
        "test['count_families'] = test['count_families'].astype('int8')\n",
        "\n",
        "# Columnas Booleanas\n",
        "test['has_superstructure_adobe_mud'] = test['has_superstructure_adobe_mud'].astype('bool')\n",
        "test['has_superstructure_mud_mortar_stone'] = test['has_superstructure_mud_mortar_stone'].astype('bool')\n",
        "test['has_superstructure_stone_flag'] = test['has_superstructure_stone_flag'].astype('bool')\n",
        "test['has_superstructure_cement_mortar_stone'] = test['has_superstructure_cement_mortar_stone'].astype('bool')\n",
        "test['has_superstructure_mud_mortar_brick'] = test['has_superstructure_mud_mortar_brick'].astype('bool')\n",
        "test['has_superstructure_cement_mortar_brick'] = test['has_superstructure_cement_mortar_brick'].astype('bool')\n",
        "test['has_superstructure_timber'] = test['has_superstructure_timber'].astype('bool')\n",
        "test['has_superstructure_bamboo'] = test['has_superstructure_bamboo'].astype('bool')\n",
        "test['has_superstructure_rc_non_engineered'] = test['has_superstructure_rc_non_engineered'].astype('bool')\n",
        "test['has_superstructure_rc_engineered'] = test['has_superstructure_rc_engineered'].astype('bool')\n",
        "test['has_superstructure_other'] = test['has_superstructure_other'].astype('bool')\n",
        "test['has_secondary_use'] = test['has_secondary_use'].astype('bool')\n",
        "test['has_secondary_use_agriculture'] = test['has_secondary_use_agriculture'].astype('bool')\n",
        "test['has_secondary_use_hotel'] = test['has_secondary_use_hotel'].astype('bool')\n",
        "test['has_secondary_use_rental'] = test['has_secondary_use_rental'].astype('bool')\n",
        "test['has_secondary_use_institution'] = test['has_secondary_use_institution'].astype('bool')\n",
        "test['has_secondary_use_school'] = test['has_secondary_use_school'].astype('bool')\n",
        "test['has_secondary_use_industry'] = test['has_secondary_use_industry'].astype('bool')\n",
        "test['has_secondary_use_health_post'] = test['has_secondary_use_health_post'].astype('bool')\n",
        "test['has_secondary_use_gov_office'] = test['has_secondary_use_gov_office'].astype('bool')\n",
        "test['has_secondary_use_use_police'] = test['has_secondary_use_use_police'].astype('bool')\n",
        "test['has_secondary_use_other'] = test['has_secondary_use_other'].astype('bool')"
      ],
      "execution_count": 36,
      "outputs": []
    },
    {
      "cell_type": "code",
      "metadata": {
        "colab": {
          "base_uri": "https://localhost:8080/"
        },
        "id": "KX8eQTzM2B-j",
        "outputId": "11e3dc71-6363-4b14-8f3f-a00a782bcba0"
      },
      "source": [
        "memoria = test.memory_usage(deep=True).sum()/(2**20)\n",
        "print('Se usan', np.round(memoria, 2), 'MiB')"
      ],
      "execution_count": 37,
      "outputs": [
        {
          "output_type": "stream",
          "text": [
            "Se usan 3.07 MiB\n"
          ],
          "name": "stdout"
        }
      ]
    },
    {
      "cell_type": "markdown",
      "metadata": {
        "id": "vecBAW5n2B-k"
      },
      "source": [
        "### Carga de columnas codificadas: Binary Encoding"
      ]
    },
    {
      "cell_type": "code",
      "metadata": {
        "id": "CoH8N1Vh2B-l"
      },
      "source": [
        "# 4 columnas\n",
        "foundation_type = pd.read_csv(dir_Binary_test+f'/BE_foundation_type.csv', dtype='uint8')\n",
        "test = test.join(foundation_type)"
      ],
      "execution_count": 38,
      "outputs": []
    },
    {
      "cell_type": "code",
      "metadata": {
        "id": "4jY-vA_e2B-m"
      },
      "source": [
        "# 4 columnas\n",
        "ground_floor_type = pd.read_csv(dir_Binary_test+f'/BE_ground_floor_type.csv', dtype=('uint8'))\n",
        "test = test.join(ground_floor_type)"
      ],
      "execution_count": 39,
      "outputs": []
    },
    {
      "cell_type": "code",
      "metadata": {
        "id": "5xMQSZC_2B-o"
      },
      "source": [
        "# 3 columnas\n",
        "land_surface_condition = pd.read_csv(dir_Binary_test+f'/BE_land_surface_condition.csv', dtype='uint8')\n",
        "test = test.join(land_surface_condition)"
      ],
      "execution_count": 40,
      "outputs": []
    },
    {
      "cell_type": "code",
      "metadata": {
        "id": "CIOOp-cG2B-p"
      },
      "source": [
        "# 3 columnas\n",
        "legal_ownership_status = pd.read_csv(dir_Binary_test+f'/BE_legal_ownership_status.csv', dtype='uint8')\n",
        "test = test.join(legal_ownership_status)"
      ],
      "execution_count": 41,
      "outputs": []
    },
    {
      "cell_type": "code",
      "metadata": {
        "id": "TIUsNjvy2B-q"
      },
      "source": [
        "# 3 columnas\n",
        "other_floor_type = pd.read_csv(dir_Binary_test+f'/BE_other_floor_type.csv', dtype='uint8')\n",
        "test = test.join(other_floor_type)"
      ],
      "execution_count": 42,
      "outputs": []
    },
    {
      "cell_type": "code",
      "metadata": {
        "id": "JjBv4nbi2B-q"
      },
      "source": [
        "# 5 columnas\n",
        "plan_configuration = pd.read_csv(dir_Binary_test+f'/BE_plan_configuration.csv', dtype='uint8')\n",
        "test = test.join(plan_configuration)"
      ],
      "execution_count": 43,
      "outputs": []
    },
    {
      "cell_type": "code",
      "metadata": {
        "id": "GIzPIDLk2B-r"
      },
      "source": [
        "# 3 columnas\n",
        "position = pd.read_csv(dir_Binary_test+f'/BE_position.csv', dtype='uint8')\n",
        "test = test.join(position)"
      ],
      "execution_count": 44,
      "outputs": []
    },
    {
      "cell_type": "code",
      "metadata": {
        "id": "bKqtpVrL2B-s"
      },
      "source": [
        "# 3 columnas\n",
        "roof_type = pd.read_csv(dir_Binary_test+f'/BE_roof_type.csv', dtype='uint8')\n",
        "test = test.join(roof_type)"
      ],
      "execution_count": 45,
      "outputs": []
    },
    {
      "cell_type": "code",
      "metadata": {
        "colab": {
          "base_uri": "https://localhost:8080/"
        },
        "id": "2sE5o6af2B-t",
        "outputId": "9db64fcd-7a34-4cd0-d53c-8861246f3e37"
      },
      "source": [
        "memoria = test.memory_usage(deep=True).sum()/(2**20)\n",
        "print('Se usan', np.round(memoria, 2), 'MiB')"
      ],
      "execution_count": 46,
      "outputs": [
        {
          "output_type": "stream",
          "text": [
            "Se usan 5.38 MiB\n"
          ],
          "name": "stdout"
        }
      ]
    },
    {
      "cell_type": "markdown",
      "metadata": {
        "id": "MFzbAwZq6adA"
      },
      "source": [
        "# Preparando la predicción"
      ]
    },
    {
      "cell_type": "code",
      "metadata": {
        "id": "5CC183zh6NPz"
      },
      "source": [
        "# n_estimators\n",
        "num_estimadores = 200\n",
        "# n_jobs\n",
        "workers = -1\n",
        "# Instancia para predictor de Random Forest\n",
        "rfc = RandomForestClassifier(n_estimators=num_estimadores, n_jobs=workers, random_state=42)"
      ],
      "execution_count": 47,
      "outputs": []
    },
    {
      "cell_type": "code",
      "metadata": {
        "colab": {
          "base_uri": "https://localhost:8080/"
        },
        "id": "yQpqWac76hLt",
        "outputId": "c9ba66ab-83a4-4bf6-deff-1bcf96468577"
      },
      "source": [
        "%%time\n",
        "rfc.fit(X, y)"
      ],
      "execution_count": 49,
      "outputs": [
        {
          "output_type": "stream",
          "text": [
            "CPU times: user 4min 23s, sys: 4.57 s, total: 4min 27s\n",
            "Wall time: 2min 17s\n"
          ],
          "name": "stdout"
        },
        {
          "output_type": "execute_result",
          "data": {
            "text/plain": [
              "RandomForestClassifier(bootstrap=True, ccp_alpha=0.0, class_weight=None,\n",
              "                       criterion='gini', max_depth=None, max_features='auto',\n",
              "                       max_leaf_nodes=None, max_samples=None,\n",
              "                       min_impurity_decrease=0.0, min_impurity_split=None,\n",
              "                       min_samples_leaf=1, min_samples_split=2,\n",
              "                       min_weight_fraction_leaf=0.0, n_estimators=200,\n",
              "                       n_jobs=-1, oob_score=False, random_state=42, verbose=0,\n",
              "                       warm_start=False)"
            ]
          },
          "metadata": {
            "tags": []
          },
          "execution_count": 49
        }
      ]
    },
    {
      "cell_type": "markdown",
      "metadata": {
        "id": "mBPRO-9m7wTU"
      },
      "source": [
        "### Predicción"
      ]
    },
    {
      "cell_type": "code",
      "metadata": {
        "id": "z7-m-Jo17yS6"
      },
      "source": [
        "prediction = rfc.predict(test)"
      ],
      "execution_count": 50,
      "outputs": []
    },
    {
      "cell_type": "code",
      "metadata": {
        "colab": {
          "base_uri": "https://localhost:8080/"
        },
        "id": "ZV_6NAxH780y",
        "outputId": "43a8588a-d915-4fa9-d56f-ce302dc401f9"
      },
      "source": [
        "prediction"
      ],
      "execution_count": 51,
      "outputs": [
        {
          "output_type": "execute_result",
          "data": {
            "text/plain": [
              "array([3, 2, 2, ..., 2, 2, 2], dtype=int8)"
            ]
          },
          "metadata": {
            "tags": []
          },
          "execution_count": 51
        }
      ]
    },
    {
      "cell_type": "markdown",
      "metadata": {
        "id": "V2HlbG3f9AQS"
      },
      "source": [
        "### Submission"
      ]
    },
    {
      "cell_type": "code",
      "metadata": {
        "id": "M9pBdOc39B8z"
      },
      "source": [
        "sub_example = pd.read_csv(dir_sub_format)"
      ],
      "execution_count": 56,
      "outputs": []
    },
    {
      "cell_type": "code",
      "metadata": {
        "colab": {
          "base_uri": "https://localhost:8080/",
          "height": 424
        },
        "id": "BgrrePb89JpG",
        "outputId": "47cea115-dd0e-4c6f-f322-9a3b6bb2c085"
      },
      "source": [
        "sub_example"
      ],
      "execution_count": 62,
      "outputs": [
        {
          "output_type": "execute_result",
          "data": {
            "text/html": [
              "<div>\n",
              "<style scoped>\n",
              "    .dataframe tbody tr th:only-of-type {\n",
              "        vertical-align: middle;\n",
              "    }\n",
              "\n",
              "    .dataframe tbody tr th {\n",
              "        vertical-align: top;\n",
              "    }\n",
              "\n",
              "    .dataframe thead th {\n",
              "        text-align: right;\n",
              "    }\n",
              "</style>\n",
              "<table border=\"1\" class=\"dataframe\">\n",
              "  <thead>\n",
              "    <tr style=\"text-align: right;\">\n",
              "      <th></th>\n",
              "      <th>building_id</th>\n",
              "      <th>damage_grade</th>\n",
              "    </tr>\n",
              "  </thead>\n",
              "  <tbody>\n",
              "    <tr>\n",
              "      <th>0</th>\n",
              "      <td>300051</td>\n",
              "      <td>1</td>\n",
              "    </tr>\n",
              "    <tr>\n",
              "      <th>1</th>\n",
              "      <td>99355</td>\n",
              "      <td>1</td>\n",
              "    </tr>\n",
              "    <tr>\n",
              "      <th>2</th>\n",
              "      <td>890251</td>\n",
              "      <td>1</td>\n",
              "    </tr>\n",
              "    <tr>\n",
              "      <th>3</th>\n",
              "      <td>745817</td>\n",
              "      <td>1</td>\n",
              "    </tr>\n",
              "    <tr>\n",
              "      <th>4</th>\n",
              "      <td>421793</td>\n",
              "      <td>1</td>\n",
              "    </tr>\n",
              "    <tr>\n",
              "      <th>...</th>\n",
              "      <td>...</td>\n",
              "      <td>...</td>\n",
              "    </tr>\n",
              "    <tr>\n",
              "      <th>86863</th>\n",
              "      <td>310028</td>\n",
              "      <td>1</td>\n",
              "    </tr>\n",
              "    <tr>\n",
              "      <th>86864</th>\n",
              "      <td>663567</td>\n",
              "      <td>1</td>\n",
              "    </tr>\n",
              "    <tr>\n",
              "      <th>86865</th>\n",
              "      <td>1049160</td>\n",
              "      <td>1</td>\n",
              "    </tr>\n",
              "    <tr>\n",
              "      <th>86866</th>\n",
              "      <td>442785</td>\n",
              "      <td>1</td>\n",
              "    </tr>\n",
              "    <tr>\n",
              "      <th>86867</th>\n",
              "      <td>501372</td>\n",
              "      <td>1</td>\n",
              "    </tr>\n",
              "  </tbody>\n",
              "</table>\n",
              "<p>86868 rows × 2 columns</p>\n",
              "</div>"
            ],
            "text/plain": [
              "       building_id  damage_grade\n",
              "0           300051             1\n",
              "1            99355             1\n",
              "2           890251             1\n",
              "3           745817             1\n",
              "4           421793             1\n",
              "...            ...           ...\n",
              "86863       310028             1\n",
              "86864       663567             1\n",
              "86865      1049160             1\n",
              "86866       442785             1\n",
              "86867       501372             1\n",
              "\n",
              "[86868 rows x 2 columns]"
            ]
          },
          "metadata": {
            "tags": []
          },
          "execution_count": 62
        }
      ]
    },
    {
      "cell_type": "code",
      "metadata": {
        "id": "XqcJhyZ38RYr"
      },
      "source": [
        "submit = pd.DataFrame()\n",
        "submit['building_id'] = test['building_id']\n",
        "submit['damage_grade'] = prediction"
      ],
      "execution_count": 58,
      "outputs": []
    },
    {
      "cell_type": "code",
      "metadata": {
        "colab": {
          "base_uri": "https://localhost:8080/",
          "height": 424
        },
        "id": "4lyPbBZQ9TBF",
        "outputId": "5873aeda-4aa2-42ed-82f1-2f2db2b3c7dd"
      },
      "source": [
        "submit"
      ],
      "execution_count": 59,
      "outputs": [
        {
          "output_type": "execute_result",
          "data": {
            "text/html": [
              "<div>\n",
              "<style scoped>\n",
              "    .dataframe tbody tr th:only-of-type {\n",
              "        vertical-align: middle;\n",
              "    }\n",
              "\n",
              "    .dataframe tbody tr th {\n",
              "        vertical-align: top;\n",
              "    }\n",
              "\n",
              "    .dataframe thead th {\n",
              "        text-align: right;\n",
              "    }\n",
              "</style>\n",
              "<table border=\"1\" class=\"dataframe\">\n",
              "  <thead>\n",
              "    <tr style=\"text-align: right;\">\n",
              "      <th></th>\n",
              "      <th>building_id</th>\n",
              "      <th>damage_grade</th>\n",
              "    </tr>\n",
              "  </thead>\n",
              "  <tbody>\n",
              "    <tr>\n",
              "      <th>0</th>\n",
              "      <td>300051</td>\n",
              "      <td>3</td>\n",
              "    </tr>\n",
              "    <tr>\n",
              "      <th>1</th>\n",
              "      <td>99355</td>\n",
              "      <td>2</td>\n",
              "    </tr>\n",
              "    <tr>\n",
              "      <th>2</th>\n",
              "      <td>890251</td>\n",
              "      <td>2</td>\n",
              "    </tr>\n",
              "    <tr>\n",
              "      <th>3</th>\n",
              "      <td>745817</td>\n",
              "      <td>1</td>\n",
              "    </tr>\n",
              "    <tr>\n",
              "      <th>4</th>\n",
              "      <td>421793</td>\n",
              "      <td>3</td>\n",
              "    </tr>\n",
              "    <tr>\n",
              "      <th>...</th>\n",
              "      <td>...</td>\n",
              "      <td>...</td>\n",
              "    </tr>\n",
              "    <tr>\n",
              "      <th>86863</th>\n",
              "      <td>310028</td>\n",
              "      <td>2</td>\n",
              "    </tr>\n",
              "    <tr>\n",
              "      <th>86864</th>\n",
              "      <td>663567</td>\n",
              "      <td>2</td>\n",
              "    </tr>\n",
              "    <tr>\n",
              "      <th>86865</th>\n",
              "      <td>1049160</td>\n",
              "      <td>2</td>\n",
              "    </tr>\n",
              "    <tr>\n",
              "      <th>86866</th>\n",
              "      <td>442785</td>\n",
              "      <td>2</td>\n",
              "    </tr>\n",
              "    <tr>\n",
              "      <th>86867</th>\n",
              "      <td>501372</td>\n",
              "      <td>2</td>\n",
              "    </tr>\n",
              "  </tbody>\n",
              "</table>\n",
              "<p>86868 rows × 2 columns</p>\n",
              "</div>"
            ],
            "text/plain": [
              "       building_id  damage_grade\n",
              "0           300051             3\n",
              "1            99355             2\n",
              "2           890251             2\n",
              "3           745817             1\n",
              "4           421793             3\n",
              "...            ...           ...\n",
              "86863       310028             2\n",
              "86864       663567             2\n",
              "86865      1049160             2\n",
              "86866       442785             2\n",
              "86867       501372             2\n",
              "\n",
              "[86868 rows x 2 columns]"
            ]
          },
          "metadata": {
            "tags": []
          },
          "execution_count": 59
        }
      ]
    },
    {
      "cell_type": "code",
      "metadata": {
        "id": "VRuTbcA7-V1t"
      },
      "source": [
        "submit.to_csv('submission.csv', index=False)"
      ],
      "execution_count": 66,
      "outputs": []
    },
    {
      "cell_type": "code",
      "metadata": {
        "id": "A3hK1S3M-9QX"
      },
      "source": [
        "aux = pd.read_csv('submission.csv')"
      ],
      "execution_count": 67,
      "outputs": []
    },
    {
      "cell_type": "code",
      "metadata": {
        "colab": {
          "base_uri": "https://localhost:8080/",
          "height": 424
        },
        "id": "nd76WysQ_Cgb",
        "outputId": "2bc7888b-8920-4b1d-abf2-bdb0a2b55859"
      },
      "source": [
        "aux"
      ],
      "execution_count": 68,
      "outputs": [
        {
          "output_type": "execute_result",
          "data": {
            "text/html": [
              "<div>\n",
              "<style scoped>\n",
              "    .dataframe tbody tr th:only-of-type {\n",
              "        vertical-align: middle;\n",
              "    }\n",
              "\n",
              "    .dataframe tbody tr th {\n",
              "        vertical-align: top;\n",
              "    }\n",
              "\n",
              "    .dataframe thead th {\n",
              "        text-align: right;\n",
              "    }\n",
              "</style>\n",
              "<table border=\"1\" class=\"dataframe\">\n",
              "  <thead>\n",
              "    <tr style=\"text-align: right;\">\n",
              "      <th></th>\n",
              "      <th>building_id</th>\n",
              "      <th>damage_grade</th>\n",
              "    </tr>\n",
              "  </thead>\n",
              "  <tbody>\n",
              "    <tr>\n",
              "      <th>0</th>\n",
              "      <td>300051</td>\n",
              "      <td>3</td>\n",
              "    </tr>\n",
              "    <tr>\n",
              "      <th>1</th>\n",
              "      <td>99355</td>\n",
              "      <td>2</td>\n",
              "    </tr>\n",
              "    <tr>\n",
              "      <th>2</th>\n",
              "      <td>890251</td>\n",
              "      <td>2</td>\n",
              "    </tr>\n",
              "    <tr>\n",
              "      <th>3</th>\n",
              "      <td>745817</td>\n",
              "      <td>1</td>\n",
              "    </tr>\n",
              "    <tr>\n",
              "      <th>4</th>\n",
              "      <td>421793</td>\n",
              "      <td>3</td>\n",
              "    </tr>\n",
              "    <tr>\n",
              "      <th>...</th>\n",
              "      <td>...</td>\n",
              "      <td>...</td>\n",
              "    </tr>\n",
              "    <tr>\n",
              "      <th>86863</th>\n",
              "      <td>310028</td>\n",
              "      <td>2</td>\n",
              "    </tr>\n",
              "    <tr>\n",
              "      <th>86864</th>\n",
              "      <td>663567</td>\n",
              "      <td>2</td>\n",
              "    </tr>\n",
              "    <tr>\n",
              "      <th>86865</th>\n",
              "      <td>1049160</td>\n",
              "      <td>2</td>\n",
              "    </tr>\n",
              "    <tr>\n",
              "      <th>86866</th>\n",
              "      <td>442785</td>\n",
              "      <td>2</td>\n",
              "    </tr>\n",
              "    <tr>\n",
              "      <th>86867</th>\n",
              "      <td>501372</td>\n",
              "      <td>2</td>\n",
              "    </tr>\n",
              "  </tbody>\n",
              "</table>\n",
              "<p>86868 rows × 2 columns</p>\n",
              "</div>"
            ],
            "text/plain": [
              "       building_id  damage_grade\n",
              "0           300051             3\n",
              "1            99355             2\n",
              "2           890251             2\n",
              "3           745817             1\n",
              "4           421793             3\n",
              "...            ...           ...\n",
              "86863       310028             2\n",
              "86864       663567             2\n",
              "86865      1049160             2\n",
              "86866       442785             2\n",
              "86867       501372             2\n",
              "\n",
              "[86868 rows x 2 columns]"
            ]
          },
          "metadata": {
            "tags": []
          },
          "execution_count": 68
        }
      ]
    }
  ]
}