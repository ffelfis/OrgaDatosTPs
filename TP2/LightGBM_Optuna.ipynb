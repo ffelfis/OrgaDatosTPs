{
 "cells": [
  {
   "cell_type": "markdown",
   "id": "71ab4851",
   "metadata": {},
   "source": [
    "# Carga de librerías y directorios"
   ]
  },
  {
   "cell_type": "code",
   "execution_count": 1,
   "id": "8b740855",
   "metadata": {},
   "outputs": [],
   "source": [
    "import pandas as pd\n",
    "import numpy as np\n",
    "\n",
    "# Métrica de evaluación\n",
    "from sklearn.metrics import f1_score\n",
    "# fold_score = f1_score(y_test, prediction, average='micro')\n",
    "# Se especifica average por tener un target multiclase\n",
    "\n",
    "# Clasificador LightGBM\n",
    "from lightgbm import LGBMClassifier\n",
    "\n",
    "# Para la división en k-folds\n",
    "from sklearn.model_selection import KFold\n",
    "\n",
    "# Para pasar parámetros varias veces a una función\n",
    "from functools import partial\n",
    "\n",
    "# Optuna\n",
    "import optuna\n",
    "\n",
    "# Librería para guardar los Trials.\n",
    "import joblib\n",
    "\n",
    "# Función para cambiar tipos de datos\n",
    "from resources.utilidades import cambio_tipos"
   ]
  },
  {
   "cell_type": "markdown",
   "id": "2bc25f4f",
   "metadata": {},
   "source": [
    "# Rutas de los archivos a usar"
   ]
  },
  {
   "cell_type": "code",
   "execution_count": 2,
   "id": "0dfb73bd",
   "metadata": {},
   "outputs": [],
   "source": [
    "# Ruta train_values.csv\n",
    "dir_values = 'data/train_values.csv'\n",
    "# Ruta train_labels.csv\n",
    "dir_labels = 'data/train_labels.csv'\n",
    "# Ruta de Binary Encodings para train_values.csv\n",
    "dir_resources = 'resources'"
   ]
  },
  {
   "cell_type": "markdown",
   "id": "2aaa842b",
   "metadata": {},
   "source": [
    "# Train set"
   ]
  },
  {
   "cell_type": "code",
   "execution_count": 3,
   "id": "c77f5c7a",
   "metadata": {},
   "outputs": [],
   "source": [
    "columnas = ['building_id',\n",
    " 'geo_level_1_id',\n",
    " 'geo_level_2_id',\n",
    " 'geo_level_3_id',\n",
    " 'count_floors_pre_eq',\n",
    " 'age',\n",
    " 'area_percentage',\n",
    " 'height_percentage',\n",
    " 'has_superstructure_adobe_mud',\n",
    " 'has_superstructure_mud_mortar_stone',\n",
    " 'has_superstructure_stone_flag',\n",
    " 'has_superstructure_cement_mortar_stone',\n",
    " 'has_superstructure_mud_mortar_brick',\n",
    " 'has_superstructure_cement_mortar_brick',\n",
    " 'has_superstructure_timber',\n",
    " 'has_superstructure_bamboo',\n",
    " 'has_superstructure_rc_non_engineered',\n",
    " 'has_superstructure_rc_engineered',\n",
    " 'has_superstructure_other',\n",
    " 'count_families',\n",
    " 'has_secondary_use',\n",
    " 'has_secondary_use_agriculture',\n",
    " 'has_secondary_use_hotel',\n",
    " 'has_secondary_use_rental',\n",
    " 'has_secondary_use_institution',\n",
    " 'has_secondary_use_school',\n",
    " 'has_secondary_use_industry',\n",
    " 'has_secondary_use_health_post',\n",
    " 'has_secondary_use_gov_office',\n",
    " 'has_secondary_use_use_police',\n",
    " 'has_secondary_use_other']\n",
    "\n",
    "# Carga de train_values.csv\n",
    "train = pd.read_csv(dir_values, usecols=columnas)"
   ]
  },
  {
   "cell_type": "markdown",
   "id": "88fc38e4",
   "metadata": {},
   "source": [
    "### Cambio de tipos de datos"
   ]
  },
  {
   "cell_type": "code",
   "execution_count": 4,
   "id": "c9976af7",
   "metadata": {},
   "outputs": [],
   "source": [
    "train = cambio_tipos(train)"
   ]
  },
  {
   "cell_type": "markdown",
   "id": "4d6c60b7",
   "metadata": {},
   "source": [
    "### Carga de columnas codificadas: One Hot Encoding"
   ]
  },
  {
   "cell_type": "code",
   "execution_count": 5,
   "id": "69ae2c1b",
   "metadata": {},
   "outputs": [],
   "source": [
    "# 38 columnas más\n",
    "train = train.join(pd.read_csv(dir_resources+f'/OHE_train.csv', dtype='uint8'))"
   ]
  },
  {
   "cell_type": "markdown",
   "id": "959ac632",
   "metadata": {},
   "source": [
    "### Se quitan columnas"
   ]
  },
  {
   "cell_type": "code",
   "execution_count": 6,
   "id": "4b02da14",
   "metadata": {},
   "outputs": [],
   "source": [
    "# Se le quitan columnas\n",
    "to_drop = ['building_id', 'has_secondary_use_school', 'has_secondary_use_health_post',  \\\n",
    "           'has_secondary_use_gov_office',  'has_secondary_use_use_police',  \\\n",
    "           'C_a', 'C_f', 'C_m', 'C_n', 'C_o']\n",
    "train = train.drop(columns=to_drop)\n",
    "\n",
    "# GridSearchCV, RandomizedSerach, Bayesian Search y LightGBMClassifier necesitan, o funcionan mejor con, los valores en una dimensión.\n",
    "# Valores del data set\n",
    "X = train.values"
   ]
  },
  {
   "cell_type": "markdown",
   "id": "1e1728cb",
   "metadata": {},
   "source": [
    "### Carga de labels"
   ]
  },
  {
   "cell_type": "code",
   "execution_count": 7,
   "id": "4b9bae29",
   "metadata": {},
   "outputs": [],
   "source": [
    "# Carga de train_labels.csv\n",
    "labels = pd.read_csv(dir_labels, usecols=['damage_grade'], dtype='uint8')\n",
    "\n",
    "# GridSearchCV, RandomizedSerach, Bayesian Search y LightGBMClassifier necesitan, o funcionan mejor con, los valores en una dimensión.\n",
    "# Valores del data set\n",
    "y = labels.damage_grade.values"
   ]
  },
  {
   "cell_type": "code",
   "execution_count": 22,
   "id": "0db5b138",
   "metadata": {},
   "outputs": [],
   "source": [
    "# trial: \n",
    "# x: features\n",
    "# y: target\n",
    "\n",
    "def optimize(trial, x, y):\n",
    "    # Se define el espacio de parámetros\n",
    "    num_leaves = trial.suggest_int('num_leaves', 105, 120, 1)\n",
    "    n_estimators = trial.suggest_int('n_estimators', 560, 940, 10)\n",
    "    max_depth = trial.suggest_int('max_depth', 45, 95, 5)\n",
    "    learning_rate = trial.suggest_uniform('learning_rate', 0.0727, 0.1343)\n",
    "    #~~~~~~~~~~~~~~~~~~~~~~~~~~~~~~~~~~~~~~~~~~~~~~~~~~~~~~~~~~~~~~~~~~~~\n",
    "    # Se instancia el modelo\n",
    "    model = LGBMClassifier(\n",
    "        num_leaves = num_leaves,\n",
    "        n_estimators = n_estimators,\n",
    "        max_depth = max_depth,\n",
    "        learning_rate = learning_rate)\n",
    "    # Hay que realizar el k-folding\n",
    "    kf = KFold(n_splits=7)\n",
    "    # Lista de scores\n",
    "    scores = []\n",
    "    # Se dividen los datos\n",
    "    for index in kf.split(X=x, y=y):\n",
    "        train_index, test_index = index[0], index[1]\n",
    "        X_train = x[train_index]\n",
    "        y_train = y[train_index]\n",
    "        X_test = x[test_index]\n",
    "        y_test = y[test_index]\n",
    "        # Entrenamiento del k-fold y predicción\n",
    "        model.fit(X_train, y_train)\n",
    "        prediction = model.predict(X_test)\n",
    "        fold_score = f1_score(y_test, prediction, average='micro')\n",
    "        # Se agrega el score a la lista\n",
    "        scores.append(fold_score)\n",
    "    # Ahora hay que devolver la función para minimizar\n",
    "    return -1.0 * np.mean(scores)\n",
    "\n",
    "# ===========================================================================\n",
    "# Función de optimización con función partial\n",
    "# Cada vez que se cambia el espacio de parámetros hay que ejecutar esta orden\n",
    "optimization_function = partial(optimize, x=X, y=y)"
   ]
  },
  {
   "cell_type": "markdown",
   "id": "6269ff3b",
   "metadata": {},
   "source": [
    " Si `nuevo_studio = True` se crea una nueva instancia de Study.\n",
    "\n",
    "### Si se quiere continuar con otro hay que cargar el archivo pickle guardado y usar ese Study."
   ]
  },
  {
   "cell_type": "code",
   "execution_count": 168,
   "id": "17fb479e",
   "metadata": {},
   "outputs": [
    {
     "name": "stderr",
     "output_type": "stream",
     "text": [
      "\u001b[32m[I 2021-07-26 00:31:54,386]\u001b[0m A new study created in memory with name: no-name-9479dd4d-fbc9-4c70-a423-c1a15079b13e\u001b[0m\n"
     ]
    }
   ],
   "source": [
    "#=====================\n",
    "######################\n",
    "nuevo_studio = False\n",
    "######################\n",
    "#=====================\n",
    "\n",
    "if nuevo_studio:\n",
    "    study = optuna.create_study(direction='minimize')\n",
    "else: print('Cargar otro')"
   ]
  },
  {
   "cell_type": "markdown",
   "id": "67d7f11e",
   "metadata": {},
   "source": [
    "### Optimización\n",
    "Se realizan tantas operaciones como indique `n_trials`. Si es un study cargado, las evaluaciones se acumulan con las ya realizadas.\n",
    "\n",
    "### Solo es necesario ejecutar la siguiente celda para agregar `n_trials` evaluaciones al study.\n",
    "\n",
    "---\n",
    "---"
   ]
  },
  {
   "cell_type": "code",
   "execution_count": 23,
   "id": "3740604b",
   "metadata": {
    "scrolled": true
   },
   "outputs": [
    {
     "name": "stderr",
     "output_type": "stream",
     "text": [
      "\u001b[32m[I 2021-07-26 12:07:08,798]\u001b[0m Trial 60 finished with value: -0.7457684394004939 and parameters: {'num_leaves': 113, 'n_estimators': 890, 'max_depth': 90, 'learning_rate': 0.08711406593170527}. Best is trial 53 with value: -0.7460869325437617.\u001b[0m\n",
      "\u001b[32m[I 2021-07-26 12:09:51,809]\u001b[0m Trial 61 finished with value: -0.7450163314630233 and parameters: {'num_leaves': 114, 'n_estimators': 890, 'max_depth': 90, 'learning_rate': 0.08822335635397603}. Best is trial 53 with value: -0.7460869325437617.\u001b[0m\n",
      "\u001b[32m[I 2021-07-26 12:12:27,186]\u001b[0m Trial 62 finished with value: -0.7448014468676198 and parameters: {'num_leaves': 112, 'n_estimators': 870, 'max_depth': 85, 'learning_rate': 0.09475943225671156}. Best is trial 53 with value: -0.7460869325437617.\u001b[0m\n",
      "\u001b[32m[I 2021-07-26 12:15:10,969]\u001b[0m Trial 63 finished with value: -0.7446748165458141 and parameters: {'num_leaves': 118, 'n_estimators': 840, 'max_depth': 95, 'learning_rate': 0.08651379974214805}. Best is trial 53 with value: -0.7460869325437617.\u001b[0m\n",
      "\u001b[32m[I 2021-07-26 12:18:02,923]\u001b[0m Trial 64 finished with value: -0.7456648328110437 and parameters: {'num_leaves': 113, 'n_estimators': 930, 'max_depth': 90, 'learning_rate': 0.07971677123581035}. Best is trial 53 with value: -0.7460869325437617.\u001b[0m\n",
      "\u001b[32m[I 2021-07-26 12:20:45,523]\u001b[0m Trial 65 finished with value: -0.7452465709511397 and parameters: {'num_leaves': 113, 'n_estimators': 890, 'max_depth': 90, 'learning_rate': 0.07930653095822904}. Best is trial 53 with value: -0.7460869325437617.\u001b[0m\n",
      "\u001b[32m[I 2021-07-26 12:23:19,252]\u001b[0m Trial 66 finished with value: -0.7452427253477444 and parameters: {'num_leaves': 115, 'n_estimators': 830, 'max_depth': 85, 'learning_rate': 0.07535481986020616}. Best is trial 53 with value: -0.7460869325437617.\u001b[0m\n",
      "\u001b[32m[I 2021-07-26 12:25:56,394]\u001b[0m Trial 67 finished with value: -0.745396224077631 and parameters: {'num_leaves': 112, 'n_estimators': 870, 'max_depth': 95, 'learning_rate': 0.08241054343432914}. Best is trial 53 with value: -0.7460869325437617.\u001b[0m\n",
      "\u001b[32m[I 2021-07-26 12:28:39,988]\u001b[0m Trial 68 finished with value: -0.7456533286754473 and parameters: {'num_leaves': 111, 'n_estimators': 920, 'max_depth': 85, 'learning_rate': 0.08462774839098036}. Best is trial 53 with value: -0.7460869325437617.\u001b[0m\n",
      "\u001b[32m[I 2021-07-26 12:31:26,315]\u001b[0m Trial 69 finished with value: -0.7452350520759019 and parameters: {'num_leaves': 111, 'n_estimators': 930, 'max_depth': 85, 'learning_rate': 0.08006250948471526}. Best is trial 53 with value: -0.7460869325437617.\u001b[0m\n"
     ]
    }
   ],
   "source": [
    "study.optimize(optimization_function, n_trials=10)"
   ]
  },
  {
   "cell_type": "code",
   "execution_count": 24,
   "id": "07838436",
   "metadata": {},
   "outputs": [
    {
     "name": "stdout",
     "output_type": "stream",
     "text": [
      "Cantidad de evaluaciones: 70\n",
      "Mejor evaluación: -0.7460869325437617 en trial 53\n",
      "Mejores parámetros: {'num_leaves': 106, 'n_estimators': 830, 'max_depth': 85, 'learning_rate': 0.07781085417266771}\n"
     ]
    },
    {
     "data": {
      "text/html": [
       "<div>\n",
       "<style scoped>\n",
       "    .dataframe tbody tr th:only-of-type {\n",
       "        vertical-align: middle;\n",
       "    }\n",
       "\n",
       "    .dataframe tbody tr th {\n",
       "        vertical-align: top;\n",
       "    }\n",
       "\n",
       "    .dataframe thead th {\n",
       "        text-align: right;\n",
       "    }\n",
       "</style>\n",
       "<table border=\"1\" class=\"dataframe\">\n",
       "  <thead>\n",
       "    <tr style=\"text-align: right;\">\n",
       "      <th></th>\n",
       "      <th>value</th>\n",
       "      <th>duration</th>\n",
       "      <th>params_learning_rate</th>\n",
       "      <th>params_max_depth</th>\n",
       "      <th>params_n_estimators</th>\n",
       "      <th>params_num_leaves</th>\n",
       "    </tr>\n",
       "  </thead>\n",
       "  <tbody>\n",
       "    <tr>\n",
       "      <th>53</th>\n",
       "      <td>-0.746087</td>\n",
       "      <td>145</td>\n",
       "      <td>0.077811</td>\n",
       "      <td>85</td>\n",
       "      <td>830</td>\n",
       "      <td>106</td>\n",
       "    </tr>\n",
       "    <tr>\n",
       "      <th>52</th>\n",
       "      <td>-0.745910</td>\n",
       "      <td>152</td>\n",
       "      <td>0.077106</td>\n",
       "      <td>90</td>\n",
       "      <td>870</td>\n",
       "      <td>107</td>\n",
       "    </tr>\n",
       "    <tr>\n",
       "      <th>15</th>\n",
       "      <td>-0.745795</td>\n",
       "      <td>105</td>\n",
       "      <td>0.134264</td>\n",
       "      <td>55</td>\n",
       "      <td>560</td>\n",
       "      <td>110</td>\n",
       "    </tr>\n",
       "    <tr>\n",
       "      <th>60</th>\n",
       "      <td>-0.745768</td>\n",
       "      <td>162</td>\n",
       "      <td>0.087114</td>\n",
       "      <td>90</td>\n",
       "      <td>890</td>\n",
       "      <td>113</td>\n",
       "    </tr>\n",
       "    <tr>\n",
       "      <th>47</th>\n",
       "      <td>-0.745768</td>\n",
       "      <td>146</td>\n",
       "      <td>0.090898</td>\n",
       "      <td>80</td>\n",
       "      <td>840</td>\n",
       "      <td>107</td>\n",
       "    </tr>\n",
       "    <tr>\n",
       "      <th>64</th>\n",
       "      <td>-0.745665</td>\n",
       "      <td>171</td>\n",
       "      <td>0.079717</td>\n",
       "      <td>90</td>\n",
       "      <td>930</td>\n",
       "      <td>113</td>\n",
       "    </tr>\n",
       "    <tr>\n",
       "      <th>68</th>\n",
       "      <td>-0.745653</td>\n",
       "      <td>163</td>\n",
       "      <td>0.084628</td>\n",
       "      <td>85</td>\n",
       "      <td>920</td>\n",
       "      <td>111</td>\n",
       "    </tr>\n",
       "    <tr>\n",
       "      <th>45</th>\n",
       "      <td>-0.745642</td>\n",
       "      <td>149</td>\n",
       "      <td>0.088214</td>\n",
       "      <td>90</td>\n",
       "      <td>890</td>\n",
       "      <td>107</td>\n",
       "    </tr>\n",
       "    <tr>\n",
       "      <th>44</th>\n",
       "      <td>-0.745626</td>\n",
       "      <td>156</td>\n",
       "      <td>0.086915</td>\n",
       "      <td>90</td>\n",
       "      <td>940</td>\n",
       "      <td>107</td>\n",
       "    </tr>\n",
       "    <tr>\n",
       "      <th>37</th>\n",
       "      <td>-0.745577</td>\n",
       "      <td>163</td>\n",
       "      <td>0.083053</td>\n",
       "      <td>70</td>\n",
       "      <td>920</td>\n",
       "      <td>105</td>\n",
       "    </tr>\n",
       "  </tbody>\n",
       "</table>\n",
       "</div>"
      ],
      "text/plain": [
       "       value  duration  params_learning_rate  params_max_depth  \\\n",
       "53 -0.746087       145              0.077811                85   \n",
       "52 -0.745910       152              0.077106                90   \n",
       "15 -0.745795       105              0.134264                55   \n",
       "60 -0.745768       162              0.087114                90   \n",
       "47 -0.745768       146              0.090898                80   \n",
       "64 -0.745665       171              0.079717                90   \n",
       "68 -0.745653       163              0.084628                85   \n",
       "45 -0.745642       149              0.088214                90   \n",
       "44 -0.745626       156              0.086915                90   \n",
       "37 -0.745577       163              0.083053                70   \n",
       "\n",
       "    params_n_estimators  params_num_leaves  \n",
       "53                  830                106  \n",
       "52                  870                107  \n",
       "15                  560                110  \n",
       "60                  890                113  \n",
       "47                  840                107  \n",
       "64                  930                113  \n",
       "68                  920                111  \n",
       "45                  890                107  \n",
       "44                  940                107  \n",
       "37                  920                105  "
      ]
     },
     "execution_count": 24,
     "metadata": {},
     "output_type": "execute_result"
    }
   ],
   "source": [
    "print('Cantidad de evaluaciones:', len(study.trials))\n",
    "print('Mejor evaluación:', study.best_value, 'en trial', study.best_trial.number)\n",
    "print('Mejores parámetros:', study.best_params)\n",
    "df = study.trials_dataframe().nsmallest(10, 'value')[['value', 'duration', 'params_learning_rate', 'params_max_depth', 'params_n_estimators', 'params_num_leaves']]\n",
    "df['duration'] = df['duration'].dt.seconds\n",
    "df"
   ]
  },
  {
   "cell_type": "markdown",
   "id": "5690e784",
   "metadata": {},
   "source": [
    "### Rangos de parámetros de las 10 mejores evaluaciones acumuladas"
   ]
  },
  {
   "cell_type": "code",
   "execution_count": 25,
   "id": "6bd86227",
   "metadata": {},
   "outputs": [
    {
     "name": "stdout",
     "output_type": "stream",
     "text": [
      "learning_rate \tmim: 0.0771 \tmax: 0.1343 \tmean: 0.089 \tmedian: 0.0858 \tstd: 0.0166\n",
      "num_leaves \tmim: 105 \tmax: 113 \tmean: 108.6 \tmedian: 107.0 \tstd: 2.9136\n",
      "n_estimators \tmim: 560 \tmax: 940 \tmean: 859.0 \tmedian: 890.0 \tstd: 111.4002\n",
      "max_depth \tmim: 55 \tmax: 90 \tmean: 82.5 \tmedian: 87.5 \tstd: 11.607\n"
     ]
    }
   ],
   "source": [
    "top_10 = study.trials_dataframe().nsmallest(10, 'value')\n",
    "parametro = ['learning_rate', 'num_leaves', 'n_estimators', 'max_depth']\n",
    "for i in np.arange(len(parametro)):\n",
    "    print(parametro[i], \\\n",
    "          '\\tmim:', top_10['params_'+parametro[i]].min().round(4), \\\n",
    "          '\\tmax:', top_10['params_'+parametro[i]].max().round(4), \\\n",
    "          '\\tmean:', top_10['params_'+parametro[i]].mean().round(4), \\\n",
    "          '\\tmedian:', top_10['params_'+parametro[i]].median().round(4), \\\n",
    "          '\\tstd:', top_10['params_'+parametro[i]].std().round(4))"
   ]
  },
  {
   "cell_type": "markdown",
   "id": "d9b24416",
   "metadata": {},
   "source": [
    "### Para 7 KFold, One_Hot_Encoding\n",
    "```\n",
    "- `study_LightGBM_clean_7Fold.pkl`\n",
    "```\n",
    "Tendencias:\n",
    "- `'learning_rate'` $\\in$ `(0.0727, 0.1343)`\n",
    "- `'num_leaves'` $\\in$ `(105, 110)` $\\longleftarrow$ __Probar elevando el máximo__\n",
    "- `'n_estimators'` $\\in$ `(560, 940)`\n",
    "- `'max_depth'` $\\in$ `(45, 95)`\n",
    "- `dropped_columns: 'building_id', 'has_secondary_use_school', 'has_secondary_use_health_post', 'has_secondary_use_gov_office', 'has_secondary_use_use_police', 'C_a', 'C_f', 'C_m', 'C_n', 'C_o'`\n",
    "```\n",
    "Cantidad de evaluaciones: 60\n",
    "Mejor evaluación: -0.7460869325437617 en trial 53\n",
    "Mejores parámetros: {'num_leaves': 106, 'n_estimators': 830, 'max_depth': 85, 'learning_rate': 0.07781085417266771}\n",
    "```"
   ]
  },
  {
   "cell_type": "markdown",
   "id": "2bb8673f",
   "metadata": {},
   "source": [
    "### Para 8 KFold, One_Hot_Encoding\n",
    "```\n",
    "- `study_LightGBM_clean_8Fold.pkl`\n",
    "```\n",
    "Tendencias:\n",
    "- `'learning_rate'` $\\in$ `(0.1242, 0.1393)`\n",
    "- `'num_leaves'` $\\in$ `(79, 93)`\n",
    "- `'n_estimators'` $\\in$ `(600, 625)`\n",
    "- `'max_depth'` $\\in$ `(51, 60)`\n",
    "- `dropped_columns: 'building_id', 'has_secondary_use_school', 'has_secondary_use_health_post', 'has_secondary_use_gov_office', 'has_secondary_use_use_police', 'C_a', 'C_f', 'C_m', 'C_n', 'C_o'`\n",
    "```\n",
    "Cantidad de evaluaciones: 90\n",
    "Mejor evaluación: -0.7458528540897384 en trial 63\n",
    "Mejores parámetros: {'num_leaves': 82, 'n_estimators': 620, 'max_depth': 52, 'learning_rate': 0.12450509333352734}\n",
    "```"
   ]
  },
  {
   "cell_type": "markdown",
   "id": "91784c6c",
   "metadata": {},
   "source": [
    "### Para 9 KFold, One_Hot_Encoding\n",
    "```\n",
    "- `study_LightGBM_clean_9Fold.pkl`\n",
    "```\n",
    "Tendencias:\n",
    "- `'learning_rate'` $\\in$ `(0.12, 0.2)`\n",
    "- `'num_leaves'` $\\in$ `(58, 76)`\n",
    "- `'n_estimators'` $\\in$ `(580, 690)`\n",
    "- `'max_depth'` $\\in$ `(40, 50)`\n",
    "- `dropped_columns: 'building_id', 'has_secondary_use_school', 'has_secondary_use_health_post', 'has_secondary_use_gov_office', 'has_secondary_use_use_police', 'C_a', 'C_f', 'C_m', 'C_n', 'C_o'`\n",
    "```\n",
    "Cantidad de evaluaciones: 60\n",
    "Mejor evaluación: -0.7461675108209561 en trial 48\n",
    "Mejores parámetros: {'num_leaves': 59, 'n_estimators': 755, 'max_depth': 59, 'learning_rate': 0.15673237668876525}\n",
    "```"
   ]
  },
  {
   "cell_type": "markdown",
   "id": "cba834ce",
   "metadata": {},
   "source": [
    "### Para 10 KFold, One_Hot_Encoding\n",
    "```\n",
    "- `study_LightGBM_clean_10Fold.pkl`\n",
    "```\n",
    "Tendencias:\n",
    "- `'learning_rate'` $\\in$ `(0.09, 0.1)`\n",
    "- `'num_leaves'` $\\in$ `(110, 130)`\n",
    "- `'n_estimators'` $\\in$ `(1045, 1200)`\n",
    "- `'max_depth'` $\\in$ `(33, 39)`\n",
    "- `dropped_columns: 'building_id', 'has_secondary_use_school', 'has_secondary_use_health_post', 'has_secondary_use_gov_office', 'has_secondary_use_use_police', 'C_a', 'C_f', 'C_m', 'C_n', 'C_o'`\n",
    "```\n",
    "Cantidad de evaluaciones: 100\n",
    "Mejor evaluación: -0.7462826329030334 en trial 87\n",
    "Mejores parámetros: {'num_leaves': 123, 'n_estimators': 1065, 'max_depth': 36, 'learning_rate': 0.09406462135767253}\n",
    "```"
   ]
  },
  {
   "cell_type": "markdown",
   "id": "e7499e2b",
   "metadata": {},
   "source": [
    "### Para 4 KFold, One_Hot_Encoding\n",
    "`dropped_columns: 'building_id'`\n",
    "- `study_LightGBM_4Fold.pkl`\n",
    "```\n",
    "Cantidad de evaluaciones: 25\n",
    "Mejores parámetros: {'num_leaves': 72, 'n_estimators': 831, 'max_depth': 72, 'learning_rate': 0.10069045291345259}\n",
    "```"
   ]
  },
  {
   "cell_type": "markdown",
   "id": "9937ff18",
   "metadata": {},
   "source": [
    "# Guardar progreso de búsquedas"
   ]
  },
  {
   "cell_type": "code",
   "execution_count": 26,
   "id": "235a9da3",
   "metadata": {},
   "outputs": [
    {
     "data": {
      "text/plain": [
       "['pickle/study_LightGBM_clean_7Fold.pkl']"
      ]
     },
     "execution_count": 26,
     "metadata": {},
     "output_type": "execute_result"
    }
   ],
   "source": [
    "joblib.dump(study, 'pickle/study_LightGBM_clean_7Fold.pkl')"
   ]
  },
  {
   "cell_type": "markdown",
   "id": "e7e7ec59",
   "metadata": {},
   "source": [
    "# Cargar avances anteriores"
   ]
  },
  {
   "cell_type": "code",
   "execution_count": 20,
   "id": "3286d0c2",
   "metadata": {},
   "outputs": [],
   "source": [
    "study = joblib.load('pickle/study_LightGBM_clean_7Fold.pkl')"
   ]
  },
  {
   "cell_type": "code",
   "execution_count": 21,
   "id": "99c57e70",
   "metadata": {},
   "outputs": [
    {
     "name": "stdout",
     "output_type": "stream",
     "text": [
      "Cantidad de evaluaciones: 60\n",
      "Mejor evaluación: -0.7460869325437617 en trial 53\n",
      "Mejores parámetros: {'num_leaves': 106, 'n_estimators': 830, 'max_depth': 85, 'learning_rate': 0.07781085417266771}\n",
      "Evaluaciones:\n"
     ]
    },
    {
     "data": {
      "text/html": [
       "<div>\n",
       "<style scoped>\n",
       "    .dataframe tbody tr th:only-of-type {\n",
       "        vertical-align: middle;\n",
       "    }\n",
       "\n",
       "    .dataframe tbody tr th {\n",
       "        vertical-align: top;\n",
       "    }\n",
       "\n",
       "    .dataframe thead th {\n",
       "        text-align: right;\n",
       "    }\n",
       "</style>\n",
       "<table border=\"1\" class=\"dataframe\">\n",
       "  <thead>\n",
       "    <tr style=\"text-align: right;\">\n",
       "      <th></th>\n",
       "      <th>value</th>\n",
       "      <th>duration</th>\n",
       "      <th>params_learning_rate</th>\n",
       "      <th>params_max_depth</th>\n",
       "      <th>params_n_estimators</th>\n",
       "      <th>params_num_leaves</th>\n",
       "    </tr>\n",
       "  </thead>\n",
       "  <tbody>\n",
       "    <tr>\n",
       "      <th>53</th>\n",
       "      <td>-0.746087</td>\n",
       "      <td>0 days 00:02:25.495716</td>\n",
       "      <td>0.077811</td>\n",
       "      <td>85</td>\n",
       "      <td>830</td>\n",
       "      <td>106</td>\n",
       "    </tr>\n",
       "    <tr>\n",
       "      <th>52</th>\n",
       "      <td>-0.745910</td>\n",
       "      <td>0 days 00:02:32.789452</td>\n",
       "      <td>0.077106</td>\n",
       "      <td>90</td>\n",
       "      <td>870</td>\n",
       "      <td>107</td>\n",
       "    </tr>\n",
       "    <tr>\n",
       "      <th>15</th>\n",
       "      <td>-0.745795</td>\n",
       "      <td>0 days 00:01:45.479879</td>\n",
       "      <td>0.134264</td>\n",
       "      <td>55</td>\n",
       "      <td>560</td>\n",
       "      <td>110</td>\n",
       "    </tr>\n",
       "    <tr>\n",
       "      <th>47</th>\n",
       "      <td>-0.745768</td>\n",
       "      <td>0 days 00:02:26.763885</td>\n",
       "      <td>0.090898</td>\n",
       "      <td>80</td>\n",
       "      <td>840</td>\n",
       "      <td>107</td>\n",
       "    </tr>\n",
       "    <tr>\n",
       "      <th>45</th>\n",
       "      <td>-0.745642</td>\n",
       "      <td>0 days 00:02:29.083680</td>\n",
       "      <td>0.088214</td>\n",
       "      <td>90</td>\n",
       "      <td>890</td>\n",
       "      <td>107</td>\n",
       "    </tr>\n",
       "    <tr>\n",
       "      <th>44</th>\n",
       "      <td>-0.745626</td>\n",
       "      <td>0 days 00:02:36.606736</td>\n",
       "      <td>0.086915</td>\n",
       "      <td>90</td>\n",
       "      <td>940</td>\n",
       "      <td>107</td>\n",
       "    </tr>\n",
       "    <tr>\n",
       "      <th>37</th>\n",
       "      <td>-0.745577</td>\n",
       "      <td>0 days 00:02:43.442802</td>\n",
       "      <td>0.083053</td>\n",
       "      <td>70</td>\n",
       "      <td>920</td>\n",
       "      <td>105</td>\n",
       "    </tr>\n",
       "    <tr>\n",
       "      <th>41</th>\n",
       "      <td>-0.745554</td>\n",
       "      <td>0 days 00:03:04.228723</td>\n",
       "      <td>0.074262</td>\n",
       "      <td>95</td>\n",
       "      <td>910</td>\n",
       "      <td>108</td>\n",
       "    </tr>\n",
       "    <tr>\n",
       "      <th>39</th>\n",
       "      <td>-0.745481</td>\n",
       "      <td>0 days 00:03:11.765937</td>\n",
       "      <td>0.072720</td>\n",
       "      <td>90</td>\n",
       "      <td>940</td>\n",
       "      <td>110</td>\n",
       "    </tr>\n",
       "    <tr>\n",
       "      <th>38</th>\n",
       "      <td>-0.745385</td>\n",
       "      <td>0 days 00:02:57.129261</td>\n",
       "      <td>0.081647</td>\n",
       "      <td>45</td>\n",
       "      <td>940</td>\n",
       "      <td>110</td>\n",
       "    </tr>\n",
       "  </tbody>\n",
       "</table>\n",
       "</div>"
      ],
      "text/plain": [
       "       value               duration  params_learning_rate  params_max_depth  \\\n",
       "53 -0.746087 0 days 00:02:25.495716              0.077811                85   \n",
       "52 -0.745910 0 days 00:02:32.789452              0.077106                90   \n",
       "15 -0.745795 0 days 00:01:45.479879              0.134264                55   \n",
       "47 -0.745768 0 days 00:02:26.763885              0.090898                80   \n",
       "45 -0.745642 0 days 00:02:29.083680              0.088214                90   \n",
       "44 -0.745626 0 days 00:02:36.606736              0.086915                90   \n",
       "37 -0.745577 0 days 00:02:43.442802              0.083053                70   \n",
       "41 -0.745554 0 days 00:03:04.228723              0.074262                95   \n",
       "39 -0.745481 0 days 00:03:11.765937              0.072720                90   \n",
       "38 -0.745385 0 days 00:02:57.129261              0.081647                45   \n",
       "\n",
       "    params_n_estimators  params_num_leaves  \n",
       "53                  830                106  \n",
       "52                  870                107  \n",
       "15                  560                110  \n",
       "47                  840                107  \n",
       "45                  890                107  \n",
       "44                  940                107  \n",
       "37                  920                105  \n",
       "41                  910                108  \n",
       "39                  940                110  \n",
       "38                  940                110  "
      ]
     },
     "execution_count": 21,
     "metadata": {},
     "output_type": "execute_result"
    }
   ],
   "source": [
    "print('Cantidad de evaluaciones:',len(study.trials))\n",
    "print('Mejor evaluación:', study.best_value, 'en trial', study.best_trial.number)\n",
    "print('Mejores parámetros:', study.best_params)\n",
    "print('Evaluaciones:')\n",
    "study.trials_dataframe().nsmallest(10, 'value')[['value', 'duration', 'params_learning_rate', 'params_max_depth', 'params_n_estimators', 'params_num_leaves']]"
   ]
  }
 ],
 "metadata": {
  "kernelspec": {
   "display_name": "Python 3 (ipykernel)",
   "language": "python",
   "name": "python3"
  },
  "language_info": {
   "codemirror_mode": {
    "name": "ipython",
    "version": 3
   },
   "file_extension": ".py",
   "mimetype": "text/x-python",
   "name": "python",
   "nbconvert_exporter": "python",
   "pygments_lexer": "ipython3",
   "version": "3.9.6"
  }
 },
 "nbformat": 4,
 "nbformat_minor": 5
}
