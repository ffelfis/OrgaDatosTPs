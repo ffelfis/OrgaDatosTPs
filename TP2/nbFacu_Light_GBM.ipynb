{
  "nbformat": 4,
  "nbformat_minor": 0,
  "metadata": {
    "colab": {
      "name": "nbFacu_Light_GBM.ipynb",
      "provenance": [],
      "collapsed_sections": [],
      "authorship_tag": "ABX9TyMXo0eA8MGVdFXTgIUnXc4v",
      "include_colab_link": true
    },
    "kernelspec": {
      "name": "python3",
      "display_name": "Python 3"
    },
    "language_info": {
      "name": "python"
    }
  },
  "cells": [
    {
      "cell_type": "markdown",
      "metadata": {
        "id": "view-in-github",
        "colab_type": "text"
      },
      "source": [
        "<a href=\"https://colab.research.google.com/github/ffelfis/OrgaDatosTPs/blob/main/TP2/nbFacu_Light_GBM.ipynb\" target=\"_parent\"><img src=\"https://colab.research.google.com/assets/colab-badge.svg\" alt=\"Open In Colab\"/></a>"
      ]
    },
    {
      "cell_type": "markdown",
      "metadata": {
        "id": "_DrbBu-tiSyC"
      },
      "source": [
        "# Lectura de datos de Google Drive"
      ]
    },
    {
      "cell_type": "code",
      "metadata": {
        "colab": {
          "base_uri": "https://localhost:8080/"
        },
        "id": "1F_f9l63h-ej",
        "outputId": "62fc42db-e648-4609-a11c-3e599a5383ad"
      },
      "source": [
        "# Lectura de Dataset desde Google Drive\n",
        "from google.colab import drive\n",
        "drive.mount('/content/drive')"
      ],
      "execution_count": 1,
      "outputs": [
        {
          "output_type": "stream",
          "text": [
            "Mounted at /content/drive\n"
          ],
          "name": "stdout"
        }
      ]
    },
    {
      "cell_type": "markdown",
      "metadata": {
        "id": "phUPpKV5ie5n"
      },
      "source": [
        "# Carga de librerías"
      ]
    },
    {
      "cell_type": "code",
      "metadata": {
        "id": "jhFuDtsTifvX"
      },
      "source": [
        "import pandas as pd\n",
        "import numpy as np"
      ],
      "execution_count": 2,
      "outputs": []
    },
    {
      "cell_type": "markdown",
      "metadata": {
        "id": "0sINS71mixTT"
      },
      "source": [
        "# Rutas de los archivos a usar"
      ]
    },
    {
      "cell_type": "code",
      "metadata": {
        "id": "wCBPCSsUisx2"
      },
      "source": [
        "# Ruta train_values.csv\n",
        "dir_values = '/content/drive/My Drive/75.06 - Organización de Datos/TP1/Data/train_values.csv'\n",
        "\n",
        "# Ruta train_labels.csv\n",
        "dir_labels = '/content/drive/My Drive/75.06 - Organización de Datos/TP1/Data/train_labels.csv'\n",
        "\n",
        "# Ruta test_values.csv\n",
        "dir_test = '/content/drive/My Drive/75.06 - Organización de Datos/TP1/Data/test_values.csv'\n",
        "\n",
        "# Ruta submission_format.csv\n",
        "dir_sub_format = '/content/drive/My Drive/75.06 - Organización de Datos/TP1/Data/submission_format.csv'\n",
        "\n",
        "# Ruta de Binary Encodings para train_values.csv\n",
        "dir_Binary_train = '/content/drive/My Drive/75.06 - Organización de Datos/TP2/Binary Encodings/train'\n",
        "\n",
        "# Ruta de Binary Encodings para test_values.csv\n",
        "dir_Binary_test = '/content/drive/My Drive/75.06 - Organización de Datos/TP2/Binary Encodings/test'"
      ],
      "execution_count": 3,
      "outputs": []
    },
    {
      "cell_type": "markdown",
      "metadata": {
        "id": "U10d9Z3cjmEn"
      },
      "source": [
        "---\n",
        "#Entrenamiento\n",
        "---\n",
        "### Carga de train"
      ]
    },
    {
      "cell_type": "code",
      "metadata": {
        "id": "_GU7d7LENLcs"
      },
      "source": [
        "columnas = ['building_id',\n",
        " 'geo_level_1_id',\n",
        " 'geo_level_2_id',\n",
        " 'geo_level_3_id',\n",
        " 'count_floors_pre_eq',\n",
        " 'age',\n",
        " 'area_percentage',\n",
        " 'height_percentage',\n",
        " 'has_superstructure_adobe_mud',\n",
        " 'has_superstructure_mud_mortar_stone',\n",
        " 'has_superstructure_stone_flag',\n",
        " 'has_superstructure_cement_mortar_stone',\n",
        " 'has_superstructure_mud_mortar_brick',\n",
        " 'has_superstructure_cement_mortar_brick',\n",
        " 'has_superstructure_timber',\n",
        " 'has_superstructure_bamboo',\n",
        " 'has_superstructure_rc_non_engineered',\n",
        " 'has_superstructure_rc_engineered',\n",
        " 'has_superstructure_other',\n",
        " 'count_families',\n",
        " 'has_secondary_use',\n",
        " 'has_secondary_use_agriculture',\n",
        " 'has_secondary_use_hotel',\n",
        " 'has_secondary_use_rental',\n",
        " 'has_secondary_use_institution',\n",
        " 'has_secondary_use_school',\n",
        " 'has_secondary_use_industry',\n",
        " 'has_secondary_use_health_post',\n",
        " 'has_secondary_use_gov_office',\n",
        " 'has_secondary_use_use_police',\n",
        " 'has_secondary_use_other']"
      ],
      "execution_count": 4,
      "outputs": []
    },
    {
      "cell_type": "code",
      "metadata": {
        "id": "LqdaZmKvjqoc"
      },
      "source": [
        "# Carga de train_values.csv\n",
        "train = pd.read_csv(dir_values, usecols=columnas)\n",
        "# Carga de train_labels.csv\n",
        "labels = pd.read_csv(dir_labels)"
      ],
      "execution_count": 15,
      "outputs": []
    },
    {
      "cell_type": "markdown",
      "metadata": {
        "id": "Gllv83PimADJ"
      },
      "source": [
        "### Cambio de tipos de datos"
      ]
    },
    {
      "cell_type": "code",
      "metadata": {
        "colab": {
          "base_uri": "https://localhost:8080/"
        },
        "id": "BPu-AH1em2d7",
        "outputId": "f087901c-a00f-42f6-bca7-65d6a0ed985b"
      },
      "source": [
        "memoria = train.memory_usage(deep=True).sum()/(2**20)\n",
        "print('Se usan', np.round(memoria, 2), 'MiB')"
      ],
      "execution_count": 6,
      "outputs": [
        {
          "output_type": "stream",
          "text": [
            "Se usan 61.64 MiB\n"
          ],
          "name": "stdout"
        }
      ]
    },
    {
      "cell_type": "code",
      "metadata": {
        "id": "HrZAEMGAj-tJ"
      },
      "source": [
        "# Columnas numéricas\n",
        "train['building_id'] = train['building_id'].astype('int32')\n",
        "train['geo_level_1_id'] = train['geo_level_1_id'].astype('int8')\n",
        "train['geo_level_2_id'] = train['geo_level_2_id'].astype('int16')\n",
        "train['geo_level_3_id'] = train['geo_level_3_id'].astype('int16')\n",
        "train['count_floors_pre_eq'] = train['count_floors_pre_eq'].astype('int8')\n",
        "train['age'] = train['age'].astype('int16')\n",
        "train['area_percentage'] = train['area_percentage'].astype('int8')\n",
        "train['height_percentage'] = train['height_percentage'].astype('int8')\n",
        "train['count_families'] = train['count_families'].astype('int8')\n",
        "\n",
        "# Columnas Booleanas\n",
        "train['has_superstructure_adobe_mud'] = train['has_superstructure_adobe_mud'].astype('bool')\n",
        "train['has_superstructure_mud_mortar_stone'] = train['has_superstructure_mud_mortar_stone'].astype('bool')\n",
        "train['has_superstructure_stone_flag'] = train['has_superstructure_stone_flag'].astype('bool')\n",
        "train['has_superstructure_cement_mortar_stone'] = train['has_superstructure_cement_mortar_stone'].astype('bool')\n",
        "train['has_superstructure_mud_mortar_brick'] = train['has_superstructure_mud_mortar_brick'].astype('bool')\n",
        "train['has_superstructure_cement_mortar_brick'] = train['has_superstructure_cement_mortar_brick'].astype('bool')\n",
        "train['has_superstructure_timber'] = train['has_superstructure_timber'].astype('bool')\n",
        "train['has_superstructure_bamboo'] = train['has_superstructure_bamboo'].astype('bool')\n",
        "train['has_superstructure_rc_non_engineered'] = train['has_superstructure_rc_non_engineered'].astype('bool')\n",
        "train['has_superstructure_rc_engineered'] = train['has_superstructure_rc_engineered'].astype('bool')\n",
        "train['has_superstructure_other'] = train['has_superstructure_other'].astype('bool')\n",
        "train['has_secondary_use'] = train['has_secondary_use'].astype('bool')\n",
        "train['has_secondary_use_agriculture'] = train['has_secondary_use_agriculture'].astype('bool')\n",
        "train['has_secondary_use_hotel'] = train['has_secondary_use_hotel'].astype('bool')\n",
        "train['has_secondary_use_rental'] = train['has_secondary_use_rental'].astype('bool')\n",
        "train['has_secondary_use_institution'] = train['has_secondary_use_institution'].astype('bool')\n",
        "train['has_secondary_use_school'] = train['has_secondary_use_school'].astype('bool')\n",
        "train['has_secondary_use_industry'] = train['has_secondary_use_industry'].astype('bool')\n",
        "train['has_secondary_use_health_post'] = train['has_secondary_use_health_post'].astype('bool')\n",
        "train['has_secondary_use_gov_office'] = train['has_secondary_use_gov_office'].astype('bool')\n",
        "train['has_secondary_use_use_police'] = train['has_secondary_use_use_police'].astype('bool')\n",
        "train['has_secondary_use_other'] = train['has_secondary_use_other'].astype('bool')"
      ],
      "execution_count": 16,
      "outputs": []
    },
    {
      "cell_type": "code",
      "metadata": {
        "colab": {
          "base_uri": "https://localhost:8080/"
        },
        "id": "MrEzYw_qm6-x",
        "outputId": "2eeaa26b-bd11-4579-e551-c572325c16f1"
      },
      "source": [
        "memoria = train.memory_usage(deep=True).sum()/(2**20)\n",
        "print('Se usan', np.round(memoria, 2), 'MiB')"
      ],
      "execution_count": 8,
      "outputs": [
        {
          "output_type": "stream",
          "text": [
            "Se usan 9.2 MiB\n"
          ],
          "name": "stdout"
        }
      ]
    },
    {
      "cell_type": "markdown",
      "metadata": {
        "id": "cEOYhxbpbfaN"
      },
      "source": [
        "### Carga de columnas codificadas: Binary Encoding"
      ]
    },
    {
      "cell_type": "code",
      "metadata": {
        "id": "-i_00Z0Cbmyb"
      },
      "source": [
        "# 4 columnas\n",
        "foundation_type = pd.read_csv(dir_Binary_train+f'/BE_foundation_type.csv', dtype='uint8')\n",
        "train = train.join(foundation_type)"
      ],
      "execution_count": 17,
      "outputs": []
    },
    {
      "cell_type": "code",
      "metadata": {
        "id": "ADGCRFyCgnZX"
      },
      "source": [
        "# 4 columnas\n",
        "ground_floor_type = pd.read_csv(dir_Binary_train+f'/BE_ground_floor_type.csv', dtype=('uint8'))\n",
        "train = train.join(ground_floor_type)"
      ],
      "execution_count": 18,
      "outputs": []
    },
    {
      "cell_type": "code",
      "metadata": {
        "id": "erkD_I47hUlB"
      },
      "source": [
        "# 3 columnas\n",
        "land_surface_condition = pd.read_csv(dir_Binary_train+f'/BE_land_surface_condition.csv', dtype='uint8')\n",
        "train = train.join(land_surface_condition)"
      ],
      "execution_count": 19,
      "outputs": []
    },
    {
      "cell_type": "code",
      "metadata": {
        "id": "WEp3ywUAjrxb"
      },
      "source": [
        "# 3 columnas\n",
        "legal_ownership_status = pd.read_csv(dir_Binary_train+f'/BE_legal_ownership_status.csv', dtype='uint8')\n",
        "train = train.join(legal_ownership_status)"
      ],
      "execution_count": 20,
      "outputs": []
    },
    {
      "cell_type": "code",
      "metadata": {
        "id": "N02yDT-bj4J6"
      },
      "source": [
        "# 3 columnas\n",
        "other_floor_type = pd.read_csv(dir_Binary_train+f'/BE_other_floor_type.csv', dtype='uint8')\n",
        "train = train.join(other_floor_type)"
      ],
      "execution_count": 21,
      "outputs": []
    },
    {
      "cell_type": "code",
      "metadata": {
        "id": "XP-zHUL3kJOn"
      },
      "source": [
        "# 5 columnas\n",
        "plan_configuration = pd.read_csv(dir_Binary_train+f'/BE_plan_configuration.csv', dtype='uint8')\n",
        "train = train.join(plan_configuration)"
      ],
      "execution_count": 22,
      "outputs": []
    },
    {
      "cell_type": "code",
      "metadata": {
        "id": "rO83mMuDkbVs"
      },
      "source": [
        "# 3 columnas\n",
        "position = pd.read_csv(dir_Binary_train+f'/BE_position.csv', dtype='uint8')\n",
        "train = train.join(position)"
      ],
      "execution_count": 23,
      "outputs": []
    },
    {
      "cell_type": "code",
      "metadata": {
        "id": "k8D5k-ZwkvHp"
      },
      "source": [
        "# 3 columnas\n",
        "roof_type = pd.read_csv(dir_Binary_train+f'/BE_roof_type.csv', dtype='uint8')\n",
        "train = train.join(roof_type)"
      ],
      "execution_count": 24,
      "outputs": []
    },
    {
      "cell_type": "code",
      "metadata": {
        "colab": {
          "base_uri": "https://localhost:8080/"
        },
        "id": "flrG_DfUk9ps",
        "outputId": "b025269b-972d-407b-8917-4b4a10547c99"
      },
      "source": [
        "memoria = train.memory_usage(deep=True).sum()/(2**20)\n",
        "print('Se usan', np.round(memoria, 2), 'MiB')"
      ],
      "execution_count": 25,
      "outputs": [
        {
          "output_type": "stream",
          "text": [
            "Se usan 16.15 MiB\n"
          ],
          "name": "stdout"
        }
      ]
    },
    {
      "cell_type": "markdown",
      "metadata": {
        "id": "uYCZwTE_nGLY"
      },
      "source": [
        "### Labels"
      ]
    },
    {
      "cell_type": "code",
      "metadata": {
        "colab": {
          "base_uri": "https://localhost:8080/"
        },
        "id": "Qf0_Ph8MnHhO",
        "outputId": "c9e1fb67-1b8a-40d0-cfbd-8430b7e85474"
      },
      "source": [
        "memoria = labels.memory_usage(deep=True).sum()/(2**20)\n",
        "print('Se usan', np.round(memoria, 2), 'MiB')"
      ],
      "execution_count": 26,
      "outputs": [
        {
          "output_type": "stream",
          "text": [
            "Se usan 3.98 MiB\n"
          ],
          "name": "stdout"
        }
      ]
    },
    {
      "cell_type": "code",
      "metadata": {
        "id": "Z_Wi74GwnLei"
      },
      "source": [
        "labels['building_id'] = labels['building_id'].astype('int32')\n",
        "labels['damage_grade'] = labels['damage_grade'].astype('int8')"
      ],
      "execution_count": 27,
      "outputs": []
    },
    {
      "cell_type": "code",
      "metadata": {
        "colab": {
          "base_uri": "https://localhost:8080/"
        },
        "id": "CPaCq75Tnx7c",
        "outputId": "3d0d0281-8802-4a3a-ad42-048062d07efe"
      },
      "source": [
        "memoria = labels.memory_usage(deep=True).sum()/(2**20)\n",
        "print('Se usan', np.round(memoria, 2), 'MiB')"
      ],
      "execution_count": 28,
      "outputs": [
        {
          "output_type": "stream",
          "text": [
            "Se usan 1.24 MiB\n"
          ],
          "name": "stdout"
        }
      ]
    },
    {
      "cell_type": "markdown",
      "metadata": {
        "id": "Q32c1zegTVR2"
      },
      "source": [
        "Así el set de datos es `train` y los labels están en `labels`.\n",
        "\n"
      ]
    },
    {
      "cell_type": "markdown",
      "metadata": {
        "id": "n-joq2vtvpBR"
      },
      "source": [
        "# Modelo Light GBM"
      ]
    },
    {
      "cell_type": "code",
      "metadata": {
        "id": "1vMXTsfVvxPS"
      },
      "source": [
        "# Modelo\n",
        "import lightgbm\n",
        "# Para dividir el set de entrenamiento\n",
        "from sklearn.model_selection import train_test_split"
      ],
      "execution_count": 29,
      "outputs": []
    },
    {
      "cell_type": "markdown",
      "metadata": {
        "id": "wBbkxewYv_ol"
      },
      "source": [
        "### División de datos para entrenamiento y objetivo"
      ]
    },
    {
      "cell_type": "code",
      "metadata": {
        "colab": {
          "base_uri": "https://localhost:8080/"
        },
        "id": "BJdn1wRawFUs",
        "outputId": "a713b7ab-a53a-4f20-e092-bf5f060e5a14"
      },
      "source": [
        "# Set de entrenamiento\n",
        "X = train\n",
        "# Labels -- solo la columna de labels\n",
        "y = labels['damage_grade']\n",
        "\n",
        "X_train, X_test, y_train, y_test = train_test_split(X, y, random_state=42)\n",
        "print('X_train.shape\\t', X_train.shape, '\\ty_train.shape\\t', y_train.shape)\n",
        "print('X_test.shape\\t', X_test.shape, '\\ty_test.shape\\t', y_test.shape)"
      ],
      "execution_count": 30,
      "outputs": [
        {
          "output_type": "stream",
          "text": [
            "X_train.shape\t (195450, 59) \ty_train.shape\t (195450,)\n",
            "X_test.shape\t (65151, 59) \ty_test.shape\t (65151,)\n"
          ],
          "name": "stdout"
        }
      ]
    },
    {
      "cell_type": "markdown",
      "metadata": {
        "id": "gRN5HBg5wwI5"
      },
      "source": [
        "### Preparación de Datasets\n",
        "LightGBM necesita leer los datos desde un obejo Dataset especial. Esto se proporciona mediante la función `Dataset()`."
      ]
    },
    {
      "cell_type": "code",
      "metadata": {
        "id": "zIRxcTqswyAu"
      },
      "source": [
        "'''train_data = lightgbm.Dataset(X_train, label=y_train)\n",
        "test_data = lightgbm.Dataset(X_test, label=y_test)'''"
      ],
      "execution_count": null,
      "outputs": []
    },
    {
      "cell_type": "markdown",
      "metadata": {
        "id": "bVqCe9FkPWIe"
      },
      "source": [
        "### Párametros de Light GBM"
      ]
    },
    {
      "cell_type": "markdown",
      "metadata": {
        "id": "k40kdW6iVJhb"
      },
      "source": [
        "### Instancia de modelo / Entrenamiento"
      ]
    },
    {
      "cell_type": "code",
      "metadata": {
        "id": "PLYaPXRET6Ua"
      },
      "source": [
        "parameters = {\n",
        "    'learning_rate' : 0.05\n",
        "}"
      ],
      "execution_count": 70,
      "outputs": []
    },
    {
      "cell_type": "code",
      "metadata": {
        "id": "Lar1C4sbVIe5"
      },
      "source": [
        "lgbm = lightgbm.LGBMClassifier(learning_rate=0.05, n_estimators=400)"
      ],
      "execution_count": 73,
      "outputs": []
    },
    {
      "cell_type": "code",
      "metadata": {
        "colab": {
          "base_uri": "https://localhost:8080/"
        },
        "id": "kOyfwgXNOQRE",
        "outputId": "d4192fee-61d5-4ceb-adaf-92f906fd2610"
      },
      "source": [
        "lgbm.fit(X_train, y_train)"
      ],
      "execution_count": 74,
      "outputs": [
        {
          "output_type": "execute_result",
          "data": {
            "text/plain": [
              "LGBMClassifier(boosting_type='gbdt', class_weight=None, colsample_bytree=1.0,\n",
              "               importance_type='split', learning_rate=0.05, max_depth=-1,\n",
              "               min_child_samples=20, min_child_weight=0.001, min_split_gain=0.0,\n",
              "               n_estimators=400, n_jobs=-1, num_leaves=31, objective=None,\n",
              "               random_state=None, reg_alpha=0.0, reg_lambda=0.0, silent=True,\n",
              "               subsample=1.0, subsample_for_bin=200000, subsample_freq=0)"
            ]
          },
          "metadata": {
            "tags": []
          },
          "execution_count": 74
        }
      ]
    },
    {
      "cell_type": "markdown",
      "metadata": {
        "id": "0SiT5bR5aCfg"
      },
      "source": [
        "### Train validation & Test validation"
      ]
    },
    {
      "cell_type": "code",
      "metadata": {
        "id": "FifDm5qjR4sz"
      },
      "source": [
        "# Métrica de evaluación del modelo\n",
        "from sklearn.metrics import accuracy_score"
      ],
      "execution_count": 34,
      "outputs": []
    },
    {
      "cell_type": "code",
      "metadata": {
        "id": "YbIeVUr7Zurr"
      },
      "source": [
        "train_val = lgbm.predict(X_train)\n",
        "test_val = lgbm.predict(X_test)"
      ],
      "execution_count": 75,
      "outputs": []
    },
    {
      "cell_type": "code",
      "metadata": {
        "colab": {
          "base_uri": "https://localhost:8080/"
        },
        "id": "oB-cmheYRev3",
        "outputId": "514b0406-0097-41c7-c0a9-88a49020d335"
      },
      "source": [
        "print('Train validation, predicción', np.round(accuracy_score(y_train, train_val),4))\n",
        "print('Test validation, predicción', np.round(accuracy_score(y_test, test_val),4))"
      ],
      "execution_count": 76,
      "outputs": [
        {
          "output_type": "stream",
          "text": [
            "Train validation, predicción 0.7266\n",
            "Test validation, predicción 0.7154\n"
          ],
          "name": "stdout"
        }
      ]
    },
    {
      "cell_type": "markdown",
      "metadata": {
        "id": "ynCh7VhdSfRf"
      },
      "source": [
        "# Evaluación del predictor"
      ]
    },
    {
      "cell_type": "code",
      "metadata": {
        "id": "EFqJIe6hSxEN"
      },
      "source": [
        "# Para validar\n",
        "from sklearn.model_selection import KFold\n",
        "# Para ver progreso inline: limpia la celda en cada iteración\n",
        "from IPython.display import clear_output"
      ],
      "execution_count": 59,
      "outputs": []
    },
    {
      "cell_type": "markdown",
      "metadata": {
        "id": "Ydn0ZjwXShnu"
      },
      "source": [
        "## División de datos para entrenamiento y objetivo"
      ]
    },
    {
      "cell_type": "code",
      "metadata": {
        "id": "pwnUTaKTSmiq",
        "colab": {
          "base_uri": "https://localhost:8080/"
        },
        "outputId": "6dd5c39f-68d2-4fb2-b1dd-92a2e85bee91"
      },
      "source": [
        "# Set de entrenamiento\n",
        "X = train\n",
        "# Labels -- solo la columna de labels\n",
        "y = labels['damage_grade']\n",
        "\n",
        "X_train, X_test, y_train, y_test = train_test_split(X, y, random_state=42)\n",
        "print('X_train.shape\\t', X_train.shape, '\\ty_train.shape\\t', y_train.shape)\n",
        "print('X_test.shape\\t', X_test.shape, '\\ty_test.shape\\t', y_test.shape)"
      ],
      "execution_count": 60,
      "outputs": [
        {
          "output_type": "stream",
          "text": [
            "X_train.shape\t (195450, 59) \ty_train.shape\t (195450,)\n",
            "X_test.shape\t (65151, 59) \ty_test.shape\t (65151,)\n"
          ],
          "name": "stdout"
        }
      ]
    },
    {
      "cell_type": "markdown",
      "metadata": {
        "id": "9mcrcOAbFfu0"
      },
      "source": [
        "## Instancias"
      ]
    },
    {
      "cell_type": "code",
      "metadata": {
        "id": "TsSQscfaTC3i"
      },
      "source": [
        "# n_splits\n",
        "splits = 10\n",
        "# Instancia para KFold\n",
        "kf = KFold(n_splits=splits)\n",
        "\n",
        "# Listas para guardar los puntajes y errores de la evaluación\n",
        "accuracy = []"
      ],
      "execution_count": 61,
      "outputs": []
    },
    {
      "cell_type": "code",
      "metadata": {
        "id": "lVoU_h5iTJJP",
        "colab": {
          "base_uri": "https://localhost:8080/"
        },
        "outputId": "f223832b-9813-4386-970e-0495947f0cd2"
      },
      "source": [
        "%%time\n",
        "i = 1\n",
        "\n",
        "for train_index, test_index in kf.split(train) :\n",
        "    clear_output(wait=True)\n",
        "    X_train, X_test = X.iloc[train_index], X.iloc[test_index]\n",
        "    y_train, y_test = y.iloc[train_index], y.iloc[test_index]\n",
        "    \n",
        "    print('Entrenando fold', i)\n",
        "    lgbm.fit(X_train, y_train)\n",
        "    prediction_t = lgbm.predict(X_test)\n",
        "\n",
        "    accuracy.append(accuracy_score(y_test, prediction_t))\n",
        "    i = i + 1"
      ],
      "execution_count": 77,
      "outputs": [
        {
          "output_type": "stream",
          "text": [
            "Entrenando fold 10\n",
            "CPU times: user 17min 8s, sys: 3.89 s, total: 17min 12s\n",
            "Wall time: 8min 49s\n"
          ],
          "name": "stdout"
        }
      ]
    },
    {
      "cell_type": "code",
      "metadata": {
        "id": "oyd84d5ZTdbG",
        "colab": {
          "base_uri": "https://localhost:8080/"
        },
        "outputId": "dae1c7bd-673c-427b-9e56-ea4db6987e91"
      },
      "source": [
        "precision = np.array(accuracy)\n",
        "\n",
        "print('Promedio precision', precision.mean().round(4), \\\n",
        "      '\\tcon desvío estándar de', precision.std().round(4))"
      ],
      "execution_count": 78,
      "outputs": [
        {
          "output_type": "stream",
          "text": [
            "Promedio precision 0.7125 \tcon desvío estándar de 0.0055\n"
          ],
          "name": "stdout"
        }
      ]
    },
    {
      "cell_type": "markdown",
      "metadata": {
        "id": "rxpmaYhOIGvu"
      },
      "source": [
        "---\n",
        "# Predicción del Test\n",
        "---\n",
        "### Carga Test set"
      ]
    },
    {
      "cell_type": "code",
      "metadata": {
        "id": "IVoObSV5ILg0"
      },
      "source": [
        "test = pd.read_csv(dir_test, usecols=columnas)"
      ],
      "execution_count": null,
      "outputs": []
    },
    {
      "cell_type": "markdown",
      "metadata": {
        "id": "4g3Zm7Nu2B-Z"
      },
      "source": [
        "### Cambio de tipos de datos"
      ]
    },
    {
      "cell_type": "code",
      "metadata": {
        "id": "zNMAor8H2B-c"
      },
      "source": [
        "memoria = test.memory_usage(deep=True).sum()/(2**20)\n",
        "print('Se usan', np.round(memoria, 2), 'MiB')"
      ],
      "execution_count": null,
      "outputs": []
    },
    {
      "cell_type": "code",
      "metadata": {
        "id": "0og4Qk9S2B-f"
      },
      "source": [
        "# Columnas numéricas\n",
        "test['building_id'] = test['building_id'].astype('int32')\n",
        "test['geo_level_1_id'] = test['geo_level_1_id'].astype('int8')\n",
        "test['geo_level_2_id'] = test['geo_level_2_id'].astype('int16')\n",
        "test['geo_level_3_id'] = test['geo_level_3_id'].astype('int16')\n",
        "test['count_floors_pre_eq'] = test['count_floors_pre_eq'].astype('int8')\n",
        "test['age'] = test['age'].astype('int16')\n",
        "test['area_percentage'] = test['area_percentage'].astype('int8')\n",
        "test['height_percentage'] = test['height_percentage'].astype('int8')\n",
        "test['count_families'] = test['count_families'].astype('int8')\n",
        "\n",
        "# Columnas Booleanas\n",
        "test['has_superstructure_adobe_mud'] = test['has_superstructure_adobe_mud'].astype('bool')\n",
        "test['has_superstructure_mud_mortar_stone'] = test['has_superstructure_mud_mortar_stone'].astype('bool')\n",
        "test['has_superstructure_stone_flag'] = test['has_superstructure_stone_flag'].astype('bool')\n",
        "test['has_superstructure_cement_mortar_stone'] = test['has_superstructure_cement_mortar_stone'].astype('bool')\n",
        "test['has_superstructure_mud_mortar_brick'] = test['has_superstructure_mud_mortar_brick'].astype('bool')\n",
        "test['has_superstructure_cement_mortar_brick'] = test['has_superstructure_cement_mortar_brick'].astype('bool')\n",
        "test['has_superstructure_timber'] = test['has_superstructure_timber'].astype('bool')\n",
        "test['has_superstructure_bamboo'] = test['has_superstructure_bamboo'].astype('bool')\n",
        "test['has_superstructure_rc_non_engineered'] = test['has_superstructure_rc_non_engineered'].astype('bool')\n",
        "test['has_superstructure_rc_engineered'] = test['has_superstructure_rc_engineered'].astype('bool')\n",
        "test['has_superstructure_other'] = test['has_superstructure_other'].astype('bool')\n",
        "test['has_secondary_use'] = test['has_secondary_use'].astype('bool')\n",
        "test['has_secondary_use_agriculture'] = test['has_secondary_use_agriculture'].astype('bool')\n",
        "test['has_secondary_use_hotel'] = test['has_secondary_use_hotel'].astype('bool')\n",
        "test['has_secondary_use_rental'] = test['has_secondary_use_rental'].astype('bool')\n",
        "test['has_secondary_use_institution'] = test['has_secondary_use_institution'].astype('bool')\n",
        "test['has_secondary_use_school'] = test['has_secondary_use_school'].astype('bool')\n",
        "test['has_secondary_use_industry'] = test['has_secondary_use_industry'].astype('bool')\n",
        "test['has_secondary_use_health_post'] = test['has_secondary_use_health_post'].astype('bool')\n",
        "test['has_secondary_use_gov_office'] = test['has_secondary_use_gov_office'].astype('bool')\n",
        "test['has_secondary_use_use_police'] = test['has_secondary_use_use_police'].astype('bool')\n",
        "test['has_secondary_use_other'] = test['has_secondary_use_other'].astype('bool')"
      ],
      "execution_count": null,
      "outputs": []
    },
    {
      "cell_type": "code",
      "metadata": {
        "id": "KX8eQTzM2B-j"
      },
      "source": [
        "memoria = test.memory_usage(deep=True).sum()/(2**20)\n",
        "print('Se usan', np.round(memoria, 2), 'MiB')"
      ],
      "execution_count": null,
      "outputs": []
    },
    {
      "cell_type": "markdown",
      "metadata": {
        "id": "vecBAW5n2B-k"
      },
      "source": [
        "### Carga de columnas codificadas: Binary Encoding"
      ]
    },
    {
      "cell_type": "code",
      "metadata": {
        "id": "CoH8N1Vh2B-l"
      },
      "source": [
        "# 4 columnas\n",
        "foundation_type = pd.read_csv(dir_Binary_test+f'/BE_foundation_type.csv', dtype='uint8')\n",
        "test = test.join(foundation_type)"
      ],
      "execution_count": null,
      "outputs": []
    },
    {
      "cell_type": "code",
      "metadata": {
        "id": "4jY-vA_e2B-m"
      },
      "source": [
        "# 4 columnas\n",
        "ground_floor_type = pd.read_csv(dir_Binary_test+f'/BE_ground_floor_type.csv', dtype=('uint8'))\n",
        "test = test.join(ground_floor_type)"
      ],
      "execution_count": null,
      "outputs": []
    },
    {
      "cell_type": "code",
      "metadata": {
        "id": "5xMQSZC_2B-o"
      },
      "source": [
        "# 3 columnas\n",
        "land_surface_condition = pd.read_csv(dir_Binary_test+f'/BE_land_surface_condition.csv', dtype='uint8')\n",
        "test = test.join(land_surface_condition)"
      ],
      "execution_count": null,
      "outputs": []
    },
    {
      "cell_type": "code",
      "metadata": {
        "id": "CIOOp-cG2B-p"
      },
      "source": [
        "# 3 columnas\n",
        "legal_ownership_status = pd.read_csv(dir_Binary_test+f'/BE_legal_ownership_status.csv', dtype='uint8')\n",
        "test = test.join(legal_ownership_status)"
      ],
      "execution_count": null,
      "outputs": []
    },
    {
      "cell_type": "code",
      "metadata": {
        "id": "TIUsNjvy2B-q"
      },
      "source": [
        "# 3 columnas\n",
        "other_floor_type = pd.read_csv(dir_Binary_test+f'/BE_other_floor_type.csv', dtype='uint8')\n",
        "test = test.join(other_floor_type)"
      ],
      "execution_count": null,
      "outputs": []
    },
    {
      "cell_type": "code",
      "metadata": {
        "id": "JjBv4nbi2B-q"
      },
      "source": [
        "# 5 columnas\n",
        "plan_configuration = pd.read_csv(dir_Binary_test+f'/BE_plan_configuration.csv', dtype='uint8')\n",
        "test = test.join(plan_configuration)"
      ],
      "execution_count": null,
      "outputs": []
    },
    {
      "cell_type": "code",
      "metadata": {
        "id": "GIzPIDLk2B-r"
      },
      "source": [
        "# 3 columnas\n",
        "position = pd.read_csv(dir_Binary_test+f'/BE_position.csv', dtype='uint8')\n",
        "test = test.join(position)"
      ],
      "execution_count": null,
      "outputs": []
    },
    {
      "cell_type": "code",
      "metadata": {
        "id": "bKqtpVrL2B-s"
      },
      "source": [
        "# 3 columnas\n",
        "roof_type = pd.read_csv(dir_Binary_test+f'/BE_roof_type.csv', dtype='uint8')\n",
        "test = test.join(roof_type)"
      ],
      "execution_count": null,
      "outputs": []
    },
    {
      "cell_type": "code",
      "metadata": {
        "id": "2sE5o6af2B-t"
      },
      "source": [
        "memoria = test.memory_usage(deep=True).sum()/(2**20)\n",
        "print('Se usan', np.round(memoria, 2), 'MiB')"
      ],
      "execution_count": null,
      "outputs": []
    },
    {
      "cell_type": "markdown",
      "metadata": {
        "id": "MFzbAwZq6adA"
      },
      "source": [
        "# Preparando la predicción"
      ]
    },
    {
      "cell_type": "code",
      "metadata": {
        "id": "5CC183zh6NPz"
      },
      "source": [
        "# n_estimators\n",
        "num_estimadores = 200\n",
        "# n_jobs\n",
        "workers = -1\n",
        "# Instancia para predictor de Random Forest\n",
        "rfc = RandomForestClassifier(n_estimators=num_estimadores, n_jobs=workers, random_state=42)"
      ],
      "execution_count": null,
      "outputs": []
    },
    {
      "cell_type": "code",
      "metadata": {
        "id": "yQpqWac76hLt"
      },
      "source": [
        "%%time\n",
        "rfc.fit(X, y)"
      ],
      "execution_count": null,
      "outputs": []
    },
    {
      "cell_type": "markdown",
      "metadata": {
        "id": "mBPRO-9m7wTU"
      },
      "source": [
        "### Predicción"
      ]
    },
    {
      "cell_type": "code",
      "metadata": {
        "id": "z7-m-Jo17yS6"
      },
      "source": [
        "prediction = rfc.predict(test)"
      ],
      "execution_count": null,
      "outputs": []
    },
    {
      "cell_type": "code",
      "metadata": {
        "id": "ZV_6NAxH780y"
      },
      "source": [
        "prediction"
      ],
      "execution_count": null,
      "outputs": []
    },
    {
      "cell_type": "markdown",
      "metadata": {
        "id": "V2HlbG3f9AQS"
      },
      "source": [
        "### Submission"
      ]
    },
    {
      "cell_type": "code",
      "metadata": {
        "id": "M9pBdOc39B8z"
      },
      "source": [
        "sub_example = pd.read_csv(dir_sub_format)"
      ],
      "execution_count": null,
      "outputs": []
    },
    {
      "cell_type": "code",
      "metadata": {
        "id": "BgrrePb89JpG"
      },
      "source": [
        "sub_example"
      ],
      "execution_count": null,
      "outputs": []
    },
    {
      "cell_type": "code",
      "metadata": {
        "id": "XqcJhyZ38RYr"
      },
      "source": [
        "submit = pd.DataFrame()\n",
        "submit['building_id'] = test['building_id']\n",
        "submit['damage_grade'] = prediction"
      ],
      "execution_count": null,
      "outputs": []
    },
    {
      "cell_type": "code",
      "metadata": {
        "id": "4lyPbBZQ9TBF"
      },
      "source": [
        "submit"
      ],
      "execution_count": null,
      "outputs": []
    },
    {
      "cell_type": "code",
      "metadata": {
        "id": "VRuTbcA7-V1t"
      },
      "source": [
        "submit.to_csv('submission.csv', index=False)"
      ],
      "execution_count": null,
      "outputs": []
    },
    {
      "cell_type": "code",
      "metadata": {
        "id": "A3hK1S3M-9QX"
      },
      "source": [
        "aux = pd.read_csv('submission.csv')"
      ],
      "execution_count": null,
      "outputs": []
    },
    {
      "cell_type": "code",
      "metadata": {
        "id": "nd76WysQ_Cgb"
      },
      "source": [
        "aux"
      ],
      "execution_count": null,
      "outputs": []
    }
  ]
}