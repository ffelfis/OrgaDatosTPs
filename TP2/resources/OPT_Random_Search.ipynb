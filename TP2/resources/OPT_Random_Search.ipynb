{
  "nbformat": 4,
  "nbformat_minor": 0,
  "metadata": {
    "colab": {
      "name": "OPT_Random_Search.ipynb",
      "provenance": [],
      "collapsed_sections": [],
      "authorship_tag": "ABX9TyONr4UiW0+oSQcLu2Zm5GF3",
      "include_colab_link": true
    },
    "kernelspec": {
      "name": "python3",
      "display_name": "Python 3"
    },
    "language_info": {
      "name": "python"
    }
  },
  "cells": [
    {
      "cell_type": "markdown",
      "metadata": {
        "id": "view-in-github",
        "colab_type": "text"
      },
      "source": [
        "<a href=\"https://colab.research.google.com/github/ffelfis/OrgaDatosTPs/blob/main/TP2/resources/OPT_Random_Search.ipynb\" target=\"_parent\"><img src=\"https://colab.research.google.com/assets/colab-badge.svg\" alt=\"Open In Colab\"/></a>"
      ]
    },
    {
      "cell_type": "markdown",
      "metadata": {
        "id": "_DrbBu-tiSyC"
      },
      "source": [
        "# Lectura de datos de Google Drive"
      ]
    },
    {
      "cell_type": "code",
      "metadata": {
        "colab": {
          "base_uri": "https://localhost:8080/"
        },
        "id": "1F_f9l63h-ej",
        "outputId": "fddd7b3c-ea87-42b7-f1ac-49c2f50b1286"
      },
      "source": [
        "# Lectura de Dataset desde Google Drive\n",
        "from google.colab import drive\n",
        "drive.mount('/content/drive')"
      ],
      "execution_count": null,
      "outputs": [
        {
          "output_type": "stream",
          "text": [
            "Mounted at /content/drive\n"
          ],
          "name": "stdout"
        }
      ]
    },
    {
      "cell_type": "markdown",
      "metadata": {
        "id": "EpNLc4kPyAbf"
      },
      "source": [
        "# Para importar funciones customizadas\n",
        "\n",
        "Hay que especificar la ruta de donde se encuentra el módulo (archivo `.py`) para buscar las funciones.\n",
        "\n",
        "La lectura puede ser muy celosa: las indentaciones son de 4 espacios no tabulaciones.\n",
        "\n",
        "https://colab.research.google.com/drive/1uvHuizCBqFgvbCwEhK7FvU8JW0AfxgJw"
      ]
    },
    {
      "cell_type": "code",
      "metadata": {
        "id": "TeM6NwOeyKur"
      },
      "source": [
        "import sys\n",
        "sys.path.append('/content/drive/My Drive/75.06 - Organización de Datos/TP2/resources')"
      ],
      "execution_count": null,
      "outputs": []
    },
    {
      "cell_type": "markdown",
      "metadata": {
        "id": "phUPpKV5ie5n"
      },
      "source": [
        "# Carga de librerías y directorios"
      ]
    },
    {
      "cell_type": "code",
      "metadata": {
        "id": "jhFuDtsTifvX"
      },
      "source": [
        "import pandas as pd\n",
        "import numpy as np\n",
        "\n",
        "# Métrica\n",
        "from sklearn.metrics import f1_score\n",
        "\n",
        "# Clasificador\n",
        "from sklearn.ensemble import RandomForestClassifier\n",
        "\n",
        "# Paquete de Random Search Cross Validation\n",
        "from sklearn.model_selection import RandomizedSearchCV\n",
        "\n",
        "# Para el cambio de tipo de datos: para reducir el uso de memoria\n",
        "from utilidades import cambio_tipos"
      ],
      "execution_count": null,
      "outputs": []
    },
    {
      "cell_type": "markdown",
      "metadata": {
        "id": "0sINS71mixTT"
      },
      "source": [
        "# Rutas de los archivos a usar"
      ]
    },
    {
      "cell_type": "code",
      "metadata": {
        "id": "wCBPCSsUisx2"
      },
      "source": [
        "# Ruta train_values.csv\n",
        "dir_values = '/content/drive/My Drive/75.06 - Organización de Datos/TP1/Data/train_values.csv'\n",
        "# Ruta train_labels.csv\n",
        "dir_labels = '/content/drive/My Drive/75.06 - Organización de Datos/TP1/Data/train_labels.csv'\n",
        "# Ruta de Binary Encodings para train_values.csv\n",
        "dir_Binary = '/content/drive/My Drive/75.06 - Organización de Datos/TP2/resources'"
      ],
      "execution_count": null,
      "outputs": []
    },
    {
      "cell_type": "markdown",
      "metadata": {
        "id": "U10d9Z3cjmEn"
      },
      "source": [
        "---\n",
        "#Entrenamiento\n",
        "---\n",
        "### Carga de train"
      ]
    },
    {
      "cell_type": "code",
      "metadata": {
        "id": "_GU7d7LENLcs"
      },
      "source": [
        "columnas = ['building_id',\n",
        " 'geo_level_1_id',\n",
        " 'geo_level_2_id',\n",
        " 'geo_level_3_id',\n",
        " 'count_floors_pre_eq',\n",
        " 'age',\n",
        " 'area_percentage',\n",
        " 'height_percentage',\n",
        " 'has_superstructure_adobe_mud',\n",
        " 'has_superstructure_mud_mortar_stone',\n",
        " 'has_superstructure_stone_flag',\n",
        " 'has_superstructure_cement_mortar_stone',\n",
        " 'has_superstructure_mud_mortar_brick',\n",
        " 'has_superstructure_cement_mortar_brick',\n",
        " 'has_superstructure_timber',\n",
        " 'has_superstructure_bamboo',\n",
        " 'has_superstructure_rc_non_engineered',\n",
        " 'has_superstructure_rc_engineered',\n",
        " 'has_superstructure_other',\n",
        " 'count_families',\n",
        " 'has_secondary_use',\n",
        " 'has_secondary_use_agriculture',\n",
        " 'has_secondary_use_hotel',\n",
        " 'has_secondary_use_rental',\n",
        " 'has_secondary_use_institution',\n",
        " 'has_secondary_use_school',\n",
        " 'has_secondary_use_industry',\n",
        " 'has_secondary_use_health_post',\n",
        " 'has_secondary_use_gov_office',\n",
        " 'has_secondary_use_use_police',\n",
        " 'has_secondary_use_other']\n",
        " \n",
        "# Carga de train_values.csv\n",
        "train = pd.read_csv(dir_values, usecols=columnas)"
      ],
      "execution_count": null,
      "outputs": []
    },
    {
      "cell_type": "markdown",
      "metadata": {
        "id": "Gllv83PimADJ"
      },
      "source": [
        "### Cambio de tipos de datos"
      ]
    },
    {
      "cell_type": "code",
      "metadata": {
        "id": "epm-bFzPzYmN"
      },
      "source": [
        "train = cambio_tipos(train)"
      ],
      "execution_count": null,
      "outputs": []
    },
    {
      "cell_type": "markdown",
      "metadata": {
        "id": "cEOYhxbpbfaN"
      },
      "source": [
        "### Carga de columnas codificadas: Binary Encoding"
      ]
    },
    {
      "cell_type": "code",
      "metadata": {
        "id": "-i_00Z0Cbmyb"
      },
      "source": [
        "# 28 columnas más.\n",
        "train = train.join(pd.read_csv(dir_Binary+f'/BE_train.csv', dtype='uint8'))\n",
        "\n",
        "X = train.values"
      ],
      "execution_count": null,
      "outputs": []
    },
    {
      "cell_type": "markdown",
      "metadata": {
        "id": "dBiOdGmvWsIP"
      },
      "source": [
        "### Carga de labels\n",
        "GridSearchCV necesita los valores en una dimensión."
      ]
    },
    {
      "cell_type": "code",
      "metadata": {
        "id": "Q4DACqZZWrLe"
      },
      "source": [
        "# Carga de train_labels.csv\n",
        "labels = pd.read_csv(dir_labels, usecols=['damage_grade'], dtype='uint8')\n",
        "\n",
        "y = labels.damage_grade.values"
      ],
      "execution_count": null,
      "outputs": []
    },
    {
      "cell_type": "markdown",
      "metadata": {
        "id": "Jx91jFEXbgWM"
      },
      "source": [
        "# Random Search"
      ]
    },
    {
      "cell_type": "markdown",
      "metadata": {
        "id": "jW5f1gQ3bUO0"
      },
      "source": [
        "### Instancia del clasificador"
      ]
    },
    {
      "cell_type": "code",
      "metadata": {
        "id": "bvkbg2K4bQ06"
      },
      "source": [
        "rfc = RandomForestClassifier()"
      ],
      "execution_count": null,
      "outputs": []
    },
    {
      "cell_type": "markdown",
      "metadata": {
        "id": "IGjP3w5KbF-H"
      },
      "source": [
        "### Grilla de parámetros para realizar la búsqueda"
      ]
    },
    {
      "cell_type": "code",
      "metadata": {
        "id": "yxnpBv2TMrPV"
      },
      "source": [
        "param_dist = {\n",
        "    'n_estimators' : np.arange(50, 100, 10),\n",
        "    'max_depth': np.arange(40, 60, 1),\n",
        "}"
      ],
      "execution_count": null,
      "outputs": []
    },
    {
      "cell_type": "markdown",
      "metadata": {
        "id": "3FtyGZfLMroL"
      },
      "source": [
        "### Instancia del modelo de Random Search Cross Validation\n",
        "\n",
        "Hay que especificar una distribución de parámetros `param_distributions` y una cantidad de iteraciones `n_iter`."
      ]
    },
    {
      "cell_type": "code",
      "metadata": {
        "id": "ZKWW5waBN0AS"
      },
      "source": [
        "model = RandomizedSearchCV(estimator = rfc, \n",
        "                           param_distributions = param_dist, \n",
        "                           n_iter=9, \n",
        "                           scoring = 'f1_micro', \n",
        "                           n_jobs = 1, \n",
        "                           cv = 4, \n",
        "                           verbose = 10)"
      ],
      "execution_count": null,
      "outputs": []
    },
    {
      "cell_type": "markdown",
      "metadata": {
        "id": "8UPQCTz2bwBQ"
      },
      "source": [
        "### Entrenamiento del modelo"
      ]
    },
    {
      "cell_type": "code",
      "metadata": {
        "colab": {
          "base_uri": "https://localhost:8080/"
        },
        "id": "BjTmEGLpOWkR",
        "outputId": "8bbcd88c-d35e-47ef-8ebb-07af497b8e0e"
      },
      "source": [
        "model.fit(X, y)"
      ],
      "execution_count": null,
      "outputs": [
        {
          "output_type": "stream",
          "text": [
            "Fitting 4 folds for each of 9 candidates, totalling 36 fits\n",
            "[CV] n_estimators=90, max_depth=41 ...................................\n"
          ],
          "name": "stdout"
        },
        {
          "output_type": "stream",
          "text": [
            "[Parallel(n_jobs=1)]: Using backend SequentialBackend with 1 concurrent workers.\n"
          ],
          "name": "stderr"
        },
        {
          "output_type": "stream",
          "text": [
            "[CV] ....... n_estimators=90, max_depth=41, score=0.716, total=  50.3s\n"
          ],
          "name": "stdout"
        },
        {
          "output_type": "stream",
          "text": [
            "[Parallel(n_jobs=1)]: Done   1 out of   1 | elapsed:   50.3s remaining:    0.0s\n"
          ],
          "name": "stderr"
        },
        {
          "output_type": "stream",
          "text": [
            "[CV] n_estimators=90, max_depth=41 ...................................\n",
            "[CV] ....... n_estimators=90, max_depth=41, score=0.717, total=  50.7s\n",
            "[CV] n_estimators=90, max_depth=41 ...................................\n"
          ],
          "name": "stdout"
        },
        {
          "output_type": "stream",
          "text": [
            "[Parallel(n_jobs=1)]: Done   2 out of   2 | elapsed:  1.7min remaining:    0.0s\n"
          ],
          "name": "stderr"
        },
        {
          "output_type": "stream",
          "text": [
            "[CV] ....... n_estimators=90, max_depth=41, score=0.715, total=  46.4s\n",
            "[CV] n_estimators=90, max_depth=41 ...................................\n"
          ],
          "name": "stdout"
        },
        {
          "output_type": "stream",
          "text": [
            "[Parallel(n_jobs=1)]: Done   3 out of   3 | elapsed:  2.5min remaining:    0.0s\n"
          ],
          "name": "stderr"
        },
        {
          "output_type": "stream",
          "text": [
            "[CV] ....... n_estimators=90, max_depth=41, score=0.717, total=  41.9s\n",
            "[CV] n_estimators=70, max_depth=45 ...................................\n"
          ],
          "name": "stdout"
        },
        {
          "output_type": "stream",
          "text": [
            "[Parallel(n_jobs=1)]: Done   4 out of   4 | elapsed:  3.2min remaining:    0.0s\n"
          ],
          "name": "stderr"
        },
        {
          "output_type": "stream",
          "text": [
            "[CV] ....... n_estimators=70, max_depth=45, score=0.716, total=  33.3s\n",
            "[CV] n_estimators=70, max_depth=45 ...................................\n"
          ],
          "name": "stdout"
        },
        {
          "output_type": "stream",
          "text": [
            "[Parallel(n_jobs=1)]: Done   5 out of   5 | elapsed:  3.7min remaining:    0.0s\n"
          ],
          "name": "stderr"
        },
        {
          "output_type": "stream",
          "text": [
            "[CV] ....... n_estimators=70, max_depth=45, score=0.714, total=  32.5s\n",
            "[CV] n_estimators=70, max_depth=45 ...................................\n"
          ],
          "name": "stdout"
        },
        {
          "output_type": "stream",
          "text": [
            "[Parallel(n_jobs=1)]: Done   6 out of   6 | elapsed:  4.3min remaining:    0.0s\n"
          ],
          "name": "stderr"
        },
        {
          "output_type": "stream",
          "text": [
            "[CV] ....... n_estimators=70, max_depth=45, score=0.714, total=  32.5s\n",
            "[CV] n_estimators=70, max_depth=45 ...................................\n"
          ],
          "name": "stdout"
        },
        {
          "output_type": "stream",
          "text": [
            "[Parallel(n_jobs=1)]: Done   7 out of   7 | elapsed:  4.8min remaining:    0.0s\n"
          ],
          "name": "stderr"
        },
        {
          "output_type": "stream",
          "text": [
            "[CV] ....... n_estimators=70, max_depth=45, score=0.717, total=  32.5s\n",
            "[CV] n_estimators=50, max_depth=57 ...................................\n"
          ],
          "name": "stdout"
        },
        {
          "output_type": "stream",
          "text": [
            "[Parallel(n_jobs=1)]: Done   8 out of   8 | elapsed:  5.4min remaining:    0.0s\n"
          ],
          "name": "stderr"
        },
        {
          "output_type": "stream",
          "text": [
            "[CV] ....... n_estimators=50, max_depth=57, score=0.713, total=  23.6s\n",
            "[CV] n_estimators=50, max_depth=57 ...................................\n"
          ],
          "name": "stdout"
        },
        {
          "output_type": "stream",
          "text": [
            "[Parallel(n_jobs=1)]: Done   9 out of   9 | elapsed:  5.8min remaining:    0.0s\n"
          ],
          "name": "stderr"
        },
        {
          "output_type": "stream",
          "text": [
            "[CV] ....... n_estimators=50, max_depth=57, score=0.711, total=  24.0s\n",
            "[CV] n_estimators=50, max_depth=57 ...................................\n",
            "[CV] ....... n_estimators=50, max_depth=57, score=0.712, total=  23.8s\n",
            "[CV] n_estimators=50, max_depth=57 ...................................\n",
            "[CV] ....... n_estimators=50, max_depth=57, score=0.714, total=  23.3s\n",
            "[CV] n_estimators=70, max_depth=59 ...................................\n",
            "[CV] ....... n_estimators=70, max_depth=59, score=0.715, total=  33.5s\n",
            "[CV] n_estimators=70, max_depth=59 ...................................\n",
            "[CV] ....... n_estimators=70, max_depth=59, score=0.714, total=  33.0s\n",
            "[CV] n_estimators=70, max_depth=59 ...................................\n",
            "[CV] ....... n_estimators=70, max_depth=59, score=0.714, total=  33.5s\n",
            "[CV] n_estimators=70, max_depth=59 ...................................\n",
            "[CV] ....... n_estimators=70, max_depth=59, score=0.714, total=  33.1s\n",
            "[CV] n_estimators=90, max_depth=43 ...................................\n",
            "[CV] ....... n_estimators=90, max_depth=43, score=0.715, total=  43.5s\n",
            "[CV] n_estimators=90, max_depth=43 ...................................\n",
            "[CV] ....... n_estimators=90, max_depth=43, score=0.717, total=  46.4s\n",
            "[CV] n_estimators=90, max_depth=43 ...................................\n",
            "[CV] ....... n_estimators=90, max_depth=43, score=0.716, total=  42.9s\n",
            "[CV] n_estimators=90, max_depth=43 ...................................\n",
            "[CV] ....... n_estimators=90, max_depth=43, score=0.718, total=  44.4s\n",
            "[CV] n_estimators=50, max_depth=46 ...................................\n",
            "[CV] ....... n_estimators=50, max_depth=46, score=0.713, total=  24.1s\n",
            "[CV] n_estimators=50, max_depth=46 ...................................\n",
            "[CV] ....... n_estimators=50, max_depth=46, score=0.713, total=  23.5s\n",
            "[CV] n_estimators=50, max_depth=46 ...................................\n",
            "[CV] ....... n_estimators=50, max_depth=46, score=0.713, total=  23.5s\n",
            "[CV] n_estimators=50, max_depth=46 ...................................\n",
            "[CV] ....... n_estimators=50, max_depth=46, score=0.714, total=  24.2s\n",
            "[CV] n_estimators=90, max_depth=45 ...................................\n",
            "[CV] ....... n_estimators=90, max_depth=45, score=0.717, total=  43.2s\n",
            "[CV] n_estimators=90, max_depth=45 ...................................\n",
            "[CV] ....... n_estimators=90, max_depth=45, score=0.715, total=  42.3s\n",
            "[CV] n_estimators=90, max_depth=45 ...................................\n",
            "[CV] ....... n_estimators=90, max_depth=45, score=0.714, total=  42.6s\n",
            "[CV] n_estimators=90, max_depth=45 ...................................\n",
            "[CV] ....... n_estimators=90, max_depth=45, score=0.716, total=  42.3s\n",
            "[CV] n_estimators=60, max_depth=56 ...................................\n",
            "[CV] ....... n_estimators=60, max_depth=56, score=0.714, total=  28.3s\n",
            "[CV] n_estimators=60, max_depth=56 ...................................\n",
            "[CV] ....... n_estimators=60, max_depth=56, score=0.712, total=  28.8s\n",
            "[CV] n_estimators=60, max_depth=56 ...................................\n",
            "[CV] ....... n_estimators=60, max_depth=56, score=0.714, total=  28.9s\n",
            "[CV] n_estimators=60, max_depth=56 ...................................\n",
            "[CV] ....... n_estimators=60, max_depth=56, score=0.715, total=  29.3s\n",
            "[CV] n_estimators=60, max_depth=58 ...................................\n",
            "[CV] ....... n_estimators=60, max_depth=58, score=0.714, total=  30.4s\n",
            "[CV] n_estimators=60, max_depth=58 ...................................\n",
            "[CV] ....... n_estimators=60, max_depth=58, score=0.714, total=  29.7s\n",
            "[CV] n_estimators=60, max_depth=58 ...................................\n",
            "[CV] ....... n_estimators=60, max_depth=58, score=0.715, total=  29.6s\n",
            "[CV] n_estimators=60, max_depth=58 ...................................\n",
            "[CV] ....... n_estimators=60, max_depth=58, score=0.715, total=  29.5s\n"
          ],
          "name": "stdout"
        },
        {
          "output_type": "stream",
          "text": [
            "[Parallel(n_jobs=1)]: Done  36 out of  36 | elapsed: 20.5min finished\n"
          ],
          "name": "stderr"
        },
        {
          "output_type": "execute_result",
          "data": {
            "text/plain": [
              "RandomizedSearchCV(cv=4, error_score=nan,\n",
              "                   estimator=RandomForestClassifier(bootstrap=True,\n",
              "                                                    ccp_alpha=0.0,\n",
              "                                                    class_weight=None,\n",
              "                                                    criterion='gini',\n",
              "                                                    max_depth=None,\n",
              "                                                    max_features='auto',\n",
              "                                                    max_leaf_nodes=None,\n",
              "                                                    max_samples=None,\n",
              "                                                    min_impurity_decrease=0.0,\n",
              "                                                    min_impurity_split=None,\n",
              "                                                    min_samples_leaf=1,\n",
              "                                                    min_samples_split=2,\n",
              "                                                    min_weight_fraction_leaf=0.0,\n",
              "                                                    n_estimators=100,\n",
              "                                                    n_jobs=None,\n",
              "                                                    oob_score=False,\n",
              "                                                    random_state=None,\n",
              "                                                    verbose=0,\n",
              "                                                    warm_start=False),\n",
              "                   iid='deprecated', n_iter=9, n_jobs=1,\n",
              "                   param_distributions={'max_depth': array([40, 41, 42, 43, 44, 45, 46, 47, 48, 49, 50, 51, 52, 53, 54, 55, 56,\n",
              "       57, 58, 59]),\n",
              "                                        'n_estimators': array([50, 60, 70, 80, 90])},\n",
              "                   pre_dispatch='2*n_jobs', random_state=None, refit=True,\n",
              "                   return_train_score=False, scoring='f1_micro', verbose=10)"
            ]
          },
          "metadata": {
            "tags": []
          },
          "execution_count": 21
        }
      ]
    },
    {
      "cell_type": "markdown",
      "metadata": {
        "id": "HdPM7BGi1jne"
      },
      "source": [
        "### Mejor score"
      ]
    },
    {
      "cell_type": "code",
      "metadata": {
        "colab": {
          "base_uri": "https://localhost:8080/",
          "height": 434
        },
        "id": "5fMdTFOxVmup",
        "outputId": "19a88540-fd87-4309-d7a2-2065971e0e60"
      },
      "source": [
        "print('Mejor score:', model.best_score_)\n",
        "print('\\nMejores parámetros de grilla:', model.best_params_)\n",
        "print('\\nParámetros del mejor modelo:')\n",
        "display(model.best_estimator_.get_params())"
      ],
      "execution_count": null,
      "outputs": [
        {
          "output_type": "stream",
          "text": [
            "Mejor score: 0.7164631048436472\n",
            "\n",
            "Mejores parámetros de grilla: {'n_estimators': 90, 'max_depth': 43}\n",
            "\n",
            "Parámetros del mejor modelo:\n"
          ],
          "name": "stdout"
        },
        {
          "output_type": "display_data",
          "data": {
            "text/plain": [
              "{'bootstrap': True,\n",
              " 'ccp_alpha': 0.0,\n",
              " 'class_weight': None,\n",
              " 'criterion': 'gini',\n",
              " 'max_depth': 43,\n",
              " 'max_features': 'auto',\n",
              " 'max_leaf_nodes': None,\n",
              " 'max_samples': None,\n",
              " 'min_impurity_decrease': 0.0,\n",
              " 'min_impurity_split': None,\n",
              " 'min_samples_leaf': 1,\n",
              " 'min_samples_split': 2,\n",
              " 'min_weight_fraction_leaf': 0.0,\n",
              " 'n_estimators': 90,\n",
              " 'n_jobs': None,\n",
              " 'oob_score': False,\n",
              " 'random_state': None,\n",
              " 'verbose': 0,\n",
              " 'warm_start': False}"
            ]
          },
          "metadata": {
            "tags": []
          }
        }
      ]
    }
  ]
}