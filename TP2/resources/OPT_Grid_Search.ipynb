{
  "nbformat": 4,
  "nbformat_minor": 0,
  "metadata": {
    "colab": {
      "name": "OPT_Grid_Search.ipynb",
      "provenance": [],
      "collapsed_sections": [],
      "authorship_tag": "ABX9TyMYvoc2uuiRNrEkRnkftbb6",
      "include_colab_link": true
    },
    "kernelspec": {
      "name": "python3",
      "display_name": "Python 3"
    },
    "language_info": {
      "name": "python"
    }
  },
  "cells": [
    {
      "cell_type": "markdown",
      "metadata": {
        "id": "view-in-github",
        "colab_type": "text"
      },
      "source": [
        "<a href=\"https://colab.research.google.com/github/ffelfis/OrgaDatosTPs/blob/main/TP2/resources/OPT_Grid_Search.ipynb\" target=\"_parent\"><img src=\"https://colab.research.google.com/assets/colab-badge.svg\" alt=\"Open In Colab\"/></a>"
      ]
    },
    {
      "cell_type": "markdown",
      "metadata": {
        "id": "_DrbBu-tiSyC"
      },
      "source": [
        "# Lectura de datos de Google Drive"
      ]
    },
    {
      "cell_type": "code",
      "metadata": {
        "colab": {
          "base_uri": "https://localhost:8080/"
        },
        "id": "1F_f9l63h-ej",
        "outputId": "80b50b07-077c-4429-c2f8-5e648ab5fb25"
      },
      "source": [
        "# Lectura de Dataset desde Google Drive\n",
        "from google.colab import drive\n",
        "drive.mount('/content/drive')"
      ],
      "execution_count": 24,
      "outputs": [
        {
          "output_type": "stream",
          "text": [
            "Drive already mounted at /content/drive; to attempt to forcibly remount, call drive.mount(\"/content/drive\", force_remount=True).\n"
          ],
          "name": "stdout"
        }
      ]
    },
    {
      "cell_type": "markdown",
      "metadata": {
        "id": "EpNLc4kPyAbf"
      },
      "source": [
        "# Para importar funciones customizadas\n",
        "\n",
        "Hay que especificar la ruta de donde se encuentra el módulo (archivo `.py`) para buscar las funciones.\n",
        "\n",
        "La lectura puede ser muy celosa: las indentaciones son de 4 espacios no tabulaciones.\n",
        "\n",
        "https://colab.research.google.com/drive/1uvHuizCBqFgvbCwEhK7FvU8JW0AfxgJw"
      ]
    },
    {
      "cell_type": "code",
      "metadata": {
        "id": "TeM6NwOeyKur"
      },
      "source": [
        "import sys\n",
        "sys.path.append('/content/drive/My Drive/75.06 - Organización de Datos/TP2/resources')"
      ],
      "execution_count": 25,
      "outputs": []
    },
    {
      "cell_type": "markdown",
      "metadata": {
        "id": "phUPpKV5ie5n"
      },
      "source": [
        "# Carga de librerías y directorios"
      ]
    },
    {
      "cell_type": "code",
      "metadata": {
        "id": "jhFuDtsTifvX"
      },
      "source": [
        "import pandas as pd\n",
        "import numpy as np\n",
        "\n",
        "# Métrica\n",
        "from sklearn.metrics import f1_score\n",
        "\n",
        "# Clasificador\n",
        "from sklearn.ensemble import RandomForestClassifier\n",
        "\n",
        "# Paquete de Grid Search Cross Validation\n",
        "from sklearn.model_selection import GridSearchCV\n",
        "\n",
        "# Para el cambio de tipo de datos: para reducir el uso de memoria\n",
        "from utilidades import cambio_tipos"
      ],
      "execution_count": 26,
      "outputs": []
    },
    {
      "cell_type": "markdown",
      "metadata": {
        "id": "0sINS71mixTT"
      },
      "source": [
        "# Rutas de los archivos a usar"
      ]
    },
    {
      "cell_type": "code",
      "metadata": {
        "id": "wCBPCSsUisx2"
      },
      "source": [
        "# Ruta train_values.csv\n",
        "dir_values = '/content/drive/My Drive/75.06 - Organización de Datos/TP1/Data/train_values.csv'\n",
        "# Ruta train_labels.csv\n",
        "dir_labels = '/content/drive/My Drive/75.06 - Organización de Datos/TP1/Data/train_labels.csv'\n",
        "# Ruta test_values.csv\n",
        "dir_test = '/content/drive/My Drive/75.06 - Organización de Datos/TP1/Data/test_values.csv'\n",
        "# Ruta submission_format.csv\n",
        "dir_sub_format = '/content/drive/My Drive/75.06 - Organización de Datos/TP1/Data/submission_format.csv'\n",
        "# Ruta de Binary Encodings para train_values.csv\n",
        "dir_Binary = '/content/drive/My Drive/75.06 - Organización de Datos/TP2/resources'"
      ],
      "execution_count": 27,
      "outputs": []
    },
    {
      "cell_type": "markdown",
      "metadata": {
        "id": "U10d9Z3cjmEn"
      },
      "source": [
        "---\n",
        "#Entrenamiento\n",
        "---\n",
        "### Carga de train"
      ]
    },
    {
      "cell_type": "code",
      "metadata": {
        "id": "_GU7d7LENLcs"
      },
      "source": [
        "columnas = ['building_id',\n",
        " 'geo_level_1_id',\n",
        " 'geo_level_2_id',\n",
        " 'geo_level_3_id',\n",
        " 'count_floors_pre_eq',\n",
        " 'age',\n",
        " 'area_percentage',\n",
        " 'height_percentage',\n",
        " 'has_superstructure_adobe_mud',\n",
        " 'has_superstructure_mud_mortar_stone',\n",
        " 'has_superstructure_stone_flag',\n",
        " 'has_superstructure_cement_mortar_stone',\n",
        " 'has_superstructure_mud_mortar_brick',\n",
        " 'has_superstructure_cement_mortar_brick',\n",
        " 'has_superstructure_timber',\n",
        " 'has_superstructure_bamboo',\n",
        " 'has_superstructure_rc_non_engineered',\n",
        " 'has_superstructure_rc_engineered',\n",
        " 'has_superstructure_other',\n",
        " 'count_families',\n",
        " 'has_secondary_use',\n",
        " 'has_secondary_use_agriculture',\n",
        " 'has_secondary_use_hotel',\n",
        " 'has_secondary_use_rental',\n",
        " 'has_secondary_use_institution',\n",
        " 'has_secondary_use_school',\n",
        " 'has_secondary_use_industry',\n",
        " 'has_secondary_use_health_post',\n",
        " 'has_secondary_use_gov_office',\n",
        " 'has_secondary_use_use_police',\n",
        " 'has_secondary_use_other']\n",
        " \n",
        "# Carga de train_values.csv\n",
        "train = pd.read_csv(dir_values, usecols=columnas)"
      ],
      "execution_count": 28,
      "outputs": []
    },
    {
      "cell_type": "markdown",
      "metadata": {
        "id": "Gllv83PimADJ"
      },
      "source": [
        "### Cambio de tipos de datos"
      ]
    },
    {
      "cell_type": "code",
      "metadata": {
        "id": "epm-bFzPzYmN"
      },
      "source": [
        "train = cambio_tipos(train)"
      ],
      "execution_count": 29,
      "outputs": []
    },
    {
      "cell_type": "markdown",
      "metadata": {
        "id": "cEOYhxbpbfaN"
      },
      "source": [
        "### Carga de columnas codificadas: Binary Encoding"
      ]
    },
    {
      "cell_type": "code",
      "metadata": {
        "id": "-i_00Z0Cbmyb"
      },
      "source": [
        "# 28 columnas más.\n",
        "train = train.join(pd.read_csv(dir_Binary+f'/BE_train.csv', dtype='uint8'))\n",
        "\n",
        "X = train.values"
      ],
      "execution_count": 30,
      "outputs": []
    },
    {
      "cell_type": "markdown",
      "metadata": {
        "id": "dBiOdGmvWsIP"
      },
      "source": [
        "### Carga de labels\n",
        "GridSearchCV necesita los valores en una dimensión."
      ]
    },
    {
      "cell_type": "code",
      "metadata": {
        "id": "Q4DACqZZWrLe"
      },
      "source": [
        "# Carga de train_labels.csv\n",
        "labels = pd.read_csv(dir_labels, usecols=['damage_grade'], dtype='uint8')\n",
        "\n",
        "y = labels.damage_grade.values"
      ],
      "execution_count": 31,
      "outputs": []
    },
    {
      "cell_type": "markdown",
      "metadata": {
        "id": "Jx91jFEXbgWM"
      },
      "source": [
        "# Grid Search"
      ]
    },
    {
      "cell_type": "markdown",
      "metadata": {
        "id": "jW5f1gQ3bUO0"
      },
      "source": [
        "### Instancia del clasificador"
      ]
    },
    {
      "cell_type": "code",
      "metadata": {
        "id": "bvkbg2K4bQ06"
      },
      "source": [
        "rfc = RandomForestClassifier()"
      ],
      "execution_count": 32,
      "outputs": []
    },
    {
      "cell_type": "markdown",
      "metadata": {
        "id": "IGjP3w5KbF-H"
      },
      "source": [
        "### Grilla de parámetros para realizar la búsqueda"
      ]
    },
    {
      "cell_type": "code",
      "metadata": {
        "id": "yxnpBv2TMrPV"
      },
      "source": [
        "param_grid = {\n",
        "    'n_estimators' : [10, 20, 50],\n",
        "    'max_depth': [20, 30, 40]\n",
        "}"
      ],
      "execution_count": 33,
      "outputs": []
    },
    {
      "cell_type": "markdown",
      "metadata": {
        "id": "3FtyGZfLMroL"
      },
      "source": [
        "### Instancia del modelo de Grid Search"
      ]
    },
    {
      "cell_type": "code",
      "metadata": {
        "id": "ZKWW5waBN0AS"
      },
      "source": [
        "model = GridSearchCV(estimator = rfc, param_grid = param_grid, scoring = 'f1_micro', n_jobs = 1, cv = 4, verbose = 10)"
      ],
      "execution_count": 34,
      "outputs": []
    },
    {
      "cell_type": "markdown",
      "metadata": {
        "id": "8UPQCTz2bwBQ"
      },
      "source": [
        "### Entrenamiento del modelo usando Grid Search Cross Validation"
      ]
    },
    {
      "cell_type": "code",
      "metadata": {
        "colab": {
          "base_uri": "https://localhost:8080/"
        },
        "id": "BjTmEGLpOWkR",
        "outputId": "b460ea00-1136-4c48-b149-0a48ce9b8a21"
      },
      "source": [
        "model.fit(X, y)"
      ],
      "execution_count": 35,
      "outputs": [
        {
          "output_type": "stream",
          "text": [
            "Fitting 4 folds for each of 9 candidates, totalling 36 fits\n",
            "[CV] max_depth=20, n_estimators=10 ...................................\n"
          ],
          "name": "stdout"
        },
        {
          "output_type": "stream",
          "text": [
            "[Parallel(n_jobs=1)]: Using backend SequentialBackend with 1 concurrent workers.\n"
          ],
          "name": "stderr"
        },
        {
          "output_type": "stream",
          "text": [
            "[CV] ....... max_depth=20, n_estimators=10, score=0.679, total=   5.2s\n",
            "[CV] max_depth=20, n_estimators=10 ...................................\n"
          ],
          "name": "stdout"
        },
        {
          "output_type": "stream",
          "text": [
            "[Parallel(n_jobs=1)]: Done   1 out of   1 | elapsed:    5.2s remaining:    0.0s\n"
          ],
          "name": "stderr"
        },
        {
          "output_type": "stream",
          "text": [
            "[CV] ....... max_depth=20, n_estimators=10, score=0.678, total=   5.5s\n",
            "[CV] max_depth=20, n_estimators=10 ...................................\n"
          ],
          "name": "stdout"
        },
        {
          "output_type": "stream",
          "text": [
            "[Parallel(n_jobs=1)]: Done   2 out of   2 | elapsed:   10.7s remaining:    0.0s\n"
          ],
          "name": "stderr"
        },
        {
          "output_type": "stream",
          "text": [
            "[CV] ....... max_depth=20, n_estimators=10, score=0.684, total=   5.3s\n",
            "[CV] max_depth=20, n_estimators=10 ...................................\n"
          ],
          "name": "stdout"
        },
        {
          "output_type": "stream",
          "text": [
            "[Parallel(n_jobs=1)]: Done   3 out of   3 | elapsed:   16.0s remaining:    0.0s\n"
          ],
          "name": "stderr"
        },
        {
          "output_type": "stream",
          "text": [
            "[CV] ....... max_depth=20, n_estimators=10, score=0.687, total=   5.1s\n",
            "[CV] max_depth=20, n_estimators=20 ...................................\n"
          ],
          "name": "stdout"
        },
        {
          "output_type": "stream",
          "text": [
            "[Parallel(n_jobs=1)]: Done   4 out of   4 | elapsed:   21.1s remaining:    0.0s\n"
          ],
          "name": "stderr"
        },
        {
          "output_type": "stream",
          "text": [
            "[CV] ....... max_depth=20, n_estimators=20, score=0.692, total=  10.3s\n",
            "[CV] max_depth=20, n_estimators=20 ...................................\n"
          ],
          "name": "stdout"
        },
        {
          "output_type": "stream",
          "text": [
            "[Parallel(n_jobs=1)]: Done   5 out of   5 | elapsed:   31.4s remaining:    0.0s\n"
          ],
          "name": "stderr"
        },
        {
          "output_type": "stream",
          "text": [
            "[CV] ....... max_depth=20, n_estimators=20, score=0.690, total=   9.9s\n",
            "[CV] max_depth=20, n_estimators=20 ...................................\n"
          ],
          "name": "stdout"
        },
        {
          "output_type": "stream",
          "text": [
            "[Parallel(n_jobs=1)]: Done   6 out of   6 | elapsed:   41.4s remaining:    0.0s\n"
          ],
          "name": "stderr"
        },
        {
          "output_type": "stream",
          "text": [
            "[CV] ....... max_depth=20, n_estimators=20, score=0.694, total=   9.4s\n",
            "[CV] max_depth=20, n_estimators=20 ...................................\n"
          ],
          "name": "stdout"
        },
        {
          "output_type": "stream",
          "text": [
            "[Parallel(n_jobs=1)]: Done   7 out of   7 | elapsed:   50.8s remaining:    0.0s\n"
          ],
          "name": "stderr"
        },
        {
          "output_type": "stream",
          "text": [
            "[CV] ....... max_depth=20, n_estimators=20, score=0.696, total=   9.7s\n",
            "[CV] max_depth=20, n_estimators=50 ...................................\n"
          ],
          "name": "stdout"
        },
        {
          "output_type": "stream",
          "text": [
            "[Parallel(n_jobs=1)]: Done   8 out of   8 | elapsed:  1.0min remaining:    0.0s\n"
          ],
          "name": "stderr"
        },
        {
          "output_type": "stream",
          "text": [
            "[CV] ....... max_depth=20, n_estimators=50, score=0.697, total=  22.1s\n",
            "[CV] max_depth=20, n_estimators=50 ...................................\n"
          ],
          "name": "stdout"
        },
        {
          "output_type": "stream",
          "text": [
            "[Parallel(n_jobs=1)]: Done   9 out of   9 | elapsed:  1.4min remaining:    0.0s\n"
          ],
          "name": "stderr"
        },
        {
          "output_type": "stream",
          "text": [
            "[CV] ....... max_depth=20, n_estimators=50, score=0.696, total=  19.2s\n",
            "[CV] max_depth=20, n_estimators=50 ...................................\n",
            "[CV] ....... max_depth=20, n_estimators=50, score=0.693, total=  20.4s\n",
            "[CV] max_depth=20, n_estimators=50 ...................................\n",
            "[CV] ....... max_depth=20, n_estimators=50, score=0.696, total=  20.9s\n",
            "[CV] max_depth=30, n_estimators=10 ...................................\n",
            "[CV] ....... max_depth=30, n_estimators=10, score=0.692, total=   6.0s\n",
            "[CV] max_depth=30, n_estimators=10 ...................................\n",
            "[CV] ....... max_depth=30, n_estimators=10, score=0.693, total=   5.7s\n",
            "[CV] max_depth=30, n_estimators=10 ...................................\n",
            "[CV] ....... max_depth=30, n_estimators=10, score=0.691, total=   5.6s\n",
            "[CV] max_depth=30, n_estimators=10 ...................................\n",
            "[CV] ....... max_depth=30, n_estimators=10, score=0.695, total=   5.5s\n",
            "[CV] max_depth=30, n_estimators=20 ...................................\n",
            "[CV] ....... max_depth=30, n_estimators=20, score=0.702, total=  10.7s\n",
            "[CV] max_depth=30, n_estimators=20 ...................................\n",
            "[CV] ....... max_depth=30, n_estimators=20, score=0.706, total=  10.8s\n",
            "[CV] max_depth=30, n_estimators=20 ...................................\n",
            "[CV] ....... max_depth=30, n_estimators=20, score=0.706, total=  10.5s\n",
            "[CV] max_depth=30, n_estimators=20 ...................................\n",
            "[CV] ....... max_depth=30, n_estimators=20, score=0.703, total=  11.3s\n",
            "[CV] max_depth=30, n_estimators=50 ...................................\n",
            "[CV] ....... max_depth=30, n_estimators=50, score=0.714, total=  25.7s\n",
            "[CV] max_depth=30, n_estimators=50 ...................................\n",
            "[CV] ....... max_depth=30, n_estimators=50, score=0.711, total=  26.4s\n",
            "[CV] max_depth=30, n_estimators=50 ...................................\n",
            "[CV] ....... max_depth=30, n_estimators=50, score=0.714, total=  25.3s\n",
            "[CV] max_depth=30, n_estimators=50 ...................................\n",
            "[CV] ....... max_depth=30, n_estimators=50, score=0.714, total=  25.9s\n",
            "[CV] max_depth=40, n_estimators=10 ...................................\n",
            "[CV] ....... max_depth=40, n_estimators=10, score=0.687, total=   6.2s\n",
            "[CV] max_depth=40, n_estimators=10 ...................................\n",
            "[CV] ....... max_depth=40, n_estimators=10, score=0.690, total=   6.1s\n",
            "[CV] max_depth=40, n_estimators=10 ...................................\n",
            "[CV] ....... max_depth=40, n_estimators=10, score=0.693, total=   5.9s\n",
            "[CV] max_depth=40, n_estimators=10 ...................................\n",
            "[CV] ....... max_depth=40, n_estimators=10, score=0.689, total=   6.4s\n",
            "[CV] max_depth=40, n_estimators=20 ...................................\n",
            "[CV] ....... max_depth=40, n_estimators=20, score=0.704, total=  11.3s\n",
            "[CV] max_depth=40, n_estimators=20 ...................................\n",
            "[CV] ....... max_depth=40, n_estimators=20, score=0.703, total=  11.4s\n",
            "[CV] max_depth=40, n_estimators=20 ...................................\n",
            "[CV] ....... max_depth=40, n_estimators=20, score=0.705, total=  11.6s\n",
            "[CV] max_depth=40, n_estimators=20 ...................................\n",
            "[CV] ....... max_depth=40, n_estimators=20, score=0.705, total=  11.3s\n",
            "[CV] max_depth=40, n_estimators=50 ...................................\n",
            "[CV] ....... max_depth=40, n_estimators=50, score=0.714, total=  27.8s\n",
            "[CV] max_depth=40, n_estimators=50 ...................................\n",
            "[CV] ....... max_depth=40, n_estimators=50, score=0.713, total=  28.8s\n",
            "[CV] max_depth=40, n_estimators=50 ...................................\n",
            "[CV] ....... max_depth=40, n_estimators=50, score=0.712, total=  27.7s\n",
            "[CV] max_depth=40, n_estimators=50 ...................................\n",
            "[CV] ....... max_depth=40, n_estimators=50, score=0.714, total=  29.8s\n"
          ],
          "name": "stdout"
        },
        {
          "output_type": "stream",
          "text": [
            "[Parallel(n_jobs=1)]: Done  36 out of  36 | elapsed:  8.3min finished\n"
          ],
          "name": "stderr"
        },
        {
          "output_type": "execute_result",
          "data": {
            "text/plain": [
              "GridSearchCV(cv=4, error_score=nan,\n",
              "             estimator=RandomForestClassifier(bootstrap=True, ccp_alpha=0.0,\n",
              "                                              class_weight=None,\n",
              "                                              criterion='gini', max_depth=None,\n",
              "                                              max_features='auto',\n",
              "                                              max_leaf_nodes=None,\n",
              "                                              max_samples=None,\n",
              "                                              min_impurity_decrease=0.0,\n",
              "                                              min_impurity_split=None,\n",
              "                                              min_samples_leaf=1,\n",
              "                                              min_samples_split=2,\n",
              "                                              min_weight_fraction_leaf=0.0,\n",
              "                                              n_estimators=100, n_jobs=None,\n",
              "                                              oob_score=False,\n",
              "                                              random_state=None, verbose=0,\n",
              "                                              warm_start=False),\n",
              "             iid='deprecated', n_jobs=1,\n",
              "             param_grid={'max_depth': [20, 30, 40],\n",
              "                         'n_estimators': [10, 20, 50]},\n",
              "             pre_dispatch='2*n_jobs', refit=True, return_train_score=False,\n",
              "             scoring='f1_micro', verbose=10)"
            ]
          },
          "metadata": {
            "tags": []
          },
          "execution_count": 35
        }
      ]
    },
    {
      "cell_type": "markdown",
      "metadata": {
        "id": "HdPM7BGi1jne"
      },
      "source": [
        "### Mejor score"
      ]
    },
    {
      "cell_type": "code",
      "metadata": {
        "colab": {
          "base_uri": "https://localhost:8080/",
          "height": 434
        },
        "id": "5fMdTFOxVmup",
        "outputId": "4b14bb2f-c386-4171-82ce-912adc36cd0b"
      },
      "source": [
        "print('Mejor score:', model.best_score_)\n",
        "print('\\nMejores parámetros de grilla:', model.best_params_)\n",
        "print('\\nParámetros del mejor modelo:')\n",
        "display(model.best_estimator_.get_params())"
      ],
      "execution_count": 36,
      "outputs": [
        {
          "output_type": "stream",
          "text": [
            "Mejor score: 0.7131323344212246\n",
            "\n",
            "Mejores parámetros de grilla: {'max_depth': 30, 'n_estimators': 50}\n",
            "\n",
            "Parámetros del mejor modelo:\n"
          ],
          "name": "stdout"
        },
        {
          "output_type": "display_data",
          "data": {
            "text/plain": [
              "{'bootstrap': True,\n",
              " 'ccp_alpha': 0.0,\n",
              " 'class_weight': None,\n",
              " 'criterion': 'gini',\n",
              " 'max_depth': 30,\n",
              " 'max_features': 'auto',\n",
              " 'max_leaf_nodes': None,\n",
              " 'max_samples': None,\n",
              " 'min_impurity_decrease': 0.0,\n",
              " 'min_impurity_split': None,\n",
              " 'min_samples_leaf': 1,\n",
              " 'min_samples_split': 2,\n",
              " 'min_weight_fraction_leaf': 0.0,\n",
              " 'n_estimators': 50,\n",
              " 'n_jobs': None,\n",
              " 'oob_score': False,\n",
              " 'random_state': None,\n",
              " 'verbose': 0,\n",
              " 'warm_start': False}"
            ]
          },
          "metadata": {
            "tags": []
          }
        }
      ]
    }
  ]
}