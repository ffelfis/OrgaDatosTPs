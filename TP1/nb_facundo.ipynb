{
  "nbformat": 4,
  "nbformat_minor": 0,
  "metadata": {
    "colab": {
      "name": "nb_facundo.ipynb",
      "provenance": [],
      "collapsed_sections": [
        "xQdZmWB7snD6"
      ],
      "authorship_tag": "ABX9TyPaSQlC50UXunP1k7HpuQs0",
      "include_colab_link": true
    },
    "kernelspec": {
      "name": "python3",
      "display_name": "Python 3"
    },
    "language_info": {
      "name": "python"
    }
  },
  "cells": [
    {
      "cell_type": "markdown",
      "metadata": {
        "id": "view-in-github",
        "colab_type": "text"
      },
      "source": [
        "<a href=\"https://colab.research.google.com/github/ffelfis/OrgaDatosTPs/blob/main/TP1/nb_facundo.ipynb\" target=\"_parent\"><img src=\"https://colab.research.google.com/assets/colab-badge.svg\" alt=\"Open In Colab\"/></a>"
      ]
    },
    {
      "cell_type": "markdown",
      "metadata": {
        "id": "1zyQU5Qs1-MZ"
      },
      "source": [
        "# Carga de librerías y directorios"
      ]
    },
    {
      "cell_type": "code",
      "metadata": {
        "id": "D453xuM9RRaJ"
      },
      "source": [
        "import pandas as pd\n",
        "import numpy as np\n",
        "import matplotlib.pyplot as plt\n",
        "from matplotlib.ticker import FuncFormatter\n",
        "%matplotlib inline\n",
        "import seaborn as sns"
      ],
      "execution_count": 1,
      "outputs": []
    },
    {
      "cell_type": "code",
      "metadata": {
        "colab": {
          "base_uri": "https://localhost:8080/"
        },
        "id": "twG1ocJDSg_5",
        "outputId": "345c36bc-1a5e-45f4-c095-66b601753765"
      },
      "source": [
        "# Lectura de Dataset desde Google Drive\n",
        "from google.colab import drive\n",
        "drive.mount('/content/gdrive')"
      ],
      "execution_count": 2,
      "outputs": [
        {
          "output_type": "stream",
          "text": [
            "Mounted at /content/gdrive\n"
          ],
          "name": "stdout"
        }
      ]
    },
    {
      "cell_type": "code",
      "metadata": {
        "id": "PVPEHuQBS7ML"
      },
      "source": [
        "# Ruta train_values.csv\n",
        "dir_values = '/content/gdrive/My Drive/75.06 - Organización de Datos/TP1/Data/train_values.csv'\n",
        "\n",
        "# Ruta train_labels.csv\n",
        "dir_labels = '/content/gdrive/My Drive/75.06 - Organización de Datos/TP1/Data/train_labels.csv'"
      ],
      "execution_count": 3,
      "outputs": []
    },
    {
      "cell_type": "markdown",
      "metadata": {
        "id": "w725QZTCuGCH"
      },
      "source": [
        "# Análisis de train_values.csv"
      ]
    },
    {
      "cell_type": "code",
      "metadata": {
        "id": "rHP1qWSiYpse"
      },
      "source": [
        "df = pd.read_csv(dir_values)"
      ],
      "execution_count": 4,
      "outputs": []
    },
    {
      "cell_type": "code",
      "metadata": {
        "colab": {
          "base_uri": "https://localhost:8080/"
        },
        "id": "qkoUExA6adnb",
        "outputId": "09627df2-80d0-4924-da72-2ac2801d61c7"
      },
      "source": [
        "df.info()"
      ],
      "execution_count": 5,
      "outputs": [
        {
          "output_type": "stream",
          "text": [
            "<class 'pandas.core.frame.DataFrame'>\n",
            "RangeIndex: 260601 entries, 0 to 260600\n",
            "Data columns (total 39 columns):\n",
            " #   Column                                  Non-Null Count   Dtype \n",
            "---  ------                                  --------------   ----- \n",
            " 0   building_id                             260601 non-null  int64 \n",
            " 1   geo_level_1_id                          260601 non-null  int64 \n",
            " 2   geo_level_2_id                          260601 non-null  int64 \n",
            " 3   geo_level_3_id                          260601 non-null  int64 \n",
            " 4   count_floors_pre_eq                     260601 non-null  int64 \n",
            " 5   age                                     260601 non-null  int64 \n",
            " 6   area_percentage                         260601 non-null  int64 \n",
            " 7   height_percentage                       260601 non-null  int64 \n",
            " 8   land_surface_condition                  260601 non-null  object\n",
            " 9   foundation_type                         260601 non-null  object\n",
            " 10  roof_type                               260601 non-null  object\n",
            " 11  ground_floor_type                       260601 non-null  object\n",
            " 12  other_floor_type                        260601 non-null  object\n",
            " 13  position                                260601 non-null  object\n",
            " 14  plan_configuration                      260601 non-null  object\n",
            " 15  has_superstructure_adobe_mud            260601 non-null  int64 \n",
            " 16  has_superstructure_mud_mortar_stone     260601 non-null  int64 \n",
            " 17  has_superstructure_stone_flag           260601 non-null  int64 \n",
            " 18  has_superstructure_cement_mortar_stone  260601 non-null  int64 \n",
            " 19  has_superstructure_mud_mortar_brick     260601 non-null  int64 \n",
            " 20  has_superstructure_cement_mortar_brick  260601 non-null  int64 \n",
            " 21  has_superstructure_timber               260601 non-null  int64 \n",
            " 22  has_superstructure_bamboo               260601 non-null  int64 \n",
            " 23  has_superstructure_rc_non_engineered    260601 non-null  int64 \n",
            " 24  has_superstructure_rc_engineered        260601 non-null  int64 \n",
            " 25  has_superstructure_other                260601 non-null  int64 \n",
            " 26  legal_ownership_status                  260601 non-null  object\n",
            " 27  count_families                          260601 non-null  int64 \n",
            " 28  has_secondary_use                       260601 non-null  int64 \n",
            " 29  has_secondary_use_agriculture           260601 non-null  int64 \n",
            " 30  has_secondary_use_hotel                 260601 non-null  int64 \n",
            " 31  has_secondary_use_rental                260601 non-null  int64 \n",
            " 32  has_secondary_use_institution           260601 non-null  int64 \n",
            " 33  has_secondary_use_school                260601 non-null  int64 \n",
            " 34  has_secondary_use_industry              260601 non-null  int64 \n",
            " 35  has_secondary_use_health_post           260601 non-null  int64 \n",
            " 36  has_secondary_use_gov_office            260601 non-null  int64 \n",
            " 37  has_secondary_use_use_police            260601 non-null  int64 \n",
            " 38  has_secondary_use_other                 260601 non-null  int64 \n",
            "dtypes: int64(31), object(8)\n",
            "memory usage: 77.5+ MB\n"
          ],
          "name": "stdout"
        }
      ]
    },
    {
      "cell_type": "code",
      "metadata": {
        "colab": {
          "base_uri": "https://localhost:8080/"
        },
        "id": "Uy-QKqVslQuY",
        "outputId": "c1c1101c-65eb-455f-d778-525ee40f4ecd"
      },
      "source": [
        "memoria = df.memory_usage(deep=True).sum()/(2**20)\n",
        "print('Se usan', np.round(memoria, 2), 'MiB')"
      ],
      "execution_count": 6,
      "outputs": [
        {
          "output_type": "stream",
          "text": [
            "Se usan 176.95 MiB\n"
          ],
          "name": "stdout"
        }
      ]
    },
    {
      "cell_type": "markdown",
      "metadata": {
        "id": "o4xmNmYNkiVJ"
      },
      "source": [
        "No hay columnas con datos nulos.\n",
        "\n",
        "Se puede reallizar un cambio de tipo a las columnas para ajustar el uso de memoria."
      ]
    },
    {
      "cell_type": "markdown",
      "metadata": {
        "id": "6YW-yaXYkuT_"
      },
      "source": [
        "### Columnas numéricas\n",
        "\n",
        "`building_id`: \\[4, 1052934\\] $\\rightarrow$ int32\n",
        "\n",
        "`geo_level_1_id`: \\[0, 30\\] $\\rightarrow$ int8\n",
        "\n",
        "`geo_level_2_id`: \\[0, 1427\\] $\\rightarrow$ int16\n",
        "\n",
        "`geo_level_3_id`: \\[0, 12567\\] $\\rightarrow$ int16\n",
        "\n",
        "`count_floors_pre_eq`: \\[0, 9\\] $\\rightarrow$ int8\n",
        "\n",
        "`age`: \\[0, 995\\] $\\rightarrow$ int16\n",
        "\n",
        "`area_percentage`: \\[0, 100\\] $\\rightarrow$ int8\n",
        "\n",
        "`height_percentage`: \\[2, 32\\] $\\rightarrow$ int8\n",
        "\n",
        "`count_families`: \\[0, 9\\] $\\rightarrow$ int8"
      ]
    },
    {
      "cell_type": "code",
      "metadata": {
        "colab": {
          "base_uri": "https://localhost:8080/",
          "height": 112
        },
        "id": "YPvawtN9nq3L",
        "outputId": "054104c3-322b-4b46-f966-f770c44f1f35"
      },
      "source": [
        "df.loc[:, 'building_id':'height_percentage'].describe().astype('int64').loc[['max', 'min'], :]"
      ],
      "execution_count": 7,
      "outputs": [
        {
          "output_type": "execute_result",
          "data": {
            "text/html": [
              "<div>\n",
              "<style scoped>\n",
              "    .dataframe tbody tr th:only-of-type {\n",
              "        vertical-align: middle;\n",
              "    }\n",
              "\n",
              "    .dataframe tbody tr th {\n",
              "        vertical-align: top;\n",
              "    }\n",
              "\n",
              "    .dataframe thead th {\n",
              "        text-align: right;\n",
              "    }\n",
              "</style>\n",
              "<table border=\"1\" class=\"dataframe\">\n",
              "  <thead>\n",
              "    <tr style=\"text-align: right;\">\n",
              "      <th></th>\n",
              "      <th>building_id</th>\n",
              "      <th>geo_level_1_id</th>\n",
              "      <th>geo_level_2_id</th>\n",
              "      <th>geo_level_3_id</th>\n",
              "      <th>count_floors_pre_eq</th>\n",
              "      <th>age</th>\n",
              "      <th>area_percentage</th>\n",
              "      <th>height_percentage</th>\n",
              "    </tr>\n",
              "  </thead>\n",
              "  <tbody>\n",
              "    <tr>\n",
              "      <th>max</th>\n",
              "      <td>1052934</td>\n",
              "      <td>30</td>\n",
              "      <td>1427</td>\n",
              "      <td>12567</td>\n",
              "      <td>9</td>\n",
              "      <td>995</td>\n",
              "      <td>100</td>\n",
              "      <td>32</td>\n",
              "    </tr>\n",
              "    <tr>\n",
              "      <th>min</th>\n",
              "      <td>4</td>\n",
              "      <td>0</td>\n",
              "      <td>0</td>\n",
              "      <td>0</td>\n",
              "      <td>1</td>\n",
              "      <td>0</td>\n",
              "      <td>1</td>\n",
              "      <td>2</td>\n",
              "    </tr>\n",
              "  </tbody>\n",
              "</table>\n",
              "</div>"
            ],
            "text/plain": [
              "     building_id  geo_level_1_id  ...  area_percentage  height_percentage\n",
              "max      1052934              30  ...              100                 32\n",
              "min            4               0  ...                1                  2\n",
              "\n",
              "[2 rows x 8 columns]"
            ]
          },
          "metadata": {
            "tags": []
          },
          "execution_count": 7
        }
      ]
    },
    {
      "cell_type": "code",
      "metadata": {
        "id": "AmU6cFm7mo9b"
      },
      "source": [
        "df['building_id'] = df['building_id'].astype('int32')\n",
        "df['geo_level_1_id'] = df['geo_level_1_id'].astype('int8')\n",
        "df['geo_level_2_id'] = df['geo_level_2_id'].astype('int16')\n",
        "df['geo_level_3_id'] = df['geo_level_3_id'].astype('int16')\n",
        "df['count_floors_pre_eq'] = df['count_floors_pre_eq'].astype('int8')\n",
        "df['age'] = df['age'].astype('int16')\n",
        "df['area_percentage'] = df['area_percentage'].astype('int8')\n",
        "df['height_percentage'] = df['height_percentage'].astype('int8')\n",
        "df['count_families'] = df['count_families'].astype('int8')"
      ],
      "execution_count": 8,
      "outputs": []
    },
    {
      "cell_type": "code",
      "metadata": {
        "colab": {
          "base_uri": "https://localhost:8080/"
        },
        "id": "IfYd86OyoOpv",
        "outputId": "41b242c5-e3a2-428d-c940-0119e1dd24d3"
      },
      "source": [
        "memoria = df.memory_usage(deep=True).sum()/(2**20)\n",
        "print('Se usan', np.round(memoria, 2), 'MiB')"
      ],
      "execution_count": 9,
      "outputs": [
        {
          "output_type": "stream",
          "text": [
            "Se usan 162.79 MiB\n"
          ],
          "name": "stdout"
        }
      ]
    },
    {
      "cell_type": "markdown",
      "metadata": {
        "id": "jZyN6JjekzUy"
      },
      "source": [
        "### Columnas booleanas\n",
        "\n",
        "`has_superstructure_adobe_mud`, `has_superstructure_mud_mortar_stone`, `has_superstructure_stone_flag`, \n",
        "`has_superstructure_cement_mortar_stone`, `has_superstructure_mud_mortar_brick`, `has_superstructure_cement_mortar_brick`, `has_superstructure_timber`, `has_superstructure_bamboo`, `has_superstructure_rc_non_engineered`, `has_superstructure_rc_engineered`, `has_superstructure_other`, `has_secondary_use`, `has_secondary_use_agriculture`, `has_secondary_use_hotel`, `has_secondary_use_rental`, `has_secondary_use_institution`, `has_secondary_use_school`, `has_secondary_use_industry`, `has_secondary_use_health_post`, `has_secondary_use_gov_office`, `has_secondary_use_use_police`, `has_secondary_use_other`\n",
        "\n",
        "Todas tienen valores \\[0, 1\\] $\\Longrightarrow$ bool"
      ]
    },
    {
      "cell_type": "code",
      "metadata": {
        "id": "6UQ__Uh1qXGl"
      },
      "source": [
        "df['has_superstructure_adobe_mud'] = df['has_superstructure_adobe_mud'].astype('bool')\n",
        "df['has_superstructure_mud_mortar_stone'] = df['has_superstructure_mud_mortar_stone'].astype('bool')\n",
        "df['has_superstructure_stone_flag'] = df['has_superstructure_stone_flag'].astype('bool')\n",
        "df['has_superstructure_cement_mortar_stone'] = df['has_superstructure_cement_mortar_stone'].astype('bool')\n",
        "df['has_superstructure_mud_mortar_brick'] = df['has_superstructure_mud_mortar_brick'].astype('bool')\n",
        "df['has_superstructure_cement_mortar_brick'] = df['has_superstructure_cement_mortar_brick'].astype('bool')\n",
        "df['has_superstructure_timber'] = df['has_superstructure_timber'].astype('bool')\n",
        "df['has_superstructure_bamboo'] = df['has_superstructure_bamboo'].astype('bool')\n",
        "df['has_superstructure_rc_non_engineered'] = df['has_superstructure_rc_non_engineered'].astype('bool')\n",
        "df['has_superstructure_rc_engineered'] = df['has_superstructure_rc_engineered'].astype('bool')\n",
        "df['has_superstructure_other'] = df['has_superstructure_other'].astype('bool')\n",
        "df['has_secondary_use'] = df['has_secondary_use'].astype('bool')\n",
        "df['has_secondary_use_agriculture'] = df['has_secondary_use_agriculture'].astype('bool')\n",
        "df['has_secondary_use_hotel'] = df['has_secondary_use_hotel'].astype('bool')\n",
        "df['has_secondary_use_rental'] = df['has_secondary_use_rental'].astype('bool')\n",
        "df['has_secondary_use_institution'] = df['has_secondary_use_institution'].astype('bool')\n",
        "df['has_secondary_use_school'] = df['has_secondary_use_school'].astype('bool')\n",
        "df['has_secondary_use_industry'] = df['has_secondary_use_industry'].astype('bool')\n",
        "df['has_secondary_use_health_post'] = df['has_secondary_use_health_post'].astype('bool')\n",
        "df['has_secondary_use_gov_office'] = df['has_secondary_use_gov_office'].astype('bool')\n",
        "df['has_secondary_use_use_police'] = df['has_secondary_use_use_police'].astype('bool')\n",
        "df['has_secondary_use_other'] = df['has_secondary_use_other'].astype('bool')"
      ],
      "execution_count": 10,
      "outputs": []
    },
    {
      "cell_type": "code",
      "metadata": {
        "colab": {
          "base_uri": "https://localhost:8080/"
        },
        "id": "HxJoVd5xqo-o",
        "outputId": "bd1718fd-6cd2-46ad-f5a8-4a80ca6ddd29"
      },
      "source": [
        "memoria = df.memory_usage(deep=True).sum()/(2**20)\n",
        "print('Se usan', np.round(memoria, 2), 'MiB')"
      ],
      "execution_count": 11,
      "outputs": [
        {
          "output_type": "stream",
          "text": [
            "Se usan 124.51 MiB\n"
          ],
          "name": "stdout"
        }
      ]
    },
    {
      "cell_type": "markdown",
      "metadata": {
        "id": "-6tBWY3Lk5aq"
      },
      "source": [
        "### Columnas Categóricas\n",
        "\n",
        "`land_surface_condition`, `foundation_type`, `roof_type`, `ground_floor_type`, `other_floor_type`, `position`, `plan_configuration`, `legal_ownership_status`"
      ]
    },
    {
      "cell_type": "code",
      "metadata": {
        "id": "7T2SSgPYkh4h"
      },
      "source": [
        "df['land_surface_condition'] = df['land_surface_condition'].astype('category')\n",
        "df['foundation_type'] = df['foundation_type'].astype('category')\n",
        "df['roof_type'] = df['roof_type'].astype('category')\n",
        "df['ground_floor_type'] = df['ground_floor_type'].astype('category')\n",
        "df['other_floor_type'] = df['other_floor_type'].astype('category')\n",
        "df['position'] = df['position'].astype('category')\n",
        "df['plan_configuration'] = df['plan_configuration'].astype('category')\n",
        "df['legal_ownership_status'] = df['legal_ownership_status'].astype('category')"
      ],
      "execution_count": 12,
      "outputs": []
    },
    {
      "cell_type": "code",
      "metadata": {
        "colab": {
          "base_uri": "https://localhost:8080/"
        },
        "id": "pGdhfST5sTSE",
        "outputId": "969b9200-da9e-4ad8-d09f-93d557ae8221"
      },
      "source": [
        "memoria = df.memory_usage(deep=True).sum()/(2**20)\n",
        "print('Se usan', np.round(memoria, 2), 'MiB')"
      ],
      "execution_count": 13,
      "outputs": [
        {
          "output_type": "stream",
          "text": [
            "Se usan 11.19 MiB\n"
          ],
          "name": "stdout"
        }
      ]
    },
    {
      "cell_type": "markdown",
      "metadata": {
        "id": "xQdZmWB7snD6"
      },
      "source": [
        "# **[NO NECESARIO]** (Mapa)"
      ]
    },
    {
      "cell_type": "code",
      "metadata": {
        "id": "jnU-kuMSRkB2"
      },
      "source": [
        "# Paquete para manejo de mapas\n",
        "!pip install geopandas\n",
        "# Para leer shape files con el paque 'shapefile' (contienen geometría de mapas)\n",
        "!pip install pyshp"
      ],
      "execution_count": null,
      "outputs": []
    },
    {
      "cell_type": "code",
      "metadata": {
        "id": "NqTSaJ1IZ0Ct"
      },
      "source": [
        "import geopandas as gpd\n",
        "import shapefile as shp"
      ],
      "execution_count": null,
      "outputs": []
    },
    {
      "cell_type": "markdown",
      "metadata": {
        "id": "ZYmHDr_avvZQ"
      },
      "source": [
        "## Mapa de Nepal"
      ]
    },
    {
      "cell_type": "markdown",
      "metadata": {
        "id": "nFtKpcbyxG6k"
      },
      "source": [
        "Se lee el archivo .shp con `shapefile`. Se requieren los archivos que acompañan al .shp."
      ]
    },
    {
      "cell_type": "code",
      "metadata": {
        "id": "dQMy-lgXvRR-"
      },
      "source": [
        "sf_Nepal = shp.Reader('/content/gdrive/My Drive/75.06 - Organización de Datos/TP1/map_Nepal/np.shp')"
      ],
      "execution_count": null,
      "outputs": []
    },
    {
      "cell_type": "code",
      "metadata": {
        "id": "No788gC4xfvD"
      },
      "source": [
        "# Identificación de campos (~ futuro índice de columnas)\n",
        "sf_Nepal.fields"
      ],
      "execution_count": null,
      "outputs": []
    },
    {
      "cell_type": "code",
      "metadata": {
        "id": "fd-CHrULx00n"
      },
      "source": [
        "# Datos de los campos anteriores\n",
        "sf_Nepal.records()"
      ],
      "execution_count": null,
      "outputs": []
    },
    {
      "cell_type": "code",
      "metadata": {
        "id": "yT_6gl03x-O2"
      },
      "source": [
        "# Puntos de coordenadas para los bordes de los estados.\n",
        "sf_Nepal.shape(1).points"
      ],
      "execution_count": null,
      "outputs": []
    },
    {
      "cell_type": "markdown",
      "metadata": {
        "id": "KcsEuGxMzTpw"
      },
      "source": [
        "Se lee el archivo .shp con geopandas."
      ]
    },
    {
      "cell_type": "code",
      "metadata": {
        "id": "koujNEESzZ_8"
      },
      "source": [
        "map_df = gpd.read_file('/content/gdrive/My Drive/75.06 - Organización de Datos/TP1/map_Nepal/np.shp')"
      ],
      "execution_count": null,
      "outputs": []
    },
    {
      "cell_type": "code",
      "metadata": {
        "id": "shat8znKzzbA"
      },
      "source": [
        "type(map_df)"
      ],
      "execution_count": null,
      "outputs": []
    },
    {
      "cell_type": "code",
      "metadata": {
        "id": "u0au-LiyzmFo"
      },
      "source": [
        "map_df.sample(2, random_state=42)"
      ],
      "execution_count": null,
      "outputs": []
    },
    {
      "cell_type": "code",
      "metadata": {
        "id": "3_vcyA000Df0"
      },
      "source": [
        "map_df.plot(figsize=(5,5), color='green')\n",
        "\n",
        "plt.show()"
      ],
      "execution_count": null,
      "outputs": []
    },
    {
      "cell_type": "markdown",
      "metadata": {
        "id": "FJ-vQbsCtzAL"
      },
      "source": [
        "# Análisis train_labels.csv"
      ]
    },
    {
      "cell_type": "code",
      "metadata": {
        "id": "CJVDKTyet3Xz"
      },
      "source": [
        "df_labels = pd.read_csv(dir_labels)"
      ],
      "execution_count": 14,
      "outputs": []
    },
    {
      "cell_type": "code",
      "metadata": {
        "colab": {
          "base_uri": "https://localhost:8080/",
          "height": 112
        },
        "id": "eMzE7G3nvlwS",
        "outputId": "42e66fd9-8ff0-4455-eff5-7fc3353b5bb4"
      },
      "source": [
        "df_labels.describe().loc[['min', 'max'], 'damage_grade'].to_frame()"
      ],
      "execution_count": 15,
      "outputs": [
        {
          "output_type": "execute_result",
          "data": {
            "text/html": [
              "<div>\n",
              "<style scoped>\n",
              "    .dataframe tbody tr th:only-of-type {\n",
              "        vertical-align: middle;\n",
              "    }\n",
              "\n",
              "    .dataframe tbody tr th {\n",
              "        vertical-align: top;\n",
              "    }\n",
              "\n",
              "    .dataframe thead th {\n",
              "        text-align: right;\n",
              "    }\n",
              "</style>\n",
              "<table border=\"1\" class=\"dataframe\">\n",
              "  <thead>\n",
              "    <tr style=\"text-align: right;\">\n",
              "      <th></th>\n",
              "      <th>damage_grade</th>\n",
              "    </tr>\n",
              "  </thead>\n",
              "  <tbody>\n",
              "    <tr>\n",
              "      <th>min</th>\n",
              "      <td>1.0</td>\n",
              "    </tr>\n",
              "    <tr>\n",
              "      <th>max</th>\n",
              "      <td>3.0</td>\n",
              "    </tr>\n",
              "  </tbody>\n",
              "</table>\n",
              "</div>"
            ],
            "text/plain": [
              "     damage_grade\n",
              "min           1.0\n",
              "max           3.0"
            ]
          },
          "metadata": {
            "tags": []
          },
          "execution_count": 15
        }
      ]
    },
    {
      "cell_type": "code",
      "metadata": {
        "colab": {
          "base_uri": "https://localhost:8080/"
        },
        "id": "maiYj6iZvJHO",
        "outputId": "30dd8f01-60f8-472c-9874-6dff40d16fe5"
      },
      "source": [
        "memoria = df_labels.memory_usage(deep=True).sum()/(2**20)\n",
        "print('Se usan', np.round(memoria, 2), 'MiB')"
      ],
      "execution_count": 16,
      "outputs": [
        {
          "output_type": "stream",
          "text": [
            "Se usan 3.98 MiB\n"
          ],
          "name": "stdout"
        }
      ]
    },
    {
      "cell_type": "code",
      "metadata": {
        "id": "naqK0Nn5wVqY"
      },
      "source": [
        "df_labels['damage_grade'] = df_labels['damage_grade'].astype('int8')"
      ],
      "execution_count": 17,
      "outputs": []
    },
    {
      "cell_type": "code",
      "metadata": {
        "colab": {
          "base_uri": "https://localhost:8080/"
        },
        "id": "ZfzRdCJkwloo",
        "outputId": "f737e4b2-98de-4347-d6ab-3b78f606b524"
      },
      "source": [
        "memoria = df_labels.memory_usage(deep=True).sum()/(2**20)\n",
        "print('Se usan', np.round(memoria, 2), 'MiB')"
      ],
      "execution_count": 18,
      "outputs": [
        {
          "output_type": "stream",
          "text": [
            "Se usan 2.24 MiB\n"
          ],
          "name": "stdout"
        }
      ]
    },
    {
      "cell_type": "code",
      "metadata": {
        "id": "lcq0LVPjvWMI"
      },
      "source": [
        "df = df.merge(df_labels, on='building_id', how='inner')"
      ],
      "execution_count": 19,
      "outputs": []
    },
    {
      "cell_type": "code",
      "metadata": {
        "colab": {
          "base_uri": "https://localhost:8080/"
        },
        "id": "rKKBFapxxEzr",
        "outputId": "3256e183-9e19-4f4e-aaf9-ae6b44059971"
      },
      "source": [
        "df.info()"
      ],
      "execution_count": 20,
      "outputs": [
        {
          "output_type": "stream",
          "text": [
            "<class 'pandas.core.frame.DataFrame'>\n",
            "Int64Index: 260601 entries, 0 to 260600\n",
            "Data columns (total 40 columns):\n",
            " #   Column                                  Non-Null Count   Dtype   \n",
            "---  ------                                  --------------   -----   \n",
            " 0   building_id                             260601 non-null  int32   \n",
            " 1   geo_level_1_id                          260601 non-null  int8    \n",
            " 2   geo_level_2_id                          260601 non-null  int16   \n",
            " 3   geo_level_3_id                          260601 non-null  int16   \n",
            " 4   count_floors_pre_eq                     260601 non-null  int8    \n",
            " 5   age                                     260601 non-null  int16   \n",
            " 6   area_percentage                         260601 non-null  int8    \n",
            " 7   height_percentage                       260601 non-null  int8    \n",
            " 8   land_surface_condition                  260601 non-null  category\n",
            " 9   foundation_type                         260601 non-null  category\n",
            " 10  roof_type                               260601 non-null  category\n",
            " 11  ground_floor_type                       260601 non-null  category\n",
            " 12  other_floor_type                        260601 non-null  category\n",
            " 13  position                                260601 non-null  category\n",
            " 14  plan_configuration                      260601 non-null  category\n",
            " 15  has_superstructure_adobe_mud            260601 non-null  bool    \n",
            " 16  has_superstructure_mud_mortar_stone     260601 non-null  bool    \n",
            " 17  has_superstructure_stone_flag           260601 non-null  bool    \n",
            " 18  has_superstructure_cement_mortar_stone  260601 non-null  bool    \n",
            " 19  has_superstructure_mud_mortar_brick     260601 non-null  bool    \n",
            " 20  has_superstructure_cement_mortar_brick  260601 non-null  bool    \n",
            " 21  has_superstructure_timber               260601 non-null  bool    \n",
            " 22  has_superstructure_bamboo               260601 non-null  bool    \n",
            " 23  has_superstructure_rc_non_engineered    260601 non-null  bool    \n",
            " 24  has_superstructure_rc_engineered        260601 non-null  bool    \n",
            " 25  has_superstructure_other                260601 non-null  bool    \n",
            " 26  legal_ownership_status                  260601 non-null  category\n",
            " 27  count_families                          260601 non-null  int8    \n",
            " 28  has_secondary_use                       260601 non-null  bool    \n",
            " 29  has_secondary_use_agriculture           260601 non-null  bool    \n",
            " 30  has_secondary_use_hotel                 260601 non-null  bool    \n",
            " 31  has_secondary_use_rental                260601 non-null  bool    \n",
            " 32  has_secondary_use_institution           260601 non-null  bool    \n",
            " 33  has_secondary_use_school                260601 non-null  bool    \n",
            " 34  has_secondary_use_industry              260601 non-null  bool    \n",
            " 35  has_secondary_use_health_post           260601 non-null  bool    \n",
            " 36  has_secondary_use_gov_office            260601 non-null  bool    \n",
            " 37  has_secondary_use_use_police            260601 non-null  bool    \n",
            " 38  has_secondary_use_other                 260601 non-null  bool    \n",
            " 39  damage_grade                            260601 non-null  int8    \n",
            "dtypes: bool(22), category(8), int16(3), int32(1), int8(6)\n",
            "memory usage: 13.4 MB\n"
          ],
          "name": "stdout"
        }
      ]
    },
    {
      "cell_type": "markdown",
      "metadata": {
        "id": "MNi9maBFwrya"
      },
      "source": [
        "Las filas mantienen el mismo número, 260601, por lo que los `building_id` tenían su correpondiente fila de labels."
      ]
    },
    {
      "cell_type": "markdown",
      "metadata": {
        "id": "W3EiMwGU2WWB"
      },
      "source": [
        "# Análisis de grado de daños por cantidad de pisos"
      ]
    },
    {
      "cell_type": "code",
      "metadata": {
        "colab": {
          "base_uri": "https://localhost:8080/",
          "height": 540
        },
        "id": "sVrw-FFLzZ-8",
        "outputId": "bf2dd8cd-67d0-4929-88e5-40f940ac97b9"
      },
      "source": [
        "fig,ax = plt.subplots(figsize=(15,8))\n",
        "pisos = df\\\n",
        "  .groupby('count_floors_pre_eq').agg({'damage_grade':'count'}).reset_index()\\\n",
        "  .rename(columns={'damage_grade':'quantity'})['count_floors_pre_eq']\n",
        "cantidad = df\\\n",
        "  .groupby('count_floors_pre_eq').agg({'damage_grade':'count'}).reset_index()\\\n",
        "  .rename(columns={'damage_grade':'quantity'})['quantity']\n",
        "\n",
        "plot = ax.barh(y=pisos, width=cantidad, color='coral')\n",
        "\n",
        "title='''Cantidad de edificaciones dañadas según número de pisos'''\n",
        "plt.title(label=title, fontsize=25)\n",
        "plt.xlabel('Cantidad de edificaciones dañadas [miles]', fontsize=20)\n",
        "plt.ylabel('Número de pisos', fontsize=20)\n",
        "plt.xticks(np.arange(0, 160001, step=10000), fontsize=17)\n",
        "plt.yticks(np.arange(1, 10, step=1), fontsize=17)\n",
        "\n",
        "# Función para elegir unidades de miles millón\n",
        "def mil(x, pos):\n",
        "  return '{:,.0f}'.format(x*1e-3)\n",
        "\n",
        "plt.gca().xaxis.set_major_formatter(FuncFormatter(mil))\n",
        "plt.grid(axis='x', linewidth=2, color='lightgray')\n",
        "ax.set_axisbelow(True)\n",
        "\n",
        "#plt.show()"
      ],
      "execution_count": null,
      "outputs": [
        {
          "output_type": "display_data",
          "data": {
            "image/png": "[encoded data removed]",
            "text/plain": [
              "<Figure size 1080x576 with 1 Axes>"
            ]
          },
          "metadata": {
            "tags": [],
            "needs_background": "light"
          }
        }
      ]
    },
    {
      "cell_type": "markdown",
      "metadata": {
        "id": "DBo95Hq78Cd7"
      },
      "source": [
        "# Mapas de calor: Cantidad de edificaciones con daños (low, medium, high) para los distintos geo_level_x_id"
      ]
    },
    {
      "cell_type": "code",
      "metadata": {
        "id": "PQiL6-fCThdB"
      },
      "source": [
        "# Se hace una copia al crear el nuevo DataFrame\n",
        "columnas = ['geo_level_1_id', 'geo_level_2_id', 'geo_level_3_id', 'damage_grade'] \n",
        "df_geo_levels_damage = df\\\n",
        "  .loc[:, columnas]\\\n",
        "  .set_index('damage_grade').copy()"
      ],
      "execution_count": null,
      "outputs": []
    },
    {
      "cell_type": "code",
      "metadata": {
        "id": "AcQGGjCLp27B"
      },
      "source": [
        "# Creación de Dataframe para bins por geo_level_x_id\n",
        "\n",
        "df_geo_levels_damage = pd.DataFrame()\n",
        "\n",
        "bins = np.arange(0, 31, step=2)\n",
        "df_geo_levels_damage['geo_level_1_id_binned'] = pd.cut(df['geo_level_1_id'], bins)\n",
        "\n",
        "bins = np.arange(0, 1441, step=96)\n",
        "df_geo_levels_damage['geo_level_2_id_binned'] = pd.cut(df['geo_level_2_id'], bins)\n",
        "\n",
        "bins = np.arange(0, 12571, step=838)\n",
        "df_geo_levels_damage['geo_level_3_id_binned'] = pd.cut(df['geo_level_3_id'], bins)\n",
        "\n",
        "df_geo_levels_damage['damage_grade'] = df['damage_grade']"
      ],
      "execution_count": null,
      "outputs": []
    },
    {
      "cell_type": "code",
      "metadata": {
        "colab": {
          "base_uri": "https://localhost:8080/",
          "height": 143
        },
        "id": "LczCqrmUeL3N",
        "outputId": "89f035a2-00f7-4031-94e1-5f9b415b3f43"
      },
      "source": [
        "df_geo_levels_damage.head(3)"
      ],
      "execution_count": null,
      "outputs": [
        {
          "output_type": "execute_result",
          "data": {
            "text/html": [
              "<div>\n",
              "<style scoped>\n",
              "    .dataframe tbody tr th:only-of-type {\n",
              "        vertical-align: middle;\n",
              "    }\n",
              "\n",
              "    .dataframe tbody tr th {\n",
              "        vertical-align: top;\n",
              "    }\n",
              "\n",
              "    .dataframe thead th {\n",
              "        text-align: right;\n",
              "    }\n",
              "</style>\n",
              "<table border=\"1\" class=\"dataframe\">\n",
              "  <thead>\n",
              "    <tr style=\"text-align: right;\">\n",
              "      <th></th>\n",
              "      <th>geo_level_1_id_binned</th>\n",
              "      <th>geo_level_2_id_binned</th>\n",
              "      <th>geo_level_3_id_binned</th>\n",
              "      <th>damage_grade</th>\n",
              "    </tr>\n",
              "  </thead>\n",
              "  <tbody>\n",
              "    <tr>\n",
              "      <th>0</th>\n",
              "      <td>(4, 6]</td>\n",
              "      <td>(480, 576]</td>\n",
              "      <td>(11732, 12570]</td>\n",
              "      <td>3</td>\n",
              "    </tr>\n",
              "    <tr>\n",
              "      <th>1</th>\n",
              "      <td>(6, 8]</td>\n",
              "      <td>(864, 960]</td>\n",
              "      <td>(2514, 3352]</td>\n",
              "      <td>2</td>\n",
              "    </tr>\n",
              "    <tr>\n",
              "      <th>2</th>\n",
              "      <td>(20, 22]</td>\n",
              "      <td>(288, 384]</td>\n",
              "      <td>(8380, 9218]</td>\n",
              "      <td>3</td>\n",
              "    </tr>\n",
              "  </tbody>\n",
              "</table>\n",
              "</div>"
            ],
            "text/plain": [
              "  geo_level_1_id_binned  ... damage_grade\n",
              "0                (4, 6]  ...            3\n",
              "1                (6, 8]  ...            2\n",
              "2              (20, 22]  ...            3\n",
              "\n",
              "[3 rows x 4 columns]"
            ]
          },
          "metadata": {
            "tags": []
          },
          "execution_count": 24
        }
      ]
    },
    {
      "cell_type": "markdown",
      "metadata": {
        "id": "D0kiZBFBoa5a"
      },
      "source": [
        "Con este nuevo DataFrame se va a calcular las cantidades necesarias."
      ]
    },
    {
      "cell_type": "code",
      "metadata": {
        "colab": {
          "base_uri": "https://localhost:8080/"
        },
        "id": "WGuL_-7gnaVF",
        "outputId": "5fefbeac-e429-4b3b-fadd-78190320567b"
      },
      "source": [
        "df_geo_levels_damage['damage_grade'].value_counts()"
      ],
      "execution_count": null,
      "outputs": [
        {
          "output_type": "execute_result",
          "data": {
            "text/plain": [
              "2    148259\n",
              "3     87218\n",
              "1     25124\n",
              "Name: damage_grade, dtype: int64"
            ]
          },
          "metadata": {
            "tags": []
          },
          "execution_count": 25
        }
      ]
    },
    {
      "cell_type": "markdown",
      "metadata": {
        "id": "POON_qvbniqU"
      },
      "source": [
        "Según el registro de daños, por cantidad, primero se tienen edificaciones con daños medios, luego con daños graves y finalmente con daños leves."
      ]
    },
    {
      "cell_type": "markdown",
      "metadata": {
        "id": "d8N2swiK8Vbb"
      },
      "source": [
        "## Cantidad de edificaciones con daños (low, medium, high) para `geo_level_1_id`"
      ]
    },
    {
      "cell_type": "code",
      "metadata": {
        "id": "f4VFxSlRnG8t"
      },
      "source": [
        "# Cantidad de edificaciones dañadas para geo_level_id_1 contadas por nivel de daño\n",
        "df_geo_damage_geo_1 = df_geo_levels_damage\\\n",
        "  .loc[df_geo_levels_damage['damage_grade'] == 1, 'geo_level_1_id_binned']\\\n",
        "  .value_counts().to_frame()\\\n",
        "  .reset_index()\\\n",
        "  .rename(columns={'index':'geo_level_1_id', 'geo_level_1_id_binned':'cant_low_dmg'})\\\n",
        "  .sort_values(by='geo_level_1_id', ascending=False)\n",
        "\n",
        "df_aux = df_geo_levels_damage\\\n",
        "  .loc[df_geo_levels_damage['damage_grade'] == 2, 'geo_level_1_id_binned']\\\n",
        "  .value_counts().to_frame()\\\n",
        "  .reset_index()\\\n",
        "  .rename(columns={'index':'geo_level_1_id', 'geo_level_1_id_binned':'cant_med_dmg'})\\\n",
        "  .sort_values(by='geo_level_1_id', ascending=False)\n",
        "\n",
        "df_geo_damage_geo_1 = df_geo_damage_geo_1.merge(df_aux, on='geo_level_1_id', how='outer')\n",
        "\n",
        "df_aux = df_geo_levels_damage\\\n",
        "  .loc[df_geo_levels_damage['damage_grade'] == 3, 'geo_level_1_id_binned']\\\n",
        "  .value_counts().to_frame()\\\n",
        "  .reset_index()\\\n",
        "  .rename(columns={'index':'geo_level_1_id', 'geo_level_1_id_binned':'cant_hig_dmg'})\\\n",
        "  .sort_values(by='geo_level_1_id', ascending=False)\n",
        "\n",
        "df_geo_damage_geo_1 = df_geo_damage_geo_1.merge(df_aux, on='geo_level_1_id', how='outer')\n",
        "df_geo_damage_geo_1.set_index('geo_level_1_id', inplace=True)"
      ],
      "execution_count": null,
      "outputs": []
    },
    {
      "cell_type": "code",
      "metadata": {
        "colab": {
          "base_uri": "https://localhost:8080/"
        },
        "id": "FWyHTn2OB5n2",
        "outputId": "6388135a-36c7-49e2-a4a9-2f823cc4cd9e"
      },
      "source": [
        "# Cantidad total de edificaciones de geo_level_1_id que registran algún daño \n",
        "df_geo_damage_geo_1.sum()"
      ],
      "execution_count": null,
      "outputs": [
        {
          "output_type": "execute_result",
          "data": {
            "text/plain": [
              "cant_low_dmg     24787\n",
              "cant_med_dmg    145184\n",
              "cant_hig_dmg     86619\n",
              "dtype: int64"
            ]
          },
          "metadata": {
            "tags": []
          },
          "execution_count": 27
        }
      ]
    },
    {
      "cell_type": "code",
      "metadata": {
        "id": "Y2pZW1P6Vidr",
        "colab": {
          "base_uri": "https://localhost:8080/",
          "height": 540
        },
        "outputId": "f734e72d-7f67-43c0-b378-ea9c2aaf74e3"
      },
      "source": [
        "plt.figure(figsize=(15,8))\n",
        "plot = sns.heatmap(df_geo_damage_geo_1, cmap='Reds', \\\n",
        "                   cbar_kws={'label': 'Cantidad'}, \\\n",
        "                   xticklabels=['Bajo', 'Medio', 'Alto'])\n",
        "\n",
        "title='''ID Geográfico de Nivel 1: Edificaciones con daños'''\n",
        "plt.title(label=title, fontsize=25)\n",
        "plt.xlabel('Nivel de daño', fontsize=20)\n",
        "plt.ylabel('Rango de identificador', fontsize=20)\n",
        "plt.yticks(fontsize=17)\n",
        "plt.xticks(fontsize=17)\n",
        "# Tamaño de fuente del rótulo de la barra de colores\n",
        "plot.figure.axes[-1].yaxis.label.set_size(20)\n",
        "plt.show()"
      ],
      "execution_count": null,
      "outputs": [
        {
          "output_type": "display_data",
          "data": {
            "image/png": "[encoded data removed]",
            "text/plain": [
              "<Figure size 1080x576 with 2 Axes>"
            ]
          },
          "metadata": {
            "tags": [],
            "needs_background": "light"
          }
        }
      ]
    },
    {
      "cell_type": "markdown",
      "metadata": {
        "id": "uBKT5ZzH8iKj"
      },
      "source": [
        "### Notables"
      ]
    },
    {
      "cell_type": "code",
      "metadata": {
        "colab": {
          "base_uri": "https://localhost:8080/"
        },
        "id": "lcOwcbN78rHl",
        "outputId": "d8c91d8d-a8bc-4138-da62-53708210ce0b"
      },
      "source": [
        "df_geo_damage_geo_1['cant_low_dmg'].nlargest(1)"
      ],
      "execution_count": null,
      "outputs": [
        {
          "output_type": "execute_result",
          "data": {
            "text/plain": [
              "geo_level_1_id\n",
              "(24, 26]    8496\n",
              "Name: cant_low_dmg, dtype: int64"
            ]
          },
          "metadata": {
            "tags": []
          },
          "execution_count": 29
        }
      ]
    },
    {
      "cell_type": "code",
      "metadata": {
        "colab": {
          "base_uri": "https://localhost:8080/"
        },
        "id": "gkVpb1jY-9jY",
        "outputId": "c555e878-752b-4f5d-8d71-70ef5abedecb"
      },
      "source": [
        "df_geo_damage_geo_1['cant_med_dmg'].nlargest(5)"
      ],
      "execution_count": null,
      "outputs": [
        {
          "output_type": "execute_result",
          "data": {
            "text/plain": [
              "geo_level_1_id\n",
              "(6, 8]      19786\n",
              "(4, 6]      18236\n",
              "(24, 26]    17029\n",
              "(2, 4]      15714\n",
              "(8, 10]     14840\n",
              "Name: cant_med_dmg, dtype: int64"
            ]
          },
          "metadata": {
            "tags": []
          },
          "execution_count": 30
        }
      ]
    },
    {
      "cell_type": "code",
      "metadata": {
        "colab": {
          "base_uri": "https://localhost:8080/"
        },
        "id": "sUBenzNt_w8o",
        "outputId": "680273c6-b616-47fa-9433-70c27ae89d52"
      },
      "source": [
        "df_geo_damage_geo_1['cant_hig_dmg'].nlargest(2)"
      ],
      "execution_count": null,
      "outputs": [
        {
          "output_type": "execute_result",
          "data": {
            "text/plain": [
              "geo_level_1_id\n",
              "(16, 18]    19946\n",
              "(6, 8]      16601\n",
              "Name: cant_hig_dmg, dtype: int64"
            ]
          },
          "metadata": {
            "tags": []
          },
          "execution_count": 31
        }
      ]
    },
    {
      "cell_type": "markdown",
      "metadata": {
        "id": "MZc5YqsE_PWY"
      },
      "source": [
        "## Cantidad de edificaciones con daños (low, medium, high) para `geo_level_2_id`"
      ]
    },
    {
      "cell_type": "code",
      "metadata": {
        "id": "pKuikiCj88K1"
      },
      "source": [
        "# Cantidad de edificaciones dañadas para geolevel_id_2 contadas por nivel de daño\n",
        "df_geo_damage_geo_2 = df_geo_levels_damage\\\n",
        "  .loc[df_geo_levels_damage['damage_grade'] == 1, 'geo_level_2_id_binned']\\\n",
        "  .value_counts().to_frame()\\\n",
        "  .reset_index()\\\n",
        "  .rename(columns={'index':'geo_level_2_id', 'geo_level_2_id_binned':'cant_low_dmg'})\\\n",
        "  .sort_values(by='geo_level_2_id', ascending=False)\n",
        "\n",
        "df_aux = df_geo_levels_damage\\\n",
        "  .loc[df_geo_levels_damage['damage_grade'] == 2, 'geo_level_2_id_binned']\\\n",
        "  .value_counts().to_frame()\\\n",
        "  .reset_index()\\\n",
        "  .rename(columns={'index':'geo_level_2_id', 'geo_level_2_id_binned':'cant_med_dmg'})\\\n",
        "  .sort_values(by='geo_level_2_id', ascending=False)\n",
        "\n",
        "df_geo_damage_geo_2 = df_geo_damage_geo_2.merge(df_aux, on='geo_level_2_id', how='outer')\n",
        "\n",
        "df_aux = df_geo_levels_damage\\\n",
        "  .loc[df_geo_levels_damage['damage_grade'] == 3, 'geo_level_2_id_binned']\\\n",
        "  .value_counts().to_frame()\\\n",
        "  .reset_index()\\\n",
        "  .rename(columns={'index':'geo_level_2_id', 'geo_level_2_id_binned':'cant_hig_dmg'})\\\n",
        "  .sort_values(by='geo_level_2_id', ascending=False)\n",
        "\n",
        "df_geo_damage_geo_2 = df_geo_damage_geo_2.merge(df_aux, on='geo_level_2_id', how='outer')\n",
        "df_geo_damage_geo_2.set_index('geo_level_2_id', inplace=True)"
      ],
      "execution_count": null,
      "outputs": []
    },
    {
      "cell_type": "code",
      "metadata": {
        "colab": {
          "base_uri": "https://localhost:8080/"
        },
        "id": "U4eUkqLsCXFg",
        "outputId": "a9fbed0c-a198-4c5f-8fe8-134f54d978c3"
      },
      "source": [
        "# Cantidad total de edificaciones de geo_level_2_id que registran algún daño \n",
        "df_geo_damage_geo_2.sum()"
      ],
      "execution_count": null,
      "outputs": [
        {
          "output_type": "execute_result",
          "data": {
            "text/plain": [
              "cant_low_dmg     25124\n",
              "cant_med_dmg    148250\n",
              "cant_hig_dmg     87189\n",
              "dtype: int64"
            ]
          },
          "metadata": {
            "tags": []
          },
          "execution_count": 33
        }
      ]
    },
    {
      "cell_type": "code",
      "metadata": {
        "colab": {
          "base_uri": "https://localhost:8080/",
          "height": 540
        },
        "id": "rGcoHPiS9_dn",
        "outputId": "0d8519cb-5617-489b-bca9-0abb4a364a43"
      },
      "source": [
        "plt.figure(figsize=(15,8))\n",
        "plot = sns.heatmap(df_geo_damage_geo_2, cmap='Reds', \\\n",
        "                   cbar_kws={'label': 'Cantidad'}, \\\n",
        "                   xticklabels=['Bajo', 'Medio', 'Alto'])\n",
        "\n",
        "title='''ID Geográfico de Nivel 2: Edificaciones con daños'''\n",
        "plt.title(label=title, fontsize=25)\n",
        "plt.xlabel('Nivel de daño', fontsize=20)\n",
        "plt.ylabel('Rango de identificador', fontsize=20)\n",
        "plt.yticks(fontsize=17)\n",
        "plt.xticks(fontsize=17)\n",
        "# Tamaño de fuente del rótulo de la barra de colores\n",
        "plot.figure.axes[-1].yaxis.label.set_size(20)\n",
        "plt.show()"
      ],
      "execution_count": null,
      "outputs": [
        {
          "output_type": "display_data",
          "data": {
            "image/png": "[encoded data removed]",
            "text/plain": [
              "<Figure size 1080x576 with 2 Axes>"
            ]
          },
          "metadata": {
            "tags": [],
            "needs_background": "light"
          }
        }
      ]
    },
    {
      "cell_type": "code",
      "metadata": {
        "colab": {
          "base_uri": "https://localhost:8080/"
        },
        "id": "3ZBLUPPdGOfg",
        "outputId": "5107c5b4-49f9-416c-a5ce-47565967bd75"
      },
      "source": [
        "df_geo_damage_geo_2['cant_low_dmg'].nsmallest(3)"
      ],
      "execution_count": null,
      "outputs": [
        {
          "output_type": "execute_result",
          "data": {
            "text/plain": [
              "geo_level_2_id\n",
              "(768, 864]       952\n",
              "(1152, 1248]     965\n",
              "(576, 672]      1123\n",
              "Name: cant_low_dmg, dtype: int64"
            ]
          },
          "metadata": {
            "tags": []
          },
          "execution_count": 35
        }
      ]
    },
    {
      "cell_type": "code",
      "metadata": {
        "colab": {
          "base_uri": "https://localhost:8080/"
        },
        "id": "90duQgyhGjLY",
        "outputId": "d525dddf-07be-4524-a42d-92a5f2f31117"
      },
      "source": [
        "df_geo_damage_geo_2.sum(axis=1).sort_values()"
      ],
      "execution_count": null,
      "outputs": [
        {
          "output_type": "execute_result",
          "data": {
            "text/plain": [
              "geo_level_2_id\n",
              "(1248, 1344]    12502\n",
              "(768, 864]      14381\n",
              "(288, 384]      15263\n",
              "(576, 672]      15598\n",
              "(192, 288]      16186\n",
              "(1152, 1248]    16755\n",
              "(1056, 1152]    16935\n",
              "(1344, 1440]    16969\n",
              "(480, 576]      18045\n",
              "(0, 96]         18209\n",
              "(384, 480]      18386\n",
              "(864, 960]      18866\n",
              "(960, 1056]     19485\n",
              "(672, 768]      20236\n",
              "(96, 192]       22747\n",
              "dtype: int64"
            ]
          },
          "metadata": {
            "tags": []
          },
          "execution_count": 36
        }
      ]
    },
    {
      "cell_type": "markdown",
      "metadata": {
        "id": "yLYp2YRg_SSf"
      },
      "source": [
        "## Cantidad de edificaciones con daños (low, medium, high) para `geo_level_3_id`"
      ]
    },
    {
      "cell_type": "code",
      "metadata": {
        "id": "3YU02uMc-uhj"
      },
      "source": [
        "# Cantidad de edificaciones dañadas para geolevel_id_3 contadas por nivel de daño\n",
        "df_geo_damage_geo_3 = df_geo_levels_damage\\\n",
        "  .loc[df_geo_levels_damage['damage_grade'] == 1, 'geo_level_3_id_binned']\\\n",
        "  .value_counts().to_frame()\\\n",
        "  .reset_index()\\\n",
        "  .rename(columns={'index':'geo_level_3_id', 'geo_level_3_id_binned':'cant_low_dmg'})\\\n",
        "  .sort_values(by='geo_level_3_id', ascending=False)\n",
        "\n",
        "df_aux = df_geo_levels_damage\\\n",
        "  .loc[df_geo_levels_damage['damage_grade'] == 2, 'geo_level_3_id_binned']\\\n",
        "  .value_counts().to_frame()\\\n",
        "  .reset_index()\\\n",
        "  .rename(columns={'index':'geo_level_3_id', 'geo_level_3_id_binned':'cant_med_dmg'})\\\n",
        "  .sort_values(by='geo_level_3_id', ascending=False)\n",
        "\n",
        "df_geo_damage_geo_3 = df_geo_damage_geo_3.merge(df_aux, on='geo_level_3_id', how='outer')\n",
        "\n",
        "df_aux = df_geo_levels_damage\\\n",
        "  .loc[df_geo_levels_damage['damage_grade'] == 3, 'geo_level_3_id_binned']\\\n",
        "  .value_counts().to_frame()\\\n",
        "  .reset_index()\\\n",
        "  .rename(columns={'index':'geo_level_3_id', 'geo_level_3_id_binned':'cant_hig_dmg'})\\\n",
        "  .sort_values(by='geo_level_3_id', ascending=False)\n",
        "\n",
        "df_geo_damage_geo_3 = df_geo_damage_geo_3.merge(df_aux, on='geo_level_3_id', how='outer')\n",
        "df_geo_damage_geo_3.set_index('geo_level_3_id', inplace=True)"
      ],
      "execution_count": null,
      "outputs": []
    },
    {
      "cell_type": "code",
      "metadata": {
        "colab": {
          "base_uri": "https://localhost:8080/"
        },
        "id": "6kqyXpZpCdws",
        "outputId": "6097e0d1-6bdb-461c-8dca-fd19976e5f13"
      },
      "source": [
        "# Cantidad total de edificaciones de geo_level_3_id que registran algún daño \n",
        "df_geo_damage_geo_3.sum()"
      ],
      "execution_count": null,
      "outputs": [
        {
          "output_type": "execute_result",
          "data": {
            "text/plain": [
              "cant_low_dmg     25124\n",
              "cant_med_dmg    148259\n",
              "cant_hig_dmg     87216\n",
              "dtype: int64"
            ]
          },
          "metadata": {
            "tags": []
          },
          "execution_count": 38
        }
      ]
    },
    {
      "cell_type": "code",
      "metadata": {
        "colab": {
          "base_uri": "https://localhost:8080/",
          "height": 540
        },
        "id": "WGpN-sBK_Arp",
        "outputId": "078825a9-a7fe-43af-a0f5-fe09f2e094a7"
      },
      "source": [
        "plt.figure(figsize=(15,8))\n",
        "plot = sns.heatmap(df_geo_damage_geo_3, cmap='Reds', \\\n",
        "                   cbar_kws={'label': 'Cantidad'}, \\\n",
        "                   xticklabels=['Bajo', 'Medio', 'Alto'])\n",
        "\n",
        "title='''ID Geográfico de Nivel 3: Edificaciones con daños'''\n",
        "plt.title(label=title, fontsize=25)\n",
        "plt.xlabel('Nivel de daño', fontsize=20)\n",
        "plt.ylabel('Rango de identificador', fontsize=20)\n",
        "plt.yticks(fontsize=17)\n",
        "plt.xticks(fontsize=17)\n",
        "# Tamaño de fuente del rótulo de la barra de colores\n",
        "plot.figure.axes[-1].yaxis.label.set_size(20)\n",
        "plt.show()"
      ],
      "execution_count": null,
      "outputs": [
        {
          "output_type": "display_data",
          "data": {
            "image/png": "[encoded data removed]",
            "text/plain": [
              "<Figure size 1080x576 with 2 Axes>"
            ]
          },
          "metadata": {
            "tags": [],
            "needs_background": "light"
          }
        }
      ]
    },
    {
      "cell_type": "code",
      "metadata": {
        "colab": {
          "base_uri": "https://localhost:8080/"
        },
        "id": "BQ6ndD8kFsyS",
        "outputId": "8847057c-ecde-422e-af78-c258ab1de556"
      },
      "source": [
        "df_geo_damage_geo_3['cant_med_dmg'].nlargest(5)"
      ],
      "execution_count": null,
      "outputs": [
        {
          "output_type": "execute_result",
          "data": {
            "text/plain": [
              "geo_level_3_id\n",
              "(0, 838]          10518\n",
              "(838, 1676]       10499\n",
              "(10056, 10894]    10392\n",
              "(7542, 8380]      10118\n",
              "(2514, 3352]       9983\n",
              "Name: cant_med_dmg, dtype: int64"
            ]
          },
          "metadata": {
            "tags": []
          },
          "execution_count": 40
        }
      ]
    },
    {
      "cell_type": "markdown",
      "metadata": {
        "id": "wT5o8R1eL7VP"
      },
      "source": [
        "Ya que la distribución de casos parece tener cierta uniformidad tiene sentido analizar algunos estadísticos."
      ]
    },
    {
      "cell_type": "code",
      "metadata": {
        "colab": {
          "base_uri": "https://localhost:8080/"
        },
        "id": "WvJiKxVbHZwT",
        "outputId": "67d5e7f4-69c5-41ee-c198-4512d4310443"
      },
      "source": [
        "i=1\n",
        "for col in df_geo_damage_geo_3.columns:\n",
        "  print('Nivel Geográfico', i, ':')\n",
        "  print('\\tcant\\t', df_geo_damage_geo_3[col].sum())\n",
        "  print('\\tmedia\\t', np.round(df_geo_damage_geo_3[col].mean(), 0))\n",
        "  print('\\tmediana\\t', df_geo_damage_geo_3[col].median())\n",
        "  print('\\tdesvío\\t', np.round(df_geo_damage_geo_3[col].std(), 0))\n",
        "  i = i+1"
      ],
      "execution_count": null,
      "outputs": [
        {
          "output_type": "stream",
          "text": [
            "Nivel Geográfico 1 :\n",
            "\tcant\t 25124\n",
            "\tmedia\t 1675.0\n",
            "\tmediana\t 1665.0\n",
            "\tdesvío\t 220.0\n",
            "Nivel Geográfico 2 :\n",
            "\tcant\t 148259\n",
            "\tmedia\t 9884.0\n",
            "\tmediana\t 9799.0\n",
            "\tdesvío\t 371.0\n",
            "Nivel Geográfico 3 :\n",
            "\tcant\t 87216\n",
            "\tmedia\t 5814.0\n",
            "\tmediana\t 5802.0\n",
            "\tdesvío\t 301.0\n"
          ],
          "name": "stdout"
        }
      ]
    },
    {
      "cell_type": "markdown",
      "metadata": {
        "id": "J3EFJK9LBKxy"
      },
      "source": [
        "### Conclusión\n",
        "\n",
        "En las tres regiones geográficas se ve que la ocurrencia de poco daño es mínima comparada con los otros tipos de daño. Las edificaciones con daño medio dominan en todas las regiones, especialmente en la región geográfica de nivel 3."
      ]
    },
    {
      "cell_type": "markdown",
      "metadata": {
        "id": "LEtcpUOuwMJF"
      },
      "source": [
        "# Daños por condición de superficie"
      ]
    },
    {
      "cell_type": "markdown",
      "metadata": {
        "id": "VG6Vr_6qtO4G"
      },
      "source": [
        "## Dataframe de datos pertinentes"
      ]
    },
    {
      "cell_type": "code",
      "metadata": {
        "colab": {
          "base_uri": "https://localhost:8080/",
          "height": 143
        },
        "id": "ZisdxX8owFH3",
        "outputId": "e30ed481-3ab4-459c-ce93-9c9eb60e8c72"
      },
      "source": [
        "df_dmg_by_surf_cond = df\\\n",
        "  .loc[df['damage_grade'] == 1, 'land_surface_condition']\\\n",
        "  .value_counts().to_frame().reset_index()\\\n",
        "  .rename(columns={'index':'surf_cond', \\\n",
        "                   'land_surface_condition':'cant_low_dmg'})\n",
        "\n",
        "df_dmg_by_surf_cond"
      ],
      "execution_count": 22,
      "outputs": [
        {
          "output_type": "execute_result",
          "data": {
            "text/html": [
              "<div>\n",
              "<style scoped>\n",
              "    .dataframe tbody tr th:only-of-type {\n",
              "        vertical-align: middle;\n",
              "    }\n",
              "\n",
              "    .dataframe tbody tr th {\n",
              "        vertical-align: top;\n",
              "    }\n",
              "\n",
              "    .dataframe thead th {\n",
              "        text-align: right;\n",
              "    }\n",
              "</style>\n",
              "<table border=\"1\" class=\"dataframe\">\n",
              "  <thead>\n",
              "    <tr style=\"text-align: right;\">\n",
              "      <th></th>\n",
              "      <th>surf_cond</th>\n",
              "      <th>cant_low_dmg</th>\n",
              "    </tr>\n",
              "  </thead>\n",
              "  <tbody>\n",
              "    <tr>\n",
              "      <th>0</th>\n",
              "      <td>t</td>\n",
              "      <td>21966</td>\n",
              "    </tr>\n",
              "    <tr>\n",
              "      <th>1</th>\n",
              "      <td>n</td>\n",
              "      <td>2556</td>\n",
              "    </tr>\n",
              "    <tr>\n",
              "      <th>2</th>\n",
              "      <td>o</td>\n",
              "      <td>602</td>\n",
              "    </tr>\n",
              "  </tbody>\n",
              "</table>\n",
              "</div>"
            ],
            "text/plain": [
              "  surf_cond  cant_low_dmg\n",
              "0         t         21966\n",
              "1         n          2556\n",
              "2         o           602"
            ]
          },
          "metadata": {
            "tags": []
          },
          "execution_count": 22
        }
      ]
    },
    {
      "cell_type": "code",
      "metadata": {
        "colab": {
          "base_uri": "https://localhost:8080/",
          "height": 143
        },
        "id": "aWPHXuPC19_D",
        "outputId": "64d4a79b-75e9-41a7-f46c-7acc86e6516a"
      },
      "source": [
        "df_dmg_by_surf_cond = df_dmg_by_surf_cond\\\n",
        "  .merge(df\\\n",
        "         .loc[df['damage_grade'] == 2, 'land_surface_condition']\\\n",
        "         .value_counts().to_frame().reset_index()\\\n",
        "         .rename(columns={'index':'surf_cond', \\\n",
        "                          'land_surface_condition':'cant_med_dmg'}), \\\n",
        "         on = 'surf_cond', how='left')\n",
        "  \n",
        "df_dmg_by_surf_cond"
      ],
      "execution_count": 23,
      "outputs": [
        {
          "output_type": "execute_result",
          "data": {
            "text/html": [
              "<div>\n",
              "<style scoped>\n",
              "    .dataframe tbody tr th:only-of-type {\n",
              "        vertical-align: middle;\n",
              "    }\n",
              "\n",
              "    .dataframe tbody tr th {\n",
              "        vertical-align: top;\n",
              "    }\n",
              "\n",
              "    .dataframe thead th {\n",
              "        text-align: right;\n",
              "    }\n",
              "</style>\n",
              "<table border=\"1\" class=\"dataframe\">\n",
              "  <thead>\n",
              "    <tr style=\"text-align: right;\">\n",
              "      <th></th>\n",
              "      <th>surf_cond</th>\n",
              "      <th>cant_low_dmg</th>\n",
              "      <th>cant_med_dmg</th>\n",
              "    </tr>\n",
              "  </thead>\n",
              "  <tbody>\n",
              "    <tr>\n",
              "      <th>0</th>\n",
              "      <td>t</td>\n",
              "      <td>21966</td>\n",
              "      <td>122067</td>\n",
              "    </tr>\n",
              "    <tr>\n",
              "      <th>1</th>\n",
              "      <td>n</td>\n",
              "      <td>2556</td>\n",
              "      <td>21484</td>\n",
              "    </tr>\n",
              "    <tr>\n",
              "      <th>2</th>\n",
              "      <td>o</td>\n",
              "      <td>602</td>\n",
              "      <td>4708</td>\n",
              "    </tr>\n",
              "  </tbody>\n",
              "</table>\n",
              "</div>"
            ],
            "text/plain": [
              "  surf_cond  cant_low_dmg  cant_med_dmg\n",
              "0         t         21966        122067\n",
              "1         n          2556         21484\n",
              "2         o           602          4708"
            ]
          },
          "metadata": {
            "tags": []
          },
          "execution_count": 23
        }
      ]
    },
    {
      "cell_type": "code",
      "metadata": {
        "colab": {
          "base_uri": "https://localhost:8080/",
          "height": 143
        },
        "id": "gXMvj_Kv2BFz",
        "outputId": "d77c2683-9d42-4448-ad7d-6743d1ee5442"
      },
      "source": [
        "df_dmg_by_surf_cond = df_dmg_by_surf_cond\\\n",
        "  .merge(df\\\n",
        "         .loc[df['damage_grade'] == 3, 'land_surface_condition']\\\n",
        "         .value_counts().to_frame().reset_index()\\\n",
        "         .rename(columns={'index':'surf_cond', \\\n",
        "                          'land_surface_condition':'cant_hig_dmg'}), \\\n",
        "         on = 'surf_cond', how='left')\n",
        "  \n",
        "df_dmg_by_surf_cond"
      ],
      "execution_count": 24,
      "outputs": [
        {
          "output_type": "execute_result",
          "data": {
            "text/html": [
              "<div>\n",
              "<style scoped>\n",
              "    .dataframe tbody tr th:only-of-type {\n",
              "        vertical-align: middle;\n",
              "    }\n",
              "\n",
              "    .dataframe tbody tr th {\n",
              "        vertical-align: top;\n",
              "    }\n",
              "\n",
              "    .dataframe thead th {\n",
              "        text-align: right;\n",
              "    }\n",
              "</style>\n",
              "<table border=\"1\" class=\"dataframe\">\n",
              "  <thead>\n",
              "    <tr style=\"text-align: right;\">\n",
              "      <th></th>\n",
              "      <th>surf_cond</th>\n",
              "      <th>cant_low_dmg</th>\n",
              "      <th>cant_med_dmg</th>\n",
              "      <th>cant_hig_dmg</th>\n",
              "    </tr>\n",
              "  </thead>\n",
              "  <tbody>\n",
              "    <tr>\n",
              "      <th>0</th>\n",
              "      <td>t</td>\n",
              "      <td>21966</td>\n",
              "      <td>122067</td>\n",
              "      <td>72724</td>\n",
              "    </tr>\n",
              "    <tr>\n",
              "      <th>1</th>\n",
              "      <td>n</td>\n",
              "      <td>2556</td>\n",
              "      <td>21484</td>\n",
              "      <td>11488</td>\n",
              "    </tr>\n",
              "    <tr>\n",
              "      <th>2</th>\n",
              "      <td>o</td>\n",
              "      <td>602</td>\n",
              "      <td>4708</td>\n",
              "      <td>3006</td>\n",
              "    </tr>\n",
              "  </tbody>\n",
              "</table>\n",
              "</div>"
            ],
            "text/plain": [
              "  surf_cond  cant_low_dmg  cant_med_dmg  cant_hig_dmg\n",
              "0         t         21966        122067         72724\n",
              "1         n          2556         21484         11488\n",
              "2         o           602          4708          3006"
            ]
          },
          "metadata": {
            "tags": []
          },
          "execution_count": 24
        }
      ]
    },
    {
      "cell_type": "markdown",
      "metadata": {
        "id": "_YLSm1e8tY5U"
      },
      "source": [
        "## Plot"
      ]
    },
    {
      "cell_type": "code",
      "metadata": {
        "colab": {
          "base_uri": "https://localhost:8080/",
          "height": 541
        },
        "id": "-uNtaSS_47MX",
        "outputId": "36466d6c-6af3-411e-e6f5-3cc9b7242322"
      },
      "source": [
        "fig,ax = plt.subplots(figsize=(15,8))\n",
        "labels = df_dmg_by_surf_cond['surf_cond']\n",
        "x = np.arange(len(labels))\n",
        "width = 0.2\n",
        "\n",
        "bar1 = ax.bar(x - width, df_dmg_by_surf_cond['cant_low_dmg'], width,\\\n",
        "              label='Daño bajo', color='gold')\n",
        "bar2 = ax.bar(x , df_dmg_by_surf_cond['cant_med_dmg'], width,\\\n",
        "              label='Daño medio', color='orangered')\n",
        "bar3 = ax.bar(x + width, df_dmg_by_surf_cond['cant_hig_dmg'], width,\\\n",
        "              label='Daño alto', color='firebrick')\n",
        "\n",
        "ax.set_title('Daños según condición de superficie del terreno', fontsize=25)\n",
        "ax.set_ylabel('Cantidad', fontsize=20)\n",
        "ax.set_xlabel('Condición de superficie', fontsize=20)\n",
        "ax.set_xticks(x)\n",
        "ax.set_xticklabels(labels)\n",
        "\n",
        "plt.xticks(fontsize=17)\n",
        "plt.yticks(fontsize=17)\n",
        "plt.legend(fontsize=14)\n",
        "\n",
        "plt.grid(axis='y', linewidth=2, color='lightgray')\n",
        "ax.set_axisbelow(True)"
      ],
      "execution_count": 25,
      "outputs": [
        {
          "output_type": "display_data",
          "data": {
            "image/png": "[encoded data removed]",
            "text/plain": [
              "<Figure size 1080x576 with 1 Axes>"
            ]
          },
          "metadata": {
            "tags": [],
            "needs_background": "light"
          }
        }
      ]
    },
    {
      "cell_type": "markdown",
      "metadata": {
        "id": "SvJ4DY8FAdc4"
      },
      "source": [
        "# Daños por tipo de cimientos"
      ]
    },
    {
      "cell_type": "markdown",
      "metadata": {
        "id": "Cd-43PpGuG3l"
      },
      "source": [
        "## Dataframe de datos pertinentes"
      ]
    },
    {
      "cell_type": "code",
      "metadata": {
        "colab": {
          "base_uri": "https://localhost:8080/",
          "height": 206
        },
        "id": "2W8rydWNAjx-",
        "outputId": "e691be48-63e2-48f0-e477-03a6b5d51e53"
      },
      "source": [
        "df_dmg_by_foun_type = df\\\n",
        "  .loc[df['damage_grade'] == 1, 'foundation_type']\\\n",
        "  .value_counts().to_frame().reset_index()\\\n",
        "  .rename(columns={'index':'foun_type', \\\n",
        "                   'foundation_type':'cant_low_dmg'})\n",
        "\n",
        "df_dmg_by_foun_type"
      ],
      "execution_count": 26,
      "outputs": [
        {
          "output_type": "execute_result",
          "data": {
            "text/html": [
              "<div>\n",
              "<style scoped>\n",
              "    .dataframe tbody tr th:only-of-type {\n",
              "        vertical-align: middle;\n",
              "    }\n",
              "\n",
              "    .dataframe tbody tr th {\n",
              "        vertical-align: top;\n",
              "    }\n",
              "\n",
              "    .dataframe thead th {\n",
              "        text-align: right;\n",
              "    }\n",
              "</style>\n",
              "<table border=\"1\" class=\"dataframe\">\n",
              "  <thead>\n",
              "    <tr style=\"text-align: right;\">\n",
              "      <th></th>\n",
              "      <th>foun_type</th>\n",
              "      <th>cant_low_dmg</th>\n",
              "    </tr>\n",
              "  </thead>\n",
              "  <tbody>\n",
              "    <tr>\n",
              "      <th>0</th>\n",
              "      <td>r</td>\n",
              "      <td>10720</td>\n",
              "    </tr>\n",
              "    <tr>\n",
              "      <th>1</th>\n",
              "      <td>i</td>\n",
              "      <td>6004</td>\n",
              "    </tr>\n",
              "    <tr>\n",
              "      <th>2</th>\n",
              "      <td>w</td>\n",
              "      <td>4353</td>\n",
              "    </tr>\n",
              "    <tr>\n",
              "      <th>3</th>\n",
              "      <td>u</td>\n",
              "      <td>3689</td>\n",
              "    </tr>\n",
              "    <tr>\n",
              "      <th>4</th>\n",
              "      <td>h</td>\n",
              "      <td>358</td>\n",
              "    </tr>\n",
              "  </tbody>\n",
              "</table>\n",
              "</div>"
            ],
            "text/plain": [
              "  foun_type  cant_low_dmg\n",
              "0         r         10720\n",
              "1         i          6004\n",
              "2         w          4353\n",
              "3         u          3689\n",
              "4         h           358"
            ]
          },
          "metadata": {
            "tags": []
          },
          "execution_count": 26
        }
      ]
    },
    {
      "cell_type": "code",
      "metadata": {
        "colab": {
          "base_uri": "https://localhost:8080/",
          "height": 206
        },
        "id": "gabQxUg7A4Oz",
        "outputId": "1fcbaa6c-a42a-4981-bc06-841563c2f9c5"
      },
      "source": [
        "df_dmg_by_foun_type = df_dmg_by_foun_type\\\n",
        "  .merge(df\\\n",
        "         .loc[df['damage_grade'] == 2, 'foundation_type']\\\n",
        "         .value_counts().to_frame().reset_index()\\\n",
        "         .rename(columns={'index':'foun_type', \\\n",
        "                          'foundation_type':'cant_med_dmg'}), \\\n",
        "         on = 'foun_type', how='left')\n",
        "  \n",
        "df_dmg_by_foun_type"
      ],
      "execution_count": 27,
      "outputs": [
        {
          "output_type": "execute_result",
          "data": {
            "text/html": [
              "<div>\n",
              "<style scoped>\n",
              "    .dataframe tbody tr th:only-of-type {\n",
              "        vertical-align: middle;\n",
              "    }\n",
              "\n",
              "    .dataframe tbody tr th {\n",
              "        vertical-align: top;\n",
              "    }\n",
              "\n",
              "    .dataframe thead th {\n",
              "        text-align: right;\n",
              "    }\n",
              "</style>\n",
              "<table border=\"1\" class=\"dataframe\">\n",
              "  <thead>\n",
              "    <tr style=\"text-align: right;\">\n",
              "      <th></th>\n",
              "      <th>foun_type</th>\n",
              "      <th>cant_low_dmg</th>\n",
              "      <th>cant_med_dmg</th>\n",
              "    </tr>\n",
              "  </thead>\n",
              "  <tbody>\n",
              "    <tr>\n",
              "      <th>0</th>\n",
              "      <td>r</td>\n",
              "      <td>10720</td>\n",
              "      <td>125515</td>\n",
              "    </tr>\n",
              "    <tr>\n",
              "      <th>1</th>\n",
              "      <td>i</td>\n",
              "      <td>6004</td>\n",
              "      <td>4354</td>\n",
              "    </tr>\n",
              "    <tr>\n",
              "      <th>2</th>\n",
              "      <td>w</td>\n",
              "      <td>4353</td>\n",
              "      <td>9270</td>\n",
              "    </tr>\n",
              "    <tr>\n",
              "      <th>3</th>\n",
              "      <td>u</td>\n",
              "      <td>3689</td>\n",
              "      <td>8541</td>\n",
              "    </tr>\n",
              "    <tr>\n",
              "      <th>4</th>\n",
              "      <td>h</td>\n",
              "      <td>358</td>\n",
              "      <td>579</td>\n",
              "    </tr>\n",
              "  </tbody>\n",
              "</table>\n",
              "</div>"
            ],
            "text/plain": [
              "  foun_type  cant_low_dmg  cant_med_dmg\n",
              "0         r         10720        125515\n",
              "1         i          6004          4354\n",
              "2         w          4353          9270\n",
              "3         u          3689          8541\n",
              "4         h           358           579"
            ]
          },
          "metadata": {
            "tags": []
          },
          "execution_count": 27
        }
      ]
    },
    {
      "cell_type": "code",
      "metadata": {
        "colab": {
          "base_uri": "https://localhost:8080/",
          "height": 206
        },
        "id": "zhRy0I-cBHqY",
        "outputId": "23f50757-5c4d-4a44-e65e-5fe7dcd54f00"
      },
      "source": [
        "df_dmg_by_foun_type = df_dmg_by_foun_type\\\n",
        "  .merge(df\\\n",
        "         .loc[df['damage_grade'] == 3, 'foundation_type']\\\n",
        "         .value_counts().to_frame().reset_index()\\\n",
        "         .rename(columns={'index':'foun_type', \\\n",
        "                          'foundation_type':'cant_hig_dmg'}), \\\n",
        "         on = 'foun_type', how='left')\n",
        "  \n",
        "df_dmg_by_foun_type"
      ],
      "execution_count": 28,
      "outputs": [
        {
          "output_type": "execute_result",
          "data": {
            "text/html": [
              "<div>\n",
              "<style scoped>\n",
              "    .dataframe tbody tr th:only-of-type {\n",
              "        vertical-align: middle;\n",
              "    }\n",
              "\n",
              "    .dataframe tbody tr th {\n",
              "        vertical-align: top;\n",
              "    }\n",
              "\n",
              "    .dataframe thead th {\n",
              "        text-align: right;\n",
              "    }\n",
              "</style>\n",
              "<table border=\"1\" class=\"dataframe\">\n",
              "  <thead>\n",
              "    <tr style=\"text-align: right;\">\n",
              "      <th></th>\n",
              "      <th>foun_type</th>\n",
              "      <th>cant_low_dmg</th>\n",
              "      <th>cant_med_dmg</th>\n",
              "      <th>cant_hig_dmg</th>\n",
              "    </tr>\n",
              "  </thead>\n",
              "  <tbody>\n",
              "    <tr>\n",
              "      <th>0</th>\n",
              "      <td>r</td>\n",
              "      <td>10720</td>\n",
              "      <td>125515</td>\n",
              "      <td>82961</td>\n",
              "    </tr>\n",
              "    <tr>\n",
              "      <th>1</th>\n",
              "      <td>i</td>\n",
              "      <td>6004</td>\n",
              "      <td>4354</td>\n",
              "      <td>221</td>\n",
              "    </tr>\n",
              "    <tr>\n",
              "      <th>2</th>\n",
              "      <td>w</td>\n",
              "      <td>4353</td>\n",
              "      <td>9270</td>\n",
              "      <td>1495</td>\n",
              "    </tr>\n",
              "    <tr>\n",
              "      <th>3</th>\n",
              "      <td>u</td>\n",
              "      <td>3689</td>\n",
              "      <td>8541</td>\n",
              "      <td>2030</td>\n",
              "    </tr>\n",
              "    <tr>\n",
              "      <th>4</th>\n",
              "      <td>h</td>\n",
              "      <td>358</td>\n",
              "      <td>579</td>\n",
              "      <td>511</td>\n",
              "    </tr>\n",
              "  </tbody>\n",
              "</table>\n",
              "</div>"
            ],
            "text/plain": [
              "  foun_type  cant_low_dmg  cant_med_dmg  cant_hig_dmg\n",
              "0         r         10720        125515         82961\n",
              "1         i          6004          4354           221\n",
              "2         w          4353          9270          1495\n",
              "3         u          3689          8541          2030\n",
              "4         h           358           579           511"
            ]
          },
          "metadata": {
            "tags": []
          },
          "execution_count": 28
        }
      ]
    },
    {
      "cell_type": "markdown",
      "metadata": {
        "id": "Y-zGiZzyuaaa"
      },
      "source": [
        "## Plot"
      ]
    },
    {
      "cell_type": "code",
      "metadata": {
        "colab": {
          "base_uri": "https://localhost:8080/",
          "height": 540
        },
        "id": "t7ekJshFBQH7",
        "outputId": "bf7d14cc-4abe-43c5-f40a-19fef3ce7518"
      },
      "source": [
        "fig,ax = plt.subplots(figsize=(15,8))\n",
        "labels = df_dmg_by_foun_type['foun_type']\n",
        "x = np.arange(len(labels))\n",
        "width = 0.2\n",
        "\n",
        "bar1 = ax.bar(x - width, df_dmg_by_foun_type['cant_low_dmg'], width,\\\n",
        "              label='Daño bajo', color='gold')\n",
        "bar2 = ax.bar(x , df_dmg_by_foun_type['cant_med_dmg'], width,\\\n",
        "              label='Daño medio', color='orangered')\n",
        "bar3 = ax.bar(x + width, df_dmg_by_foun_type['cant_hig_dmg'], width,\\\n",
        "              label='Daño alto', color='firebrick')\n",
        "\n",
        "ax.set_title('Daños según tipo de cimientos', fontsize=25)\n",
        "ax.set_ylabel('Cantidad', fontsize=20)\n",
        "ax.set_xlabel('Tipo de cimientos', fontsize=20)\n",
        "ax.set_xticks(x)\n",
        "ax.set_xticklabels(labels)\n",
        "\n",
        "plt.xticks(fontsize=17)\n",
        "plt.yticks(fontsize=17)\n",
        "plt.legend(fontsize=14)\n",
        "\n",
        "plt.grid(axis='y', linewidth=2, color='lightgray')\n",
        "ax.set_axisbelow(True)"
      ],
      "execution_count": 29,
      "outputs": [
        {
          "output_type": "display_data",
          "data": {
            "image/png": "[encoded data removed]",
            "text/plain": [
              "<Figure size 1080x576 with 1 Axes>"
            ]
          },
          "metadata": {
            "tags": [],
            "needs_background": "light"
          }
        }
      ]
    },
    {
      "cell_type": "markdown",
      "metadata": {
        "id": "JN5Kknf33DcL"
      },
      "source": [
        "## Dataframe sin cimiento `r`"
      ]
    },
    {
      "cell_type": "code",
      "metadata": {
        "colab": {
          "base_uri": "https://localhost:8080/",
          "height": 175
        },
        "id": "W_l-2_8E3HLq",
        "outputId": "ae06a4c6-d7fa-499a-8302-67377174cf08"
      },
      "source": [
        "df_dmg_by_foun_type_short = df_dmg_by_foun_type.drop(0)\n",
        "df_dmg_by_foun_type_short"
      ],
      "execution_count": 90,
      "outputs": [
        {
          "output_type": "execute_result",
          "data": {
            "text/html": [
              "<div>\n",
              "<style scoped>\n",
              "    .dataframe tbody tr th:only-of-type {\n",
              "        vertical-align: middle;\n",
              "    }\n",
              "\n",
              "    .dataframe tbody tr th {\n",
              "        vertical-align: top;\n",
              "    }\n",
              "\n",
              "    .dataframe thead th {\n",
              "        text-align: right;\n",
              "    }\n",
              "</style>\n",
              "<table border=\"1\" class=\"dataframe\">\n",
              "  <thead>\n",
              "    <tr style=\"text-align: right;\">\n",
              "      <th></th>\n",
              "      <th>foun_type</th>\n",
              "      <th>cant_low_dmg</th>\n",
              "      <th>cant_med_dmg</th>\n",
              "      <th>cant_hig_dmg</th>\n",
              "    </tr>\n",
              "  </thead>\n",
              "  <tbody>\n",
              "    <tr>\n",
              "      <th>1</th>\n",
              "      <td>i</td>\n",
              "      <td>6004</td>\n",
              "      <td>4354</td>\n",
              "      <td>221</td>\n",
              "    </tr>\n",
              "    <tr>\n",
              "      <th>2</th>\n",
              "      <td>w</td>\n",
              "      <td>4353</td>\n",
              "      <td>9270</td>\n",
              "      <td>1495</td>\n",
              "    </tr>\n",
              "    <tr>\n",
              "      <th>3</th>\n",
              "      <td>u</td>\n",
              "      <td>3689</td>\n",
              "      <td>8541</td>\n",
              "      <td>2030</td>\n",
              "    </tr>\n",
              "    <tr>\n",
              "      <th>4</th>\n",
              "      <td>h</td>\n",
              "      <td>358</td>\n",
              "      <td>579</td>\n",
              "      <td>511</td>\n",
              "    </tr>\n",
              "  </tbody>\n",
              "</table>\n",
              "</div>"
            ],
            "text/plain": [
              "  foun_type  cant_low_dmg  cant_med_dmg  cant_hig_dmg\n",
              "1         i          6004          4354           221\n",
              "2         w          4353          9270          1495\n",
              "3         u          3689          8541          2030\n",
              "4         h           358           579           511"
            ]
          },
          "metadata": {
            "tags": []
          },
          "execution_count": 90
        }
      ]
    },
    {
      "cell_type": "markdown",
      "metadata": {
        "id": "uNNf8eIi3irK"
      },
      "source": [
        "## Plot b"
      ]
    },
    {
      "cell_type": "code",
      "metadata": {
        "colab": {
          "base_uri": "https://localhost:8080/",
          "height": 540
        },
        "id": "-UCB92tJ3kAu",
        "outputId": "efbd6258-ce76-41d8-afc2-8e31027c4534"
      },
      "source": [
        "fig,ax = plt.subplots(figsize=(15,8))\n",
        "labels = df_dmg_by_foun_type_short['foun_type']\n",
        "x = np.arange(len(labels))\n",
        "width = 0.2\n",
        "\n",
        "bar1 = ax.bar(x - width, df_dmg_by_foun_type_short['cant_low_dmg'], width,\\\n",
        "              label='Daño bajo', color='gold')\n",
        "bar2 = ax.bar(x , df_dmg_by_foun_type_short['cant_med_dmg'], width,\\\n",
        "              label='Daño medio', color='orangered')\n",
        "bar3 = ax.bar(x + width, df_dmg_by_foun_type_short['cant_hig_dmg'], width,\\\n",
        "              label='Daño alto', color='firebrick')\n",
        "\n",
        "ax.set_title('Daños según tipo de cimientos', fontsize=25)\n",
        "ax.set_ylabel('Cantidad', fontsize=20)\n",
        "ax.set_xlabel('Tipo de cimientos', fontsize=20)\n",
        "ax.set_xticks(x)\n",
        "ax.set_xticklabels(labels)\n",
        "\n",
        "plt.xticks(fontsize=17)\n",
        "plt.yticks(fontsize=17)\n",
        "plt.legend(fontsize=14)\n",
        "\n",
        "plt.grid(axis='y', linewidth=2, color='lightgray')\n",
        "ax.set_axisbelow(True)"
      ],
      "execution_count": 91,
      "outputs": [
        {
          "output_type": "display_data",
          "data": {
            "image/png": "[encoded data removed]",
            "text/plain": [
              "<Figure size 1080x576 with 1 Axes>"
            ]
          },
          "metadata": {
            "tags": [],
            "needs_background": "light"
          }
        }
      ]
    },
    {
      "cell_type": "markdown",
      "metadata": {
        "id": "z2vuHc9sCCYt"
      },
      "source": [
        "# Daños según tipo de techo"
      ]
    },
    {
      "cell_type": "markdown",
      "metadata": {
        "id": "8BluVCqVuLr6"
      },
      "source": [
        "## Dataframe de datos pertinentes"
      ]
    },
    {
      "cell_type": "code",
      "metadata": {
        "colab": {
          "base_uri": "https://localhost:8080/",
          "height": 143
        },
        "id": "SmnAqKmuCFnk",
        "outputId": "db668ace-15cf-49d6-ca43-7527a266b8e5"
      },
      "source": [
        "df_dmg_by_roof_type = df\\\n",
        "  .loc[df['damage_grade'] == 1, 'roof_type']\\\n",
        "  .value_counts().to_frame().reset_index()\\\n",
        "  .rename(columns={'index':'roof_type', \\\n",
        "                   'roof_type':'cant_low_dmg'})\n",
        "\n",
        "df_dmg_by_roof_type"
      ],
      "execution_count": 30,
      "outputs": [
        {
          "output_type": "execute_result",
          "data": {
            "text/html": [
              "<div>\n",
              "<style scoped>\n",
              "    .dataframe tbody tr th:only-of-type {\n",
              "        vertical-align: middle;\n",
              "    }\n",
              "\n",
              "    .dataframe tbody tr th {\n",
              "        vertical-align: top;\n",
              "    }\n",
              "\n",
              "    .dataframe thead th {\n",
              "        text-align: right;\n",
              "    }\n",
              "</style>\n",
              "<table border=\"1\" class=\"dataframe\">\n",
              "  <thead>\n",
              "    <tr style=\"text-align: right;\">\n",
              "      <th></th>\n",
              "      <th>roof_type</th>\n",
              "      <th>cant_low_dmg</th>\n",
              "    </tr>\n",
              "  </thead>\n",
              "  <tbody>\n",
              "    <tr>\n",
              "      <th>0</th>\n",
              "      <td>n</td>\n",
              "      <td>13547</td>\n",
              "    </tr>\n",
              "    <tr>\n",
              "      <th>1</th>\n",
              "      <td>x</td>\n",
              "      <td>7651</td>\n",
              "    </tr>\n",
              "    <tr>\n",
              "      <th>2</th>\n",
              "      <td>q</td>\n",
              "      <td>3926</td>\n",
              "    </tr>\n",
              "  </tbody>\n",
              "</table>\n",
              "</div>"
            ],
            "text/plain": [
              "  roof_type  cant_low_dmg\n",
              "0         n         13547\n",
              "1         x          7651\n",
              "2         q          3926"
            ]
          },
          "metadata": {
            "tags": []
          },
          "execution_count": 30
        }
      ]
    },
    {
      "cell_type": "code",
      "metadata": {
        "colab": {
          "base_uri": "https://localhost:8080/",
          "height": 143
        },
        "id": "viJcLYnGCS3i",
        "outputId": "17033148-aebe-451a-8597-8a372a570445"
      },
      "source": [
        "df_dmg_by_roof_type = df_dmg_by_roof_type\\\n",
        "  .merge(df\\\n",
        "         .loc[df['damage_grade'] == 2, 'roof_type']\\\n",
        "         .value_counts().to_frame().reset_index()\\\n",
        "         .rename(columns={'index':'roof_type', \\\n",
        "                          'roof_type':'cant_med_dmg'}), \\\n",
        "         on = 'roof_type', how='left')\n",
        "  \n",
        "df_dmg_by_roof_type"
      ],
      "execution_count": 31,
      "outputs": [
        {
          "output_type": "execute_result",
          "data": {
            "text/html": [
              "<div>\n",
              "<style scoped>\n",
              "    .dataframe tbody tr th:only-of-type {\n",
              "        vertical-align: middle;\n",
              "    }\n",
              "\n",
              "    .dataframe tbody tr th {\n",
              "        vertical-align: top;\n",
              "    }\n",
              "\n",
              "    .dataframe thead th {\n",
              "        text-align: right;\n",
              "    }\n",
              "</style>\n",
              "<table border=\"1\" class=\"dataframe\">\n",
              "  <thead>\n",
              "    <tr style=\"text-align: right;\">\n",
              "      <th></th>\n",
              "      <th>roof_type</th>\n",
              "      <th>cant_low_dmg</th>\n",
              "      <th>cant_med_dmg</th>\n",
              "    </tr>\n",
              "  </thead>\n",
              "  <tbody>\n",
              "    <tr>\n",
              "      <th>0</th>\n",
              "      <td>n</td>\n",
              "      <td>13547</td>\n",
              "      <td>106447</td>\n",
              "    </tr>\n",
              "    <tr>\n",
              "      <th>1</th>\n",
              "      <td>x</td>\n",
              "      <td>7651</td>\n",
              "      <td>7803</td>\n",
              "    </tr>\n",
              "    <tr>\n",
              "      <th>2</th>\n",
              "      <td>q</td>\n",
              "      <td>3926</td>\n",
              "      <td>34009</td>\n",
              "    </tr>\n",
              "  </tbody>\n",
              "</table>\n",
              "</div>"
            ],
            "text/plain": [
              "  roof_type  cant_low_dmg  cant_med_dmg\n",
              "0         n         13547        106447\n",
              "1         x          7651          7803\n",
              "2         q          3926         34009"
            ]
          },
          "metadata": {
            "tags": []
          },
          "execution_count": 31
        }
      ]
    },
    {
      "cell_type": "code",
      "metadata": {
        "colab": {
          "base_uri": "https://localhost:8080/",
          "height": 143
        },
        "id": "QFWTyvfyCkyY",
        "outputId": "97d5cb13-59eb-4272-efcb-7a21959a14d3"
      },
      "source": [
        "df_dmg_by_roof_type = df_dmg_by_roof_type\\\n",
        "  .merge(df\\\n",
        "         .loc[df['damage_grade'] == 3, 'roof_type']\\\n",
        "         .value_counts().to_frame().reset_index()\\\n",
        "         .rename(columns={'index':'roof_type', \\\n",
        "                          'roof_type':'cant_hig_dmg'}), \\\n",
        "         on = 'roof_type', how='left')\n",
        "  \n",
        "df_dmg_by_roof_type"
      ],
      "execution_count": 32,
      "outputs": [
        {
          "output_type": "execute_result",
          "data": {
            "text/html": [
              "<div>\n",
              "<style scoped>\n",
              "    .dataframe tbody tr th:only-of-type {\n",
              "        vertical-align: middle;\n",
              "    }\n",
              "\n",
              "    .dataframe tbody tr th {\n",
              "        vertical-align: top;\n",
              "    }\n",
              "\n",
              "    .dataframe thead th {\n",
              "        text-align: right;\n",
              "    }\n",
              "</style>\n",
              "<table border=\"1\" class=\"dataframe\">\n",
              "  <thead>\n",
              "    <tr style=\"text-align: right;\">\n",
              "      <th></th>\n",
              "      <th>roof_type</th>\n",
              "      <th>cant_low_dmg</th>\n",
              "      <th>cant_med_dmg</th>\n",
              "      <th>cant_hig_dmg</th>\n",
              "    </tr>\n",
              "  </thead>\n",
              "  <tbody>\n",
              "    <tr>\n",
              "      <th>0</th>\n",
              "      <td>n</td>\n",
              "      <td>13547</td>\n",
              "      <td>106447</td>\n",
              "      <td>62848</td>\n",
              "    </tr>\n",
              "    <tr>\n",
              "      <th>1</th>\n",
              "      <td>x</td>\n",
              "      <td>7651</td>\n",
              "      <td>7803</td>\n",
              "      <td>729</td>\n",
              "    </tr>\n",
              "    <tr>\n",
              "      <th>2</th>\n",
              "      <td>q</td>\n",
              "      <td>3926</td>\n",
              "      <td>34009</td>\n",
              "      <td>23641</td>\n",
              "    </tr>\n",
              "  </tbody>\n",
              "</table>\n",
              "</div>"
            ],
            "text/plain": [
              "  roof_type  cant_low_dmg  cant_med_dmg  cant_hig_dmg\n",
              "0         n         13547        106447         62848\n",
              "1         x          7651          7803           729\n",
              "2         q          3926         34009         23641"
            ]
          },
          "metadata": {
            "tags": []
          },
          "execution_count": 32
        }
      ]
    },
    {
      "cell_type": "markdown",
      "metadata": {
        "id": "Yo4qMFrjuxNZ"
      },
      "source": [
        "## Plot"
      ]
    },
    {
      "cell_type": "code",
      "metadata": {
        "colab": {
          "base_uri": "https://localhost:8080/",
          "height": 540
        },
        "id": "Hr2QVnmlC4U6",
        "outputId": "129a3e48-e699-47bf-d642-7e5a2a0316e7"
      },
      "source": [
        "fig,ax = plt.subplots(figsize=(15,8))\n",
        "labels = df_dmg_by_roof_type['roof_type']\n",
        "x = np.arange(len(labels))\n",
        "width = 0.2\n",
        "\n",
        "bar1 = ax.bar(x - width, df_dmg_by_roof_type['cant_low_dmg'], width,\\\n",
        "              label='Daño bajo', color='gold')\n",
        "bar2 = ax.bar(x , df_dmg_by_roof_type['cant_med_dmg'], width,\\\n",
        "              label='Daño medio', color='orangered')\n",
        "bar3 = ax.bar(x + width, df_dmg_by_roof_type['cant_hig_dmg'], width,\\\n",
        "              label='Daño alto', color='firebrick')\n",
        "\n",
        "ax.set_title('Daños según tipo de techo', fontsize=25)\n",
        "ax.set_ylabel('Cantidad', fontsize=20)\n",
        "ax.set_xlabel('Tipo de techo', fontsize=20)\n",
        "ax.set_xticks(x)\n",
        "ax.set_xticklabels(labels)\n",
        "\n",
        "plt.xticks(fontsize=17)\n",
        "plt.yticks(fontsize=17)\n",
        "plt.legend(fontsize=14)\n",
        "\n",
        "plt.grid(axis='y', linewidth=2, color='lightgray')\n",
        "ax.set_axisbelow(True)"
      ],
      "execution_count": 34,
      "outputs": [
        {
          "output_type": "display_data",
          "data": {
            "image/png": "[encoded data removed]",
            "text/plain": [
              "<Figure size 1080x576 with 1 Axes>"
            ]
          },
          "metadata": {
            "tags": [],
            "needs_background": "light"
          }
        }
      ]
    },
    {
      "cell_type": "markdown",
      "metadata": {
        "id": "YXYjKomRDmxm"
      },
      "source": [
        "# Daños según piso en la planta baja"
      ]
    },
    {
      "cell_type": "markdown",
      "metadata": {
        "id": "VfIT6Sp-uNkW"
      },
      "source": [
        "## Dataframe de datos pertinentes"
      ]
    },
    {
      "cell_type": "code",
      "metadata": {
        "colab": {
          "base_uri": "https://localhost:8080/",
          "height": 206
        },
        "id": "8pCECaytDHP0",
        "outputId": "29001a2e-5ae0-4e50-c74b-23ea9ca48b5e"
      },
      "source": [
        "df_dmg_by_grnd_floo = df\\\n",
        "  .loc[df['damage_grade'] == 1, 'ground_floor_type']\\\n",
        "  .value_counts().to_frame().reset_index()\\\n",
        "  .rename(columns={'index':'ground_floor_type', \\\n",
        "                   'ground_floor_type':'cant_low_dmg'})\n",
        "\n",
        "df_dmg_by_grnd_floo"
      ],
      "execution_count": 35,
      "outputs": [
        {
          "output_type": "execute_result",
          "data": {
            "text/html": [
              "<div>\n",
              "<style scoped>\n",
              "    .dataframe tbody tr th:only-of-type {\n",
              "        vertical-align: middle;\n",
              "    }\n",
              "\n",
              "    .dataframe tbody tr th {\n",
              "        vertical-align: top;\n",
              "    }\n",
              "\n",
              "    .dataframe thead th {\n",
              "        text-align: right;\n",
              "    }\n",
              "</style>\n",
              "<table border=\"1\" class=\"dataframe\">\n",
              "  <thead>\n",
              "    <tr style=\"text-align: right;\">\n",
              "      <th></th>\n",
              "      <th>ground_floor_type</th>\n",
              "      <th>cant_low_dmg</th>\n",
              "    </tr>\n",
              "  </thead>\n",
              "  <tbody>\n",
              "    <tr>\n",
              "      <th>0</th>\n",
              "      <td>f</td>\n",
              "      <td>12474</td>\n",
              "    </tr>\n",
              "    <tr>\n",
              "      <th>1</th>\n",
              "      <td>v</td>\n",
              "      <td>10309</td>\n",
              "    </tr>\n",
              "    <tr>\n",
              "      <th>2</th>\n",
              "      <td>x</td>\n",
              "      <td>2052</td>\n",
              "    </tr>\n",
              "    <tr>\n",
              "      <th>3</th>\n",
              "      <td>z</td>\n",
              "      <td>199</td>\n",
              "    </tr>\n",
              "    <tr>\n",
              "      <th>4</th>\n",
              "      <td>m</td>\n",
              "      <td>90</td>\n",
              "    </tr>\n",
              "  </tbody>\n",
              "</table>\n",
              "</div>"
            ],
            "text/plain": [
              "  ground_floor_type  cant_low_dmg\n",
              "0                 f         12474\n",
              "1                 v         10309\n",
              "2                 x          2052\n",
              "3                 z           199\n",
              "4                 m            90"
            ]
          },
          "metadata": {
            "tags": []
          },
          "execution_count": 35
        }
      ]
    },
    {
      "cell_type": "code",
      "metadata": {
        "colab": {
          "base_uri": "https://localhost:8080/",
          "height": 206
        },
        "id": "z1DZUesAETPP",
        "outputId": "91bee780-18c2-4096-a7ad-ebeb00317303"
      },
      "source": [
        "df_dmg_by_grnd_floo = df_dmg_by_grnd_floo\\\n",
        "  .merge(df\\\n",
        "         .loc[df['damage_grade'] == 2, 'ground_floor_type']\\\n",
        "         .value_counts().to_frame().reset_index()\\\n",
        "         .rename(columns={'index':'ground_floor_type', \\\n",
        "                          'ground_floor_type':'cant_med_dmg'}), \\\n",
        "         on = 'ground_floor_type', how='left')\n",
        "  \n",
        "df_dmg_by_grnd_floo"
      ],
      "execution_count": 36,
      "outputs": [
        {
          "output_type": "execute_result",
          "data": {
            "text/html": [
              "<div>\n",
              "<style scoped>\n",
              "    .dataframe tbody tr th:only-of-type {\n",
              "        vertical-align: middle;\n",
              "    }\n",
              "\n",
              "    .dataframe tbody tr th {\n",
              "        vertical-align: top;\n",
              "    }\n",
              "\n",
              "    .dataframe thead th {\n",
              "        text-align: right;\n",
              "    }\n",
              "</style>\n",
              "<table border=\"1\" class=\"dataframe\">\n",
              "  <thead>\n",
              "    <tr style=\"text-align: right;\">\n",
              "      <th></th>\n",
              "      <th>ground_floor_type</th>\n",
              "      <th>cant_low_dmg</th>\n",
              "      <th>cant_med_dmg</th>\n",
              "    </tr>\n",
              "  </thead>\n",
              "  <tbody>\n",
              "    <tr>\n",
              "      <th>0</th>\n",
              "      <td>f</td>\n",
              "      <td>12474</td>\n",
              "      <td>119877</td>\n",
              "    </tr>\n",
              "    <tr>\n",
              "      <th>1</th>\n",
              "      <td>v</td>\n",
              "      <td>10309</td>\n",
              "      <td>12971</td>\n",
              "    </tr>\n",
              "    <tr>\n",
              "      <th>2</th>\n",
              "      <td>x</td>\n",
              "      <td>2052</td>\n",
              "      <td>14536</td>\n",
              "    </tr>\n",
              "    <tr>\n",
              "      <th>3</th>\n",
              "      <td>z</td>\n",
              "      <td>199</td>\n",
              "      <td>532</td>\n",
              "    </tr>\n",
              "    <tr>\n",
              "      <th>4</th>\n",
              "      <td>m</td>\n",
              "      <td>90</td>\n",
              "      <td>343</td>\n",
              "    </tr>\n",
              "  </tbody>\n",
              "</table>\n",
              "</div>"
            ],
            "text/plain": [
              "  ground_floor_type  cant_low_dmg  cant_med_dmg\n",
              "0                 f         12474        119877\n",
              "1                 v         10309         12971\n",
              "2                 x          2052         14536\n",
              "3                 z           199           532\n",
              "4                 m            90           343"
            ]
          },
          "metadata": {
            "tags": []
          },
          "execution_count": 36
        }
      ]
    },
    {
      "cell_type": "code",
      "metadata": {
        "colab": {
          "base_uri": "https://localhost:8080/",
          "height": 206
        },
        "id": "bYieE7zBEN4l",
        "outputId": "b5ccad9c-7d0d-4ce3-dbc9-f4f58c4d5e67"
      },
      "source": [
        "df_dmg_by_grnd_floo = df_dmg_by_grnd_floo\\\n",
        "  .merge(df\\\n",
        "         .loc[df['damage_grade'] == 3, 'ground_floor_type']\\\n",
        "         .value_counts().to_frame().reset_index()\\\n",
        "         .rename(columns={'index':'ground_floor_type', \\\n",
        "                          'ground_floor_type':'cant_hig_dmg'}), \\\n",
        "         on = 'ground_floor_type', how='left')\n",
        "  \n",
        "df_dmg_by_grnd_floo"
      ],
      "execution_count": 37,
      "outputs": [
        {
          "output_type": "execute_result",
          "data": {
            "text/html": [
              "<div>\n",
              "<style scoped>\n",
              "    .dataframe tbody tr th:only-of-type {\n",
              "        vertical-align: middle;\n",
              "    }\n",
              "\n",
              "    .dataframe tbody tr th {\n",
              "        vertical-align: top;\n",
              "    }\n",
              "\n",
              "    .dataframe thead th {\n",
              "        text-align: right;\n",
              "    }\n",
              "</style>\n",
              "<table border=\"1\" class=\"dataframe\">\n",
              "  <thead>\n",
              "    <tr style=\"text-align: right;\">\n",
              "      <th></th>\n",
              "      <th>ground_floor_type</th>\n",
              "      <th>cant_low_dmg</th>\n",
              "      <th>cant_med_dmg</th>\n",
              "      <th>cant_hig_dmg</th>\n",
              "    </tr>\n",
              "  </thead>\n",
              "  <tbody>\n",
              "    <tr>\n",
              "      <th>0</th>\n",
              "      <td>f</td>\n",
              "      <td>12474</td>\n",
              "      <td>119877</td>\n",
              "      <td>77268</td>\n",
              "    </tr>\n",
              "    <tr>\n",
              "      <th>1</th>\n",
              "      <td>v</td>\n",
              "      <td>10309</td>\n",
              "      <td>12971</td>\n",
              "      <td>1313</td>\n",
              "    </tr>\n",
              "    <tr>\n",
              "      <th>2</th>\n",
              "      <td>x</td>\n",
              "      <td>2052</td>\n",
              "      <td>14536</td>\n",
              "      <td>8289</td>\n",
              "    </tr>\n",
              "    <tr>\n",
              "      <th>3</th>\n",
              "      <td>z</td>\n",
              "      <td>199</td>\n",
              "      <td>532</td>\n",
              "      <td>273</td>\n",
              "    </tr>\n",
              "    <tr>\n",
              "      <th>4</th>\n",
              "      <td>m</td>\n",
              "      <td>90</td>\n",
              "      <td>343</td>\n",
              "      <td>75</td>\n",
              "    </tr>\n",
              "  </tbody>\n",
              "</table>\n",
              "</div>"
            ],
            "text/plain": [
              "  ground_floor_type  cant_low_dmg  cant_med_dmg  cant_hig_dmg\n",
              "0                 f         12474        119877         77268\n",
              "1                 v         10309         12971          1313\n",
              "2                 x          2052         14536          8289\n",
              "3                 z           199           532           273\n",
              "4                 m            90           343            75"
            ]
          },
          "metadata": {
            "tags": []
          },
          "execution_count": 37
        }
      ]
    },
    {
      "cell_type": "markdown",
      "metadata": {
        "id": "Kgc8ffyZu-xA"
      },
      "source": [
        "## Plot"
      ]
    },
    {
      "cell_type": "code",
      "metadata": {
        "colab": {
          "base_uri": "https://localhost:8080/",
          "height": 540
        },
        "id": "y-CW-xf8EsZg",
        "outputId": "90e56cfa-d586-45a2-e810-6a0dc2369332"
      },
      "source": [
        "fig,ax = plt.subplots(figsize=(15,8))\n",
        "labels = df_dmg_by_grnd_floo['ground_floor_type']\n",
        "x = np.arange(len(labels))\n",
        "width = 0.2\n",
        "\n",
        "bar1 = ax.bar(x - width, df_dmg_by_grnd_floo['cant_low_dmg'], width,\\\n",
        "              label='Daño bajo', color='gold')\n",
        "bar2 = ax.bar(x , df_dmg_by_grnd_floo['cant_med_dmg'], width,\\\n",
        "              label='Daño medio', color='orangered')\n",
        "bar3 = ax.bar(x + width, df_dmg_by_grnd_floo['cant_hig_dmg'], width,\\\n",
        "              label='Daño alto', color='firebrick')\n",
        "\n",
        "ax.set_title('Daños según tipo de piso en planta baja', fontsize=25)\n",
        "ax.set_ylabel('Cantidad', fontsize=20)\n",
        "ax.set_xlabel('Tipo de piso', fontsize=20)\n",
        "ax.set_xticks(x)\n",
        "ax.set_xticklabels(labels)\n",
        "\n",
        "plt.xticks(fontsize=17)\n",
        "plt.yticks(fontsize=17)\n",
        "plt.legend(fontsize=14)\n",
        "\n",
        "plt.grid(axis='y', linewidth=2, color='lightgray')\n",
        "ax.set_axisbelow(True)"
      ],
      "execution_count": 39,
      "outputs": [
        {
          "output_type": "display_data",
          "data": {
            "image/png": "[encoded data removed]",
            "text/plain": [
              "<Figure size 1080x576 with 1 Axes>"
            ]
          },
          "metadata": {
            "tags": [],
            "needs_background": "light"
          }
        }
      ]
    },
    {
      "cell_type": "markdown",
      "metadata": {
        "id": "AYkEdVoYFgQ5"
      },
      "source": [
        "# Daños según construcción de pisos superiores"
      ]
    },
    {
      "cell_type": "markdown",
      "metadata": {
        "id": "MPyrt5WZuPM4"
      },
      "source": [
        "## Dataframe de datos pertinentes"
      ]
    },
    {
      "cell_type": "code",
      "metadata": {
        "colab": {
          "base_uri": "https://localhost:8080/",
          "height": 175
        },
        "id": "T1upBClgFniW",
        "outputId": "56ee897f-7bd6-4670-c5d3-479e70ec6b39"
      },
      "source": [
        "df_dmg_by_othe_floo = df\\\n",
        "  .loc[df['damage_grade'] == 1, 'other_floor_type']\\\n",
        "  .value_counts().to_frame().reset_index()\\\n",
        "  .rename(columns={'index':'other_floor_type', \\\n",
        "                   'other_floor_type':'cant_low_dmg'})\n",
        "\n",
        "df_dmg_by_othe_floo"
      ],
      "execution_count": 40,
      "outputs": [
        {
          "output_type": "execute_result",
          "data": {
            "text/html": [
              "<div>\n",
              "<style scoped>\n",
              "    .dataframe tbody tr th:only-of-type {\n",
              "        vertical-align: middle;\n",
              "    }\n",
              "\n",
              "    .dataframe tbody tr th {\n",
              "        vertical-align: top;\n",
              "    }\n",
              "\n",
              "    .dataframe thead th {\n",
              "        text-align: right;\n",
              "    }\n",
              "</style>\n",
              "<table border=\"1\" class=\"dataframe\">\n",
              "  <thead>\n",
              "    <tr style=\"text-align: right;\">\n",
              "      <th></th>\n",
              "      <th>other_floor_type</th>\n",
              "      <th>cant_low_dmg</th>\n",
              "    </tr>\n",
              "  </thead>\n",
              "  <tbody>\n",
              "    <tr>\n",
              "      <th>0</th>\n",
              "      <td>j</td>\n",
              "      <td>8886</td>\n",
              "    </tr>\n",
              "    <tr>\n",
              "      <th>1</th>\n",
              "      <td>q</td>\n",
              "      <td>7387</td>\n",
              "    </tr>\n",
              "    <tr>\n",
              "      <th>2</th>\n",
              "      <td>s</td>\n",
              "      <td>5423</td>\n",
              "    </tr>\n",
              "    <tr>\n",
              "      <th>3</th>\n",
              "      <td>x</td>\n",
              "      <td>3428</td>\n",
              "    </tr>\n",
              "  </tbody>\n",
              "</table>\n",
              "</div>"
            ],
            "text/plain": [
              "  other_floor_type  cant_low_dmg\n",
              "0                j          8886\n",
              "1                q          7387\n",
              "2                s          5423\n",
              "3                x          3428"
            ]
          },
          "metadata": {
            "tags": []
          },
          "execution_count": 40
        }
      ]
    },
    {
      "cell_type": "code",
      "metadata": {
        "colab": {
          "base_uri": "https://localhost:8080/",
          "height": 175
        },
        "id": "0l4Bjm4iF8tP",
        "outputId": "e5671228-7e03-4a8e-df9f-cd4116db3e41"
      },
      "source": [
        "df_dmg_by_othe_floo = df_dmg_by_othe_floo\\\n",
        "  .merge(df\\\n",
        "         .loc[df['damage_grade'] == 2, 'other_floor_type']\\\n",
        "         .value_counts().to_frame().reset_index()\\\n",
        "         .rename(columns={'index':'other_floor_type', \\\n",
        "                          'other_floor_type':'cant_med_dmg'}), \\\n",
        "         on = 'other_floor_type', how='left')\n",
        "  \n",
        "df_dmg_by_othe_floo"
      ],
      "execution_count": 41,
      "outputs": [
        {
          "output_type": "execute_result",
          "data": {
            "text/html": [
              "<div>\n",
              "<style scoped>\n",
              "    .dataframe tbody tr th:only-of-type {\n",
              "        vertical-align: middle;\n",
              "    }\n",
              "\n",
              "    .dataframe tbody tr th {\n",
              "        vertical-align: top;\n",
              "    }\n",
              "\n",
              "    .dataframe thead th {\n",
              "        text-align: right;\n",
              "    }\n",
              "</style>\n",
              "<table border=\"1\" class=\"dataframe\">\n",
              "  <thead>\n",
              "    <tr style=\"text-align: right;\">\n",
              "      <th></th>\n",
              "      <th>other_floor_type</th>\n",
              "      <th>cant_low_dmg</th>\n",
              "      <th>cant_med_dmg</th>\n",
              "    </tr>\n",
              "  </thead>\n",
              "  <tbody>\n",
              "    <tr>\n",
              "      <th>0</th>\n",
              "      <td>j</td>\n",
              "      <td>8886</td>\n",
              "      <td>20362</td>\n",
              "    </tr>\n",
              "    <tr>\n",
              "      <th>1</th>\n",
              "      <td>q</td>\n",
              "      <td>7387</td>\n",
              "      <td>98320</td>\n",
              "    </tr>\n",
              "    <tr>\n",
              "      <th>2</th>\n",
              "      <td>s</td>\n",
              "      <td>5423</td>\n",
              "      <td>5904</td>\n",
              "    </tr>\n",
              "    <tr>\n",
              "      <th>3</th>\n",
              "      <td>x</td>\n",
              "      <td>3428</td>\n",
              "      <td>23673</td>\n",
              "    </tr>\n",
              "  </tbody>\n",
              "</table>\n",
              "</div>"
            ],
            "text/plain": [
              "  other_floor_type  cant_low_dmg  cant_med_dmg\n",
              "0                j          8886         20362\n",
              "1                q          7387         98320\n",
              "2                s          5423          5904\n",
              "3                x          3428         23673"
            ]
          },
          "metadata": {
            "tags": []
          },
          "execution_count": 41
        }
      ]
    },
    {
      "cell_type": "code",
      "metadata": {
        "colab": {
          "base_uri": "https://localhost:8080/",
          "height": 175
        },
        "id": "PHcZAYuWGH0z",
        "outputId": "3745a10e-c67c-4272-980a-18a031a98a71"
      },
      "source": [
        "df_dmg_by_othe_floo = df_dmg_by_othe_floo\\\n",
        "  .merge(df\\\n",
        "         .loc[df['damage_grade'] == 3, 'other_floor_type']\\\n",
        "         .value_counts().to_frame().reset_index()\\\n",
        "         .rename(columns={'index':'other_floor_type', \\\n",
        "                          'other_floor_type':'cant_hig_dmg'}), \\\n",
        "         on = 'other_floor_type', how='left')\n",
        "  \n",
        "df_dmg_by_othe_floo"
      ],
      "execution_count": 42,
      "outputs": [
        {
          "output_type": "execute_result",
          "data": {
            "text/html": [
              "<div>\n",
              "<style scoped>\n",
              "    .dataframe tbody tr th:only-of-type {\n",
              "        vertical-align: middle;\n",
              "    }\n",
              "\n",
              "    .dataframe tbody tr th {\n",
              "        vertical-align: top;\n",
              "    }\n",
              "\n",
              "    .dataframe thead th {\n",
              "        text-align: right;\n",
              "    }\n",
              "</style>\n",
              "<table border=\"1\" class=\"dataframe\">\n",
              "  <thead>\n",
              "    <tr style=\"text-align: right;\">\n",
              "      <th></th>\n",
              "      <th>other_floor_type</th>\n",
              "      <th>cant_low_dmg</th>\n",
              "      <th>cant_med_dmg</th>\n",
              "      <th>cant_hig_dmg</th>\n",
              "    </tr>\n",
              "  </thead>\n",
              "  <tbody>\n",
              "    <tr>\n",
              "      <th>0</th>\n",
              "      <td>j</td>\n",
              "      <td>8886</td>\n",
              "      <td>20362</td>\n",
              "      <td>10595</td>\n",
              "    </tr>\n",
              "    <tr>\n",
              "      <th>1</th>\n",
              "      <td>q</td>\n",
              "      <td>7387</td>\n",
              "      <td>98320</td>\n",
              "      <td>59575</td>\n",
              "    </tr>\n",
              "    <tr>\n",
              "      <th>2</th>\n",
              "      <td>s</td>\n",
              "      <td>5423</td>\n",
              "      <td>5904</td>\n",
              "      <td>701</td>\n",
              "    </tr>\n",
              "    <tr>\n",
              "      <th>3</th>\n",
              "      <td>x</td>\n",
              "      <td>3428</td>\n",
              "      <td>23673</td>\n",
              "      <td>16347</td>\n",
              "    </tr>\n",
              "  </tbody>\n",
              "</table>\n",
              "</div>"
            ],
            "text/plain": [
              "  other_floor_type  cant_low_dmg  cant_med_dmg  cant_hig_dmg\n",
              "0                j          8886         20362         10595\n",
              "1                q          7387         98320         59575\n",
              "2                s          5423          5904           701\n",
              "3                x          3428         23673         16347"
            ]
          },
          "metadata": {
            "tags": []
          },
          "execution_count": 42
        }
      ]
    },
    {
      "cell_type": "markdown",
      "metadata": {
        "id": "FCsAs6IBvb58"
      },
      "source": [
        "## Plot"
      ]
    },
    {
      "cell_type": "code",
      "metadata": {
        "colab": {
          "base_uri": "https://localhost:8080/",
          "height": 540
        },
        "id": "TD83T7O2GP2L",
        "outputId": "c675867e-6286-40c6-8d5a-2f55b9e8265e"
      },
      "source": [
        "fig,ax = plt.subplots(figsize=(15,8))\n",
        "labels = df_dmg_by_othe_floo['other_floor_type']\n",
        "x = np.arange(len(labels))\n",
        "width = 0.2\n",
        "\n",
        "bar1 = ax.bar(x - width, df_dmg_by_othe_floo['cant_low_dmg'], width,\\\n",
        "              label='Daño bajo', color='gold')\n",
        "bar2 = ax.bar(x , df_dmg_by_othe_floo['cant_med_dmg'], width,\\\n",
        "              label='Daño medio', color='orangered')\n",
        "bar3 = ax.bar(x + width, df_dmg_by_othe_floo['cant_hig_dmg'], width,\\\n",
        "              label='Daño alto', color='firebrick')\n",
        "\n",
        "ax.set_title('Daños según tipo de pisos superiores', fontsize=25)\n",
        "ax.set_ylabel('Cantidad', fontsize=20)\n",
        "ax.set_xlabel('Tipo de piso', fontsize=20)\n",
        "ax.set_xticks(x)\n",
        "ax.set_xticklabels(labels)\n",
        "\n",
        "plt.xticks(fontsize=17)\n",
        "plt.yticks(fontsize=17)\n",
        "plt.legend(fontsize=14)\n",
        "\n",
        "plt.grid(axis='y', linewidth=2, color='lightgray')\n",
        "ax.set_axisbelow(True)"
      ],
      "execution_count": 43,
      "outputs": [
        {
          "output_type": "display_data",
          "data": {
            "image/png": "[encoded data removed]",
            "text/plain": [
              "<Figure size 1080x576 with 1 Axes>"
            ]
          },
          "metadata": {
            "tags": [],
            "needs_background": "light"
          }
        }
      ]
    },
    {
      "cell_type": "markdown",
      "metadata": {
        "id": "eZWTPMOTHEw1"
      },
      "source": [
        "# Daños según orientación"
      ]
    },
    {
      "cell_type": "markdown",
      "metadata": {
        "id": "RPBjiqc7uQ4G"
      },
      "source": [
        "## Dataframe de datos pertinentes"
      ]
    },
    {
      "cell_type": "code",
      "metadata": {
        "colab": {
          "base_uri": "https://localhost:8080/",
          "height": 175
        },
        "id": "OjwlzDUjHH9_",
        "outputId": "7d938748-ba61-4b51-e6a3-0a786f9f49b8"
      },
      "source": [
        "df_dmg_by_posi = df\\\n",
        "  .loc[df['damage_grade'] == 1, 'position']\\\n",
        "  .value_counts().to_frame().reset_index()\\\n",
        "  .rename(columns={'index':'position', \\\n",
        "                   'position':'cant_low_dmg'})\n",
        "\n",
        "df_dmg_by_posi"
      ],
      "execution_count": 44,
      "outputs": [
        {
          "output_type": "execute_result",
          "data": {
            "text/html": [
              "<div>\n",
              "<style scoped>\n",
              "    .dataframe tbody tr th:only-of-type {\n",
              "        vertical-align: middle;\n",
              "    }\n",
              "\n",
              "    .dataframe tbody tr th {\n",
              "        vertical-align: top;\n",
              "    }\n",
              "\n",
              "    .dataframe thead th {\n",
              "        text-align: right;\n",
              "    }\n",
              "</style>\n",
              "<table border=\"1\" class=\"dataframe\">\n",
              "  <thead>\n",
              "    <tr style=\"text-align: right;\">\n",
              "      <th></th>\n",
              "      <th>position</th>\n",
              "      <th>cant_low_dmg</th>\n",
              "    </tr>\n",
              "  </thead>\n",
              "  <tbody>\n",
              "    <tr>\n",
              "      <th>0</th>\n",
              "      <td>s</td>\n",
              "      <td>19867</td>\n",
              "    </tr>\n",
              "    <tr>\n",
              "      <th>1</th>\n",
              "      <td>t</td>\n",
              "      <td>3462</td>\n",
              "    </tr>\n",
              "    <tr>\n",
              "      <th>2</th>\n",
              "      <td>j</td>\n",
              "      <td>1675</td>\n",
              "    </tr>\n",
              "    <tr>\n",
              "      <th>3</th>\n",
              "      <td>o</td>\n",
              "      <td>120</td>\n",
              "    </tr>\n",
              "  </tbody>\n",
              "</table>\n",
              "</div>"
            ],
            "text/plain": [
              "  position  cant_low_dmg\n",
              "0        s         19867\n",
              "1        t          3462\n",
              "2        j          1675\n",
              "3        o           120"
            ]
          },
          "metadata": {
            "tags": []
          },
          "execution_count": 44
        }
      ]
    },
    {
      "cell_type": "code",
      "metadata": {
        "colab": {
          "base_uri": "https://localhost:8080/",
          "height": 175
        },
        "id": "i1E0TMkaHUne",
        "outputId": "73e96883-6927-481b-f31e-8fa38950778b"
      },
      "source": [
        "df_dmg_by_posi = df_dmg_by_posi\\\n",
        "  .merge(df\\\n",
        "         .loc[df['damage_grade'] == 2, 'position']\\\n",
        "         .value_counts().to_frame().reset_index()\\\n",
        "         .rename(columns={'index':'position', \\\n",
        "                          'position':'cant_med_dmg'}), \\\n",
        "         on = 'position', how='left')\n",
        "  \n",
        "df_dmg_by_posi"
      ],
      "execution_count": 45,
      "outputs": [
        {
          "output_type": "execute_result",
          "data": {
            "text/html": [
              "<div>\n",
              "<style scoped>\n",
              "    .dataframe tbody tr th:only-of-type {\n",
              "        vertical-align: middle;\n",
              "    }\n",
              "\n",
              "    .dataframe tbody tr th {\n",
              "        vertical-align: top;\n",
              "    }\n",
              "\n",
              "    .dataframe thead th {\n",
              "        text-align: right;\n",
              "    }\n",
              "</style>\n",
              "<table border=\"1\" class=\"dataframe\">\n",
              "  <thead>\n",
              "    <tr style=\"text-align: right;\">\n",
              "      <th></th>\n",
              "      <th>position</th>\n",
              "      <th>cant_low_dmg</th>\n",
              "      <th>cant_med_dmg</th>\n",
              "    </tr>\n",
              "  </thead>\n",
              "  <tbody>\n",
              "    <tr>\n",
              "      <th>0</th>\n",
              "      <td>s</td>\n",
              "      <td>19867</td>\n",
              "      <td>116051</td>\n",
              "    </tr>\n",
              "    <tr>\n",
              "      <th>1</th>\n",
              "      <td>t</td>\n",
              "      <td>3462</td>\n",
              "      <td>22700</td>\n",
              "    </tr>\n",
              "    <tr>\n",
              "      <th>2</th>\n",
              "      <td>j</td>\n",
              "      <td>1675</td>\n",
              "      <td>7899</td>\n",
              "    </tr>\n",
              "    <tr>\n",
              "      <th>3</th>\n",
              "      <td>o</td>\n",
              "      <td>120</td>\n",
              "      <td>1609</td>\n",
              "    </tr>\n",
              "  </tbody>\n",
              "</table>\n",
              "</div>"
            ],
            "text/plain": [
              "  position  cant_low_dmg  cant_med_dmg\n",
              "0        s         19867        116051\n",
              "1        t          3462         22700\n",
              "2        j          1675          7899\n",
              "3        o           120          1609"
            ]
          },
          "metadata": {
            "tags": []
          },
          "execution_count": 45
        }
      ]
    },
    {
      "cell_type": "code",
      "metadata": {
        "colab": {
          "base_uri": "https://localhost:8080/",
          "height": 175
        },
        "id": "v9QhnPbgHfVy",
        "outputId": "6113efe0-fae6-467d-8a12-a653d1a1e09f"
      },
      "source": [
        "df_dmg_by_posi = df_dmg_by_posi\\\n",
        "  .merge(df\\\n",
        "         .loc[df['damage_grade'] == 3, 'position']\\\n",
        "         .value_counts().to_frame().reset_index()\\\n",
        "         .rename(columns={'index':'position', \\\n",
        "                          'position':'cant_hig_dmg'}), \\\n",
        "         on = 'position', how='left')\n",
        "  \n",
        "df_dmg_by_posi"
      ],
      "execution_count": 46,
      "outputs": [
        {
          "output_type": "execute_result",
          "data": {
            "text/html": [
              "<div>\n",
              "<style scoped>\n",
              "    .dataframe tbody tr th:only-of-type {\n",
              "        vertical-align: middle;\n",
              "    }\n",
              "\n",
              "    .dataframe tbody tr th {\n",
              "        vertical-align: top;\n",
              "    }\n",
              "\n",
              "    .dataframe thead th {\n",
              "        text-align: right;\n",
              "    }\n",
              "</style>\n",
              "<table border=\"1\" class=\"dataframe\">\n",
              "  <thead>\n",
              "    <tr style=\"text-align: right;\">\n",
              "      <th></th>\n",
              "      <th>position</th>\n",
              "      <th>cant_low_dmg</th>\n",
              "      <th>cant_med_dmg</th>\n",
              "      <th>cant_hig_dmg</th>\n",
              "    </tr>\n",
              "  </thead>\n",
              "  <tbody>\n",
              "    <tr>\n",
              "      <th>0</th>\n",
              "      <td>s</td>\n",
              "      <td>19867</td>\n",
              "      <td>116051</td>\n",
              "      <td>66172</td>\n",
              "    </tr>\n",
              "    <tr>\n",
              "      <th>1</th>\n",
              "      <td>t</td>\n",
              "      <td>3462</td>\n",
              "      <td>22700</td>\n",
              "      <td>16734</td>\n",
              "    </tr>\n",
              "    <tr>\n",
              "      <th>2</th>\n",
              "      <td>j</td>\n",
              "      <td>1675</td>\n",
              "      <td>7899</td>\n",
              "      <td>3708</td>\n",
              "    </tr>\n",
              "    <tr>\n",
              "      <th>3</th>\n",
              "      <td>o</td>\n",
              "      <td>120</td>\n",
              "      <td>1609</td>\n",
              "      <td>604</td>\n",
              "    </tr>\n",
              "  </tbody>\n",
              "</table>\n",
              "</div>"
            ],
            "text/plain": [
              "  position  cant_low_dmg  cant_med_dmg  cant_hig_dmg\n",
              "0        s         19867        116051         66172\n",
              "1        t          3462         22700         16734\n",
              "2        j          1675          7899          3708\n",
              "3        o           120          1609           604"
            ]
          },
          "metadata": {
            "tags": []
          },
          "execution_count": 46
        }
      ]
    },
    {
      "cell_type": "markdown",
      "metadata": {
        "id": "ylOv-AAHwKs7"
      },
      "source": [
        "## Plot"
      ]
    },
    {
      "cell_type": "code",
      "metadata": {
        "colab": {
          "base_uri": "https://localhost:8080/",
          "height": 540
        },
        "id": "aWaCsLr9HkKu",
        "outputId": "92d77718-ccd3-4062-ca7f-a86da548e1c1"
      },
      "source": [
        "fig,ax = plt.subplots(figsize=(15,8))\n",
        "labels = df_dmg_by_posi['position']\n",
        "x = np.arange(len(labels))\n",
        "width = 0.2\n",
        "\n",
        "bar1 = ax.bar(x - width, df_dmg_by_posi['cant_low_dmg'], width,\\\n",
        "              label='Daño bajo', color='gold')\n",
        "bar2 = ax.bar(x , df_dmg_by_posi['cant_med_dmg'], width,\\\n",
        "              label='Daño medio', color='orangered')\n",
        "bar3 = ax.bar(x + width, df_dmg_by_posi['cant_hig_dmg'], width,\\\n",
        "              label='Daño alto', color='firebrick')\n",
        "\n",
        "ax.set_title('Daños según orientación', fontsize=25)\n",
        "ax.set_ylabel('Cantidad', fontsize=20)\n",
        "ax.set_xlabel('Orientación', fontsize=20)\n",
        "ax.set_xticks(x)\n",
        "ax.set_xticklabels(labels)\n",
        "\n",
        "plt.xticks(fontsize=17)\n",
        "plt.yticks(fontsize=17)\n",
        "plt.legend(fontsize=14)\n",
        "\n",
        "plt.grid(axis='y', linewidth=2, color='lightgray')\n",
        "ax.set_axisbelow(True)"
      ],
      "execution_count": 47,
      "outputs": [
        {
          "output_type": "display_data",
          "data": {
            "image/png": "[encoded data removed]",
            "text/plain": [
              "<Figure size 1080x576 with 1 Axes>"
            ]
          },
          "metadata": {
            "tags": [],
            "needs_background": "light"
          }
        }
      ]
    },
    {
      "cell_type": "markdown",
      "metadata": {
        "id": "hHkNj3bWINaM"
      },
      "source": [
        "# Daños según configuración de construcción para diseño sísmico"
      ]
    },
    {
      "cell_type": "markdown",
      "metadata": {
        "id": "LApvSdgruSm4"
      },
      "source": [
        "## Dataframe de datos pertinentes"
      ]
    },
    {
      "cell_type": "code",
      "metadata": {
        "colab": {
          "base_uri": "https://localhost:8080/",
          "height": 363
        },
        "id": "2R_FqtFxITpl",
        "outputId": "1000d17d-1e94-4a30-c827-c3e4cbb80d18"
      },
      "source": [
        "df_dmg_by_plan_conf = df\\\n",
        "  .loc[df['damage_grade'] == 1, 'plan_configuration']\\\n",
        "  .value_counts().to_frame().reset_index()\\\n",
        "  .rename(columns={'index':'plan_configuration', \\\n",
        "                   'plan_configuration':'cant_low_dmg'})\n",
        "\n",
        "df_dmg_by_plan_conf"
      ],
      "execution_count": 62,
      "outputs": [
        {
          "output_type": "execute_result",
          "data": {
            "text/html": [
              "<div>\n",
              "<style scoped>\n",
              "    .dataframe tbody tr th:only-of-type {\n",
              "        vertical-align: middle;\n",
              "    }\n",
              "\n",
              "    .dataframe tbody tr th {\n",
              "        vertical-align: top;\n",
              "    }\n",
              "\n",
              "    .dataframe thead th {\n",
              "        text-align: right;\n",
              "    }\n",
              "</style>\n",
              "<table border=\"1\" class=\"dataframe\">\n",
              "  <thead>\n",
              "    <tr style=\"text-align: right;\">\n",
              "      <th></th>\n",
              "      <th>plan_configuration</th>\n",
              "      <th>cant_low_dmg</th>\n",
              "    </tr>\n",
              "  </thead>\n",
              "  <tbody>\n",
              "    <tr>\n",
              "      <th>0</th>\n",
              "      <td>d</td>\n",
              "      <td>23310</td>\n",
              "    </tr>\n",
              "    <tr>\n",
              "      <th>1</th>\n",
              "      <td>q</td>\n",
              "      <td>781</td>\n",
              "    </tr>\n",
              "    <tr>\n",
              "      <th>2</th>\n",
              "      <td>u</td>\n",
              "      <td>774</td>\n",
              "    </tr>\n",
              "    <tr>\n",
              "      <th>3</th>\n",
              "      <td>c</td>\n",
              "      <td>86</td>\n",
              "    </tr>\n",
              "    <tr>\n",
              "      <th>4</th>\n",
              "      <td>a</td>\n",
              "      <td>66</td>\n",
              "    </tr>\n",
              "    <tr>\n",
              "      <th>5</th>\n",
              "      <td>s</td>\n",
              "      <td>53</td>\n",
              "    </tr>\n",
              "    <tr>\n",
              "      <th>6</th>\n",
              "      <td>o</td>\n",
              "      <td>40</td>\n",
              "    </tr>\n",
              "    <tr>\n",
              "      <th>7</th>\n",
              "      <td>m</td>\n",
              "      <td>8</td>\n",
              "    </tr>\n",
              "    <tr>\n",
              "      <th>8</th>\n",
              "      <td>n</td>\n",
              "      <td>6</td>\n",
              "    </tr>\n",
              "    <tr>\n",
              "      <th>9</th>\n",
              "      <td>f</td>\n",
              "      <td>0</td>\n",
              "    </tr>\n",
              "  </tbody>\n",
              "</table>\n",
              "</div>"
            ],
            "text/plain": [
              "  plan_configuration  cant_low_dmg\n",
              "0                  d         23310\n",
              "1                  q           781\n",
              "2                  u           774\n",
              "3                  c            86\n",
              "4                  a            66\n",
              "5                  s            53\n",
              "6                  o            40\n",
              "7                  m             8\n",
              "8                  n             6\n",
              "9                  f             0"
            ]
          },
          "metadata": {
            "tags": []
          },
          "execution_count": 62
        }
      ]
    },
    {
      "cell_type": "code",
      "metadata": {
        "colab": {
          "base_uri": "https://localhost:8080/",
          "height": 363
        },
        "id": "wqVudNLtIqG-",
        "outputId": "2ed76af9-58d7-41a8-df0a-41ec90c884ac"
      },
      "source": [
        "df_dmg_by_plan_conf = df_dmg_by_plan_conf\\\n",
        "  .merge(df\\\n",
        "         .loc[df['damage_grade'] == 2, 'plan_configuration']\\\n",
        "         .value_counts().to_frame().reset_index()\\\n",
        "         .rename(columns={'index':'plan_configuration', \\\n",
        "                          'plan_configuration':'cant_med_dmg'}), \\\n",
        "         on = 'plan_configuration', how='left')\n",
        "  \n",
        "df_dmg_by_plan_conf"
      ],
      "execution_count": 63,
      "outputs": [
        {
          "output_type": "execute_result",
          "data": {
            "text/html": [
              "<div>\n",
              "<style scoped>\n",
              "    .dataframe tbody tr th:only-of-type {\n",
              "        vertical-align: middle;\n",
              "    }\n",
              "\n",
              "    .dataframe tbody tr th {\n",
              "        vertical-align: top;\n",
              "    }\n",
              "\n",
              "    .dataframe thead th {\n",
              "        text-align: right;\n",
              "    }\n",
              "</style>\n",
              "<table border=\"1\" class=\"dataframe\">\n",
              "  <thead>\n",
              "    <tr style=\"text-align: right;\">\n",
              "      <th></th>\n",
              "      <th>plan_configuration</th>\n",
              "      <th>cant_low_dmg</th>\n",
              "      <th>cant_med_dmg</th>\n",
              "    </tr>\n",
              "  </thead>\n",
              "  <tbody>\n",
              "    <tr>\n",
              "      <th>0</th>\n",
              "      <td>d</td>\n",
              "      <td>23310</td>\n",
              "      <td>142523</td>\n",
              "    </tr>\n",
              "    <tr>\n",
              "      <th>1</th>\n",
              "      <td>q</td>\n",
              "      <td>781</td>\n",
              "      <td>2585</td>\n",
              "    </tr>\n",
              "    <tr>\n",
              "      <th>2</th>\n",
              "      <td>u</td>\n",
              "      <td>774</td>\n",
              "      <td>2399</td>\n",
              "    </tr>\n",
              "    <tr>\n",
              "      <th>3</th>\n",
              "      <td>c</td>\n",
              "      <td>86</td>\n",
              "      <td>206</td>\n",
              "    </tr>\n",
              "    <tr>\n",
              "      <th>4</th>\n",
              "      <td>a</td>\n",
              "      <td>66</td>\n",
              "      <td>157</td>\n",
              "    </tr>\n",
              "    <tr>\n",
              "      <th>5</th>\n",
              "      <td>s</td>\n",
              "      <td>53</td>\n",
              "      <td>223</td>\n",
              "    </tr>\n",
              "    <tr>\n",
              "      <th>6</th>\n",
              "      <td>o</td>\n",
              "      <td>40</td>\n",
              "      <td>96</td>\n",
              "    </tr>\n",
              "    <tr>\n",
              "      <th>7</th>\n",
              "      <td>m</td>\n",
              "      <td>8</td>\n",
              "      <td>34</td>\n",
              "    </tr>\n",
              "    <tr>\n",
              "      <th>8</th>\n",
              "      <td>n</td>\n",
              "      <td>6</td>\n",
              "      <td>20</td>\n",
              "    </tr>\n",
              "    <tr>\n",
              "      <th>9</th>\n",
              "      <td>f</td>\n",
              "      <td>0</td>\n",
              "      <td>16</td>\n",
              "    </tr>\n",
              "  </tbody>\n",
              "</table>\n",
              "</div>"
            ],
            "text/plain": [
              "  plan_configuration  cant_low_dmg  cant_med_dmg\n",
              "0                  d         23310        142523\n",
              "1                  q           781          2585\n",
              "2                  u           774          2399\n",
              "3                  c            86           206\n",
              "4                  a            66           157\n",
              "5                  s            53           223\n",
              "6                  o            40            96\n",
              "7                  m             8            34\n",
              "8                  n             6            20\n",
              "9                  f             0            16"
            ]
          },
          "metadata": {
            "tags": []
          },
          "execution_count": 63
        }
      ]
    },
    {
      "cell_type": "code",
      "metadata": {
        "colab": {
          "base_uri": "https://localhost:8080/",
          "height": 363
        },
        "id": "MoGQNfgoI35G",
        "outputId": "cabd1149-e03e-4d3a-e58e-4a62c4abe674"
      },
      "source": [
        "df_dmg_by_plan_conf = df_dmg_by_plan_conf\\\n",
        "  .merge(df\\\n",
        "         .loc[df['damage_grade'] == 3, 'plan_configuration']\\\n",
        "         .value_counts().to_frame().reset_index()\\\n",
        "         .rename(columns={'index':'plan_configuration', \\\n",
        "                          'plan_configuration':'cant_hig_dmg'}), \\\n",
        "         on = 'plan_configuration', how='left')\n",
        "  \n",
        "df_dmg_by_plan_conf"
      ],
      "execution_count": 64,
      "outputs": [
        {
          "output_type": "execute_result",
          "data": {
            "text/html": [
              "<div>\n",
              "<style scoped>\n",
              "    .dataframe tbody tr th:only-of-type {\n",
              "        vertical-align: middle;\n",
              "    }\n",
              "\n",
              "    .dataframe tbody tr th {\n",
              "        vertical-align: top;\n",
              "    }\n",
              "\n",
              "    .dataframe thead th {\n",
              "        text-align: right;\n",
              "    }\n",
              "</style>\n",
              "<table border=\"1\" class=\"dataframe\">\n",
              "  <thead>\n",
              "    <tr style=\"text-align: right;\">\n",
              "      <th></th>\n",
              "      <th>plan_configuration</th>\n",
              "      <th>cant_low_dmg</th>\n",
              "      <th>cant_med_dmg</th>\n",
              "      <th>cant_hig_dmg</th>\n",
              "    </tr>\n",
              "  </thead>\n",
              "  <tbody>\n",
              "    <tr>\n",
              "      <th>0</th>\n",
              "      <td>d</td>\n",
              "      <td>23310</td>\n",
              "      <td>142523</td>\n",
              "      <td>84239</td>\n",
              "    </tr>\n",
              "    <tr>\n",
              "      <th>1</th>\n",
              "      <td>q</td>\n",
              "      <td>781</td>\n",
              "      <td>2585</td>\n",
              "      <td>2326</td>\n",
              "    </tr>\n",
              "    <tr>\n",
              "      <th>2</th>\n",
              "      <td>u</td>\n",
              "      <td>774</td>\n",
              "      <td>2399</td>\n",
              "      <td>476</td>\n",
              "    </tr>\n",
              "    <tr>\n",
              "      <th>3</th>\n",
              "      <td>c</td>\n",
              "      <td>86</td>\n",
              "      <td>206</td>\n",
              "      <td>33</td>\n",
              "    </tr>\n",
              "    <tr>\n",
              "      <th>4</th>\n",
              "      <td>a</td>\n",
              "      <td>66</td>\n",
              "      <td>157</td>\n",
              "      <td>29</td>\n",
              "    </tr>\n",
              "    <tr>\n",
              "      <th>5</th>\n",
              "      <td>s</td>\n",
              "      <td>53</td>\n",
              "      <td>223</td>\n",
              "      <td>70</td>\n",
              "    </tr>\n",
              "    <tr>\n",
              "      <th>6</th>\n",
              "      <td>o</td>\n",
              "      <td>40</td>\n",
              "      <td>96</td>\n",
              "      <td>23</td>\n",
              "    </tr>\n",
              "    <tr>\n",
              "      <th>7</th>\n",
              "      <td>m</td>\n",
              "      <td>8</td>\n",
              "      <td>34</td>\n",
              "      <td>4</td>\n",
              "    </tr>\n",
              "    <tr>\n",
              "      <th>8</th>\n",
              "      <td>n</td>\n",
              "      <td>6</td>\n",
              "      <td>20</td>\n",
              "      <td>12</td>\n",
              "    </tr>\n",
              "    <tr>\n",
              "      <th>9</th>\n",
              "      <td>f</td>\n",
              "      <td>0</td>\n",
              "      <td>16</td>\n",
              "      <td>6</td>\n",
              "    </tr>\n",
              "  </tbody>\n",
              "</table>\n",
              "</div>"
            ],
            "text/plain": [
              "  plan_configuration  cant_low_dmg  cant_med_dmg  cant_hig_dmg\n",
              "0                  d         23310        142523         84239\n",
              "1                  q           781          2585          2326\n",
              "2                  u           774          2399           476\n",
              "3                  c            86           206            33\n",
              "4                  a            66           157            29\n",
              "5                  s            53           223            70\n",
              "6                  o            40            96            23\n",
              "7                  m             8            34             4\n",
              "8                  n             6            20            12\n",
              "9                  f             0            16             6"
            ]
          },
          "metadata": {
            "tags": []
          },
          "execution_count": 64
        }
      ]
    },
    {
      "cell_type": "markdown",
      "metadata": {
        "id": "1sy3xnBCweOD"
      },
      "source": [
        "## Plot"
      ]
    },
    {
      "cell_type": "code",
      "metadata": {
        "colab": {
          "base_uri": "https://localhost:8080/",
          "height": 569
        },
        "id": "QTWBYh8wI9Xw",
        "outputId": "281bb124-72a0-49e7-83e6-f10b6e0da3f1"
      },
      "source": [
        "fig,ax = plt.subplots(figsize=(15,8))\n",
        "labels = df_dmg_by_plan_conf['plan_configuration']\n",
        "x = np.arange(len(labels))\n",
        "width = 0.2\n",
        "\n",
        "bar1 = ax.bar(x - width, df_dmg_by_plan_conf['cant_low_dmg'], width,\\\n",
        "              label='Daño bajo', color='gold', edgecolor='goldenrod')\n",
        "bar2 = ax.bar(x , df_dmg_by_plan_conf['cant_med_dmg'], width,\\\n",
        "              label='Daño medio', color='orangered')\n",
        "bar3 = ax.bar(x + width, df_dmg_by_plan_conf['cant_hig_dmg'], width,\\\n",
        "              label='Daño alto', color='firebrick')\n",
        "\n",
        "title = '''Daños según formato de construcción\n",
        "(para diseño sísmico)'''\n",
        "ax.set_title(title, fontsize=25)\n",
        "ax.set_ylabel('Cantidad', fontsize=20)\n",
        "ax.set_xlabel('Formato', fontsize=20)\n",
        "ax.set_xticks(x)\n",
        "ax.set_xticklabels(labels)\n",
        "\n",
        "plt.xticks(fontsize=17)\n",
        "plt.yticks(fontsize=17)\n",
        "plt.legend(fontsize=14)\n",
        "\n",
        "plt.grid(axis='y', linewidth=2, color='lightgray')\n",
        "ax.set_axisbelow(True)"
      ],
      "execution_count": 51,
      "outputs": [
        {
          "output_type": "display_data",
          "data": {
            "image/png": "[encoded data removed]",
            "text/plain": [
              "<Figure size 1080x576 with 1 Axes>"
            ]
          },
          "metadata": {
            "tags": [],
            "needs_background": "light"
          }
        }
      ]
    },
    {
      "cell_type": "markdown",
      "metadata": {
        "id": "OtyVTagaKb8o"
      },
      "source": [
        "El formato `d` tiene mucho peso comparado con los demás."
      ]
    },
    {
      "cell_type": "markdown",
      "metadata": {
        "id": "Gye-UzfFxnTu"
      },
      "source": [
        "## Dataframe con formatos de construcción `q, u`"
      ]
    },
    {
      "cell_type": "code",
      "metadata": {
        "colab": {
          "base_uri": "https://localhost:8080/",
          "height": 112
        },
        "id": "ZwF624gKxuiv",
        "outputId": "92e40a81-7b18-4032-9779-db75b20a93b7"
      },
      "source": [
        "df_dmg_by_plan_conf_part1 = df_dmg_by_plan_conf.loc[(df_dmg_by_plan_conf['plan_configuration'] == 'q') | \\\n",
        "                                                    (df_dmg_by_plan_conf['plan_configuration'] == 'u')]\n",
        "df_dmg_by_plan_conf_part1"
      ],
      "execution_count": 74,
      "outputs": [
        {
          "output_type": "execute_result",
          "data": {
            "text/html": [
              "<div>\n",
              "<style scoped>\n",
              "    .dataframe tbody tr th:only-of-type {\n",
              "        vertical-align: middle;\n",
              "    }\n",
              "\n",
              "    .dataframe tbody tr th {\n",
              "        vertical-align: top;\n",
              "    }\n",
              "\n",
              "    .dataframe thead th {\n",
              "        text-align: right;\n",
              "    }\n",
              "</style>\n",
              "<table border=\"1\" class=\"dataframe\">\n",
              "  <thead>\n",
              "    <tr style=\"text-align: right;\">\n",
              "      <th></th>\n",
              "      <th>plan_configuration</th>\n",
              "      <th>cant_low_dmg</th>\n",
              "      <th>cant_med_dmg</th>\n",
              "      <th>cant_hig_dmg</th>\n",
              "    </tr>\n",
              "  </thead>\n",
              "  <tbody>\n",
              "    <tr>\n",
              "      <th>1</th>\n",
              "      <td>q</td>\n",
              "      <td>781</td>\n",
              "      <td>2585</td>\n",
              "      <td>2326</td>\n",
              "    </tr>\n",
              "    <tr>\n",
              "      <th>2</th>\n",
              "      <td>u</td>\n",
              "      <td>774</td>\n",
              "      <td>2399</td>\n",
              "      <td>476</td>\n",
              "    </tr>\n",
              "  </tbody>\n",
              "</table>\n",
              "</div>"
            ],
            "text/plain": [
              "  plan_configuration  cant_low_dmg  cant_med_dmg  cant_hig_dmg\n",
              "1                  q           781          2585          2326\n",
              "2                  u           774          2399           476"
            ]
          },
          "metadata": {
            "tags": []
          },
          "execution_count": 74
        }
      ]
    },
    {
      "cell_type": "markdown",
      "metadata": {
        "id": "qIrRJA_fzRuA"
      },
      "source": [
        "## Plot b"
      ]
    },
    {
      "cell_type": "code",
      "metadata": {
        "colab": {
          "base_uri": "https://localhost:8080/",
          "height": 569
        },
        "id": "uzhz4YKRzTff",
        "outputId": "dad1fe54-a959-4343-cafc-85b451d16817"
      },
      "source": [
        "fig,ax = plt.subplots(figsize=(15,8))\n",
        "labels = df_dmg_by_plan_conf_part1['plan_configuration']\n",
        "x = np.arange(len(labels))\n",
        "width = 0.1\n",
        "\n",
        "bar1 = ax.bar(x - width, df_dmg_by_plan_conf_part1['cant_low_dmg'], width,\\\n",
        "              label='Daño bajo', color='gold', edgecolor='goldenrod')\n",
        "bar2 = ax.bar(x , df_dmg_by_plan_conf_part1['cant_med_dmg'], width,\\\n",
        "              label='Daño medio', color='orangered')\n",
        "bar3 = ax.bar(x + width, df_dmg_by_plan_conf_part1['cant_hig_dmg'], width,\\\n",
        "              label='Daño alto', color='firebrick')\n",
        "\n",
        "title = '''Daños según formato de construcción\n",
        "(para diseño sísmico)'''\n",
        "ax.set_title(title, fontsize=25)\n",
        "ax.set_ylabel('Cantidad', fontsize=20)\n",
        "ax.set_xlabel('Formato', fontsize=20)\n",
        "ax.set_xticks(x)\n",
        "ax.set_xticklabels(labels)\n",
        "\n",
        "plt.xticks(fontsize=17)\n",
        "plt.yticks(fontsize=17)\n",
        "plt.legend(fontsize=14)\n",
        "\n",
        "plt.grid(axis='y', linewidth=2, color='lightgray')\n",
        "ax.set_axisbelow(True)"
      ],
      "execution_count": 84,
      "outputs": [
        {
          "output_type": "display_data",
          "data": {
            "image/png": "[encoded data removed]",
            "text/plain": [
              "<Figure size 1080x576 with 1 Axes>"
            ]
          },
          "metadata": {
            "tags": [],
            "needs_background": "light"
          }
        }
      ]
    },
    {
      "cell_type": "markdown",
      "metadata": {
        "id": "KzhpzJ7QxAjY"
      },
      "source": [
        "## Dataframe sin formato de construcción `d, q, u`"
      ]
    },
    {
      "cell_type": "code",
      "metadata": {
        "colab": {
          "base_uri": "https://localhost:8080/",
          "height": 269
        },
        "id": "9Xm9INWyzERu",
        "outputId": "c0e0af5d-a4eb-4f30-d5b3-feb1439a6cd8"
      },
      "source": [
        "df_dmg_by_plan_conf_part2 = df_dmg_by_plan_conf.drop([0, 1, 2])\n",
        "df_dmg_by_plan_conf_part2"
      ],
      "execution_count": 76,
      "outputs": [
        {
          "output_type": "execute_result",
          "data": {
            "text/html": [
              "<div>\n",
              "<style scoped>\n",
              "    .dataframe tbody tr th:only-of-type {\n",
              "        vertical-align: middle;\n",
              "    }\n",
              "\n",
              "    .dataframe tbody tr th {\n",
              "        vertical-align: top;\n",
              "    }\n",
              "\n",
              "    .dataframe thead th {\n",
              "        text-align: right;\n",
              "    }\n",
              "</style>\n",
              "<table border=\"1\" class=\"dataframe\">\n",
              "  <thead>\n",
              "    <tr style=\"text-align: right;\">\n",
              "      <th></th>\n",
              "      <th>plan_configuration</th>\n",
              "      <th>cant_low_dmg</th>\n",
              "      <th>cant_med_dmg</th>\n",
              "      <th>cant_hig_dmg</th>\n",
              "    </tr>\n",
              "  </thead>\n",
              "  <tbody>\n",
              "    <tr>\n",
              "      <th>3</th>\n",
              "      <td>c</td>\n",
              "      <td>86</td>\n",
              "      <td>206</td>\n",
              "      <td>33</td>\n",
              "    </tr>\n",
              "    <tr>\n",
              "      <th>4</th>\n",
              "      <td>a</td>\n",
              "      <td>66</td>\n",
              "      <td>157</td>\n",
              "      <td>29</td>\n",
              "    </tr>\n",
              "    <tr>\n",
              "      <th>5</th>\n",
              "      <td>s</td>\n",
              "      <td>53</td>\n",
              "      <td>223</td>\n",
              "      <td>70</td>\n",
              "    </tr>\n",
              "    <tr>\n",
              "      <th>6</th>\n",
              "      <td>o</td>\n",
              "      <td>40</td>\n",
              "      <td>96</td>\n",
              "      <td>23</td>\n",
              "    </tr>\n",
              "    <tr>\n",
              "      <th>7</th>\n",
              "      <td>m</td>\n",
              "      <td>8</td>\n",
              "      <td>34</td>\n",
              "      <td>4</td>\n",
              "    </tr>\n",
              "    <tr>\n",
              "      <th>8</th>\n",
              "      <td>n</td>\n",
              "      <td>6</td>\n",
              "      <td>20</td>\n",
              "      <td>12</td>\n",
              "    </tr>\n",
              "    <tr>\n",
              "      <th>9</th>\n",
              "      <td>f</td>\n",
              "      <td>0</td>\n",
              "      <td>16</td>\n",
              "      <td>6</td>\n",
              "    </tr>\n",
              "  </tbody>\n",
              "</table>\n",
              "</div>"
            ],
            "text/plain": [
              "  plan_configuration  cant_low_dmg  cant_med_dmg  cant_hig_dmg\n",
              "3                  c            86           206            33\n",
              "4                  a            66           157            29\n",
              "5                  s            53           223            70\n",
              "6                  o            40            96            23\n",
              "7                  m             8            34             4\n",
              "8                  n             6            20            12\n",
              "9                  f             0            16             6"
            ]
          },
          "metadata": {
            "tags": []
          },
          "execution_count": 76
        }
      ]
    },
    {
      "cell_type": "markdown",
      "metadata": {
        "id": "QbEfkZISzvCa"
      },
      "source": [
        "## Plot c"
      ]
    },
    {
      "cell_type": "code",
      "metadata": {
        "colab": {
          "base_uri": "https://localhost:8080/",
          "height": 569
        },
        "id": "HNKaK-sGzwyR",
        "outputId": "fd488f6b-a082-4042-8165-36f69904fe74"
      },
      "source": [
        "fig,ax = plt.subplots(figsize=(15,8))\n",
        "labels = df_dmg_by_plan_conf_part2['plan_configuration']\n",
        "x = np.arange(len(labels))\n",
        "width = 0.2\n",
        "\n",
        "bar1 = ax.bar(x - width, df_dmg_by_plan_conf_part2['cant_low_dmg'], width,\\\n",
        "              label='Daño bajo', color='gold', edgecolor='goldenrod')\n",
        "bar2 = ax.bar(x , df_dmg_by_plan_conf_part2['cant_med_dmg'], width,\\\n",
        "              label='Daño medio', color='orangered')\n",
        "bar3 = ax.bar(x + width, df_dmg_by_plan_conf_part2['cant_hig_dmg'], width,\\\n",
        "              label='Daño alto', color='firebrick')\n",
        "\n",
        "title = '''Daños según formato de construcción\n",
        "(para diseño sísmico)'''\n",
        "ax.set_title(title, fontsize=25)\n",
        "ax.set_ylabel('Cantidad', fontsize=20)\n",
        "ax.set_xlabel('Formato', fontsize=20)\n",
        "ax.set_xticks(x)\n",
        "ax.set_xticklabels(labels)\n",
        "\n",
        "plt.xticks(fontsize=17)\n",
        "plt.yticks(fontsize=17)\n",
        "plt.legend(fontsize=14)\n",
        "\n",
        "plt.grid(axis='y', linewidth=2, color='lightgray')\n",
        "ax.set_axisbelow(True)"
      ],
      "execution_count": 77,
      "outputs": [
        {
          "output_type": "display_data",
          "data": {
            "image/png": "[encoded data removed]",
            "text/plain": [
              "<Figure size 1080x576 with 1 Axes>"
            ]
          },
          "metadata": {
            "tags": [],
            "needs_background": "light"
          }
        }
      ]
    }
  ]
}