{
  "nbformat": 4,
  "nbformat_minor": 0,
  "metadata": {
    "colab": {
      "name": "OneHot_Ecoding.ipynb",
      "provenance": [],
      "collapsed_sections": [],
      "authorship_tag": "ABX9TyNpWhX+HIDz87F3FmPxZm43",
      "include_colab_link": true
    },
    "kernelspec": {
      "name": "python3",
      "display_name": "Python 3"
    },
    "language_info": {
      "name": "python"
    }
  },
  "cells": [
    {
      "cell_type": "markdown",
      "metadata": {
        "id": "view-in-github",
        "colab_type": "text"
      },
      "source": [
        "<a href=\"https://colab.research.google.com/github/ffelfis/OrgaDatosTPs/blob/main/TP2/resources/OneHot_Ecoding.ipynb\" target=\"_parent\"><img src=\"https://colab.research.google.com/assets/colab-badge.svg\" alt=\"Open In Colab\"/></a>"
      ]
    },
    {
      "cell_type": "markdown",
      "metadata": {
        "id": "_DrbBu-tiSyC"
      },
      "source": [
        "# Lectura de datos de Google Drive"
      ]
    },
    {
      "cell_type": "code",
      "metadata": {
        "colab": {
          "base_uri": "https://localhost:8080/"
        },
        "id": "1F_f9l63h-ej",
        "outputId": "7186daf4-3040-4756-fb7d-0d234ccb2eca"
      },
      "source": [
        "# Lectura de Dataset desde Google Drive\n",
        "from google.colab import drive\n",
        "drive.mount('/content/drive')"
      ],
      "execution_count": 1,
      "outputs": [
        {
          "output_type": "stream",
          "text": [
            "Mounted at /content/drive\n"
          ],
          "name": "stdout"
        }
      ]
    },
    {
      "cell_type": "markdown",
      "metadata": {
        "id": "phUPpKV5ie5n"
      },
      "source": [
        "# Carga de librerías y directorios"
      ]
    },
    {
      "cell_type": "code",
      "metadata": {
        "id": "jhFuDtsTifvX"
      },
      "source": [
        "import pandas as pd\n",
        "import numpy as np\n",
        "\n",
        "# Encoder\n",
        "from sklearn.preprocessing import OneHotEncoder\n",
        "# Para armar el Dataframe con las columnas codificadas\n",
        "from sklearn.compose import make_column_transformer"
      ],
      "execution_count": 2,
      "outputs": []
    },
    {
      "cell_type": "markdown",
      "metadata": {
        "id": "0sINS71mixTT"
      },
      "source": [
        "# Rutas de los archivos a usar"
      ]
    },
    {
      "cell_type": "code",
      "metadata": {
        "id": "wCBPCSsUisx2"
      },
      "source": [
        "# Ruta train_values.csv\n",
        "dir_values = '/content/drive/My Drive/75.06 - Organización de Datos/TP1/Data/train_values.csv'\n",
        "# Ruta test_values.csv\n",
        "dir_test = '/content/drive/My Drive/75.06 - Organización de Datos/TP1/Data/test_values.csv'"
      ],
      "execution_count": 3,
      "outputs": []
    },
    {
      "cell_type": "markdown",
      "metadata": {
        "id": "U10d9Z3cjmEn"
      },
      "source": [
        "# Carga de datos"
      ]
    },
    {
      "cell_type": "code",
      "metadata": {
        "id": "LqdaZmKvjqoc"
      },
      "source": [
        "# Columnas categóricas\n",
        "columnas = ['land_surface_condition', 'foundation_type', 'roof_type', \n",
        "            'ground_floor_type', 'other_floor_type', \n",
        "            'position', 'plan_configuration', 'legal_ownership_status']\n",
        "\n",
        "# Carga de train_values.csv\n",
        "train = pd.read_csv(dir_values, usecols=columnas, dtype='category')\n",
        "# Carga de test_values.csv\n",
        "test = pd.read_csv(dir_test, usecols=columnas, dtype='category')"
      ],
      "execution_count": 4,
      "outputs": []
    },
    {
      "cell_type": "markdown",
      "metadata": {
        "id": "2pZ4svE1j-z4"
      },
      "source": [
        "### Valores de categorías"
      ]
    },
    {
      "cell_type": "code",
      "metadata": {
        "colab": {
          "base_uri": "https://localhost:8080/"
        },
        "id": "dQGcyzOxjbEB",
        "outputId": "d30e8d2f-3cc8-4971-8d2c-feaaf97f87ef"
      },
      "source": [
        "train.dtypes.values"
      ],
      "execution_count": 5,
      "outputs": [
        {
          "output_type": "execute_result",
          "data": {
            "text/plain": [
              "array([CategoricalDtype(categories=['n', 'o', 't'], ordered=False),\n",
              "       CategoricalDtype(categories=['h', 'i', 'r', 'u', 'w'], ordered=False),\n",
              "       CategoricalDtype(categories=['n', 'q', 'x'], ordered=False),\n",
              "       CategoricalDtype(categories=['f', 'm', 'v', 'x', 'z'], ordered=False),\n",
              "       CategoricalDtype(categories=['j', 'q', 's', 'x'], ordered=False),\n",
              "       CategoricalDtype(categories=['j', 'o', 's', 't'], ordered=False),\n",
              "       CategoricalDtype(categories=['a', 'c', 'd', 'f', 'm', 'n', 'o', 'q', 's', 'u'], ordered=False),\n",
              "       CategoricalDtype(categories=['a', 'r', 'v', 'w'], ordered=False)],\n",
              "      dtype=object)"
            ]
          },
          "metadata": {
            "tags": []
          },
          "execution_count": 5
        }
      ]
    },
    {
      "cell_type": "markdown",
      "metadata": {
        "id": "4WTWvY3Dku36"
      },
      "source": [
        "# Train"
      ]
    },
    {
      "cell_type": "markdown",
      "metadata": {
        "id": "tWtOfafd9ZhK"
      },
      "source": [
        "### Codificación de columnas categóricas\n",
        "\n",
        "```\n",
        "column_transformer = make_column_transformer((OneHotEncoder(sparse=False), train.columns), remainder='passthrough')\n",
        "```\n",
        "Se pasa (Codificador, columnas a codificar), `remainder` establece qué hacer con el resto de las columnas.\n",
        "\n",
        "Si no hubiera más columnas para modificar, con `'passtrough'` se omiten.\n",
        "\n"
      ]
    },
    {
      "cell_type": "code",
      "metadata": {
        "id": "T31Msyxoz4kn"
      },
      "source": [
        "# Transformador de columnas.\n",
        "column_transformer = make_column_transformer((OneHotEncoder(sparse=False), train.columns), remainder='passthrough')"
      ],
      "execution_count": 6,
      "outputs": []
    },
    {
      "cell_type": "markdown",
      "metadata": {
        "id": "ZjOrbeGw5-ec"
      },
      "source": [
        "### Prefijos para columnas generadas por One Hot Encoding\n",
        "```\n",
        "'S_' : 'land_surface_condition'\n",
        "'F_' : 'foundation_type'\n",
        "'R_' : 'roof_type'\n",
        "'G_' : 'ground_floor_type'\n",
        "'O_' : 'other_floor_type'\n",
        "'P_' : 'position'\n",
        "'C_' : 'plan_configuration'\n",
        "'L_' : 'legal_ownership_status'\n",
        "```"
      ]
    },
    {
      "cell_type": "code",
      "metadata": {
        "id": "TTCtqNxW26eV"
      },
      "source": [
        "# Nombres (índice) para columnas codificadas\n",
        "categories = ['S_n', 'S_o', 'S_t',\n",
        "              'F_h', 'F_i', 'F_r', 'F_u', 'F_w',\n",
        "              'R_n', 'R_q', 'R_x',\n",
        "              'G_f', 'G_m', 'G_v', 'G_x', 'G_z',\n",
        "              'O_j', 'O_q', 'O_s', 'O_x',\n",
        "              'P_j', 'P_o', 'P_s', 'P_t',\n",
        "              'C_a', 'C_c', 'C_d', 'C_f', 'C_m', 'C_n', 'C_o', 'C_q', 'C_s', 'C_u',\n",
        "              'L_a', 'L_r', 'L_v', 'L_w']"
      ],
      "execution_count": 7,
      "outputs": []
    },
    {
      "cell_type": "code",
      "metadata": {
        "id": "PcH0ODy42X3f"
      },
      "source": [
        "df_ohe = pd.DataFrame(columns=categories, data=column_transformer.fit_transform(train), dtype='uint8')"
      ],
      "execution_count": 8,
      "outputs": []
    },
    {
      "cell_type": "code",
      "metadata": {
        "id": "C1prP6riK_7J"
      },
      "source": [
        "df_ohe.to_csv('OHE_train.csv', index=False)"
      ],
      "execution_count": 9,
      "outputs": []
    },
    {
      "cell_type": "markdown",
      "metadata": {
        "id": "XGaSxpyGxq2l"
      },
      "source": [
        "# Test"
      ]
    },
    {
      "cell_type": "markdown",
      "metadata": {
        "id": "Kw2q6-K58Y_q"
      },
      "source": [
        "Todas las categorías se usan al menos una vez, por lo que se puede usar el mismo encoder de antes."
      ]
    },
    {
      "cell_type": "code",
      "metadata": {
        "id": "EpX_Ipm-7ZFK"
      },
      "source": [
        "df_ohe = pd.DataFrame(columns=categories, data=column_transformer.fit_transform(test), dtype='uint8')"
      ],
      "execution_count": 10,
      "outputs": []
    },
    {
      "cell_type": "code",
      "metadata": {
        "id": "qjWP-2X7ySKk"
      },
      "source": [
        "df_ohe.to_csv('OHE_test.csv', index=False)"
      ],
      "execution_count": 11,
      "outputs": []
    }
  ]
}